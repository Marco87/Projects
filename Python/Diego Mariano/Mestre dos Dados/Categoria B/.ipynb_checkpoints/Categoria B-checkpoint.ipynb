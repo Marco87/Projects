{
 "cells": [
  {
   "cell_type": "code",
   "execution_count": 4,
   "metadata": {},
   "outputs": [],
   "source": [
    "import pandas as pd"
   ]
  },
  {
   "cell_type": "code",
   "execution_count": 34,
   "metadata": {},
   "outputs": [],
   "source": [
    "import matplotlib.pyplot as plt"
   ]
  },
  {
   "cell_type": "markdown",
   "metadata": {},
   "source": [
    "## Alunos"
   ]
  },
  {
   "cell_type": "code",
   "execution_count": 74,
   "metadata": {},
   "outputs": [],
   "source": [
    "ds_alunos = pd.read_csv(\"Dados/alunos.csv\", sep=\",\", encoding=\"ISO-8859-1\")"
   ]
  },
  {
   "cell_type": "code",
   "execution_count": 75,
   "metadata": {},
   "outputs": [
    {
     "name": "stdout",
     "output_type": "stream",
     "text": [
      "Index(['Nome', 'ano_nascimento', 'formacao'], dtype='object')\n"
     ]
    }
   ],
   "source": [
    "print(ds_alunos.columns)"
   ]
  },
  {
   "cell_type": "code",
   "execution_count": 95,
   "metadata": {},
   "outputs": [],
   "source": [
    "df = ds_alunos.groupby(\"ano_nascimento\")['formacao'].nunique()"
   ]
  },
  {
   "cell_type": "code",
   "execution_count": 101,
   "metadata": {},
   "outputs": [
    {
     "data": {
      "text/plain": [
       "ano_nascimento\n",
       ".com    1\n",
       "0000    2\n",
       "0619    1\n",
       "1081    1\n",
       "1087    1\n",
       "1089    1\n",
       "1092    1\n",
       "1111    2\n",
       "1112    1\n",
       "1190    1\n",
       "1195    1\n",
       "1196    2\n",
       "1197    1\n",
       "1198    1\n",
       "1898    1\n",
       "1900    1\n",
       "1901    1\n",
       "1933    1\n",
       "1944    1\n",
       "1948    1\n",
       "Name: formacao, dtype: int64"
      ]
     },
     "execution_count": 101,
     "metadata": {},
     "output_type": "execute_result"
    }
   ],
   "source": [
    "df[:20]"
   ]
  },
  {
   "cell_type": "code",
   "execution_count": 106,
   "metadata": {},
   "outputs": [
    {
     "data": {
      "text/html": [
       "<div>\n",
       "<style scoped>\n",
       "    .dataframe tbody tr th:only-of-type {\n",
       "        vertical-align: middle;\n",
       "    }\n",
       "\n",
       "    .dataframe tbody tr th {\n",
       "        vertical-align: top;\n",
       "    }\n",
       "\n",
       "    .dataframe thead th {\n",
       "        text-align: right;\n",
       "    }\n",
       "</style>\n",
       "<table border=\"1\" class=\"dataframe\">\n",
       "  <thead>\n",
       "    <tr style=\"text-align: right;\">\n",
       "      <th></th>\n",
       "      <th>Nome</th>\n",
       "      <th>ano_nascimento</th>\n",
       "      <th>formacao</th>\n",
       "    </tr>\n",
       "  </thead>\n",
       "  <tbody>\n",
       "    <tr>\n",
       "      <td>0</td>\n",
       "      <td>Diego</td>\n",
       "      <td>1990</td>\n",
       "      <td>doutorado</td>\n",
       "    </tr>\n",
       "    <tr>\n",
       "      <td>1</td>\n",
       "      <td>Diego</td>\n",
       "      <td>1990</td>\n",
       "      <td>Doutorado</td>\n",
       "    </tr>\n",
       "    <tr>\n",
       "      <td>2</td>\n",
       "      <td>Inaciano</td>\n",
       "      <td>1984</td>\n",
       "      <td>Ensino superior</td>\n",
       "    </tr>\n",
       "    <tr>\n",
       "      <td>3</td>\n",
       "      <td>Thiago</td>\n",
       "      <td>1990</td>\n",
       "      <td>Ensino superior</td>\n",
       "    </tr>\n",
       "    <tr>\n",
       "      <td>4</td>\n",
       "      <td>Hélio</td>\n",
       "      <td>1993</td>\n",
       "      <td>Ensino médio</td>\n",
       "    </tr>\n",
       "  </tbody>\n",
       "</table>\n",
       "</div>"
      ],
      "text/plain": [
       "       Nome ano_nascimento         formacao\n",
       "0     Diego           1990        doutorado\n",
       "1     Diego           1990        Doutorado\n",
       "2  Inaciano           1984  Ensino superior\n",
       "3    Thiago           1990  Ensino superior\n",
       "4     Hélio           1993     Ensino médio"
      ]
     },
     "execution_count": 106,
     "metadata": {},
     "output_type": "execute_result"
    }
   ],
   "source": [
    "ds_alunos.head()"
   ]
  },
  {
   "cell_type": "code",
   "execution_count": 116,
   "metadata": {},
   "outputs": [
    {
     "data": {
      "text/plain": [
       "8"
      ]
     },
     "execution_count": 116,
     "metadata": {},
     "output_type": "execute_result"
    }
   ],
   "source": [
    "ds_alunos['formacao'].nunique()"
   ]
  },
  {
   "cell_type": "code",
   "execution_count": 117,
   "metadata": {},
   "outputs": [
    {
     "data": {
      "text/plain": [
       "Nome              18667\n",
       "ano_nascimento    18667\n",
       "formacao          18667\n",
       "dtype: int64"
      ]
     },
     "execution_count": 117,
     "metadata": {},
     "output_type": "execute_result"
    }
   ],
   "source": [
    "ds_alunos.count()"
   ]
  },
  {
   "cell_type": "code",
   "execution_count": null,
   "metadata": {},
   "outputs": [],
   "source": []
  },
  {
   "cell_type": "markdown",
   "metadata": {},
   "source": [
    "## Diplomas"
   ]
  },
  {
   "cell_type": "code",
   "execution_count": 30,
   "metadata": {},
   "outputs": [],
   "source": [
    "ds_diplomas = pd.read_csv(\"Dados/diplomas.csv\", sep=\";\", encoding=\"ISO-8859-1\")"
   ]
  },
  {
   "cell_type": "code",
   "execution_count": 32,
   "metadata": {},
   "outputs": [
    {
     "data": {
      "text/html": [
       "<div>\n",
       "<style scoped>\n",
       "    .dataframe tbody tr th:only-of-type {\n",
       "        vertical-align: middle;\n",
       "    }\n",
       "\n",
       "    .dataframe tbody tr th {\n",
       "        vertical-align: top;\n",
       "    }\n",
       "\n",
       "    .dataframe thead th {\n",
       "        text-align: right;\n",
       "    }\n",
       "</style>\n",
       "<table border=\"1\" class=\"dataframe\">\n",
       "  <thead>\n",
       "    <tr style=\"text-align: right;\">\n",
       "      <th></th>\n",
       "      <th>Nome_usuario,nome_evento,carga,data</th>\n",
       "    </tr>\n",
       "  </thead>\n",
       "  <tbody>\n",
       "    <tr>\n",
       "      <td>0</td>\n",
       "      <td>Diego,Introdução ao Framework Bootstrap,30 MIN...</td>\n",
       "    </tr>\n",
       "    <tr>\n",
       "      <td>1</td>\n",
       "      <td>Diego,Introdução ao Framework Bootstrap,2H,30/...</td>\n",
       "    </tr>\n",
       "    <tr>\n",
       "      <td>2</td>\n",
       "      <td>Inaciano,Programação Web para Divulgação Cient...</td>\n",
       "    </tr>\n",
       "    <tr>\n",
       "      <td>3</td>\n",
       "      <td>Thiago,Introdução ao Framework Bootstrap,2H,31...</td>\n",
       "    </tr>\n",
       "    <tr>\n",
       "      <td>4</td>\n",
       "      <td>Hélio,Introdução à Linguagem HTML,30 MIN,31/05...</td>\n",
       "    </tr>\n",
       "    <tr>\n",
       "      <td>5</td>\n",
       "      <td>Evandro,Introdução ao Framework Bootstrap,2H,3...</td>\n",
       "    </tr>\n",
       "    <tr>\n",
       "      <td>6</td>\n",
       "      <td>Evandro,Introdução à Linguagem HTML,30 MIN,31/...</td>\n",
       "    </tr>\n",
       "    <tr>\n",
       "      <td>7</td>\n",
       "      <td>Evandro,Criação de Páginas de Internet Dinâmic...</td>\n",
       "    </tr>\n",
       "    <tr>\n",
       "      <td>8</td>\n",
       "      <td>Michel,Introdução à Linguagem HTML,30 MIN,02/0...</td>\n",
       "    </tr>\n",
       "    <tr>\n",
       "      <td>9</td>\n",
       "      <td>Cristiano,Introdução à Linguagem HTML,30 MIN,0...</td>\n",
       "    </tr>\n",
       "    <tr>\n",
       "      <td>10</td>\n",
       "      <td>Cristiano,Introdução à Linguagem HTML,30 MIN,0...</td>\n",
       "    </tr>\n",
       "    <tr>\n",
       "      <td>11</td>\n",
       "      <td>Lucas,Programação Web para Divulgação Científi...</td>\n",
       "    </tr>\n",
       "    <tr>\n",
       "      <td>12</td>\n",
       "      <td>Tarso,Introdução ao Framework Bootstrap,2H,04/...</td>\n",
       "    </tr>\n",
       "    <tr>\n",
       "      <td>13</td>\n",
       "      <td>Bruno,Introdução à Linguagem HTML,30 MIN,04/06...</td>\n",
       "    </tr>\n",
       "    <tr>\n",
       "      <td>14</td>\n",
       "      <td>Henrique,Introdução à Linguagem HTML,30 MIN,04...</td>\n",
       "    </tr>\n",
       "    <tr>\n",
       "      <td>15</td>\n",
       "      <td>Amauri,Introdução ao Framework Bootstrap,2H,05...</td>\n",
       "    </tr>\n",
       "    <tr>\n",
       "      <td>16</td>\n",
       "      <td>Percilia,Introdução à Linguagem HTML,30 MIN,05...</td>\n",
       "    </tr>\n",
       "    <tr>\n",
       "      <td>17</td>\n",
       "      <td>Bruno,Introdução à Linguagem HTML,30 MIN,05/06...</td>\n",
       "    </tr>\n",
       "    <tr>\n",
       "      <td>18</td>\n",
       "      <td>Bernardo,Introdução à Linguagem HTML,30 MIN,06...</td>\n",
       "    </tr>\n",
       "    <tr>\n",
       "      <td>19</td>\n",
       "      <td>Gabriel,Introdução ao Framework Bootstrap,2H,0...</td>\n",
       "    </tr>\n",
       "    <tr>\n",
       "      <td>20</td>\n",
       "      <td>Maxwell,Introdução à Programação para Bioinfor...</td>\n",
       "    </tr>\n",
       "    <tr>\n",
       "      <td>21</td>\n",
       "      <td>Iago,Introdução à Linguagem HTML,30 MIN,06/06/...</td>\n",
       "    </tr>\n",
       "    <tr>\n",
       "      <td>22</td>\n",
       "      <td>Nayra,Introdução à Linguagem HTML,30 MIN,07/06...</td>\n",
       "    </tr>\n",
       "    <tr>\n",
       "      <td>23</td>\n",
       "      <td>José,Introdução à Linguagem HTML,30 MIN,07/06/...</td>\n",
       "    </tr>\n",
       "    <tr>\n",
       "      <td>24</td>\n",
       "      <td>Rudson,Programação Web para Divulgação Científ...</td>\n",
       "    </tr>\n",
       "    <tr>\n",
       "      <td>25</td>\n",
       "      <td>Rudson,Programação Web para Divulgação Científ...</td>\n",
       "    </tr>\n",
       "    <tr>\n",
       "      <td>26</td>\n",
       "      <td>Luciano,Introdução à Linguagem HTML,30 MIN,08/...</td>\n",
       "    </tr>\n",
       "    <tr>\n",
       "      <td>27</td>\n",
       "      <td>João,Introdução à Linguagem HTML,30 MIN,09/06/...</td>\n",
       "    </tr>\n",
       "    <tr>\n",
       "      <td>28</td>\n",
       "      <td>José,Programação Web para Divulgação Científic...</td>\n",
       "    </tr>\n",
       "    <tr>\n",
       "      <td>29</td>\n",
       "      <td>Matheus,Introdução à Linguagem HTML,30 MIN,09/...</td>\n",
       "    </tr>\n",
       "  </tbody>\n",
       "</table>\n",
       "</div>"
      ],
      "text/plain": [
       "                  Nome_usuario,nome_evento,carga,data\n",
       "0   Diego,Introdução ao Framework Bootstrap,30 MIN...\n",
       "1   Diego,Introdução ao Framework Bootstrap,2H,30/...\n",
       "2   Inaciano,Programação Web para Divulgação Cient...\n",
       "3   Thiago,Introdução ao Framework Bootstrap,2H,31...\n",
       "4   Hélio,Introdução à Linguagem HTML,30 MIN,31/05...\n",
       "5   Evandro,Introdução ao Framework Bootstrap,2H,3...\n",
       "6   Evandro,Introdução à Linguagem HTML,30 MIN,31/...\n",
       "7   Evandro,Criação de Páginas de Internet Dinâmic...\n",
       "8   Michel,Introdução à Linguagem HTML,30 MIN,02/0...\n",
       "9   Cristiano,Introdução à Linguagem HTML,30 MIN,0...\n",
       "10  Cristiano,Introdução à Linguagem HTML,30 MIN,0...\n",
       "11  Lucas,Programação Web para Divulgação Científi...\n",
       "12  Tarso,Introdução ao Framework Bootstrap,2H,04/...\n",
       "13  Bruno,Introdução à Linguagem HTML,30 MIN,04/06...\n",
       "14  Henrique,Introdução à Linguagem HTML,30 MIN,04...\n",
       "15  Amauri,Introdução ao Framework Bootstrap,2H,05...\n",
       "16  Percilia,Introdução à Linguagem HTML,30 MIN,05...\n",
       "17  Bruno,Introdução à Linguagem HTML,30 MIN,05/06...\n",
       "18  Bernardo,Introdução à Linguagem HTML,30 MIN,06...\n",
       "19  Gabriel,Introdução ao Framework Bootstrap,2H,0...\n",
       "20  Maxwell,Introdução à Programação para Bioinfor...\n",
       "21  Iago,Introdução à Linguagem HTML,30 MIN,06/06/...\n",
       "22  Nayra,Introdução à Linguagem HTML,30 MIN,07/06...\n",
       "23  José,Introdução à Linguagem HTML,30 MIN,07/06/...\n",
       "24  Rudson,Programação Web para Divulgação Científ...\n",
       "25  Rudson,Programação Web para Divulgação Científ...\n",
       "26  Luciano,Introdução à Linguagem HTML,30 MIN,08/...\n",
       "27  João,Introdução à Linguagem HTML,30 MIN,09/06/...\n",
       "28  José,Programação Web para Divulgação Científic...\n",
       "29  Matheus,Introdução à Linguagem HTML,30 MIN,09/..."
      ]
     },
     "execution_count": 32,
     "metadata": {},
     "output_type": "execute_result"
    }
   ],
   "source": [
    "ds_diplomas[:30]"
   ]
  },
  {
   "cell_type": "code",
   "execution_count": 46,
   "metadata": {},
   "outputs": [
    {
     "ename": "AttributeError",
     "evalue": "'DataFrame' object has no attribute 'unique'",
     "output_type": "error",
     "traceback": [
      "\u001b[0;31m---------------------------------------------------------------------------\u001b[0m",
      "\u001b[0;31mAttributeError\u001b[0m                            Traceback (most recent call last)",
      "\u001b[0;32m<ipython-input-46-fa8c4f016029>\u001b[0m in \u001b[0;36m<module>\u001b[0;34m\u001b[0m\n\u001b[0;32m----> 1\u001b[0;31m \u001b[0mds_diplomas\u001b[0m\u001b[0;34m.\u001b[0m\u001b[0munique\u001b[0m\u001b[0;34m(\u001b[0m\u001b[0;34m)\u001b[0m\u001b[0;34m\u001b[0m\u001b[0;34m\u001b[0m\u001b[0m\n\u001b[0m",
      "\u001b[0;32m~/anaconda3/lib/python3.7/site-packages/pandas/core/generic.py\u001b[0m in \u001b[0;36m__getattr__\u001b[0;34m(self, name)\u001b[0m\n\u001b[1;32m   5177\u001b[0m             \u001b[0;32mif\u001b[0m \u001b[0mself\u001b[0m\u001b[0;34m.\u001b[0m\u001b[0m_info_axis\u001b[0m\u001b[0;34m.\u001b[0m\u001b[0m_can_hold_identifiers_and_holds_name\u001b[0m\u001b[0;34m(\u001b[0m\u001b[0mname\u001b[0m\u001b[0;34m)\u001b[0m\u001b[0;34m:\u001b[0m\u001b[0;34m\u001b[0m\u001b[0;34m\u001b[0m\u001b[0m\n\u001b[1;32m   5178\u001b[0m                 \u001b[0;32mreturn\u001b[0m \u001b[0mself\u001b[0m\u001b[0;34m[\u001b[0m\u001b[0mname\u001b[0m\u001b[0;34m]\u001b[0m\u001b[0;34m\u001b[0m\u001b[0;34m\u001b[0m\u001b[0m\n\u001b[0;32m-> 5179\u001b[0;31m             \u001b[0;32mreturn\u001b[0m \u001b[0mobject\u001b[0m\u001b[0;34m.\u001b[0m\u001b[0m__getattribute__\u001b[0m\u001b[0;34m(\u001b[0m\u001b[0mself\u001b[0m\u001b[0;34m,\u001b[0m \u001b[0mname\u001b[0m\u001b[0;34m)\u001b[0m\u001b[0;34m\u001b[0m\u001b[0;34m\u001b[0m\u001b[0m\n\u001b[0m\u001b[1;32m   5180\u001b[0m \u001b[0;34m\u001b[0m\u001b[0m\n\u001b[1;32m   5181\u001b[0m     \u001b[0;32mdef\u001b[0m \u001b[0m__setattr__\u001b[0m\u001b[0;34m(\u001b[0m\u001b[0mself\u001b[0m\u001b[0;34m,\u001b[0m \u001b[0mname\u001b[0m\u001b[0;34m,\u001b[0m \u001b[0mvalue\u001b[0m\u001b[0;34m)\u001b[0m\u001b[0;34m:\u001b[0m\u001b[0;34m\u001b[0m\u001b[0;34m\u001b[0m\u001b[0m\n",
      "\u001b[0;31mAttributeError\u001b[0m: 'DataFrame' object has no attribute 'unique'"
     ]
    }
   ],
   "source": [
    "ds_diplomas.groupby([])"
   ]
  },
  {
   "cell_type": "code",
   "execution_count": null,
   "metadata": {},
   "outputs": [],
   "source": []
  }
 ],
 "metadata": {
  "kernelspec": {
   "display_name": "Python 3",
   "language": "python",
   "name": "python3"
  },
  "language_info": {
   "codemirror_mode": {
    "name": "ipython",
    "version": 3
   },
   "file_extension": ".py",
   "mimetype": "text/x-python",
   "name": "python",
   "nbconvert_exporter": "python",
   "pygments_lexer": "ipython3",
   "version": "3.7.4"
  }
 },
 "nbformat": 4,
 "nbformat_minor": 2
}
