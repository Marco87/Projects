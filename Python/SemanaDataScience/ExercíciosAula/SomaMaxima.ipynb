{
 "cells": [
  {
   "cell_type": "code",
   "execution_count": 29,
   "metadata": {},
   "outputs": [],
   "source": [
    "import numpy as np"
   ]
  },
  {
   "cell_type": "code",
   "execution_count": 30,
   "metadata": {},
   "outputs": [],
   "source": [
    "l = [5, 2, -2, -7, 3, 14, 10, -3, 9, -6, 4, 1]"
   ]
  },
  {
   "cell_type": "code",
   "execution_count": 34,
   "metadata": {},
   "outputs": [
    {
     "name": "stdout",
     "output_type": "stream",
     "text": [
      "[5, 2, -2, -7, 3, 14, 10, -3, 9, -6, 4, 1]\n"
     ]
    }
   ],
   "source": [
    "print (l)"
   ]
  },
  {
   "cell_type": "code",
   "execution_count": 41,
   "metadata": {},
   "outputs": [
    {
     "name": "stdout",
     "output_type": "stream",
     "text": [
      "0\n",
      "2\n",
      "0\n",
      "-7\n",
      "-4\n",
      "10\n",
      "20\n",
      "17\n",
      "26\n",
      "20\n",
      "24\n",
      "25\n"
     ]
    }
   ],
   "source": [
    "s = 0\n",
    "for i in range(len(l)):\n",
    "    if i!=0:\n",
    "        s = s + l[i]\n",
    "    print(s)\n",
    "    #print(\"-\")\n",
    "    #print(l[i])\n",
    "    #print(\"_____\")"
   ]
  },
  {
   "cell_type": "code",
   "execution_count": null,
   "metadata": {},
   "outputs": [],
   "source": []
  }
 ],
 "metadata": {
  "kernelspec": {
   "display_name": "Python 3",
   "language": "python",
   "name": "python3"
  },
  "language_info": {
   "codemirror_mode": {
    "name": "ipython",
    "version": 3
   },
   "file_extension": ".py",
   "mimetype": "text/x-python",
   "name": "python",
   "nbconvert_exporter": "python",
   "pygments_lexer": "ipython3",
   "version": "3.7.4"
  }
 },
 "nbformat": 4,
 "nbformat_minor": 2
}
