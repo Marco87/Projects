{
 "cells": [
  {
   "cell_type": "code",
   "execution_count": 1,
   "metadata": {},
   "outputs": [],
   "source": [
    "import numpy as np"
   ]
  },
  {
   "cell_type": "code",
   "execution_count": 2,
   "metadata": {},
   "outputs": [],
   "source": [
    "my_array = np.arange(10000)"
   ]
  },
  {
   "cell_type": "code",
   "execution_count": 3,
   "metadata": {},
   "outputs": [
    {
     "data": {
      "text/plain": [
       "array([   0,    1,    2, ..., 9997, 9998, 9999])"
      ]
     },
     "execution_count": 3,
     "metadata": {},
     "output_type": "execute_result"
    }
   ],
   "source": [
    "my_array"
   ]
  },
  {
   "cell_type": "code",
   "execution_count": 4,
   "metadata": {},
   "outputs": [
    {
     "name": "stdout",
     "output_type": "stream",
     "text": [
      "CPU times: user 312 µs, sys: 58 µs, total: 370 µs\n",
      "Wall time: 252 µs\n"
     ]
    }
   ],
   "source": [
    "%time my_array = np.arange(10000)"
   ]
  },
  {
   "cell_type": "code",
   "execution_count": 27,
   "metadata": {},
   "outputs": [],
   "source": [
    "data = np.random.randn(10,10)"
   ]
  },
  {
   "cell_type": "code",
   "execution_count": 28,
   "metadata": {},
   "outputs": [
    {
     "data": {
      "text/plain": [
       "array([[-0.5421227 , -1.24686944, -0.99040666, -0.26045754, -0.00873696,\n",
       "        -3.01537351,  0.87671952, -2.02267176, -0.3039712 ,  4.87766911],\n",
       "       [-3.55227379,  0.47301306,  0.42436838, -3.91674947, -1.59790368,\n",
       "         1.70463439,  2.62357644,  1.79441828,  0.22172592, -1.15457827],\n",
       "       [ 0.00801363,  2.82388757,  0.28903662,  2.77492241, -2.18460386,\n",
       "         0.31318983,  0.135462  , -0.45279751,  1.67793135,  1.95065177],\n",
       "       [ 0.43838597, -1.6406264 ,  0.72829296, -2.94677642,  0.88344147,\n",
       "         0.30091738,  3.00388215,  3.52710743,  0.65850501, -2.17719057],\n",
       "       [ 1.62350032,  2.47414517,  2.78008122, -0.34928576, -0.08535897,\n",
       "         3.03466164,  1.88785711,  0.35968802,  0.87952451,  0.9169709 ],\n",
       "       [ 1.75821491, -1.31290111,  2.70429722,  0.73319244,  2.67288451,\n",
       "         3.09744249, -0.46869049,  2.1964353 ,  5.43127103,  2.35420958],\n",
       "       [ 2.9528129 ,  0.10029336,  1.671886  , -4.00681037,  0.97088521,\n",
       "        -0.63394573, -1.95461847,  0.65262171, -4.11503562, -1.1713985 ],\n",
       "       [ 2.43091369,  2.50532279, -3.43873612, -2.58175269, -0.76565859,\n",
       "        -2.02570587, -1.26857162,  1.45683067,  0.02909289, -3.63739549],\n",
       "       [ 0.72098429,  2.60558184,  1.34860939,  1.85078716, -3.47294032,\n",
       "        -0.32805347,  0.87939332,  3.00465842,  2.36140436,  0.14668601],\n",
       "       [ 1.23550002, -1.09312699, -0.80990067, -0.8840457 ,  2.71039402,\n",
       "         2.97786277, -1.00234317,  2.29062364,  0.56242702, -2.78796664]])"
      ]
     },
     "execution_count": 28,
     "metadata": {},
     "output_type": "execute_result"
    }
   ],
   "source": [
    "data + data"
   ]
  },
  {
   "cell_type": "code",
   "execution_count": 21,
   "metadata": {},
   "outputs": [],
   "source": [
    "data = np.random.randint(20,size = 2)"
   ]
  },
  {
   "cell_type": "code",
   "execution_count": 25,
   "metadata": {},
   "outputs": [
    {
     "data": {
      "text/plain": [
       "array([160, 190])"
      ]
     },
     "execution_count": 25,
     "metadata": {},
     "output_type": "execute_result"
    }
   ],
   "source": [
    "data * 10"
   ]
  },
  {
   "cell_type": "code",
   "execution_count": 29,
   "metadata": {},
   "outputs": [],
   "source": [
    "arr1 = np.array([1, 2, 3], dtype = np.float64)"
   ]
  },
  {
   "cell_type": "code",
   "execution_count": 30,
   "metadata": {},
   "outputs": [],
   "source": [
    "arr2 = np.array([1, 2, 3], dtype = np.int32)"
   ]
  },
  {
   "cell_type": "code",
   "execution_count": 31,
   "metadata": {},
   "outputs": [
    {
     "data": {
      "text/plain": [
       "dtype('float64')"
      ]
     },
     "execution_count": 31,
     "metadata": {},
     "output_type": "execute_result"
    }
   ],
   "source": [
    "arr1.dtype"
   ]
  },
  {
   "cell_type": "code",
   "execution_count": 32,
   "metadata": {},
   "outputs": [
    {
     "data": {
      "text/plain": [
       "dtype('int32')"
      ]
     },
     "execution_count": 32,
     "metadata": {},
     "output_type": "execute_result"
    }
   ],
   "source": [
    "arr2.dtype"
   ]
  },
  {
   "cell_type": "code",
   "execution_count": 35,
   "metadata": {},
   "outputs": [
    {
     "data": {
      "text/plain": [
       "2.0"
      ]
     },
     "execution_count": 35,
     "metadata": {},
     "output_type": "execute_result"
    }
   ],
   "source": [
    "arr1[1]"
   ]
  },
  {
   "cell_type": "code",
   "execution_count": 36,
   "metadata": {},
   "outputs": [
    {
     "data": {
      "text/plain": [
       "2"
      ]
     },
     "execution_count": 36,
     "metadata": {},
     "output_type": "execute_result"
    }
   ],
   "source": [
    "arr2[1]"
   ]
  },
  {
   "cell_type": "code",
   "execution_count": 39,
   "metadata": {},
   "outputs": [],
   "source": [
    "arr2.fill(100)"
   ]
  },
  {
   "cell_type": "code",
   "execution_count": 40,
   "metadata": {},
   "outputs": [
    {
     "data": {
      "text/plain": [
       "array([100, 100, 100], dtype=int32)"
      ]
     },
     "execution_count": 40,
     "metadata": {},
     "output_type": "execute_result"
    }
   ],
   "source": [
    "arr2"
   ]
  },
  {
   "cell_type": "code",
   "execution_count": null,
   "metadata": {},
   "outputs": [],
   "source": []
  }
 ],
 "metadata": {
  "kernelspec": {
   "display_name": "Python 3",
   "language": "python",
   "name": "python3"
  },
  "language_info": {
   "codemirror_mode": {
    "name": "ipython",
    "version": 3
   },
   "file_extension": ".py",
   "mimetype": "text/x-python",
   "name": "python",
   "nbconvert_exporter": "python",
   "pygments_lexer": "ipython3",
   "version": "3.7.4"
  }
 },
 "nbformat": 4,
 "nbformat_minor": 2
}
