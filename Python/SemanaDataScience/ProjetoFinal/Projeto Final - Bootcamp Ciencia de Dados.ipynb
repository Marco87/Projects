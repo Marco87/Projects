{
 "cells": [
  {
   "cell_type": "code",
   "execution_count": 1,
   "metadata": {},
   "outputs": [],
   "source": [
    "# Função para mostar todo o display do DataFrame, sem as '...'\n",
    "\n",
    "# def display_all(df):\n",
    "#   with pd.option_context(\"display.max_rows\", None, \"display.max_columns\", None):\n",
    "#         print(df)"
   ]
  },
  {
   "cell_type": "code",
   "execution_count": 2,
   "metadata": {},
   "outputs": [],
   "source": [
    "import pandas as pd\n",
    "import matplotlib.pyplot as plt\n",
    "import seaborn as sns\n",
    "import numpy as np\n",
    "\n",
    "from sklearn.model_selection import train_test_split"
   ]
  },
  {
   "cell_type": "code",
   "execution_count": 3,
   "metadata": {},
   "outputs": [],
   "source": [
    "pd.set_option(\"display.float_format\", lambda x : \"%.3f\" % x)"
   ]
  },
  {
   "cell_type": "code",
   "execution_count": 4,
   "metadata": {},
   "outputs": [],
   "source": [
    "candidatos_2014 = pd.read_csv(\"data/consulta_cand_2014_BRASIL.csv\", low_memory=False, sep=';', encoding='latin', parse_dates=[\"DT_GERACAO\"])"
   ]
  },
  {
   "cell_type": "code",
   "execution_count": 17,
   "metadata": {},
   "outputs": [],
   "source": [
    "candidatos_2018 = pd.read_csv(\"data/consulta_cand_2018_BRASIL.csv\", low_memory=False, sep=';', encoding='latin', parse_dates=[\"DT_GERACAO\"])"
   ]
  },
  {
   "cell_type": "markdown",
   "metadata": {},
   "source": [
    "# Linhas para categorizar as variáveis do DataSet."
   ]
  },
  {
   "cell_type": "code",
   "execution_count": 5,
   "metadata": {},
   "outputs": [],
   "source": [
    "from pandas.api.types import is_string_dtype\n",
    "\n",
    "for n,c in candidatos_2014.items():\n",
    "    if is_string_dtype(c): candidatos_2014[n] = c.astype('category').cat.as_ordered()"
   ]
  },
  {
   "cell_type": "code",
   "execution_count": 9,
   "metadata": {},
   "outputs": [
    {
     "ename": "NameError",
     "evalue": "name 'candidatos_2018' is not defined",
     "output_type": "error",
     "traceback": [
      "\u001b[0;31m---------------------------------------------------------------------------\u001b[0m",
      "\u001b[0;31mNameError\u001b[0m                                 Traceback (most recent call last)",
      "\u001b[0;32m<ipython-input-9-99ec77ca5a29>\u001b[0m in \u001b[0;36m<module>\u001b[0;34m\u001b[0m\n\u001b[1;32m      1\u001b[0m \u001b[0;32mfrom\u001b[0m \u001b[0mpandas\u001b[0m\u001b[0;34m.\u001b[0m\u001b[0mapi\u001b[0m\u001b[0;34m.\u001b[0m\u001b[0mtypes\u001b[0m \u001b[0;32mimport\u001b[0m \u001b[0mis_string_dtype\u001b[0m\u001b[0;34m\u001b[0m\u001b[0;34m\u001b[0m\u001b[0m\n\u001b[1;32m      2\u001b[0m \u001b[0;34m\u001b[0m\u001b[0m\n\u001b[0;32m----> 3\u001b[0;31m \u001b[0;32mfor\u001b[0m \u001b[0mn\u001b[0m\u001b[0;34m,\u001b[0m\u001b[0mc\u001b[0m \u001b[0;32min\u001b[0m \u001b[0mcandidatos_2018\u001b[0m\u001b[0;34m.\u001b[0m\u001b[0mitems\u001b[0m\u001b[0;34m(\u001b[0m\u001b[0;34m)\u001b[0m\u001b[0;34m:\u001b[0m\u001b[0;34m\u001b[0m\u001b[0;34m\u001b[0m\u001b[0m\n\u001b[0m\u001b[1;32m      4\u001b[0m     \u001b[0;32mif\u001b[0m \u001b[0mis_string_dtype\u001b[0m\u001b[0;34m(\u001b[0m\u001b[0mc\u001b[0m\u001b[0;34m)\u001b[0m\u001b[0;34m:\u001b[0m \u001b[0mcandidatos_2018\u001b[0m\u001b[0;34m[\u001b[0m\u001b[0mn\u001b[0m\u001b[0;34m]\u001b[0m \u001b[0;34m=\u001b[0m \u001b[0mc\u001b[0m\u001b[0;34m.\u001b[0m\u001b[0mastype\u001b[0m\u001b[0;34m(\u001b[0m\u001b[0;34m'category'\u001b[0m\u001b[0;34m)\u001b[0m\u001b[0;34m.\u001b[0m\u001b[0mcat\u001b[0m\u001b[0;34m.\u001b[0m\u001b[0mas_ordered\u001b[0m\u001b[0;34m(\u001b[0m\u001b[0;34m)\u001b[0m\u001b[0;34m\u001b[0m\u001b[0;34m\u001b[0m\u001b[0m\n",
      "\u001b[0;31mNameError\u001b[0m: name 'candidatos_2018' is not defined"
     ]
    }
   ],
   "source": [
    "from pandas.api.types import is_string_dtype\n",
    "\n",
    "for n,c in candidatos_2018.items():\n",
    "    if is_string_dtype(c): candidatos_2018[n] = c.astype('category').cat.as_ordered()"
   ]
  },
  {
   "cell_type": "code",
   "execution_count": 6,
   "metadata": {},
   "outputs": [
    {
     "data": {
      "text/html": [
       "<div>\n",
       "<style scoped>\n",
       "    .dataframe tbody tr th:only-of-type {\n",
       "        vertical-align: middle;\n",
       "    }\n",
       "\n",
       "    .dataframe tbody tr th {\n",
       "        vertical-align: top;\n",
       "    }\n",
       "\n",
       "    .dataframe thead th {\n",
       "        text-align: right;\n",
       "    }\n",
       "</style>\n",
       "<table border=\"1\" class=\"dataframe\">\n",
       "  <thead>\n",
       "    <tr style=\"text-align: right;\">\n",
       "      <th></th>\n",
       "      <th>DT_GERACAO</th>\n",
       "      <th>HH_GERACAO</th>\n",
       "      <th>ANO_ELEICAO</th>\n",
       "      <th>CD_TIPO_ELEICAO</th>\n",
       "      <th>NM_TIPO_ELEICAO</th>\n",
       "      <th>NR_TURNO</th>\n",
       "      <th>CD_ELEICAO</th>\n",
       "      <th>DS_ELEICAO</th>\n",
       "      <th>DT_ELEICAO</th>\n",
       "      <th>TP_ABRANGENCIA</th>\n",
       "      <th>...</th>\n",
       "      <th>DS_COR_RACA</th>\n",
       "      <th>CD_OCUPACAO</th>\n",
       "      <th>DS_OCUPACAO</th>\n",
       "      <th>NR_DESPESA_MAX_CAMPANHA</th>\n",
       "      <th>CD_SIT_TOT_TURNO</th>\n",
       "      <th>DS_SIT_TOT_TURNO</th>\n",
       "      <th>ST_REELEICAO</th>\n",
       "      <th>ST_DECLARAR_BENS</th>\n",
       "      <th>NR_PROTOCOLO_CANDIDATURA</th>\n",
       "      <th>NR_PROCESSO</th>\n",
       "    </tr>\n",
       "  </thead>\n",
       "  <tbody>\n",
       "    <tr>\n",
       "      <td>0</td>\n",
       "      <td>2018-09-20</td>\n",
       "      <td>09:50:32</td>\n",
       "      <td>2014</td>\n",
       "      <td>2</td>\n",
       "      <td>ELEIÇÃO ORDINÁRIA</td>\n",
       "      <td>1</td>\n",
       "      <td>143</td>\n",
       "      <td>Eleições Gerais 2014</td>\n",
       "      <td>05/10/2014</td>\n",
       "      <td>FEDERAL</td>\n",
       "      <td>...</td>\n",
       "      <td>BRANCA</td>\n",
       "      <td>276</td>\n",
       "      <td>SENADOR</td>\n",
       "      <td>36000000</td>\n",
       "      <td>4</td>\n",
       "      <td>NÃO ELEITO</td>\n",
       "      <td>N</td>\n",
       "      <td>S</td>\n",
       "      <td>292452014</td>\n",
       "      <td>9117120146160000</td>\n",
       "    </tr>\n",
       "    <tr>\n",
       "      <td>1</td>\n",
       "      <td>2018-09-20</td>\n",
       "      <td>09:50:32</td>\n",
       "      <td>2014</td>\n",
       "      <td>2</td>\n",
       "      <td>ELEIÇÃO ORDINÁRIA</td>\n",
       "      <td>1</td>\n",
       "      <td>143</td>\n",
       "      <td>Eleições Gerais 2014</td>\n",
       "      <td>05/10/2014</td>\n",
       "      <td>FEDERAL</td>\n",
       "      <td>...</td>\n",
       "      <td>PARDA</td>\n",
       "      <td>999</td>\n",
       "      <td>OUTROS</td>\n",
       "      <td>20000000</td>\n",
       "      <td>4</td>\n",
       "      <td>NÃO ELEITO</td>\n",
       "      <td>N</td>\n",
       "      <td>N</td>\n",
       "      <td>101272014</td>\n",
       "      <td>9721920146020000</td>\n",
       "    </tr>\n",
       "    <tr>\n",
       "      <td>2</td>\n",
       "      <td>2018-09-20</td>\n",
       "      <td>09:50:32</td>\n",
       "      <td>2014</td>\n",
       "      <td>2</td>\n",
       "      <td>ELEIÇÃO ORDINÁRIA</td>\n",
       "      <td>1</td>\n",
       "      <td>143</td>\n",
       "      <td>Eleições Gerais 2014</td>\n",
       "      <td>05/10/2014</td>\n",
       "      <td>FEDERAL</td>\n",
       "      <td>...</td>\n",
       "      <td>BRANCA</td>\n",
       "      <td>999</td>\n",
       "      <td>OUTROS</td>\n",
       "      <td>2000000</td>\n",
       "      <td>5</td>\n",
       "      <td>SUPLENTE</td>\n",
       "      <td>N</td>\n",
       "      <td>N</td>\n",
       "      <td>763742014</td>\n",
       "      <td>12808120146190000</td>\n",
       "    </tr>\n",
       "    <tr>\n",
       "      <td>3</td>\n",
       "      <td>2018-09-20</td>\n",
       "      <td>09:50:32</td>\n",
       "      <td>2014</td>\n",
       "      <td>2</td>\n",
       "      <td>ELEIÇÃO ORDINÁRIA</td>\n",
       "      <td>1</td>\n",
       "      <td>143</td>\n",
       "      <td>Eleições Gerais 2014</td>\n",
       "      <td>05/10/2014</td>\n",
       "      <td>FEDERAL</td>\n",
       "      <td>...</td>\n",
       "      <td>BRANCA</td>\n",
       "      <td>131</td>\n",
       "      <td>ADVOGADO</td>\n",
       "      <td>5000000</td>\n",
       "      <td>5</td>\n",
       "      <td>SUPLENTE</td>\n",
       "      <td>N</td>\n",
       "      <td>S</td>\n",
       "      <td>775172014</td>\n",
       "      <td>24871820146190000</td>\n",
       "    </tr>\n",
       "    <tr>\n",
       "      <td>4</td>\n",
       "      <td>2018-09-20</td>\n",
       "      <td>09:50:32</td>\n",
       "      <td>2014</td>\n",
       "      <td>2</td>\n",
       "      <td>ELEIÇÃO ORDINÁRIA</td>\n",
       "      <td>1</td>\n",
       "      <td>143</td>\n",
       "      <td>Eleições Gerais 2014</td>\n",
       "      <td>05/10/2014</td>\n",
       "      <td>FEDERAL</td>\n",
       "      <td>...</td>\n",
       "      <td>BRANCA</td>\n",
       "      <td>266</td>\n",
       "      <td>PROFESSOR DE ENSINO MÉDIO</td>\n",
       "      <td>1000000</td>\n",
       "      <td>5</td>\n",
       "      <td>SUPLENTE</td>\n",
       "      <td>N</td>\n",
       "      <td>N</td>\n",
       "      <td>762962014</td>\n",
       "      <td>30501220146190000</td>\n",
       "    </tr>\n",
       "  </tbody>\n",
       "</table>\n",
       "<p>5 rows × 58 columns</p>\n",
       "</div>"
      ],
      "text/plain": [
       "  DT_GERACAO HH_GERACAO  ANO_ELEICAO  CD_TIPO_ELEICAO    NM_TIPO_ELEICAO  \\\n",
       "0 2018-09-20   09:50:32         2014                2  ELEIÇÃO ORDINÁRIA   \n",
       "1 2018-09-20   09:50:32         2014                2  ELEIÇÃO ORDINÁRIA   \n",
       "2 2018-09-20   09:50:32         2014                2  ELEIÇÃO ORDINÁRIA   \n",
       "3 2018-09-20   09:50:32         2014                2  ELEIÇÃO ORDINÁRIA   \n",
       "4 2018-09-20   09:50:32         2014                2  ELEIÇÃO ORDINÁRIA   \n",
       "\n",
       "   NR_TURNO  CD_ELEICAO            DS_ELEICAO  DT_ELEICAO TP_ABRANGENCIA  ...  \\\n",
       "0         1         143  Eleições Gerais 2014  05/10/2014        FEDERAL  ...   \n",
       "1         1         143  Eleições Gerais 2014  05/10/2014        FEDERAL  ...   \n",
       "2         1         143  Eleições Gerais 2014  05/10/2014        FEDERAL  ...   \n",
       "3         1         143  Eleições Gerais 2014  05/10/2014        FEDERAL  ...   \n",
       "4         1         143  Eleições Gerais 2014  05/10/2014        FEDERAL  ...   \n",
       "\n",
       "  DS_COR_RACA CD_OCUPACAO                DS_OCUPACAO  NR_DESPESA_MAX_CAMPANHA  \\\n",
       "0      BRANCA         276                    SENADOR                 36000000   \n",
       "1       PARDA         999                     OUTROS                 20000000   \n",
       "2      BRANCA         999                     OUTROS                  2000000   \n",
       "3      BRANCA         131                   ADVOGADO                  5000000   \n",
       "4      BRANCA         266  PROFESSOR DE ENSINO MÉDIO                  1000000   \n",
       "\n",
       "  CD_SIT_TOT_TURNO  DS_SIT_TOT_TURNO  ST_REELEICAO ST_DECLARAR_BENS  \\\n",
       "0                4        NÃO ELEITO             N                S   \n",
       "1                4        NÃO ELEITO             N                N   \n",
       "2                5          SUPLENTE             N                N   \n",
       "3                5          SUPLENTE             N                S   \n",
       "4                5          SUPLENTE             N                N   \n",
       "\n",
       "  NR_PROTOCOLO_CANDIDATURA        NR_PROCESSO  \n",
       "0                292452014   9117120146160000  \n",
       "1                101272014   9721920146020000  \n",
       "2                763742014  12808120146190000  \n",
       "3                775172014  24871820146190000  \n",
       "4                762962014  30501220146190000  \n",
       "\n",
       "[5 rows x 58 columns]"
      ]
     },
     "execution_count": 6,
     "metadata": {},
     "output_type": "execute_result"
    }
   ],
   "source": [
    "candidatos_2014.head()"
   ]
  },
  {
   "cell_type": "code",
   "execution_count": 7,
   "metadata": {
    "scrolled": true
   },
   "outputs": [
    {
     "ename": "NameError",
     "evalue": "name 'candidatos_2018' is not defined",
     "output_type": "error",
     "traceback": [
      "\u001b[0;31m---------------------------------------------------------------------------\u001b[0m",
      "\u001b[0;31mNameError\u001b[0m                                 Traceback (most recent call last)",
      "\u001b[0;32m<ipython-input-7-abfe22d38f03>\u001b[0m in \u001b[0;36m<module>\u001b[0;34m\u001b[0m\n\u001b[0;32m----> 1\u001b[0;31m \u001b[0mcandidatos_2018\u001b[0m\u001b[0;34m.\u001b[0m\u001b[0mhead\u001b[0m\u001b[0;34m(\u001b[0m\u001b[0;34m)\u001b[0m\u001b[0;34m.\u001b[0m\u001b[0mT\u001b[0m\u001b[0;34m\u001b[0m\u001b[0;34m\u001b[0m\u001b[0m\n\u001b[0m",
      "\u001b[0;31mNameError\u001b[0m: name 'candidatos_2018' is not defined"
     ]
    }
   ],
   "source": [
    "candidatos_2018.head().T"
   ]
  },
  {
   "cell_type": "markdown",
   "metadata": {},
   "source": [
    "# Eleições 2014"
   ]
  },
  {
   "cell_type": "markdown",
   "metadata": {},
   "source": [
    "## Quantidade de candidatos?"
   ]
  },
  {
   "cell_type": "code",
   "execution_count": 8,
   "metadata": {},
   "outputs": [
    {
     "data": {
      "text/plain": [
       "26264"
      ]
     },
     "execution_count": 8,
     "metadata": {},
     "output_type": "execute_result"
    }
   ],
   "source": [
    "candidatos_2014['NM_CANDIDATO'].count()"
   ]
  },
  {
   "cell_type": "markdown",
   "metadata": {},
   "source": [
    "## Quantidade de candidatos por gênero?"
   ]
  },
  {
   "cell_type": "code",
   "execution_count": 9,
   "metadata": {},
   "outputs": [
    {
     "data": {
      "text/plain": [
       "DS_GENERO\n",
       "FEMININO      8139\n",
       "MASCULINO    18125\n",
       "Name: NM_CANDIDATO, dtype: int64"
      ]
     },
     "execution_count": 9,
     "metadata": {},
     "output_type": "execute_result"
    }
   ],
   "source": [
    "candidatos_2014.groupby(['DS_GENERO'])['NM_CANDIDATO'].count()"
   ]
  },
  {
   "cell_type": "markdown",
   "metadata": {},
   "source": [
    "## Qual o grau de instrução dos candidatos por gênero?"
   ]
  },
  {
   "cell_type": "code",
   "execution_count": 10,
   "metadata": {},
   "outputs": [
    {
     "data": {
      "text/html": [
       "<div>\n",
       "<style scoped>\n",
       "    .dataframe tbody tr th:only-of-type {\n",
       "        vertical-align: middle;\n",
       "    }\n",
       "\n",
       "    .dataframe tbody tr th {\n",
       "        vertical-align: top;\n",
       "    }\n",
       "\n",
       "    .dataframe thead th {\n",
       "        text-align: right;\n",
       "    }\n",
       "</style>\n",
       "<table border=\"1\" class=\"dataframe\">\n",
       "  <thead>\n",
       "    <tr style=\"text-align: right;\">\n",
       "      <th></th>\n",
       "      <th>DS_GENERO</th>\n",
       "      <th>DS_GRAU_INSTRUCAO</th>\n",
       "      <th>DS_GENERO_GRAU_INSTRUCAO</th>\n",
       "    </tr>\n",
       "  </thead>\n",
       "  <tbody>\n",
       "    <tr>\n",
       "      <td>0</td>\n",
       "      <td>FEMININO</td>\n",
       "      <td>ENSINO FUNDAMENTAL COMPLETO</td>\n",
       "      <td>557</td>\n",
       "    </tr>\n",
       "    <tr>\n",
       "      <td>1</td>\n",
       "      <td>FEMININO</td>\n",
       "      <td>ENSINO FUNDAMENTAL INCOMPLETO</td>\n",
       "      <td>271</td>\n",
       "    </tr>\n",
       "    <tr>\n",
       "      <td>2</td>\n",
       "      <td>FEMININO</td>\n",
       "      <td>ENSINO MÉDIO COMPLETO</td>\n",
       "      <td>2773</td>\n",
       "    </tr>\n",
       "    <tr>\n",
       "      <td>3</td>\n",
       "      <td>FEMININO</td>\n",
       "      <td>ENSINO MÉDIO INCOMPLETO</td>\n",
       "      <td>296</td>\n",
       "    </tr>\n",
       "    <tr>\n",
       "      <td>4</td>\n",
       "      <td>FEMININO</td>\n",
       "      <td>LÊ E ESCREVE</td>\n",
       "      <td>112</td>\n",
       "    </tr>\n",
       "    <tr>\n",
       "      <td>5</td>\n",
       "      <td>FEMININO</td>\n",
       "      <td>SUPERIOR COMPLETO</td>\n",
       "      <td>3286</td>\n",
       "    </tr>\n",
       "    <tr>\n",
       "      <td>6</td>\n",
       "      <td>FEMININO</td>\n",
       "      <td>SUPERIOR INCOMPLETO</td>\n",
       "      <td>844</td>\n",
       "    </tr>\n",
       "    <tr>\n",
       "      <td>7</td>\n",
       "      <td>MASCULINO</td>\n",
       "      <td>ENSINO FUNDAMENTAL COMPLETO</td>\n",
       "      <td>1346</td>\n",
       "    </tr>\n",
       "    <tr>\n",
       "      <td>8</td>\n",
       "      <td>MASCULINO</td>\n",
       "      <td>ENSINO FUNDAMENTAL INCOMPLETO</td>\n",
       "      <td>615</td>\n",
       "    </tr>\n",
       "    <tr>\n",
       "      <td>9</td>\n",
       "      <td>MASCULINO</td>\n",
       "      <td>ENSINO MÉDIO COMPLETO</td>\n",
       "      <td>5098</td>\n",
       "    </tr>\n",
       "    <tr>\n",
       "      <td>10</td>\n",
       "      <td>MASCULINO</td>\n",
       "      <td>ENSINO MÉDIO INCOMPLETO</td>\n",
       "      <td>542</td>\n",
       "    </tr>\n",
       "    <tr>\n",
       "      <td>11</td>\n",
       "      <td>MASCULINO</td>\n",
       "      <td>LÊ E ESCREVE</td>\n",
       "      <td>150</td>\n",
       "    </tr>\n",
       "    <tr>\n",
       "      <td>12</td>\n",
       "      <td>MASCULINO</td>\n",
       "      <td>SUPERIOR COMPLETO</td>\n",
       "      <td>8645</td>\n",
       "    </tr>\n",
       "    <tr>\n",
       "      <td>13</td>\n",
       "      <td>MASCULINO</td>\n",
       "      <td>SUPERIOR INCOMPLETO</td>\n",
       "      <td>1729</td>\n",
       "    </tr>\n",
       "  </tbody>\n",
       "</table>\n",
       "</div>"
      ],
      "text/plain": [
       "    DS_GENERO              DS_GRAU_INSTRUCAO  DS_GENERO_GRAU_INSTRUCAO\n",
       "0    FEMININO    ENSINO FUNDAMENTAL COMPLETO                       557\n",
       "1    FEMININO  ENSINO FUNDAMENTAL INCOMPLETO                       271\n",
       "2    FEMININO          ENSINO MÉDIO COMPLETO                      2773\n",
       "3    FEMININO        ENSINO MÉDIO INCOMPLETO                       296\n",
       "4    FEMININO                   LÊ E ESCREVE                       112\n",
       "5    FEMININO              SUPERIOR COMPLETO                      3286\n",
       "6    FEMININO            SUPERIOR INCOMPLETO                       844\n",
       "7   MASCULINO    ENSINO FUNDAMENTAL COMPLETO                      1346\n",
       "8   MASCULINO  ENSINO FUNDAMENTAL INCOMPLETO                       615\n",
       "9   MASCULINO          ENSINO MÉDIO COMPLETO                      5098\n",
       "10  MASCULINO        ENSINO MÉDIO INCOMPLETO                       542\n",
       "11  MASCULINO                   LÊ E ESCREVE                       150\n",
       "12  MASCULINO              SUPERIOR COMPLETO                      8645\n",
       "13  MASCULINO            SUPERIOR INCOMPLETO                      1729"
      ]
     },
     "execution_count": 10,
     "metadata": {},
     "output_type": "execute_result"
    }
   ],
   "source": [
    "temp = candidatos_2014.groupby(['DS_GENERO', 'DS_GRAU_INSTRUCAO'])['NM_CANDIDATO'].count().reset_index(name='DS_GENERO_GRAU_INSTRUCAO')\n",
    "temp"
   ]
  },
  {
   "cell_type": "code",
   "execution_count": 11,
   "metadata": {},
   "outputs": [
    {
     "data": {
      "text/html": [
       "<div>\n",
       "<style scoped>\n",
       "    .dataframe tbody tr th:only-of-type {\n",
       "        vertical-align: middle;\n",
       "    }\n",
       "\n",
       "    .dataframe tbody tr th {\n",
       "        vertical-align: top;\n",
       "    }\n",
       "\n",
       "    .dataframe thead th {\n",
       "        text-align: right;\n",
       "    }\n",
       "</style>\n",
       "<table border=\"1\" class=\"dataframe\">\n",
       "  <thead>\n",
       "    <tr style=\"text-align: right;\">\n",
       "      <th></th>\n",
       "      <th>DS_GENERO</th>\n",
       "      <th>DS_GRAU_INSTRUCAO</th>\n",
       "      <th>DS_GENERO_GRAU_INSTRUCAO</th>\n",
       "    </tr>\n",
       "  </thead>\n",
       "  <tbody>\n",
       "    <tr>\n",
       "      <td>5</td>\n",
       "      <td>FEMININO</td>\n",
       "      <td>SUPERIOR COMPLETO</td>\n",
       "      <td>3286</td>\n",
       "    </tr>\n",
       "    <tr>\n",
       "      <td>2</td>\n",
       "      <td>FEMININO</td>\n",
       "      <td>ENSINO MÉDIO COMPLETO</td>\n",
       "      <td>2773</td>\n",
       "    </tr>\n",
       "    <tr>\n",
       "      <td>6</td>\n",
       "      <td>FEMININO</td>\n",
       "      <td>SUPERIOR INCOMPLETO</td>\n",
       "      <td>844</td>\n",
       "    </tr>\n",
       "    <tr>\n",
       "      <td>0</td>\n",
       "      <td>FEMININO</td>\n",
       "      <td>ENSINO FUNDAMENTAL COMPLETO</td>\n",
       "      <td>557</td>\n",
       "    </tr>\n",
       "    <tr>\n",
       "      <td>3</td>\n",
       "      <td>FEMININO</td>\n",
       "      <td>ENSINO MÉDIO INCOMPLETO</td>\n",
       "      <td>296</td>\n",
       "    </tr>\n",
       "    <tr>\n",
       "      <td>1</td>\n",
       "      <td>FEMININO</td>\n",
       "      <td>ENSINO FUNDAMENTAL INCOMPLETO</td>\n",
       "      <td>271</td>\n",
       "    </tr>\n",
       "    <tr>\n",
       "      <td>4</td>\n",
       "      <td>FEMININO</td>\n",
       "      <td>LÊ E ESCREVE</td>\n",
       "      <td>112</td>\n",
       "    </tr>\n",
       "  </tbody>\n",
       "</table>\n",
       "</div>"
      ],
      "text/plain": [
       "  DS_GENERO              DS_GRAU_INSTRUCAO  DS_GENERO_GRAU_INSTRUCAO\n",
       "5  FEMININO              SUPERIOR COMPLETO                      3286\n",
       "2  FEMININO          ENSINO MÉDIO COMPLETO                      2773\n",
       "6  FEMININO            SUPERIOR INCOMPLETO                       844\n",
       "0  FEMININO    ENSINO FUNDAMENTAL COMPLETO                       557\n",
       "3  FEMININO        ENSINO MÉDIO INCOMPLETO                       296\n",
       "1  FEMININO  ENSINO FUNDAMENTAL INCOMPLETO                       271\n",
       "4  FEMININO                   LÊ E ESCREVE                       112"
      ]
     },
     "execution_count": 11,
     "metadata": {},
     "output_type": "execute_result"
    }
   ],
   "source": [
    "temp[temp['DS_GENERO'] == 'FEMININO'].sort_values(ascending=False, by='DS_GENERO_GRAU_INSTRUCAO' )"
   ]
  },
  {
   "cell_type": "code",
   "execution_count": 12,
   "metadata": {},
   "outputs": [
    {
     "data": {
      "text/html": [
       "<div>\n",
       "<style scoped>\n",
       "    .dataframe tbody tr th:only-of-type {\n",
       "        vertical-align: middle;\n",
       "    }\n",
       "\n",
       "    .dataframe tbody tr th {\n",
       "        vertical-align: top;\n",
       "    }\n",
       "\n",
       "    .dataframe thead th {\n",
       "        text-align: right;\n",
       "    }\n",
       "</style>\n",
       "<table border=\"1\" class=\"dataframe\">\n",
       "  <thead>\n",
       "    <tr style=\"text-align: right;\">\n",
       "      <th></th>\n",
       "      <th>DS_GENERO</th>\n",
       "      <th>DS_GRAU_INSTRUCAO</th>\n",
       "      <th>DS_GENERO_GRAU_INSTRUCAO</th>\n",
       "    </tr>\n",
       "  </thead>\n",
       "  <tbody>\n",
       "    <tr>\n",
       "      <td>12</td>\n",
       "      <td>MASCULINO</td>\n",
       "      <td>SUPERIOR COMPLETO</td>\n",
       "      <td>8645</td>\n",
       "    </tr>\n",
       "    <tr>\n",
       "      <td>9</td>\n",
       "      <td>MASCULINO</td>\n",
       "      <td>ENSINO MÉDIO COMPLETO</td>\n",
       "      <td>5098</td>\n",
       "    </tr>\n",
       "    <tr>\n",
       "      <td>13</td>\n",
       "      <td>MASCULINO</td>\n",
       "      <td>SUPERIOR INCOMPLETO</td>\n",
       "      <td>1729</td>\n",
       "    </tr>\n",
       "    <tr>\n",
       "      <td>7</td>\n",
       "      <td>MASCULINO</td>\n",
       "      <td>ENSINO FUNDAMENTAL COMPLETO</td>\n",
       "      <td>1346</td>\n",
       "    </tr>\n",
       "    <tr>\n",
       "      <td>8</td>\n",
       "      <td>MASCULINO</td>\n",
       "      <td>ENSINO FUNDAMENTAL INCOMPLETO</td>\n",
       "      <td>615</td>\n",
       "    </tr>\n",
       "    <tr>\n",
       "      <td>10</td>\n",
       "      <td>MASCULINO</td>\n",
       "      <td>ENSINO MÉDIO INCOMPLETO</td>\n",
       "      <td>542</td>\n",
       "    </tr>\n",
       "    <tr>\n",
       "      <td>11</td>\n",
       "      <td>MASCULINO</td>\n",
       "      <td>LÊ E ESCREVE</td>\n",
       "      <td>150</td>\n",
       "    </tr>\n",
       "  </tbody>\n",
       "</table>\n",
       "</div>"
      ],
      "text/plain": [
       "    DS_GENERO              DS_GRAU_INSTRUCAO  DS_GENERO_GRAU_INSTRUCAO\n",
       "12  MASCULINO              SUPERIOR COMPLETO                      8645\n",
       "9   MASCULINO          ENSINO MÉDIO COMPLETO                      5098\n",
       "13  MASCULINO            SUPERIOR INCOMPLETO                      1729\n",
       "7   MASCULINO    ENSINO FUNDAMENTAL COMPLETO                      1346\n",
       "8   MASCULINO  ENSINO FUNDAMENTAL INCOMPLETO                       615\n",
       "10  MASCULINO        ENSINO MÉDIO INCOMPLETO                       542\n",
       "11  MASCULINO                   LÊ E ESCREVE                       150"
      ]
     },
     "execution_count": 12,
     "metadata": {},
     "output_type": "execute_result"
    }
   ],
   "source": [
    "temp[temp['DS_GENERO'] == 'MASCULINO'].sort_values(ascending=False, by='DS_GENERO_GRAU_INSTRUCAO' )"
   ]
  },
  {
   "cell_type": "markdown",
   "metadata": {},
   "source": [
    "# DESAFIO:\n",
    "# Prever a quantidade de eleitos/outros por Cargos. (DS_SIT_TOT_TURNO)"
   ]
  },
  {
   "cell_type": "code",
   "execution_count": 13,
   "metadata": {
    "scrolled": true
   },
   "outputs": [
    {
     "data": {
      "text/html": [
       "<div>\n",
       "<style scoped>\n",
       "    .dataframe tbody tr th:only-of-type {\n",
       "        vertical-align: middle;\n",
       "    }\n",
       "\n",
       "    .dataframe tbody tr th {\n",
       "        vertical-align: top;\n",
       "    }\n",
       "\n",
       "    .dataframe thead th {\n",
       "        text-align: right;\n",
       "    }\n",
       "</style>\n",
       "<table border=\"1\" class=\"dataframe\">\n",
       "  <thead>\n",
       "    <tr style=\"text-align: right;\">\n",
       "      <th></th>\n",
       "      <th>NR_DESPESA_MAX_CAMPANHA</th>\n",
       "      <th>CD_GENERO</th>\n",
       "      <th>CD_GRAU_INSTRUCAO</th>\n",
       "      <th>NR_IDADE_DATA_POSSE</th>\n",
       "      <th>CD_ESTADO_CIVIL</th>\n",
       "      <th>CD_COR_RACA</th>\n",
       "    </tr>\n",
       "  </thead>\n",
       "  <tbody>\n",
       "    <tr>\n",
       "      <td>count</td>\n",
       "      <td>26264.000</td>\n",
       "      <td>26264.000</td>\n",
       "      <td>26264.000</td>\n",
       "      <td>26264.000</td>\n",
       "      <td>26264.000</td>\n",
       "      <td>26264.000</td>\n",
       "    </tr>\n",
       "    <tr>\n",
       "      <td>mean</td>\n",
       "      <td>2492303.064</td>\n",
       "      <td>2.620</td>\n",
       "      <td>6.689</td>\n",
       "      <td>47.171</td>\n",
       "      <td>3.119</td>\n",
       "      <td>1.819</td>\n",
       "    </tr>\n",
       "    <tr>\n",
       "      <td>std</td>\n",
       "      <td>5239804.836</td>\n",
       "      <td>0.925</td>\n",
       "      <td>1.492</td>\n",
       "      <td>11.430</td>\n",
       "      <td>2.300</td>\n",
       "      <td>0.956</td>\n",
       "    </tr>\n",
       "    <tr>\n",
       "      <td>min</td>\n",
       "      <td>-1.000</td>\n",
       "      <td>2.000</td>\n",
       "      <td>2.000</td>\n",
       "      <td>18.000</td>\n",
       "      <td>1.000</td>\n",
       "      <td>1.000</td>\n",
       "    </tr>\n",
       "    <tr>\n",
       "      <td>25%</td>\n",
       "      <td>700000.000</td>\n",
       "      <td>2.000</td>\n",
       "      <td>6.000</td>\n",
       "      <td>39.000</td>\n",
       "      <td>1.000</td>\n",
       "      <td>1.000</td>\n",
       "    </tr>\n",
       "    <tr>\n",
       "      <td>50%</td>\n",
       "      <td>2000000.000</td>\n",
       "      <td>2.000</td>\n",
       "      <td>7.000</td>\n",
       "      <td>47.000</td>\n",
       "      <td>3.000</td>\n",
       "      <td>1.000</td>\n",
       "    </tr>\n",
       "    <tr>\n",
       "      <td>75%</td>\n",
       "      <td>3000000.000</td>\n",
       "      <td>4.000</td>\n",
       "      <td>8.000</td>\n",
       "      <td>55.000</td>\n",
       "      <td>3.000</td>\n",
       "      <td>3.000</td>\n",
       "    </tr>\n",
       "    <tr>\n",
       "      <td>max</td>\n",
       "      <td>383000000.000</td>\n",
       "      <td>4.000</td>\n",
       "      <td>8.000</td>\n",
       "      <td>92.000</td>\n",
       "      <td>9.000</td>\n",
       "      <td>5.000</td>\n",
       "    </tr>\n",
       "  </tbody>\n",
       "</table>\n",
       "</div>"
      ],
      "text/plain": [
       "       NR_DESPESA_MAX_CAMPANHA  CD_GENERO  CD_GRAU_INSTRUCAO  \\\n",
       "count                26264.000  26264.000          26264.000   \n",
       "mean               2492303.064      2.620              6.689   \n",
       "std                5239804.836      0.925              1.492   \n",
       "min                     -1.000      2.000              2.000   \n",
       "25%                 700000.000      2.000              6.000   \n",
       "50%                2000000.000      2.000              7.000   \n",
       "75%                3000000.000      4.000              8.000   \n",
       "max              383000000.000      4.000              8.000   \n",
       "\n",
       "       NR_IDADE_DATA_POSSE  CD_ESTADO_CIVIL  CD_COR_RACA  \n",
       "count            26264.000        26264.000    26264.000  \n",
       "mean                47.171            3.119        1.819  \n",
       "std                 11.430            2.300        0.956  \n",
       "min                 18.000            1.000        1.000  \n",
       "25%                 39.000            1.000        1.000  \n",
       "50%                 47.000            3.000        1.000  \n",
       "75%                 55.000            3.000        3.000  \n",
       "max                 92.000            9.000        5.000  "
      ]
     },
     "execution_count": 13,
     "metadata": {},
     "output_type": "execute_result"
    }
   ],
   "source": [
    "candidatos_2014[['NR_DESPESA_MAX_CAMPANHA', 'CD_GENERO', 'CD_GRAU_INSTRUCAO', 'NR_IDADE_DATA_POSSE', 'CD_ESTADO_CIVIL', 'CD_COR_RACA']].describe()"
   ]
  },
  {
   "cell_type": "markdown",
   "metadata": {},
   "source": [
    "## Variaveis do KNN (X e y)"
   ]
  },
  {
   "cell_type": "code",
   "execution_count": 14,
   "metadata": {},
   "outputs": [
    {
     "data": {
      "text/html": [
       "<div>\n",
       "<style scoped>\n",
       "    .dataframe tbody tr th:only-of-type {\n",
       "        vertical-align: middle;\n",
       "    }\n",
       "\n",
       "    .dataframe tbody tr th {\n",
       "        vertical-align: top;\n",
       "    }\n",
       "\n",
       "    .dataframe thead th {\n",
       "        text-align: right;\n",
       "    }\n",
       "</style>\n",
       "<table border=\"1\" class=\"dataframe\">\n",
       "  <thead>\n",
       "    <tr style=\"text-align: right;\">\n",
       "      <th></th>\n",
       "      <th>ST_REELEICAO</th>\n",
       "      <th>NR_DESPESA_MAX_CAMPANHA</th>\n",
       "      <th>DS_GENERO</th>\n",
       "      <th>DS_GRAU_INSTRUCAO</th>\n",
       "      <th>NR_IDADE_DATA_POSSE</th>\n",
       "      <th>DS_ESTADO_CIVIL</th>\n",
       "      <th>DS_COR_RACA</th>\n",
       "      <th>DS_SIT_TOT_TURNO</th>\n",
       "    </tr>\n",
       "  </thead>\n",
       "  <tbody>\n",
       "    <tr>\n",
       "      <td>0</td>\n",
       "      <td>N</td>\n",
       "      <td>36000000</td>\n",
       "      <td>FEMININO</td>\n",
       "      <td>SUPERIOR COMPLETO</td>\n",
       "      <td>49</td>\n",
       "      <td>DIVORCIADO(A)</td>\n",
       "      <td>BRANCA</td>\n",
       "      <td>NÃO ELEITO</td>\n",
       "    </tr>\n",
       "    <tr>\n",
       "      <td>1</td>\n",
       "      <td>N</td>\n",
       "      <td>20000000</td>\n",
       "      <td>MASCULINO</td>\n",
       "      <td>ENSINO FUNDAMENTAL COMPLETO</td>\n",
       "      <td>50</td>\n",
       "      <td>CASADO(A)</td>\n",
       "      <td>PARDA</td>\n",
       "      <td>NÃO ELEITO</td>\n",
       "    </tr>\n",
       "    <tr>\n",
       "      <td>2</td>\n",
       "      <td>N</td>\n",
       "      <td>2000000</td>\n",
       "      <td>MASCULINO</td>\n",
       "      <td>ENSINO FUNDAMENTAL INCOMPLETO</td>\n",
       "      <td>46</td>\n",
       "      <td>DIVORCIADO(A)</td>\n",
       "      <td>BRANCA</td>\n",
       "      <td>SUPLENTE</td>\n",
       "    </tr>\n",
       "    <tr>\n",
       "      <td>3</td>\n",
       "      <td>N</td>\n",
       "      <td>5000000</td>\n",
       "      <td>FEMININO</td>\n",
       "      <td>SUPERIOR COMPLETO</td>\n",
       "      <td>74</td>\n",
       "      <td>SOLTEIRO(A)</td>\n",
       "      <td>BRANCA</td>\n",
       "      <td>SUPLENTE</td>\n",
       "    </tr>\n",
       "    <tr>\n",
       "      <td>4</td>\n",
       "      <td>N</td>\n",
       "      <td>1000000</td>\n",
       "      <td>FEMININO</td>\n",
       "      <td>SUPERIOR COMPLETO</td>\n",
       "      <td>48</td>\n",
       "      <td>CASADO(A)</td>\n",
       "      <td>BRANCA</td>\n",
       "      <td>SUPLENTE</td>\n",
       "    </tr>\n",
       "    <tr>\n",
       "      <td>...</td>\n",
       "      <td>...</td>\n",
       "      <td>...</td>\n",
       "      <td>...</td>\n",
       "      <td>...</td>\n",
       "      <td>...</td>\n",
       "      <td>...</td>\n",
       "      <td>...</td>\n",
       "      <td>...</td>\n",
       "    </tr>\n",
       "    <tr>\n",
       "      <td>26259</td>\n",
       "      <td>N</td>\n",
       "      <td>3000000</td>\n",
       "      <td>MASCULINO</td>\n",
       "      <td>SUPERIOR COMPLETO</td>\n",
       "      <td>52</td>\n",
       "      <td>SOLTEIRO(A)</td>\n",
       "      <td>PARDA</td>\n",
       "      <td>SUPLENTE</td>\n",
       "    </tr>\n",
       "    <tr>\n",
       "      <td>26260</td>\n",
       "      <td>N</td>\n",
       "      <td>4500000</td>\n",
       "      <td>MASCULINO</td>\n",
       "      <td>ENSINO FUNDAMENTAL COMPLETO</td>\n",
       "      <td>59</td>\n",
       "      <td>CASADO(A)</td>\n",
       "      <td>BRANCA</td>\n",
       "      <td>SUPLENTE</td>\n",
       "    </tr>\n",
       "    <tr>\n",
       "      <td>26261</td>\n",
       "      <td>N</td>\n",
       "      <td>3000000</td>\n",
       "      <td>FEMININO</td>\n",
       "      <td>SUPERIOR INCOMPLETO</td>\n",
       "      <td>41</td>\n",
       "      <td>CASADO(A)</td>\n",
       "      <td>BRANCA</td>\n",
       "      <td>SUPLENTE</td>\n",
       "    </tr>\n",
       "    <tr>\n",
       "      <td>26262</td>\n",
       "      <td>N</td>\n",
       "      <td>1200000</td>\n",
       "      <td>FEMININO</td>\n",
       "      <td>SUPERIOR COMPLETO</td>\n",
       "      <td>27</td>\n",
       "      <td>SOLTEIRO(A)</td>\n",
       "      <td>BRANCA</td>\n",
       "      <td>SUPLENTE</td>\n",
       "    </tr>\n",
       "    <tr>\n",
       "      <td>26263</td>\n",
       "      <td>N</td>\n",
       "      <td>4000000</td>\n",
       "      <td>MASCULINO</td>\n",
       "      <td>ENSINO MÉDIO COMPLETO</td>\n",
       "      <td>40</td>\n",
       "      <td>DIVORCIADO(A)</td>\n",
       "      <td>BRANCA</td>\n",
       "      <td>SUPLENTE</td>\n",
       "    </tr>\n",
       "  </tbody>\n",
       "</table>\n",
       "<p>26264 rows × 8 columns</p>\n",
       "</div>"
      ],
      "text/plain": [
       "      ST_REELEICAO  NR_DESPESA_MAX_CAMPANHA  DS_GENERO  \\\n",
       "0                N                 36000000   FEMININO   \n",
       "1                N                 20000000  MASCULINO   \n",
       "2                N                  2000000  MASCULINO   \n",
       "3                N                  5000000   FEMININO   \n",
       "4                N                  1000000   FEMININO   \n",
       "...            ...                      ...        ...   \n",
       "26259            N                  3000000  MASCULINO   \n",
       "26260            N                  4500000  MASCULINO   \n",
       "26261            N                  3000000   FEMININO   \n",
       "26262            N                  1200000   FEMININO   \n",
       "26263            N                  4000000  MASCULINO   \n",
       "\n",
       "                   DS_GRAU_INSTRUCAO  NR_IDADE_DATA_POSSE DS_ESTADO_CIVIL  \\\n",
       "0                  SUPERIOR COMPLETO                   49   DIVORCIADO(A)   \n",
       "1        ENSINO FUNDAMENTAL COMPLETO                   50       CASADO(A)   \n",
       "2      ENSINO FUNDAMENTAL INCOMPLETO                   46   DIVORCIADO(A)   \n",
       "3                  SUPERIOR COMPLETO                   74     SOLTEIRO(A)   \n",
       "4                  SUPERIOR COMPLETO                   48       CASADO(A)   \n",
       "...                              ...                  ...             ...   \n",
       "26259              SUPERIOR COMPLETO                   52     SOLTEIRO(A)   \n",
       "26260    ENSINO FUNDAMENTAL COMPLETO                   59       CASADO(A)   \n",
       "26261            SUPERIOR INCOMPLETO                   41       CASADO(A)   \n",
       "26262              SUPERIOR COMPLETO                   27     SOLTEIRO(A)   \n",
       "26263          ENSINO MÉDIO COMPLETO                   40   DIVORCIADO(A)   \n",
       "\n",
       "      DS_COR_RACA DS_SIT_TOT_TURNO  \n",
       "0          BRANCA       NÃO ELEITO  \n",
       "1           PARDA       NÃO ELEITO  \n",
       "2          BRANCA         SUPLENTE  \n",
       "3          BRANCA         SUPLENTE  \n",
       "4          BRANCA         SUPLENTE  \n",
       "...           ...              ...  \n",
       "26259       PARDA         SUPLENTE  \n",
       "26260      BRANCA         SUPLENTE  \n",
       "26261      BRANCA         SUPLENTE  \n",
       "26262      BRANCA         SUPLENTE  \n",
       "26263      BRANCA         SUPLENTE  \n",
       "\n",
       "[26264 rows x 8 columns]"
      ]
     },
     "execution_count": 14,
     "metadata": {},
     "output_type": "execute_result"
    }
   ],
   "source": [
    "candidatos_2014[['ST_REELEICAO', 'NR_DESPESA_MAX_CAMPANHA', 'DS_GENERO', 'DS_GRAU_INSTRUCAO', 'NR_IDADE_DATA_POSSE', 'DS_ESTADO_CIVIL', 'DS_COR_RACA', 'DS_SIT_TOT_TURNO']]"
   ]
  },
  {
   "cell_type": "markdown",
   "metadata": {},
   "source": [
    "## Variável resultado (y_chapeu)"
   ]
  },
  {
   "cell_type": "code",
   "execution_count": 15,
   "metadata": {},
   "outputs": [
    {
     "data": {
      "text/plain": [
       "DS_SIT_TOT_TURNO\n",
       "#NULO#               3280\n",
       "2º TURNO               60\n",
       "ELEITO                143\n",
       "ELEITO POR MÉDIA      215\n",
       "ELEITO POR QP        1357\n",
       "NÃO ELEITO           4992\n",
       "SUPLENTE            16217\n",
       "Name: DS_SIT_TOT_TURNO, dtype: int64"
      ]
     },
     "execution_count": 15,
     "metadata": {},
     "output_type": "execute_result"
    }
   ],
   "source": [
    "candidatos_2014.groupby(['DS_SIT_TOT_TURNO'])['DS_SIT_TOT_TURNO'].count()"
   ]
  },
  {
   "cell_type": "code",
   "execution_count": 16,
   "metadata": {},
   "outputs": [
    {
     "data": {
      "text/plain": [
       "7"
      ]
     },
     "execution_count": 16,
     "metadata": {},
     "output_type": "execute_result"
    }
   ],
   "source": [
    "candidatos_2014['DS_SIT_TOT_TURNO'].nunique()"
   ]
  },
  {
   "cell_type": "code",
   "execution_count": 17,
   "metadata": {},
   "outputs": [
    {
     "data": {
      "text/plain": [
       "26264"
      ]
     },
     "execution_count": 17,
     "metadata": {},
     "output_type": "execute_result"
    }
   ],
   "source": [
    "candidatos_2014['DS_SIT_TOT_TURNO'].count()"
   ]
  },
  {
   "cell_type": "code",
   "execution_count": 18,
   "metadata": {},
   "outputs": [
    {
     "data": {
      "text/plain": [
       "3752.0"
      ]
     },
     "execution_count": 18,
     "metadata": {},
     "output_type": "execute_result"
    }
   ],
   "source": [
    "candidatos_2014['DS_SIT_TOT_TURNO'].count() / candidatos_2014['DS_SIT_TOT_TURNO'].nunique()"
   ]
  },
  {
   "cell_type": "code",
   "execution_count": null,
   "metadata": {},
   "outputs": [],
   "source": []
  },
  {
   "cell_type": "code",
   "execution_count": 19,
   "metadata": {
    "scrolled": true
   },
   "outputs": [
    {
     "data": {
      "text/plain": [
       "6"
      ]
     },
     "execution_count": 19,
     "metadata": {},
     "output_type": "execute_result"
    }
   ],
   "source": [
    "candidatos_2014[candidatos_2014['DS_SIT_TOT_TURNO'] != 'SUPLENTE']['DS_SIT_TOT_TURNO'].nunique()"
   ]
  },
  {
   "cell_type": "code",
   "execution_count": 20,
   "metadata": {},
   "outputs": [
    {
     "data": {
      "text/plain": [
       "10047"
      ]
     },
     "execution_count": 20,
     "metadata": {},
     "output_type": "execute_result"
    }
   ],
   "source": [
    "candidatos_2014[candidatos_2014['DS_SIT_TOT_TURNO'] != 'SUPLENTE']['DS_SIT_TOT_TURNO'].count()"
   ]
  },
  {
   "cell_type": "code",
   "execution_count": 21,
   "metadata": {},
   "outputs": [
    {
     "data": {
      "text/plain": [
       "1674.5"
      ]
     },
     "execution_count": 21,
     "metadata": {},
     "output_type": "execute_result"
    }
   ],
   "source": [
    "candidatos_2014[candidatos_2014['DS_SIT_TOT_TURNO'] != 'SUPLENTE']['DS_SIT_TOT_TURNO'].count() / candidatos_2014[candidatos_2014['DS_SIT_TOT_TURNO'] != 'SUPLENTE']['DS_SIT_TOT_TURNO'].nunique()"
   ]
  },
  {
   "cell_type": "markdown",
   "metadata": {},
   "source": [
    "# Usando KNN"
   ]
  },
  {
   "cell_type": "code",
   "execution_count": 22,
   "metadata": {},
   "outputs": [],
   "source": [
    "X = candidatos_2014[(candidatos_2014['DS_CARGO'] != 'PRESIDENTE')&(candidatos_2014['DS_CARGO'] != 'VICE-PRESIDENTE')][['ST_REELEICAO','NR_DESPESA_MAX_CAMPANHA']]"
   ]
  },
  {
   "cell_type": "code",
   "execution_count": 23,
   "metadata": {},
   "outputs": [],
   "source": [
    "X['ST_REELEICAO'] = X['ST_REELEICAO'].cat.rename_categories([0,1])"
   ]
  },
  {
   "cell_type": "code",
   "execution_count": 24,
   "metadata": {},
   "outputs": [],
   "source": [
    "y = candidatos_2014[(candidatos_2014['DS_CARGO'] != 'PRESIDENTE')&(candidatos_2014['DS_CARGO'] != 'VICE-PRESIDENTE')]['DS_SIT_TOT_TURNO']"
   ]
  },
  {
   "cell_type": "code",
   "execution_count": 25,
   "metadata": {},
   "outputs": [],
   "source": [
    "X_train, X_test, y_train, y_test = train_test_split(X, y, test_size=0.33, random_state=42)"
   ]
  },
  {
   "cell_type": "code",
   "execution_count": 26,
   "metadata": {},
   "outputs": [
    {
     "name": "stdout",
     "output_type": "stream",
     "text": [
      "['SUPLENTE' 'SUPLENTE' 'SUPLENTE' ... '#NULO#' 'SUPLENTE' 'SUPLENTE']\n"
     ]
    }
   ],
   "source": [
    "from sklearn.neighbors import KNeighborsClassifier\n",
    "\n",
    "model = KNeighborsClassifier(n_neighbors= 1674, weights='distance')\n",
    "\n",
    "# Train the model using the training sets\n",
    "model.fit(X_train, np.array(y_train))\n",
    "\n",
    "#Predict Output\n",
    "predicted= model.predict(X_test) # 0:Overcast, 2:Mild\n",
    "print(predicted)"
   ]
  },
  {
   "cell_type": "code",
   "execution_count": 27,
   "metadata": {},
   "outputs": [
    {
     "data": {
      "text/plain": [
       "2650          SUPLENTE\n",
       "6056          SUPLENTE\n",
       "1249          SUPLENTE\n",
       "15987         SUPLENTE\n",
       "20772    ELEITO POR QP\n",
       "             ...      \n",
       "5411          SUPLENTE\n",
       "12592         SUPLENTE\n",
       "8940            #NULO#\n",
       "3202          SUPLENTE\n",
       "5261     ELEITO POR QP\n",
       "Name: DS_SIT_TOT_TURNO, Length: 8658, dtype: category\n",
       "Categories (7, object): [#NULO# < 2º TURNO < ELEITO < ELEITO POR MÉDIA < ELEITO POR QP < NÃO ELEITO < SUPLENTE]"
      ]
     },
     "execution_count": 27,
     "metadata": {},
     "output_type": "execute_result"
    }
   ],
   "source": [
    "y_test"
   ]
  },
  {
   "cell_type": "code",
   "execution_count": 28,
   "metadata": {},
   "outputs": [
    {
     "data": {
      "text/plain": [
       "array(['SUPLENTE', 'SUPLENTE', 'SUPLENTE', ..., '#NULO#', 'SUPLENTE',\n",
       "       'ELEITO POR QP'], dtype=object)"
      ]
     },
     "execution_count": 28,
     "metadata": {},
     "output_type": "execute_result"
    }
   ],
   "source": [
    "novo_y_test = np.array(y_test)\n",
    "novo_y_test"
   ]
  },
  {
   "cell_type": "code",
   "execution_count": 29,
   "metadata": {},
   "outputs": [
    {
     "data": {
      "text/plain": [
       "array(['SUPLENTE', 'SUPLENTE', 'SUPLENTE', ..., '#NULO#', 'SUPLENTE',\n",
       "       'SUPLENTE'], dtype=object)"
      ]
     },
     "execution_count": 29,
     "metadata": {},
     "output_type": "execute_result"
    }
   ],
   "source": [
    "predicted"
   ]
  },
  {
   "cell_type": "markdown",
   "metadata": {},
   "source": [
    "# Taxa de acerto (KNN)"
   ]
  },
  {
   "cell_type": "code",
   "execution_count": 30,
   "metadata": {},
   "outputs": [
    {
     "data": {
      "text/plain": [
       "0.782975282975283"
      ]
     },
     "execution_count": 30,
     "metadata": {},
     "output_type": "execute_result"
    }
   ],
   "source": [
    "1 - sum([y != p for y, p in zip(novo_y_test, predicted)]) /len(predicted)"
   ]
  },
  {
   "cell_type": "code",
   "execution_count": null,
   "metadata": {},
   "outputs": [],
   "source": []
  },
  {
   "cell_type": "markdown",
   "metadata": {},
   "source": [
    "# Usando Navi Bayes"
   ]
  },
  {
   "cell_type": "code",
   "execution_count": 31,
   "metadata": {},
   "outputs": [],
   "source": [
    "X = candidatos_2014[(candidatos_2014['DS_CARGO'] != 'PRESIDENTE')&(candidatos_2014['DS_CARGO'] != 'VICE-PRESIDENTE')][['ST_REELEICAO','NR_DESPESA_MAX_CAMPANHA']]"
   ]
  },
  {
   "cell_type": "code",
   "execution_count": 32,
   "metadata": {},
   "outputs": [],
   "source": [
    "y = candidatos_2014[(candidatos_2014['DS_CARGO'] != 'PRESIDENTE')&(candidatos_2014['DS_CARGO'] != 'VICE-PRESIDENTE')]['DS_SIT_TOT_TURNO']"
   ]
  },
  {
   "cell_type": "code",
   "execution_count": 33,
   "metadata": {},
   "outputs": [],
   "source": [
    "X['ST_REELEICAO'] = X['ST_REELEICAO'].cat.rename_categories([0,1])"
   ]
  },
  {
   "cell_type": "code",
   "execution_count": 34,
   "metadata": {},
   "outputs": [],
   "source": [
    "X_train, X_test, y_train, y_test = train_test_split(X, y, test_size=0.33, random_state=42)"
   ]
  },
  {
   "cell_type": "code",
   "execution_count": 35,
   "metadata": {},
   "outputs": [],
   "source": [
    "from sklearn import datasets\n",
    "from sklearn.naive_bayes import GaussianNB\n",
    "gnb = GaussianNB()\n",
    "y_pred = gnb.fit(X_train, y_train).predict(X_test)"
   ]
  },
  {
   "cell_type": "code",
   "execution_count": 36,
   "metadata": {},
   "outputs": [
    {
     "data": {
      "text/plain": [
       "array(['SUPLENTE', 'SUPLENTE', 'SUPLENTE', ..., '#NULO#', 'SUPLENTE',\n",
       "       'SUPLENTE'], dtype='<U16')"
      ]
     },
     "execution_count": 36,
     "metadata": {},
     "output_type": "execute_result"
    }
   ],
   "source": [
    "y_pred"
   ]
  },
  {
   "cell_type": "code",
   "execution_count": 37,
   "metadata": {},
   "outputs": [
    {
     "data": {
      "text/plain": [
       "array(['SUPLENTE', 'SUPLENTE', 'SUPLENTE', ..., '#NULO#', 'SUPLENTE',\n",
       "       'ELEITO POR QP'], dtype=object)"
      ]
     },
     "execution_count": 37,
     "metadata": {},
     "output_type": "execute_result"
    }
   ],
   "source": [
    "novo_y_test = np.array(y_test)\n",
    "novo_y_test"
   ]
  },
  {
   "cell_type": "markdown",
   "metadata": {},
   "source": [
    "# Taxa de acerto (Navi Bayes)"
   ]
  },
  {
   "cell_type": "code",
   "execution_count": 38,
   "metadata": {},
   "outputs": [
    {
     "data": {
      "text/plain": [
       "0.7428967428967429"
      ]
     },
     "execution_count": 38,
     "metadata": {},
     "output_type": "execute_result"
    }
   ],
   "source": [
    "1 - sum([y != p for y, p in zip(novo_y_test, y_pred)]) /len(y_pred)"
   ]
  },
  {
   "cell_type": "markdown",
   "metadata": {},
   "source": [
    "# Usando Random Forest"
   ]
  },
  {
   "cell_type": "code",
   "execution_count": 39,
   "metadata": {},
   "outputs": [
    {
     "ename": "ModuleNotFoundError",
     "evalue": "No module named 'fastaai_utils'",
     "output_type": "error",
     "traceback": [
      "\u001b[0;31m---------------------------------------------------------------------------\u001b[0m",
      "\u001b[0;31mModuleNotFoundError\u001b[0m                       Traceback (most recent call last)",
      "\u001b[0;32m<ipython-input-39-6963e6b3227d>\u001b[0m in \u001b[0;36m<module>\u001b[0;34m\u001b[0m\n\u001b[1;32m      1\u001b[0m \u001b[0;32mimport\u001b[0m \u001b[0mpandas\u001b[0m \u001b[0;32mas\u001b[0m \u001b[0mpd\u001b[0m\u001b[0;34m\u001b[0m\u001b[0;34m\u001b[0m\u001b[0m\n\u001b[1;32m      2\u001b[0m \u001b[0;32mimport\u001b[0m \u001b[0mnumpy\u001b[0m \u001b[0;32mas\u001b[0m \u001b[0mnp\u001b[0m\u001b[0;34m\u001b[0m\u001b[0;34m\u001b[0m\u001b[0m\n\u001b[0;32m----> 3\u001b[0;31m \u001b[0;32mfrom\u001b[0m \u001b[0mfastaai_utils\u001b[0m \u001b[0;32mimport\u001b[0m \u001b[0madd_datepart\u001b[0m\u001b[0;34m,\u001b[0m \u001b[0mtrain_cats\u001b[0m\u001b[0;34m,\u001b[0m \u001b[0mproc_df\u001b[0m\u001b[0;34m\u001b[0m\u001b[0;34m\u001b[0m\u001b[0m\n\u001b[0m\u001b[1;32m      4\u001b[0m \u001b[0;32mimport\u001b[0m \u001b[0mos\u001b[0m\u001b[0;34m\u001b[0m\u001b[0;34m\u001b[0m\u001b[0m\n\u001b[1;32m      5\u001b[0m \u001b[0;32mimport\u001b[0m \u001b[0mmath\u001b[0m\u001b[0;34m\u001b[0m\u001b[0;34m\u001b[0m\u001b[0m\n",
      "\u001b[0;31mModuleNotFoundError\u001b[0m: No module named 'fastaai_utils'"
     ]
    }
   ],
   "source": [
    "import pandas as pd\n",
    "import numpy as np\n",
    "from fastaai_utils import add_datepart, train_cats, proc_df\n",
    "import os\n",
    "import math\n",
    "from sklearn.ensemble import RandomForestRegressor"
   ]
  },
  {
   "cell_type": "code",
   "execution_count": 41,
   "metadata": {},
   "outputs": [
    {
     "data": {
      "text/html": [
       "<div>\n",
       "<style scoped>\n",
       "    .dataframe tbody tr th:only-of-type {\n",
       "        vertical-align: middle;\n",
       "    }\n",
       "\n",
       "    .dataframe tbody tr th {\n",
       "        vertical-align: top;\n",
       "    }\n",
       "\n",
       "    .dataframe thead th {\n",
       "        text-align: right;\n",
       "    }\n",
       "</style>\n",
       "<table border=\"1\" class=\"dataframe\">\n",
       "  <thead>\n",
       "    <tr style=\"text-align: right;\">\n",
       "      <th></th>\n",
       "      <th>0</th>\n",
       "      <th>1</th>\n",
       "      <th>2</th>\n",
       "      <th>3</th>\n",
       "      <th>4</th>\n",
       "    </tr>\n",
       "  </thead>\n",
       "  <tbody>\n",
       "    <tr>\n",
       "      <td>DT_GERACAO</td>\n",
       "      <td>2018-09-20 00:00:00</td>\n",
       "      <td>2018-09-20 00:00:00</td>\n",
       "      <td>2018-09-20 00:00:00</td>\n",
       "      <td>2018-09-20 00:00:00</td>\n",
       "      <td>2018-09-20 00:00:00</td>\n",
       "    </tr>\n",
       "    <tr>\n",
       "      <td>HH_GERACAO</td>\n",
       "      <td>09:50:32</td>\n",
       "      <td>09:50:32</td>\n",
       "      <td>09:50:32</td>\n",
       "      <td>09:50:32</td>\n",
       "      <td>09:50:32</td>\n",
       "    </tr>\n",
       "    <tr>\n",
       "      <td>ANO_ELEICAO</td>\n",
       "      <td>2014</td>\n",
       "      <td>2014</td>\n",
       "      <td>2014</td>\n",
       "      <td>2014</td>\n",
       "      <td>2014</td>\n",
       "    </tr>\n",
       "    <tr>\n",
       "      <td>CD_TIPO_ELEICAO</td>\n",
       "      <td>2</td>\n",
       "      <td>2</td>\n",
       "      <td>2</td>\n",
       "      <td>2</td>\n",
       "      <td>2</td>\n",
       "    </tr>\n",
       "    <tr>\n",
       "      <td>NM_TIPO_ELEICAO</td>\n",
       "      <td>ELEIÇÃO ORDINÁRIA</td>\n",
       "      <td>ELEIÇÃO ORDINÁRIA</td>\n",
       "      <td>ELEIÇÃO ORDINÁRIA</td>\n",
       "      <td>ELEIÇÃO ORDINÁRIA</td>\n",
       "      <td>ELEIÇÃO ORDINÁRIA</td>\n",
       "    </tr>\n",
       "  </tbody>\n",
       "</table>\n",
       "</div>"
      ],
      "text/plain": [
       "                                   0                    1  \\\n",
       "DT_GERACAO       2018-09-20 00:00:00  2018-09-20 00:00:00   \n",
       "HH_GERACAO                  09:50:32             09:50:32   \n",
       "ANO_ELEICAO                     2014                 2014   \n",
       "CD_TIPO_ELEICAO                    2                    2   \n",
       "NM_TIPO_ELEICAO    ELEIÇÃO ORDINÁRIA    ELEIÇÃO ORDINÁRIA   \n",
       "\n",
       "                                   2                    3                    4  \n",
       "DT_GERACAO       2018-09-20 00:00:00  2018-09-20 00:00:00  2018-09-20 00:00:00  \n",
       "HH_GERACAO                  09:50:32             09:50:32             09:50:32  \n",
       "ANO_ELEICAO                     2014                 2014                 2014  \n",
       "CD_TIPO_ELEICAO                    2                    2                    2  \n",
       "NM_TIPO_ELEICAO    ELEIÇÃO ORDINÁRIA    ELEIÇÃO ORDINÁRIA    ELEIÇÃO ORDINÁRIA  "
      ]
     },
     "execution_count": 41,
     "metadata": {},
     "output_type": "execute_result"
    }
   ],
   "source": [
    "candidatos_2014.head().T[:5]"
   ]
  },
  {
   "cell_type": "markdown",
   "metadata": {},
   "source": [
    "# Escolha das variáveis do modelo Random Forest"
   ]
  },
  {
   "cell_type": "code",
   "execution_count": 46,
   "metadata": {},
   "outputs": [],
   "source": [
    "modelo_tratamento = candidatos_2014[['NR_TURNO', 'TP_ABRANGENCIA','NM_UE','CD_CARGO','TP_AGREMIACAO', 'NR_PARTIDO', 'NR_IDADE_DATA_POSSE', 'CD_GENERO', 'CD_GRAU_INSTRUCAO', 'CD_ESTADO_CIVIL','CD_COR_RACA', 'NR_DESPESA_MAX_CAMPANHA', 'CD_SIT_TOT_TURNO','ST_REELEICAO']]"
   ]
  },
  {
   "cell_type": "code",
   "execution_count": 47,
   "metadata": {},
   "outputs": [],
   "source": [
    "modelo_random = modelo_tratamento[modelo_tratamento['NR_DESPESA_MAX_CAMPANHA'] > 0]"
   ]
  },
  {
   "cell_type": "code",
   "execution_count": 48,
   "metadata": {},
   "outputs": [],
   "source": [
    "import pandas as pd\n",
    "import numpy as np\n",
    "from fastaai_utils import add_datepart, train_cats, proc_df\n",
    "import os\n",
    "import math\n",
    "from sklearn.ensemble import RandomForestRegressor\n",
    "from sklearn.ensemble import RandomForestClassifier\n",
    "from sklearn.datasets import make_classification"
   ]
  },
  {
   "cell_type": "code",
   "execution_count": 49,
   "metadata": {},
   "outputs": [],
   "source": [
    "df_raw = modelo_random"
   ]
  },
  {
   "cell_type": "code",
   "execution_count": 50,
   "metadata": {},
   "outputs": [
    {
     "data": {
      "text/html": [
       "<div>\n",
       "<style scoped>\n",
       "    .dataframe tbody tr th:only-of-type {\n",
       "        vertical-align: middle;\n",
       "    }\n",
       "\n",
       "    .dataframe tbody tr th {\n",
       "        vertical-align: top;\n",
       "    }\n",
       "\n",
       "    .dataframe thead th {\n",
       "        text-align: right;\n",
       "    }\n",
       "</style>\n",
       "<table border=\"1\" class=\"dataframe\">\n",
       "  <thead>\n",
       "    <tr style=\"text-align: right;\">\n",
       "      <th></th>\n",
       "      <th>0</th>\n",
       "      <th>1</th>\n",
       "      <th>2</th>\n",
       "      <th>3</th>\n",
       "      <th>4</th>\n",
       "    </tr>\n",
       "  </thead>\n",
       "  <tbody>\n",
       "    <tr>\n",
       "      <td>NR_TURNO</td>\n",
       "      <td>1</td>\n",
       "      <td>1</td>\n",
       "      <td>1</td>\n",
       "      <td>1</td>\n",
       "      <td>1</td>\n",
       "    </tr>\n",
       "    <tr>\n",
       "      <td>TP_ABRANGENCIA</td>\n",
       "      <td>FEDERAL</td>\n",
       "      <td>FEDERAL</td>\n",
       "      <td>FEDERAL</td>\n",
       "      <td>FEDERAL</td>\n",
       "      <td>FEDERAL</td>\n",
       "    </tr>\n",
       "    <tr>\n",
       "      <td>NM_UE</td>\n",
       "      <td>PARANÁ</td>\n",
       "      <td>ALAGOAS</td>\n",
       "      <td>RIO DE JANEIRO</td>\n",
       "      <td>RIO DE JANEIRO</td>\n",
       "      <td>RIO DE JANEIRO</td>\n",
       "    </tr>\n",
       "    <tr>\n",
       "      <td>CD_CARGO</td>\n",
       "      <td>3</td>\n",
       "      <td>7</td>\n",
       "      <td>7</td>\n",
       "      <td>7</td>\n",
       "      <td>7</td>\n",
       "    </tr>\n",
       "    <tr>\n",
       "      <td>TP_AGREMIACAO</td>\n",
       "      <td>COLIGAÇÃO</td>\n",
       "      <td>PARTIDO ISOLADO</td>\n",
       "      <td>COLIGAÇÃO</td>\n",
       "      <td>PARTIDO ISOLADO</td>\n",
       "      <td>COLIGAÇÃO</td>\n",
       "    </tr>\n",
       "    <tr>\n",
       "      <td>NR_PARTIDO</td>\n",
       "      <td>13</td>\n",
       "      <td>36</td>\n",
       "      <td>36</td>\n",
       "      <td>31</td>\n",
       "      <td>25</td>\n",
       "    </tr>\n",
       "    <tr>\n",
       "      <td>NR_IDADE_DATA_POSSE</td>\n",
       "      <td>49</td>\n",
       "      <td>50</td>\n",
       "      <td>46</td>\n",
       "      <td>74</td>\n",
       "      <td>48</td>\n",
       "    </tr>\n",
       "    <tr>\n",
       "      <td>CD_GENERO</td>\n",
       "      <td>4</td>\n",
       "      <td>2</td>\n",
       "      <td>2</td>\n",
       "      <td>4</td>\n",
       "      <td>4</td>\n",
       "    </tr>\n",
       "    <tr>\n",
       "      <td>CD_GRAU_INSTRUCAO</td>\n",
       "      <td>8</td>\n",
       "      <td>4</td>\n",
       "      <td>3</td>\n",
       "      <td>8</td>\n",
       "      <td>8</td>\n",
       "    </tr>\n",
       "    <tr>\n",
       "      <td>CD_ESTADO_CIVIL</td>\n",
       "      <td>9</td>\n",
       "      <td>3</td>\n",
       "      <td>9</td>\n",
       "      <td>1</td>\n",
       "      <td>3</td>\n",
       "    </tr>\n",
       "    <tr>\n",
       "      <td>CD_COR_RACA</td>\n",
       "      <td>1</td>\n",
       "      <td>3</td>\n",
       "      <td>1</td>\n",
       "      <td>1</td>\n",
       "      <td>1</td>\n",
       "    </tr>\n",
       "    <tr>\n",
       "      <td>NR_DESPESA_MAX_CAMPANHA</td>\n",
       "      <td>36000000</td>\n",
       "      <td>20000000</td>\n",
       "      <td>2000000</td>\n",
       "      <td>5000000</td>\n",
       "      <td>1000000</td>\n",
       "    </tr>\n",
       "    <tr>\n",
       "      <td>CD_SIT_TOT_TURNO</td>\n",
       "      <td>4</td>\n",
       "      <td>4</td>\n",
       "      <td>5</td>\n",
       "      <td>5</td>\n",
       "      <td>5</td>\n",
       "    </tr>\n",
       "    <tr>\n",
       "      <td>ST_REELEICAO</td>\n",
       "      <td>N</td>\n",
       "      <td>N</td>\n",
       "      <td>N</td>\n",
       "      <td>N</td>\n",
       "      <td>N</td>\n",
       "    </tr>\n",
       "  </tbody>\n",
       "</table>\n",
       "</div>"
      ],
      "text/plain": [
       "                                 0                1               2  \\\n",
       "NR_TURNO                         1                1               1   \n",
       "TP_ABRANGENCIA             FEDERAL          FEDERAL         FEDERAL   \n",
       "NM_UE                       PARANÁ          ALAGOAS  RIO DE JANEIRO   \n",
       "CD_CARGO                         3                7               7   \n",
       "TP_AGREMIACAO            COLIGAÇÃO  PARTIDO ISOLADO       COLIGAÇÃO   \n",
       "NR_PARTIDO                      13               36              36   \n",
       "NR_IDADE_DATA_POSSE             49               50              46   \n",
       "CD_GENERO                        4                2               2   \n",
       "CD_GRAU_INSTRUCAO                8                4               3   \n",
       "CD_ESTADO_CIVIL                  9                3               9   \n",
       "CD_COR_RACA                      1                3               1   \n",
       "NR_DESPESA_MAX_CAMPANHA   36000000         20000000         2000000   \n",
       "CD_SIT_TOT_TURNO                 4                4               5   \n",
       "ST_REELEICAO                     N                N               N   \n",
       "\n",
       "                                       3               4  \n",
       "NR_TURNO                               1               1  \n",
       "TP_ABRANGENCIA                   FEDERAL         FEDERAL  \n",
       "NM_UE                     RIO DE JANEIRO  RIO DE JANEIRO  \n",
       "CD_CARGO                               7               7  \n",
       "TP_AGREMIACAO            PARTIDO ISOLADO       COLIGAÇÃO  \n",
       "NR_PARTIDO                            31              25  \n",
       "NR_IDADE_DATA_POSSE                   74              48  \n",
       "CD_GENERO                              4               4  \n",
       "CD_GRAU_INSTRUCAO                      8               8  \n",
       "CD_ESTADO_CIVIL                        1               3  \n",
       "CD_COR_RACA                            1               1  \n",
       "NR_DESPESA_MAX_CAMPANHA          5000000         1000000  \n",
       "CD_SIT_TOT_TURNO                       5               5  \n",
       "ST_REELEICAO                           N               N  "
      ]
     },
     "execution_count": 50,
     "metadata": {},
     "output_type": "execute_result"
    }
   ],
   "source": [
    "df_raw.head().T"
   ]
  },
  {
   "cell_type": "code",
   "execution_count": 51,
   "metadata": {
    "scrolled": true
   },
   "outputs": [
    {
     "name": "stderr",
     "output_type": "stream",
     "text": [
      "/home/marco/anaconda3/lib/python3.7/site-packages/pandas/core/generic.py:5208: SettingWithCopyWarning: \n",
      "A value is trying to be set on a copy of a slice from a DataFrame.\n",
      "Try using .loc[row_indexer,col_indexer] = value instead\n",
      "\n",
      "See the caveats in the documentation: http://pandas.pydata.org/pandas-docs/stable/user_guide/indexing.html#returning-a-view-versus-a-copy\n",
      "  self[name] = value\n"
     ]
    }
   ],
   "source": [
    "df_raw.NR_DESPESA_MAX_CAMPANHA = np.log(df_raw.NR_DESPESA_MAX_CAMPANHA)"
   ]
  },
  {
   "cell_type": "markdown",
   "metadata": {},
   "source": [
    "## Passando para 'int' as colunas 'string'"
   ]
  },
  {
   "cell_type": "code",
   "execution_count": 52,
   "metadata": {},
   "outputs": [],
   "source": [
    "df_raw.ST_REELEICAO = df_raw.ST_REELEICAO.cat.codes"
   ]
  },
  {
   "cell_type": "code",
   "execution_count": 53,
   "metadata": {},
   "outputs": [],
   "source": [
    "df_raw.TP_ABRANGENCIA = df_raw.TP_ABRANGENCIA.cat.codes"
   ]
  },
  {
   "cell_type": "code",
   "execution_count": 54,
   "metadata": {},
   "outputs": [],
   "source": [
    "df_raw.NM_UE = df_raw.NM_UE.cat.codes"
   ]
  },
  {
   "cell_type": "code",
   "execution_count": 55,
   "metadata": {},
   "outputs": [],
   "source": [
    "df_raw.TP_AGREMIACAO = df_raw.TP_AGREMIACAO.cat.codes"
   ]
  },
  {
   "cell_type": "markdown",
   "metadata": {},
   "source": [
    "## Checar relação entre as variáveis"
   ]
  },
  {
   "cell_type": "code",
   "execution_count": 56,
   "metadata": {},
   "outputs": [],
   "source": [
    "modelo = df_raw"
   ]
  },
  {
   "cell_type": "code",
   "execution_count": 58,
   "metadata": {},
   "outputs": [
    {
     "data": {
      "text/html": [
       "<div>\n",
       "<style scoped>\n",
       "    .dataframe tbody tr th:only-of-type {\n",
       "        vertical-align: middle;\n",
       "    }\n",
       "\n",
       "    .dataframe tbody tr th {\n",
       "        vertical-align: top;\n",
       "    }\n",
       "\n",
       "    .dataframe thead th {\n",
       "        text-align: right;\n",
       "    }\n",
       "</style>\n",
       "<table border=\"1\" class=\"dataframe\">\n",
       "  <thead>\n",
       "    <tr style=\"text-align: right;\">\n",
       "      <th></th>\n",
       "      <th>NR_TURNO</th>\n",
       "      <th>TP_ABRANGENCIA</th>\n",
       "      <th>NM_UE</th>\n",
       "      <th>CD_CARGO</th>\n",
       "      <th>TP_AGREMIACAO</th>\n",
       "      <th>NR_PARTIDO</th>\n",
       "      <th>NR_IDADE_DATA_POSSE</th>\n",
       "      <th>CD_GENERO</th>\n",
       "      <th>CD_GRAU_INSTRUCAO</th>\n",
       "      <th>CD_ESTADO_CIVIL</th>\n",
       "      <th>CD_COR_RACA</th>\n",
       "      <th>NR_DESPESA_MAX_CAMPANHA</th>\n",
       "      <th>CD_SIT_TOT_TURNO</th>\n",
       "      <th>ST_REELEICAO</th>\n",
       "    </tr>\n",
       "  </thead>\n",
       "  <tbody>\n",
       "    <tr>\n",
       "      <td>NR_TURNO</td>\n",
       "      <td>nan</td>\n",
       "      <td>nan</td>\n",
       "      <td>nan</td>\n",
       "      <td>nan</td>\n",
       "      <td>nan</td>\n",
       "      <td>nan</td>\n",
       "      <td>nan</td>\n",
       "      <td>nan</td>\n",
       "      <td>nan</td>\n",
       "      <td>nan</td>\n",
       "      <td>nan</td>\n",
       "      <td>nan</td>\n",
       "      <td>nan</td>\n",
       "      <td>nan</td>\n",
       "    </tr>\n",
       "    <tr>\n",
       "      <td>TP_ABRANGENCIA</td>\n",
       "      <td>nan</td>\n",
       "      <td>1.000</td>\n",
       "      <td>0.031</td>\n",
       "      <td>0.116</td>\n",
       "      <td>-0.001</td>\n",
       "      <td>0.010</td>\n",
       "      <td>-0.004</td>\n",
       "      <td>0.003</td>\n",
       "      <td>-0.016</td>\n",
       "      <td>-0.001</td>\n",
       "      <td>-0.011</td>\n",
       "      <td>-0.042</td>\n",
       "      <td>0.004</td>\n",
       "      <td>0.004</td>\n",
       "    </tr>\n",
       "    <tr>\n",
       "      <td>NM_UE</td>\n",
       "      <td>nan</td>\n",
       "      <td>0.031</td>\n",
       "      <td>1.000</td>\n",
       "      <td>-0.129</td>\n",
       "      <td>0.229</td>\n",
       "      <td>-0.005</td>\n",
       "      <td>0.050</td>\n",
       "      <td>-0.005</td>\n",
       "      <td>0.000</td>\n",
       "      <td>0.031</td>\n",
       "      <td>-0.214</td>\n",
       "      <td>0.203</td>\n",
       "      <td>-0.000</td>\n",
       "      <td>0.004</td>\n",
       "    </tr>\n",
       "    <tr>\n",
       "      <td>CD_CARGO</td>\n",
       "      <td>nan</td>\n",
       "      <td>0.116</td>\n",
       "      <td>-0.129</td>\n",
       "      <td>1.000</td>\n",
       "      <td>0.020</td>\n",
       "      <td>0.025</td>\n",
       "      <td>-0.065</td>\n",
       "      <td>0.022</td>\n",
       "      <td>-0.086</td>\n",
       "      <td>-0.016</td>\n",
       "      <td>0.062</td>\n",
       "      <td>-0.169</td>\n",
       "      <td>0.147</td>\n",
       "      <td>-0.023</td>\n",
       "    </tr>\n",
       "    <tr>\n",
       "      <td>TP_AGREMIACAO</td>\n",
       "      <td>nan</td>\n",
       "      <td>-0.001</td>\n",
       "      <td>0.229</td>\n",
       "      <td>0.020</td>\n",
       "      <td>1.000</td>\n",
       "      <td>0.018</td>\n",
       "      <td>0.005</td>\n",
       "      <td>0.009</td>\n",
       "      <td>0.000</td>\n",
       "      <td>0.011</td>\n",
       "      <td>-0.060</td>\n",
       "      <td>-0.065</td>\n",
       "      <td>-0.061</td>\n",
       "      <td>-0.039</td>\n",
       "    </tr>\n",
       "  </tbody>\n",
       "</table>\n",
       "</div>"
      ],
      "text/plain": [
       "                NR_TURNO  TP_ABRANGENCIA  NM_UE  CD_CARGO  TP_AGREMIACAO  \\\n",
       "NR_TURNO             nan             nan    nan       nan            nan   \n",
       "TP_ABRANGENCIA       nan           1.000  0.031     0.116         -0.001   \n",
       "NM_UE                nan           0.031  1.000    -0.129          0.229   \n",
       "CD_CARGO             nan           0.116 -0.129     1.000          0.020   \n",
       "TP_AGREMIACAO        nan          -0.001  0.229     0.020          1.000   \n",
       "\n",
       "                NR_PARTIDO  NR_IDADE_DATA_POSSE  CD_GENERO  CD_GRAU_INSTRUCAO  \\\n",
       "NR_TURNO               nan                  nan        nan                nan   \n",
       "TP_ABRANGENCIA       0.010               -0.004      0.003             -0.016   \n",
       "NM_UE               -0.005                0.050     -0.005              0.000   \n",
       "CD_CARGO             0.025               -0.065      0.022             -0.086   \n",
       "TP_AGREMIACAO        0.018                0.005      0.009              0.000   \n",
       "\n",
       "                CD_ESTADO_CIVIL  CD_COR_RACA  NR_DESPESA_MAX_CAMPANHA  \\\n",
       "NR_TURNO                    nan          nan                      nan   \n",
       "TP_ABRANGENCIA           -0.001       -0.011                   -0.042   \n",
       "NM_UE                     0.031       -0.214                    0.203   \n",
       "CD_CARGO                 -0.016        0.062                   -0.169   \n",
       "TP_AGREMIACAO             0.011       -0.060                   -0.065   \n",
       "\n",
       "                CD_SIT_TOT_TURNO  ST_REELEICAO  \n",
       "NR_TURNO                     nan           nan  \n",
       "TP_ABRANGENCIA             0.004         0.004  \n",
       "NM_UE                     -0.000         0.004  \n",
       "CD_CARGO                   0.147        -0.023  \n",
       "TP_AGREMIACAO             -0.061        -0.039  "
      ]
     },
     "execution_count": 58,
     "metadata": {},
     "output_type": "execute_result"
    }
   ],
   "source": [
    "modelo.corr()[:5]"
   ]
  },
  {
   "cell_type": "code",
   "execution_count": 59,
   "metadata": {},
   "outputs": [
    {
     "data": {
      "text/html": [
       "<div>\n",
       "<style scoped>\n",
       "    .dataframe tbody tr th:only-of-type {\n",
       "        vertical-align: middle;\n",
       "    }\n",
       "\n",
       "    .dataframe tbody tr th {\n",
       "        vertical-align: top;\n",
       "    }\n",
       "\n",
       "    .dataframe thead th {\n",
       "        text-align: right;\n",
       "    }\n",
       "</style>\n",
       "<table border=\"1\" class=\"dataframe\">\n",
       "  <thead>\n",
       "    <tr style=\"text-align: right;\">\n",
       "      <th></th>\n",
       "      <th>0</th>\n",
       "      <th>1</th>\n",
       "      <th>2</th>\n",
       "      <th>3</th>\n",
       "      <th>4</th>\n",
       "    </tr>\n",
       "  </thead>\n",
       "  <tbody>\n",
       "    <tr>\n",
       "      <td>NR_TURNO</td>\n",
       "      <td>1.000</td>\n",
       "      <td>1.000</td>\n",
       "      <td>1.000</td>\n",
       "      <td>1.000</td>\n",
       "      <td>1.000</td>\n",
       "    </tr>\n",
       "    <tr>\n",
       "      <td>TP_ABRANGENCIA</td>\n",
       "      <td>1.000</td>\n",
       "      <td>1.000</td>\n",
       "      <td>1.000</td>\n",
       "      <td>1.000</td>\n",
       "      <td>1.000</td>\n",
       "    </tr>\n",
       "    <tr>\n",
       "      <td>NM_UE</td>\n",
       "      <td>14.000</td>\n",
       "      <td>1.000</td>\n",
       "      <td>19.000</td>\n",
       "      <td>19.000</td>\n",
       "      <td>19.000</td>\n",
       "    </tr>\n",
       "    <tr>\n",
       "      <td>CD_CARGO</td>\n",
       "      <td>3.000</td>\n",
       "      <td>7.000</td>\n",
       "      <td>7.000</td>\n",
       "      <td>7.000</td>\n",
       "      <td>7.000</td>\n",
       "    </tr>\n",
       "    <tr>\n",
       "      <td>TP_AGREMIACAO</td>\n",
       "      <td>0.000</td>\n",
       "      <td>1.000</td>\n",
       "      <td>0.000</td>\n",
       "      <td>1.000</td>\n",
       "      <td>0.000</td>\n",
       "    </tr>\n",
       "  </tbody>\n",
       "</table>\n",
       "</div>"
      ],
      "text/plain": [
       "                    0     1      2      3      4\n",
       "NR_TURNO        1.000 1.000  1.000  1.000  1.000\n",
       "TP_ABRANGENCIA  1.000 1.000  1.000  1.000  1.000\n",
       "NM_UE          14.000 1.000 19.000 19.000 19.000\n",
       "CD_CARGO        3.000 7.000  7.000  7.000  7.000\n",
       "TP_AGREMIACAO   0.000 1.000  0.000  1.000  0.000"
      ]
     },
     "execution_count": 59,
     "metadata": {},
     "output_type": "execute_result"
    }
   ],
   "source": [
    "modelo.head().T[:5]"
   ]
  },
  {
   "cell_type": "markdown",
   "metadata": {},
   "source": [
    "# Modelo Random Forest Classifier"
   ]
  },
  {
   "cell_type": "code",
   "execution_count": 60,
   "metadata": {},
   "outputs": [],
   "source": [
    "X_train, X_test, y_train, y_test = train_test_split(X, y, test_size=0.33, random_state=42)"
   ]
  },
  {
   "cell_type": "code",
   "execution_count": 61,
   "metadata": {},
   "outputs": [
    {
     "ename": "KeyError",
     "evalue": "\"[('CD_SIT_TOT_TURNO', 'NR_TURNO', 'TP_ABRANGENCIA')] not found in axis\"",
     "output_type": "error",
     "traceback": [
      "\u001b[0;31m---------------------------------------------------------------------------\u001b[0m",
      "\u001b[0;31mKeyError\u001b[0m                                  Traceback (most recent call last)",
      "\u001b[0;32m<ipython-input-61-39f394d77c63>\u001b[0m in \u001b[0;36m<module>\u001b[0;34m\u001b[0m\n\u001b[0;32m----> 1\u001b[0;31m \u001b[0mX\u001b[0m \u001b[0;34m=\u001b[0m \u001b[0mmodelo\u001b[0m\u001b[0;34m.\u001b[0m\u001b[0mdrop\u001b[0m\u001b[0;34m(\u001b[0m\u001b[0;34m[\u001b[0m\u001b[0;34m[\u001b[0m\u001b[0;34m'CD_SIT_TOT_TURNO'\u001b[0m\u001b[0;34m,\u001b[0m \u001b[0;34m'NR_TURNO'\u001b[0m\u001b[0;34m,\u001b[0m\u001b[0;34m'TP_ABRANGENCIA'\u001b[0m\u001b[0;34m]\u001b[0m\u001b[0;34m]\u001b[0m\u001b[0;34m,\u001b[0m \u001b[0maxis\u001b[0m\u001b[0;34m=\u001b[0m\u001b[0;36m1\u001b[0m\u001b[0;34m)\u001b[0m\u001b[0;34m\u001b[0m\u001b[0;34m\u001b[0m\u001b[0m\n\u001b[0m",
      "\u001b[0;32m~/anaconda3/lib/python3.7/site-packages/pandas/core/frame.py\u001b[0m in \u001b[0;36mdrop\u001b[0;34m(self, labels, axis, index, columns, level, inplace, errors)\u001b[0m\n\u001b[1;32m   4100\u001b[0m             \u001b[0mlevel\u001b[0m\u001b[0;34m=\u001b[0m\u001b[0mlevel\u001b[0m\u001b[0;34m,\u001b[0m\u001b[0;34m\u001b[0m\u001b[0;34m\u001b[0m\u001b[0m\n\u001b[1;32m   4101\u001b[0m             \u001b[0minplace\u001b[0m\u001b[0;34m=\u001b[0m\u001b[0minplace\u001b[0m\u001b[0;34m,\u001b[0m\u001b[0;34m\u001b[0m\u001b[0;34m\u001b[0m\u001b[0m\n\u001b[0;32m-> 4102\u001b[0;31m             \u001b[0merrors\u001b[0m\u001b[0;34m=\u001b[0m\u001b[0merrors\u001b[0m\u001b[0;34m,\u001b[0m\u001b[0;34m\u001b[0m\u001b[0;34m\u001b[0m\u001b[0m\n\u001b[0m\u001b[1;32m   4103\u001b[0m         )\n\u001b[1;32m   4104\u001b[0m \u001b[0;34m\u001b[0m\u001b[0m\n",
      "\u001b[0;32m~/anaconda3/lib/python3.7/site-packages/pandas/core/generic.py\u001b[0m in \u001b[0;36mdrop\u001b[0;34m(self, labels, axis, index, columns, level, inplace, errors)\u001b[0m\n\u001b[1;32m   3912\u001b[0m         \u001b[0;32mfor\u001b[0m \u001b[0maxis\u001b[0m\u001b[0;34m,\u001b[0m \u001b[0mlabels\u001b[0m \u001b[0;32min\u001b[0m \u001b[0maxes\u001b[0m\u001b[0;34m.\u001b[0m\u001b[0mitems\u001b[0m\u001b[0;34m(\u001b[0m\u001b[0;34m)\u001b[0m\u001b[0;34m:\u001b[0m\u001b[0;34m\u001b[0m\u001b[0;34m\u001b[0m\u001b[0m\n\u001b[1;32m   3913\u001b[0m             \u001b[0;32mif\u001b[0m \u001b[0mlabels\u001b[0m \u001b[0;32mis\u001b[0m \u001b[0;32mnot\u001b[0m \u001b[0;32mNone\u001b[0m\u001b[0;34m:\u001b[0m\u001b[0;34m\u001b[0m\u001b[0;34m\u001b[0m\u001b[0m\n\u001b[0;32m-> 3914\u001b[0;31m                 \u001b[0mobj\u001b[0m \u001b[0;34m=\u001b[0m \u001b[0mobj\u001b[0m\u001b[0;34m.\u001b[0m\u001b[0m_drop_axis\u001b[0m\u001b[0;34m(\u001b[0m\u001b[0mlabels\u001b[0m\u001b[0;34m,\u001b[0m \u001b[0maxis\u001b[0m\u001b[0;34m,\u001b[0m \u001b[0mlevel\u001b[0m\u001b[0;34m=\u001b[0m\u001b[0mlevel\u001b[0m\u001b[0;34m,\u001b[0m \u001b[0merrors\u001b[0m\u001b[0;34m=\u001b[0m\u001b[0merrors\u001b[0m\u001b[0;34m)\u001b[0m\u001b[0;34m\u001b[0m\u001b[0;34m\u001b[0m\u001b[0m\n\u001b[0m\u001b[1;32m   3915\u001b[0m \u001b[0;34m\u001b[0m\u001b[0m\n\u001b[1;32m   3916\u001b[0m         \u001b[0;32mif\u001b[0m \u001b[0minplace\u001b[0m\u001b[0;34m:\u001b[0m\u001b[0;34m\u001b[0m\u001b[0;34m\u001b[0m\u001b[0m\n",
      "\u001b[0;32m~/anaconda3/lib/python3.7/site-packages/pandas/core/generic.py\u001b[0m in \u001b[0;36m_drop_axis\u001b[0;34m(self, labels, axis, level, errors)\u001b[0m\n\u001b[1;32m   3944\u001b[0m                 \u001b[0mnew_axis\u001b[0m \u001b[0;34m=\u001b[0m \u001b[0maxis\u001b[0m\u001b[0;34m.\u001b[0m\u001b[0mdrop\u001b[0m\u001b[0;34m(\u001b[0m\u001b[0mlabels\u001b[0m\u001b[0;34m,\u001b[0m \u001b[0mlevel\u001b[0m\u001b[0;34m=\u001b[0m\u001b[0mlevel\u001b[0m\u001b[0;34m,\u001b[0m \u001b[0merrors\u001b[0m\u001b[0;34m=\u001b[0m\u001b[0merrors\u001b[0m\u001b[0;34m)\u001b[0m\u001b[0;34m\u001b[0m\u001b[0;34m\u001b[0m\u001b[0m\n\u001b[1;32m   3945\u001b[0m             \u001b[0;32melse\u001b[0m\u001b[0;34m:\u001b[0m\u001b[0;34m\u001b[0m\u001b[0;34m\u001b[0m\u001b[0m\n\u001b[0;32m-> 3946\u001b[0;31m                 \u001b[0mnew_axis\u001b[0m \u001b[0;34m=\u001b[0m \u001b[0maxis\u001b[0m\u001b[0;34m.\u001b[0m\u001b[0mdrop\u001b[0m\u001b[0;34m(\u001b[0m\u001b[0mlabels\u001b[0m\u001b[0;34m,\u001b[0m \u001b[0merrors\u001b[0m\u001b[0;34m=\u001b[0m\u001b[0merrors\u001b[0m\u001b[0;34m)\u001b[0m\u001b[0;34m\u001b[0m\u001b[0;34m\u001b[0m\u001b[0m\n\u001b[0m\u001b[1;32m   3947\u001b[0m             \u001b[0mresult\u001b[0m \u001b[0;34m=\u001b[0m \u001b[0mself\u001b[0m\u001b[0;34m.\u001b[0m\u001b[0mreindex\u001b[0m\u001b[0;34m(\u001b[0m\u001b[0;34m**\u001b[0m\u001b[0;34m{\u001b[0m\u001b[0maxis_name\u001b[0m\u001b[0;34m:\u001b[0m \u001b[0mnew_axis\u001b[0m\u001b[0;34m}\u001b[0m\u001b[0;34m)\u001b[0m\u001b[0;34m\u001b[0m\u001b[0;34m\u001b[0m\u001b[0m\n\u001b[1;32m   3948\u001b[0m \u001b[0;34m\u001b[0m\u001b[0m\n",
      "\u001b[0;32m~/anaconda3/lib/python3.7/site-packages/pandas/core/indexes/base.py\u001b[0m in \u001b[0;36mdrop\u001b[0;34m(self, labels, errors)\u001b[0m\n\u001b[1;32m   5338\u001b[0m         \u001b[0;32mif\u001b[0m \u001b[0mmask\u001b[0m\u001b[0;34m.\u001b[0m\u001b[0many\u001b[0m\u001b[0;34m(\u001b[0m\u001b[0;34m)\u001b[0m\u001b[0;34m:\u001b[0m\u001b[0;34m\u001b[0m\u001b[0;34m\u001b[0m\u001b[0m\n\u001b[1;32m   5339\u001b[0m             \u001b[0;32mif\u001b[0m \u001b[0merrors\u001b[0m \u001b[0;34m!=\u001b[0m \u001b[0;34m\"ignore\"\u001b[0m\u001b[0;34m:\u001b[0m\u001b[0;34m\u001b[0m\u001b[0;34m\u001b[0m\u001b[0m\n\u001b[0;32m-> 5340\u001b[0;31m                 \u001b[0;32mraise\u001b[0m \u001b[0mKeyError\u001b[0m\u001b[0;34m(\u001b[0m\u001b[0;34m\"{} not found in axis\"\u001b[0m\u001b[0;34m.\u001b[0m\u001b[0mformat\u001b[0m\u001b[0;34m(\u001b[0m\u001b[0mlabels\u001b[0m\u001b[0;34m[\u001b[0m\u001b[0mmask\u001b[0m\u001b[0;34m]\u001b[0m\u001b[0;34m)\u001b[0m\u001b[0;34m)\u001b[0m\u001b[0;34m\u001b[0m\u001b[0;34m\u001b[0m\u001b[0m\n\u001b[0m\u001b[1;32m   5341\u001b[0m             \u001b[0mindexer\u001b[0m \u001b[0;34m=\u001b[0m \u001b[0mindexer\u001b[0m\u001b[0;34m[\u001b[0m\u001b[0;34m~\u001b[0m\u001b[0mmask\u001b[0m\u001b[0;34m]\u001b[0m\u001b[0;34m\u001b[0m\u001b[0;34m\u001b[0m\u001b[0m\n\u001b[1;32m   5342\u001b[0m         \u001b[0;32mreturn\u001b[0m \u001b[0mself\u001b[0m\u001b[0;34m.\u001b[0m\u001b[0mdelete\u001b[0m\u001b[0;34m(\u001b[0m\u001b[0mindexer\u001b[0m\u001b[0;34m)\u001b[0m\u001b[0;34m\u001b[0m\u001b[0;34m\u001b[0m\u001b[0m\n",
      "\u001b[0;31mKeyError\u001b[0m: \"[('CD_SIT_TOT_TURNO', 'NR_TURNO', 'TP_ABRANGENCIA')] not found in axis\""
     ]
    }
   ],
   "source": [
    "X = modelo.drop([['CD_SIT_TOT_TURNO', 'NR_TURNO','TP_ABRANGENCIA']], axis=1)"
   ]
  },
  {
   "cell_type": "code",
   "execution_count": 62,
   "metadata": {},
   "outputs": [],
   "source": [
    "y = modelo.CD_SIT_TOT_TURNO"
   ]
  },
  {
   "cell_type": "code",
   "execution_count": 63,
   "metadata": {},
   "outputs": [],
   "source": [
    "clf = RandomForestClassifier(n_estimators=100, max_depth=2,\n",
    "                             random_state=0)"
   ]
  },
  {
   "cell_type": "code",
   "execution_count": 64,
   "metadata": {},
   "outputs": [
    {
     "data": {
      "text/plain": [
       "RandomForestClassifier(bootstrap=True, class_weight=None, criterion='gini',\n",
       "                       max_depth=2, max_features='auto', max_leaf_nodes=None,\n",
       "                       min_impurity_decrease=0.0, min_impurity_split=None,\n",
       "                       min_samples_leaf=1, min_samples_split=2,\n",
       "                       min_weight_fraction_leaf=0.0, n_estimators=100,\n",
       "                       n_jobs=None, oob_score=False, random_state=0, verbose=0,\n",
       "                       warm_start=False)"
      ]
     },
     "execution_count": 64,
     "metadata": {},
     "output_type": "execute_result"
    }
   ],
   "source": [
    "clf.fit(X_train, y_train)"
   ]
  },
  {
   "cell_type": "code",
   "execution_count": 65,
   "metadata": {},
   "outputs": [
    {
     "name": "stdout",
     "output_type": "stream",
     "text": [
      "[0.08159344 0.91840656]\n"
     ]
    }
   ],
   "source": [
    "print(clf.feature_importances_)"
   ]
  },
  {
   "cell_type": "code",
   "execution_count": 66,
   "metadata": {},
   "outputs": [],
   "source": [
    "predicted = clf.predict(X_test)"
   ]
  },
  {
   "cell_type": "code",
   "execution_count": 67,
   "metadata": {},
   "outputs": [],
   "source": [
    "acerto = 1 - (sum([y != y_chapeu for y_chapeu, y in zip(predicted, y_test.values)]) / len(predicted))"
   ]
  },
  {
   "cell_type": "code",
   "execution_count": 68,
   "metadata": {},
   "outputs": [
    {
     "data": {
      "text/plain": [
       "0.7556017556017556"
      ]
     },
     "execution_count": 68,
     "metadata": {},
     "output_type": "execute_result"
    }
   ],
   "source": [
    "acerto"
   ]
  },
  {
   "cell_type": "markdown",
   "metadata": {},
   "source": [
    "# Rodando KNN com as variáveis com maior peso após o Random Forest Classifier"
   ]
  },
  {
   "cell_type": "code",
   "execution_count": 69,
   "metadata": {},
   "outputs": [],
   "source": [
    "X = candidatos_2014[(candidatos_2014['DS_CARGO'] != 'PRESIDENTE')&(candidatos_2014['DS_CARGO'] != 'VICE-PRESIDENTE')][['NR_DESPESA_MAX_CAMPANHA','ST_REELEICAO', 'CD_CARGO', 'TP_AGREMIACAO']]"
   ]
  },
  {
   "cell_type": "code",
   "execution_count": 70,
   "metadata": {},
   "outputs": [],
   "source": [
    "X['ST_REELEICAO'] = X['ST_REELEICAO'].cat.rename_categories([0,1])"
   ]
  },
  {
   "cell_type": "code",
   "execution_count": 71,
   "metadata": {},
   "outputs": [],
   "source": [
    "X.TP_AGREMIACAO = X.TP_AGREMIACAO.cat.codes"
   ]
  },
  {
   "cell_type": "code",
   "execution_count": 72,
   "metadata": {},
   "outputs": [],
   "source": [
    "y = candidatos_2014[(candidatos_2014['DS_CARGO'] != 'PRESIDENTE')&(candidatos_2014['DS_CARGO'] != 'VICE-PRESIDENTE')]['DS_SIT_TOT_TURNO']"
   ]
  },
  {
   "cell_type": "code",
   "execution_count": 73,
   "metadata": {},
   "outputs": [],
   "source": [
    "X_train, X_test, y_train, y_test = train_test_split(X, y, test_size=0.33, random_state=42)"
   ]
  },
  {
   "cell_type": "code",
   "execution_count": 74,
   "metadata": {},
   "outputs": [
    {
     "name": "stdout",
     "output_type": "stream",
     "text": [
      "['SUPLENTE' 'SUPLENTE' 'SUPLENTE' ... '#NULO#' 'SUPLENTE' 'SUPLENTE']\n"
     ]
    }
   ],
   "source": [
    "from sklearn.neighbors import KNeighborsClassifier\n",
    "\n",
    "model = KNeighborsClassifier(n_neighbors= 1674, weights='distance')\n",
    "\n",
    "# Train the model using the training sets\n",
    "model.fit(X_train, np.array(y_train))\n",
    "\n",
    "#Predict Output\n",
    "predicted= model.predict(X_test) # 0:Overcast, 2:Mild\n",
    "print(predicted)"
   ]
  },
  {
   "cell_type": "code",
   "execution_count": 75,
   "metadata": {},
   "outputs": [
    {
     "data": {
      "text/plain": [
       "array(['SUPLENTE', 'SUPLENTE', 'SUPLENTE', ..., '#NULO#', 'SUPLENTE',\n",
       "       'ELEITO POR QP'], dtype=object)"
      ]
     },
     "execution_count": 75,
     "metadata": {},
     "output_type": "execute_result"
    }
   ],
   "source": [
    "novo_y_test = np.array(y_test)\n",
    "novo_y_test"
   ]
  },
  {
   "cell_type": "code",
   "execution_count": 76,
   "metadata": {},
   "outputs": [
    {
     "data": {
      "text/plain": [
       "array(['SUPLENTE', 'SUPLENTE', 'SUPLENTE', ..., '#NULO#', 'SUPLENTE',\n",
       "       'SUPLENTE'], dtype=object)"
      ]
     },
     "execution_count": 76,
     "metadata": {},
     "output_type": "execute_result"
    }
   ],
   "source": [
    "predicted"
   ]
  },
  {
   "cell_type": "code",
   "execution_count": 77,
   "metadata": {},
   "outputs": [
    {
     "data": {
      "text/plain": [
       "0.8255948255948256"
      ]
     },
     "execution_count": 77,
     "metadata": {},
     "output_type": "execute_result"
    }
   ],
   "source": [
    "1 - sum([y != p for y, p in zip(novo_y_test, predicted)]) /len(predicted)"
   ]
  },
  {
   "cell_type": "code",
   "execution_count": 78,
   "metadata": {},
   "outputs": [
    {
     "ename": "SyntaxError",
     "evalue": "invalid syntax (<ipython-input-78-ae2704cab92e>, line 2)",
     "output_type": "error",
     "traceback": [
      "\u001b[0;36m  File \u001b[0;32m\"<ipython-input-78-ae2704cab92e>\"\u001b[0;36m, line \u001b[0;32m2\u001b[0m\n\u001b[0;31m    mport matplotlib\u001b[0m\n\u001b[0m                   ^\u001b[0m\n\u001b[0;31mSyntaxError\u001b[0m\u001b[0;31m:\u001b[0m invalid syntax\n"
     ]
    }
   ],
   "source": [
    "%matplotlib inline\n",
    "mport matplotlib\n",
    "matplotlib.use('GTKAgg')\n",
    "\n",
    "import numpy as np\n",
    "import matplotlib.pyplot as plt\n",
    "from matplotlib.colors import ListedColormap\n",
    "from sklearn import neighbors, datasets\n",
    "\n",
    "n_neighbors = 6\n",
    "\n",
    "# import some data to play with\n",
    "iris = datasets.load_iris()\n",
    "\n",
    "# prepare data\n",
    "X = iris.data[:, :2]\n",
    "y = iris.target\n",
    "h = .02\n",
    "\n",
    "# Create color maps\n",
    "cmap_light = ListedColormap(['#FFAAAA', '#AAFFAA','#00AAFF'])\n",
    "cmap_bold = ListedColormap(['#FF0000', '#00FF00','#00AAFF'])\n",
    "\n",
    "# we create an instance of Neighbours Classifier and fit the data.\n",
    "clf = neighbors.KNeighborsClassifier(n_neighbors, weights='distance')\n",
    "clf.fit(X, y)\n",
    "\n",
    "# calculate min, max and limits\n",
    "x_min, x_max = X[:, 0].min() - 1, X[:, 0].max() + 1\n",
    "y_min, y_max = X[:, 1].min() - 1, X[:, 1].max() + 1\n",
    "xx, yy = np.meshgrid(np.arange(x_min, x_max, h),\n",
    "np.arange(y_min, y_max, h))\n",
    "\n",
    "# predict class using data and kNN classifier\n",
    "Z = predicted\n",
    "\n",
    "# Put the result into a color plot\n",
    "Z = Z.reshape(xx.shape)\n",
    "plt.figure()\n",
    "plt.pcolormesh(xx, yy, Z, cmap=cmap_light)\n",
    "\n",
    "# Plot also the training points\n",
    "plt.scatter(X[:, 0], X[:, 1], c=y, cmap=cmap_bold)\n",
    "plt.xlim(xx.min(), xx.max())\n",
    "plt.ylim(yy.min(), yy.max())\n",
    "plt.title(\"3-Class classification (k = %i)\" % (n_neighbors))\n",
    "plt.show()"
   ]
  },
  {
   "cell_type": "code",
   "execution_count": null,
   "metadata": {},
   "outputs": [],
   "source": []
  },
  {
   "cell_type": "code",
   "execution_count": null,
   "metadata": {},
   "outputs": [],
   "source": []
  },
  {
   "cell_type": "code",
   "execution_count": null,
   "metadata": {},
   "outputs": [],
   "source": []
  },
  {
   "cell_type": "code",
   "execution_count": null,
   "metadata": {},
   "outputs": [],
   "source": []
  },
  {
   "cell_type": "code",
   "execution_count": null,
   "metadata": {},
   "outputs": [],
   "source": []
  },
  {
   "cell_type": "code",
   "execution_count": null,
   "metadata": {},
   "outputs": [],
   "source": []
  },
  {
   "cell_type": "markdown",
   "metadata": {},
   "source": [
    "# Eleições 2018"
   ]
  },
  {
   "cell_type": "code",
   "execution_count": 127,
   "metadata": {},
   "outputs": [
    {
     "data": {
      "text/plain": [
       "29145"
      ]
     },
     "execution_count": 127,
     "metadata": {},
     "output_type": "execute_result"
    }
   ],
   "source": [
    "candidatos_2018['DS_GENERO'].count()"
   ]
  }
 ],
 "metadata": {
  "kernelspec": {
   "display_name": "Python 3",
   "language": "python",
   "name": "python3"
  },
  "language_info": {
   "codemirror_mode": {
    "name": "ipython",
    "version": 3
   },
   "file_extension": ".py",
   "mimetype": "text/x-python",
   "name": "python",
   "nbconvert_exporter": "python",
   "pygments_lexer": "ipython3",
   "version": "3.7.4"
  }
 },
 "nbformat": 4,
 "nbformat_minor": 2
}
