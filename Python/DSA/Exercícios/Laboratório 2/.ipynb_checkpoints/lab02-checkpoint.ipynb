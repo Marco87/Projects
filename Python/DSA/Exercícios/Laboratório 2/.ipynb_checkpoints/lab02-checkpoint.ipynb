{
 "cells": [
  {
   "cell_type": "code",
   "execution_count": 1,
   "metadata": {},
   "outputs": [
    {
     "name": "stdin",
     "output_type": "stream",
     "text": [
      "Digite o operador:\n",
      "+ -> Soma\n",
      "- -> Subtração\n",
      "* -> Multiplicação\n",
      "/ -> Divisão *\n"
     ]
    },
    {
     "name": "stdout",
     "output_type": "stream",
     "text": [
      "300.0\n"
     ]
    }
   ],
   "source": [
    "from IPython.display import clear_output\n",
    "\n",
    "def digitar_operacoes(x1, x2):\n",
    "    x = False\n",
    "    operador = \"\"\n",
    "    resultado = 0\n",
    "    while x==False:\n",
    "        clear_output()\n",
    "        operador = input(\"Digite o operador:\\n+ -> Soma\\n- -> Subtração\\n* -> Multiplicação\\n/ -> Divisão\")\n",
    "        if operador==\"+\":\n",
    "            resultado = x1 + x2\n",
    "            x = True\n",
    "        elif operador==\"-\":\n",
    "            resultado = x1 - x2\n",
    "            x = True\n",
    "        elif operador==\"*\":\n",
    "            resultado = x1 * x2\n",
    "            x = True\n",
    "        elif operador==\"/\":\n",
    "            resultado = x1 / x2\n",
    "            x = True\n",
    "        else:\n",
    "            clear_output()\n",
    "            print(\"Digite um operador válido!\")\n",
    "            x = False\n",
    "    return resultado\n",
    "\n",
    "def digitar_numeros():\n",
    "    n1 = 0\n",
    "    n2 = 0\n",
    "    x = False\n",
    "    while x==False:\n",
    "        try:\n",
    "            clear_output()\n",
    "            n1 = float(input(\"Digite o primeiro número: \"))\n",
    "            n2 = float(input(\"Digite o segundo número: \"))\n",
    "            x = True\n",
    "        except:\n",
    "            clear_output()\n",
    "            print(\"Digite apenas números!\")\n",
    "            x = False\n",
    "    return n1, n2\n",
    "\n",
    "n1, n2 = digitar_numeros()\n",
    "print(digitar_operacoes(n1, n2))\n",
    "\n",
    "    \n",
    "\n"
   ]
  },
  {
   "cell_type": "code",
   "execution_count": null,
   "metadata": {},
   "outputs": [],
   "source": []
  },
  {
   "cell_type": "code",
   "execution_count": null,
   "metadata": {},
   "outputs": [],
   "source": []
  }
 ],
 "metadata": {
  "kernelspec": {
   "display_name": "Python 3",
   "language": "python",
   "name": "python3"
  },
  "language_info": {
   "codemirror_mode": {
    "name": "ipython",
    "version": 3
   },
   "file_extension": ".py",
   "mimetype": "text/x-python",
   "name": "python",
   "nbconvert_exporter": "python",
   "pygments_lexer": "ipython3",
   "version": "3.7.4"
  }
 },
 "nbformat": 4,
 "nbformat_minor": 4
}
