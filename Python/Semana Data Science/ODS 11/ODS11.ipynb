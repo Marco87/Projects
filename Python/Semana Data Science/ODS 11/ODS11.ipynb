{
 "cells": [
  {
   "cell_type": "code",
   "execution_count": 33,
   "metadata": {},
   "outputs": [],
   "source": [
    "import pandas as pd"
   ]
  },
  {
   "cell_type": "code",
   "execution_count": 34,
   "metadata": {},
   "outputs": [],
   "source": [
    "import matplotlib as mp"
   ]
  },
  {
   "cell_type": "code",
   "execution_count": 35,
   "metadata": {},
   "outputs": [],
   "source": [
    "import numpy as np"
   ]
  },
  {
   "cell_type": "markdown",
   "metadata": {},
   "source": [
    "# Estações"
   ]
  },
  {
   "cell_type": "code",
   "execution_count": 36,
   "metadata": {},
   "outputs": [],
   "source": [
    "estacoes_metro = pd.read_csv('data/Estacoes_Metro.csv', low_memory=False)"
   ]
  },
  {
   "cell_type": "code",
   "execution_count": 37,
   "metadata": {},
   "outputs": [
    {
     "data": {
      "text/html": [
       "<div>\n",
       "<style scoped>\n",
       "    .dataframe tbody tr th:only-of-type {\n",
       "        vertical-align: middle;\n",
       "    }\n",
       "\n",
       "    .dataframe tbody tr th {\n",
       "        vertical-align: top;\n",
       "    }\n",
       "\n",
       "    .dataframe thead th {\n",
       "        text-align: right;\n",
       "    }\n",
       "</style>\n",
       "<table border=\"1\" class=\"dataframe\">\n",
       "  <thead>\n",
       "    <tr style=\"text-align: right;\">\n",
       "      <th></th>\n",
       "      <th>X</th>\n",
       "      <th>Y</th>\n",
       "      <th>OBJECTID</th>\n",
       "      <th>Cod</th>\n",
       "      <th>Nome</th>\n",
       "      <th>Flg_ATM</th>\n",
       "      <th>Flg_Bicicletario</th>\n",
       "      <th>Flg_Elevador</th>\n",
       "      <th>Flg_Linha1</th>\n",
       "      <th>Flg_Linha2</th>\n",
       "      <th>...</th>\n",
       "      <th>Flg_Linha4</th>\n",
       "      <th>Integra_Trem</th>\n",
       "      <th>Integra_Onibus</th>\n",
       "      <th>Integra_BRT</th>\n",
       "      <th>Corredor</th>\n",
       "      <th>Integra_VLT</th>\n",
       "      <th>Onibus</th>\n",
       "      <th>Flg_Metro_Superficie</th>\n",
       "      <th>Metro_Superficie</th>\n",
       "      <th>Data_Inauguracao</th>\n",
       "    </tr>\n",
       "  </thead>\n",
       "  <tbody>\n",
       "    <tr>\n",
       "      <td>0</td>\n",
       "      <td>667866.2673</td>\n",
       "      <td>7.477003e+06</td>\n",
       "      <td>1</td>\n",
       "      <td>1</td>\n",
       "      <td>Pavuna</td>\n",
       "      <td>Sim</td>\n",
       "      <td>Sim</td>\n",
       "      <td>Sim</td>\n",
       "      <td>Não</td>\n",
       "      <td>Sim</td>\n",
       "      <td>...</td>\n",
       "      <td>Não</td>\n",
       "      <td>Sim</td>\n",
       "      <td>Não</td>\n",
       "      <td>Não</td>\n",
       "      <td>NaN</td>\n",
       "      <td>Não</td>\n",
       "      <td>NaN</td>\n",
       "      <td>Não</td>\n",
       "      <td>NaN</td>\n",
       "      <td>1998</td>\n",
       "    </tr>\n",
       "    <tr>\n",
       "      <td>1</td>\n",
       "      <td>668510.9902</td>\n",
       "      <td>7.475928e+06</td>\n",
       "      <td>2</td>\n",
       "      <td>2</td>\n",
       "      <td>Engenheiro Rubens Paiva</td>\n",
       "      <td>Sim</td>\n",
       "      <td>Sim</td>\n",
       "      <td>Sim</td>\n",
       "      <td>Não</td>\n",
       "      <td>Sim</td>\n",
       "      <td>...</td>\n",
       "      <td>Não</td>\n",
       "      <td>Não</td>\n",
       "      <td>Não</td>\n",
       "      <td>Não</td>\n",
       "      <td>NaN</td>\n",
       "      <td>Não</td>\n",
       "      <td>NaN</td>\n",
       "      <td>Não</td>\n",
       "      <td>NaN</td>\n",
       "      <td>1998</td>\n",
       "    </tr>\n",
       "    <tr>\n",
       "      <td>2</td>\n",
       "      <td>669405.0928</td>\n",
       "      <td>7.475004e+06</td>\n",
       "      <td>3</td>\n",
       "      <td>3</td>\n",
       "      <td>Acari / Fazenda Botafogo</td>\n",
       "      <td>Não</td>\n",
       "      <td>Não</td>\n",
       "      <td>Não</td>\n",
       "      <td>Não</td>\n",
       "      <td>Sim</td>\n",
       "      <td>...</td>\n",
       "      <td>Não</td>\n",
       "      <td>Não</td>\n",
       "      <td>Não</td>\n",
       "      <td>Não</td>\n",
       "      <td>NaN</td>\n",
       "      <td>Não</td>\n",
       "      <td>NaN</td>\n",
       "      <td>Não</td>\n",
       "      <td>NaN</td>\n",
       "      <td>1998</td>\n",
       "    </tr>\n",
       "    <tr>\n",
       "      <td>3</td>\n",
       "      <td>670051.9240</td>\n",
       "      <td>7.474226e+06</td>\n",
       "      <td>4</td>\n",
       "      <td>4</td>\n",
       "      <td>Coelho Neto</td>\n",
       "      <td>Sim</td>\n",
       "      <td>Não</td>\n",
       "      <td>Não</td>\n",
       "      <td>Não</td>\n",
       "      <td>Sim</td>\n",
       "      <td>...</td>\n",
       "      <td>Não</td>\n",
       "      <td>Não</td>\n",
       "      <td>Não</td>\n",
       "      <td>Não</td>\n",
       "      <td>NaN</td>\n",
       "      <td>Não</td>\n",
       "      <td>NaN</td>\n",
       "      <td>Não</td>\n",
       "      <td>NaN</td>\n",
       "      <td>1998</td>\n",
       "    </tr>\n",
       "    <tr>\n",
       "      <td>4</td>\n",
       "      <td>671002.2546</td>\n",
       "      <td>7.472974e+06</td>\n",
       "      <td>5</td>\n",
       "      <td>5</td>\n",
       "      <td>Colégio</td>\n",
       "      <td>Sim</td>\n",
       "      <td>Sim</td>\n",
       "      <td>Não</td>\n",
       "      <td>Não</td>\n",
       "      <td>Sim</td>\n",
       "      <td>...</td>\n",
       "      <td>Não</td>\n",
       "      <td>Não</td>\n",
       "      <td>Não</td>\n",
       "      <td>Não</td>\n",
       "      <td>NaN</td>\n",
       "      <td>Não</td>\n",
       "      <td>NaN</td>\n",
       "      <td>Não</td>\n",
       "      <td>NaN</td>\n",
       "      <td>1998</td>\n",
       "    </tr>\n",
       "  </tbody>\n",
       "</table>\n",
       "<p>5 rows × 24 columns</p>\n",
       "</div>"
      ],
      "text/plain": [
       "             X             Y  OBJECTID  Cod                      Nome Flg_ATM  \\\n",
       "0  667866.2673  7.477003e+06         1    1                    Pavuna     Sim   \n",
       "1  668510.9902  7.475928e+06         2    2   Engenheiro Rubens Paiva     Sim   \n",
       "2  669405.0928  7.475004e+06         3    3  Acari / Fazenda Botafogo     Não   \n",
       "3  670051.9240  7.474226e+06         4    4               Coelho Neto     Sim   \n",
       "4  671002.2546  7.472974e+06         5    5                   Colégio     Sim   \n",
       "\n",
       "  Flg_Bicicletario Flg_Elevador Flg_Linha1 Flg_Linha2  ... Flg_Linha4  \\\n",
       "0              Sim          Sim        Não        Sim  ...        Não   \n",
       "1              Sim          Sim        Não        Sim  ...        Não   \n",
       "2              Não          Não        Não        Sim  ...        Não   \n",
       "3              Não          Não        Não        Sim  ...        Não   \n",
       "4              Sim          Não        Não        Sim  ...        Não   \n",
       "\n",
       "  Integra_Trem  Integra_Onibus  Integra_BRT Corredor Integra_VLT Onibus  \\\n",
       "0          Sim             Não          Não      NaN         Não    NaN   \n",
       "1          Não             Não          Não      NaN         Não    NaN   \n",
       "2          Não             Não          Não      NaN         Não    NaN   \n",
       "3          Não             Não          Não      NaN         Não    NaN   \n",
       "4          Não             Não          Não      NaN         Não    NaN   \n",
       "\n",
       "  Flg_Metro_Superficie Metro_Superficie Data_Inauguracao  \n",
       "0                  Não              NaN             1998  \n",
       "1                  Não              NaN             1998  \n",
       "2                  Não              NaN             1998  \n",
       "3                  Não              NaN             1998  \n",
       "4                  Não              NaN             1998  \n",
       "\n",
       "[5 rows x 24 columns]"
      ]
     },
     "execution_count": 37,
     "metadata": {},
     "output_type": "execute_result"
    }
   ],
   "source": [
    "estacoes_metro[:5]"
   ]
  },
  {
   "cell_type": "code",
   "execution_count": 38,
   "metadata": {},
   "outputs": [],
   "source": [
    "estacoes_trem = pd.read_csv('data/Estacoes_Trem.csv', low_memory=False)"
   ]
  },
  {
   "cell_type": "code",
   "execution_count": 39,
   "metadata": {},
   "outputs": [
    {
     "data": {
      "text/html": [
       "<div>\n",
       "<style scoped>\n",
       "    .dataframe tbody tr th:only-of-type {\n",
       "        vertical-align: middle;\n",
       "    }\n",
       "\n",
       "    .dataframe tbody tr th {\n",
       "        vertical-align: top;\n",
       "    }\n",
       "\n",
       "    .dataframe thead th {\n",
       "        text-align: right;\n",
       "    }\n",
       "</style>\n",
       "<table border=\"1\" class=\"dataframe\">\n",
       "  <thead>\n",
       "    <tr style=\"text-align: right;\">\n",
       "      <th></th>\n",
       "      <th>X</th>\n",
       "      <th>Y</th>\n",
       "      <th>OBJECTID</th>\n",
       "      <th>Cod</th>\n",
       "      <th>Nome</th>\n",
       "      <th>Flg_IntegraOnibus</th>\n",
       "      <th>Flg_IntegraMetro</th>\n",
       "      <th>Flg_Terminal</th>\n",
       "      <th>Flg_TransfRamal</th>\n",
       "      <th>Flg_TransfCentral</th>\n",
       "      <th>...</th>\n",
       "      <th>Flg_Saracuruna</th>\n",
       "      <th>Flg_Deodoro</th>\n",
       "      <th>Flg_SantaCruz</th>\n",
       "      <th>Flg_Japeri</th>\n",
       "      <th>Flg_Paracambi</th>\n",
       "      <th>Flg_VilaInhomirim</th>\n",
       "      <th>Flg_Guapimirim</th>\n",
       "      <th>Data_Inc</th>\n",
       "      <th>Integra_BRT</th>\n",
       "      <th>Corredor_BRT</th>\n",
       "    </tr>\n",
       "  </thead>\n",
       "  <tbody>\n",
       "    <tr>\n",
       "      <td>0</td>\n",
       "      <td>659240.5000</td>\n",
       "      <td>7.482178e+06</td>\n",
       "      <td>1</td>\n",
       "      <td>60</td>\n",
       "      <td>Nova Iguaçu</td>\n",
       "      <td>NaN</td>\n",
       "      <td>NaN</td>\n",
       "      <td>Sim</td>\n",
       "      <td>NaN</td>\n",
       "      <td>NaN</td>\n",
       "      <td>...</td>\n",
       "      <td>NaN</td>\n",
       "      <td>NaN</td>\n",
       "      <td>NaN</td>\n",
       "      <td>Sim</td>\n",
       "      <td>NaN</td>\n",
       "      <td>NaN</td>\n",
       "      <td>NaN</td>\n",
       "      <td>NaN</td>\n",
       "      <td>NaN</td>\n",
       "      <td>NaN</td>\n",
       "    </tr>\n",
       "    <tr>\n",
       "      <td>1</td>\n",
       "      <td>655197.3795</td>\n",
       "      <td>7.484056e+06</td>\n",
       "      <td>2</td>\n",
       "      <td>20</td>\n",
       "      <td>Comendador Soares</td>\n",
       "      <td>NaN</td>\n",
       "      <td>NaN</td>\n",
       "      <td>NaN</td>\n",
       "      <td>NaN</td>\n",
       "      <td>NaN</td>\n",
       "      <td>...</td>\n",
       "      <td>NaN</td>\n",
       "      <td>NaN</td>\n",
       "      <td>NaN</td>\n",
       "      <td>Sim</td>\n",
       "      <td>NaN</td>\n",
       "      <td>NaN</td>\n",
       "      <td>NaN</td>\n",
       "      <td>NaN</td>\n",
       "      <td>NaN</td>\n",
       "      <td>NaN</td>\n",
       "    </tr>\n",
       "    <tr>\n",
       "      <td>2</td>\n",
       "      <td>651756.0969</td>\n",
       "      <td>7.486730e+06</td>\n",
       "      <td>3</td>\n",
       "      <td>4</td>\n",
       "      <td>Austin</td>\n",
       "      <td>NaN</td>\n",
       "      <td>NaN</td>\n",
       "      <td>NaN</td>\n",
       "      <td>NaN</td>\n",
       "      <td>NaN</td>\n",
       "      <td>...</td>\n",
       "      <td>NaN</td>\n",
       "      <td>NaN</td>\n",
       "      <td>NaN</td>\n",
       "      <td>Sim</td>\n",
       "      <td>NaN</td>\n",
       "      <td>NaN</td>\n",
       "      <td>NaN</td>\n",
       "      <td>NaN</td>\n",
       "      <td>NaN</td>\n",
       "      <td>NaN</td>\n",
       "    </tr>\n",
       "    <tr>\n",
       "      <td>3</td>\n",
       "      <td>648330.8010</td>\n",
       "      <td>7.487214e+06</td>\n",
       "      <td>4</td>\n",
       "      <td>81</td>\n",
       "      <td>Queimados</td>\n",
       "      <td>NaN</td>\n",
       "      <td>NaN</td>\n",
       "      <td>Sim</td>\n",
       "      <td>NaN</td>\n",
       "      <td>NaN</td>\n",
       "      <td>...</td>\n",
       "      <td>NaN</td>\n",
       "      <td>NaN</td>\n",
       "      <td>NaN</td>\n",
       "      <td>Sim</td>\n",
       "      <td>NaN</td>\n",
       "      <td>NaN</td>\n",
       "      <td>NaN</td>\n",
       "      <td>NaN</td>\n",
       "      <td>NaN</td>\n",
       "      <td>NaN</td>\n",
       "    </tr>\n",
       "    <tr>\n",
       "      <td>4</td>\n",
       "      <td>643238.5383</td>\n",
       "      <td>7.491415e+06</td>\n",
       "      <td>5</td>\n",
       "      <td>29</td>\n",
       "      <td>Engenheiro Pedreira</td>\n",
       "      <td>NaN</td>\n",
       "      <td>NaN</td>\n",
       "      <td>NaN</td>\n",
       "      <td>NaN</td>\n",
       "      <td>NaN</td>\n",
       "      <td>...</td>\n",
       "      <td>NaN</td>\n",
       "      <td>NaN</td>\n",
       "      <td>NaN</td>\n",
       "      <td>Sim</td>\n",
       "      <td>NaN</td>\n",
       "      <td>NaN</td>\n",
       "      <td>NaN</td>\n",
       "      <td>NaN</td>\n",
       "      <td>NaN</td>\n",
       "      <td>NaN</td>\n",
       "    </tr>\n",
       "  </tbody>\n",
       "</table>\n",
       "<p>5 rows × 25 columns</p>\n",
       "</div>"
      ],
      "text/plain": [
       "             X             Y  OBJECTID  Cod                 Nome  \\\n",
       "0  659240.5000  7.482178e+06         1   60          Nova Iguaçu   \n",
       "1  655197.3795  7.484056e+06         2   20    Comendador Soares   \n",
       "2  651756.0969  7.486730e+06         3    4               Austin   \n",
       "3  648330.8010  7.487214e+06         4   81            Queimados   \n",
       "4  643238.5383  7.491415e+06         5   29  Engenheiro Pedreira   \n",
       "\n",
       "  Flg_IntegraOnibus Flg_IntegraMetro Flg_Terminal Flg_TransfRamal  \\\n",
       "0               NaN              NaN          Sim             NaN   \n",
       "1               NaN              NaN          NaN             NaN   \n",
       "2               NaN              NaN          NaN             NaN   \n",
       "3               NaN              NaN          Sim             NaN   \n",
       "4               NaN              NaN          NaN             NaN   \n",
       "\n",
       "  Flg_TransfCentral  ... Flg_Saracuruna Flg_Deodoro Flg_SantaCruz Flg_Japeri  \\\n",
       "0               NaN  ...            NaN         NaN           NaN        Sim   \n",
       "1               NaN  ...            NaN         NaN           NaN        Sim   \n",
       "2               NaN  ...            NaN         NaN           NaN        Sim   \n",
       "3               NaN  ...            NaN         NaN           NaN        Sim   \n",
       "4               NaN  ...            NaN         NaN           NaN        Sim   \n",
       "\n",
       "  Flg_Paracambi Flg_VilaInhomirim Flg_Guapimirim Data_Inc Integra_BRT  \\\n",
       "0           NaN               NaN            NaN      NaN         NaN   \n",
       "1           NaN               NaN            NaN      NaN         NaN   \n",
       "2           NaN               NaN            NaN      NaN         NaN   \n",
       "3           NaN               NaN            NaN      NaN         NaN   \n",
       "4           NaN               NaN            NaN      NaN         NaN   \n",
       "\n",
       "  Corredor_BRT  \n",
       "0          NaN  \n",
       "1          NaN  \n",
       "2          NaN  \n",
       "3          NaN  \n",
       "4          NaN  \n",
       "\n",
       "[5 rows x 25 columns]"
      ]
     },
     "execution_count": 39,
     "metadata": {},
     "output_type": "execute_result"
    }
   ],
   "source": [
    "estacoes_trem[:5]"
   ]
  },
  {
   "cell_type": "markdown",
   "metadata": {},
   "source": [
    "# Fluxos"
   ]
  },
  {
   "cell_type": "markdown",
   "metadata": {},
   "source": [
    "## Fluxo Metrô 2016"
   ]
  },
  {
   "cell_type": "code",
   "execution_count": 40,
   "metadata": {},
   "outputs": [],
   "source": [
    "data_modais_metro_2016 = pd.read_csv('data/datamodaisrj_metro_2016.csv', sep=';')"
   ]
  },
  {
   "cell_type": "code",
   "execution_count": 41,
   "metadata": {},
   "outputs": [
    {
     "data": {
      "text/html": [
       "<div>\n",
       "<style scoped>\n",
       "    .dataframe tbody tr th:only-of-type {\n",
       "        vertical-align: middle;\n",
       "    }\n",
       "\n",
       "    .dataframe tbody tr th {\n",
       "        vertical-align: top;\n",
       "    }\n",
       "\n",
       "    .dataframe thead th {\n",
       "        text-align: right;\n",
       "    }\n",
       "</style>\n",
       "<table border=\"1\" class=\"dataframe\">\n",
       "  <thead>\n",
       "    <tr style=\"text-align: right;\">\n",
       "      <th></th>\n",
       "      <th>Bairros</th>\n",
       "      <th>Total anual</th>\n",
       "      <th>Média diária</th>\n",
       "    </tr>\n",
       "  </thead>\n",
       "  <tbody>\n",
       "    <tr>\n",
       "      <td>0</td>\n",
       "      <td>Saúde</td>\n",
       "      <td>-</td>\n",
       "      <td>-</td>\n",
       "    </tr>\n",
       "    <tr>\n",
       "      <td>1</td>\n",
       "      <td>Gamboa</td>\n",
       "      <td>-</td>\n",
       "      <td>-</td>\n",
       "    </tr>\n",
       "    <tr>\n",
       "      <td>2</td>\n",
       "      <td>Santo Cristo</td>\n",
       "      <td>-</td>\n",
       "      <td>-</td>\n",
       "    </tr>\n",
       "    <tr>\n",
       "      <td>3</td>\n",
       "      <td>Caju</td>\n",
       "      <td>-</td>\n",
       "      <td>-</td>\n",
       "    </tr>\n",
       "    <tr>\n",
       "      <td>4</td>\n",
       "      <td>Centro</td>\n",
       "      <td>72 483</td>\n",
       "      <td>199</td>\n",
       "    </tr>\n",
       "  </tbody>\n",
       "</table>\n",
       "</div>"
      ],
      "text/plain": [
       "        Bairros Total anual Média diária\n",
       "0         Saúde           -            -\n",
       "1        Gamboa           -            -\n",
       "2  Santo Cristo           -            -\n",
       "3          Caju           -            -\n",
       "4        Centro      72 483          199"
      ]
     },
     "execution_count": 41,
     "metadata": {},
     "output_type": "execute_result"
    }
   ],
   "source": [
    "data_modais_metro_2016[:5]"
   ]
  },
  {
   "cell_type": "code",
   "execution_count": 42,
   "metadata": {},
   "outputs": [],
   "source": [
    "data_modais_metro_2016 = data_modais_metro_2016[data_modais_metro_2016['Total anual'] != '-']"
   ]
  },
  {
   "cell_type": "code",
   "execution_count": 109,
   "metadata": {},
   "outputs": [],
   "source": [
    "data_modais_metro_2016['Transporte'] = 'Metrô'"
   ]
  },
  {
   "cell_type": "code",
   "execution_count": 110,
   "metadata": {},
   "outputs": [],
   "source": [
    "data_modais_metro_2016['Ano'] = 2016"
   ]
  },
  {
   "cell_type": "code",
   "execution_count": 111,
   "metadata": {},
   "outputs": [
    {
     "data": {
      "text/html": [
       "<div>\n",
       "<style scoped>\n",
       "    .dataframe tbody tr th:only-of-type {\n",
       "        vertical-align: middle;\n",
       "    }\n",
       "\n",
       "    .dataframe tbody tr th {\n",
       "        vertical-align: top;\n",
       "    }\n",
       "\n",
       "    .dataframe thead th {\n",
       "        text-align: right;\n",
       "    }\n",
       "</style>\n",
       "<table border=\"1\" class=\"dataframe\">\n",
       "  <thead>\n",
       "    <tr style=\"text-align: right;\">\n",
       "      <th></th>\n",
       "      <th>Bairros</th>\n",
       "      <th>Total anual</th>\n",
       "      <th>Média diária</th>\n",
       "      <th>Transporte</th>\n",
       "      <th>Ano</th>\n",
       "    </tr>\n",
       "  </thead>\n",
       "  <tbody>\n",
       "    <tr>\n",
       "      <td>4</td>\n",
       "      <td>Centro</td>\n",
       "      <td>72 483</td>\n",
       "      <td>199</td>\n",
       "      <td>Metrô</td>\n",
       "      <td>2016</td>\n",
       "    </tr>\n",
       "    <tr>\n",
       "      <td>8</td>\n",
       "      <td>Cidade Nova</td>\n",
       "      <td>5 776</td>\n",
       "      <td>16</td>\n",
       "      <td>Metrô</td>\n",
       "      <td>2016</td>\n",
       "    </tr>\n",
       "    <tr>\n",
       "      <td>9</td>\n",
       "      <td>Estácio</td>\n",
       "      <td>3 587</td>\n",
       "      <td>10</td>\n",
       "      <td>Metrô</td>\n",
       "      <td>2016</td>\n",
       "    </tr>\n",
       "    <tr>\n",
       "      <td>10</td>\n",
       "      <td>São Cristóvão</td>\n",
       "      <td>4 572</td>\n",
       "      <td>13</td>\n",
       "      <td>Metrô</td>\n",
       "      <td>2016</td>\n",
       "    </tr>\n",
       "    <tr>\n",
       "      <td>12</td>\n",
       "      <td>Benfica</td>\n",
       "      <td>2 279</td>\n",
       "      <td>6</td>\n",
       "      <td>Metrô</td>\n",
       "      <td>2016</td>\n",
       "    </tr>\n",
       "  </tbody>\n",
       "</table>\n",
       "</div>"
      ],
      "text/plain": [
       "          Bairros Total anual Média diária Transporte   Ano\n",
       "4          Centro      72 483          199      Metrô  2016\n",
       "8     Cidade Nova       5 776           16      Metrô  2016\n",
       "9         Estácio       3 587           10      Metrô  2016\n",
       "10  São Cristóvão       4 572           13      Metrô  2016\n",
       "12       Benfica        2 279            6      Metrô  2016"
      ]
     },
     "execution_count": 111,
     "metadata": {},
     "output_type": "execute_result"
    }
   ],
   "source": [
    "data_modais_metro_2016[:5]"
   ]
  },
  {
   "cell_type": "markdown",
   "metadata": {},
   "source": [
    "## Fluxo Trem 2016"
   ]
  },
  {
   "cell_type": "code",
   "execution_count": 44,
   "metadata": {},
   "outputs": [],
   "source": [
    "data_modais_trem_2016 = pd.read_csv('data/datamodaisrj_trem_2016.csv', sep=';')"
   ]
  },
  {
   "cell_type": "code",
   "execution_count": 45,
   "metadata": {},
   "outputs": [
    {
     "data": {
      "text/html": [
       "<div>\n",
       "<style scoped>\n",
       "    .dataframe tbody tr th:only-of-type {\n",
       "        vertical-align: middle;\n",
       "    }\n",
       "\n",
       "    .dataframe tbody tr th {\n",
       "        vertical-align: top;\n",
       "    }\n",
       "\n",
       "    .dataframe thead th {\n",
       "        text-align: right;\n",
       "    }\n",
       "</style>\n",
       "<table border=\"1\" class=\"dataframe\">\n",
       "  <thead>\n",
       "    <tr style=\"text-align: right;\">\n",
       "      <th></th>\n",
       "      <th>Bairros</th>\n",
       "      <th>Total anual</th>\n",
       "      <th>Média diária</th>\n",
       "    </tr>\n",
       "  </thead>\n",
       "  <tbody>\n",
       "    <tr>\n",
       "      <td>0</td>\n",
       "      <td>Saúde</td>\n",
       "      <td>-</td>\n",
       "      <td>-</td>\n",
       "    </tr>\n",
       "    <tr>\n",
       "      <td>1</td>\n",
       "      <td>Gamboa</td>\n",
       "      <td>-</td>\n",
       "      <td>-</td>\n",
       "    </tr>\n",
       "    <tr>\n",
       "      <td>2</td>\n",
       "      <td>Santo Cristo</td>\n",
       "      <td>-</td>\n",
       "      <td>-</td>\n",
       "    </tr>\n",
       "    <tr>\n",
       "      <td>3</td>\n",
       "      <td>Caju</td>\n",
       "      <td>-</td>\n",
       "      <td>-</td>\n",
       "    </tr>\n",
       "    <tr>\n",
       "      <td>4</td>\n",
       "      <td>Centro</td>\n",
       "      <td>40 478</td>\n",
       "      <td>111</td>\n",
       "    </tr>\n",
       "  </tbody>\n",
       "</table>\n",
       "</div>"
      ],
      "text/plain": [
       "        Bairros Total anual Média diária\n",
       "0         Saúde           -            -\n",
       "1        Gamboa           -            -\n",
       "2  Santo Cristo           -            -\n",
       "3          Caju           -            -\n",
       "4        Centro      40 478          111"
      ]
     },
     "execution_count": 45,
     "metadata": {},
     "output_type": "execute_result"
    }
   ],
   "source": [
    "data_modais_trem_2016[:5]"
   ]
  },
  {
   "cell_type": "code",
   "execution_count": 46,
   "metadata": {},
   "outputs": [],
   "source": [
    "data_modais_trem_2016 = data_modais_trem_2016[data_modais_trem_2016['Total anual'] != '-']"
   ]
  },
  {
   "cell_type": "code",
   "execution_count": 106,
   "metadata": {},
   "outputs": [],
   "source": [
    "data_modais_trem_2016['Transporte'] = 'Trem'"
   ]
  },
  {
   "cell_type": "code",
   "execution_count": 107,
   "metadata": {},
   "outputs": [],
   "source": [
    "data_modais_trem_2016['Ano'] = 2016"
   ]
  },
  {
   "cell_type": "code",
   "execution_count": 108,
   "metadata": {},
   "outputs": [
    {
     "data": {
      "text/html": [
       "<div>\n",
       "<style scoped>\n",
       "    .dataframe tbody tr th:only-of-type {\n",
       "        vertical-align: middle;\n",
       "    }\n",
       "\n",
       "    .dataframe tbody tr th {\n",
       "        vertical-align: top;\n",
       "    }\n",
       "\n",
       "    .dataframe thead th {\n",
       "        text-align: right;\n",
       "    }\n",
       "</style>\n",
       "<table border=\"1\" class=\"dataframe\">\n",
       "  <thead>\n",
       "    <tr style=\"text-align: right;\">\n",
       "      <th></th>\n",
       "      <th>Bairros</th>\n",
       "      <th>Total anual</th>\n",
       "      <th>Média diária</th>\n",
       "      <th>Transporte</th>\n",
       "      <th>Ano</th>\n",
       "    </tr>\n",
       "  </thead>\n",
       "  <tbody>\n",
       "    <tr>\n",
       "      <td>4</td>\n",
       "      <td>Centro</td>\n",
       "      <td>40 478</td>\n",
       "      <td>111</td>\n",
       "      <td>Trem</td>\n",
       "      <td>2016</td>\n",
       "    </tr>\n",
       "    <tr>\n",
       "      <td>10</td>\n",
       "      <td>São Cristóvão</td>\n",
       "      <td>8 230</td>\n",
       "      <td>23</td>\n",
       "      <td>Trem</td>\n",
       "      <td>2016</td>\n",
       "    </tr>\n",
       "    <tr>\n",
       "      <td>12</td>\n",
       "      <td>Benfica</td>\n",
       "      <td>1 304</td>\n",
       "      <td>4</td>\n",
       "      <td>Trem</td>\n",
       "      <td>2016</td>\n",
       "    </tr>\n",
       "    <tr>\n",
       "      <td>34</td>\n",
       "      <td>Praça da Bandeira</td>\n",
       "      <td>1 333</td>\n",
       "      <td>4</td>\n",
       "      <td>Trem</td>\n",
       "      <td>2016</td>\n",
       "    </tr>\n",
       "    <tr>\n",
       "      <td>37</td>\n",
       "      <td>Maracanã</td>\n",
       "      <td>3 536</td>\n",
       "      <td>10</td>\n",
       "      <td>Trem</td>\n",
       "      <td>2016</td>\n",
       "    </tr>\n",
       "  </tbody>\n",
       "</table>\n",
       "</div>"
      ],
      "text/plain": [
       "              Bairros Total anual Média diária Transporte   Ano\n",
       "4              Centro      40 478          111       Trem  2016\n",
       "10      São Cristóvão       8 230           23       Trem  2016\n",
       "12           Benfica        1 304            4       Trem  2016\n",
       "34  Praça da Bandeira       1 333            4       Trem  2016\n",
       "37           Maracanã       3 536           10       Trem  2016"
      ]
     },
     "execution_count": 108,
     "metadata": {},
     "output_type": "execute_result"
    }
   ],
   "source": [
    "data_modais_trem_2016[:5]"
   ]
  },
  {
   "cell_type": "markdown",
   "metadata": {},
   "source": [
    "## Fluxo Metrô 2017"
   ]
  },
  {
   "cell_type": "code",
   "execution_count": 89,
   "metadata": {},
   "outputs": [],
   "source": [
    "data_modais_metro_2017 = pd.read_csv('data/datamodaisrj_metro_2017.csv', sep=';')"
   ]
  },
  {
   "cell_type": "code",
   "execution_count": 90,
   "metadata": {},
   "outputs": [
    {
     "data": {
      "text/html": [
       "<div>\n",
       "<style scoped>\n",
       "    .dataframe tbody tr th:only-of-type {\n",
       "        vertical-align: middle;\n",
       "    }\n",
       "\n",
       "    .dataframe tbody tr th {\n",
       "        vertical-align: top;\n",
       "    }\n",
       "\n",
       "    .dataframe thead th {\n",
       "        text-align: right;\n",
       "    }\n",
       "</style>\n",
       "<table border=\"1\" class=\"dataframe\">\n",
       "  <thead>\n",
       "    <tr style=\"text-align: right;\">\n",
       "      <th></th>\n",
       "      <th>Bairros</th>\n",
       "      <th>Total anual</th>\n",
       "      <th>Média diária</th>\n",
       "    </tr>\n",
       "  </thead>\n",
       "  <tbody>\n",
       "    <tr>\n",
       "      <td>0</td>\n",
       "      <td>Saúde</td>\n",
       "      <td>-</td>\n",
       "      <td>-</td>\n",
       "    </tr>\n",
       "    <tr>\n",
       "      <td>1</td>\n",
       "      <td>Gamboa</td>\n",
       "      <td>-</td>\n",
       "      <td>-</td>\n",
       "    </tr>\n",
       "    <tr>\n",
       "      <td>2</td>\n",
       "      <td>Santo Cristo</td>\n",
       "      <td>-</td>\n",
       "      <td>-</td>\n",
       "    </tr>\n",
       "    <tr>\n",
       "      <td>3</td>\n",
       "      <td>Caju</td>\n",
       "      <td>-</td>\n",
       "      <td>-</td>\n",
       "    </tr>\n",
       "    <tr>\n",
       "      <td>4</td>\n",
       "      <td>Centro</td>\n",
       "      <td>66 654</td>\n",
       "      <td>183</td>\n",
       "    </tr>\n",
       "  </tbody>\n",
       "</table>\n",
       "</div>"
      ],
      "text/plain": [
       "        Bairros Total anual Média diária\n",
       "0         Saúde           -            -\n",
       "1        Gamboa           -            -\n",
       "2  Santo Cristo           -            -\n",
       "3          Caju           -            -\n",
       "4        Centro      66 654          183"
      ]
     },
     "execution_count": 90,
     "metadata": {},
     "output_type": "execute_result"
    }
   ],
   "source": [
    "data_modais_metro_2017[:5]"
   ]
  },
  {
   "cell_type": "code",
   "execution_count": null,
   "metadata": {},
   "outputs": [],
   "source": []
  },
  {
   "cell_type": "code",
   "execution_count": 91,
   "metadata": {},
   "outputs": [],
   "source": [
    "data_modais_trem_2017['Ano'] = 2017"
   ]
  },
  {
   "cell_type": "code",
   "execution_count": 92,
   "metadata": {},
   "outputs": [
    {
     "data": {
      "text/plain": [
       "161000"
      ]
     },
     "execution_count": 92,
     "metadata": {},
     "output_type": "execute_result"
    }
   ],
   "source": [
    "data_modais_metro_2017['Total anual'].count() * 1000"
   ]
  },
  {
   "cell_type": "code",
   "execution_count": 93,
   "metadata": {},
   "outputs": [],
   "source": [
    "data_modais_metro_2017 = data_modais_metro_2017[data_modais_metro_2017['Total anual'] != '-']"
   ]
  },
  {
   "cell_type": "code",
   "execution_count": 98,
   "metadata": {},
   "outputs": [],
   "source": [
    "data_modais_metro_2017['Transporte'] = 'Metrô'"
   ]
  },
  {
   "cell_type": "code",
   "execution_count": 99,
   "metadata": {},
   "outputs": [],
   "source": [
    "data_modais_metro_2017['Ano'] = 2017"
   ]
  },
  {
   "cell_type": "code",
   "execution_count": 101,
   "metadata": {},
   "outputs": [
    {
     "data": {
      "text/html": [
       "<div>\n",
       "<style scoped>\n",
       "    .dataframe tbody tr th:only-of-type {\n",
       "        vertical-align: middle;\n",
       "    }\n",
       "\n",
       "    .dataframe tbody tr th {\n",
       "        vertical-align: top;\n",
       "    }\n",
       "\n",
       "    .dataframe thead th {\n",
       "        text-align: right;\n",
       "    }\n",
       "</style>\n",
       "<table border=\"1\" class=\"dataframe\">\n",
       "  <thead>\n",
       "    <tr style=\"text-align: right;\">\n",
       "      <th></th>\n",
       "      <th>Bairros</th>\n",
       "      <th>Total anual</th>\n",
       "      <th>Média diária</th>\n",
       "      <th>Transporte</th>\n",
       "      <th>Ano</th>\n",
       "    </tr>\n",
       "  </thead>\n",
       "  <tbody>\n",
       "    <tr>\n",
       "      <td>4</td>\n",
       "      <td>Centro</td>\n",
       "      <td>66 654</td>\n",
       "      <td>183</td>\n",
       "      <td>Metrô</td>\n",
       "      <td>2017</td>\n",
       "    </tr>\n",
       "    <tr>\n",
       "      <td>8</td>\n",
       "      <td>Cidade Nova</td>\n",
       "      <td>5 163</td>\n",
       "      <td>14</td>\n",
       "      <td>Metrô</td>\n",
       "      <td>2017</td>\n",
       "    </tr>\n",
       "    <tr>\n",
       "      <td>9</td>\n",
       "      <td>Estácio</td>\n",
       "      <td>2 979</td>\n",
       "      <td>8</td>\n",
       "      <td>Metrô</td>\n",
       "      <td>2017</td>\n",
       "    </tr>\n",
       "    <tr>\n",
       "      <td>10</td>\n",
       "      <td>São Cristóvão</td>\n",
       "      <td>4 052</td>\n",
       "      <td>11</td>\n",
       "      <td>Metrô</td>\n",
       "      <td>2017</td>\n",
       "    </tr>\n",
       "    <tr>\n",
       "      <td>12</td>\n",
       "      <td>Benfica</td>\n",
       "      <td>1 990</td>\n",
       "      <td>5</td>\n",
       "      <td>Metrô</td>\n",
       "      <td>2017</td>\n",
       "    </tr>\n",
       "  </tbody>\n",
       "</table>\n",
       "</div>"
      ],
      "text/plain": [
       "          Bairros Total anual Média diária Transporte   Ano\n",
       "4          Centro      66 654          183      Metrô  2017\n",
       "8     Cidade Nova       5 163           14      Metrô  2017\n",
       "9         Estácio       2 979            8      Metrô  2017\n",
       "10  São Cristóvão       4 052           11      Metrô  2017\n",
       "12       Benfica        1 990            5      Metrô  2017"
      ]
     },
     "execution_count": 101,
     "metadata": {},
     "output_type": "execute_result"
    }
   ],
   "source": [
    "data_modais_metro_2017[:5]"
   ]
  },
  {
   "cell_type": "markdown",
   "metadata": {},
   "source": [
    "## Fluxo Trem 2017"
   ]
  },
  {
   "cell_type": "code",
   "execution_count": 53,
   "metadata": {},
   "outputs": [],
   "source": [
    "data_modais_trem_2017 = pd.read_csv('data/datamodaisrj_trem_2017.csv', sep=',')"
   ]
  },
  {
   "cell_type": "code",
   "execution_count": 54,
   "metadata": {
    "scrolled": true
   },
   "outputs": [
    {
     "data": {
      "text/html": [
       "<div>\n",
       "<style scoped>\n",
       "    .dataframe tbody tr th:only-of-type {\n",
       "        vertical-align: middle;\n",
       "    }\n",
       "\n",
       "    .dataframe tbody tr th {\n",
       "        vertical-align: top;\n",
       "    }\n",
       "\n",
       "    .dataframe thead th {\n",
       "        text-align: right;\n",
       "    }\n",
       "</style>\n",
       "<table border=\"1\" class=\"dataframe\">\n",
       "  <thead>\n",
       "    <tr style=\"text-align: right;\">\n",
       "      <th></th>\n",
       "      <th>Bairros</th>\n",
       "      <th>Total anual</th>\n",
       "      <th>Média diária</th>\n",
       "    </tr>\n",
       "  </thead>\n",
       "  <tbody>\n",
       "    <tr>\n",
       "      <td>0</td>\n",
       "      <td>Saúde</td>\n",
       "      <td>-</td>\n",
       "      <td>-</td>\n",
       "    </tr>\n",
       "    <tr>\n",
       "      <td>1</td>\n",
       "      <td>Gamboa</td>\n",
       "      <td>-</td>\n",
       "      <td>-</td>\n",
       "    </tr>\n",
       "    <tr>\n",
       "      <td>2</td>\n",
       "      <td>Santo Cristo</td>\n",
       "      <td>-</td>\n",
       "      <td>-</td>\n",
       "    </tr>\n",
       "    <tr>\n",
       "      <td>3</td>\n",
       "      <td>Caju</td>\n",
       "      <td>-</td>\n",
       "      <td>-</td>\n",
       "    </tr>\n",
       "    <tr>\n",
       "      <td>4</td>\n",
       "      <td>Centro</td>\n",
       "      <td>35 873</td>\n",
       "      <td>98</td>\n",
       "    </tr>\n",
       "  </tbody>\n",
       "</table>\n",
       "</div>"
      ],
      "text/plain": [
       "        Bairros Total anual Média diária\n",
       "0         Saúde           -            -\n",
       "1        Gamboa           -            -\n",
       "2  Santo Cristo           -            -\n",
       "3          Caju           -            -\n",
       "4        Centro      35 873           98"
      ]
     },
     "execution_count": 54,
     "metadata": {},
     "output_type": "execute_result"
    }
   ],
   "source": [
    "data_modais_trem_2017[:5]"
   ]
  },
  {
   "cell_type": "code",
   "execution_count": 102,
   "metadata": {},
   "outputs": [],
   "source": [
    "data_modais_trem_2017 = data_modais_trem_2017[data_modais_trem_2017['Total anual'] != '-']"
   ]
  },
  {
   "cell_type": "code",
   "execution_count": 103,
   "metadata": {},
   "outputs": [],
   "source": [
    "data_modais_trem_2017['Transporte'] = 'Trem'"
   ]
  },
  {
   "cell_type": "code",
   "execution_count": 104,
   "metadata": {},
   "outputs": [],
   "source": [
    "data_modais_trem_2017['Ano'] = 2017"
   ]
  },
  {
   "cell_type": "code",
   "execution_count": 105,
   "metadata": {},
   "outputs": [
    {
     "data": {
      "text/html": [
       "<div>\n",
       "<style scoped>\n",
       "    .dataframe tbody tr th:only-of-type {\n",
       "        vertical-align: middle;\n",
       "    }\n",
       "\n",
       "    .dataframe tbody tr th {\n",
       "        vertical-align: top;\n",
       "    }\n",
       "\n",
       "    .dataframe thead th {\n",
       "        text-align: right;\n",
       "    }\n",
       "</style>\n",
       "<table border=\"1\" class=\"dataframe\">\n",
       "  <thead>\n",
       "    <tr style=\"text-align: right;\">\n",
       "      <th></th>\n",
       "      <th>Bairros</th>\n",
       "      <th>Total anual</th>\n",
       "      <th>Média diária</th>\n",
       "      <th>Transporte</th>\n",
       "      <th>Ano</th>\n",
       "    </tr>\n",
       "  </thead>\n",
       "  <tbody>\n",
       "    <tr>\n",
       "      <td>4</td>\n",
       "      <td>Centro</td>\n",
       "      <td>35 873</td>\n",
       "      <td>98</td>\n",
       "      <td>Trem</td>\n",
       "      <td>2017</td>\n",
       "    </tr>\n",
       "    <tr>\n",
       "      <td>10</td>\n",
       "      <td>São Cristóvão</td>\n",
       "      <td>7 804</td>\n",
       "      <td>21</td>\n",
       "      <td>Trem</td>\n",
       "      <td>2017</td>\n",
       "    </tr>\n",
       "    <tr>\n",
       "      <td>12</td>\n",
       "      <td>Benfica</td>\n",
       "      <td>1 156</td>\n",
       "      <td>3</td>\n",
       "      <td>Trem</td>\n",
       "      <td>2017</td>\n",
       "    </tr>\n",
       "    <tr>\n",
       "      <td>34</td>\n",
       "      <td>Praça da Bandeira</td>\n",
       "      <td>1 167</td>\n",
       "      <td>3</td>\n",
       "      <td>Trem</td>\n",
       "      <td>2017</td>\n",
       "    </tr>\n",
       "    <tr>\n",
       "      <td>37</td>\n",
       "      <td>Maracanã</td>\n",
       "      <td>3 224</td>\n",
       "      <td>9</td>\n",
       "      <td>Trem</td>\n",
       "      <td>2017</td>\n",
       "    </tr>\n",
       "  </tbody>\n",
       "</table>\n",
       "</div>"
      ],
      "text/plain": [
       "              Bairros Total anual Média diária Transporte   Ano\n",
       "4              Centro      35 873           98       Trem  2017\n",
       "10      São Cristóvão       7 804           21       Trem  2017\n",
       "12           Benfica        1 156            3       Trem  2017\n",
       "34  Praça da Bandeira       1 167            3       Trem  2017\n",
       "37           Maracanã       3 224            9       Trem  2017"
      ]
     },
     "execution_count": 105,
     "metadata": {},
     "output_type": "execute_result"
    }
   ],
   "source": [
    "data_modais_trem_2017[:5]"
   ]
  },
  {
   "cell_type": "code",
   "execution_count": null,
   "metadata": {},
   "outputs": [],
   "source": []
  },
  {
   "cell_type": "markdown",
   "metadata": {},
   "source": [
    "# População residente"
   ]
  },
  {
   "cell_type": "code",
   "execution_count": 59,
   "metadata": {},
   "outputs": [],
   "source": [
    "data_populacao_residente = pd.read_csv('data/Populacao_residente.csv', sep=';')"
   ]
  },
  {
   "cell_type": "code",
   "execution_count": 60,
   "metadata": {},
   "outputs": [
    {
     "data": {
      "text/html": [
       "<div>\n",
       "<style scoped>\n",
       "    .dataframe tbody tr th:only-of-type {\n",
       "        vertical-align: middle;\n",
       "    }\n",
       "\n",
       "    .dataframe tbody tr th {\n",
       "        vertical-align: top;\n",
       "    }\n",
       "\n",
       "    .dataframe thead th {\n",
       "        text-align: right;\n",
       "    }\n",
       "</style>\n",
       "<table border=\"1\" class=\"dataframe\">\n",
       "  <thead>\n",
       "    <tr style=\"text-align: right;\">\n",
       "      <th></th>\n",
       "      <th>Regiões Administrativas</th>\n",
       "      <th>2000</th>\n",
       "      <th>2010</th>\n",
       "    </tr>\n",
       "  </thead>\n",
       "  <tbody>\n",
       "    <tr>\n",
       "      <td>0</td>\n",
       "      <td>NaN</td>\n",
       "      <td>NaN</td>\n",
       "      <td>NaN</td>\n",
       "    </tr>\n",
       "    <tr>\n",
       "      <td>1</td>\n",
       "      <td>Anchieta</td>\n",
       "      <td>154 608</td>\n",
       "      <td>158 318</td>\n",
       "    </tr>\n",
       "    <tr>\n",
       "      <td>2</td>\n",
       "      <td>NaN</td>\n",
       "      <td>NaN</td>\n",
       "      <td>NaN</td>\n",
       "    </tr>\n",
       "    <tr>\n",
       "      <td>3</td>\n",
       "      <td>Bangu</td>\n",
       "      <td>420 503</td>\n",
       "      <td>428 035</td>\n",
       "    </tr>\n",
       "    <tr>\n",
       "      <td>4</td>\n",
       "      <td>NaN</td>\n",
       "      <td>NaN</td>\n",
       "      <td>NaN</td>\n",
       "    </tr>\n",
       "  </tbody>\n",
       "</table>\n",
       "</div>"
      ],
      "text/plain": [
       "  Regiões Administrativas       2000       2010\n",
       "0                     NaN        NaN        NaN\n",
       "1                Anchieta    154 608    158 318\n",
       "2                     NaN        NaN        NaN\n",
       "3                   Bangu    420 503    428 035\n",
       "4                     NaN        NaN        NaN"
      ]
     },
     "execution_count": 60,
     "metadata": {},
     "output_type": "execute_result"
    }
   ],
   "source": [
    "data_populacao_residente[:5]"
   ]
  },
  {
   "cell_type": "code",
   "execution_count": 61,
   "metadata": {},
   "outputs": [
    {
     "data": {
      "text/plain": [
       "Regiões Administrativas    33\n",
       "2000                       33\n",
       "2010                       33\n",
       "dtype: int64"
      ]
     },
     "execution_count": 61,
     "metadata": {},
     "output_type": "execute_result"
    }
   ],
   "source": [
    "data_populacao_residente.count()"
   ]
  },
  {
   "cell_type": "code",
   "execution_count": 62,
   "metadata": {},
   "outputs": [],
   "source": [
    "data_populacao_residente = data_populacao_residente[data_populacao_residente['2010'].notna()]"
   ]
  },
  {
   "cell_type": "code",
   "execution_count": 63,
   "metadata": {},
   "outputs": [
    {
     "data": {
      "text/html": [
       "<div>\n",
       "<style scoped>\n",
       "    .dataframe tbody tr th:only-of-type {\n",
       "        vertical-align: middle;\n",
       "    }\n",
       "\n",
       "    .dataframe tbody tr th {\n",
       "        vertical-align: top;\n",
       "    }\n",
       "\n",
       "    .dataframe thead th {\n",
       "        text-align: right;\n",
       "    }\n",
       "</style>\n",
       "<table border=\"1\" class=\"dataframe\">\n",
       "  <thead>\n",
       "    <tr style=\"text-align: right;\">\n",
       "      <th></th>\n",
       "      <th>Regiões Administrativas</th>\n",
       "      <th>2000</th>\n",
       "      <th>2010</th>\n",
       "    </tr>\n",
       "  </thead>\n",
       "  <tbody>\n",
       "    <tr>\n",
       "      <td>1</td>\n",
       "      <td>Anchieta</td>\n",
       "      <td>154 608</td>\n",
       "      <td>158 318</td>\n",
       "    </tr>\n",
       "    <tr>\n",
       "      <td>3</td>\n",
       "      <td>Bangu</td>\n",
       "      <td>420 503</td>\n",
       "      <td>428 035</td>\n",
       "    </tr>\n",
       "    <tr>\n",
       "      <td>5</td>\n",
       "      <td>Barra da Tijuca</td>\n",
       "      <td>174 353</td>\n",
       "      <td>300 823</td>\n",
       "    </tr>\n",
       "    <tr>\n",
       "      <td>7</td>\n",
       "      <td>Botafogo</td>\n",
       "      <td>238 895</td>\n",
       "      <td>239 729</td>\n",
       "    </tr>\n",
       "    <tr>\n",
       "      <td>9</td>\n",
       "      <td>Campo Grande</td>\n",
       "      <td>484 362</td>\n",
       "      <td>542 084</td>\n",
       "    </tr>\n",
       "  </tbody>\n",
       "</table>\n",
       "</div>"
      ],
      "text/plain": [
       "  Regiões Administrativas       2000       2010\n",
       "1                Anchieta    154 608    158 318\n",
       "3                   Bangu    420 503    428 035\n",
       "5         Barra da Tijuca    174 353    300 823\n",
       "7                Botafogo    238 895    239 729\n",
       "9            Campo Grande    484 362    542 084"
      ]
     },
     "execution_count": 63,
     "metadata": {},
     "output_type": "execute_result"
    }
   ],
   "source": [
    "data_populacao_residente[:5]"
   ]
  },
  {
   "cell_type": "code",
   "execution_count": null,
   "metadata": {},
   "outputs": [],
   "source": []
  },
  {
   "cell_type": "markdown",
   "metadata": {},
   "source": []
  },
  {
   "cell_type": "markdown",
   "metadata": {},
   "source": [
    "# Mesclando as tabelas de transportes"
   ]
  },
  {
   "cell_type": "code",
   "execution_count": 120,
   "metadata": {},
   "outputs": [],
   "source": [
    "data_frames = [data_modais_metro_2016, data_modais_trem_2016, data_modais_metro_2017, data_modais_trem_2017]\n",
    "data_modais_transportes = pd.concat(data_frames)"
   ]
  },
  {
   "cell_type": "code",
   "execution_count": 126,
   "metadata": {},
   "outputs": [
    {
     "ename": "NameError",
     "evalue": "name 'Bairro' is not defined",
     "output_type": "error",
     "traceback": [
      "\u001b[0;31m---------------------------------------------------------------------------\u001b[0m",
      "\u001b[0;31mNameError\u001b[0m                                 Traceback (most recent call last)",
      "\u001b[0;32m<ipython-input-126-6863e034914c>\u001b[0m in \u001b[0;36m<module>\u001b[0;34m\u001b[0m\n\u001b[0;32m----> 1\u001b[0;31m \u001b[0mdata_modais_transportes\u001b[0m\u001b[0;34m[\u001b[0m\u001b[0mBairro\u001b[0m\u001b[0;34m==\u001b[0m\u001b[0;34m'Centro'\u001b[0m\u001b[0;34m]\u001b[0m\u001b[0;34m\u001b[0m\u001b[0;34m\u001b[0m\u001b[0m\n\u001b[0m",
      "\u001b[0;31mNameError\u001b[0m: name 'Bairro' is not defined"
     ]
    }
   ],
   "source": [
    "data_modais_transportes"
   ]
  },
  {
   "cell_type": "code",
   "execution_count": null,
   "metadata": {},
   "outputs": [],
   "source": []
  }
 ],
 "metadata": {
  "kernelspec": {
   "display_name": "Python 3",
   "language": "python",
   "name": "python3"
  },
  "language_info": {
   "codemirror_mode": {
    "name": "ipython",
    "version": 3
   },
   "file_extension": ".py",
   "mimetype": "text/x-python",
   "name": "python",
   "nbconvert_exporter": "python",
   "pygments_lexer": "ipython3",
   "version": "3.7.4"
  }
 },
 "nbformat": 4,
 "nbformat_minor": 2
}
