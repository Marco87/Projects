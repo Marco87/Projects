{
 "cells": [
  {
   "cell_type": "markdown",
   "metadata": {},
   "source": [
    "# Two Fer"
   ]
  },
  {
   "cell_type": "markdown",
   "metadata": {},
   "source": [
    "Introduction\n",
    "Two-fer or 2-fer is short for two for one. One for you and one for me.\n",
    "\n",
    "Given a name, return a string with the message:\n",
    "\n",
    "One for X, one for me.\n",
    "Where X is the given name.\n",
    "\n",
    "However, if the name is missing, return the string:\n",
    "\n",
    "One for you, one for me.\n",
    "Here are some examples:\n",
    "\n",
    "Name\tString to return\n",
    "Alice\tOne for Alice, one for me.\n",
    "Bob\tOne for Bob, one for me.\n",
    "One for you, one for me.\n",
    "Zaphod\tOne for Zaphod, one for me.\n",
    "Exception messages\n",
    "Sometimes it is necessary to raise an exception. When you do this, you should include a meaningful error message to indicate what the source of the error is. This makes your code more readable and helps significantly with debugging. Not every exercise will require you to raise an exception, but for those that do, the tests will only pass if you include a message.\n",
    "\n",
    "To raise a message with an exception, just write it as an argument to the exception type. For example, instead of raise Exception, you should write:\n",
    "\n",
    "raise Exception(\"Meaningful message indicating the source of the error\")"
   ]
  },
  {
   "cell_type": "code",
   "execution_count": 1,
   "metadata": {},
   "outputs": [],
   "source": [
    "def two_fer(name = \"you\"):\n",
    "    return f\"One for {name}, one for me.\""
   ]
  },
  {
   "cell_type": "code",
   "execution_count": 2,
   "metadata": {},
   "outputs": [
    {
     "name": "stdout",
     "output_type": "stream",
     "text": [
      "One for Marco, one for me.\n"
     ]
    }
   ],
   "source": [
    "print(two_fer(\"Marco\"))"
   ]
  },
  {
   "cell_type": "code",
   "execution_count": 3,
   "metadata": {},
   "outputs": [
    {
     "name": "stdout",
     "output_type": "stream",
     "text": [
      "One for you, one for me.\n"
     ]
    }
   ],
   "source": [
    "print(two_fer())"
   ]
  },
  {
   "cell_type": "markdown",
   "metadata": {},
   "source": [
    "# Raindrops"
   ]
  },
  {
   "cell_type": "markdown",
   "metadata": {},
   "source": [
    "\n",
    "Introduction\n",
    "Your task is to convert a number into a string that contains raindrop sounds corresponding to certain potential factors. A factor is a number that evenly divides into another number, leaving no remainder. The simplest way to test if a one number is a factor of another is to use the modulo operation.\n",
    "\n",
    "The rules of raindrops are that if a given number:\n",
    "\n",
    "has 3 as a factor, add 'Pling' to the result.\n",
    "has 5 as a factor, add 'Plang' to the result.\n",
    "has 7 as a factor, add 'Plong' to the result.\n",
    "does not have any of 3, 5, or 7 as a factor, the result should be the digits of the number.\n",
    "Examples\n",
    "28 has 7 as a factor, but not 3 or 5, so the result would be \"Plong\".\n",
    "30 has both 3 and 5 as factors, but not 7, so the result would be \"PlingPlang\".\n",
    "34 is not factored by 3, 5, or 7, so the result would be \"34\"."
   ]
  },
  {
   "cell_type": "code",
   "execution_count": 5,
   "metadata": {},
   "outputs": [],
   "source": [
    "def convert(number):\n",
    "    factor = \"\"\n",
    "    \n",
    "    if(number % 3 == 0):\n",
    "        factor += \"Pling\"\n",
    "    if(number % 5 == 0):\n",
    "        factor += \"Plang\"\n",
    "    if(number % 7 == 0):\n",
    "        factor += \"Plong\"\n",
    "    if(factor == \"\"):\n",
    "        factor = str(number)\n",
    "\n",
    "    return factor"
   ]
  },
  {
   "cell_type": "code",
   "execution_count": 9,
   "metadata": {},
   "outputs": [
    {
     "name": "stdout",
     "output_type": "stream",
     "text": [
      "Enter a number: 2\n",
      "2\n"
     ]
    }
   ],
   "source": [
    "n = input(\"Enter a number: \")\n",
    "print(convert(int(n)))"
   ]
  },
  {
   "cell_type": "markdown",
   "metadata": {},
   "source": [
    "# Pangram"
   ]
  },
  {
   "cell_type": "markdown",
   "metadata": {},
   "source": [
    "Introduction\n",
    "Determine if a sentence is a pangram. A pangram (Greek: παν γράμμα, pan gramma, \"every letter\") is a sentence using every letter of the alphabet at least once. The best known English pangram is:\n",
    "\n",
    "The quick brown fox jumps over the lazy dog.\n",
    "\n",
    "The alphabet used consists of ASCII letters a to z, inclusive, and is case insensitive. Input will not contain non-ASCII symbols."
   ]
  },
  {
   "cell_type": "code",
   "execution_count": 13,
   "metadata": {},
   "outputs": [],
   "source": [
    "word = \"the quick brown fox jumps over the lazy dog\""
   ]
  },
  {
   "cell_type": "code",
   "execution_count": 15,
   "metadata": {},
   "outputs": [
    {
     "name": "stdout",
     "output_type": "stream",
     "text": [
      "2\n"
     ]
    }
   ],
   "source": [
    "print(word.lower().count(\"t\"))"
   ]
  },
  {
   "cell_type": "code",
   "execution_count": null,
   "metadata": {},
   "outputs": [],
   "source": []
  }
 ],
 "metadata": {
  "kernelspec": {
   "display_name": "Python 3",
   "language": "python",
   "name": "python3"
  },
  "language_info": {
   "codemirror_mode": {
    "name": "ipython",
    "version": 3
   },
   "file_extension": ".py",
   "mimetype": "text/x-python",
   "name": "python",
   "nbconvert_exporter": "python",
   "pygments_lexer": "ipython3",
   "version": "3.7.4"
  }
 },
 "nbformat": 4,
 "nbformat_minor": 2
}
