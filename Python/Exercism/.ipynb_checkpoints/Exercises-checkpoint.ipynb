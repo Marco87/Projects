{
 "cells": [
  {
   "cell_type": "markdown",
   "metadata": {},
   "source": [
    "# Two Fer"
   ]
  },
  {
   "cell_type": "markdown",
   "metadata": {},
   "source": [
    "Introduction\n",
    "Two-fer or 2-fer is short for two for one. One for you and one for me.\n",
    "\n",
    "Given a name, return a string with the message:\n",
    "\n",
    "One for X, one for me.\n",
    "Where X is the given name.\n",
    "\n",
    "However, if the name is missing, return the string:\n",
    "\n",
    "One for you, one for me.\n",
    "Here are some examples:\n",
    "\n",
    "Name\tString to return\n",
    "Alice\tOne for Alice, one for me.\n",
    "Bob\tOne for Bob, one for me.\n",
    "One for you, one for me.\n",
    "Zaphod\tOne for Zaphod, one for me.\n",
    "Exception messages\n",
    "Sometimes it is necessary to raise an exception. When you do this, you should include a meaningful error message to indicate what the source of the error is. This makes your code more readable and helps significantly with debugging. Not every exercise will require you to raise an exception, but for those that do, the tests will only pass if you include a message.\n",
    "\n",
    "To raise a message with an exception, just write it as an argument to the exception type. For example, instead of raise Exception, you should write:\n",
    "\n",
    "raise Exception(\"Meaningful message indicating the source of the error\")"
   ]
  },
  {
   "cell_type": "code",
   "execution_count": 1,
   "metadata": {},
   "outputs": [],
   "source": [
    "def two_fer(name = \"you\"):\n",
    "    return f\"One for {name}, one for me.\""
   ]
  },
  {
   "cell_type": "code",
   "execution_count": 2,
   "metadata": {},
   "outputs": [
    {
     "name": "stdout",
     "output_type": "stream",
     "text": [
      "One for Marco, one for me.\n"
     ]
    }
   ],
   "source": [
    "print(two_fer(\"Marco\"))"
   ]
  },
  {
   "cell_type": "code",
   "execution_count": 3,
   "metadata": {},
   "outputs": [
    {
     "name": "stdout",
     "output_type": "stream",
     "text": [
      "One for you, one for me.\n"
     ]
    }
   ],
   "source": [
    "print(two_fer())"
   ]
  },
  {
   "cell_type": "code",
   "execution_count": null,
   "metadata": {},
   "outputs": [],
   "source": []
  }
 ],
 "metadata": {
  "kernelspec": {
   "display_name": "Python 3",
   "language": "python",
   "name": "python3"
  },
  "language_info": {
   "codemirror_mode": {
    "name": "ipython",
    "version": 3
   },
   "file_extension": ".py",
   "mimetype": "text/x-python",
   "name": "python",
   "nbconvert_exporter": "python",
   "pygments_lexer": "ipython3",
   "version": "3.7.4"
  }
 },
 "nbformat": 4,
 "nbformat_minor": 2
}
