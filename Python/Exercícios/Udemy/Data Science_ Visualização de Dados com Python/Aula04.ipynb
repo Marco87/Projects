{
 "cells": [
  {
   "cell_type": "code",
   "execution_count": 39,
   "metadata": {},
   "outputs": [
    {
     "name": "stdout",
     "output_type": "stream",
     "text": [
      "{'AA': 0, 'AT': 0, 'AC': 0, 'AG': 0, 'TA': 0, 'TT': 0, 'TC': 0, 'TG': 0, 'CA': 0, 'CT': 0, 'CC': 0, 'CG': 0, 'GA': 0, 'GT': 0, 'GC': 0, 'GG': 0}\n"
     ]
    }
   ],
   "source": [
    "entrada = open(\"dados/bacteria.fasta\").read()\n",
    "saida = open(\"bacteria.html\", \"w\")\n",
    "\n",
    "cont = {}\n",
    "\n",
    "for i in ['A', 'T', 'C', 'G']:\n",
    "    for j in ['A', 'T', 'C', 'G']:\n",
    "        cont[i+j] = 0\n",
    "        \n",
    "print(cont)"
   ]
  },
  {
   "cell_type": "code",
   "execution_count": 40,
   "metadata": {},
   "outputs": [
    {
     "name": "stdout",
     "output_type": "stream",
     "text": [
      "{'AA': 105, 'AT': 64, 'AC': 86, 'AG': 111, 'TA': 64, 'TT': 57, 'TC': 60, 'TG': 108, 'CA': 83, 'CT': 75, 'CC': 74, 'CG': 97, 'GA': 113, 'GT': 93, 'GC': 109, 'GG': 147}\n"
     ]
    }
   ],
   "source": [
    "entrada = entrada.replace(\"\\n\",\"\")\n",
    "\n",
    "for k in range(len(entrada)-1):\n",
    "    cont[entrada[k]+entrada[k+1]] += 1\n",
    "    \n",
    "print(cont)"
   ]
  },
  {
   "cell_type": "code",
   "execution_count": 41,
   "metadata": {},
   "outputs": [],
   "source": [
    "i = 1\n",
    "for k in cont:\n",
    "    transparencia = cont[k]/max(cont.values())\n",
    "    saida.write(\"<div style='width:100px; border: 1px solid #111; height: 100px; float: left; background-color: rgba(0, 0, 255, \"+str(transparencia)+\"')>\"+k+\"</div>\")"
   ]
  },
  {
   "cell_type": "code",
   "execution_count": null,
   "metadata": {},
   "outputs": [],
   "source": []
  }
 ],
 "metadata": {
  "kernelspec": {
   "display_name": "Python 3",
   "language": "python",
   "name": "python3"
  },
  "language_info": {
   "codemirror_mode": {
    "name": "ipython",
    "version": 3
   },
   "file_extension": ".py",
   "mimetype": "text/x-python",
   "name": "python",
   "nbconvert_exporter": "python",
   "pygments_lexer": "ipython3",
   "version": "3.7.4"
  }
 },
 "nbformat": 4,
 "nbformat_minor": 2
}
