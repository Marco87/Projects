{
 "cells": [
  {
   "cell_type": "markdown",
   "metadata": {},
   "source": [
    "### Módulo 1\n",
    "\n",
    "### https://qoda.com.br/projeto-data-science-do-zero-com-python-r-e-javascript-dia1/\n",
    "\n",
    "### https://colab.research.google.com/drive/1f2_7yWtRAIWiA_ddorJmAQJVbCz9_OZz#forceEdit=true&sandboxMode=true"
   ]
  },
  {
   "cell_type": "code",
   "execution_count": 1,
   "metadata": {},
   "outputs": [
    {
     "name": "stdout",
     "output_type": "stream",
     "text": [
      "Digite a sua altura: 1.9\n",
      "Seu peso ideal é: 80.13 Kg\n"
     ]
    }
   ],
   "source": [
    "#Desafio 1\n",
    "altura = float(input(\"Digite a sua altura: \"))\n",
    "def peso_ideal(alt):\n",
    "    return ((72.7 * alt) - 58)\n",
    "print(\"Seu peso ideal é: \" + str(peso_ideal(altura)) + \" Kg\")"
   ]
  },
  {
   "cell_type": "code",
   "execution_count": 2,
   "metadata": {},
   "outputs": [
    {
     "name": "stdout",
     "output_type": "stream",
     "text": [
      "Digite um turno:\n",
      "(M-matutino, V-Vespertino ou N- Noturno)m\n",
      "Bom dia!\n"
     ]
    }
   ],
   "source": [
    "#Desafio 2\n",
    "turno = input(\"Digite um turno:\\n(M-matutino, V-Vespertino ou N- Noturno)\")\n",
    "if turno.upper() == 'M':\n",
    "    print(\"Bom dia!\")\n",
    "elif turno.upper() == 'V':\n",
    "    print(\"Boa tarde!\")\n",
    "elif turno.upper() == 'N':\n",
    "    print(\"Boa noite!\")\n",
    "else:\n",
    "    print(\"Valor inválido!\")"
   ]
  },
  {
   "cell_type": "code",
   "execution_count": 3,
   "metadata": {},
   "outputs": [
    {
     "name": "stdout",
     "output_type": "stream",
     "text": [
      "Digite o limite da sequência de Fibonacci: 34\n",
      "[1, 1, 2, 3, 5, 8, 13, 21, 34, 55, 89, 144, 233, 377, 610, 987, 1597, 2584, 4181, 6765, 10946, 17711, 28657, 46368, 75025, 121393, 196418, 317811, 514229, 832040, 1346269, 2178309, 3524578, 5702887]\n"
     ]
    }
   ],
   "source": [
    "#Desafio 3\n",
    "limite = int(input(\"Digite o limite da sequência de Fibonacci: \"))\n",
    "fibo = []\n",
    "for i in range(0, limite):\n",
    "    if i==0 or i==1:\n",
    "        fibo.append(1)\n",
    "    elif i>1:\n",
    "        fibo.append(fibo[i-2] + fibo[i-1])\n",
    "print(fibo)"
   ]
  },
  {
   "cell_type": "code",
   "execution_count": 4,
   "metadata": {},
   "outputs": [
    {
     "name": "stdout",
     "output_type": "stream",
     "text": [
      "Digite um número: 655544433\n",
      "334445556\n"
     ]
    }
   ],
   "source": [
    "#Desafio 4\n",
    "numero = int(input(\"Digite um número: \"))\n",
    "print(str(numero)[::-1])"
   ]
  },
  {
   "cell_type": "code",
   "execution_count": null,
   "metadata": {},
   "outputs": [],
   "source": []
  }
 ],
 "metadata": {
  "kernelspec": {
   "display_name": "Python 3",
   "language": "python",
   "name": "python3"
  },
  "language_info": {
   "codemirror_mode": {
    "name": "ipython",
    "version": 3
   },
   "file_extension": ".py",
   "mimetype": "text/x-python",
   "name": "python",
   "nbconvert_exporter": "python",
   "pygments_lexer": "ipython3",
   "version": "3.7.4"
  }
 },
 "nbformat": 4,
 "nbformat_minor": 2
}
