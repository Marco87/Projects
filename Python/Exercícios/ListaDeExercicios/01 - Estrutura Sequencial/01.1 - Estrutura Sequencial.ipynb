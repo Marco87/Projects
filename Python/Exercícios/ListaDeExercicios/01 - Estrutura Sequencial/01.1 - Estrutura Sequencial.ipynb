{
 "cells": [
  {
   "cell_type": "markdown",
   "metadata": {},
   "source": [
    "## 1 - Faça um Programa que mostre a mensagem \"Alo mundo\" na tela."
   ]
  },
  {
   "cell_type": "code",
   "execution_count": 1,
   "metadata": {},
   "outputs": [
    {
     "name": "stdout",
     "output_type": "stream",
     "text": [
      "Alô Mundo!\n"
     ]
    }
   ],
   "source": [
    "print(\"Alô Mundo!\")"
   ]
  },
  {
   "cell_type": "markdown",
   "metadata": {},
   "source": [
    "## 2 - Faça um Programa que peça um número e então mostre a mensagem: O número informado foi ___."
   ]
  },
  {
   "cell_type": "code",
   "execution_count": 4,
   "metadata": {},
   "outputs": [
    {
     "name": "stdout",
     "output_type": "stream",
     "text": [
      "Digite um número:42\n"
     ]
    }
   ],
   "source": [
    "num = input(\"Digite um número:\")"
   ]
  },
  {
   "cell_type": "code",
   "execution_count": 5,
   "metadata": {},
   "outputs": [
    {
     "name": "stdout",
     "output_type": "stream",
     "text": [
      "O número digitado é 42\n"
     ]
    }
   ],
   "source": [
    "print(f\"O número digitado é {num}\")"
   ]
  },
  {
   "cell_type": "markdown",
   "metadata": {},
   "source": [
    "## 3 - Faça um Programa que peça dois números e imprima a soma."
   ]
  },
  {
   "cell_type": "code",
   "execution_count": 23,
   "metadata": {},
   "outputs": [
    {
     "name": "stdout",
     "output_type": "stream",
     "text": [
      "Digite o primeiro número: 8\n"
     ]
    }
   ],
   "source": [
    "n1 = int(input(\"Digite o primeiro número: \"))"
   ]
  },
  {
   "cell_type": "code",
   "execution_count": 24,
   "metadata": {},
   "outputs": [
    {
     "name": "stdout",
     "output_type": "stream",
     "text": [
      "Digite o segundo número: 8\n"
     ]
    }
   ],
   "source": [
    "n2 = int(input(\"Digite o segundo número: \"))"
   ]
  },
  {
   "cell_type": "code",
   "execution_count": 25,
   "metadata": {},
   "outputs": [],
   "source": [
    "soma = int(n1+n2)"
   ]
  },
  {
   "cell_type": "code",
   "execution_count": 26,
   "metadata": {},
   "outputs": [
    {
     "name": "stdout",
     "output_type": "stream",
     "text": [
      "A soma de 8 e 8 é 16\n"
     ]
    }
   ],
   "source": [
    "print(f\"A soma de {n1} e {n2} é {soma}\")"
   ]
  },
  {
   "cell_type": "markdown",
   "metadata": {},
   "source": [
    "## 4 - Faça um Programa que peça as 4 notas bimestrais e mostre a média."
   ]
  },
  {
   "cell_type": "code",
   "execution_count": 27,
   "metadata": {},
   "outputs": [
    {
     "name": "stdout",
     "output_type": "stream",
     "text": [
      "Digite a primeira nota: 5\n"
     ]
    }
   ],
   "source": [
    "n1 = float(input(\"Digite a primeira nota: \"))"
   ]
  },
  {
   "cell_type": "code",
   "execution_count": 28,
   "metadata": {},
   "outputs": [
    {
     "name": "stdout",
     "output_type": "stream",
     "text": [
      "Digite a segunda nota: 6\n"
     ]
    }
   ],
   "source": [
    "n2 = float(input(\"Digite a segunda nota: \"))"
   ]
  },
  {
   "cell_type": "code",
   "execution_count": 29,
   "metadata": {},
   "outputs": [
    {
     "name": "stdout",
     "output_type": "stream",
     "text": [
      "Digite a terceira nota: 7\n"
     ]
    }
   ],
   "source": [
    "n3 = float(input(\"Digite a terceira nota: \"))"
   ]
  },
  {
   "cell_type": "code",
   "execution_count": 30,
   "metadata": {},
   "outputs": [
    {
     "name": "stdout",
     "output_type": "stream",
     "text": [
      "Digite a quarta nota: 8\n"
     ]
    }
   ],
   "source": [
    "n4 = float(input(\"Digite a quarta nota: \"))"
   ]
  },
  {
   "cell_type": "code",
   "execution_count": 31,
   "metadata": {},
   "outputs": [],
   "source": [
    "med = (n1 + n2 + n3 + n4)/4"
   ]
  },
  {
   "cell_type": "code",
   "execution_count": 32,
   "metadata": {},
   "outputs": [
    {
     "name": "stdout",
     "output_type": "stream",
     "text": [
      "A média das notas é: 6.5\n"
     ]
    }
   ],
   "source": [
    "print(f\"A média das notas é: {med}\")"
   ]
  },
  {
   "cell_type": "markdown",
   "metadata": {},
   "source": [
    "## 5 - Faça um Programa que converta metros para centímetros."
   ]
  },
  {
   "cell_type": "code",
   "execution_count": 33,
   "metadata": {},
   "outputs": [
    {
     "name": "stdout",
     "output_type": "stream",
     "text": [
      "Digite o valor em metros: 1\n"
     ]
    }
   ],
   "source": [
    "metros = float(input(\"Digite o valor em metros: \"))"
   ]
  },
  {
   "cell_type": "code",
   "execution_count": 34,
   "metadata": {},
   "outputs": [],
   "source": [
    "centim = metros * 100"
   ]
  },
  {
   "cell_type": "code",
   "execution_count": 35,
   "metadata": {},
   "outputs": [
    {
     "name": "stdout",
     "output_type": "stream",
     "text": [
      "1.0 metro(s) equivale(m) a 100.0 centímetros\n"
     ]
    }
   ],
   "source": [
    "print(f\"{metros} metro(s) equivale(m) a {centim} centímetros\")"
   ]
  },
  {
   "cell_type": "markdown",
   "metadata": {},
   "source": [
    "## 6 - Faça um Programa que peça o raio de um círculo, calcule e mostre sua área."
   ]
  },
  {
   "cell_type": "code",
   "execution_count": 36,
   "metadata": {},
   "outputs": [
    {
     "name": "stdout",
     "output_type": "stream",
     "text": [
      "Digite o raio do círculo: 2\n"
     ]
    }
   ],
   "source": [
    "raio = float(input(\"Digite o raio do círculo: \"))"
   ]
  },
  {
   "cell_type": "code",
   "execution_count": 37,
   "metadata": {},
   "outputs": [],
   "source": [
    "area = (3.14 * (raio * raio))"
   ]
  },
  {
   "cell_type": "code",
   "execution_count": 38,
   "metadata": {},
   "outputs": [
    {
     "name": "stdout",
     "output_type": "stream",
     "text": [
      "A área do círculo é: 12.56\n"
     ]
    }
   ],
   "source": [
    "print(f\"A área do círculo é: {area}\")"
   ]
  },
  {
   "cell_type": "markdown",
   "metadata": {},
   "source": [
    "## 7 - Faça um Programa que calcule a área de um quadrado, em seguida mostre o dobro desta área para o usuário."
   ]
  },
  {
   "cell_type": "code",
   "execution_count": 39,
   "metadata": {},
   "outputs": [
    {
     "name": "stdout",
     "output_type": "stream",
     "text": [
      "Digite o valor do lado do quadrado: 2\n"
     ]
    }
   ],
   "source": [
    "lado = float(input(\"Digite o valor do lado do quadrado: \"))"
   ]
  },
  {
   "cell_type": "code",
   "execution_count": 40,
   "metadata": {},
   "outputs": [],
   "source": [
    "area = (lado * lado)"
   ]
  },
  {
   "cell_type": "code",
   "execution_count": 41,
   "metadata": {},
   "outputs": [],
   "source": [
    "dobro_area = (area * 2)"
   ]
  },
  {
   "cell_type": "code",
   "execution_count": 44,
   "metadata": {},
   "outputs": [
    {
     "name": "stdout",
     "output_type": "stream",
     "text": [
      "O dobro do quadrado cuja área é 4.0 é: 8.0\n"
     ]
    }
   ],
   "source": [
    "print(f\"O dobro do quadrado cuja área é {area} é: {dobro_area}\")"
   ]
  },
  {
   "cell_type": "markdown",
   "metadata": {},
   "source": [
    "## 8 - Faça um Programa que pergunte quanto você ganha por hora e o número de horas trabalhadas no mês. Calcule e mostre o total do seu salário no referido mês."
   ]
  },
  {
   "cell_type": "code",
   "execution_count": 45,
   "metadata": {},
   "outputs": [
    {
     "name": "stdout",
     "output_type": "stream",
     "text": [
      "Quanto você ganha por hora? 10\n"
     ]
    }
   ],
   "source": [
    "salario_hora = float(input(\"Quanto você ganha por hora? \"))"
   ]
  },
  {
   "cell_type": "code",
   "execution_count": 46,
   "metadata": {},
   "outputs": [
    {
     "name": "stdout",
     "output_type": "stream",
     "text": [
      "Trabalha quantas horas por mês? 100\n"
     ]
    }
   ],
   "source": [
    "horas_mes = float(input(\"Trabalha quantas horas por mês? \"))"
   ]
  },
  {
   "cell_type": "code",
   "execution_count": 47,
   "metadata": {},
   "outputs": [],
   "source": [
    "salario_mes = salario_hora * horas_mes"
   ]
  },
  {
   "cell_type": "code",
   "execution_count": 49,
   "metadata": {},
   "outputs": [
    {
     "name": "stdout",
     "output_type": "stream",
     "text": [
      "O seu salário mensal é R$ 1000.0\n"
     ]
    }
   ],
   "source": [
    "print(f\"O seu salário mensal é R$ {salario_mes}\")"
   ]
  },
  {
   "cell_type": "markdown",
   "metadata": {},
   "source": [
    "## 9 - Faça um Programa que peça a temperatura em graus Farenheit, transforme e mostre a temperatura em graus Celsius. C = (5 * (F-32) / 9)."
   ]
  },
  {
   "cell_type": "markdown",
   "metadata": {},
   "source": [
    "## 10 - Faça um Programa que peça a temperatura em graus Celsius, transforme e mostre em graus Farenheit."
   ]
  },
  {
   "cell_type": "code",
   "execution_count": null,
   "metadata": {},
   "outputs": [],
   "source": []
  }
 ],
 "metadata": {
  "kernelspec": {
   "display_name": "Python 3",
   "language": "python",
   "name": "python3"
  },
  "language_info": {
   "codemirror_mode": {
    "name": "ipython",
    "version": 3
   },
   "file_extension": ".py",
   "mimetype": "text/x-python",
   "name": "python",
   "nbconvert_exporter": "python",
   "pygments_lexer": "ipython3",
   "version": "3.7.4"
  }
 },
 "nbformat": 4,
 "nbformat_minor": 2
}
