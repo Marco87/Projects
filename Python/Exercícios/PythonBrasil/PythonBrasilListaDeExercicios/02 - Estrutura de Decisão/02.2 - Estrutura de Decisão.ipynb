{
 "cells": [
  {
   "cell_type": "markdown",
   "metadata": {},
   "source": [
    "## 11 - As Organizações Tabajara resolveram dar um aumento de salário aos seus colaboradores e lhe contraram para desenvolver o programa que calculará os reajustes.\n",
    "\n",
    "## Faça um programa que recebe o salário de um colaborador e o reajuste segundo o seguinte critério, baseado no salário atual:"
   ]
  },
  {
   "cell_type": "code",
   "execution_count": 38,
   "metadata": {},
   "outputs": [
    {
     "name": "stdout",
     "output_type": "stream",
     "text": [
      "Informe o seu salário: 100.10\n"
     ]
    }
   ],
   "source": [
    "salario = float(input(\"Informe o seu salário: \"))"
   ]
  },
  {
   "cell_type": "markdown",
   "metadata": {},
   "source": [
    "### salários até RS 280,00 (incluindo) : aumento de 20%\n",
    "\n",
    "### salários entre RS 280,00 e RS 700,00 : aumento de 15%\n",
    "\n",
    "### salários entre RS 700,00 e RS 1500,00 : aumento de 10%\n",
    "\n",
    "### salários de RS 1500,00 em diante : aumento de 5% Após o aumento ser realizado, informe na tela:\n",
    "\n",
    "### o salário antes do reajuste;\n",
    "\n",
    "### o percentual de aumento aplicado;\n",
    "\n",
    "### o valor do aumento;\n",
    "\n",
    "### o novo salário, após o aumento."
   ]
  },
  {
   "cell_type": "code",
   "execution_count": 39,
   "metadata": {},
   "outputs": [
    {
     "name": "stdout",
     "output_type": "stream",
     "text": [
      "Salário antes do reajuste: R$ 100.1\n",
      "Salário após o reajuste: R$ 120.12\n",
      "Valor do aumento: R$ 20.02\n",
      "Percentual de aumento: 20.0 %\n"
     ]
    }
   ],
   "source": [
    "if salario <= 280:\n",
    "    salario_novo = round((salario * 1.20), 2)\n",
    "elif salario <= 700:\n",
    "    salario_novo = round((salario * 1.15), 2)\n",
    "elif salario <= 1500:\n",
    "    salario_novo = round((salario * 1.10), 2)\n",
    "else:\n",
    "    salario_novo = round((salario * 1.05), 2)\n",
    "    \n",
    "print(f\"Salário antes do reajuste: R$ {salario}\")\n",
    "print(f\"Salário após o reajuste: R$ {salario_novo}\")\n",
    "print(f\"Valor do aumento: R$ {round((salario_novo - salario), 2)}\")\n",
    "print(f\"Percentual de aumento: {round((((salario_novo - salario)/salario) * 100), 2)} %\")"
   ]
  },
  {
   "cell_type": "markdown",
   "metadata": {},
   "source": [
    "## 12 - Faça um programa para o cálculo de uma folha de pagamento, sabendo que os descontos são do Imposto de Renda, que depende do salário bruto (conforme tabela abaixo) e 3% para o Sindicato e que o FGTS corresponde a 11% do Salário Bruto, mas não é descontado (é a empresa que deposita). O Salário Líquido corresponde ao Salário Bruto menos os descontos. O programa deverá pedir ao usuário o valor da sua hora e a quantidade de horas trabalhadas no mês."
   ]
  },
  {
   "cell_type": "code",
   "execution_count": 1,
   "metadata": {},
   "outputs": [
    {
     "name": "stdout",
     "output_type": "stream",
     "text": [
      "Informe o valor da sua hora: 5\n",
      "Informe a quantidade de horas trabalhadas: 220\n",
      "Valor do salário bruto: R$ 1100.0\n"
     ]
    }
   ],
   "source": [
    "valor_hora = float(input(\"Informe o valor da sua hora: \"))\n",
    "horas_trabalhadas = float(input(\"Informe a quantidade de horas trabalhadas: \"))\n",
    "salario_bruto = valor_hora * horas_trabalhadas\n",
    "print(f\"Valor do salário bruto: R$ {salario_bruto}\")"
   ]
  },
  {
   "cell_type": "markdown",
   "metadata": {},
   "source": [
    "### Desconto do IR:\n",
    "\n",
    "### Salário Bruto até 900 (inclusive) - isento\n",
    "\n",
    "### Salário Bruto até 1500 (inclusive) - desconto de 5%\n",
    "\n",
    "### Salário Bruto até 2500 (inclusive) - desconto de 10%\n",
    "\n",
    "### Salário Bruto acima de 2500 - desconto de 20% Imprima na tela as informações, dispostas conforme o exemplo abaixo. No exemplo o valor da hora é 5 e a quantidade de hora é 220.\n",
    "\n",
    "###        Salário Bruto: (5 * 220)        : RS 1100,00\n",
    "###        (-) IR (5%)                     : RS   55,00  \n",
    "###        (-) INSS ( 10%)                 : RS  110,00\n",
    "###        FGTS (11%)                      : RS  121,00\n",
    "###        Total de descontos              : RS  165,00\n",
    "###        Salário Liquido                 : RS  935,00"
   ]
  },
  {
   "cell_type": "code",
   "execution_count": 10,
   "metadata": {},
   "outputs": [
    {
     "name": "stdout",
     "output_type": "stream",
     "text": [
      "Desconto de IR (5%): R$ 55.0\n",
      "Desconto de INSS (10%): R$ 110.0\n",
      "FGTS (11%): R$ 121.0\n",
      "Total de descontos: 165.0\n",
      "Salário líquido: R$ 935.0\n"
     ]
    }
   ],
   "source": [
    "if salario_bruto > 900 and salario_bruto <= 1500:\n",
    "    ir = 5\n",
    "elif salario_bruto <= 2500:\n",
    "    ir = 10\n",
    "else:\n",
    "    ir = 20\n",
    "    \n",
    "print(f\"Desconto de IR ({ir}%): R$ {((salario_bruto * ir)/100)}\")\n",
    "print(f\"Desconto de INSS (10%): R$ {salario_bruto * 0.1}\")\n",
    "print(f\"FGTS (11%): R$ {salario_bruto * 0.11}\")\n",
    "print(f\"Total de descontos: {((salario_bruto * ir)/100) + (salario_bruto * 0.1)}\")\n",
    "salario_liquido = salario_bruto - (((salario_bruto * ir)/100) + (salario_bruto * 0.1))\n",
    "print(f\"Salário líquido: R$ {salario_liquido}\")"
   ]
  },
  {
   "cell_type": "markdown",
   "metadata": {},
   "source": [
    "## 13 - Faça um Programa que leia um número e exiba o dia correspondente da semana. (1-Domingo, 2- Segunda, etc.), se digitar outro valor deve aparecer valor inválido."
   ]
  },
  {
   "cell_type": "code",
   "execution_count": 16,
   "metadata": {},
   "outputs": [
    {
     "name": "stdout",
     "output_type": "stream",
     "text": [
      "Digite um número de 1 a 7: a\n"
     ]
    },
    {
     "data": {
      "text/plain": [
       "'Valor inválido'"
      ]
     },
     "execution_count": 16,
     "metadata": {},
     "output_type": "execute_result"
    }
   ],
   "source": [
    "dia = input(\"Digite um número de 1 a 7: \")\n",
    "\n",
    "def dias_semana(d):\n",
    "    switcher = {\n",
    "        '1': 'Domingo',\n",
    "        '2': 'Segunda-feira',\n",
    "        '3': 'Terça-feira',\n",
    "        '4': 'Quarta-feira',\n",
    "        '5': 'Quinta-feira',\n",
    "        '6': 'Sexta-feira',\n",
    "        '7': 'Sábado'\n",
    "    }\n",
    "    return switcher.get(d, \"Valor inválido\")\n",
    "\n",
    "dias_semana(dia)"
   ]
  },
  {
   "cell_type": "markdown",
   "metadata": {},
   "source": [
    "## 14 - Faça um programa que lê as duas notas parciais obtidas por um aluno numa disciplina ao longo de um semestre, e calcule a sua média. A atribuição de conceitos obedece à tabela abaixo:\n",
    "\n",
    "###  Média de Aproveitamento  Conceito\n",
    "###  Entre 9.0 e 10.0        A\n",
    "###  Entre 7.5 e 9.0         B\n",
    "###  Entre 6.0 e 7.5         C\n",
    "###  Entre 4.0 e 6.0         D\n",
    "###  Entre 4.0 e zero        E\n",
    "\n",
    "### O algoritmo deve mostrar na tela as notas, a média, o conceito correspondente e a mensagem “APROVADO” se o conceito for A, B ou C ou “REPROVADO” se o conceito for D ou E."
   ]
  },
  {
   "cell_type": "code",
   "execution_count": 10,
   "metadata": {},
   "outputs": [
    {
     "name": "stdout",
     "output_type": "stream",
     "text": [
      "Digite a primeira nota: 6\n",
      "Digite a segunda nota: 7\n",
      "\n",
      "Média: 6.5\n",
      "Conceito: C\n",
      "Situação: REPROVADO\n"
     ]
    }
   ],
   "source": [
    "n1 = float(input(\"Digite a primeira nota: \"))\n",
    "n2 = float(input(\"Digite a segunda nota: \"))\n",
    "media = (n1 + n2)/2\n",
    "\n",
    "conceito = \"A\"\n",
    "\n",
    "if media <= 4:\n",
    "    conceito = \"E\"\n",
    "elif media <= 6:\n",
    "    conceito = \"D\"\n",
    "elif media <= 7.5:\n",
    "    conceito = \"C\"\n",
    "elif media <= 9:\n",
    "    conceito = \"B\"\n",
    "else:\n",
    "    conceito = \"A\"\n",
    "    \n",
    "def mensagem(c):\n",
    "    switcher = {\n",
    "        \"A\":\"APROVADO\",\n",
    "        \"B\":\"APROVADO\",\n",
    "        \"C\":\"REPROVADO\",\n",
    "        \"D\":\"REPROVADO\",\n",
    "        \"E\":\"REPROVADO\"\n",
    "    }\n",
    "    return switcher.get(c, \"VALOR INVÁLIDO!\")\n",
    "\n",
    "situacao = mensagem(conceito)\n",
    "\n",
    "print(f\"\\nMédia: {media}\\nConceito: {conceito}\\nSituação: {situacao}\")"
   ]
  },
  {
   "cell_type": "markdown",
   "metadata": {},
   "source": [
    "## 15 - Faça um Programa que peça os 3 lados de um triângulo. O programa deverá informar se os valores podem ser um triângulo. Indique, caso os lados formem um triângulo, se o mesmo é: equilátero, isósceles ou escaleno.\n",
    "\n",
    "### Dicas:\n",
    "\n",
    "### Três lados formam um triângulo quando a soma de quaisquer dois lados for maior que o terceiro;\n",
    "\n",
    "### Triângulo Equilátero: três lados iguais;\n",
    "\n",
    "### Triângulo Isósceles: quaisquer dois lados iguais;\n",
    "\n",
    "### Triângulo Escaleno: três lados diferentes;"
   ]
  },
  {
   "cell_type": "code",
   "execution_count": 44,
   "metadata": {},
   "outputs": [
    {
     "name": "stdout",
     "output_type": "stream",
     "text": [
      "Digite o primeiro lado do triângulo: s\n",
      "Digite apenas números!\n",
      "Não são permitidos valores nulos, negativos ou caracteres.\n",
      "\n"
     ]
    }
   ],
   "source": [
    "try:\n",
    "    a = float(input(\"Digite o primeiro lado do triângulo: \"))\n",
    "    b = float(input(\"Digite o segundo lado do triângulo: \"))\n",
    "    c = float(input(\"Digite o terceiro lado do triângulo: \"))\n",
    "except ValueError:\n",
    "    a,b,c=0,0,0\n",
    "    print(\"Digite apenas números!\")\n",
    "\n",
    "tipo=\"\"\n",
    "    \n",
    "if a<=0 or b<=0 or c<=0:\n",
    "    print(\"Não são permitidos valores nulos, negativos ou caracteres.\")\n",
    "elif a+b>c and a+c>b and b+c>a:\n",
    "    if a==b==c:\n",
    "        tipo=\"Equilátero\"\n",
    "    elif a==b or a==c or b==c:\n",
    "        tipo=\"Isósceles\"\n",
    "    else:\n",
    "        tipo=\"Escaleno\"\n",
    "else:\n",
    "    print(\"Não é um triângulo!\")\n",
    "\n",
    "print(tipo)"
   ]
  },
  {
   "cell_type": "markdown",
   "metadata": {},
   "source": [
    "## 16 - Faça um programa que calcule as raízes de uma equação do segundo grau, na forma ax2 + bx + c. O programa deverá pedir os valores de a, b e c e fazer as consistências, informando ao usuário nas seguintes situações:"
   ]
  },
  {
   "cell_type": "code",
   "execution_count": 30,
   "metadata": {},
   "outputs": [
    {
     "name": "stdout",
     "output_type": "stream",
     "text": [
      "Digite o valor de a: 1\n",
      "Digite o valor de b: -3\n",
      "Digite o valor de c: -10\n"
     ]
    }
   ],
   "source": [
    "#print(\"Delta > 0, a=1, b=-3, c=-10\\nDelta = 0, a=9, b=-12, c=4\")\n",
    "try:\n",
    "    a = float(input(\"Digite o valor de a: \"))\n",
    "    if a==0:\n",
    "        print(\"A equação não é do segundo grau, pois a é igual a 0.\")\n",
    "    else:\n",
    "        b = float(input(\"Digite o valor de b: \"))\n",
    "        c = float(input(\"Digite o valor de c: \"))\n",
    "except ValueError:\n",
    "    print(\"Digite apenas números!\")"
   ]
  },
  {
   "cell_type": "markdown",
   "metadata": {},
   "source": [
    "### a) Se o usuário informar o valor de A igual a zero, a equação não é do segundo grau e o programa não deve fazer pedir os demais valores, sendo encerrado;"
   ]
  },
  {
   "cell_type": "markdown",
   "metadata": {},
   "source": [
    "### b) Se o delta calculado for negativo, a equação não possui raizes reais. Informe ao usuário e encerre o programa;"
   ]
  },
  {
   "cell_type": "markdown",
   "metadata": {},
   "source": [
    "### c) Se o delta calculado for igual a zero a equação possui apenas uma raiz real; informe-a ao usuário;"
   ]
  },
  {
   "cell_type": "markdown",
   "metadata": {},
   "source": [
    "### d) Se o delta for positivo, a equação possui duas raiz reais; informe-as ao usuário;"
   ]
  },
  {
   "cell_type": "code",
   "execution_count": 31,
   "metadata": {},
   "outputs": [
    {
     "name": "stdout",
     "output_type": "stream",
     "text": [
      "O valor de delta é: 49.0\n",
      "x'  = 5.0\n",
      "x'' = -2.0\n"
     ]
    }
   ],
   "source": [
    "delta = (b**2) - (4*(a*c))\n",
    "print(f\"O valor de delta é: {delta}\")\n",
    "    \n",
    "if delta < 0:\n",
    "    print(\"A equação não possui raízes reais, pois o delta é negativo.\")\n",
    "elif delta == 0:\n",
    "    x = float(-b/(2*a))\n",
    "    print(f\"x = {x}\")\n",
    "else:\n",
    "    x1 = float((-b + (delta**(1/2)))/(2*a))\n",
    "    x2 = float((-b - (delta**(1/2)))/(2*a))\n",
    "    print(f\"x'  = {x1}\\nx'' = {x2}\")"
   ]
  },
  {
   "cell_type": "markdown",
   "metadata": {},
   "source": [
    "## 17 - Faça um Programa que peça um número correspondente a um determinado ano e em seguida informe se este ano é ou não bissexto."
   ]
  },
  {
   "cell_type": "code",
   "execution_count": 45,
   "metadata": {},
   "outputs": [
    {
     "name": "stdout",
     "output_type": "stream",
     "text": [
      "Digite um ano: 100\n",
      "100 não é bissexto.\n"
     ]
    }
   ],
   "source": [
    "try:\n",
    "    ano = int(input(\"Digite um ano: \"))\n",
    "except ValueError:\n",
    "    print(\"Digite apenas números!\")\n",
    "    \n",
    "if ano <= 0:\n",
    "    print(\"Não são aceitos números nulos ou negativos!\")\n",
    "elif (ano > 0) and ((ano % 4 == 0) and (ano % 100 != 0)) or (ano % 400 == 0):\n",
    "    print(f\"{ano} é bissexto.\")\n",
    "else:\n",
    "    print(f\"{ano} não é bissexto.\")"
   ]
  },
  {
   "cell_type": "markdown",
   "metadata": {},
   "source": [
    "## 18 - Faça um Programa que peça uma data no formato dd/mm/aaaa e determine se a mesma é uma data válida."
   ]
  },
  {
   "cell_type": "code",
   "execution_count": 19,
   "metadata": {},
   "outputs": [
    {
     "name": "stdout",
     "output_type": "stream",
     "text": [
      "Exemplo:\n",
      "31/12/2019\n",
      "___________________________\n",
      "\n",
      "Digite uma data (dd/mm/aaaa): 121\n"
     ]
    }
   ],
   "source": [
    "from datetime import date\n",
    "\n",
    "data = date.today()\n",
    "format_data = '{}/{}/{}'.format(data.day, data.month, data.year)\n",
    "\n",
    "print(f\"Exemplo:\\n{format_data}\")\n",
    "\n",
    "print(\"___________________________\\n\")\n",
    "\n",
    "try:\n",
    "    d = date(input(\"Digite uma data (dd/mm/aaaa): \"))\n",
    "except TypeError:\n",
    "    print(\"Digite a data no formato correto!\")\n"
   ]
  },
  {
   "cell_type": "markdown",
   "metadata": {},
   "source": [
    "## 19 - Faça um Programa que leia um número inteiro menor que 1000 e imprima a quantidade de centenas, dezenas e unidades do mesmo.\n",
    "\n",
    "### Observando os termos no plural a colocação do \"e\", da vírgula entre outros. Exemplo:\n",
    "\n",
    "### 326 = 3 centenas, 2 dezenas e 6 unidades\n",
    "\n",
    "### 12 = 1 dezena e 2 unidades Testar com: 326, 300, 100, 320, 310,305, 301, 101, 311, 111, 25, 20, 10, 21, 11, 1, 7 e 16"
   ]
  },
  {
   "cell_type": "markdown",
   "metadata": {},
   "source": [
    "## 20 - Faça um Programa para leitura de três notas parciais de um aluno. O programa deve calcular a média alcançada por aluno e presentar:"
   ]
  },
  {
   "cell_type": "markdown",
   "metadata": {},
   "source": [
    "### a) A mensagem \"Aprovado\", se a média for maior ou igual a 7, com a respectiva média alcançada;"
   ]
  },
  {
   "cell_type": "markdown",
   "metadata": {},
   "source": [
    "### b) A mensagem \"Reprovado\", se a média for menor do que 7, com a respectiva média alcançada;"
   ]
  },
  {
   "cell_type": "markdown",
   "metadata": {},
   "source": [
    "### c) A mensagem \"Aprovado com Distinção\", se a média for igual a 10."
   ]
  },
  {
   "cell_type": "code",
   "execution_count": null,
   "metadata": {},
   "outputs": [],
   "source": []
  }
 ],
 "metadata": {
  "kernelspec": {
   "display_name": "Python 3",
   "language": "python",
   "name": "python3"
  },
  "language_info": {
   "codemirror_mode": {
    "name": "ipython",
    "version": 3
   },
   "file_extension": ".py",
   "mimetype": "text/x-python",
   "name": "python",
   "nbconvert_exporter": "python",
   "pygments_lexer": "ipython3",
   "version": "3.7.4"
  }
 },
 "nbformat": 4,
 "nbformat_minor": 2
}
