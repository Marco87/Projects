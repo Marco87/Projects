{
 "cells": [
  {
   "cell_type": "markdown",
   "metadata": {},
   "source": [
    "## 21 - Faça um Programa para um caixa eletrônico. O programa deverá perguntar ao usuário a valor do saque e depois informar quantas notas de cada valor serão fornecidas. As notas disponíveis serão as de 1, 5, 10, 50 e 100 reais. O valor mínimo é de 10 reais e o máximo de 600 reais. O programa não deve se preocupar com a quantidade de notas existentes na máquina."
   ]
  },
  {
   "cell_type": "markdown",
   "metadata": {},
   "source": [
    "### a) Exemplo 1: Para sacar a quantia de 256 reais, o programa fornece duas notas de 100, uma nota de 50, uma nota de 5 e uma nota de 1;\n",
    "\n",
    "### b) Exemplo 2: Para sacar a quantia de 399 reais, o programa fornece três notas de 100, uma nota de 50, quatro notas de 10, uma nota de 5 e quatro notas de 1."
   ]
  },
  {
   "cell_type": "code",
   "execution_count": 33,
   "metadata": {},
   "outputs": [
    {
     "name": "stdout",
     "output_type": "stream",
     "text": [
      "Digite o valor a ser sacado: 399\n",
      "Notas de R$ 100: 3\n",
      "Notas de R$ 50: 1\n",
      "Notas de R$ 10: 4\n",
      "Notas de R$ 5: 1\n",
      "Notas de R$ 1: 4\n"
     ]
    }
   ],
   "source": [
    "try:\n",
    "    saque = int(input(\"Digite o valor a ser sacado: \"))\n",
    "    \n",
    "    if saque>=10 and saque<=600:\n",
    "    \n",
    "        notas100 = int(saque/100)\n",
    "        notas50 = int((saque%100)/50)\n",
    "        notas10 = int((saque%100)/10)\n",
    "        if notas10>=5:notas10=notas10-5\n",
    "        notas5 = int(((saque%100)%10)/5)\n",
    "        if notas5>2:notas5=0\n",
    "        notas1 = int(((saque%100)%10)%5)\n",
    "\n",
    "        print(f\"Notas de R$ 100: {notas100}\\nNotas de R$ 50: {notas50}\\nNotas de R$ 10: {notas10}\\nNotas de R$ 5: {notas5}\\nNotas de R$ 1: {notas1}\")\n",
    "    else:\n",
    "        print(\"Os limites para saque são:\\nR$10 no mínino e R$ 600 no máximo\")\n",
    "    \n",
    "except TypeError:\n",
    "    print(\"Digite apenas números inteiros!\")\n",
    "except ValueError:\n",
    "    print(\"Digite apenas números inteiros!\")"
   ]
  },
  {
   "cell_type": "markdown",
   "metadata": {},
   "source": [
    "## 22 - Faça um Programa que peça um número inteiro e determine se ele é par ou impar. Dica: utilize o operador módulo (resto da divisão)."
   ]
  },
  {
   "cell_type": "code",
   "execution_count": 40,
   "metadata": {},
   "outputs": [
    {
     "name": "stdout",
     "output_type": "stream",
     "text": [
      "Digite um número: 1\n",
      "1 é ímpar\n"
     ]
    }
   ],
   "source": [
    "try:\n",
    "    n = int(input(\"Digite um número: \"))\n",
    "    print(f\"{n} é par\") if n%2==0 else print(f\"{n} é ímpar\")\n",
    "        \n",
    "except TypeError:\n",
    "    print(\"Digite apenas números inteiros!\")\n",
    "except ValueError:\n",
    "    print(\"Digite apenas números inteiros!\")"
   ]
  },
  {
   "cell_type": "markdown",
   "metadata": {},
   "source": [
    "## 23 - Faça um Programa que peça um número e informe se o número é inteiro ou decimal. Dica: utilize uma função de arredondamento."
   ]
  },
  {
   "cell_type": "code",
   "execution_count": 46,
   "metadata": {},
   "outputs": [
    {
     "name": "stdout",
     "output_type": "stream",
     "text": [
      "Digite um número: s\n",
      "Digite apenas números!\n"
     ]
    }
   ],
   "source": [
    "# A terminar\n",
    "\n",
    "try:\n",
    "    n = float(input(\"Digite um número: \"))\n",
    "    \n",
    "    print(f\"{n} é um número inteiro!\") if n==round(n) else print(f\"{n} é um número decimal!\")\n",
    "    \n",
    "except TypeError:\n",
    "    print(\"Digite apenas números!\")\n",
    "except ValueError:\n",
    "    print(\"Digite apenas números!\")"
   ]
  },
  {
   "cell_type": "markdown",
   "metadata": {},
   "source": [
    "## 24 - Faça um Programa que leia 2 números e em seguida pergunte ao usuário qual operação ele deseja realizar. O resultado da operação deve ser acompanhado de uma frase que diga se o número é:\n",
    "\n",
    "## par ou ímpar;\n",
    "## positivo ou negativo;\n",
    "## inteiro ou decimal."
   ]
  },
  {
   "cell_type": "code",
   "execution_count": null,
   "metadata": {},
   "outputs": [],
   "source": [
    "#A terminar\n",
    "\n",
    "try:\n",
    "    n1 = int(input(\"Digite o primeiro número: \"))\n",
    "    n2 = int(input(\"Digite o segundo número: \"))\n",
    "except ValueError:\n",
    "    print(\"Digite apenas números!\")\n",
    "except TypeError:\n",
    "    print(\"Digite apenas números!\")"
   ]
  },
  {
   "cell_type": "markdown",
   "metadata": {},
   "source": [
    "## 25 - Faça um programa que faça 5 perguntas para uma pessoa sobre um crime. As perguntas são:"
   ]
  },
  {
   "cell_type": "markdown",
   "metadata": {},
   "source": [
    "### a) \"Telefonou para a vítima?\"\n",
    "### b) \"Esteve no local do crime?\"\n",
    "### c) \"Mora perto da vítima?\"\n",
    "### d) \"Devia para a vítima?\"\n",
    "### e) \"Já trabalhou com a vítima?\""
   ]
  },
  {
   "cell_type": "markdown",
   "metadata": {},
   "source": [
    "### O programa deve no final emitir uma classificação sobre a participação da pessoa no crime. Se a pessoa responder positivamente a 2 questões ela deve ser classificada como \"Suspeita\", entre 3 e 4 como \"Cúmplice\" e 5 como \"Assassino\". Caso contrário, ele será classificado como \"Inocente\"."
   ]
  },
  {
   "cell_type": "code",
   "execution_count": 67,
   "metadata": {},
   "outputs": [],
   "source": [
    "#A terminar\n",
    "\n",
    "from IPython.display import clear_output\n",
    "\n",
    "try:\n",
    "\n",
    "    def respostas(r):\n",
    "        if r>0 and r<3:\n",
    "            print(f\"{r} - Suspeita\")\n",
    "        elif r>2 and r<5:\n",
    "            print(f\"{r} - Cúmplice\")\n",
    "        elif r==5:\n",
    "            print(f\"{r} - Assassino\")\n",
    "        else:\n",
    "            print(f\"{r} - Inocente\")\n",
    "        pass\n",
    "    \n",
    "    def crime(n=0):\n",
    "        print(\"Digite 0 para negativo e 1 para positivo\")\n",
    "        print(\"a) Telefonou para a vítima? \")\n",
    "        n = n + pergunta()\n",
    "        print(\"b) Esteve no local do crime? \")\n",
    "        n = n + pergunta()\n",
    "        print(\"c) Mora perto da vítima? \")\n",
    "        n = n + pergunta()\n",
    "        print(\"d) Devia para a vítima? \")\n",
    "        n = n + pergunta()\n",
    "        print(\"e) Já trabalhou com a vítima? \")\n",
    "        n = n + pergunta()\n",
    "        \n",
    "        respostas(n)\n",
    "        \n",
    "    def pergunta(resposta=0):\n",
    "        resposta = int(input(\"0 - Não\\n1 - Sim\\nResposta: \"))\n",
    "        clear_output()\n",
    "        if resposta==0 or resposta ==1:\n",
    "            return int(resposta) \n",
    "        else:\n",
    "            print(\"Digite apenas 0 ou 1\")\n",
    "            pergunta()\n",
    "    \n",
    "    crime()\n",
    "    \n",
    "#except TypeError:\n",
    "#    print(\"Digite apenas 0 ou 1\")\n",
    "#    crime()\n",
    "except ValueError:\n",
    "    print(\"Digite apenas 0 ou 1\")\n",
    "    crime()"
   ]
  },
  {
   "cell_type": "code",
   "execution_count": null,
   "metadata": {},
   "outputs": [],
   "source": [
    "try:\n",
    "    print(\"Digite 0 para negativo e 1 para positivo\")\n",
    "    print(\"a) Telefonou para a vítima? \")\n",
    "    print(\"b) Esteve no local do crime? \")\n",
    "    print(\"c) Mora perto da vítima? \")\n",
    "    print(\"d) Devia para a vítima? \")\n",
    "    print(\"e) Já trabalhou com a vítima? \")\n",
    "except TypeError:\n",
    "    \n",
    "except ValueError:"
   ]
  },
  {
   "cell_type": "markdown",
   "metadata": {},
   "source": [
    "# 26 - Um posto está vendendo combustíveis com a seguinte tabela de descontos:"
   ]
  },
  {
   "cell_type": "markdown",
   "metadata": {},
   "source": [
    "### a) Álcool:\n",
    "### b) até 20 litros, desconto de 3% por litro\n",
    "### c) acima de 20 litros, desconto de 5% por litro\n",
    "### d) Gasolina:\n",
    "### e) até 20 litros, desconto de 4% por litro\n",
    "### f) acima de 20 litros, desconto de 6% por litro \n",
    "\n",
    "### Escreva um algoritmo que leia o número de litros vendidos, o tipo de combustível (codificado da seguinte forma: A-álcool, G-gasolina), calcule e imprima o valor a ser pago pelo cliente sabendo-se que o preço do litro da gasolina é RS 2,50 o preço do litro do álcool é RS 1,90."
   ]
  },
  {
   "cell_type": "markdown",
   "metadata": {},
   "source": [
    "## 27 - Uma fruteira está vendendo frutas com a seguinte tabela de preços:\n",
    "\n",
    "###                              Até 5 Kg                 Acima de 5 Kg\n",
    "### Morango         RS 2,50 por Kg          RS 2,20 por Kg\n",
    "### Maçã               RS 1,80 por Kg          RS 1,50 por Kg\n",
    "\n",
    "### Se o cliente comprar mais de 8 Kg em frutas ou o valor total da compra ultrapassar RS 25,00, receberá ainda um desconto de 10% sobre este total. Escreva um algoritmo para ler a quantidade (em Kg) de morangos e a quantidade (em Kg) de maças adquiridas e escreva o valor a ser pago pelo cliente."
   ]
  },
  {
   "cell_type": "markdown",
   "metadata": {},
   "source": [
    "27 - Uma fruteira está vendendo frutas com a seguinte tabela de preços:\n",
    "\n",
    "                      Até 5 Kg           Acima de 5 Kg\n",
    "Morango         R$ 2,50 por Kg          R$ 2,20 por Kg\n",
    "Maçã            R$ 1,80 por Kg          R$ 1,50 por Kg\n",
    "Se o cliente comprar mais de 8 Kg em frutas ou o valor total da compra ultrapassar R$ 25,00, receberá ainda um desconto de 10% sobre este total. Escreva um algoritmo para ler a quantidade (em Kg) de morangos e a quantidade (em Kg) de maças adquiridas e escreva o valor a ser pago pelo cliente."
   ]
  },
  {
   "cell_type": "markdown",
   "metadata": {},
   "source": [
    "## 28 - O Hipermercado Tabajara está com uma promoção de carnes que é imperdível. Confira:\n",
    "\n",
    "###                      Até 5 Kg           Acima de 5 Kg\n",
    "### File Duplo      RS 4,90 por Kg          RS 5,80 por Kg\n",
    "### Alcatra         RS 5,90 por Kg          RS 6,80 por Kg\n",
    "### Picanha         RS 6,90 por Kg          RS 7,80 por Kg\n",
    "\n",
    "### Para atender a todos os clientes, cada cliente poderá levar apenas um dos tipos de carne da promoção, porém não há limites para a quantidade de carne por cliente. Se compra for feita no cartão Tabajara o cliente receberá ainda um desconto de 5% sobre o total da compra. Escreva um programa que peça o tipo e a quantidade de carne comprada pelo usuário e gere um cupom fiscal, contendo as informações da compra: tipo e quantidade de carne, preço total, tipo de pagamento, valor do desconto e valor a pagar."
   ]
  },
  {
   "cell_type": "markdown",
   "metadata": {},
   "source": [
    "28 - O Hipermercado Tabajara está com uma promoção de carnes que é imperdível. Confira:\n",
    "\n",
    "                      Até 5 Kg           Acima de 5 Kg\n",
    "File Duplo      R$ 4,90 por Kg          R$ 5,80 por Kg\n",
    "Alcatra         R$ 5,90 por Kg          R$ 6,80 por Kg\n",
    "Picanha         R$ 6,90 por Kg          R$ 7,80 por Kg\n",
    "\n",
    "Para atender a todos os clientes, cada cliente poderá levar apenas um dos tipos de carne da promoção, porém não há limites para a quantidade de carne por cliente. Se compra for feita no cartão Tabajara o cliente receberá ainda um desconto de 5% sobre o total da compra. Escreva um programa que peça o tipo e a quantidade de carne comprada pelo usuário e gere um cupom fiscal, contendo as informações da compra: tipo e quantidade de carne, preço total, tipo de pagamento, valor do desconto e valor a pagar."
   ]
  },
  {
   "cell_type": "code",
   "execution_count": null,
   "metadata": {},
   "outputs": [],
   "source": []
  }
 ],
 "metadata": {
  "kernelspec": {
   "display_name": "Python 3",
   "language": "python",
   "name": "python3"
  },
  "language_info": {
   "codemirror_mode": {
    "name": "ipython",
    "version": 3
   },
   "file_extension": ".py",
   "mimetype": "text/x-python",
   "name": "python",
   "nbconvert_exporter": "python",
   "pygments_lexer": "ipython3",
   "version": "3.7.4"
  }
 },
 "nbformat": 4,
 "nbformat_minor": 2
}
