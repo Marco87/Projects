{
 "cells": [
  {
   "cell_type": "markdown",
   "metadata": {},
   "source": [
    "## 1 - Faça um Programa que peça dois números e imprima o maior deles."
   ]
  },
  {
   "cell_type": "code",
   "execution_count": 5,
   "metadata": {},
   "outputs": [
    {
     "name": "stdout",
     "output_type": "stream",
     "text": [
      "Digite um número: 1\n",
      "Digite outro número: 1\n"
     ]
    }
   ],
   "source": [
    "x = float(input(\"Digite um número: \"))\n",
    "y = float(input(\"Digite outro número: \"))"
   ]
  },
  {
   "cell_type": "code",
   "execution_count": 6,
   "metadata": {},
   "outputs": [
    {
     "name": "stdout",
     "output_type": "stream",
     "text": [
      "Os dois números digitados são iguais\n"
     ]
    }
   ],
   "source": [
    "if x>y:\n",
    "    print(f\"O maior número digitado foi {x}\")\n",
    "elif y>x:\n",
    "    print(f\"O maior número digitado foi {y}\")\n",
    "else:\n",
    "    print(\"Os dois números digitados são iguais\")"
   ]
  },
  {
   "cell_type": "markdown",
   "metadata": {},
   "source": [
    "## 2 - Faça um Programa que peça um valor e mostre na tela se o valor é positivo ou negativo."
   ]
  },
  {
   "cell_type": "code",
   "execution_count": 11,
   "metadata": {},
   "outputs": [
    {
     "name": "stdout",
     "output_type": "stream",
     "text": [
      "Digite um número: 0\n"
     ]
    }
   ],
   "source": [
    "x = float(input(\"Digite um número: \"))"
   ]
  },
  {
   "cell_type": "code",
   "execution_count": 12,
   "metadata": {},
   "outputs": [
    {
     "name": "stdout",
     "output_type": "stream",
     "text": [
      "O número digitado é nulo\n"
     ]
    }
   ],
   "source": [
    "if x>0:\n",
    "    print(\"O número digitado é positivo\")\n",
    "elif x<0:\n",
    "    print(\"O número digitado é negativo\")\n",
    "else:\n",
    "    print(\"O número digitado é nulo\")"
   ]
  },
  {
   "cell_type": "markdown",
   "metadata": {},
   "source": [
    "## 3 - Faça um Programa que verifique se uma letra digitada é \"F\" ou \"M\". Conforme a letra escrever: F - Feminino, M - Masculino, Sexo Inválido."
   ]
  },
  {
   "cell_type": "code",
   "execution_count": 25,
   "metadata": {},
   "outputs": [
    {
     "name": "stdout",
     "output_type": "stream",
     "text": [
      "Escolha uma opção (F ou M): F\n"
     ]
    }
   ],
   "source": [
    "opcao = input(\"Escolha uma opção (F ou M): \")"
   ]
  },
  {
   "cell_type": "code",
   "execution_count": 26,
   "metadata": {},
   "outputs": [
    {
     "name": "stdout",
     "output_type": "stream",
     "text": [
      "Feminino\n"
     ]
    }
   ],
   "source": [
    "if opcao.lower()==\"f\":\n",
    "    print(\"Feminino\")\n",
    "elif opcao.lower()==\"m\":\n",
    "    print(\"Masculino\")\n",
    "else:\n",
    "    print(\"Sexo inválido\")"
   ]
  },
  {
   "cell_type": "markdown",
   "metadata": {},
   "source": [
    "## 4 - Faça um Programa que verifique se uma letra digitada é vogal ou consoante."
   ]
  },
  {
   "cell_type": "code",
   "execution_count": 71,
   "metadata": {},
   "outputs": [
    {
     "name": "stdout",
     "output_type": "stream",
     "text": [
      "Digite uma letra: A\n"
     ]
    }
   ],
   "source": [
    "letra = input(\"Digite uma letra: \")"
   ]
  },
  {
   "cell_type": "code",
   "execution_count": 72,
   "metadata": {},
   "outputs": [
    {
     "name": "stdout",
     "output_type": "stream",
     "text": [
      "O valor digitado é uma vogal\n"
     ]
    }
   ],
   "source": [
    "if len(letra) > 1:\n",
    "    print(\"Apenas uma letra deve ser digitada\")\n",
    "elif len(letra) == 1:\n",
    "    vogal = \"aeiou\"\n",
    "    consonant = \"bcçdfghjklmnpqrstvwxyz\"\n",
    "    \n",
    "    if letra.lower() in vogal:\n",
    "        print(\"O valor digitado é uma vogal\")\n",
    "    elif letra.lower() in consonant:\n",
    "        print(\"O valor digitado é uma consoante\")\n",
    "    else:\n",
    "        print(\"O valor digitado não é uma letra (vogal e consoante)\")\n",
    "else:\n",
    "    print(\"Digite uma letra\")\n"
   ]
  },
  {
   "cell_type": "markdown",
   "metadata": {},
   "source": [
    "## 5 - Faça um programa para a leitura de duas notas parciais de um aluno. O programa deve calcular a média alcançada por aluno e apresentar:\n",
    "\n",
    "### A mensagem \"Aprovado\", se a média alcançada for maior ou igual a sete;\n",
    "\n",
    "### A mensagem \"Reprovado\", se a média for menor do que sete;\n",
    "\n",
    "### A mensagem \"Aprovado com Distinção\", se a média for igual a dez."
   ]
  },
  {
   "cell_type": "code",
   "execution_count": 78,
   "metadata": {},
   "outputs": [
    {
     "name": "stdout",
     "output_type": "stream",
     "text": [
      "Digite a primeira nota: 10\n",
      "Digite a segunda nota: 10\n",
      "A média é: 10.0\n"
     ]
    }
   ],
   "source": [
    "n1 = float(input(\"Digite a primeira nota: \"))\n",
    "n2 = float(input(\"Digite a segunda nota: \"))\n",
    "media = (n1 + n2)/2\n",
    "print(f\"A média é: {media}\")"
   ]
  },
  {
   "cell_type": "code",
   "execution_count": 79,
   "metadata": {},
   "outputs": [
    {
     "name": "stdout",
     "output_type": "stream",
     "text": [
      "Aprovado com distinção\n"
     ]
    }
   ],
   "source": [
    "if media < 7:\n",
    "    print(\"Reprovado\")\n",
    "elif media >=7 and media < 10:\n",
    "    print(\"Aprovado\")\n",
    "elif media == 10:\n",
    "    print(\"Aprovado com distinção\")"
   ]
  },
  {
   "cell_type": "markdown",
   "metadata": {},
   "source": [
    "## 6 - Faça um Programa que leia três números e mostre o maior deles."
   ]
  },
  {
   "cell_type": "code",
   "execution_count": 84,
   "metadata": {},
   "outputs": [
    {
     "name": "stdout",
     "output_type": "stream",
     "text": [
      "Informe o primeiro número: 1\n",
      "Informe o segundo número: 3\n",
      "Informe o terceiro número: 2\n"
     ]
    }
   ],
   "source": [
    "x = float(input(\"Informe o primeiro número: \"))\n",
    "y = float(input(\"Informe o segundo número: \"))\n",
    "z = float(input(\"Informe o terceiro número: \"))"
   ]
  },
  {
   "cell_type": "code",
   "execution_count": 85,
   "metadata": {},
   "outputs": [
    {
     "name": "stdout",
     "output_type": "stream",
     "text": [
      "O maior número digitado foi 3.0\n"
     ]
    }
   ],
   "source": [
    "maior = x\n",
    "\n",
    "if y > maior:\n",
    "    maior = y\n",
    "if z > maior:\n",
    "    maior = z\n",
    "    \n",
    "print(f\"O maior número digitado foi {maior}\")"
   ]
  },
  {
   "cell_type": "markdown",
   "metadata": {},
   "source": [
    "## 7 - Faça um Programa que leia três números e mostre o maior e o menor deles."
   ]
  },
  {
   "cell_type": "code",
   "execution_count": 95,
   "metadata": {},
   "outputs": [
    {
     "name": "stdout",
     "output_type": "stream",
     "text": [
      "Informe o primeiro número: 3\n",
      "Informe o segundo número: 1\n",
      "Informe o terceiro número: 2\n"
     ]
    }
   ],
   "source": [
    "x = float(input(\"Informe o primeiro número: \"))\n",
    "y = float(input(\"Informe o segundo número: \"))\n",
    "z = float(input(\"Informe o terceiro número: \"))"
   ]
  },
  {
   "cell_type": "code",
   "execution_count": 96,
   "metadata": {},
   "outputs": [
    {
     "name": "stdout",
     "output_type": "stream",
     "text": [
      "O maior número digitado foi 3.0\n"
     ]
    }
   ],
   "source": [
    "maior = x\n",
    "\n",
    "if y > maior:\n",
    "    maior = y\n",
    "if z > maior:\n",
    "    maior = z\n",
    "    \n",
    "print(f\"O maior número digitado foi {maior}\")"
   ]
  },
  {
   "cell_type": "code",
   "execution_count": 98,
   "metadata": {},
   "outputs": [
    {
     "name": "stdout",
     "output_type": "stream",
     "text": [
      "O menor número digitado foi 1.0\n"
     ]
    }
   ],
   "source": [
    "menor = x\n",
    "\n",
    "if y < menor:\n",
    "    menor = y\n",
    "if z < menor:\n",
    "    menor = z\n",
    "    \n",
    "print(f\"O menor número digitado foi {menor}\")"
   ]
  },
  {
   "cell_type": "markdown",
   "metadata": {},
   "source": [
    "## 8 - Faça um programa que pergunte o preço de três produtos e informe qual produto você deve comprar, sabendo que a decisão é sempre pelo mais barato."
   ]
  },
  {
   "cell_type": "markdown",
   "metadata": {},
   "source": [
    "## 9 - Faça um Programa que leia três números e mostre-os em ordem decrescente."
   ]
  },
  {
   "cell_type": "markdown",
   "metadata": {},
   "source": [
    "## 10 - Faça um Programa que pergunte em que turno você estuda. Peça para digitar M-matutino ou V-Vespertino ou N- Noturno. Imprima a mensagem \"Bom Dia!\", \"Boa Tarde!\" ou \"Boa Noite!\" ou \"Valor Inválido!\", conforme o caso."
   ]
  }
 ],
 "metadata": {
  "kernelspec": {
   "display_name": "Python 3",
   "language": "python",
   "name": "python3"
  },
  "language_info": {
   "codemirror_mode": {
    "name": "ipython",
    "version": 3
   },
   "file_extension": ".py",
   "mimetype": "text/x-python",
   "name": "python",
   "nbconvert_exporter": "python",
   "pygments_lexer": "ipython3",
   "version": "3.7.4"
  }
 },
 "nbformat": 4,
 "nbformat_minor": 2
}
