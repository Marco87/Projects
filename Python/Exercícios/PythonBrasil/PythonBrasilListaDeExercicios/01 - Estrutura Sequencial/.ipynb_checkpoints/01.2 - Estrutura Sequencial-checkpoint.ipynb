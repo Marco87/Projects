{
 "cells": [
  {
   "cell_type": "markdown",
   "metadata": {},
   "source": [
    "## 11 - Faça um Programa que peça 2 números inteiros e um número real. Calcule e mostre:"
   ]
  },
  {
   "cell_type": "code",
   "execution_count": 6,
   "metadata": {},
   "outputs": [
    {
     "name": "stdout",
     "output_type": "stream",
     "text": [
      "Digite o primeiro número:5\n"
     ]
    }
   ],
   "source": [
    "a = int(input(\"Digite o primeiro número:\"))"
   ]
  },
  {
   "cell_type": "code",
   "execution_count": 2,
   "metadata": {},
   "outputs": [
    {
     "name": "stdout",
     "output_type": "stream",
     "text": [
      "Digite o segundo número:6\n"
     ]
    }
   ],
   "source": [
    "b = int(input(\"Digite o segundo número:\"))"
   ]
  },
  {
   "cell_type": "code",
   "execution_count": 4,
   "metadata": {},
   "outputs": [
    {
     "name": "stdout",
     "output_type": "stream",
     "text": [
      "Digite o terceiro número:5.4\n"
     ]
    }
   ],
   "source": [
    "c = float(input(\"Digite o terceiro número:\"))"
   ]
  },
  {
   "cell_type": "markdown",
   "metadata": {},
   "source": [
    "### a)  o produto do dobro do primeiro com metade do segundo."
   ]
  },
  {
   "cell_type": "code",
   "execution_count": 7,
   "metadata": {},
   "outputs": [],
   "source": [
    "x = float((2*a) * (b/2))"
   ]
  },
  {
   "cell_type": "code",
   "execution_count": 8,
   "metadata": {},
   "outputs": [
    {
     "name": "stdout",
     "output_type": "stream",
     "text": [
      "30.0\n"
     ]
    }
   ],
   "source": [
    "print(x)"
   ]
  },
  {
   "cell_type": "markdown",
   "metadata": {},
   "source": [
    "### b) a soma do triplo do primeiro com o terceiro."
   ]
  },
  {
   "cell_type": "code",
   "execution_count": 9,
   "metadata": {},
   "outputs": [],
   "source": [
    "y = float((3 * a) + (c))"
   ]
  },
  {
   "cell_type": "code",
   "execution_count": 10,
   "metadata": {},
   "outputs": [
    {
     "name": "stdout",
     "output_type": "stream",
     "text": [
      "20.4\n"
     ]
    }
   ],
   "source": [
    "print(y)"
   ]
  },
  {
   "cell_type": "markdown",
   "metadata": {},
   "source": [
    "### c) o terceiro elevado ao cubo."
   ]
  },
  {
   "cell_type": "code",
   "execution_count": 15,
   "metadata": {},
   "outputs": [],
   "source": [
    "z = float(c ** 3)"
   ]
  },
  {
   "cell_type": "code",
   "execution_count": 16,
   "metadata": {},
   "outputs": [
    {
     "name": "stdout",
     "output_type": "stream",
     "text": [
      "157.46400000000003\n"
     ]
    }
   ],
   "source": [
    "print(z)"
   ]
  },
  {
   "cell_type": "markdown",
   "metadata": {},
   "source": [
    "## 12 - Tendo como dados de entrada a altura de uma pessoa, construa um algoritmo que calcule seu peso ideal, usando a seguinte fórmula: (72.7*altura) - 58"
   ]
  },
  {
   "cell_type": "code",
   "execution_count": 17,
   "metadata": {},
   "outputs": [
    {
     "name": "stdout",
     "output_type": "stream",
     "text": [
      "Digite a altura:2\n"
     ]
    }
   ],
   "source": [
    "altura = float(input(\"Digite a altura:\"))"
   ]
  },
  {
   "cell_type": "code",
   "execution_count": 18,
   "metadata": {},
   "outputs": [],
   "source": [
    "peso_ideal = float((72.7 * altura) - 58)"
   ]
  },
  {
   "cell_type": "code",
   "execution_count": 19,
   "metadata": {},
   "outputs": [
    {
     "name": "stdout",
     "output_type": "stream",
     "text": [
      "O peso ideal de uma pessoa com 2.0 m de altura é: 87.4\n"
     ]
    }
   ],
   "source": [
    "print(f\"O peso ideal de uma pessoa com {altura} m de altura é: {peso_ideal}\")"
   ]
  },
  {
   "cell_type": "markdown",
   "metadata": {},
   "source": [
    "## 13 - Tendo como dado de entrada a altura (h) de uma pessoa, construa um algoritmo que calcule seu peso ideal, utilizando as seguintes fórmulas:"
   ]
  },
  {
   "cell_type": "code",
   "execution_count": 22,
   "metadata": {},
   "outputs": [
    {
     "name": "stdout",
     "output_type": "stream",
     "text": [
      "Digite a altura: 1.9\n"
     ]
    }
   ],
   "source": [
    "h = float(input(\"Digite a altura: \"))"
   ]
  },
  {
   "cell_type": "code",
   "execution_count": 23,
   "metadata": {},
   "outputs": [
    {
     "name": "stdout",
     "output_type": "stream",
     "text": [
      "1.9\n"
     ]
    }
   ],
   "source": [
    "print(h)"
   ]
  },
  {
   "cell_type": "markdown",
   "metadata": {},
   "source": [
    "### a) Para homens: (72.7*h) - 58"
   ]
  },
  {
   "cell_type": "code",
   "execution_count": 24,
   "metadata": {},
   "outputs": [],
   "source": [
    "peso_ideal_homens = float((72.7 * h) - 58)"
   ]
  },
  {
   "cell_type": "code",
   "execution_count": 25,
   "metadata": {},
   "outputs": [
    {
     "name": "stdout",
     "output_type": "stream",
     "text": [
      "O peso ideal de um homem com 1.9 m de altura é: 80.13\n"
     ]
    }
   ],
   "source": [
    "print(f\"O peso ideal de um homem com {h} m de altura é: {peso_ideal_homens}\")"
   ]
  },
  {
   "cell_type": "markdown",
   "metadata": {},
   "source": [
    "### b) Para mulheres: (62.1*h) - 44.7"
   ]
  },
  {
   "cell_type": "code",
   "execution_count": 26,
   "metadata": {},
   "outputs": [],
   "source": [
    "peso_ideal_mulheres = float((62.1 * h) - 44.7)"
   ]
  },
  {
   "cell_type": "code",
   "execution_count": 27,
   "metadata": {},
   "outputs": [
    {
     "name": "stdout",
     "output_type": "stream",
     "text": [
      "O peso ideal de uma mulher com 1.9 m de altura é: 73.28999999999999\n"
     ]
    }
   ],
   "source": [
    "print(f\"O peso ideal de uma mulher com {h} m de altura é: {peso_ideal_mulheres}\")"
   ]
  },
  {
   "cell_type": "markdown",
   "metadata": {},
   "source": [
    "## 14 - João Papo-de-Pescador, homem de bem, comprou um microcomputador para controlar o rendimento diário de seu trabalho. Toda vez que ele traz um peso de peixes maior que o estabelecido pelo regulamento de pesca do estado de São Paulo (50 quilos) deve pagar uma multa de R$ 4,00 por quilo excedente. João precisa que você faça um programa que leia a variável peso (peso de peixes) e calcule o excesso. Gravar na variável excesso a quantidade de quilos além do limite e na variável multa o valor da multa que João deverá pagar. Imprima os dados do programa com as mensagens adequadas."
   ]
  },
  {
   "cell_type": "code",
   "execution_count": 33,
   "metadata": {},
   "outputs": [
    {
     "name": "stdout",
     "output_type": "stream",
     "text": [
      "Digite o peso dos peixes: 40\n",
      "Excesso de peso: 0 kg\n",
      "Valor da multa: R$ 0.0\n"
     ]
    }
   ],
   "source": [
    "peso_peixe = int(input(\"Digite o peso dos peixes: \"))\n",
    "\n",
    "excesso = 0\n",
    "\n",
    "if peso_peixe > 50:\n",
    "    excesso = peso_peixe - 50\n",
    "\n",
    "multa = float(excesso * 4)\n",
    "    \n",
    "print(f\"Excesso de peso: {excesso} kg\")\n",
    "print(f\"Valor da multa: R$ {multa}\")"
   ]
  },
  {
   "cell_type": "markdown",
   "metadata": {},
   "source": [
    "## 15 - Faça um Programa que pergunte quanto você ganha por hora e o número de horas trabalhadas no mês. Calcule e mostre o total do seu salário no referido mês, sabendo-se que são descontados 11% para o Imposto de Renda, 8% para o INSS e 5% para o sindicato, faça um programa que nos dê:"
   ]
  },
  {
   "cell_type": "code",
   "execution_count": 5,
   "metadata": {},
   "outputs": [
    {
     "name": "stdout",
     "output_type": "stream",
     "text": [
      "Quanto você ganha por hora? 10\n"
     ]
    }
   ],
   "source": [
    "salario_hora = float(input(\"Quanto você ganha por hora? \"))"
   ]
  },
  {
   "cell_type": "code",
   "execution_count": 6,
   "metadata": {},
   "outputs": [
    {
     "name": "stdout",
     "output_type": "stream",
     "text": [
      "Quantidade de horas trabalhadas no mês? 200\n"
     ]
    }
   ],
   "source": [
    "horas_mes = int(input(\"Quantidade de horas trabalhadas no mês? \"))"
   ]
  },
  {
   "cell_type": "markdown",
   "metadata": {},
   "source": [
    "### a) salário bruto."
   ]
  },
  {
   "cell_type": "code",
   "execution_count": 10,
   "metadata": {},
   "outputs": [
    {
     "name": "stdout",
     "output_type": "stream",
     "text": [
      "Salário bruto: R$ 2000.0\n"
     ]
    }
   ],
   "source": [
    "salario_bruto = salario_hora * horas_mes\n",
    "print(f\"Salário bruto: R$ {salario_bruto}\")"
   ]
  },
  {
   "cell_type": "markdown",
   "metadata": {},
   "source": [
    "### b) quanto pagou ao INSS."
   ]
  },
  {
   "cell_type": "code",
   "execution_count": 11,
   "metadata": {},
   "outputs": [
    {
     "name": "stdout",
     "output_type": "stream",
     "text": [
      "INSS: R$ 160.0\n"
     ]
    }
   ],
   "source": [
    "inss = salario_bruto * 0.08\n",
    "print(f\"INSS: R$ {inss}\")"
   ]
  },
  {
   "cell_type": "markdown",
   "metadata": {},
   "source": [
    "### c) quanto pagou ao sindicato."
   ]
  },
  {
   "cell_type": "code",
   "execution_count": 12,
   "metadata": {},
   "outputs": [
    {
     "name": "stdout",
     "output_type": "stream",
     "text": [
      "Sindicato: R$ 100.0\n"
     ]
    }
   ],
   "source": [
    "sindicato = salario_bruto * 0.05\n",
    "print(f\"Sindicato: R$ {sindicato}\")"
   ]
  },
  {
   "cell_type": "markdown",
   "metadata": {},
   "source": [
    "### d) o salário líquido."
   ]
  },
  {
   "cell_type": "code",
   "execution_count": 16,
   "metadata": {},
   "outputs": [
    {
     "name": "stdout",
     "output_type": "stream",
     "text": [
      "Salário líquido: R$ 1520.0\n"
     ]
    }
   ],
   "source": [
    "salario_liquido = salario_bruto * 0.76\n",
    "print(f\"Salário líquido: R$ {salario_liquido}\")"
   ]
  },
  {
   "cell_type": "markdown",
   "metadata": {},
   "source": [
    "### e) calcule os descontos e o salário líquido, conforme a tabela abaixo:\n",
    "Salário Bruto : R$\n",
    "\n",
    "IR (11%) : R$\n",
    "\n",
    "INSS (8%) : R$\n",
    "\n",
    "Sindicato ( 5%) : R$\n",
    "\n",
    "= Salário Liquido : R$\n",
    "\n",
    "Obs.: Salário Bruto - Descontos = Salário Líquido."
   ]
  },
  {
   "cell_type": "code",
   "execution_count": 17,
   "metadata": {},
   "outputs": [
    {
     "name": "stdout",
     "output_type": "stream",
     "text": [
      "Salário bruto: R$ 2000.0\n",
      "IR: R$ 220.0\n",
      "INSS: R$ 160.0\n",
      "Sindicato: R$ 100.0\n",
      "Salário líquido: R$ 1520.0\n"
     ]
    }
   ],
   "source": [
    "print(f\"Salário bruto: R$ {salario_bruto}\")\n",
    "ir = salario_bruto * 0.11\n",
    "print(f\"IR: R$ {ir}\")\n",
    "print(f\"INSS: R$ {inss}\")\n",
    "print(f\"Sindicato: R$ {sindicato}\")\n",
    "print(f\"Salário líquido: R$ {salario_liquido}\")"
   ]
  },
  {
   "cell_type": "markdown",
   "metadata": {},
   "source": [
    "## 16 - Faça um programa para uma loja de tintas. O programa deverá pedir o tamanho em metros quadrados da área a ser pintada. Considere que a cobertura da tinta é de 1 litro para cada 3 metros quadrados e que a tinta é vendida em latas de 18 litros, que custam R$ 80,00. Informe ao usuário a quantidades de latas de tinta a serem compradas e o preço total."
   ]
  },
  {
   "cell_type": "code",
   "execution_count": 102,
   "metadata": {},
   "outputs": [
    {
     "name": "stdout",
     "output_type": "stream",
     "text": [
      "Informe a quantidade de metros quadrados: 220\n"
     ]
    }
   ],
   "source": [
    "metros_quadrados = float(input(\"Informe a quantidade de metros quadrados: \"))"
   ]
  },
  {
   "cell_type": "code",
   "execution_count": 103,
   "metadata": {},
   "outputs": [
    {
     "name": "stdout",
     "output_type": "stream",
     "text": [
      "Quantidade de litros cobertos pela tinta: 74 l\n"
     ]
    }
   ],
   "source": [
    "litros_cobertura_tinta = int(metros_quadrados / 3)\n",
    "\n",
    "if metros_quadrados%3 != 0:\n",
    "    litros_cobertura_tinta += 1\n",
    "\n",
    "print(f\"Quantidade de litros cobertos pela tinta: {litros_cobertura_tinta} l\")"
   ]
  },
  {
   "cell_type": "code",
   "execution_count": 104,
   "metadata": {},
   "outputs": [
    {
     "name": "stdout",
     "output_type": "stream",
     "text": [
      "Quantidade de latas de tinta usadas: 5 latas\n"
     ]
    }
   ],
   "source": [
    "quantidade_latas_tinta = int(litros_cobertura_tinta / 18)\n",
    "\n",
    "if litros_cobertura_tinta%18 != 0:\n",
    "    quantidade_latas_tinta += 1\n",
    "\n",
    "print(f\"Quantidade de latas de tinta usadas: {quantidade_latas_tinta} latas\")"
   ]
  },
  {
   "cell_type": "markdown",
   "metadata": {},
   "source": [
    "## 17 - Faça um Programa para uma loja de tintas. O programa deverá pedir o tamanho em metros quadrados da área a ser pintada. Considere que a cobertura da tinta é de 1 litro para cada 6 metros quadrados e que a tinta é vendida em latas de 18 litros, que custam R 80,00 ou em galões de 3,6 litros, que custam R 25,00. Informe ao usuário as quantidades de tinta a serem compradas e os respectivos preços em 3 situações:"
   ]
  },
  {
   "cell_type": "code",
   "execution_count": 106,
   "metadata": {},
   "outputs": [
    {
     "name": "stdout",
     "output_type": "stream",
     "text": [
      "Informe a quantidade de metros quadrados a serem pintados: 220\n",
      "Total de metros quadrados: 220.0 m²\n"
     ]
    }
   ],
   "source": [
    "metros_quadrados = float(input(\"Informe a quantidade de metros quadrados a serem pintados: \"))\n",
    "print(f\"Total de metros quadrados: {metros_quadrados} m²\")"
   ]
  },
  {
   "cell_type": "code",
   "execution_count": 107,
   "metadata": {},
   "outputs": [
    {
     "name": "stdout",
     "output_type": "stream",
     "text": [
      "Cobertura de tinta: 37 litros\n"
     ]
    }
   ],
   "source": [
    "cobertura_tinta = int(metros_quadrados / 6)\n",
    "\n",
    "if(metros_quadrados % 6 >= 1):\n",
    "    cobertura_tinta += 1\n",
    "\n",
    "print(f\"Cobertura de tinta: {cobertura_tinta} litros\")"
   ]
  },
  {
   "cell_type": "markdown",
   "metadata": {},
   "source": [
    "### a) comprar apenas latas de 18 litros;"
   ]
  },
  {
   "cell_type": "code",
   "execution_count": 108,
   "metadata": {},
   "outputs": [
    {
     "name": "stdout",
     "output_type": "stream",
     "text": [
      "Total de latas de 18 litros necessárias: 3 latas\n",
      "Valor: R$ 240\n"
     ]
    }
   ],
   "source": [
    "latas_18 = int(cobertura_tinta / 18)\n",
    "\n",
    "if (cobertura_tinta % 18 >= 1):\n",
    "    latas_18 += 1\n",
    "    \n",
    "valor_18 = latas_18 * 80\n",
    "    \n",
    "print(f\"Total de latas de 18 litros necessárias: {latas_18} latas\")\n",
    "print(f\"Valor: R$ {valor_18}\")"
   ]
  },
  {
   "cell_type": "markdown",
   "metadata": {},
   "source": [
    "### b) comprar apenas galões de 3,6 litros;"
   ]
  },
  {
   "cell_type": "code",
   "execution_count": 109,
   "metadata": {},
   "outputs": [
    {
     "name": "stdout",
     "output_type": "stream",
     "text": [
      "Total de latas de 3.6 litros necessárias: 11 latas\n",
      "Valor: R$ 275\n"
     ]
    }
   ],
   "source": [
    "latas_3_6 = int((cobertura_tinta * 10) / 36)\n",
    "\n",
    "if ((cobertura_tinta * 10) % 36 >= 1):\n",
    "    latas_3_6 += 1\n",
    "\n",
    "valor_3_6 = latas_3_6 * 25\n",
    "    \n",
    "print(f\"Total de latas de 3.6 litros necessárias: {latas_3_6} latas\")\n",
    "print(f\"Valor: R$ {valor_3_6}\")"
   ]
  },
  {
   "cell_type": "markdown",
   "metadata": {},
   "source": [
    "### c) misturar latas e galões, de forma que o preço seja o menor. Acrescente 10% de folga e sempre arredonde os valores para cima, isto é, considere latas cheias."
   ]
  },
  {
   "cell_type": "code",
   "execution_count": 110,
   "metadata": {},
   "outputs": [
    {
     "name": "stdout",
     "output_type": "stream",
     "text": [
      "Quantidade de latas de 18 litros: 3 latas\n",
      "Quantidade de latas de 18 litros: 0 latas\n",
      "Valor total: R$ 240\n"
     ]
    }
   ],
   "source": [
    "l_18 = latas_18\n",
    "\n",
    "l_3_6 = cobertura_tinta % 18\n",
    "l_3_6 = int((l_3_6 * 10) / 36)\n",
    "\n",
    "if ((l_3_6 * 10) % 36 >= 1):\n",
    "    l_3_6 += 1\n",
    "    \n",
    "v_18 = l_18 * 80\n",
    "v_3_6 = l_3_6 * 25\n",
    "v_total = v_18 + v_3_6\n",
    "\n",
    "print(f\"Quantidade de latas de 18 litros: {l_18} latas\")\n",
    "print(f\"Quantidade de latas de 18 litros: {l_3_6} latas\")\n",
    "print(f\"Valor total: R$ {v_total}\")"
   ]
  },
  {
   "cell_type": "markdown",
   "metadata": {},
   "source": [
    "## 18 - Faça um programa que peça o tamanho de um arquivo para download (em MB) e a velocidade de um link de Internet (em Mbps), calcule e informe o tempo aproximado de download do arquivo usando este link (em minutos)."
   ]
  },
  {
   "cell_type": "code",
   "execution_count": null,
   "metadata": {},
   "outputs": [],
   "source": []
  }
 ],
 "metadata": {
  "kernelspec": {
   "display_name": "Python 3",
   "language": "python",
   "name": "python3"
  },
  "language_info": {
   "codemirror_mode": {
    "name": "ipython",
    "version": 3
   },
   "file_extension": ".py",
   "mimetype": "text/x-python",
   "name": "python",
   "nbconvert_exporter": "python",
   "pygments_lexer": "ipython3",
   "version": "3.7.4"
  }
 },
 "nbformat": 4,
 "nbformat_minor": 2
}
