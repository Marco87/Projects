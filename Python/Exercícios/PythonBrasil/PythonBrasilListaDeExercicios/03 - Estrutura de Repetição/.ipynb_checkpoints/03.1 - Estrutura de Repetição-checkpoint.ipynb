{
 "cells": [
  {
   "cell_type": "markdown",
   "metadata": {},
   "source": [
    "## 1 - Faça um programa que peça uma nota, entre zero e dez. Mostre uma mensagem caso o valor seja inválido e continue pedindo até que o usuário informe um valor válido."
   ]
  },
  {
   "cell_type": "code",
   "execution_count": 12,
   "metadata": {},
   "outputs": [
    {
     "name": "stdout",
     "output_type": "stream",
     "text": [
      "Digite valores entre 0 e 10!\n",
      "Digite uma nota: 3\n",
      "Nota digitada: 3.00\n"
     ]
    }
   ],
   "source": [
    "from IPython.display import clear_output\n",
    "\n",
    "def notas():\n",
    "    x = False\n",
    "    while x==False:\n",
    "        try:\n",
    "            n = float(input(\"Digite uma nota: \"))\n",
    "            if n<0 or n>10:\n",
    "                clear_output()\n",
    "                print(\"Digite valores entre 0 e 10!\")\n",
    "                x=False\n",
    "            else:\n",
    "                x=True\n",
    "        except:\n",
    "            clear_output()\n",
    "            print(\"Digite apenas números!\")\n",
    "            x=False\n",
    "    return n\n",
    "            \n",
    "print(\"Nota digitada: {:.2f}\".format(notas()))"
   ]
  },
  {
   "cell_type": "markdown",
   "metadata": {},
   "source": [
    "## 2 - Faça um programa que leia um nome de usuário e a sua senha e não aceite a senha igual ao nome do usuário, mostrando uma mensagem de erro e voltando a pedir as informações."
   ]
  },
  {
   "cell_type": "code",
   "execution_count": 20,
   "metadata": {},
   "outputs": [
    {
     "name": "stdout",
     "output_type": "stream",
     "text": [
      "Nome: m\n",
      "Senha: ma\n"
     ]
    }
   ],
   "source": [
    "import getpass\n",
    "from IPython.display import clear_output\n",
    "\n",
    "def cadastro():\n",
    "    x = False\n",
    "    \n",
    "    while x==False:\n",
    "        n = input(\"Digite o nome: \")\n",
    "        s = getpass.getpass(\"Digite a senha: \")\n",
    "        \n",
    "        if n==s:\n",
    "            clear_output()\n",
    "            print(\"O nome não pode ser igual à senha!\\nTente novamente!\")\n",
    "            x = False\n",
    "        else:\n",
    "            x = True\n",
    "    return n, s\n",
    "\n",
    "nome, senha = cadastro()\n",
    "\n",
    "clear_output()\n",
    "print(\"Nome: {}\\nSenha: {}\".format(nome, senha))"
   ]
  },
  {
   "cell_type": "markdown",
   "metadata": {},
   "source": [
    "## 3 - Faça um programa que leia e valide as seguintes informações:\n",
    "\n",
    "### a) Nome: maior que 3 caracteres;\n",
    "\n",
    "### b) Idade: entre 0 e 150;\n",
    "\n",
    "### c) Salário: maior que zero;\n",
    "\n",
    "### d) Sexo: 'f' ou 'm';\n",
    "\n",
    "### e) Estado Civil: 's', 'c', 'v', 'd';"
   ]
  },
  {
   "cell_type": "code",
   "execution_count": null,
   "metadata": {},
   "outputs": [],
   "source": [
    "def digitar_idade():\n",
    "    x = False\n",
    "    i = 0\n",
    "    while x==False:\n",
    "        try:\n",
    "            i = int(input(\"Digite a idade: \"))\n",
    "            x = True\n",
    "        except:\n",
    "            print(\"Digite apenas números inteiros!\")\n",
    "            x = False\n",
    "    return i\n",
    "\n",
    "def digitar_salario():\n",
    "    x = False\n",
    "    s = 0\n",
    "    while x==False:\n",
    "        try:\n",
    "            i = float(input(\"Digite o salário: \"))\n",
    "            x = True\n",
    "        except:\n",
    "            print(\"Digite apenas números!\")\n",
    "            x = False\n",
    "    return s\n",
    "\n",
    "\n",
    "nome = input(\"Digite o nome: \")\n",
    "\n",
    "idade = digitar_idade()\n",
    "\n",
    "salario = float(input(\"Digite o salário: \"))\n",
    "\n",
    "sexo = input(\"Digite o sexo: \")"
   ]
  },
  {
   "cell_type": "markdown",
   "metadata": {},
   "source": [
    "## 4 - Supondo que a população de um país A seja da ordem de 80000 habitantes com uma taxa anual de crescimento de 3% e que a população de B seja 200000 habitantes com uma taxa de crescimento de 1.5%. Faça um programa que calcule e escreva o número de anos necessários para que a população do país A ultrapasse ou iguale a população do país B, mantidas as taxas de crescimento."
   ]
  },
  {
   "cell_type": "markdown",
   "metadata": {},
   "source": [
    "## 5 - Altere o programa anterior permitindo ao usuário informar as populações e as taxas de crescimento iniciais. Valide a entrada e permita repetir a operação."
   ]
  },
  {
   "cell_type": "markdown",
   "metadata": {},
   "source": [
    "## 6 - Faça um programa que imprima na tela os números de 1 a 20, um abaixo do outro. Depois modifique o programa para que ele mostre os números um ao lado do outro."
   ]
  },
  {
   "cell_type": "markdown",
   "metadata": {},
   "source": [
    "## 7 - Faça um programa que leia 5 números e informe o maior número."
   ]
  },
  {
   "cell_type": "markdown",
   "metadata": {},
   "source": [
    "## 8 - Faça um programa que leia 5 números e informe a soma e a média dos números."
   ]
  },
  {
   "cell_type": "markdown",
   "metadata": {},
   "source": [
    "## 9 - Faça um programa que imprima na tela apenas os números ímpares entre 1 e 50."
   ]
  },
  {
   "cell_type": "markdown",
   "metadata": {},
   "source": [
    "## 10 - Faça um programa que receba dois números inteiros e gere os números inteiros que estão no intervalo compreendido por eles."
   ]
  },
  {
   "cell_type": "markdown",
   "metadata": {},
   "source": [
    "## 11 - Altere o programa anterior para mostrar no final a soma dos números."
   ]
  },
  {
   "cell_type": "markdown",
   "metadata": {},
   "source": [
    "## 12 - Desenvolva um gerador de tabuada, capaz de gerar a tabuada de qualquer número inteiro entre 1 a 10. O usuário deve informar de qual numero ele deseja ver a tabuada. A saída deve ser conforme o exemplo abaixo:\n",
    "\n",
    "### Tabuada de 5:\n",
    "\n",
    "### 5 X 1 = 5\n",
    "\n",
    "### 5 X 2 = 10\n",
    "\n",
    "### ...\n",
    "\n",
    "### 5 X 10 = 50"
   ]
  },
  {
   "cell_type": "markdown",
   "metadata": {},
   "source": [
    "## 13 - Faça um programa que peça dois números, base e expoente, calcule e mostre o primeiro número elevado ao segundo número. Não utilize a função de potência da linguagem."
   ]
  },
  {
   "cell_type": "markdown",
   "metadata": {},
   "source": [
    "## 14 - Faça um programa que peça 10 números inteiros, calcule e mostre a quantidade de números pares e a quantidade de números impares."
   ]
  },
  {
   "cell_type": "markdown",
   "metadata": {},
   "source": [
    "## 15 - A série de Fibonacci é formada pela seqüência 1,1,2,3,5,8,13,21,34,55,... Faça um programa capaz de gerar a série até o n−ésimo termo."
   ]
  },
  {
   "cell_type": "markdown",
   "metadata": {},
   "source": [
    "## 16 - A série de Fibonacci é formada pela seqüência 0,1,1,2,3,5,8,13,21,34,55,... Faça um programa que gere a série até que o valor seja maior que 500."
   ]
  },
  {
   "cell_type": "markdown",
   "metadata": {},
   "source": [
    "## 17 - Faça um programa que calcule o fatorial de um número inteiro fornecido pelo usuário. Ex.: 5!=5.4.3.2.1=120"
   ]
  },
  {
   "cell_type": "markdown",
   "metadata": {},
   "source": [
    "## 18 - Faça um programa que, dado um conjunto de N números, determine o menor valor, o maior valor e a soma dos valores."
   ]
  },
  {
   "cell_type": "markdown",
   "metadata": {},
   "source": [
    "## 19 - Altere o programa anterior para que ele aceite apenas números entre 0 e 1000."
   ]
  },
  {
   "cell_type": "markdown",
   "metadata": {},
   "source": [
    "## 20 - Altere o programa de cálculo do fatorial, permitindo ao usuário calcular o fatorial várias vezes e limitando o fatorial a números inteiros positivos e menores que 16."
   ]
  }
 ],
 "metadata": {
  "kernelspec": {
   "display_name": "Python 3",
   "language": "python",
   "name": "python3"
  },
  "language_info": {
   "codemirror_mode": {
    "name": "ipython",
    "version": 3
   },
   "file_extension": ".py",
   "mimetype": "text/x-python",
   "name": "python",
   "nbconvert_exporter": "python",
   "pygments_lexer": "ipython3",
   "version": "3.7.4"
  }
 },
 "nbformat": 4,
 "nbformat_minor": 2
}
