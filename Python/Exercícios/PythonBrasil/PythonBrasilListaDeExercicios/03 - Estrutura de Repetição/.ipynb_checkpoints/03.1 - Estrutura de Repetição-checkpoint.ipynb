{
 "cells": [
  {
   "cell_type": "markdown",
   "metadata": {},
   "source": [
    "## 1 - Faça um programa que peça uma nota, entre zero e dez. Mostre uma mensagem caso o valor seja inválido e continue pedindo até que o usuário informe um valor válido."
   ]
  },
  {
   "cell_type": "code",
   "execution_count": 12,
   "metadata": {},
   "outputs": [
    {
     "name": "stdout",
     "output_type": "stream",
     "text": [
      "Digite valores entre 0 e 10!\n",
      "Digite uma nota: 3\n",
      "Nota digitada: 3.00\n"
     ]
    }
   ],
   "source": [
    "from IPython.display import clear_output\n",
    "\n",
    "def notas():\n",
    "    x = False\n",
    "    while x==False:\n",
    "        try:\n",
    "            n = float(input(\"Digite uma nota: \"))\n",
    "            if n<0 or n>10:\n",
    "                clear_output()\n",
    "                print(\"Digite valores entre 0 e 10!\")\n",
    "                x=False\n",
    "            else:\n",
    "                x=True\n",
    "        except:\n",
    "            clear_output()\n",
    "            print(\"Digite apenas números!\")\n",
    "            x=False\n",
    "    return n\n",
    "            \n",
    "print(\"Nota digitada: {:.2f}\".format(notas()))"
   ]
  },
  {
   "cell_type": "markdown",
   "metadata": {},
   "source": [
    "## 2 - Faça um programa que leia um nome de usuário e a sua senha e não aceite a senha igual ao nome do usuário, mostrando uma mensagem de erro e voltando a pedir as informações."
   ]
  },
  {
   "cell_type": "code",
   "execution_count": 20,
   "metadata": {},
   "outputs": [
    {
     "name": "stdout",
     "output_type": "stream",
     "text": [
      "Nome: m\n",
      "Senha: ma\n"
     ]
    }
   ],
   "source": [
    "import getpass\n",
    "from IPython.display import clear_output\n",
    "\n",
    "def cadastro():\n",
    "    x = False\n",
    "    \n",
    "    while x==False:\n",
    "        n = input(\"Digite o nome: \")\n",
    "        s = getpass.getpass(\"Digite a senha: \")\n",
    "        \n",
    "        if n==s:\n",
    "            clear_output()\n",
    "            print(\"O nome não pode ser igual à senha!\\nTente novamente!\")\n",
    "            x = False\n",
    "        else:\n",
    "            x = True\n",
    "    return n, s\n",
    "\n",
    "nome, senha = cadastro()\n",
    "\n",
    "clear_output()\n",
    "print(\"Nome: {}\\nSenha: {}\".format(nome, senha))"
   ]
  },
  {
   "cell_type": "markdown",
   "metadata": {},
   "source": [
    "## 3 - Faça um programa que leia e valide as seguintes informações:\n",
    "\n",
    "### a) Nome: maior que 3 caracteres;\n",
    "\n",
    "### b) Idade: entre 0 e 150;\n",
    "\n",
    "### c) Salário: maior que zero;\n",
    "\n",
    "### d) Sexo: 'f' ou 'm';\n",
    "\n",
    "### e) Estado Civil: 's', 'c', 'v', 'd';"
   ]
  },
  {
   "cell_type": "code",
   "execution_count": 2,
   "metadata": {},
   "outputs": [
    {
     "name": "stdout",
     "output_type": "stream",
     "text": [
      "Nome: ['m', '', '', '', '', '', '', '']\n",
      "Idade: 32 anos de idade\n",
      "Salário: R$ 33.00\n",
      "Sexo: Feminino\n",
      "Estado civil: Casado(a)\n"
     ]
    }
   ],
   "source": [
    "#A terminar\n",
    "\n",
    "from IPython.display import clear_output\n",
    "\n",
    "def digitar_nome():\n",
    "    x = False\n",
    "    n = \"\"\n",
    "    while x==False:\n",
    "        n = input(\"Digite o nome: \")\n",
    "        if len(n) < 4:\n",
    "            clear_output()\n",
    "            print(\"O nome digitado deve ter pelo menos 3 caracteres!\")\n",
    "            x = False\n",
    "        else:\n",
    "            x = True\n",
    "    return n\n",
    "\n",
    "def digitar_idade():\n",
    "    x = False\n",
    "    i = 0\n",
    "    while x==False:\n",
    "        try:\n",
    "            i = int(input(\"Digite a idade: \"))\n",
    "            if i<0 or i>150:\n",
    "                clear_output()\n",
    "                print(\"A idade deve ser maior que 0 e menor que 150!\")\n",
    "                x = False\n",
    "            else:\n",
    "                x = True\n",
    "        except:\n",
    "            clear_output()\n",
    "            print(\"Digite apenas números inteiros!\")\n",
    "            x = False\n",
    "    return i\n",
    "\n",
    "def digitar_salario():\n",
    "    x = False\n",
    "    s = 0\n",
    "    while x==False:\n",
    "        try:\n",
    "            s = float(input(\"Digite o salário: \"))\n",
    "            if s < 0:\n",
    "                print(\"O salário deve ser maior que zero!\")\n",
    "                x = False\n",
    "            else:\n",
    "                x = True\n",
    "        except:\n",
    "            clear_output()\n",
    "            print(\"Digite apenas números!\")\n",
    "            x = False\n",
    "    return s\n",
    "\n",
    "def digitar_sexo():\n",
    "    x = False\n",
    "    s = 'A'\n",
    "    while x==False:\n",
    "        s = input(\"Digite o sexo: \")\n",
    "        if s.upper()=='F' or s.upper()=='M':\n",
    "            x = True\n",
    "        else:\n",
    "            clear_output()\n",
    "            print(\"Digite 'F' para feminino ou 'M' para masculino!\")\n",
    "            x = False\n",
    "    return s.upper()\n",
    "\n",
    "def digitar_estado_civil():\n",
    "    x = False\n",
    "    e = 'A'\n",
    "    while x==False:\n",
    "        e = input(\"Digite o estado civil: \")\n",
    "        if e.upper()=='S' or e.upper()=='C' or e.upper()=='V' or e.upper()=='D':\n",
    "            x=True\n",
    "        else:\n",
    "            clear_output()\n",
    "            print(\"Digite 's' para solteiro, 'c' para casado, 'v' para viúvo ou 'd para divorciado!'\")\n",
    "            x = False\n",
    "    return e.upper()\n",
    "\n",
    "nome = digitar_nome()\n",
    "\n",
    "clear_output()\n",
    "idade = digitar_idade()\n",
    "\n",
    "clear_output()\n",
    "salario = digitar_salario()\n",
    "\n",
    "clear_output()\n",
    "sexo = digitar_sexo()\n",
    "\n",
    "if sexo==\"M\":\n",
    "    sexo=\"Masculino\"\n",
    "else:\n",
    "    sexo=\"Feminino\"\n",
    "\n",
    "clear_output()\n",
    "estado_civil = digitar_estado_civil()\n",
    "\n",
    "if estado_civil=='S':\n",
    "    estado_civil = \"Solteiro(a)\"\n",
    "elif estado_civil=='C':\n",
    "    estado_civil = \"Casado(a)\"\n",
    "elif estado_civil=='V':\n",
    "    estado_civil = \"Viúvo(a)\"\n",
    "elif estado_civil=='D':\n",
    "    estado_civil = \"Divorciado(a)\"\n",
    "\n",
    "clear_output()\n",
    "print(\"Nome: {}\\nIdade: {} anos de idade\\nSalário: R$ {:.2f}\\nSexo: {}\\nEstado civil: {}\".format(nome, idade, salario, sexo, estado_civil))"
   ]
  },
  {
   "cell_type": "markdown",
   "metadata": {},
   "source": [
    "## 4 - Supondo que a população de um país A seja da ordem de 80000 habitantes com uma taxa anual de crescimento de 3% e que a população de B seja 200000 habitantes com uma taxa de crescimento de 1.5%. Faça um programa que calcule e escreva o número de anos necessários para que a população do país A ultrapasse ou iguale a população do país B, mantidas as taxas de crescimento."
   ]
  },
  {
   "cell_type": "code",
   "execution_count": 14,
   "metadata": {},
   "outputs": [
    {
     "name": "stdout",
     "output_type": "stream",
     "text": [
      "População A: 515033.10\n",
      "População B: 510964.42\n",
      "63 anos\n"
     ]
    }
   ],
   "source": [
    "pop_a = 80000\n",
    "pop_b = 200000\n",
    "\n",
    "def taxa_crescimento(pa, pb):\n",
    "    c = 0\n",
    "    while pa<pb:\n",
    "        pa = pa + (pa*0.03)\n",
    "        pb = pb + (pb*0.015)\n",
    "        c+=1\n",
    "    print(\"População A: {:.2f}\".format(pa) + \"\\n\" + \"População B: {:.2f}\".format(pb) + \"\\n\" + str(c) + \" anos\")\n",
    "\n",
    "taxa_crescimento(pop_a, pop_b)"
   ]
  },
  {
   "cell_type": "markdown",
   "metadata": {},
   "source": [
    "## 5 - Altere o programa anterior permitindo ao usuário informar as populações e as taxas de crescimento iniciais. Valide a entrada e permita repetir a operação."
   ]
  },
  {
   "cell_type": "code",
   "execution_count": 1,
   "metadata": {},
   "outputs": [
    {
     "name": "stdout",
     "output_type": "stream",
     "text": [
      "Digite a quantidade de pessoas do país A: 90\n",
      "Digite a quantidade de pessoas do país B: 100\n",
      "População A: 114.01\n",
      "População B: 112.65\n",
      "8 anos\n"
     ]
    }
   ],
   "source": [
    "#A terminar\n",
    "\n",
    "from IPython.display import clear_output\n",
    "\n",
    "def digitar_numeros():\n",
    "    x = False\n",
    "    pa = 0\n",
    "    pb = 0\n",
    "    \n",
    "    while x==False:\n",
    "        try:\n",
    "            clear_output()\n",
    "            pa = float(input(\"Digite a quantidade de pessoas do país A: \"))\n",
    "            pb = float(input(\"Digite a quantidade de pessoas do país B: \"))\n",
    "            x = True\n",
    "        except:\n",
    "            print(\"Digte apenas números!\")\n",
    "            x = False\n",
    "    return pa, pb\n",
    "\n",
    "def taxa_crescimento(pa, pb):\n",
    "    c = 0\n",
    "    while pa<pb:\n",
    "        pa = pa + (pa*0.03)\n",
    "        pb = pb + (pb*0.015)\n",
    "        c+=1\n",
    "    print(\"População A: {:.2f}\".format(pa) + \"\\n\" + \"População B: {:.2f}\".format(pb) + \"\\n\" + str(c) + \" anos\")\n",
    "\n",
    "pop_a, pop_b = digitar_numeros()\n",
    "\n",
    "taxa_crescimento(pop_a, pop_b)"
   ]
  },
  {
   "cell_type": "markdown",
   "metadata": {},
   "source": [
    "## 6 - Faça um programa que imprima na tela os números de 1 a 20, um abaixo do outro. Depois modifique o programa para que ele mostre os números um ao lado do outro."
   ]
  },
  {
   "cell_type": "code",
   "execution_count": 13,
   "metadata": {},
   "outputs": [
    {
     "name": "stdout",
     "output_type": "stream",
     "text": [
      "1\n",
      "2\n",
      "3\n",
      "4\n",
      "5\n",
      "6\n",
      "7\n",
      "8\n",
      "9\n",
      "10\n",
      "11\n",
      "12\n",
      "13\n",
      "14\n",
      "15\n",
      "16\n",
      "17\n",
      "18\n",
      "19\n",
      "20\n",
      "[1, 2, 3, 4, 5, 6, 7, 8, 9, 10, 11, 12, 13, 14, 15, 16, 17, 18, 19, 20]\n",
      "1 2 3 4 5 6 7 8 9 10 11 12 13 14 15 16 17 18 19 20 \n"
     ]
    }
   ],
   "source": [
    "numeros = []\n",
    "x = \"\"\n",
    "for i in range(1, 21):\n",
    "    print(i)\n",
    "    x += str(i) + \" \"\n",
    "    numeros.append(i)\n",
    "    \n",
    "print(numeros)\n",
    "print(x)"
   ]
  },
  {
   "cell_type": "markdown",
   "metadata": {},
   "source": [
    "## 7 - Faça um programa que leia 5 números e informe o maior número."
   ]
  },
  {
   "cell_type": "code",
   "execution_count": 22,
   "metadata": {},
   "outputs": [
    {
     "name": "stdout",
     "output_type": "stream",
     "text": [
      "Lista de números digitados: [50, 1, 0, 2, 3]\n",
      "Maior número: 50\n"
     ]
    }
   ],
   "source": [
    "from IPython.display import clear_output\n",
    "\n",
    "lista_numeros = []\n",
    "x = 0\n",
    "maior = 0\n",
    "for i in range(1,6):\n",
    "    clear_output()\n",
    "    x = int(input(f\"Digite o {i}º número: \"))\n",
    "    if x>maior:\n",
    "        maior = x\n",
    "    lista_numeros.append(x)\n",
    "clear_output()\n",
    "print(f\"Lista de números digitados: {lista_numeros}\\nMaior número: {maior}\")"
   ]
  },
  {
   "cell_type": "markdown",
   "metadata": {},
   "source": [
    "## 8 - Faça um programa que leia 5 números e informe a soma e a média dos números."
   ]
  },
  {
   "cell_type": "code",
   "execution_count": 26,
   "metadata": {},
   "outputs": [
    {
     "name": "stdout",
     "output_type": "stream",
     "text": [
      "Lista de números digitados: [10, 20, 30, 40, 50]\n",
      "Soma: 150\n",
      "Média: 30.0\n"
     ]
    }
   ],
   "source": [
    "from IPython.display import clear_output\n",
    "\n",
    "lista_numeros = []\n",
    "x = 0\n",
    "media = 0\n",
    "soma = 0\n",
    "cont = 0\n",
    "\n",
    "for i in range(1,6):\n",
    "    clear_output()\n",
    "    x = int(input(f\"Digite o {i}º número: \"))\n",
    "    soma += x\n",
    "    lista_numeros.append(x)\n",
    "    cont = i\n",
    "clear_output()\n",
    "print(f\"Lista de números digitados: {lista_numeros}\\nSoma: {soma}\\nMédia: {soma/cont}\")"
   ]
  },
  {
   "cell_type": "markdown",
   "metadata": {},
   "source": [
    "## 9 - Faça um programa que imprima na tela apenas os números ímpares entre 1 e 50."
   ]
  },
  {
   "cell_type": "code",
   "execution_count": 27,
   "metadata": {},
   "outputs": [
    {
     "name": "stdout",
     "output_type": "stream",
     "text": [
      "1\n",
      "3\n",
      "5\n",
      "7\n",
      "9\n",
      "11\n",
      "13\n",
      "15\n",
      "17\n",
      "19\n",
      "21\n",
      "23\n",
      "25\n",
      "27\n",
      "29\n",
      "31\n",
      "33\n",
      "35\n",
      "37\n",
      "39\n",
      "41\n",
      "43\n",
      "45\n",
      "47\n",
      "49\n"
     ]
    }
   ],
   "source": [
    "for i in range(1, 51, 2):\n",
    "    print(i)"
   ]
  },
  {
   "cell_type": "markdown",
   "metadata": {},
   "source": [
    "## 10 - Faça um programa que receba dois números inteiros e gere os números inteiros que estão no intervalo compreendido por eles."
   ]
  },
  {
   "cell_type": "code",
   "execution_count": 31,
   "metadata": {},
   "outputs": [
    {
     "name": "stdin",
     "output_type": "stream",
     "text": [
      "Digite o 1º número:  20\n",
      "Digite o 2º número:  10\n"
     ]
    },
    {
     "name": "stdout",
     "output_type": "stream",
     "text": [
      "11\n",
      "12\n",
      "13\n",
      "14\n",
      "15\n",
      "16\n",
      "17\n",
      "18\n",
      "19\n"
     ]
    }
   ],
   "source": [
    "x1 = int(input(\"Digite o 1º número: \"))\n",
    "x2 = int(input(\"Digite o 2º número: \"))\n",
    "\n",
    "if x2<x1:\n",
    "    n = x2\n",
    "    x2 = x1\n",
    "    x1 = n\n",
    "    \n",
    "for i in range(x1+1, x2):\n",
    "    print(i)"
   ]
  },
  {
   "cell_type": "markdown",
   "metadata": {},
   "source": [
    "## 11 - Altere o programa anterior para mostrar no final a soma dos números."
   ]
  },
  {
   "cell_type": "code",
   "execution_count": 34,
   "metadata": {},
   "outputs": [
    {
     "name": "stdin",
     "output_type": "stream",
     "text": [
      "Digite o 1º número:  5\n",
      "Digite o 2º número:  1\n"
     ]
    },
    {
     "name": "stdout",
     "output_type": "stream",
     "text": [
      "Soma: 9\n"
     ]
    }
   ],
   "source": [
    "x1 = int(input(\"Digite o 1º número: \"))\n",
    "x2 = int(input(\"Digite o 2º número: \"))\n",
    "\n",
    "if x2<x1:\n",
    "    n = x2\n",
    "    x2 = x1\n",
    "    x1 = n\n",
    "\n",
    "soma = 0\n",
    "\n",
    "for i in range(x1+1, x2):\n",
    "    soma += i\n",
    "\n",
    "print(f\"Soma: {soma}\")"
   ]
  },
  {
   "cell_type": "markdown",
   "metadata": {},
   "source": [
    "## 12 - Desenvolva um gerador de tabuada, capaz de gerar a tabuada de qualquer número inteiro entre 1 a 10. O usuário deve informar de qual numero ele deseja ver a tabuada. A saída deve ser conforme o exemplo abaixo:\n",
    "\n",
    "### Tabuada de 5:\n",
    "\n",
    "### 5 X 1 = 5\n",
    "\n",
    "### 5 X 2 = 10\n",
    "\n",
    "### ...\n",
    "\n",
    "### 5 X 10 = 50"
   ]
  },
  {
   "cell_type": "code",
   "execution_count": 35,
   "metadata": {},
   "outputs": [
    {
     "name": "stdin",
     "output_type": "stream",
     "text": [
      "Digite o número para a tabuada:  3\n"
     ]
    },
    {
     "ename": "TypeError",
     "evalue": "unsupported operand type(s) for +: 'int' and 'str'",
     "output_type": "error",
     "traceback": [
      "\u001b[0;31m---------------------------------------------------------------------------\u001b[0m",
      "\u001b[0;31mTypeError\u001b[0m                                 Traceback (most recent call last)",
      "\u001b[0;32m<ipython-input-35-e709e34d6a7a>\u001b[0m in \u001b[0;36m<module>\u001b[0;34m\u001b[0m\n\u001b[1;32m      2\u001b[0m \u001b[0;34m\u001b[0m\u001b[0m\n\u001b[1;32m      3\u001b[0m \u001b[0;32mfor\u001b[0m \u001b[0mi\u001b[0m \u001b[0;32min\u001b[0m \u001b[0mrange\u001b[0m\u001b[0;34m(\u001b[0m\u001b[0;36m1\u001b[0m\u001b[0;34m,\u001b[0m \u001b[0;36m11\u001b[0m\u001b[0;34m)\u001b[0m\u001b[0;34m:\u001b[0m\u001b[0;34m\u001b[0m\u001b[0;34m\u001b[0m\u001b[0m\n\u001b[0;32m----> 4\u001b[0;31m     \u001b[0mprint\u001b[0m\u001b[0;34m(\u001b[0m\u001b[0mnumero\u001b[0m \u001b[0;34m+\u001b[0m \u001b[0;34m\" x \"\u001b[0m \u001b[0;34m+\u001b[0m \u001b[0mi\u001b[0m \u001b[0;34m+\u001b[0m \u001b[0;34m\" = \"\u001b[0m \u001b[0;34m+\u001b[0m \u001b[0mnumero\u001b[0m\u001b[0;34m*\u001b[0m\u001b[0mi\u001b[0m\u001b[0;34m)\u001b[0m\u001b[0;34m\u001b[0m\u001b[0;34m\u001b[0m\u001b[0m\n\u001b[0m",
      "\u001b[0;31mTypeError\u001b[0m: unsupported operand type(s) for +: 'int' and 'str'"
     ]
    }
   ],
   "source": [
    "numero = int(input(\"Digite o número para a tabuada: \"))\n",
    "\n",
    "for i in range(1, 11):\n",
    "    print(f\"{numero}  x {i}  = {numero*i}\")"
   ]
  },
  {
   "cell_type": "markdown",
   "metadata": {},
   "source": [
    "## 13 - Faça um programa que peça dois números, base e expoente, calcule e mostre o primeiro número elevado ao segundo número. Não utilize a função de potência da linguagem."
   ]
  },
  {
   "cell_type": "markdown",
   "metadata": {},
   "source": [
    "## 14 - Faça um programa que peça 10 números inteiros, calcule e mostre a quantidade de números pares e a quantidade de números impares."
   ]
  },
  {
   "cell_type": "markdown",
   "metadata": {},
   "source": [
    "## 15 - A série de Fibonacci é formada pela seqüência 1,1,2,3,5,8,13,21,34,55,... Faça um programa capaz de gerar a série até o n−ésimo termo."
   ]
  },
  {
   "cell_type": "markdown",
   "metadata": {},
   "source": [
    "## 16 - A série de Fibonacci é formada pela seqüência 0,1,1,2,3,5,8,13,21,34,55,... Faça um programa que gere a série até que o valor seja maior que 500."
   ]
  },
  {
   "cell_type": "markdown",
   "metadata": {},
   "source": [
    "## 17 - Faça um programa que calcule o fatorial de um número inteiro fornecido pelo usuário. Ex.: 5!=5.4.3.2.1=120"
   ]
  },
  {
   "cell_type": "markdown",
   "metadata": {},
   "source": [
    "## 18 - Faça um programa que, dado um conjunto de N números, determine o menor valor, o maior valor e a soma dos valores."
   ]
  },
  {
   "cell_type": "markdown",
   "metadata": {},
   "source": [
    "## 19 - Altere o programa anterior para que ele aceite apenas números entre 0 e 1000."
   ]
  },
  {
   "cell_type": "markdown",
   "metadata": {},
   "source": [
    "## 20 - Altere o programa de cálculo do fatorial, permitindo ao usuário calcular o fatorial várias vezes e limitando o fatorial a números inteiros positivos e menores que 16."
   ]
  }
 ],
 "metadata": {
  "kernelspec": {
   "display_name": "Python 3",
   "language": "python",
   "name": "python3"
  },
  "language_info": {
   "codemirror_mode": {
    "name": "ipython",
    "version": 3
   },
   "file_extension": ".py",
   "mimetype": "text/x-python",
   "name": "python",
   "nbconvert_exporter": "python",
   "pygments_lexer": "ipython3",
   "version": "3.7.4"
  }
 },
 "nbformat": 4,
 "nbformat_minor": 4
}
