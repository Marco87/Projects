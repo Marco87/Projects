{
 "cells": [
  {
   "cell_type": "markdown",
   "metadata": {},
   "source": [
    "## 21 - Faça um programa que peça um número inteiro e determine se ele é ou não um número primo. Um número primo é aquele que é divisível somente por ele mesmo e por 1."
   ]
  },
  {
   "cell_type": "code",
   "execution_count": 12,
   "metadata": {},
   "outputs": [
    {
     "name": "stdout",
     "output_type": "stream",
     "text": [
      "90 não é um número primo!\n"
     ]
    }
   ],
   "source": [
    "from IPython.display import clear_output\n",
    "\n",
    "def digitar_numero():\n",
    "    x = False\n",
    "    n = 0\n",
    "    while x==False:\n",
    "        try:\n",
    "            n = int(input(\"Digite um número: \"))\n",
    "            x = True\n",
    "        except:\n",
    "            clear_output()\n",
    "            print(\"Digite apenas números!\")\n",
    "            x = False\n",
    "    return n\n",
    "\n",
    "def numero_primo(n):\n",
    "    cont = 0\n",
    "    for i in range(1, n+1):\n",
    "        if n%i == 0:\n",
    "            cont+=1\n",
    "    return cont\n",
    "    \n",
    "numero = digitar_numero()\n",
    "primo = numero_primo(numero)\n",
    "\n",
    "clear_output()\n",
    "print(f\"{numero} é um número primo!\" if primo<=2 else f\"{numero} não é um número primo!\")"
   ]
  },
  {
   "cell_type": "markdown",
   "metadata": {},
   "source": [
    "## 22 - Altere o programa de cálculo dos números primos, informando, caso o número não seja primo, por quais número ele é divisível."
   ]
  },
  {
   "cell_type": "code",
   "execution_count": 16,
   "metadata": {},
   "outputs": [
    {
     "name": "stdout",
     "output_type": "stream",
     "text": [
      "7 é um número primo!\n"
     ]
    }
   ],
   "source": [
    "from IPython.display import clear_output\n",
    "\n",
    "def digitar_numero():\n",
    "    x = False\n",
    "    n = 0\n",
    "    while x==False:\n",
    "        try:\n",
    "            n = int(input(\"Digite um número: \"))\n",
    "            x = True\n",
    "        except:\n",
    "            clear_output()\n",
    "            print(\"Digite apenas números!\")\n",
    "            x = False\n",
    "    return n\n",
    "\n",
    "numeros_divisiveis = []\n",
    "def numero_primo(n):\n",
    "    cont = 0\n",
    "    for i in range(1, n+1):\n",
    "        if n%i == 0:\n",
    "            cont+=1\n",
    "            numeros_divisiveis.append(i)\n",
    "    return cont\n",
    "    \n",
    "numero = digitar_numero()\n",
    "primo = numero_primo(numero)\n",
    "\n",
    "clear_output()\n",
    "print(f\"{numero} é um número primo!\" if primo<=2 else f\"{numero} não é um número primo!\\nE é divisível pelos seguintes números: {numeros_divisiveis}\")"
   ]
  },
  {
   "cell_type": "markdown",
   "metadata": {},
   "source": [
    "## 23 - Faça um programa que mostre todos os primos entre 1 e N sendo N um número inteiro fornecido pelo usuário. O programa deverá mostrar também o número de divisões que ele executou para encontrar os números primos. Serão avaliados o funcionamento, o estilo e o número de testes (divisões) executados."
   ]
  },
  {
   "cell_type": "code",
   "execution_count": 29,
   "metadata": {},
   "outputs": [
    {
     "name": "stdout",
     "output_type": "stream",
     "text": [
      "Os números primos entre 1 e 5 são: [2, 3]\n"
     ]
    }
   ],
   "source": [
    "#A terminar\n",
    "from IPython.display import clear_output\n",
    "\n",
    "def digitar_numero():\n",
    "    x = False\n",
    "    n = 0\n",
    "    while x==False:\n",
    "        try:\n",
    "            n = int(input(\"Digite um número: \"))\n",
    "            x = True\n",
    "        except:\n",
    "            clear_output()\n",
    "            print(\"Digite apenas números!\")\n",
    "            x = False\n",
    "    return n\n",
    "\n",
    "lista_primos = []\n",
    "def numero_primo(n):\n",
    "    cont = 0\n",
    "    for i in range(1, n+1):\n",
    "        if cont==2:\n",
    "                lista_primos.append(i-1)\n",
    "        cont = 0\n",
    "        for j in range(1, i+1):\n",
    "            if i%j == 0:\n",
    "                cont+=1\n",
    "                \n",
    "    return lista_primos\n",
    "    \n",
    "numero = digitar_numero()\n",
    "primo = numero_primo(numero)\n",
    "\n",
    "clear_output()\n",
    "#print(f\"{numero} é um número primo!\" if primo<=2 else f\"{numero} não é um número primo!\")\n",
    "print(f\"Os números primos entre 1 e {numero} são: {lista_primos}\")"
   ]
  },
  {
   "cell_type": "markdown",
   "metadata": {},
   "source": [
    "## 24 - Faça um programa que calcule o mostre a média aritmética de N notas."
   ]
  },
  {
   "cell_type": "markdown",
   "metadata": {},
   "source": [
    "## 25 - Faça um programa que peça para n pessoas a sua idade, ao final o programa devera verificar se a média de idade da turma varia entre 0 e 25,26 e 60 e maior que 60; e então, dizer se a turma é jovem, adulta ou idosa, conforme a média calculada."
   ]
  },
  {
   "cell_type": "markdown",
   "metadata": {},
   "source": [
    "## 26 - Numa eleição existem três candidatos. Faça um programa que peça o número total de eleitores. Peça para cada eleitor votar e ao final mostrar o número de votos de cada candidato."
   ]
  },
  {
   "cell_type": "markdown",
   "metadata": {},
   "source": [
    "## 27 - Faça um programa que calcule o número médio de alunos por turma. Para isto, peça a quantidade de turmas e a quantidade de alunos para cada turma. As turmas não podem ter mais de 40 alunos."
   ]
  },
  {
   "cell_type": "markdown",
   "metadata": {},
   "source": [
    "## 28 - Faça um programa que calcule o valor total investido por um colecionador em sua coleção de CDs e o valor médio gasto em cada um deles. O usuário deverá informar a quantidade de CDs e o valor para em cada um."
   ]
  },
  {
   "cell_type": "markdown",
   "metadata": {},
   "source": [
    "## 29 - O Sr. Manoel Joaquim possui uma grande loja de artigos de RS 1,99, com cerca de 10 caixas. Para agilizar o cálculo de quanto cada cliente deve pagar ele desenvolveu um tabela que contém o número de itens que o cliente comprou e ao lado o valor da conta. Desta forma a atendente do caixa precisa apenas contar quantos itens o cliente está levando e olhar na tabela de preços. Você foi contratado para desenvolver o programa que monta esta tabela de preços, que conterá os preços de 1 até 50 produtos, conforme o exemplo abaixo:\n",
    "\n",
    "Lojas Quase Dois - Tabela de preços\n",
    "\n",
    "1 - RS 1.99\n",
    "\n",
    "2 - RS 3.98\n",
    "\n",
    "...\n",
    "\n",
    "50 - RS 99.50"
   ]
  },
  {
   "cell_type": "markdown",
   "metadata": {},
   "source": [
    "## 30 - O Sr. Manoel Joaquim acaba de adquirir uma panificadora e pretende implantar a metodologia da tabelinha, que já é um sucesso na sua loja de 1,99. Você foi contratado para desenvolver o programa que monta a tabela de preços de pães, de 1 até 50 pães, a partir do preço do pão informado pelo usuário, conforme o exemplo abaixo:\n",
    "\n",
    "Preço do pão: RS 0.18\n",
    "\n",
    "Panificadora Pão de Ontem - Tabela de preços\n",
    "\n",
    "1 - RS 0.18\n",
    "\n",
    "2 - RS 0.36\n",
    "\n",
    "...\n",
    "\n",
    "50 - RS 9.00"
   ]
  },
  {
   "cell_type": "markdown",
   "metadata": {},
   "source": [
    "## 31 - O Sr. Manoel Joaquim expandiu seus negócios para além dos negócios de 1,99 e agora possui uma loja de conveniências. Faça um programa que implemente uma caixa registradora rudimentar. O programa deverá receber um número desconhecido de valores referentes aos preços das mercadorias. Um valor zero deve ser informado pelo operador para indicar o final da compra. O programa deve então mostrar o total da compra e perguntar o valor em dinheiro que o cliente forneceu, para então calcular e mostrar o valor do troco. Após esta operação, o programa deverá voltar ao ponto inicial, para registrar a próxima compra. A saída deve ser conforme o exemplo abaixo:\n",
    "\n",
    "Lojas Tabajara\n",
    "\n",
    "Produto 1: RS 2.20\n",
    "\n",
    "Produto 2: RS 5.80\n",
    "\n",
    "Produto 3: RS 0\n",
    "\n",
    "Total: RS 9.00\n",
    "\n",
    "Dinheiro: RS 20.00\n",
    "\n",
    "Troco: RS 11.00\n",
    "\n",
    "..."
   ]
  },
  {
   "cell_type": "markdown",
   "metadata": {},
   "source": [
    "## 32 - Faça um programa que calcule o fatorial de um número inteiro fornecido pelo usuário. Ex.: 5!=5.4.3.2.1=120. A saída deve ser conforme o exemplo abaixo:\n",
    "\n",
    "Fatorial de: 5\n",
    "\n",
    "5! = 5 . 4 . 3 . 2 . 1 = 120"
   ]
  },
  {
   "cell_type": "markdown",
   "metadata": {},
   "source": [
    "## 33 - O Departamento Estadual de Meteorologia lhe contratou para desenvolver um programa que leia as um conjunto indeterminado de temperaturas, e informe ao final a menor e a maior temperaturas informadas, bem como a média das temperaturas."
   ]
  },
  {
   "cell_type": "markdown",
   "metadata": {},
   "source": [
    "## 34 - Os números primos possuem várias aplicações dentro da Computação, por exemplo na Criptografia. Um número primo é aquele que é divisível apenas por um e por ele mesmo. Faça um programa que peça um número inteiro e determine se ele é ou não um número primo."
   ]
  },
  {
   "cell_type": "markdown",
   "metadata": {},
   "source": [
    "## 35 - Encontrar números primos é uma tarefa difícil. Faça um programa que gera uma lista dos números primos existentes entre 1 e um número inteiro informado pelo usuário."
   ]
  }
 ],
 "metadata": {
  "kernelspec": {
   "display_name": "Python 3",
   "language": "python",
   "name": "python3"
  },
  "language_info": {
   "codemirror_mode": {
    "name": "ipython",
    "version": 3
   },
   "file_extension": ".py",
   "mimetype": "text/x-python",
   "name": "python",
   "nbconvert_exporter": "python",
   "pygments_lexer": "ipython3",
   "version": "3.7.4"
  }
 },
 "nbformat": 4,
 "nbformat_minor": 2
}
