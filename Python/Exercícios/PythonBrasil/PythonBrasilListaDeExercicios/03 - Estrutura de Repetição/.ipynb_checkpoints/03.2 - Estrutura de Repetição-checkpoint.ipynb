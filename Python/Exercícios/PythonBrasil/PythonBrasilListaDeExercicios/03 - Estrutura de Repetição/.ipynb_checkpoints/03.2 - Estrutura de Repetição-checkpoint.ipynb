{
 "cells": [
  {
   "cell_type": "markdown",
   "metadata": {},
   "source": [
    "## 21 - Faça um programa que peça um número inteiro e determine se ele é ou não um número primo. Um número primo é aquele que é divisível somente por ele mesmo e por 1."
   ]
  },
  {
   "cell_type": "code",
   "execution_count": 12,
   "metadata": {},
   "outputs": [
    {
     "name": "stdout",
     "output_type": "stream",
     "text": [
      "90 não é um número primo!\n"
     ]
    }
   ],
   "source": [
    "from IPython.display import clear_output\n",
    "\n",
    "def digitar_numero():\n",
    "    x = False\n",
    "    n = 0\n",
    "    while x==False:\n",
    "        try:\n",
    "            n = int(input(\"Digite um número: \"))\n",
    "            x = True\n",
    "        except:\n",
    "            clear_output()\n",
    "            print(\"Digite apenas números!\")\n",
    "            x = False\n",
    "    return n\n",
    "\n",
    "def numero_primo(n):\n",
    "    cont = 0\n",
    "    for i in range(1, n+1):\n",
    "        if n%i == 0:\n",
    "            cont+=1\n",
    "    return cont\n",
    "    \n",
    "numero = digitar_numero()\n",
    "primo = numero_primo(numero)\n",
    "\n",
    "clear_output()\n",
    "print(f\"{numero} é um número primo!\" if primo<=2 else f\"{numero} não é um número primo!\")"
   ]
  },
  {
   "cell_type": "markdown",
   "metadata": {},
   "source": [
    "## 22 - Altere o programa de cálculo dos números primos, informando, caso o número não seja primo, por quais número ele é divisível."
   ]
  },
  {
   "cell_type": "code",
   "execution_count": 16,
   "metadata": {},
   "outputs": [
    {
     "name": "stdout",
     "output_type": "stream",
     "text": [
      "7 é um número primo!\n"
     ]
    }
   ],
   "source": [
    "from IPython.display import clear_output\n",
    "\n",
    "def digitar_numero():\n",
    "    x = False\n",
    "    n = 0\n",
    "    while x==False:\n",
    "        try:\n",
    "            n = int(input(\"Digite um número: \"))\n",
    "            x = True\n",
    "        except:\n",
    "            clear_output()\n",
    "            print(\"Digite apenas números!\")\n",
    "            x = False\n",
    "    return n\n",
    "\n",
    "numeros_divisiveis = []\n",
    "def numero_primo(n):\n",
    "    cont = 0\n",
    "    for i in range(1, n+1):\n",
    "        if n%i == 0:\n",
    "            cont+=1\n",
    "            numeros_divisiveis.append(i)\n",
    "    return cont\n",
    "    \n",
    "numero = digitar_numero()\n",
    "primo = numero_primo(numero)\n",
    "\n",
    "clear_output()\n",
    "print(f\"{numero} é um número primo!\" if primo<=2 else f\"{numero} não é um número primo!\\nE é divisível pelos seguintes números: {numeros_divisiveis}\")"
   ]
  },
  {
   "cell_type": "markdown",
   "metadata": {},
   "source": [
    "## 23 - Faça um programa que mostre todos os primos entre 1 e N sendo N um número inteiro fornecido pelo usuário. O programa deverá mostrar também o número de divisões que ele executou para encontrar os números primos. Serão avaliados o funcionamento, o estilo e o número de testes (divisões) executados."
   ]
  },
  {
   "cell_type": "code",
   "execution_count": 44,
   "metadata": {},
   "outputs": [
    {
     "name": "stdout",
     "output_type": "stream",
     "text": [
      "100 não é um número primo!\n",
      "Os números primos entre 1 e 100 são: [2, 3, 5, 7, 11, 13, 17, 19, 23, 29, 31, 37, 41, 43, 47, 53, 59, 61, 67, 71, 73, 79, 83, 89, 97]\n",
      "Foram feitas 482 para se chegar a este resultado.\n"
     ]
    }
   ],
   "source": [
    "from IPython.display import clear_output\n",
    "\n",
    "def digitar_numero():\n",
    "    x = False\n",
    "    n = 0\n",
    "    while x==False:\n",
    "        try:\n",
    "            n = int(input(\"Digite um número: \"))\n",
    "            x = True\n",
    "        except:\n",
    "            clear_output()\n",
    "            print(\"Digite apenas números!\")\n",
    "            x = False\n",
    "    return n\n",
    "\n",
    "lista_primos = []\n",
    "def numero_primo(n):\n",
    "    cont = 0\n",
    "    cont_primos = 0\n",
    "    divisoes = 0\n",
    "    for i in range(1, n+1):\n",
    "        if n%i == 0:\n",
    "            cont+=1\n",
    "        if cont_primos==2:\n",
    "                lista_primos.append(i-1)\n",
    "        cont_primos = 0\n",
    "        for j in range(1, i+1):\n",
    "            if i%j == 0:\n",
    "                cont_primos+=1                \n",
    "                divisoes+=1\n",
    "    return cont, divisoes\n",
    "  \n",
    "numero = digitar_numero()\n",
    "primo, numero_divisoes = numero_primo(numero)\n",
    "\n",
    "clear_output()\n",
    "print(f\"{numero} é um número primo!\" if primo<=2 else f\"{numero} não é um número primo!\")\n",
    "print(f\"Os números primos entre 1 e {numero} são: {lista_primos}\")\n",
    "print(f\"Foram feitas {numero_divisoes} para se chegar a este resultado.\")"
   ]
  },
  {
   "cell_type": "markdown",
   "metadata": {},
   "source": [
    "## 24 - Faça um programa que calcule o mostre a média aritmética de N notas."
   ]
  },
  {
   "cell_type": "code",
   "execution_count": 3,
   "metadata": {},
   "outputs": [
    {
     "name": "stdout",
     "output_type": "stream",
     "text": [
      "Você encerrou o programa!\n",
      "A média das notas é: 1.0\n"
     ]
    }
   ],
   "source": [
    "from IPython.display import clear_output\n",
    "\n",
    "numeros_media = []\n",
    "\n",
    "def popular_lista():\n",
    "    x = False\n",
    "    count = 0\n",
    "    \n",
    "    while x==False:\n",
    "        try:\n",
    "            n = int(input(\"Digite um número (Digite 0 para terminar!): \"))\n",
    "            if n==0:\n",
    "                clear_output()\n",
    "                print(\"Você encerrou o programa!\")\n",
    "                x = True\n",
    "            elif n<0:\n",
    "                clear_output()\n",
    "                print(\"Digite apenas números positivos!\")\n",
    "                x = False\n",
    "            else:\n",
    "                clear_output()\n",
    "                numeros_media.append(n)\n",
    "                count+=1\n",
    "                x = False\n",
    "        except:\n",
    "            clear_output()\n",
    "            print(\"Digite apenas números!\")\n",
    "            x = False\n",
    "    return count\n",
    "            \n",
    "qtd_notas = popular_lista()\n",
    "\n",
    "print(\"A média das notas é: \" + str(sum(numeros_media)/qtd_notas)) if qtd_notas>0 else print(\"Não há itens na lista!\")"
   ]
  },
  {
   "cell_type": "markdown",
   "metadata": {},
   "source": [
    "## 25 - Faça um programa que peça para n pessoas a sua idade, ao final o programa devera verificar se a média de idade da turma varia entre 0 e 25,26 e 60 e maior que 60; e então, dizer se a turma é jovem, adulta ou idosa, conforme a média calculada."
   ]
  },
  {
   "cell_type": "code",
   "execution_count": 7,
   "metadata": {},
   "outputs": [
    {
     "name": "stdout",
     "output_type": "stream",
     "text": [
      "Você encerrou o programa!\n",
      "A média das idades digitadas é: 32.5\n",
      "Adulto\n"
     ]
    }
   ],
   "source": [
    "from IPython.display import clear_output\n",
    "\n",
    "lista_idades = []\n",
    "\n",
    "def popular_lista():\n",
    "    x = False\n",
    "    count = 0\n",
    "    \n",
    "    while x==False:\n",
    "        try:\n",
    "            n = int(input(\"Digite a sua idade (Digite -1 para terminar!): \"))\n",
    "            if n==-1:\n",
    "                clear_output()\n",
    "                print(\"Você encerrou o programa!\")\n",
    "                x = True\n",
    "            elif n<-1:\n",
    "                clear_output()\n",
    "                print(\"Digite apenas números positivos!\")\n",
    "                x = False\n",
    "            else:\n",
    "                clear_output()\n",
    "                lista_idades.append(n)\n",
    "                count+=1\n",
    "                x = False\n",
    "        except:\n",
    "            clear_output()\n",
    "            print(\"Digite apenas números!\")\n",
    "            x = False\n",
    "    return count\n",
    "            \n",
    "qtd_idades = popular_lista()\n",
    "\n",
    "media_idades = sum(lista_idades)/qtd_idades\n",
    "\n",
    "print(\"A média das idades digitadas é: \" + str(media_idades))\n",
    "if media_idades>0 and media_idades<=25.26:\n",
    "    print(\"Jovem\")\n",
    "elif media_idades>25.26 and media_idades<=60:\n",
    "    print(\"Adulto\")\n",
    "else:\n",
    "    print(\"Idoso\")"
   ]
  },
  {
   "cell_type": "markdown",
   "metadata": {},
   "source": [
    "## 26 - Numa eleição existem três candidatos. Faça um programa que peça o número total de eleitores. Peça para cada eleitor votar e ao final mostrar o número de votos de cada candidato."
   ]
  },
  {
   "cell_type": "code",
   "execution_count": 23,
   "metadata": {},
   "outputs": [
    {
     "name": "stdout",
     "output_type": "stream",
     "text": [
      "Programa encerrado!\n",
      "Votos em A - 2\n",
      "Votos em B - 1\n",
      "Votos em C - 1\n",
      "Total de votos - 4\n"
     ]
    }
   ],
   "source": [
    "from IPython.display import clear_output\n",
    "\n",
    "def votacao():\n",
    "    op = \"\"\n",
    "    a = 0\n",
    "    b = 0\n",
    "    c = 0\n",
    "    while op!=\"FIM\":\n",
    "        op = input(print(\"Selecione uma das opções: A - Candidato A | B - Candidato B | C - Candidato C -> \"))\n",
    "        if op.upper()==\"A\":\n",
    "            clear_output()\n",
    "            a+=1\n",
    "        elif op.upper()==\"B\":\n",
    "            clear_output()\n",
    "            b+=1\n",
    "        elif op.upper()==\"C\":\n",
    "            clear_output()\n",
    "            c+=1\n",
    "        elif op.upper()==\"FIM\":\n",
    "            clear_output()\n",
    "            print(\"Programa encerrado!\")\n",
    "            op = op.upper()\n",
    "        else:\n",
    "            clear_output()\n",
    "            print(\"Digite uma opção válida!\")\n",
    "    return a,b,c\n",
    "    \n",
    "cand_a,cand_b,cand_c = votacao()\n",
    "\n",
    "print(f\"Votos em A - {cand_a}\\nVotos em B - {cand_b}\\nVotos em C - {cand_c}\\nTotal de votos - {cand_a + cand_b + cand_c}\")"
   ]
  },
  {
   "cell_type": "markdown",
   "metadata": {},
   "source": [
    "## 27 - Faça um programa que calcule o número médio de alunos por turma. Para isto, peça a quantidade de turmas e a quantidade de alunos para cada turma. As turmas não podem ter mais de 40 alunos."
   ]
  },
  {
   "cell_type": "code",
   "execution_count": null,
   "metadata": {},
   "outputs": [],
   "source": [
    "from IPython.display import clear_output\n",
    "\n",
    "def alunos_turmas(turma):\n",
    "    x = False\n",
    "    qtd = 0\n",
    "    while x==False:\n",
    "        try:\n",
    "            qtd = int(input(f\"Digite a quantidade de alunos da turma {turma.upper()}: \"))\n",
    "            if qtd>=0 and qtd<=40:\n",
    "                qtd_alunos.append(qtd)\n",
    "                nome_turma.append(str(\"TURMA \" + turma.upper()))\n",
    "                x = True\n",
    "            elif qtd<0:\n",
    "                clear_output()\n",
    "                print(\"Digite apenas números positivos!\")\n",
    "                x = False\n",
    "            elif qtd>40:\n",
    "                clear_output()\n",
    "                print(\"As turmas não podem ter mais de 40 alunos!\")\n",
    "                x = False\n",
    "        except:\n",
    "            clear_output()\n",
    "            print(\"Digite apenas números!\")\n",
    "            x = False\n",
    "            \n",
    "qtd_alunos = []\n",
    "nome_turma = []\n",
    "for i in range(1,4):\n",
    "    clear_output()\n",
    "    alunos_turmas(input(f\"Digite o nome da {i}ª turma: \"))\n",
    "\n",
    "clear_output()\n",
    "print(\"As turmas têm em média {:.2f} alunos!\".format(sum(qtd_alunos)/len(qtd_alunos)))"
   ]
  },
  {
   "cell_type": "markdown",
   "metadata": {},
   "source": [
    "## 28 - Faça um programa que calcule o valor total investido por um colecionador em sua coleção de CDs e o valor médio gasto em cada um deles. O usuário deverá informar a quantidade de CDs e o valor para em cada um."
   ]
  },
  {
   "cell_type": "code",
   "execution_count": 1,
   "metadata": {},
   "outputs": [
    {
     "name": "stdout",
     "output_type": "stream",
     "text": [
      "Valor total: R$ 50.0\n",
      "Valor médio gasto: R$ 12.5\n"
     ]
    }
   ],
   "source": [
    "#Importando as bibliotecas que serão usadas durante a execução do código\n",
    "from IPython.display import clear_output\n",
    "\n",
    "#Lista com os valores dos CDs\n",
    "cd = []\n",
    "\n",
    "#Quantidade total de CDs comprados\n",
    "qtd_cds = int(input(\"Informe a quantidade de CDs: \"))\n",
    "\n",
    "#Estrutura de repetição onde o usuário insere o valor de cada CD\n",
    "for i in range(0, qtd_cds):\n",
    "    cd.append(float(input(\"Digite o valor do \" + str(i+1) + \"º CD: \")))\n",
    "\n",
    "#Limpando a tela\n",
    "clear_output()\n",
    "\n",
    "#Exibição das informações\n",
    "print(\"Valor total: R$ \" + str(sum(cd)))\n",
    "print(\"Valor médio gasto: R$ \" + str(sum(cd)/len(cd)))"
   ]
  },
  {
   "cell_type": "markdown",
   "metadata": {},
   "source": [
    "## 29 - O Sr. Manoel Joaquim possui uma grande loja de artigos de RS 1,99, com cerca de 10 caixas. Para agilizar o cálculo de quanto cada cliente deve pagar ele desenvolveu um tabela que contém o número de itens que o cliente comprou e ao lado o valor da conta. Desta forma a atendente do caixa precisa apenas contar quantos itens o cliente está levando e olhar na tabela de preços. Você foi contratado para desenvolver o programa que monta esta tabela de preços, que conterá os preços de 1 até 50 produtos, conforme o exemplo abaixo:\n",
    "\n",
    "### Lojas Quase Dois - Tabela de preços\n",
    "\n",
    "### 1 - RS 1.99\n",
    "\n",
    "### 2 - RS 3.98\n",
    "\n",
    "### ...\n",
    "\n",
    "### 50 - RS 99.50"
   ]
  },
  {
   "cell_type": "code",
   "execution_count": 36,
   "metadata": {},
   "outputs": [
    {
     "name": "stdout",
     "output_type": "stream",
     "text": [
      "1 Produto - R$ 1.99\n",
      "2 Produtos - R$ 3.98\n",
      "3 Produtos - R$ 5.97\n",
      "4 Produtos - R$ 7.96\n",
      "5 Produtos - R$ 9.95\n",
      "6 Produtos - R$ 11.94\n",
      "7 Produtos - R$ 13.93\n",
      "8 Produtos - R$ 15.92\n",
      "9 Produtos - R$ 17.91\n",
      "10 Produtos - R$ 19.9\n",
      "11 Produtos - R$ 21.89\n",
      "12 Produtos - R$ 23.88\n",
      "13 Produtos - R$ 25.87\n",
      "14 Produtos - R$ 27.86\n",
      "15 Produtos - R$ 29.85\n",
      "16 Produtos - R$ 31.84\n",
      "17 Produtos - R$ 33.83\n",
      "18 Produtos - R$ 35.82\n",
      "19 Produtos - R$ 37.81\n",
      "20 Produtos - R$ 39.8\n",
      "21 Produtos - R$ 41.79\n",
      "22 Produtos - R$ 43.78\n",
      "23 Produtos - R$ 45.77\n",
      "24 Produtos - R$ 47.76\n",
      "25 Produtos - R$ 49.75\n",
      "26 Produtos - R$ 51.74\n",
      "27 Produtos - R$ 53.73\n",
      "28 Produtos - R$ 55.72\n",
      "29 Produtos - R$ 57.71\n",
      "30 Produtos - R$ 59.7\n",
      "31 Produtos - R$ 61.69\n",
      "32 Produtos - R$ 63.68\n",
      "33 Produtos - R$ 65.67\n",
      "34 Produtos - R$ 67.66\n",
      "35 Produtos - R$ 69.65\n",
      "36 Produtos - R$ 71.64\n",
      "37 Produtos - R$ 73.63\n",
      "38 Produtos - R$ 75.62\n",
      "39 Produtos - R$ 77.61\n",
      "40 Produtos - R$ 79.6\n",
      "41 Produtos - R$ 81.59\n",
      "42 Produtos - R$ 83.58\n",
      "43 Produtos - R$ 85.57\n",
      "44 Produtos - R$ 87.56\n",
      "45 Produtos - R$ 89.55\n",
      "46 Produtos - R$ 91.54\n",
      "47 Produtos - R$ 93.53\n",
      "48 Produtos - R$ 95.52\n",
      "49 Produtos - R$ 97.51\n",
      "50 Produtos - R$ 99.5\n"
     ]
    }
   ],
   "source": [
    "#Modo 1\n",
    "\n",
    "#Importando as bibliotecas que serão usadas durante a execução do código\n",
    "from IPython.display import clear_output\n",
    "\n",
    "#Lista com a quantidade de itens\n",
    "qtd_itens = []\n",
    "\n",
    "#Preenchendo a lista e exibindo a tabela\n",
    "for i in range(0,50):\n",
    "    qtd_itens.append(1.99 * (i+1))\n",
    "    if i==0:\n",
    "        print(str(i+1) + \" Produto - R$ \" + str(qtd_itens[i]))\n",
    "    else:\n",
    "        print(str(i+1) + \" Produtos - R$ \" + str(qtd_itens[i]))"
   ]
  },
  {
   "cell_type": "code",
   "execution_count": 34,
   "metadata": {},
   "outputs": [
    {
     "name": "stdout",
     "output_type": "stream",
     "text": [
      "Valor para 5 produtos comprados: R$ 9.95\n"
     ]
    }
   ],
   "source": [
    "#Modo 2\n",
    "\n",
    "#Importando as bibliotecas que serão usadas durante a execução do código\n",
    "from IPython.display import clear_output\n",
    "\n",
    "#Tratando a entrada de dados, para garantir que o valor digitado pelo usuário esteja entre 1 e 50\n",
    "def valor_total():\n",
    "    qtd_produtos = -1\n",
    "    while (qtd_produtos<0 or qtd_produtos>50):\n",
    "        qtd_produtos = int(input(\"Informe a quantidade de produtos comprados: \"))\n",
    "        if (qtd_produtos<0 or qtd_produtos>50):\n",
    "            clear_output()\n",
    "            print(\"Digite um número entre 1 e 50!\")\n",
    "        else:\n",
    "            valor = qtd_produtos*1.99\n",
    "    clear_output()\n",
    "    return (\"Valor para \" + str(qtd_produtos) + \" produtos comprados: R$ \" + str(valor))\n",
    "\n",
    "#Exibindo o valor total dos produtos\n",
    "print(valor_total())"
   ]
  },
  {
   "cell_type": "markdown",
   "metadata": {},
   "source": [
    "## 30 - O Sr. Manoel Joaquim acaba de adquirir uma panificadora e pretende implantar a metodologia da tabelinha, que já é um sucesso na sua loja de 1,99. Você foi contratado para desenvolver o programa que monta a tabela de preços de pães, de 1 até 50 pães, a partir do preço do pão informado pelo usuário, conforme o exemplo abaixo:\n",
    "\n",
    "### Preço do pão: RS 0.18\n",
    "\n",
    "### Panificadora Pão de Ontem - Tabela de preços\n",
    "\n",
    "### 1 - RS 0.18\n",
    "\n",
    "### 2 - RS 0.36\n",
    "\n",
    "### ...\n",
    "\n",
    "### 50 - RS 9.00"
   ]
  },
  {
   "cell_type": "code",
   "execution_count": 3,
   "metadata": {},
   "outputs": [
    {
     "name": "stdout",
     "output_type": "stream",
     "text": [
      "1 Pão - R$ 0.18\n",
      "2 Pães - R$ 0.36\n",
      "3 Pães - R$ 0.54\n",
      "4 Pães - R$ 0.72\n",
      "5 Pães - R$ 0.90\n",
      "6 Pães - R$ 1.08\n",
      "7 Pães - R$ 1.26\n",
      "8 Pães - R$ 1.44\n",
      "9 Pães - R$ 1.62\n",
      "10 Pães - R$ 1.80\n",
      "11 Pães - R$ 1.98\n",
      "12 Pães - R$ 2.16\n",
      "13 Pães - R$ 2.34\n",
      "14 Pães - R$ 2.52\n",
      "15 Pães - R$ 2.70\n",
      "16 Pães - R$ 2.88\n",
      "17 Pães - R$ 3.06\n",
      "18 Pães - R$ 3.24\n",
      "19 Pães - R$ 3.42\n",
      "20 Pães - R$ 3.60\n",
      "21 Pães - R$ 3.78\n",
      "22 Pães - R$ 3.96\n",
      "23 Pães - R$ 4.14\n",
      "24 Pães - R$ 4.32\n",
      "25 Pães - R$ 4.50\n",
      "26 Pães - R$ 4.68\n",
      "27 Pães - R$ 4.86\n",
      "28 Pães - R$ 5.04\n",
      "29 Pães - R$ 5.22\n",
      "30 Pães - R$ 5.40\n",
      "31 Pães - R$ 5.58\n",
      "32 Pães - R$ 5.76\n",
      "33 Pães - R$ 5.94\n",
      "34 Pães - R$ 6.12\n",
      "35 Pães - R$ 6.30\n",
      "36 Pães - R$ 6.48\n",
      "37 Pães - R$ 6.66\n",
      "38 Pães - R$ 6.84\n",
      "39 Pães - R$ 7.02\n",
      "40 Pães - R$ 7.20\n",
      "41 Pães - R$ 7.38\n",
      "42 Pães - R$ 7.56\n",
      "43 Pães - R$ 7.74\n",
      "44 Pães - R$ 7.92\n",
      "45 Pães - R$ 8.10\n",
      "46 Pães - R$ 8.28\n",
      "47 Pães - R$ 8.46\n",
      "48 Pães - R$ 8.64\n",
      "49 Pães - R$ 8.82\n",
      "50 Pães - R$ 9.00\n"
     ]
    }
   ],
   "source": [
    "#Importando as bibliotecas que serão usadas durante a execução do código\n",
    "from IPython.display import clear_output\n",
    "\n",
    "#Lista com a quantidade de itens\n",
    "qtd_paes = []\n",
    "\n",
    "#Preenchendo a lista e exibindo a tabela\n",
    "for i in range(0,50):\n",
    "    qtd_paes.append(0.18 * (i+1))\n",
    "    if i==0:\n",
    "        print(str(i+1) + \" Pão - R$ {:.2f}\" .format(qtd_paes[i], 2))\n",
    "    else:\n",
    "        print(str(i+1) + \" Pães - R$ {:.2f}\" .format(qtd_paes[i], 2))"
   ]
  },
  {
   "cell_type": "markdown",
   "metadata": {},
   "source": [
    "## 31 - O Sr. Manoel Joaquim expandiu seus negócios para além dos negócios de 1,99 e agora possui uma loja de conveniências. Faça um programa que implemente uma caixa registradora rudimentar. O programa deverá receber um número desconhecido de valores referentes aos preços das mercadorias. Um valor zero deve ser informado pelo operador para indicar o final da compra. O programa deve então mostrar o total da compra e perguntar o valor em dinheiro que o cliente forneceu, para então calcular e mostrar o valor do troco. Após esta operação, o programa deverá voltar ao ponto inicial, para registrar a próxima compra. A saída deve ser conforme o exemplo abaixo:\n",
    "\n",
    "### Lojas Tabajara\n",
    "\n",
    "### Produto 1: RS 2.20\n",
    "\n",
    "### Produto 2: RS 5.80\n",
    "\n",
    "### Produto 3: RS 0\n",
    "\n",
    "### Total: RS 9.00\n",
    "\n",
    "### Dinheiro: RS 20.00\n",
    "\n",
    "### Troco: RS 11.00\n",
    "\n",
    "### ..."
   ]
  },
  {
   "cell_type": "code",
   "execution_count": 1,
   "metadata": {},
   "outputs": [],
   "source": [
    "#Importando as bibliotecas necessárias\n",
    "import pandas as pd\n",
    "import numpy as np\n",
    "from IPython.display import clear_output"
   ]
  },
  {
   "cell_type": "code",
   "execution_count": 2,
   "metadata": {},
   "outputs": [],
   "source": [
    "#Criando a estrutura que armazenará as compras\n",
    "df_compras = pd.DataFrame(columns=['id_compra', 'data_compra', 'nome_produto', 'valor_produto'])"
   ]
  },
  {
   "cell_type": "code",
   "execution_count": 14,
   "metadata": {},
   "outputs": [
    {
     "name": "stdout",
     "output_type": "stream",
     "text": [
      "Sessão encerrada!\n"
     ]
    }
   ],
   "source": [
    "#Cadastrando a(s) compra(s)\n",
    "\n",
    "cadastrar_compra()\n",
    "\n",
    "def cadastrar_compra():\n",
    "    compra = True\n",
    "\n",
    "    while (compra == True):\n",
    "        clear_output()\n",
    "        cadastrar = str(input(\"Deseja cadastrar uma compra?\\n(S-Sim / N-Não)\"))\n",
    "        if (cadastrar.upper() == \"S\"):\n",
    "            cadastrar_produto()\n",
    "        elif (cadastrar.upper() == \"N\"):\n",
    "            compra = False\n",
    "        else:\n",
    "            print(\"Digite uma opção válida!\")\n",
    "    clear_output()\n",
    "    print(\"Sessão encerrada!\")"
   ]
  },
  {
   "cell_type": "code",
   "execution_count": 7,
   "metadata": {},
   "outputs": [],
   "source": [
    "#Cadastrando o(s) produto(s)\n",
    "\n",
    "def cadastrar_produto():\n",
    "    produto = True\n",
    "\n",
    "    #Listas que armazenarão, temporariamente, os nomes dos produtos e os valores\n",
    "    lista_produtos = []\n",
    "    lista_valores = []\n",
    "\n",
    "    while (produto == True):\n",
    "        cadastrar = str(input(\"Deseja cadastrar uma compra?\\n(S-Sim / N-Não)\"))\n",
    "        if (cadastrar.upper() == \"S\"):\n",
    "            lista_produtos.append(input(\"Item: \"))\n",
    "            lista_valores.append(float(input(\"Valor: \")))\n",
    "        elif (cadastrar.upper() == \"N\"):\n",
    "            produto = False\n",
    "        else:\n",
    "            print(\"Digite uma opção válida!\")"
   ]
  },
  {
   "cell_type": "code",
   "execution_count": null,
   "metadata": {},
   "outputs": [],
   "source": [
    "#print(lista_produtos)\n",
    "#print(lista_compras)"
   ]
  },
  {
   "cell_type": "markdown",
   "metadata": {},
   "source": [
    "## 32 - Faça um programa que calcule o fatorial de um número inteiro fornecido pelo usuário. Ex.: 5!=5.4.3.2.1=120. A saída deve ser conforme o exemplo abaixo:\n",
    "\n",
    "### Fatorial de: 5\n",
    "\n",
    "### 5! = 5 . 4 . 3 . 2 . 1 = 120"
   ]
  },
  {
   "cell_type": "code",
   "execution_count": 25,
   "metadata": {},
   "outputs": [],
   "source": [
    "#Importando as bibliotecas\n",
    "\n",
    "import pandas as pd\n",
    "import numpy as np\n",
    "from IPython.display import clear_output"
   ]
  },
  {
   "cell_type": "code",
   "execution_count": 36,
   "metadata": {},
   "outputs": [
    {
     "name": "stdout",
     "output_type": "stream",
     "text": [
      "Não é possível calcular o fatorial de números negativos!\n"
     ]
    }
   ],
   "source": [
    "#Leitura do número cujo fatorial será calculado\n",
    "n = int(input(\"Digite o número a ser calculado: \"))\n",
    "\n",
    "#Declaração da variável fat, onde o valor do fatorial será atribuído\n",
    "fat = 1\n",
    "\n",
    "#Uso de condicionais para o cálculo do fatorial\n",
    "#Condicional para números negativos\n",
    "if(n<0):\n",
    "    clear_output()\n",
    "    print(\"Não é possível calcular o fatorial de números negativos!\")\n",
    "    x = False\n",
    "#Condicional para valor nulo\n",
    "elif n==0:\n",
    "    clear_output()\n",
    "    print(\"O fatorial de \", n,\" é: \", fat)\n",
    "#Condicional para números positivos\n",
    "else:\n",
    "    for i in (range(0,n)):\n",
    "        fat = fat*(i+1)\n",
    "    #Limpando a tela\n",
    "    clear_output()\n",
    "    print(\"O fatorial de \", n,\" é: \", fat)"
   ]
  },
  {
   "cell_type": "markdown",
   "metadata": {},
   "source": [
    "## 33 - O Departamento Estadual de Meteorologia lhe contratou para desenvolver um programa que leia um conjunto indeterminado de temperaturas, e informe ao final a menor e a maior temperaturas informadas, bem como a média das temperaturas."
   ]
  },
  {
   "cell_type": "markdown",
   "metadata": {},
   "source": [
    "## 34 - Os números primos possuem várias aplicações dentro da Computação, por exemplo na Criptografia. Um número primo é aquele que é divisível apenas por um e por ele mesmo. Faça um programa que peça um número inteiro e determine se ele é ou não um número primo."
   ]
  },
  {
   "cell_type": "markdown",
   "metadata": {},
   "source": [
    "## 35 - Encontrar números primos é uma tarefa difícil. Faça um programa que gera uma lista dos números primos existentes entre 1 e um número inteiro informado pelo usuário."
   ]
  }
 ],
 "metadata": {
  "kernelspec": {
   "display_name": "Python 3",
   "language": "python",
   "name": "python3"
  },
  "language_info": {
   "codemirror_mode": {
    "name": "ipython",
    "version": 3
   },
   "file_extension": ".py",
   "mimetype": "text/x-python",
   "name": "python",
   "nbconvert_exporter": "python",
   "pygments_lexer": "ipython3",
   "version": "3.7.7"
  }
 },
 "nbformat": 4,
 "nbformat_minor": 2
}
