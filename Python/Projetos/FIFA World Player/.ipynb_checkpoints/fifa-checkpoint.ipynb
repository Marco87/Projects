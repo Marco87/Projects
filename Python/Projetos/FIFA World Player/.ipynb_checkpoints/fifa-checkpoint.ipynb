{
 "cells": [
  {
   "cell_type": "markdown",
   "metadata": {},
   "source": [
    "![title](https://i.dailymail.co.uk/i/pix/2017/09/22/16/4497411300000578-4910460-image-m-43_1506093776855.jpg)"
   ]
  },
  {
   "cell_type": "markdown",
   "metadata": {},
   "source": [
    "### Importando as bibliotecas"
   ]
  },
  {
   "cell_type": "code",
   "execution_count": 2,
   "metadata": {},
   "outputs": [],
   "source": [
    "#Importando as bibliotecas necessárias\n",
    "import numpy as np\n",
    "import pandas as pd\n",
    "import matplotlib.pyplot as plt\n",
    "import requests\n",
    "import lxml.html as lh\n",
    "from bs4 import BeautifulSoup\n",
    "import random\n",
    "from selenium import webdriver"
   ]
  },
  {
   "cell_type": "code",
   "execution_count": 5,
   "metadata": {},
   "outputs": [],
   "source": [
    "#Armazenando o link do site em uma variável\n",
    "url = 'https://mundotop10.com/melhores-jogadores-do-mundo/'\n",
    "\n",
    "#Conteúdo do site\n",
    "page = requests.get(url)\n",
    "\n",
    "#Armazenando o conteúdo do site\n",
    "doc = lh.fromstring(page.content)\n",
    "\n",
    "#Convertendo os dados armazenandos nas tags <tr> do HTML\n",
    "tr_elements = doc.xpath('//tr')"
   ]
  },
  {
   "cell_type": "code",
   "execution_count": 6,
   "metadata": {},
   "outputs": [
    {
     "name": "stdout",
     "output_type": "stream",
     "text": [
      "200\n"
     ]
    }
   ],
   "source": [
    "print(page.status_code)"
   ]
  },
  {
   "cell_type": "markdown",
   "metadata": {},
   "source": [
    "##############################"
   ]
  },
  {
   "cell_type": "code",
   "execution_count": 51,
   "metadata": {},
   "outputs": [],
   "source": [
    "response = requests.get(\n",
    "    url='https://www.topendsports.com/sport/soccer/list-player-of-the-year-fifa.htm'\n",
    ")\n",
    "\n",
    "soup = BeautifulSoup(response.content, 'html.parser')"
   ]
  },
  {
   "cell_type": "code",
   "execution_count": 52,
   "metadata": {},
   "outputs": [],
   "source": [
    "soup = soup.find_all('table')"
   ]
  },
  {
   "cell_type": "code",
   "execution_count": 54,
   "metadata": {},
   "outputs": [
    {
     "name": "stdout",
     "output_type": "stream",
     "text": [
      "[<table class=\"list\">\n",
      "<tr>\n",
      "<th>year</th>\n",
      "<th>player</th>\n",
      "<th>nationality</th>\n",
      "</tr>\n",
      "<tr>\n",
      "<td>2019</td>\n",
      "<td><a href=\"profiles/messi-lionel.htm\">Lionel Messi</a></td>\n",
      "<td>Argentina</td>\n",
      "</tr>\n",
      "<tr>\n",
      "<td>2018</td>\n",
      "<td>Luka Modrić </td>\n",
      "<td>Croatia</td>\n",
      "</tr>\n",
      "<tr>\n",
      "<td>2017 </td>\n",
      "<td><a href=\"profiles/ronaldo-cristiano.htm\">Cristiano Ronaldo</a></td>\n",
      "<td>Portugal</td>\n",
      "</tr>\n",
      "<tr>\n",
      "<td>2016</td>\n",
      "<td><a href=\"profiles/ronaldo-cristiano.htm\">Cristiano Ronaldo</a></td>\n",
      "<td>Portugal</td>\n",
      "</tr>\n",
      "<tr>\n",
      "<td>2015</td>\n",
      "<td><a href=\"profiles/messi-lionel.htm\">Lionel Messi</a></td>\n",
      "<td>Argentina</td>\n",
      "</tr>\n",
      "<tr>\n",
      "<td>2014</td>\n",
      "<td><a href=\"profiles/ronaldo-cristiano.htm\">Cristiano Ronaldo</a></td>\n",
      "<td>Portugal</td>\n",
      "</tr>\n",
      "<tr>\n",
      "<td>2013</td>\n",
      "<td><a href=\"profiles/ronaldo-cristiano.htm\">Cristiano Ronaldo</a></td>\n",
      "<td>Portugal</td>\n",
      "</tr>\n",
      "<tr>\n",
      "<td>2012</td>\n",
      "<td><a href=\"profiles/messi-lionel.htm\">Lionel Messi</a></td>\n",
      "<td>Argentina</td>\n",
      "</tr>\n",
      "<tr>\n",
      "<td>2011</td>\n",
      "<td><a href=\"profiles/messi-lionel.htm\">Lionel Messi</a></td>\n",
      "<td>Argentina</td>\n",
      "</tr>\n",
      "<tr>\n",
      "<td>2010</td>\n",
      "<td><a href=\"profiles/messi-lionel.htm\">Lionel Messi</a></td>\n",
      "<td>Argentina</td>\n",
      "</tr>\n",
      "<tr>\n",
      "<td>2009</td>\n",
      "<td><a href=\"profiles/messi-lionel.htm\">Lionel Messi</a></td>\n",
      "<td>Argentina</td>\n",
      "</tr>\n",
      "<tr>\n",
      "<td>2008</td>\n",
      "<td><a href=\"profiles/ronaldo-cristiano.htm\">Cristiano Ronaldo</a></td>\n",
      "<td>Portugal</td>\n",
      "</tr>\n",
      "<tr>\n",
      "<td>2007</td>\n",
      "<td><a href=\"profiles/kaka.htm\">Kaká</a></td>\n",
      "<td>Brazil</td>\n",
      "</tr>\n",
      "<tr>\n",
      "<td>2006</td>\n",
      "<td><a href=\"profiles/cannavaro-fabio.htm\">Fabio Cannavaro</a></td>\n",
      "<td>Italy</td>\n",
      "</tr>\n",
      "<tr>\n",
      "<td>2005</td>\n",
      "<td><a href=\"profiles/ronaldinho.htm\">Ronaldinho</a></td>\n",
      "<td>Brazil</td>\n",
      "</tr>\n",
      "<tr>\n",
      "<td>2004</td>\n",
      "<td><a href=\"profiles/ronaldinho.htm\">Ronaldinho</a></td>\n",
      "<td>Brazil</td>\n",
      "</tr>\n",
      "<tr>\n",
      "<td>2003</td>\n",
      "<td><a href=\"../../athletes/football-soccer/zidane-zinedine.htm\">Zinedine Zidane</a></td>\n",
      "<td>France</td>\n",
      "</tr>\n",
      "<tr>\n",
      "<td>2002</td>\n",
      "<td><a href=\"../../athletes/football-soccer/ronaldo.htm\">Ronaldo</a></td>\n",
      "<td>Brazil</td>\n",
      "</tr>\n",
      "<tr>\n",
      "<td>2001</td>\n",
      "<td>Luís Figo</td>\n",
      "<td>Portugal</td>\n",
      "</tr>\n",
      "<tr>\n",
      "<td>2000</td>\n",
      "<td><a href=\"../../athletes/football-soccer/zidane-zinedine.htm\">Zinedine Zidane</a></td>\n",
      "<td>France</td>\n",
      "</tr>\n",
      "<tr>\n",
      "<td>1999</td>\n",
      "<td>Rivaldo</td>\n",
      "<td>Brazil</td>\n",
      "</tr>\n",
      "<tr>\n",
      "<td>1998</td>\n",
      "<td><a href=\"../../athletes/football-soccer/zidane-zinedine.htm\">Zinedine Zidane</a></td>\n",
      "<td>France</td>\n",
      "</tr>\n",
      "<tr>\n",
      "<td>1997</td>\n",
      "<td><a href=\"../../athletes/football-soccer/ronaldo.htm\">Ronaldo</a></td>\n",
      "<td>Brazil</td>\n",
      "</tr>\n",
      "<tr>\n",
      "<td>1996</td>\n",
      "<td><a href=\"../../athletes/football-soccer/ronaldo.htm\">Ronaldo</a></td>\n",
      "<td>Brazil</td>\n",
      "</tr>\n",
      "<tr>\n",
      "<td>1995</td>\n",
      "<td>George Weah</td>\n",
      "<td>Liberia</td>\n",
      "</tr>\n",
      "<tr>\n",
      "<td>1994</td>\n",
      "<td>Romário</td>\n",
      "<td>Brazil</td>\n",
      "</tr>\n",
      "<tr>\n",
      "<td>1993</td>\n",
      "<td><a href=\"../../athletes/football-soccer/baggio-roberto.htm\">Roberto Baggio </a></td>\n",
      "<td>Italy</td>\n",
      "</tr>\n",
      "<tr>\n",
      "<td>1992</td>\n",
      "<td><a href=\"../../athletes/football-soccer/basten-marco-van.htm\">Marco van Basten</a></td>\n",
      "<td>Netherlands</td>\n",
      "</tr>\n",
      "<tr>\n",
      "<td>1991</td>\n",
      "<td>Lothar Matthäus</td>\n",
      "<td>Germany</td>\n",
      "</tr>\n",
      "</table>]\n"
     ]
    }
   ],
   "source": [
    "print(soup)"
   ]
  },
  {
   "cell_type": "markdown",
   "metadata": {},
   "source": [
    "##############################"
   ]
  },
  {
   "cell_type": "code",
   "execution_count": 4,
   "metadata": {},
   "outputs": [],
   "source": [
    "#Driver do Chrome para fazer o web scraping\n",
    "driver = webdriver.Chrome(\"webdriver/chromedriver\")\n",
    "driver.get(\"https://mundotop10.com/melhores-jogadores-do-mundo/\")"
   ]
  },
  {
   "cell_type": "code",
   "execution_count": null,
   "metadata": {},
   "outputs": [],
   "source": []
  },
  {
   "cell_type": "code",
   "execution_count": null,
   "metadata": {},
   "outputs": [],
   "source": []
  },
  {
   "cell_type": "code",
   "execution_count": null,
   "metadata": {},
   "outputs": [],
   "source": []
  },
  {
   "cell_type": "markdown",
   "metadata": {},
   "source": [
    "### Referências\n",
    "\n",
    "### Dados\n",
    "### https://www.topendsports.com/sport/soccer/list-player-of-the-year-fifa.htm\n",
    "### https://www.transfermarkt.com.br/erfolge/spielertitel/statistik\n",
    "### https://www.topendsports.com/sport/soccer/list-player-of-the-year-ballondor.htm\n",
    "### https://mundotop10.com/melhores-jogadores-do-mundo/\n",
    "### \n",
    "\n",
    "### Suporte técnico\n",
    "### https://blog.geekhunter.com.br/como-fazer-um-web-scraping-python/\n",
    "### https://towardsdatascience.com/web-scraping-html-tables-with-python-c9baba21059\n",
    "### https://www.freecodecamp.org/news/scraping-wikipedia-articles-with-python/\n",
    "### https://towardsdatascience.com/step-by-step-tutorial-web-scraping-wikipedia-with-beautifulsoup-48d7f2dfa52d\n",
    "### https://www.edureka.co/blog/web-scraping-with-python/"
   ]
  },
  {
   "cell_type": "code",
   "execution_count": null,
   "metadata": {},
   "outputs": [],
   "source": []
  }
 ],
 "metadata": {
  "kernelspec": {
   "display_name": "Python 3",
   "language": "python",
   "name": "python3"
  },
  "language_info": {
   "codemirror_mode": {
    "name": "ipython",
    "version": 3
   },
   "file_extension": ".py",
   "mimetype": "text/x-python",
   "name": "python",
   "nbconvert_exporter": "python",
   "pygments_lexer": "ipython3",
   "version": "3.7.7"
  }
 },
 "nbformat": 4,
 "nbformat_minor": 4
}
