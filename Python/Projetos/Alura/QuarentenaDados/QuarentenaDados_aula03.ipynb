{
  "nbformat": 4,
  "nbformat_minor": 0,
  "metadata": {
    "colab": {
      "name": "QuarentenaDados - aula03",
      "provenance": [],
      "collapsed_sections": []
    },
    "kernelspec": {
      "name": "python3",
      "display_name": "Python 3"
    }
  },
  "cells": [
    {
      "cell_type": "markdown",
      "metadata": {
        "id": "91SEnJ5CcBzL",
        "colab_type": "text"
      },
      "source": [
        "# Introdução\n",
        "\n",
        "Olá, seja bem-vinda e bem-vindo ao notebook da **aula 03**! A partir desta aula iremos analisar e discutir uma base de dados junto com você. Por isso, será **importante que as discussões nos vídeos sejam acompanhadas** para entender todos os processos das análises.\n",
        "\n"
      ]
    },
    {
      "cell_type": "markdown",
      "metadata": {
        "id": "fAEWqh3otA2x",
        "colab_type": "text"
      },
      "source": [
        "Nessa aula utilizaremos uma base totalmente nova, que nós também não conhecíamos até o momento da análise. Você vai acompanhar a exploração e, principalmente, as dificuldades ao analisar uma base de dados desconhecida.\n",
        "\n",
        "Vamos começar importando a nossa base de dados! Nessa aula iremos trabalhar com a IMBD 5000, base que contém uma série de informações sobre filmes, sendo uma pequena amostra da famosa base de dados [IMBD](https://www.imdb.com/)."
      ]
    },
    {
      "cell_type": "code",
      "metadata": {
        "id": "WT2SZi9DtBDu",
        "colab_type": "code",
        "outputId": "5826e714-1c0f-4d0c-894e-da679b5fdcc2",
        "colab": {
          "base_uri": "https://localhost:8080/",
          "height": 452
        }
      },
      "source": [
        "import pandas as pd\n",
        "imdb = pd.read_csv(\"https://gist.githubusercontent.com/guilhermesilveira/24e271e68afe8fd257911217b88b2e07/raw/e70287fb1dcaad4215c3f3c9deda644058a616bc/movie_metadata.csv\")\n",
        "imdb.head()"
      ],
      "execution_count": 0,
      "outputs": [
        {
          "output_type": "execute_result",
          "data": {
            "text/html": [
              "<div>\n",
              "<style scoped>\n",
              "    .dataframe tbody tr th:only-of-type {\n",
              "        vertical-align: middle;\n",
              "    }\n",
              "\n",
              "    .dataframe tbody tr th {\n",
              "        vertical-align: top;\n",
              "    }\n",
              "\n",
              "    .dataframe thead th {\n",
              "        text-align: right;\n",
              "    }\n",
              "</style>\n",
              "<table border=\"1\" class=\"dataframe\">\n",
              "  <thead>\n",
              "    <tr style=\"text-align: right;\">\n",
              "      <th></th>\n",
              "      <th>color</th>\n",
              "      <th>director_name</th>\n",
              "      <th>num_critic_for_reviews</th>\n",
              "      <th>duration</th>\n",
              "      <th>director_facebook_likes</th>\n",
              "      <th>actor_3_facebook_likes</th>\n",
              "      <th>actor_2_name</th>\n",
              "      <th>actor_1_facebook_likes</th>\n",
              "      <th>gross</th>\n",
              "      <th>genres</th>\n",
              "      <th>actor_1_name</th>\n",
              "      <th>movie_title</th>\n",
              "      <th>num_voted_users</th>\n",
              "      <th>cast_total_facebook_likes</th>\n",
              "      <th>actor_3_name</th>\n",
              "      <th>facenumber_in_poster</th>\n",
              "      <th>plot_keywords</th>\n",
              "      <th>movie_imdb_link</th>\n",
              "      <th>num_user_for_reviews</th>\n",
              "      <th>language</th>\n",
              "      <th>country</th>\n",
              "      <th>content_rating</th>\n",
              "      <th>budget</th>\n",
              "      <th>title_year</th>\n",
              "      <th>actor_2_facebook_likes</th>\n",
              "      <th>imdb_score</th>\n",
              "      <th>aspect_ratio</th>\n",
              "      <th>movie_facebook_likes</th>\n",
              "    </tr>\n",
              "  </thead>\n",
              "  <tbody>\n",
              "    <tr>\n",
              "      <th>0</th>\n",
              "      <td>Color</td>\n",
              "      <td>James Cameron</td>\n",
              "      <td>723.0</td>\n",
              "      <td>178.0</td>\n",
              "      <td>0.0</td>\n",
              "      <td>855.0</td>\n",
              "      <td>Joel David Moore</td>\n",
              "      <td>1000.0</td>\n",
              "      <td>760505847.0</td>\n",
              "      <td>Action|Adventure|Fantasy|Sci-Fi</td>\n",
              "      <td>CCH Pounder</td>\n",
              "      <td>Avatar</td>\n",
              "      <td>886204</td>\n",
              "      <td>4834</td>\n",
              "      <td>Wes Studi</td>\n",
              "      <td>0.0</td>\n",
              "      <td>avatar|future|marine|native|paraplegic</td>\n",
              "      <td>http://www.imdb.com/title/tt0499549/?ref_=fn_t...</td>\n",
              "      <td>3054.0</td>\n",
              "      <td>English</td>\n",
              "      <td>USA</td>\n",
              "      <td>PG-13</td>\n",
              "      <td>237000000.0</td>\n",
              "      <td>2009.0</td>\n",
              "      <td>936.0</td>\n",
              "      <td>7.9</td>\n",
              "      <td>1.78</td>\n",
              "      <td>33000</td>\n",
              "    </tr>\n",
              "    <tr>\n",
              "      <th>1</th>\n",
              "      <td>Color</td>\n",
              "      <td>Gore Verbinski</td>\n",
              "      <td>302.0</td>\n",
              "      <td>169.0</td>\n",
              "      <td>563.0</td>\n",
              "      <td>1000.0</td>\n",
              "      <td>Orlando Bloom</td>\n",
              "      <td>40000.0</td>\n",
              "      <td>309404152.0</td>\n",
              "      <td>Action|Adventure|Fantasy</td>\n",
              "      <td>Johnny Depp</td>\n",
              "      <td>Pirates of the Caribbean: At World's End</td>\n",
              "      <td>471220</td>\n",
              "      <td>48350</td>\n",
              "      <td>Jack Davenport</td>\n",
              "      <td>0.0</td>\n",
              "      <td>goddess|marriage ceremony|marriage proposal|pi...</td>\n",
              "      <td>http://www.imdb.com/title/tt0449088/?ref_=fn_t...</td>\n",
              "      <td>1238.0</td>\n",
              "      <td>English</td>\n",
              "      <td>USA</td>\n",
              "      <td>PG-13</td>\n",
              "      <td>300000000.0</td>\n",
              "      <td>2007.0</td>\n",
              "      <td>5000.0</td>\n",
              "      <td>7.1</td>\n",
              "      <td>2.35</td>\n",
              "      <td>0</td>\n",
              "    </tr>\n",
              "    <tr>\n",
              "      <th>2</th>\n",
              "      <td>Color</td>\n",
              "      <td>Sam Mendes</td>\n",
              "      <td>602.0</td>\n",
              "      <td>148.0</td>\n",
              "      <td>0.0</td>\n",
              "      <td>161.0</td>\n",
              "      <td>Rory Kinnear</td>\n",
              "      <td>11000.0</td>\n",
              "      <td>200074175.0</td>\n",
              "      <td>Action|Adventure|Thriller</td>\n",
              "      <td>Christoph Waltz</td>\n",
              "      <td>Spectre</td>\n",
              "      <td>275868</td>\n",
              "      <td>11700</td>\n",
              "      <td>Stephanie Sigman</td>\n",
              "      <td>1.0</td>\n",
              "      <td>bomb|espionage|sequel|spy|terrorist</td>\n",
              "      <td>http://www.imdb.com/title/tt2379713/?ref_=fn_t...</td>\n",
              "      <td>994.0</td>\n",
              "      <td>English</td>\n",
              "      <td>UK</td>\n",
              "      <td>PG-13</td>\n",
              "      <td>245000000.0</td>\n",
              "      <td>2015.0</td>\n",
              "      <td>393.0</td>\n",
              "      <td>6.8</td>\n",
              "      <td>2.35</td>\n",
              "      <td>85000</td>\n",
              "    </tr>\n",
              "    <tr>\n",
              "      <th>3</th>\n",
              "      <td>Color</td>\n",
              "      <td>Christopher Nolan</td>\n",
              "      <td>813.0</td>\n",
              "      <td>164.0</td>\n",
              "      <td>22000.0</td>\n",
              "      <td>23000.0</td>\n",
              "      <td>Christian Bale</td>\n",
              "      <td>27000.0</td>\n",
              "      <td>448130642.0</td>\n",
              "      <td>Action|Thriller</td>\n",
              "      <td>Tom Hardy</td>\n",
              "      <td>The Dark Knight Rises</td>\n",
              "      <td>1144337</td>\n",
              "      <td>106759</td>\n",
              "      <td>Joseph Gordon-Levitt</td>\n",
              "      <td>0.0</td>\n",
              "      <td>deception|imprisonment|lawlessness|police offi...</td>\n",
              "      <td>http://www.imdb.com/title/tt1345836/?ref_=fn_t...</td>\n",
              "      <td>2701.0</td>\n",
              "      <td>English</td>\n",
              "      <td>USA</td>\n",
              "      <td>PG-13</td>\n",
              "      <td>250000000.0</td>\n",
              "      <td>2012.0</td>\n",
              "      <td>23000.0</td>\n",
              "      <td>8.5</td>\n",
              "      <td>2.35</td>\n",
              "      <td>164000</td>\n",
              "    </tr>\n",
              "    <tr>\n",
              "      <th>4</th>\n",
              "      <td>NaN</td>\n",
              "      <td>Doug Walker</td>\n",
              "      <td>NaN</td>\n",
              "      <td>NaN</td>\n",
              "      <td>131.0</td>\n",
              "      <td>NaN</td>\n",
              "      <td>Rob Walker</td>\n",
              "      <td>131.0</td>\n",
              "      <td>NaN</td>\n",
              "      <td>Documentary</td>\n",
              "      <td>Doug Walker</td>\n",
              "      <td>Star Wars: Episode VII - The Force Awakens    ...</td>\n",
              "      <td>8</td>\n",
              "      <td>143</td>\n",
              "      <td>NaN</td>\n",
              "      <td>0.0</td>\n",
              "      <td>NaN</td>\n",
              "      <td>http://www.imdb.com/title/tt5289954/?ref_=fn_t...</td>\n",
              "      <td>NaN</td>\n",
              "      <td>NaN</td>\n",
              "      <td>NaN</td>\n",
              "      <td>NaN</td>\n",
              "      <td>NaN</td>\n",
              "      <td>NaN</td>\n",
              "      <td>12.0</td>\n",
              "      <td>7.1</td>\n",
              "      <td>NaN</td>\n",
              "      <td>0</td>\n",
              "    </tr>\n",
              "  </tbody>\n",
              "</table>\n",
              "</div>"
            ],
            "text/plain": [
              "   color      director_name  ...  aspect_ratio  movie_facebook_likes\n",
              "0  Color      James Cameron  ...          1.78                 33000\n",
              "1  Color     Gore Verbinski  ...          2.35                     0\n",
              "2  Color         Sam Mendes  ...          2.35                 85000\n",
              "3  Color  Christopher Nolan  ...          2.35                164000\n",
              "4    NaN        Doug Walker  ...           NaN                     0\n",
              "\n",
              "[5 rows x 28 columns]"
            ]
          },
          "metadata": {
            "tags": []
          },
          "execution_count": 2
        }
      ]
    },
    {
      "cell_type": "markdown",
      "metadata": {
        "id": "5ql55hUatBYQ",
        "colab_type": "text"
      },
      "source": [
        "Como você acompanhou, iniciamos a aula tentando conhecer as diversas colunas de cada filme e uma das que chamou mais a atenção foi a color. Vamos conhecer quais valores temos nesta colunas?!"
      ]
    },
    {
      "cell_type": "code",
      "metadata": {
        "id": "VWUFrQnOtBh4",
        "colab_type": "code",
        "outputId": "dfab36b8-fe00-4cde-8bf1-2f789cc64266",
        "colab": {
          "base_uri": "https://localhost:8080/",
          "height": 34
        }
      },
      "source": [
        "imdb[\"color\"].unique()"
      ],
      "execution_count": 0,
      "outputs": [
        {
          "output_type": "execute_result",
          "data": {
            "text/plain": [
              "array(['Color', nan, ' Black and White'], dtype=object)"
            ]
          },
          "metadata": {
            "tags": []
          },
          "execution_count": 3
        }
      ]
    },
    {
      "cell_type": "markdown",
      "metadata": {
        "id": "AQTY8dPEtBsY",
        "colab_type": "text"
      },
      "source": [
        "Verificamos que essa coluna **color** informa se o filme é colorido ou é preto e branco. Vamos descobrir agora quantos filmes de cada tipo nós temos:"
      ]
    },
    {
      "cell_type": "code",
      "metadata": {
        "id": "yOj4OOvZtB1x",
        "colab_type": "code",
        "outputId": "441aab0e-bafc-4ad9-d193-3bab0f39d4f1",
        "colab": {
          "base_uri": "https://localhost:8080/",
          "height": 69
        }
      },
      "source": [
        "imdb[\"color\"].value_counts()"
      ],
      "execution_count": 0,
      "outputs": [
        {
          "output_type": "execute_result",
          "data": {
            "text/plain": [
              "Color               4815\n",
              " Black and White     209\n",
              "Name: color, dtype: int64"
            ]
          },
          "metadata": {
            "tags": []
          },
          "execution_count": 4
        }
      ]
    },
    {
      "cell_type": "code",
      "metadata": {
        "id": "cNfbYSOytCFT",
        "colab_type": "code",
        "outputId": "74f4cb80-6882-483a-a140-3e867521598a",
        "colab": {
          "base_uri": "https://localhost:8080/",
          "height": 69
        }
      },
      "source": [
        "imdb[\"color\"].value_counts(normalize=True)"
      ],
      "execution_count": 0,
      "outputs": [
        {
          "output_type": "execute_result",
          "data": {
            "text/plain": [
              "Color               0.9584\n",
              " Black and White    0.0416\n",
              "Name: color, dtype: float64"
            ]
          },
          "metadata": {
            "tags": []
          },
          "execution_count": 5
        }
      ]
    },
    {
      "cell_type": "markdown",
      "metadata": {
        "id": "3tePSIE3tB-B",
        "colab_type": "text"
      },
      "source": [
        "Agora já descobrimos quantos filmes coloridos e preto e branco temos, e também sabemos que há mais de 5000 filmes na base. Fizemos algo novo, que foi chamar o `value_counts()`, passando o parâmetro **normalize como True**. Desse modo, já calculamos qual é a participação de cada um dos tipos de filmes (**95% são filmes coloridos**).\n",
        "\n",
        "Excelente! Agora vamos explorar outra coluna a fim de conhecer os diretores que tem mais filmes na nossa base de dados (**lembrando que nossa base é uma amostra muito pequena da realidade**)"
      ]
    },
    {
      "cell_type": "code",
      "metadata": {
        "id": "44ws5xEp2u4j",
        "colab_type": "code",
        "outputId": "dc014782-88eb-434c-ceed-c36e900e688b",
        "colab": {
          "base_uri": "https://localhost:8080/",
          "height": 225
        }
      },
      "source": [
        "imdb[\"director_name\"].value_counts()"
      ],
      "execution_count": 0,
      "outputs": [
        {
          "output_type": "execute_result",
          "data": {
            "text/plain": [
              "Steven Spielberg           26\n",
              "Woody Allen                22\n",
              "Clint Eastwood             20\n",
              "Martin Scorsese            20\n",
              "Ridley Scott               17\n",
              "                           ..\n",
              "Rick de Oliveira            1\n",
              "Kevin Tenney                1\n",
              "John Gulager                1\n",
              "William Arntz               1\n",
              "Fernando León de Aranoa     1\n",
              "Name: director_name, Length: 2398, dtype: int64"
            ]
          },
          "metadata": {
            "tags": []
          },
          "execution_count": 6
        }
      ]
    },
    {
      "cell_type": "markdown",
      "metadata": {
        "id": "mOPRwR2RtCOU",
        "colab_type": "text"
      },
      "source": [
        "**Steven Spielberg e Woody Allen** são os diretores com mais filmes no **IMDB 5000**.\n",
        "\n",
        "Continuando com nossa exploração de algumas informações, vamos olhar para o número de críticas por filmes."
      ]
    },
    {
      "cell_type": "code",
      "metadata": {
        "id": "cRLiIyZ_2taf",
        "colab_type": "code",
        "outputId": "f43ec5b4-bb18-44a1-b4d9-4bd52ccbec7f",
        "colab": {
          "base_uri": "https://localhost:8080/",
          "height": 225
        }
      },
      "source": [
        "imdb[\"num_critic_for_reviews\"]"
      ],
      "execution_count": 0,
      "outputs": [
        {
          "output_type": "execute_result",
          "data": {
            "text/plain": [
              "0       723.0\n",
              "1       302.0\n",
              "2       602.0\n",
              "3       813.0\n",
              "4         NaN\n",
              "        ...  \n",
              "5038      1.0\n",
              "5039     43.0\n",
              "5040     13.0\n",
              "5041     14.0\n",
              "5042     43.0\n",
              "Name: num_critic_for_reviews, Length: 5043, dtype: float64"
            ]
          },
          "metadata": {
            "tags": []
          },
          "execution_count": 7
        }
      ]
    },
    {
      "cell_type": "code",
      "metadata": {
        "id": "5Ay0zINatCXy",
        "colab_type": "code",
        "outputId": "8c3ce17f-988d-4278-ef9c-6463a4da91af",
        "colab": {
          "base_uri": "https://localhost:8080/",
          "height": 173
        }
      },
      "source": [
        "imdb[\"num_critic_for_reviews\"].describe()"
      ],
      "execution_count": 0,
      "outputs": [
        {
          "output_type": "execute_result",
          "data": {
            "text/plain": [
              "count    4993.000000\n",
              "mean      140.194272\n",
              "std       121.601675\n",
              "min         1.000000\n",
              "25%        50.000000\n",
              "50%       110.000000\n",
              "75%       195.000000\n",
              "max       813.000000\n",
              "Name: num_critic_for_reviews, dtype: float64"
            ]
          },
          "metadata": {
            "tags": []
          },
          "execution_count": 8
        }
      ]
    },
    {
      "cell_type": "markdown",
      "metadata": {
        "id": "54vyj1tbtCgp",
        "colab_type": "text"
      },
      "source": [
        "Veja que as colunas **color** e **director_name** são *strings*, não fazendo sentido olhar para médias, medianas e afins. Olhar para o número de avaliações já pode ser interessante, por isso usamos o `.describe()`.\n",
        "\n",
        "Agora podemos até plotar um histograma para avaliar o número de review."
      ]
    },
    {
      "cell_type": "code",
      "metadata": {
        "id": "IkXcdji3tCpb",
        "colab_type": "code",
        "outputId": "b4a60bf4-b620-48b5-de13-4409b059d5f5",
        "colab": {
          "base_uri": "https://localhost:8080/",
          "height": 337
        }
      },
      "source": [
        "import seaborn as sns\n",
        "sns.set_style(\"whitegrid\")\n",
        "imdb[\"num_critic_for_reviews\"].plot(kind='hist')"
      ],
      "execution_count": 0,
      "outputs": [
        {
          "output_type": "stream",
          "text": [
            "/usr/local/lib/python3.6/dist-packages/statsmodels/tools/_testing.py:19: FutureWarning: pandas.util.testing is deprecated. Use the functions in the public API at pandas.testing instead.\n",
            "  import pandas.util.testing as tm\n"
          ],
          "name": "stderr"
        },
        {
          "output_type": "execute_result",
          "data": {
            "text/plain": [
              "<matplotlib.axes._subplots.AxesSubplot at 0x7fc047656be0>"
            ]
          },
          "metadata": {
            "tags": []
          },
          "execution_count": 10
        },
        {
          "output_type": "display_data",
          "data": {
            "image/png": "[encoded data removed]",
            "text/plain": [
              "<Figure size 432x288 with 1 Axes>"
            ]
          },
          "metadata": {
            "tags": []
          }
        }
      ]
    },
    {
      "cell_type": "markdown",
      "metadata": {
        "id": "qPG3UroitCyB",
        "colab_type": "text"
      },
      "source": [
        "Verificamos que poucos filmes tem mais de 500 votos, por isso um paralelo que podemos fazer é que filmes com muitos votos são mais populares e filmes com poucos votos não são tão populares. Logo, pelo histograma fica evidente que poucos filmes fazem muito muito sucesso. Claro que não conseguimos afirmar isso com propriedade, pois, novamente, estamos lidando com um número restrito de dados, mas são pontos interessantes de se pensar.\n",
        "\n",
        "Outra informação interessante de se analisar, são os orçamentos e receitas de um filme, ou seja o aspecto financeiro. Vamos começar pelo gross:"
      ]
    },
    {
      "cell_type": "code",
      "metadata": {
        "id": "Sqw7Feg4tC7X",
        "colab_type": "code",
        "outputId": "214a73a7-930a-4fe1-ab2d-055019d45d36",
        "colab": {
          "base_uri": "https://localhost:8080/",
          "height": 299
        }
      },
      "source": [
        "imdb[\"gross\"].hist()"
      ],
      "execution_count": 0,
      "outputs": [
        {
          "output_type": "execute_result",
          "data": {
            "text/plain": [
              "<matplotlib.axes._subplots.AxesSubplot at 0x7fc04757bf28>"
            ]
          },
          "metadata": {
            "tags": []
          },
          "execution_count": 11
        },
        {
          "output_type": "display_data",
          "data": {
            "image/png": "[encoded data removed]",
            "text/plain": [
              "<Figure size 432x288 with 1 Axes>"
            ]
          },
          "metadata": {
            "tags": []
          }
        }
      ]
    },
    {
      "cell_type": "markdown",
      "metadata": {
        "id": "Ixd4uZ3JtDUv",
        "colab_type": "text"
      },
      "source": [
        " Como você deve ter reparado, essa é a primeira vez que as escalas estão totalmente diferentes, pois no eixo **X** temos valores tão altos que a escala teve que ser de centena de milhões. Veja como pouquíssimos filmes tem **alto faturamento**, o que nos acende um primeiro alerta de que tem algo estranho (ou temos filmes que rendem muito dinheiro neste dataset).\n",
        "\n",
        " Vamos tentar conhecer quais são esses filmes com faturamento astronômico.\n"
      ]
    },
    {
      "cell_type": "code",
      "metadata": {
        "id": "hZlDv9bkAauh",
        "colab_type": "code",
        "outputId": "559fd4ab-5d77-45a9-ef1c-cdf483d3f815",
        "colab": {
          "base_uri": "https://localhost:8080/",
          "height": 400
        }
      },
      "source": [
        "imdb.sort_values(\"gross\", ascending=False).head()"
      ],
      "execution_count": 0,
      "outputs": [
        {
          "output_type": "execute_result",
          "data": {
            "text/html": [
              "<div>\n",
              "<style scoped>\n",
              "    .dataframe tbody tr th:only-of-type {\n",
              "        vertical-align: middle;\n",
              "    }\n",
              "\n",
              "    .dataframe tbody tr th {\n",
              "        vertical-align: top;\n",
              "    }\n",
              "\n",
              "    .dataframe thead th {\n",
              "        text-align: right;\n",
              "    }\n",
              "</style>\n",
              "<table border=\"1\" class=\"dataframe\">\n",
              "  <thead>\n",
              "    <tr style=\"text-align: right;\">\n",
              "      <th></th>\n",
              "      <th>color</th>\n",
              "      <th>director_name</th>\n",
              "      <th>num_critic_for_reviews</th>\n",
              "      <th>duration</th>\n",
              "      <th>director_facebook_likes</th>\n",
              "      <th>actor_3_facebook_likes</th>\n",
              "      <th>actor_2_name</th>\n",
              "      <th>actor_1_facebook_likes</th>\n",
              "      <th>gross</th>\n",
              "      <th>genres</th>\n",
              "      <th>actor_1_name</th>\n",
              "      <th>movie_title</th>\n",
              "      <th>num_voted_users</th>\n",
              "      <th>cast_total_facebook_likes</th>\n",
              "      <th>actor_3_name</th>\n",
              "      <th>facenumber_in_poster</th>\n",
              "      <th>plot_keywords</th>\n",
              "      <th>movie_imdb_link</th>\n",
              "      <th>num_user_for_reviews</th>\n",
              "      <th>language</th>\n",
              "      <th>country</th>\n",
              "      <th>content_rating</th>\n",
              "      <th>budget</th>\n",
              "      <th>title_year</th>\n",
              "      <th>actor_2_facebook_likes</th>\n",
              "      <th>imdb_score</th>\n",
              "      <th>aspect_ratio</th>\n",
              "      <th>movie_facebook_likes</th>\n",
              "    </tr>\n",
              "  </thead>\n",
              "  <tbody>\n",
              "    <tr>\n",
              "      <th>0</th>\n",
              "      <td>Color</td>\n",
              "      <td>James Cameron</td>\n",
              "      <td>723.0</td>\n",
              "      <td>178.0</td>\n",
              "      <td>0.0</td>\n",
              "      <td>855.0</td>\n",
              "      <td>Joel David Moore</td>\n",
              "      <td>1000.0</td>\n",
              "      <td>760505847.0</td>\n",
              "      <td>Action|Adventure|Fantasy|Sci-Fi</td>\n",
              "      <td>CCH Pounder</td>\n",
              "      <td>Avatar</td>\n",
              "      <td>886204</td>\n",
              "      <td>4834</td>\n",
              "      <td>Wes Studi</td>\n",
              "      <td>0.0</td>\n",
              "      <td>avatar|future|marine|native|paraplegic</td>\n",
              "      <td>http://www.imdb.com/title/tt0499549/?ref_=fn_t...</td>\n",
              "      <td>3054.0</td>\n",
              "      <td>English</td>\n",
              "      <td>USA</td>\n",
              "      <td>PG-13</td>\n",
              "      <td>237000000.0</td>\n",
              "      <td>2009.0</td>\n",
              "      <td>936.0</td>\n",
              "      <td>7.9</td>\n",
              "      <td>1.78</td>\n",
              "      <td>33000</td>\n",
              "    </tr>\n",
              "    <tr>\n",
              "      <th>26</th>\n",
              "      <td>Color</td>\n",
              "      <td>James Cameron</td>\n",
              "      <td>315.0</td>\n",
              "      <td>194.0</td>\n",
              "      <td>0.0</td>\n",
              "      <td>794.0</td>\n",
              "      <td>Kate Winslet</td>\n",
              "      <td>29000.0</td>\n",
              "      <td>658672302.0</td>\n",
              "      <td>Drama|Romance</td>\n",
              "      <td>Leonardo DiCaprio</td>\n",
              "      <td>Titanic</td>\n",
              "      <td>793059</td>\n",
              "      <td>45223</td>\n",
              "      <td>Gloria Stuart</td>\n",
              "      <td>0.0</td>\n",
              "      <td>artist|love|ship|titanic|wet</td>\n",
              "      <td>http://www.imdb.com/title/tt0120338/?ref_=fn_t...</td>\n",
              "      <td>2528.0</td>\n",
              "      <td>English</td>\n",
              "      <td>USA</td>\n",
              "      <td>PG-13</td>\n",
              "      <td>200000000.0</td>\n",
              "      <td>1997.0</td>\n",
              "      <td>14000.0</td>\n",
              "      <td>7.7</td>\n",
              "      <td>2.35</td>\n",
              "      <td>26000</td>\n",
              "    </tr>\n",
              "    <tr>\n",
              "      <th>29</th>\n",
              "      <td>Color</td>\n",
              "      <td>Colin Trevorrow</td>\n",
              "      <td>644.0</td>\n",
              "      <td>124.0</td>\n",
              "      <td>365.0</td>\n",
              "      <td>1000.0</td>\n",
              "      <td>Judy Greer</td>\n",
              "      <td>3000.0</td>\n",
              "      <td>652177271.0</td>\n",
              "      <td>Action|Adventure|Sci-Fi|Thriller</td>\n",
              "      <td>Bryce Dallas Howard</td>\n",
              "      <td>Jurassic World</td>\n",
              "      <td>418214</td>\n",
              "      <td>8458</td>\n",
              "      <td>Omar Sy</td>\n",
              "      <td>0.0</td>\n",
              "      <td>dinosaur|disaster film|experiment gone wrong|j...</td>\n",
              "      <td>http://www.imdb.com/title/tt0369610/?ref_=fn_t...</td>\n",
              "      <td>1290.0</td>\n",
              "      <td>English</td>\n",
              "      <td>USA</td>\n",
              "      <td>PG-13</td>\n",
              "      <td>150000000.0</td>\n",
              "      <td>2015.0</td>\n",
              "      <td>2000.0</td>\n",
              "      <td>7.0</td>\n",
              "      <td>2.00</td>\n",
              "      <td>150000</td>\n",
              "    </tr>\n",
              "    <tr>\n",
              "      <th>794</th>\n",
              "      <td>Color</td>\n",
              "      <td>Joss Whedon</td>\n",
              "      <td>703.0</td>\n",
              "      <td>173.0</td>\n",
              "      <td>0.0</td>\n",
              "      <td>19000.0</td>\n",
              "      <td>Robert Downey Jr.</td>\n",
              "      <td>26000.0</td>\n",
              "      <td>623279547.0</td>\n",
              "      <td>Action|Adventure|Sci-Fi</td>\n",
              "      <td>Chris Hemsworth</td>\n",
              "      <td>The Avengers</td>\n",
              "      <td>995415</td>\n",
              "      <td>87697</td>\n",
              "      <td>Scarlett Johansson</td>\n",
              "      <td>3.0</td>\n",
              "      <td>alien invasion|assassin|battle|iron man|soldier</td>\n",
              "      <td>http://www.imdb.com/title/tt0848228/?ref_=fn_t...</td>\n",
              "      <td>1722.0</td>\n",
              "      <td>English</td>\n",
              "      <td>USA</td>\n",
              "      <td>PG-13</td>\n",
              "      <td>220000000.0</td>\n",
              "      <td>2012.0</td>\n",
              "      <td>21000.0</td>\n",
              "      <td>8.1</td>\n",
              "      <td>1.85</td>\n",
              "      <td>123000</td>\n",
              "    </tr>\n",
              "    <tr>\n",
              "      <th>17</th>\n",
              "      <td>Color</td>\n",
              "      <td>Joss Whedon</td>\n",
              "      <td>703.0</td>\n",
              "      <td>173.0</td>\n",
              "      <td>0.0</td>\n",
              "      <td>19000.0</td>\n",
              "      <td>Robert Downey Jr.</td>\n",
              "      <td>26000.0</td>\n",
              "      <td>623279547.0</td>\n",
              "      <td>Action|Adventure|Sci-Fi</td>\n",
              "      <td>Chris Hemsworth</td>\n",
              "      <td>The Avengers</td>\n",
              "      <td>995415</td>\n",
              "      <td>87697</td>\n",
              "      <td>Scarlett Johansson</td>\n",
              "      <td>3.0</td>\n",
              "      <td>alien invasion|assassin|battle|iron man|soldier</td>\n",
              "      <td>http://www.imdb.com/title/tt0848228/?ref_=fn_t...</td>\n",
              "      <td>1722.0</td>\n",
              "      <td>English</td>\n",
              "      <td>USA</td>\n",
              "      <td>PG-13</td>\n",
              "      <td>220000000.0</td>\n",
              "      <td>2012.0</td>\n",
              "      <td>21000.0</td>\n",
              "      <td>8.1</td>\n",
              "      <td>1.85</td>\n",
              "      <td>123000</td>\n",
              "    </tr>\n",
              "  </tbody>\n",
              "</table>\n",
              "</div>"
            ],
            "text/plain": [
              "     color    director_name  ...  aspect_ratio  movie_facebook_likes\n",
              "0    Color    James Cameron  ...          1.78                 33000\n",
              "26   Color    James Cameron  ...          2.35                 26000\n",
              "29   Color  Colin Trevorrow  ...          2.00                150000\n",
              "794  Color      Joss Whedon  ...          1.85                123000\n",
              "17   Color      Joss Whedon  ...          1.85                123000\n",
              "\n",
              "[5 rows x 28 columns]"
            ]
          },
          "metadata": {
            "tags": []
          },
          "execution_count": 15
        }
      ]
    },
    {
      "cell_type": "markdown",
      "metadata": {
        "id": "z0by1SZgAbIB",
        "colab_type": "text"
      },
      "source": [
        "Nessa lista temos **Avatar, Titanic, Jurassic World e The Avengers**, o que parece fazer sentido para nós, pois sabemos que esses foram filmes com bilheterias gigantescas. Analisando esses dados conseguimos verificar que os maiores faturamentos fazem sentido, mas encontramos um problema nos dados, dado que encontramos duas linhas diplicadas. Podemos usar o pandas para remover esses dados, mas por enquanto vamos manter todas as informações (Se estiver curioso em saber como se faz, consulte o [`.drop_duplicates()`](https://pandas.pydata.org/pandas-docs/stable/reference/api/pandas.DataFrame.drop_duplicates.html)).\n",
        "\n",
        "Maravilha, agora temos o faturamento e parece estar OK. Queremos começar a responder algumas perguntas e uma delas é: será que filmes coloridos tem faturamento maior que filmes preto e branco?\n",
        "\n",
        "Para começar a responder essa pergunta precisamos transformar a coluna Color:"
      ]
    },
    {
      "cell_type": "code",
      "metadata": {
        "id": "0ssuNexzAbUt",
        "colab_type": "code",
        "outputId": "622cc104-8d34-49ac-bd0e-367401f38c55",
        "colab": {
          "base_uri": "https://localhost:8080/",
          "height": 173
        }
      },
      "source": [
        "color_or_bw = imdb.query(\"color in ['Color', ' Black and White']\")\n",
        "color_or_bw[\"color_0_ou_1\"] = (color_or_bw[\"color\"]==\"Color\") * 1\n",
        "color_or_bw[\"color_0_ou_1\"].value_counts()"
      ],
      "execution_count": 0,
      "outputs": [
        {
          "output_type": "stream",
          "text": [
            "/usr/local/lib/python3.6/dist-packages/ipykernel_launcher.py:2: SettingWithCopyWarning: \n",
            "A value is trying to be set on a copy of a slice from a DataFrame.\n",
            "Try using .loc[row_indexer,col_indexer] = value instead\n",
            "\n",
            "See the caveats in the documentation: https://pandas.pydata.org/pandas-docs/stable/user_guide/indexing.html#returning-a-view-versus-a-copy\n",
            "  \n"
          ],
          "name": "stderr"
        },
        {
          "output_type": "execute_result",
          "data": {
            "text/plain": [
              "1    4815\n",
              "0     209\n",
              "Name: color_0_ou_1, dtype: int64"
            ]
          },
          "metadata": {
            "tags": []
          },
          "execution_count": 19
        }
      ]
    },
    {
      "cell_type": "code",
      "metadata": {
        "id": "mLB1JvfHAb8g",
        "colab_type": "code",
        "outputId": "eb3c1d8e-e563-4945-846f-2926e5c59ebc",
        "colab": {
          "base_uri": "https://localhost:8080/",
          "height": 435
        }
      },
      "source": [
        "color_or_bw.head()"
      ],
      "execution_count": 0,
      "outputs": [
        {
          "output_type": "execute_result",
          "data": {
            "text/html": [
              "<div>\n",
              "<style scoped>\n",
              "    .dataframe tbody tr th:only-of-type {\n",
              "        vertical-align: middle;\n",
              "    }\n",
              "\n",
              "    .dataframe tbody tr th {\n",
              "        vertical-align: top;\n",
              "    }\n",
              "\n",
              "    .dataframe thead th {\n",
              "        text-align: right;\n",
              "    }\n",
              "</style>\n",
              "<table border=\"1\" class=\"dataframe\">\n",
              "  <thead>\n",
              "    <tr style=\"text-align: right;\">\n",
              "      <th></th>\n",
              "      <th>color</th>\n",
              "      <th>director_name</th>\n",
              "      <th>num_critic_for_reviews</th>\n",
              "      <th>duration</th>\n",
              "      <th>director_facebook_likes</th>\n",
              "      <th>actor_3_facebook_likes</th>\n",
              "      <th>actor_2_name</th>\n",
              "      <th>actor_1_facebook_likes</th>\n",
              "      <th>gross</th>\n",
              "      <th>genres</th>\n",
              "      <th>actor_1_name</th>\n",
              "      <th>movie_title</th>\n",
              "      <th>num_voted_users</th>\n",
              "      <th>cast_total_facebook_likes</th>\n",
              "      <th>actor_3_name</th>\n",
              "      <th>facenumber_in_poster</th>\n",
              "      <th>plot_keywords</th>\n",
              "      <th>movie_imdb_link</th>\n",
              "      <th>num_user_for_reviews</th>\n",
              "      <th>language</th>\n",
              "      <th>country</th>\n",
              "      <th>content_rating</th>\n",
              "      <th>budget</th>\n",
              "      <th>title_year</th>\n",
              "      <th>actor_2_facebook_likes</th>\n",
              "      <th>imdb_score</th>\n",
              "      <th>aspect_ratio</th>\n",
              "      <th>movie_facebook_likes</th>\n",
              "      <th>color_0_ou_1</th>\n",
              "    </tr>\n",
              "  </thead>\n",
              "  <tbody>\n",
              "    <tr>\n",
              "      <th>0</th>\n",
              "      <td>Color</td>\n",
              "      <td>James Cameron</td>\n",
              "      <td>723.0</td>\n",
              "      <td>178.0</td>\n",
              "      <td>0.0</td>\n",
              "      <td>855.0</td>\n",
              "      <td>Joel David Moore</td>\n",
              "      <td>1000.0</td>\n",
              "      <td>760505847.0</td>\n",
              "      <td>Action|Adventure|Fantasy|Sci-Fi</td>\n",
              "      <td>CCH Pounder</td>\n",
              "      <td>Avatar</td>\n",
              "      <td>886204</td>\n",
              "      <td>4834</td>\n",
              "      <td>Wes Studi</td>\n",
              "      <td>0.0</td>\n",
              "      <td>avatar|future|marine|native|paraplegic</td>\n",
              "      <td>http://www.imdb.com/title/tt0499549/?ref_=fn_t...</td>\n",
              "      <td>3054.0</td>\n",
              "      <td>English</td>\n",
              "      <td>USA</td>\n",
              "      <td>PG-13</td>\n",
              "      <td>237000000.0</td>\n",
              "      <td>2009.0</td>\n",
              "      <td>936.0</td>\n",
              "      <td>7.9</td>\n",
              "      <td>1.78</td>\n",
              "      <td>33000</td>\n",
              "      <td>1</td>\n",
              "    </tr>\n",
              "    <tr>\n",
              "      <th>1</th>\n",
              "      <td>Color</td>\n",
              "      <td>Gore Verbinski</td>\n",
              "      <td>302.0</td>\n",
              "      <td>169.0</td>\n",
              "      <td>563.0</td>\n",
              "      <td>1000.0</td>\n",
              "      <td>Orlando Bloom</td>\n",
              "      <td>40000.0</td>\n",
              "      <td>309404152.0</td>\n",
              "      <td>Action|Adventure|Fantasy</td>\n",
              "      <td>Johnny Depp</td>\n",
              "      <td>Pirates of the Caribbean: At World's End</td>\n",
              "      <td>471220</td>\n",
              "      <td>48350</td>\n",
              "      <td>Jack Davenport</td>\n",
              "      <td>0.0</td>\n",
              "      <td>goddess|marriage ceremony|marriage proposal|pi...</td>\n",
              "      <td>http://www.imdb.com/title/tt0449088/?ref_=fn_t...</td>\n",
              "      <td>1238.0</td>\n",
              "      <td>English</td>\n",
              "      <td>USA</td>\n",
              "      <td>PG-13</td>\n",
              "      <td>300000000.0</td>\n",
              "      <td>2007.0</td>\n",
              "      <td>5000.0</td>\n",
              "      <td>7.1</td>\n",
              "      <td>2.35</td>\n",
              "      <td>0</td>\n",
              "      <td>1</td>\n",
              "    </tr>\n",
              "    <tr>\n",
              "      <th>2</th>\n",
              "      <td>Color</td>\n",
              "      <td>Sam Mendes</td>\n",
              "      <td>602.0</td>\n",
              "      <td>148.0</td>\n",
              "      <td>0.0</td>\n",
              "      <td>161.0</td>\n",
              "      <td>Rory Kinnear</td>\n",
              "      <td>11000.0</td>\n",
              "      <td>200074175.0</td>\n",
              "      <td>Action|Adventure|Thriller</td>\n",
              "      <td>Christoph Waltz</td>\n",
              "      <td>Spectre</td>\n",
              "      <td>275868</td>\n",
              "      <td>11700</td>\n",
              "      <td>Stephanie Sigman</td>\n",
              "      <td>1.0</td>\n",
              "      <td>bomb|espionage|sequel|spy|terrorist</td>\n",
              "      <td>http://www.imdb.com/title/tt2379713/?ref_=fn_t...</td>\n",
              "      <td>994.0</td>\n",
              "      <td>English</td>\n",
              "      <td>UK</td>\n",
              "      <td>PG-13</td>\n",
              "      <td>245000000.0</td>\n",
              "      <td>2015.0</td>\n",
              "      <td>393.0</td>\n",
              "      <td>6.8</td>\n",
              "      <td>2.35</td>\n",
              "      <td>85000</td>\n",
              "      <td>1</td>\n",
              "    </tr>\n",
              "    <tr>\n",
              "      <th>3</th>\n",
              "      <td>Color</td>\n",
              "      <td>Christopher Nolan</td>\n",
              "      <td>813.0</td>\n",
              "      <td>164.0</td>\n",
              "      <td>22000.0</td>\n",
              "      <td>23000.0</td>\n",
              "      <td>Christian Bale</td>\n",
              "      <td>27000.0</td>\n",
              "      <td>448130642.0</td>\n",
              "      <td>Action|Thriller</td>\n",
              "      <td>Tom Hardy</td>\n",
              "      <td>The Dark Knight Rises</td>\n",
              "      <td>1144337</td>\n",
              "      <td>106759</td>\n",
              "      <td>Joseph Gordon-Levitt</td>\n",
              "      <td>0.0</td>\n",
              "      <td>deception|imprisonment|lawlessness|police offi...</td>\n",
              "      <td>http://www.imdb.com/title/tt1345836/?ref_=fn_t...</td>\n",
              "      <td>2701.0</td>\n",
              "      <td>English</td>\n",
              "      <td>USA</td>\n",
              "      <td>PG-13</td>\n",
              "      <td>250000000.0</td>\n",
              "      <td>2012.0</td>\n",
              "      <td>23000.0</td>\n",
              "      <td>8.5</td>\n",
              "      <td>2.35</td>\n",
              "      <td>164000</td>\n",
              "      <td>1</td>\n",
              "    </tr>\n",
              "    <tr>\n",
              "      <th>5</th>\n",
              "      <td>Color</td>\n",
              "      <td>Andrew Stanton</td>\n",
              "      <td>462.0</td>\n",
              "      <td>132.0</td>\n",
              "      <td>475.0</td>\n",
              "      <td>530.0</td>\n",
              "      <td>Samantha Morton</td>\n",
              "      <td>640.0</td>\n",
              "      <td>73058679.0</td>\n",
              "      <td>Action|Adventure|Sci-Fi</td>\n",
              "      <td>Daryl Sabara</td>\n",
              "      <td>John Carter</td>\n",
              "      <td>212204</td>\n",
              "      <td>1873</td>\n",
              "      <td>Polly Walker</td>\n",
              "      <td>1.0</td>\n",
              "      <td>alien|american civil war|male nipple|mars|prin...</td>\n",
              "      <td>http://www.imdb.com/title/tt0401729/?ref_=fn_t...</td>\n",
              "      <td>738.0</td>\n",
              "      <td>English</td>\n",
              "      <td>USA</td>\n",
              "      <td>PG-13</td>\n",
              "      <td>263700000.0</td>\n",
              "      <td>2012.0</td>\n",
              "      <td>632.0</td>\n",
              "      <td>6.6</td>\n",
              "      <td>2.35</td>\n",
              "      <td>24000</td>\n",
              "      <td>1</td>\n",
              "    </tr>\n",
              "  </tbody>\n",
              "</table>\n",
              "</div>"
            ],
            "text/plain": [
              "   color      director_name  ...  movie_facebook_likes  color_0_ou_1\n",
              "0  Color      James Cameron  ...                 33000             1\n",
              "1  Color     Gore Verbinski  ...                     0             1\n",
              "2  Color         Sam Mendes  ...                 85000             1\n",
              "3  Color  Christopher Nolan  ...                164000             1\n",
              "5  Color     Andrew Stanton  ...                 24000             1\n",
              "\n",
              "[5 rows x 29 columns]"
            ]
          },
          "metadata": {
            "tags": []
          },
          "execution_count": 20
        }
      ]
    },
    {
      "cell_type": "markdown",
      "metadata": {
        "id": "yXfbYs_cAbjb",
        "colab_type": "text"
      },
      "source": [
        "Veja que agora nós temos uma última coluna em nosso dataframe com valores 0 e 1. Agora podemos construir gráficos com essa informação de filmes coloridos ou não.\n",
        "\n",
        "P.S: Em aula tivemos problemas porque Black and White tinha um espaço no início, vou cortar esses detalhes aqui no notebook, mas reforço a importância de acompanhar este processo no vídeo."
      ]
    },
    {
      "cell_type": "code",
      "metadata": {
        "id": "rkRZkO5dOTc8",
        "colab_type": "code",
        "outputId": "445a0b57-669a-46bd-fb3c-faf40ed34284",
        "colab": {
          "base_uri": "https://localhost:8080/",
          "height": 308
        }
      },
      "source": [
        "sns.scatterplot(data=color_or_bw, x=\"color_0_ou_1\", y=\"gross\")"
      ],
      "execution_count": 0,
      "outputs": [
        {
          "output_type": "execute_result",
          "data": {
            "text/plain": [
              "<matplotlib.axes._subplots.AxesSubplot at 0x7fc0472da048>"
            ]
          },
          "metadata": {
            "tags": []
          },
          "execution_count": 21
        },
        {
          "output_type": "display_data",
          "data": {
            "image/png": "[encoded data removed]",
            "text/plain": [
              "<Figure size 432x288 with 1 Axes>"
            ]
          },
          "metadata": {
            "tags": []
          }
        }
      ]
    },
    {
      "cell_type": "markdown",
      "metadata": {
        "id": "VQZgqt4oOTyK",
        "colab_type": "text"
      },
      "source": [
        "Então plotamos nossos dados com um displot! Existem várias formas de visualizar essa informação, mas por ora essa nos ajuda a comparar os resultados. Repare como filmes coloridos tem valores bem maiores (isso já era até esperado), mas também temos pontos bem altos em filmes preto e branco, chamando muito atenção.\n",
        "\n",
        "Vamos explorar algumas estatísticas destes filmes:"
      ]
    },
    {
      "cell_type": "code",
      "metadata": {
        "id": "uhuNc6QdOT-n",
        "colab_type": "code",
        "outputId": "b01199b0-6922-4787-b23d-3f13d0580696",
        "colab": {
          "base_uri": "https://localhost:8080/",
          "height": 86
        }
      },
      "source": [
        "color_or_bw.groupby(\"color\").mean()[\"gross\"]"
      ],
      "execution_count": 0,
      "outputs": [
        {
          "output_type": "execute_result",
          "data": {
            "text/plain": [
              "color\n",
              " Black and White    3.245702e+07\n",
              "Color               4.902619e+07\n",
              "Name: gross, dtype: float64"
            ]
          },
          "metadata": {
            "tags": []
          },
          "execution_count": 22
        }
      ]
    },
    {
      "cell_type": "code",
      "metadata": {
        "id": "bw4xJT0bPUG4",
        "colab_type": "code",
        "outputId": "29cd51b2-b0ae-40b2-cf04-24d7a8c45d2b",
        "colab": {
          "base_uri": "https://localhost:8080/",
          "height": 86
        }
      },
      "source": [
        "color_or_bw.groupby(\"color\").mean()[\"imdb_score\"]"
      ],
      "execution_count": 0,
      "outputs": [
        {
          "output_type": "execute_result",
          "data": {
            "text/plain": [
              "color\n",
              " Black and White    7.227273\n",
              "Color               6.409533\n",
              "Name: imdb_score, dtype: float64"
            ]
          },
          "metadata": {
            "tags": []
          },
          "execution_count": 23
        }
      ]
    },
    {
      "cell_type": "code",
      "metadata": {
        "id": "7nDL1xiQPUc5",
        "colab_type": "code",
        "outputId": "8946694a-90b4-43b6-e70c-593b2ac371fe",
        "colab": {
          "base_uri": "https://localhost:8080/",
          "height": 86
        }
      },
      "source": [
        "color_or_bw.groupby(\"color\").median()[\"imdb_score\"]"
      ],
      "execution_count": 0,
      "outputs": [
        {
          "output_type": "execute_result",
          "data": {
            "text/plain": [
              "color\n",
              " Black and White    7.4\n",
              "Color               6.5\n",
              "Name: imdb_score, dtype: float64"
            ]
          },
          "metadata": {
            "tags": []
          },
          "execution_count": 24
        }
      ]
    },
    {
      "cell_type": "markdown",
      "metadata": {
        "id": "mkGqUwqcOUK6",
        "colab_type": "text"
      },
      "source": [
        "Das estatísticas temos duas bem interessantes, a média e mediana das notas de filmes preto e branco são maiores. Há várias possíveis explicações sobre o porquê disso, reflita aí sobre algumas delas e compartilhe conosco!\n",
        "\n",
        "\n",
        "A partir de agora, vamos fazer uma investigação melhor em relação às finanças dos filmes (faturamento e orçamento). Vamos iniciar plotando e interpretando um gráfico de **gross** por **budget**:"
      ]
    },
    {
      "cell_type": "code",
      "metadata": {
        "id": "SF8TXIcAQmpO",
        "colab_type": "code",
        "outputId": "3b1c7143-0125-4fbe-81d5-0d07ffe62ec6",
        "colab": {
          "base_uri": "https://localhost:8080/",
          "height": 307
        }
      },
      "source": [
        "budget_gross=  imdb[[\"budget\", \"gross\"]].dropna().query(\"budget >0 | gross > 0\")\n",
        "\n",
        "sns.scatterplot(x=\"budget\", y=\"gross\", data = budget_gross)"
      ],
      "execution_count": 0,
      "outputs": [
        {
          "output_type": "execute_result",
          "data": {
            "text/plain": [
              "<matplotlib.axes._subplots.AxesSubplot at 0x7fc044a3eef0>"
            ]
          },
          "metadata": {
            "tags": []
          },
          "execution_count": 25
        },
        {
          "output_type": "display_data",
          "data": {
            "image/png": "[encoded data removed]",
            "text/plain": [
              "<Figure size 432x288 with 1 Axes>"
            ]
          },
          "metadata": {
            "tags": []
          }
        }
      ]
    },
    {
      "cell_type": "markdown",
      "metadata": {
        "id": "d8gREEnlRK_U",
        "colab_type": "text"
      },
      "source": [
        "Para plotar os dados, primeiro removemos as linhas com informações de faturamento e orçamento vazias e também com valores igual a 0, para então gerar o gráfico.\n",
        "\n",
        "Agora vamos analisar esse gráfico juntos, veja que a escala de **budget** mudou, agora é **e10**. Repare que apenas poucos filmes tem orçamentos tão grandes assim, e seus faturamentos são muito baixos. Será que temos algum problema nos dados? Vamos investigar melhor!"
      ]
    },
    {
      "cell_type": "code",
      "metadata": {
        "id": "Ae-AjpryRI8g",
        "colab_type": "code",
        "outputId": "dbf03417-5d4d-4ac0-ae6b-8b055a2ff8be",
        "colab": {
          "base_uri": "https://localhost:8080/",
          "height": 400
        }
      },
      "source": [
        "imdb.sort_values(\"budget\", ascending=False).head()"
      ],
      "execution_count": 0,
      "outputs": [
        {
          "output_type": "execute_result",
          "data": {
            "text/html": [
              "<div>\n",
              "<style scoped>\n",
              "    .dataframe tbody tr th:only-of-type {\n",
              "        vertical-align: middle;\n",
              "    }\n",
              "\n",
              "    .dataframe tbody tr th {\n",
              "        vertical-align: top;\n",
              "    }\n",
              "\n",
              "    .dataframe thead th {\n",
              "        text-align: right;\n",
              "    }\n",
              "</style>\n",
              "<table border=\"1\" class=\"dataframe\">\n",
              "  <thead>\n",
              "    <tr style=\"text-align: right;\">\n",
              "      <th></th>\n",
              "      <th>color</th>\n",
              "      <th>director_name</th>\n",
              "      <th>num_critic_for_reviews</th>\n",
              "      <th>duration</th>\n",
              "      <th>director_facebook_likes</th>\n",
              "      <th>actor_3_facebook_likes</th>\n",
              "      <th>actor_2_name</th>\n",
              "      <th>actor_1_facebook_likes</th>\n",
              "      <th>gross</th>\n",
              "      <th>genres</th>\n",
              "      <th>actor_1_name</th>\n",
              "      <th>movie_title</th>\n",
              "      <th>num_voted_users</th>\n",
              "      <th>cast_total_facebook_likes</th>\n",
              "      <th>actor_3_name</th>\n",
              "      <th>facenumber_in_poster</th>\n",
              "      <th>plot_keywords</th>\n",
              "      <th>movie_imdb_link</th>\n",
              "      <th>num_user_for_reviews</th>\n",
              "      <th>language</th>\n",
              "      <th>country</th>\n",
              "      <th>content_rating</th>\n",
              "      <th>budget</th>\n",
              "      <th>title_year</th>\n",
              "      <th>actor_2_facebook_likes</th>\n",
              "      <th>imdb_score</th>\n",
              "      <th>aspect_ratio</th>\n",
              "      <th>movie_facebook_likes</th>\n",
              "    </tr>\n",
              "  </thead>\n",
              "  <tbody>\n",
              "    <tr>\n",
              "      <th>2988</th>\n",
              "      <td>Color</td>\n",
              "      <td>Joon-ho Bong</td>\n",
              "      <td>363.0</td>\n",
              "      <td>110.0</td>\n",
              "      <td>584.0</td>\n",
              "      <td>74.0</td>\n",
              "      <td>Kang-ho Song</td>\n",
              "      <td>629.0</td>\n",
              "      <td>2201412.0</td>\n",
              "      <td>Comedy|Drama|Horror|Sci-Fi</td>\n",
              "      <td>Doona Bae</td>\n",
              "      <td>The Host</td>\n",
              "      <td>68883</td>\n",
              "      <td>1173</td>\n",
              "      <td>Ah-sung Ko</td>\n",
              "      <td>0.0</td>\n",
              "      <td>daughter|han river|monster|river|seoul</td>\n",
              "      <td>http://www.imdb.com/title/tt0468492/?ref_=fn_t...</td>\n",
              "      <td>279.0</td>\n",
              "      <td>Korean</td>\n",
              "      <td>South Korea</td>\n",
              "      <td>R</td>\n",
              "      <td>1.221550e+10</td>\n",
              "      <td>2006.0</td>\n",
              "      <td>398.0</td>\n",
              "      <td>7.0</td>\n",
              "      <td>1.85</td>\n",
              "      <td>7000</td>\n",
              "    </tr>\n",
              "    <tr>\n",
              "      <th>3859</th>\n",
              "      <td>Color</td>\n",
              "      <td>Chan-wook Park</td>\n",
              "      <td>202.0</td>\n",
              "      <td>112.0</td>\n",
              "      <td>0.0</td>\n",
              "      <td>38.0</td>\n",
              "      <td>Yeong-ae Lee</td>\n",
              "      <td>717.0</td>\n",
              "      <td>211667.0</td>\n",
              "      <td>Crime|Drama</td>\n",
              "      <td>Min-sik Choi</td>\n",
              "      <td>Lady Vengeance</td>\n",
              "      <td>53508</td>\n",
              "      <td>907</td>\n",
              "      <td>Hye-jeong Kang</td>\n",
              "      <td>0.0</td>\n",
              "      <td>cake|christian|lesbian sex|oral sex|pregnant s...</td>\n",
              "      <td>http://www.imdb.com/title/tt0451094/?ref_=fn_t...</td>\n",
              "      <td>131.0</td>\n",
              "      <td>Korean</td>\n",
              "      <td>South Korea</td>\n",
              "      <td>R</td>\n",
              "      <td>4.200000e+09</td>\n",
              "      <td>2005.0</td>\n",
              "      <td>126.0</td>\n",
              "      <td>7.7</td>\n",
              "      <td>2.35</td>\n",
              "      <td>4000</td>\n",
              "    </tr>\n",
              "    <tr>\n",
              "      <th>3005</th>\n",
              "      <td>Color</td>\n",
              "      <td>Lajos Koltai</td>\n",
              "      <td>73.0</td>\n",
              "      <td>134.0</td>\n",
              "      <td>45.0</td>\n",
              "      <td>0.0</td>\n",
              "      <td>Péter Fancsikai</td>\n",
              "      <td>9.0</td>\n",
              "      <td>195888.0</td>\n",
              "      <td>Drama|Romance|War</td>\n",
              "      <td>Marcell Nagy</td>\n",
              "      <td>Fateless</td>\n",
              "      <td>5603</td>\n",
              "      <td>11</td>\n",
              "      <td>Bálint Péntek</td>\n",
              "      <td>0.0</td>\n",
              "      <td>bus|death|gay slur|hatred|jewish</td>\n",
              "      <td>http://www.imdb.com/title/tt0367082/?ref_=fn_t...</td>\n",
              "      <td>45.0</td>\n",
              "      <td>Hungarian</td>\n",
              "      <td>Hungary</td>\n",
              "      <td>R</td>\n",
              "      <td>2.500000e+09</td>\n",
              "      <td>2005.0</td>\n",
              "      <td>2.0</td>\n",
              "      <td>7.1</td>\n",
              "      <td>2.35</td>\n",
              "      <td>607</td>\n",
              "    </tr>\n",
              "    <tr>\n",
              "      <th>2323</th>\n",
              "      <td>Color</td>\n",
              "      <td>Hayao Miyazaki</td>\n",
              "      <td>174.0</td>\n",
              "      <td>134.0</td>\n",
              "      <td>6000.0</td>\n",
              "      <td>745.0</td>\n",
              "      <td>Jada Pinkett Smith</td>\n",
              "      <td>893.0</td>\n",
              "      <td>2298191.0</td>\n",
              "      <td>Adventure|Animation|Fantasy</td>\n",
              "      <td>Minnie Driver</td>\n",
              "      <td>Princess Mononoke</td>\n",
              "      <td>221552</td>\n",
              "      <td>2710</td>\n",
              "      <td>Billy Crudup</td>\n",
              "      <td>0.0</td>\n",
              "      <td>anime|cult film|forest|princess|studio ghibli</td>\n",
              "      <td>http://www.imdb.com/title/tt0119698/?ref_=fn_t...</td>\n",
              "      <td>570.0</td>\n",
              "      <td>Japanese</td>\n",
              "      <td>Japan</td>\n",
              "      <td>PG-13</td>\n",
              "      <td>2.400000e+09</td>\n",
              "      <td>1997.0</td>\n",
              "      <td>851.0</td>\n",
              "      <td>8.4</td>\n",
              "      <td>1.85</td>\n",
              "      <td>11000</td>\n",
              "    </tr>\n",
              "    <tr>\n",
              "      <th>2334</th>\n",
              "      <td>Color</td>\n",
              "      <td>Katsuhiro Ôtomo</td>\n",
              "      <td>105.0</td>\n",
              "      <td>103.0</td>\n",
              "      <td>78.0</td>\n",
              "      <td>101.0</td>\n",
              "      <td>Robin Atkin Downes</td>\n",
              "      <td>488.0</td>\n",
              "      <td>410388.0</td>\n",
              "      <td>Action|Adventure|Animation|Family|Sci-Fi|Thriller</td>\n",
              "      <td>William Hootkins</td>\n",
              "      <td>Steamboy</td>\n",
              "      <td>13727</td>\n",
              "      <td>991</td>\n",
              "      <td>Rosalind Ayres</td>\n",
              "      <td>1.0</td>\n",
              "      <td>19th century|ball|boy|inventor|steam</td>\n",
              "      <td>http://www.imdb.com/title/tt0348121/?ref_=fn_t...</td>\n",
              "      <td>79.0</td>\n",
              "      <td>Japanese</td>\n",
              "      <td>Japan</td>\n",
              "      <td>PG-13</td>\n",
              "      <td>2.127520e+09</td>\n",
              "      <td>2004.0</td>\n",
              "      <td>336.0</td>\n",
              "      <td>6.9</td>\n",
              "      <td>1.85</td>\n",
              "      <td>973</td>\n",
              "    </tr>\n",
              "  </tbody>\n",
              "</table>\n",
              "</div>"
            ],
            "text/plain": [
              "      color    director_name  ...  aspect_ratio  movie_facebook_likes\n",
              "2988  Color     Joon-ho Bong  ...          1.85                  7000\n",
              "3859  Color   Chan-wook Park  ...          2.35                  4000\n",
              "3005  Color     Lajos Koltai  ...          2.35                   607\n",
              "2323  Color   Hayao Miyazaki  ...          1.85                 11000\n",
              "2334  Color  Katsuhiro Ôtomo  ...          1.85                   973\n",
              "\n",
              "[5 rows x 28 columns]"
            ]
          },
          "metadata": {
            "tags": []
          },
          "execution_count": 26
        }
      ]
    },
    {
      "cell_type": "markdown",
      "metadata": {
        "id": "qjANCBaMRJMW",
        "colab_type": "text"
      },
      "source": [
        "Ordenando os dados pelo **budget** percebemos que as primeiras posições são de filmes asiáticos. O Guilherme trouxe um ponto interessante para a investigação, pois países como a Coreia usam moedas que tem três casas decimais a mais que o dólar. Então provavelmente o que está ocorrendo é que os dados de orçamento tem valores na moeda local, por isso detectamos valores tão discrepantes. \n",
        "\n",
        "Como não temos garantia dos números, vamos precisar trabalhar apenas com filmes americanos, assim garantimos que tanto gross e budget estão em dólares. Então vamos iniciar esse processo:"
      ]
    },
    {
      "cell_type": "markdown",
      "metadata": {
        "id": "NBodQDxqVKgN",
        "colab_type": "text"
      },
      "source": [
        "#Não esqueça de compartilhar a solução dos seus desafios com nossos instrutores, seja no Twitter, seja no LinkedIn. Boa sorte!"
      ]
    },
    {
      "cell_type": "code",
      "metadata": {
        "id": "1yF7jC-CUIYa",
        "colab_type": "code",
        "outputId": "9c2385ec-66f0-4af5-d3aa-4926a7a52f1c",
        "colab": {
          "base_uri": "https://localhost:8080/",
          "height": 243
        }
      },
      "source": [
        "imdb[\"country\"].unique()"
      ],
      "execution_count": 0,
      "outputs": [
        {
          "output_type": "execute_result",
          "data": {
            "text/plain": [
              "array(['USA', 'UK', nan, 'New Zealand', 'Canada', 'Australia', 'Belgium',\n",
              "       'Japan', 'Germany', 'China', 'France', 'New Line', 'Mexico',\n",
              "       'Spain', 'Hong Kong', 'Czech Republic', 'India', 'Soviet Union',\n",
              "       'South Korea', 'Peru', 'Italy', 'Russia', 'Aruba', 'Denmark',\n",
              "       'Libya', 'Ireland', 'South Africa', 'Iceland', 'Switzerland',\n",
              "       'Romania', 'West Germany', 'Chile', 'Netherlands', 'Hungary',\n",
              "       'Panama', 'Greece', 'Sweden', 'Norway', 'Taiwan', 'Official site',\n",
              "       'Cambodia', 'Thailand', 'Slovakia', 'Bulgaria', 'Iran', 'Poland',\n",
              "       'Georgia', 'Turkey', 'Nigeria', 'Brazil', 'Finland', 'Bahamas',\n",
              "       'Argentina', 'Colombia', 'Israel', 'Egypt', 'Kyrgyzstan',\n",
              "       'Indonesia', 'Pakistan', 'Slovenia', 'Afghanistan',\n",
              "       'Dominican Republic', 'Cameroon', 'United Arab Emirates', 'Kenya',\n",
              "       'Philippines'], dtype=object)"
            ]
          },
          "metadata": {
            "tags": []
          },
          "execution_count": 27
        }
      ]
    },
    {
      "cell_type": "markdown",
      "metadata": {
        "id": "_jood7DJUIkv",
        "colab_type": "text"
      },
      "source": [
        "Veja que temos filmes de diversos locais de origem:"
      ]
    },
    {
      "cell_type": "code",
      "metadata": {
        "id": "lqMN1IoUUIu_",
        "colab_type": "code",
        "outputId": "a13eec22-c51c-4fc7-f958-389ebaec8d44",
        "colab": {
          "base_uri": "https://localhost:8080/",
          "height": 435
        }
      },
      "source": [
        "imdb = imdb.drop_duplicates()\n",
        "imdb_usa = imdb.query(\"country == 'USA'\")\n",
        "imdb_usa.sort_values(\"budget\", ascending=False).head()"
      ],
      "execution_count": 0,
      "outputs": [
        {
          "output_type": "execute_result",
          "data": {
            "text/html": [
              "<div>\n",
              "<style scoped>\n",
              "    .dataframe tbody tr th:only-of-type {\n",
              "        vertical-align: middle;\n",
              "    }\n",
              "\n",
              "    .dataframe tbody tr th {\n",
              "        vertical-align: top;\n",
              "    }\n",
              "\n",
              "    .dataframe thead th {\n",
              "        text-align: right;\n",
              "    }\n",
              "</style>\n",
              "<table border=\"1\" class=\"dataframe\">\n",
              "  <thead>\n",
              "    <tr style=\"text-align: right;\">\n",
              "      <th></th>\n",
              "      <th>color</th>\n",
              "      <th>director_name</th>\n",
              "      <th>num_critic_for_reviews</th>\n",
              "      <th>duration</th>\n",
              "      <th>director_facebook_likes</th>\n",
              "      <th>actor_3_facebook_likes</th>\n",
              "      <th>actor_2_name</th>\n",
              "      <th>actor_1_facebook_likes</th>\n",
              "      <th>gross</th>\n",
              "      <th>genres</th>\n",
              "      <th>actor_1_name</th>\n",
              "      <th>movie_title</th>\n",
              "      <th>num_voted_users</th>\n",
              "      <th>cast_total_facebook_likes</th>\n",
              "      <th>actor_3_name</th>\n",
              "      <th>facenumber_in_poster</th>\n",
              "      <th>plot_keywords</th>\n",
              "      <th>movie_imdb_link</th>\n",
              "      <th>num_user_for_reviews</th>\n",
              "      <th>language</th>\n",
              "      <th>country</th>\n",
              "      <th>content_rating</th>\n",
              "      <th>budget</th>\n",
              "      <th>title_year</th>\n",
              "      <th>actor_2_facebook_likes</th>\n",
              "      <th>imdb_score</th>\n",
              "      <th>aspect_ratio</th>\n",
              "      <th>movie_facebook_likes</th>\n",
              "    </tr>\n",
              "  </thead>\n",
              "  <tbody>\n",
              "    <tr>\n",
              "      <th>1</th>\n",
              "      <td>Color</td>\n",
              "      <td>Gore Verbinski</td>\n",
              "      <td>302.0</td>\n",
              "      <td>169.0</td>\n",
              "      <td>563.0</td>\n",
              "      <td>1000.0</td>\n",
              "      <td>Orlando Bloom</td>\n",
              "      <td>40000.0</td>\n",
              "      <td>309404152.0</td>\n",
              "      <td>Action|Adventure|Fantasy</td>\n",
              "      <td>Johnny Depp</td>\n",
              "      <td>Pirates of the Caribbean: At World's End</td>\n",
              "      <td>471220</td>\n",
              "      <td>48350</td>\n",
              "      <td>Jack Davenport</td>\n",
              "      <td>0.0</td>\n",
              "      <td>goddess|marriage ceremony|marriage proposal|pi...</td>\n",
              "      <td>http://www.imdb.com/title/tt0449088/?ref_=fn_t...</td>\n",
              "      <td>1238.0</td>\n",
              "      <td>English</td>\n",
              "      <td>USA</td>\n",
              "      <td>PG-13</td>\n",
              "      <td>300000000.0</td>\n",
              "      <td>2007.0</td>\n",
              "      <td>5000.0</td>\n",
              "      <td>7.1</td>\n",
              "      <td>2.35</td>\n",
              "      <td>0</td>\n",
              "    </tr>\n",
              "    <tr>\n",
              "      <th>5</th>\n",
              "      <td>Color</td>\n",
              "      <td>Andrew Stanton</td>\n",
              "      <td>462.0</td>\n",
              "      <td>132.0</td>\n",
              "      <td>475.0</td>\n",
              "      <td>530.0</td>\n",
              "      <td>Samantha Morton</td>\n",
              "      <td>640.0</td>\n",
              "      <td>73058679.0</td>\n",
              "      <td>Action|Adventure|Sci-Fi</td>\n",
              "      <td>Daryl Sabara</td>\n",
              "      <td>John Carter</td>\n",
              "      <td>212204</td>\n",
              "      <td>1873</td>\n",
              "      <td>Polly Walker</td>\n",
              "      <td>1.0</td>\n",
              "      <td>alien|american civil war|male nipple|mars|prin...</td>\n",
              "      <td>http://www.imdb.com/title/tt0401729/?ref_=fn_t...</td>\n",
              "      <td>738.0</td>\n",
              "      <td>English</td>\n",
              "      <td>USA</td>\n",
              "      <td>PG-13</td>\n",
              "      <td>263700000.0</td>\n",
              "      <td>2012.0</td>\n",
              "      <td>632.0</td>\n",
              "      <td>6.6</td>\n",
              "      <td>2.35</td>\n",
              "      <td>24000</td>\n",
              "    </tr>\n",
              "    <tr>\n",
              "      <th>7</th>\n",
              "      <td>Color</td>\n",
              "      <td>Nathan Greno</td>\n",
              "      <td>324.0</td>\n",
              "      <td>100.0</td>\n",
              "      <td>15.0</td>\n",
              "      <td>284.0</td>\n",
              "      <td>Donna Murphy</td>\n",
              "      <td>799.0</td>\n",
              "      <td>200807262.0</td>\n",
              "      <td>Adventure|Animation|Comedy|Family|Fantasy|Musi...</td>\n",
              "      <td>Brad Garrett</td>\n",
              "      <td>Tangled</td>\n",
              "      <td>294810</td>\n",
              "      <td>2036</td>\n",
              "      <td>M.C. Gainey</td>\n",
              "      <td>1.0</td>\n",
              "      <td>17th century|based on fairy tale|disney|flower...</td>\n",
              "      <td>http://www.imdb.com/title/tt0398286/?ref_=fn_t...</td>\n",
              "      <td>387.0</td>\n",
              "      <td>English</td>\n",
              "      <td>USA</td>\n",
              "      <td>PG</td>\n",
              "      <td>260000000.0</td>\n",
              "      <td>2010.0</td>\n",
              "      <td>553.0</td>\n",
              "      <td>7.8</td>\n",
              "      <td>1.85</td>\n",
              "      <td>29000</td>\n",
              "    </tr>\n",
              "    <tr>\n",
              "      <th>6</th>\n",
              "      <td>Color</td>\n",
              "      <td>Sam Raimi</td>\n",
              "      <td>392.0</td>\n",
              "      <td>156.0</td>\n",
              "      <td>0.0</td>\n",
              "      <td>4000.0</td>\n",
              "      <td>James Franco</td>\n",
              "      <td>24000.0</td>\n",
              "      <td>336530303.0</td>\n",
              "      <td>Action|Adventure|Romance</td>\n",
              "      <td>J.K. Simmons</td>\n",
              "      <td>Spider-Man 3</td>\n",
              "      <td>383056</td>\n",
              "      <td>46055</td>\n",
              "      <td>Kirsten Dunst</td>\n",
              "      <td>0.0</td>\n",
              "      <td>sandman|spider man|symbiote|venom|villain</td>\n",
              "      <td>http://www.imdb.com/title/tt0413300/?ref_=fn_t...</td>\n",
              "      <td>1902.0</td>\n",
              "      <td>English</td>\n",
              "      <td>USA</td>\n",
              "      <td>PG-13</td>\n",
              "      <td>258000000.0</td>\n",
              "      <td>2007.0</td>\n",
              "      <td>11000.0</td>\n",
              "      <td>6.2</td>\n",
              "      <td>2.35</td>\n",
              "      <td>0</td>\n",
              "    </tr>\n",
              "    <tr>\n",
              "      <th>3461</th>\n",
              "      <td>Color</td>\n",
              "      <td>Sam Raimi</td>\n",
              "      <td>392.0</td>\n",
              "      <td>156.0</td>\n",
              "      <td>0.0</td>\n",
              "      <td>4000.0</td>\n",
              "      <td>James Franco</td>\n",
              "      <td>24000.0</td>\n",
              "      <td>336530303.0</td>\n",
              "      <td>Action|Adventure|Romance</td>\n",
              "      <td>J.K. Simmons</td>\n",
              "      <td>Spider-Man 3</td>\n",
              "      <td>383071</td>\n",
              "      <td>46055</td>\n",
              "      <td>Kirsten Dunst</td>\n",
              "      <td>0.0</td>\n",
              "      <td>sandman|spider man|symbiote|venom|villain</td>\n",
              "      <td>http://www.imdb.com/title/tt0413300/?ref_=fn_t...</td>\n",
              "      <td>1902.0</td>\n",
              "      <td>English</td>\n",
              "      <td>USA</td>\n",
              "      <td>PG-13</td>\n",
              "      <td>258000000.0</td>\n",
              "      <td>2007.0</td>\n",
              "      <td>11000.0</td>\n",
              "      <td>6.2</td>\n",
              "      <td>2.35</td>\n",
              "      <td>0</td>\n",
              "    </tr>\n",
              "  </tbody>\n",
              "</table>\n",
              "</div>"
            ],
            "text/plain": [
              "      color   director_name  ...  aspect_ratio  movie_facebook_likes\n",
              "1     Color  Gore Verbinski  ...          2.35                     0\n",
              "5     Color  Andrew Stanton  ...          2.35                 24000\n",
              "7     Color    Nathan Greno  ...          1.85                 29000\n",
              "6     Color       Sam Raimi  ...          2.35                     0\n",
              "3461  Color       Sam Raimi  ...          2.35                     0\n",
              "\n",
              "[5 rows x 28 columns]"
            ]
          },
          "metadata": {
            "tags": []
          },
          "execution_count": 30
        }
      ]
    },
    {
      "cell_type": "markdown",
      "metadata": {
        "id": "rrwKQbf8UI53",
        "colab_type": "text"
      },
      "source": [
        "Agora temos os dados para fazer uma análise melhor entre gross e budget. Vamos plotar o gráfico novamente:\n",
        "\n"
      ]
    },
    {
      "cell_type": "code",
      "metadata": {
        "id": "bStEDvsOVe8-",
        "colab_type": "code",
        "outputId": "dad0964d-9a25-46c1-ee51-08fec748221f",
        "colab": {
          "base_uri": "https://localhost:8080/",
          "height": 307
        }
      },
      "source": [
        "budget_gross = imdb_usa[[\"budget\", \"gross\"]].dropna().query(\"budget >0 | gross > 0\")\n",
        "\n",
        "sns.scatterplot(x=\"budget\", y=\"gross\", data = budget_gross)"
      ],
      "execution_count": 0,
      "outputs": [
        {
          "output_type": "execute_result",
          "data": {
            "text/plain": [
              "<matplotlib.axes._subplots.AxesSubplot at 0x7fc0472ce358>"
            ]
          },
          "metadata": {
            "tags": []
          },
          "execution_count": 31
        },
        {
          "output_type": "display_data",
          "data": {
            "image/png": "[encoded data removed]",
            "text/plain": [
              "<Figure size 432x288 with 1 Axes>"
            ]
          },
          "metadata": {
            "tags": []
          }
        }
      ]
    },
    {
      "cell_type": "markdown",
      "metadata": {
        "id": "5ogGpkc3Vn3a",
        "colab_type": "text"
      },
      "source": [
        "Veja que interessante, aparentemente temos uma relação entre orçamento e faturamento. Quanto maior o orçamento, maior o faturamento.\n",
        "\n",
        "Já que estamos trabalhando com orçamento e faturamento, podemos construir uma nova informação, o lucro, para analisar. De forma bem simplista esse processo de construir novas informações a partir das existentes no dataset é conhecido como [feature engineering](https://en.wikipedia.org/wiki/Feature_engineering)."
      ]
    },
    {
      "cell_type": "code",
      "metadata": {
        "id": "wzBd4_rEVhB_",
        "colab_type": "code",
        "outputId": "06cd9684-6d50-44ac-f493-be1c48192ad4",
        "colab": {
          "base_uri": "https://localhost:8080/",
          "height": 412
        }
      },
      "source": [
        "imdb_usa['lucro'] = imdb_usa['gross'] - imdb_usa['budget']\n",
        "\n",
        "budget_gross = imdb_usa.query(\"budget >0 | gross > 0\")[[\"budget\", \"lucro\"]].dropna()\n",
        "\n",
        "sns.scatterplot(x=\"budget\", y=\"lucro\", data = budget_gross)"
      ],
      "execution_count": 0,
      "outputs": [
        {
          "output_type": "stream",
          "text": [
            "/usr/local/lib/python3.6/dist-packages/ipykernel_launcher.py:1: SettingWithCopyWarning: \n",
            "A value is trying to be set on a copy of a slice from a DataFrame.\n",
            "Try using .loc[row_indexer,col_indexer] = value instead\n",
            "\n",
            "See the caveats in the documentation: https://pandas.pydata.org/pandas-docs/stable/user_guide/indexing.html#returning-a-view-versus-a-copy\n",
            "  \"\"\"Entry point for launching an IPython kernel.\n"
          ],
          "name": "stderr"
        },
        {
          "output_type": "execute_result",
          "data": {
            "text/plain": [
              "<matplotlib.axes._subplots.AxesSubplot at 0x7fc044a3e978>"
            ]
          },
          "metadata": {
            "tags": []
          },
          "execution_count": 32
        },
        {
          "output_type": "display_data",
          "data": {
            "image/png": "[encoded data removed]",
            "text/plain": [
              "<Figure size 432x288 with 1 Axes>"
            ]
          },
          "metadata": {
            "tags": []
          }
        }
      ]
    },
    {
      "cell_type": "markdown",
      "metadata": {
        "id": "L7XE6CSrXNuh",
        "colab_type": "text"
      },
      "source": [
        "MUito bom! Nós construímos nossa coluna lucro na base de dados e plotamos o orçamento contra lucro.\n",
        "\n",
        "Repare que temos pontos interessantes nesta visualização, um deles são esses filmes com muito custo e prejuizo. Isso pode ser um prejuizo real, mas também podem ser filmes que ainda não tiveram tempo de recuperar o investimento (lançamentos recentes). Outros pontos interessantes de se anlisar seriam os filmes com baixos orçamentos e muito lucro, será que são estão corretos ou pode ser algum erro da base? Parece que nem sempre gastar uma tonelada de dinheiro vai gerar lucros absurdos, será que é isso é verdade? \n",
        "\n",
        "Esse gráfico é muito rico em informações, vale a pena você gastar um tempo criando hipóteses.\n",
        "\n",
        "Já que essa nova feature (lucro) parace ser interessante de se analisar, vamos continuar! Mas agora quero ver o lucro em relação ao ano de produção:"
      ]
    },
    {
      "cell_type": "code",
      "metadata": {
        "id": "npTl7bEIWx7E",
        "colab_type": "code",
        "outputId": "3ad971fe-d97f-408f-b09a-a8610d3e4a4c",
        "colab": {
          "base_uri": "https://localhost:8080/",
          "height": 308
        }
      },
      "source": [
        "budget_gross = imdb_usa.query(\"budget >0 | gross > 0\")[[\"title_year\", \"lucro\"]].dropna()\n",
        "\n",
        "sns.scatterplot(x=\"title_year\", y=\"lucro\", data = budget_gross)"
      ],
      "execution_count": 0,
      "outputs": [
        {
          "output_type": "execute_result",
          "data": {
            "text/plain": [
              "<matplotlib.axes._subplots.AxesSubplot at 0x7fc044911f60>"
            ]
          },
          "metadata": {
            "tags": []
          },
          "execution_count": 33
        },
        {
          "output_type": "display_data",
          "data": {
            "image/png": "[encoded data removed]",
            "text/plain": [
              "<Figure size 432x288 with 1 Axes>"
            ]
          },
          "metadata": {
            "tags": []
          }
        }
      ]
    },
    {
      "cell_type": "markdown",
      "metadata": {
        "id": "S5C4DSh0ZsnL",
        "colab_type": "text"
      },
      "source": [
        "Olha que legal esse gráfico, veja como alguns pontos mais recentes reforça a teoria de que alguns filmes podem ainda não ter recuperado o dinheiro investido (Claro que temos muitas variáveis para se analisar, mas é um indício relevante).\n",
        "\n",
        "Outro ponto que chama muito atenção, são os filmes da década de 30 e 40 com lucros tão altos. Quais serão esses filmes? Bom, essa pergunta você vai responder no desafio do Paulo, que está louco para descobrir!\n",
        "\n",
        "Falando em Paulo, ele sugeriu uma análise com os nome dos diretores e o orçamento de seus filmes, vamos ver se conseguimos concluir alguma coisa:"
      ]
    },
    {
      "cell_type": "code",
      "metadata": {
        "id": "t-N128uFZtLF",
        "colab_type": "code",
        "outputId": "1f2dd237-b8f9-4f16-9e15-6f8e3812f896",
        "colab": {
          "base_uri": "https://localhost:8080/",
          "height": 206
        }
      },
      "source": [
        "filmes_por_diretor = imdb_usa[\"director_name\"].value_counts()\n",
        "gross_director = imdb_usa[[\"director_name\", \"gross\"]].set_index(\"director_name\").join(filmes_por_diretor, on=\"director_name\")\n",
        "gross_director.columns=[\"dindin\", \"filmes_irmaos\"]\n",
        "gross_director = gross_director.reset_index()\n",
        "gross_director.head()"
      ],
      "execution_count": 0,
      "outputs": [
        {
          "output_type": "execute_result",
          "data": {
            "text/html": [
              "<div>\n",
              "<style scoped>\n",
              "    .dataframe tbody tr th:only-of-type {\n",
              "        vertical-align: middle;\n",
              "    }\n",
              "\n",
              "    .dataframe tbody tr th {\n",
              "        vertical-align: top;\n",
              "    }\n",
              "\n",
              "    .dataframe thead th {\n",
              "        text-align: right;\n",
              "    }\n",
              "</style>\n",
              "<table border=\"1\" class=\"dataframe\">\n",
              "  <thead>\n",
              "    <tr style=\"text-align: right;\">\n",
              "      <th></th>\n",
              "      <th>director_name</th>\n",
              "      <th>dindin</th>\n",
              "      <th>filmes_irmaos</th>\n",
              "    </tr>\n",
              "  </thead>\n",
              "  <tbody>\n",
              "    <tr>\n",
              "      <th>0</th>\n",
              "      <td>James Cameron</td>\n",
              "      <td>760505847.0</td>\n",
              "      <td>6.0</td>\n",
              "    </tr>\n",
              "    <tr>\n",
              "      <th>1</th>\n",
              "      <td>Gore Verbinski</td>\n",
              "      <td>309404152.0</td>\n",
              "      <td>7.0</td>\n",
              "    </tr>\n",
              "    <tr>\n",
              "      <th>2</th>\n",
              "      <td>Christopher Nolan</td>\n",
              "      <td>448130642.0</td>\n",
              "      <td>8.0</td>\n",
              "    </tr>\n",
              "    <tr>\n",
              "      <th>3</th>\n",
              "      <td>Andrew Stanton</td>\n",
              "      <td>73058679.0</td>\n",
              "      <td>3.0</td>\n",
              "    </tr>\n",
              "    <tr>\n",
              "      <th>4</th>\n",
              "      <td>Sam Raimi</td>\n",
              "      <td>336530303.0</td>\n",
              "      <td>11.0</td>\n",
              "    </tr>\n",
              "  </tbody>\n",
              "</table>\n",
              "</div>"
            ],
            "text/plain": [
              "       director_name       dindin  filmes_irmaos\n",
              "0      James Cameron  760505847.0            6.0\n",
              "1     Gore Verbinski  309404152.0            7.0\n",
              "2  Christopher Nolan  448130642.0            8.0\n",
              "3     Andrew Stanton   73058679.0            3.0\n",
              "4          Sam Raimi  336530303.0           11.0"
            ]
          },
          "metadata": {
            "tags": []
          },
          "execution_count": 35
        }
      ]
    },
    {
      "cell_type": "code",
      "metadata": {
        "id": "Hi5QX2ZeZuGq",
        "colab_type": "code",
        "outputId": "08629a7d-68fb-4e59-aad2-77092428e01e",
        "colab": {
          "base_uri": "https://localhost:8080/",
          "height": 308
        }
      },
      "source": [
        "sns.scatterplot(x=\"filmes_irmaos\", y=\"dindin\", data = gross_director)"
      ],
      "execution_count": 0,
      "outputs": [
        {
          "output_type": "execute_result",
          "data": {
            "text/plain": [
              "<matplotlib.axes._subplots.AxesSubplot at 0x7fc044a1b320>"
            ]
          },
          "metadata": {
            "tags": []
          },
          "execution_count": 36
        },
        {
          "output_type": "display_data",
          "data": {
            "image/png": "[encoded data removed]",
            "text/plain": [
              "<Figure size 432x288 with 1 Axes>"
            ]
          },
          "metadata": {
            "tags": []
          }
        }
      ]
    },
    {
      "cell_type": "markdown",
      "metadata": {
        "id": "W6ciC13mZtcq",
        "colab_type": "text"
      },
      "source": [
        "Essa imagem aparentemente não é muito conclusiva, então não conseguimos inferir tantas informações.\n",
        "\n",
        "Esse processo de gerar dados, visualizações e acabar não sendo conclusivo é muito comum na vida de um cientista de dados, pode ir se acostumando =P.\n",
        "\n",
        "Para finalizar, que tal realizar uma análise das correlações dos dados? EXistem várias formas de calcular a correlação, esse é um assunto denso.Você pode ler mais sobre essas métricas neste [link](https://pt.wikipedia.org/wiki/Correla%C3%A7%C3%A3o).\n",
        "\n",
        "Vamos então inciar a análise das correlações plotando o pairplot."
      ]
    },
    {
      "cell_type": "code",
      "metadata": {
        "id": "ODNrTANyZNd4",
        "colab_type": "code",
        "outputId": "1372157f-b2ab-4a77-eade-7ec35841abf3",
        "colab": {
          "base_uri": "https://localhost:8080/",
          "height": 775
        }
      },
      "source": [
        "sns.pairplot(data = imdb_usa[[\"gross\", \"budget\", \"lucro\", \"title_year\"]])"
      ],
      "execution_count": 0,
      "outputs": [
        {
          "output_type": "execute_result",
          "data": {
            "text/plain": [
              "<seaborn.axisgrid.PairGrid at 0x7fc04488d390>"
            ]
          },
          "metadata": {
            "tags": []
          },
          "execution_count": 37
        },
        {
          "output_type": "display_data",
          "data": {
            "image/png": "[encoded data removed]",
            "text/plain": [
              "<Figure size 720x720 with 20 Axes>"
            ]
          },
          "metadata": {
            "tags": []
          }
        }
      ]
    },
    {
      "cell_type": "markdown",
      "metadata": {
        "id": "cG-xJiA1ZuoX",
        "colab_type": "text"
      },
      "source": [
        "O pairplot mostra muita informação e a melhor forma de você entender é assistindo as conclusões que tiramos sobre esses gráficos na vídeoaula.\n",
        "\n",
        "Embora plotamos um monte de informação, não necessariamente reduzimos a correlação em um número para simplificar a análise. Vamos fazer isso com a ajuda do `.corr()` do [pandas](https://pandas.pydata.org/pandas-docs/stable/reference/api/pandas.DataFrame.corr.html). "
      ]
    },
    {
      "cell_type": "code",
      "metadata": {
        "id": "ecp4nTfLdfRz",
        "colab_type": "code",
        "outputId": "bb81e1e7-f953-437a-b853-60b3797b1372",
        "colab": {
          "base_uri": "https://localhost:8080/",
          "height": 175
        }
      },
      "source": [
        "imdb_usa[[\"gross\", \"budget\", \"lucro\", \"title_year\"]].corr()"
      ],
      "execution_count": 0,
      "outputs": [
        {
          "output_type": "execute_result",
          "data": {
            "text/html": [
              "<div>\n",
              "<style scoped>\n",
              "    .dataframe tbody tr th:only-of-type {\n",
              "        vertical-align: middle;\n",
              "    }\n",
              "\n",
              "    .dataframe tbody tr th {\n",
              "        vertical-align: top;\n",
              "    }\n",
              "\n",
              "    .dataframe thead th {\n",
              "        text-align: right;\n",
              "    }\n",
              "</style>\n",
              "<table border=\"1\" class=\"dataframe\">\n",
              "  <thead>\n",
              "    <tr style=\"text-align: right;\">\n",
              "      <th></th>\n",
              "      <th>gross</th>\n",
              "      <th>budget</th>\n",
              "      <th>lucro</th>\n",
              "      <th>title_year</th>\n",
              "    </tr>\n",
              "  </thead>\n",
              "  <tbody>\n",
              "    <tr>\n",
              "      <th>gross</th>\n",
              "      <td>1.000000</td>\n",
              "      <td>0.645673</td>\n",
              "      <td>0.797037</td>\n",
              "      <td>0.034827</td>\n",
              "    </tr>\n",
              "    <tr>\n",
              "      <th>budget</th>\n",
              "      <td>0.645673</td>\n",
              "      <td>1.000000</td>\n",
              "      <td>0.053455</td>\n",
              "      <td>0.229453</td>\n",
              "    </tr>\n",
              "    <tr>\n",
              "      <th>lucro</th>\n",
              "      <td>0.797037</td>\n",
              "      <td>0.053455</td>\n",
              "      <td>1.000000</td>\n",
              "      <td>-0.123035</td>\n",
              "    </tr>\n",
              "    <tr>\n",
              "      <th>title_year</th>\n",
              "      <td>0.034827</td>\n",
              "      <td>0.229453</td>\n",
              "      <td>-0.123035</td>\n",
              "      <td>1.000000</td>\n",
              "    </tr>\n",
              "  </tbody>\n",
              "</table>\n",
              "</div>"
            ],
            "text/plain": [
              "               gross    budget     lucro  title_year\n",
              "gross       1.000000  0.645673  0.797037    0.034827\n",
              "budget      0.645673  1.000000  0.053455    0.229453\n",
              "lucro       0.797037  0.053455  1.000000   -0.123035\n",
              "title_year  0.034827  0.229453 -0.123035    1.000000"
            ]
          },
          "metadata": {
            "tags": []
          },
          "execution_count": 38
        }
      ]
    },
    {
      "cell_type": "markdown",
      "metadata": {
        "id": "DJN3Hp6SfFdR",
        "colab_type": "text"
      },
      "source": [
        "Com o pandas é simples de se calcular a correlação, mas precisamos saber interpretar os resultados. Vamos fazer isso?\n",
        "\n",
        "A correlação é uma métrica que vai de 1 a -1. Quando a correlação é 1, dizemos que é totalmente correlacionada (relação linear perfeita e positiva), ou seja se uma variável aumenta em 10 a outra também irá aumentar em 10. Quando o valor da correlação é -1, também temos variáveis totalmente correlacionda, só que de maneira negativa (relação linear perfeita negativa), neste caso, se uma variável aumenta em 10 a outra reduz em 10. Agora quando a correlação é 0 temos a inexistência de correlação, ou seja, uma variável não tem influêcia sobre a outra. \n",
        "\n",
        "Agora sim, entendido sobre a correlação vamos analisar as nossas. Veja que lucro e gross tem uma correlação alta, o que indica que quanto maior o orçamento maior o lucro (mas repare que a correlação não é perfeita), já o title_yers e lucro tem correlação negativa, mas muito perto de zero (ou seja quase não tem correlação). Viu como conseguimos analisar muitas coisas com a correlação?! Pense e tente analisar os outros casos também.\n",
        "\n",
        "\n",
        "Com isso chegamos ao final de mais uma aula da #quarentenadados. E aí, o que está achando, cada vez mais legal e ao mesmo tempo mais complexo né?\n",
        "\n",
        "O que importa é estar iniciando e entendendo o que fazemos para analisar os dados! **Continue até o fim, garanto que vai valer a pena.**\n",
        "Vamos praticar?\n",
        "\n",
        "**Crie seu próprio notebook, reproduza nossa aula e resolva os desafios que deixamos para vocês**.\n",
        "\n",
        "\n",
        "Até a próxima aula!\n",
        "\n",
        "**P.S: A partir de agora teremos muitos desafios envolvendo mais análises e conclusões, então não haverá um \"gabarito\". O importante é você compartilhar suas soluções com os colegas e debater os seus resultados e das outras pessoas**"
      ]
    },
    {
      "cell_type": "markdown",
      "metadata": {
        "id": "ureMvL0_p_7i",
        "colab_type": "text"
      },
      "source": [
        "## Desafio 1 do [Thiago Gonçalves](https://twitter.com/tgcsantos)\n",
        "\n",
        "Plotar e analisar o Boxplot da média (coluna imbd_score) dos filmes em preto e branco e coloridos."
      ]
    },
    {
      "cell_type": "markdown",
      "metadata": {
        "id": "zHGhBwyVplir",
        "colab_type": "text"
      },
      "source": [
        "##Desafio 2 do [Guilherme Silveira](https://twitter.com/guilhermecaelum)\n",
        "\n",
        "No gráfico de **budget por lucro** temos um ponto com muito custo e prejuizo, descubra com é esse filme (budget próximo de 2.5)."
      ]
    },
    {
      "cell_type": "markdown",
      "metadata": {
        "id": "gUgeTCjkrgv4",
        "colab_type": "text"
      },
      "source": [
        "##Desafio 3 do [Guilherme Silveira](https://twitter.com/guilhermecaelum)\n",
        "\n",
        "\n",
        "Em aula falamos que talvez, filmes mais recentes podem ter prejuizo pois ainda não tiveram tempo de recuperar o investimento. Analise essas informações e nos conte quais foram suas conclusões."
      ]
    },
    {
      "cell_type": "markdown",
      "metadata": {
        "id": "SDH4vjxZpwrM",
        "colab_type": "text"
      },
      "source": [
        "## Desafio 4 do [Paulo Silveira](https://twitter.com/paulo_caelum)\n",
        "\n",
        "Quais foram os filmes da decada pré 2° guerra que tiveram muito lucro."
      ]
    },
    {
      "cell_type": "markdown",
      "metadata": {
        "id": "2PcspSJBssTK",
        "colab_type": "text"
      },
      "source": [
        "## Desafio 5 do [Paulo Silveira](https://twitter.com/paulo_caelum)\n",
        "\n",
        "No gráfico de **filmes_irmaos por dindin** temos alguns pontos estranhos entre 15 e 20. Confirme a tese genial do Paulo que o cidadão estranho é o Woody Allen. (Se ele tiver errado pode cornete nas redes sociais kkkkk)"
      ]
    },
    {
      "cell_type": "markdown",
      "metadata": {
        "id": "bPcDyS63tgG4",
        "colab_type": "text"
      },
      "source": [
        "## Desafio 6 do [Thiago Gonçalves](https://twitter.com/tgcsantos)\n",
        "\n",
        "Analise mais detalhadamente o gráfico pairplot, gaste um tempo pensando e tentando enteder os gráficos."
      ]
    },
    {
      "cell_type": "markdown",
      "metadata": {
        "id": "ly1Tn53KtvLy",
        "colab_type": "text"
      },
      "source": [
        "## Desafio 7 do [Thiago Gonçalves](https://twitter.com/tgcsantos)\n",
        "\n",
        "\n",
        "Calcular a correlação apenas dos filmes pós anos 2000 (Jogar fora filmes antes de 2000) e interpretar essa correlação."
      ]
    },
    {
      "cell_type": "markdown",
      "metadata": {
        "id": "4DWyCjXmp0oE",
        "colab_type": "text"
      },
      "source": [
        "## Desafio 8 do [Allan Spadini](https://twitter.com/allanspadini)\n",
        "\n",
        "Tentar encontrar uma reta, pode ser com uma régua no monitor (não faça isso), com o excel/google sheets, com o python, no gráfico que parece se aproximar com uma reta (por exemplo budget/lucro, gross/lucro)"
      ]
    },
    {
      "cell_type": "markdown",
      "metadata": {
        "id": "F1vbpLIZp4y5",
        "colab_type": "text"
      },
      "source": [
        "## Desafio 9 da [Thais André](https://twitter.com/thais_tandre)\n",
        "\n",
        "Analisar e interpretar a correlação de outras variáveis além das feitas em sala (notas é uma boa). Número de avaliações por ano pode ser também uma feature.\n"
      ]
    },
    {
      "cell_type": "markdown",
      "metadata": {
        "id": "vN423KaBi5iB",
        "colab_type": "text"
      },
      "source": [
        "#Não esqueça de compartilhar a solução dos seus desafios com nossos instrutores, seja no Twitter, seja LinkedIn. Boa sorte!"
      ]
    },
    {
      "cell_type": "code",
      "metadata": {
        "id": "kCO7AKFeywV7",
        "colab_type": "code",
        "colab": {}
      },
      "source": [
        ""
      ],
      "execution_count": 0,
      "outputs": []
    }
  ]
}