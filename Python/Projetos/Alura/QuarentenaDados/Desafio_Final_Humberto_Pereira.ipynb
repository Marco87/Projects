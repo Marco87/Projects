{
  "nbformat": 4,
  "nbformat_minor": 0,
  "metadata": {
    "colab": {
      "name": "DEsafio Final - Humberto Pereira.ipynb",
      "provenance": [],
      "collapsed_sections": []
    },
    "kernelspec": {
      "name": "python3",
      "display_name": "Python 3"
    }
  },
  "cells": [
    {
      "cell_type": "markdown",
      "metadata": {
        "id": "WDWeCTCwlAHm",
        "colab_type": "text"
      },
      "source": [
        "## Desafio Quarentena Dados\n",
        "\n",
        "O desafio final das aulas de data science eh conseguir prever a nota da prova de linguagem e codigo a partir das outras notas do aluno.\n",
        "\n",
        "O dataset fornecido contem 4 notas das outras provas de cada aluno. Sao elas:\n",
        "\n",
        "* **NU_NOTA_CN** - Nota da Prova de Ciencias da Natureza\n",
        "* **NU_NOTA_CH** - Nota da Prova de Ciencias Humanas\n",
        "* **NU_NOTA_MT** - Nota da Prova de Matematica\n",
        "* **NU_NOTA_REDACAO** - Nota da Prova de Redacao\n",
        "\n",
        "\n",
        "Os dados fornecidos para o desafio foram divididos em 3 grupos:\n",
        "\n",
        "* **Treino** - contendo 150.000 notas de exemplo\n",
        "* **Teste**  - contendo  20.000 notas de exemplo\n",
        "* **Submissao** - contendo 10.000 notas de exemplo\n",
        "\n",
        "O erro entre a nota final e a nota que foi prevista sera calculado usando `MSE` (mean square root)."
      ]
    },
    {
      "cell_type": "code",
      "metadata": {
        "id": "3qt9GHFXk3mb",
        "colab_type": "code",
        "colab": {}
      },
      "source": [
        "import pandas as pd\n",
        "import numpy as np"
      ],
      "execution_count": 0,
      "outputs": []
    },
    {
      "cell_type": "markdown",
      "metadata": {
        "id": "xkU-8QpdlOGC",
        "colab_type": "text"
      },
      "source": [
        "### Carregando os dados"
      ]
    },
    {
      "cell_type": "code",
      "metadata": {
        "id": "BvrUboiDlPQX",
        "colab_type": "code",
        "colab": {}
      },
      "source": [
        "URI_TREINO    = \"https://github.com/tgcsantos/quaretenadados/blob/master/DADOS_TREINO.csv?raw=true\"\n",
        "URI_TESTE     = \"https://github.com/tgcsantos/quaretenadados/raw/master/DADOS_TESTE.csv?raw=true\"\n",
        "URI_DESAFIOQT = \"https://github.com/tgcsantos/quaretenadados/raw/master/DESAFIOQT.csv?raw=true\"\n",
        "\n",
        "dados_treino  = pd.read_csv(URI_TREINO)\n",
        "dados_teste   = pd.read_csv(URI_TESTE)\n",
        "dados_desafio = pd.read_csv(URI_DESAFIOQT)\n",
        "\n",
        "erro_treino  = \"Erro ao carregar dados de treino\"\n",
        "erro_teste   = \"Erro ao carregar dados de teste\"\n",
        "erro_desafio = \"Erro ao carregar dados de submissão\"\n",
        "\n",
        "assert dados_treino.shape == (150000, 5), erro_treino\n",
        "assert dados_teste.shape == (20000, 5), erro_teste\n",
        "assert dados_desafio.shape == (10000, 5), erro_desafio"
      ],
      "execution_count": 0,
      "outputs": []
    },
    {
      "cell_type": "markdown",
      "metadata": {
        "id": "zO4DQxtslWwC",
        "colab_type": "text"
      },
      "source": [
        "### Feature Engineering\n",
        "\n",
        "Como são poucas as features fornecidas no dataset, eh importante pensarmos em como podemos adicionar mais informacoes no dataset que ajudem o modelo. \n",
        "\n",
        "\n",
        "#### Estatisticas\n",
        "\n",
        "Vamos adicionar algumas informações relevantes sobre o aluno a partir das 4 provas geradas. Essas informações são:\n",
        "\n",
        "* MIN - Nota minina tirada - Talvez ele nao tire uma nota abaixo da menor nota dele\n",
        "* MAX - Nota maxima tirada - Talvez ele nao tire uma nota acima da maior nota dele\n",
        "* MEDIAN - Nota mediana - A nota deve estar proxima da mediana dele\n",
        "* AVERAGE - Nota media - A nota deve estar proxima da media de notas dele\n",
        "* STD - Desvio padrao das notas - Diz pro modelo o quanto varia as notas dele\n",
        "\n",
        "Importante notar que todas essas estatisticas sao calculadas sem a nota alvo. Adicionar qualquer residuo dela contaminaria a amostra. "
      ]
    },
    {
      "cell_type": "code",
      "metadata": {
        "id": "jdBOLBKMlXqO",
        "colab_type": "code",
        "colab": {}
      },
      "source": [
        "# todas as notas menos a nota alvo\n",
        "features = ['NU_NOTA_CN', 'NU_NOTA_CH', 'NU_NOTA_MT', 'NU_NOTA_REDACAO']\n",
        "\n",
        "dados_treino['MEDIAN']  = dados_treino[features].apply(np.median, axis=1)\n",
        "dados_treino['MIN']     = dados_treino[features].apply(np.min, axis=1)\n",
        "dados_treino['MAX']     = dados_treino[features].apply(np.max, axis=1)\n",
        "dados_treino['AVERAGE'] = dados_treino[features].apply(np.average, axis=1)\n",
        "dados_treino['STD']     = dados_treino[features].apply(np.std, axis=1)\n",
        "\n",
        "dados_teste['MEDIAN']  = dados_teste[features].apply(np.median, axis=1)\n",
        "dados_teste['MIN']     = dados_teste[features].apply(np.min, axis=1)\n",
        "dados_teste['MAX']     = dados_teste[features].apply(np.max, axis=1)\n",
        "dados_teste['AVERAGE'] = dados_teste[features].apply(np.average, axis=1)\n",
        "dados_teste['STD']     = dados_teste[features].apply(np.std, axis=1)\n",
        "\n",
        "dados_desafio['MEDIAN']  = dados_desafio[features].apply(np.median, axis=1)\n",
        "dados_desafio['MIN']     = dados_desafio[features].apply(np.min, axis=1)\n",
        "dados_desafio['MAX']     = dados_desafio[features].apply(np.max, axis=1)\n",
        "dados_desafio['AVERAGE'] = dados_desafio[features].apply(np.average, axis=1)\n",
        "dados_desafio['STD']     = dados_desafio[features].apply(np.std, axis=1)"
      ],
      "execution_count": 0,
      "outputs": []
    },
    {
      "cell_type": "markdown",
      "metadata": {
        "id": "HpFF5w4llg-3",
        "colab_type": "text"
      },
      "source": [
        "#### Estatisticas - Sem a nota zero\n",
        "\n",
        "As notas zero são de alunos que nao compareceram nas provas. A falta em uma prova nao diminui a capacidade dele de tirar notas boas em outras provas, por isso deve haver uma estatistica que leva isso em conta. Para isso, vamos adicionar as mesmas estatisticas passadas, mas dessa vez desconsiderando as notas zero. \n",
        "\n",
        "2 Observações:\n",
        "\n",
        "* Como a nota maxima não se altera, nao vamos adicionar ela aqui\n",
        "* Caso o aluno tenha tirado todas notas zero, e removemos todas as notas zero, nao dah pra calcular as estatisticas em um vetor vazio. Nesse caso, removemos fora o aluno"
      ]
    },
    {
      "cell_type": "code",
      "metadata": {
        "id": "e5xWuq_VlhfO",
        "colab_type": "code",
        "colab": {}
      },
      "source": [
        "# remove casos de 100% notas zero\n",
        "dados_treino  = dados_treino.replace(0, np.NaN).dropna(how='all').fillna(0)\n",
        "dados_teste   = dados_teste.replace(0, np.NaN).dropna(how='all').fillna(0)\n",
        "dados_desafio = dados_desafio.replace(0, np.NaN).dropna(how='all').fillna(0)"
      ],
      "execution_count": 0,
      "outputs": []
    },
    {
      "cell_type": "code",
      "metadata": {
        "id": "blhTO9xVllHB",
        "colab_type": "code",
        "outputId": "cb570e3e-c2be-4b5a-f069-8ffc9682b00a",
        "colab": {
          "base_uri": "https://localhost:8080/",
          "height": 36
        }
      },
      "source": [
        "dados_treino.shape, dados_teste.shape, dados_desafio.shape"
      ],
      "execution_count": 0,
      "outputs": [
        {
          "output_type": "execute_result",
          "data": {
            "text/plain": [
              "((149999, 10), (20000, 10), (10000, 10))"
            ]
          },
          "metadata": {
            "tags": []
          },
          "execution_count": 5
        }
      ]
    },
    {
      "cell_type": "markdown",
      "metadata": {
        "id": "ayozHPFVlqnE",
        "colab_type": "text"
      },
      "source": [
        "\n",
        "A limpeza dos zeros removeu so um elemento do treino e deixou o teste e a submissao intactos, então não tem o que nos preocupar.\n",
        "\n",
        "Nas linhas de baixo então geramos as novas estatisticas. Os campos vão ter os mesmo nomes dos campos anteriores, apenas acrescidos do prefixo `NZ` (non zero)."
      ]
    },
    {
      "cell_type": "code",
      "metadata": {
        "id": "jN7UnzSQlrJM",
        "colab_type": "code",
        "colab": {}
      },
      "source": [
        "dados_treino_zeronan       = dados_treino[features].replace(0, np.NaN)\n",
        "dados_treino['NZ_MEDIAN']  = dados_treino_zeronan[features].apply(np.nanmedian, axis=1)\n",
        "dados_treino['NZ_MIN']     = dados_treino_zeronan[features].apply(np.nanmin, axis=1)\n",
        "dados_treino['NZ_AVERAGE'] = dados_treino_zeronan[features].apply(np.nanmean, axis=1)\n",
        "dados_treino['NZ_STD']     = dados_treino_zeronan[features].apply(np.nanstd, axis=1)\n",
        "\n",
        "dados_teste_zeronan       = dados_teste[features].replace(0, np.NaN)\n",
        "dados_teste['NZ_MEDIAN']  = dados_teste_zeronan[features].apply(np.nanmedian, axis=1)\n",
        "dados_teste['NZ_MIN']     = dados_teste_zeronan[features].apply(np.nanmin, axis=1)\n",
        "dados_teste['NZ_AVERAGE'] = dados_teste_zeronan[features].apply(np.nanmean, axis=1)\n",
        "dados_teste['NZ_STD']     = dados_teste_zeronan[features].apply(np.nanstd, axis=1)\n",
        "\n",
        "dados_desafio_zeronan       = dados_desafio[features].replace(0, np.NaN)\n",
        "dados_desafio['NZ_MEDIAN']  = dados_desafio_zeronan[features].apply(np.nanmedian, axis=1)\n",
        "dados_desafio['NZ_MIN']     = dados_desafio_zeronan[features].apply(np.nanmin, axis=1)\n",
        "dados_desafio['NZ_AVERAGE'] = dados_desafio_zeronan[features].apply(np.nanmean, axis=1)\n",
        "dados_desafio['NZ_STD']     = dados_desafio_zeronan[features].apply(np.nanstd, axis=1)"
      ],
      "execution_count": 0,
      "outputs": []
    },
    {
      "cell_type": "code",
      "metadata": {
        "id": "X-DBge_JluVk",
        "colab_type": "code",
        "outputId": "3f3d321a-ed45-4676-c002-3d5d13495a9c",
        "colab": {
          "base_uri": "https://localhost:8080/",
          "height": 36
        }
      },
      "source": [
        "dados_treino.shape, dados_teste.shape, dados_desafio.shape"
      ],
      "execution_count": 0,
      "outputs": [
        {
          "output_type": "execute_result",
          "data": {
            "text/plain": [
              "((149999, 14), (20000, 14), (10000, 14))"
            ]
          },
          "metadata": {
            "tags": []
          },
          "execution_count": 7
        }
      ]
    },
    {
      "cell_type": "markdown",
      "metadata": {
        "id": "OF3VMfO0l0v0",
        "colab_type": "text"
      },
      "source": [
        "Agora em vez de 4, temos 13 features para treinar (14 - o alvo). Eh hora de passar tudo isso para numpy e testar os algoritmos de regressão."
      ]
    },
    {
      "cell_type": "code",
      "metadata": {
        "id": "5DtOvnU0l1aS",
        "colab_type": "code",
        "colab": {}
      },
      "source": [
        "coluna_label = 'NU_NOTA_LC'\n",
        "coluna_features = features + ['MEDIAN', 'MIN', 'MAX', 'AVERAGE', 'STD', 'NZ_MEDIAN', 'NZ_MIN', 'NZ_AVERAGE', 'NZ_STD']\n",
        "\n",
        "X_treino = dados_treino[coluna_features].to_numpy()\n",
        "Y_treino = dados_treino[coluna_label].to_numpy()\n",
        "\n",
        "X_teste = dados_teste[coluna_features].to_numpy()\n",
        "Y_teste = dados_teste[coluna_label].to_numpy()\n",
        "\n",
        "X_desafio = dados_desafio[coluna_features].to_numpy()"
      ],
      "execution_count": 0,
      "outputs": []
    },
    {
      "cell_type": "markdown",
      "metadata": {
        "id": "sexm9htal--R",
        "colab_type": "text"
      },
      "source": [
        "Setamos uma seed para que o resultado seja sempre o mesmo, independente da execução"
      ]
    },
    {
      "cell_type": "code",
      "metadata": {
        "id": "mFO_LCdRl_rn",
        "colab_type": "code",
        "colab": {}
      },
      "source": [
        "SEED = 0xCAFEF0DA"
      ],
      "execution_count": 0,
      "outputs": []
    },
    {
      "cell_type": "markdown",
      "metadata": {
        "id": "-5ZDKbC1mFgl",
        "colab_type": "text"
      },
      "source": [
        "### Treino\n",
        "\n",
        "Para o treino, iremos usar o algoritmo `GradientBoostingRegressor`. Por ser um algoritmo de arvore de decisão, não eh necessário pre processamento para que todos os dados estejam normalizados (com media em zero e desvio padrao em -1,1, como os algoritmos lineares). O loss `huber` é o mais efetivo contra outliers, que acredito ser esse o caso. "
      ]
    },
    {
      "cell_type": "code",
      "metadata": {
        "id": "WKqM1YDfpBCH",
        "colab_type": "code",
        "outputId": "f715b19c-3ea0-490d-fdc0-2396725b0b85",
        "colab": {
          "base_uri": "https://localhost:8080/",
          "height": 184
        }
      },
      "source": [
        "from sklearn.ensemble import GradientBoostingRegressor\n",
        "\n",
        "np.random.seed(SEED)\n",
        "\n",
        "params = {\n",
        "    'loss': 'huber',\n",
        "    'criterion': 'mse',\n",
        "    'n_estimators': 173,\n",
        "    'learning_rate': 0.1,\n",
        "    'min_samples_split': 4,\n",
        "    'min_samples_leaf': 1,\n",
        "    'max_depth': 4,\n",
        "    'random_state': SEED\n",
        "}\n",
        "\n",
        "model = GradientBoostingRegressor(**params)\n",
        "model.fit(X_treino, Y_treino)"
      ],
      "execution_count": 0,
      "outputs": [
        {
          "output_type": "execute_result",
          "data": {
            "text/plain": [
              "GradientBoostingRegressor(alpha=0.9, ccp_alpha=0.0, criterion='mse', init=None,\n",
              "                          learning_rate=0.1, loss='huber', max_depth=4,\n",
              "                          max_features=None, max_leaf_nodes=None,\n",
              "                          min_impurity_decrease=0.0, min_impurity_split=None,\n",
              "                          min_samples_leaf=1, min_samples_split=4,\n",
              "                          min_weight_fraction_leaf=0.0, n_estimators=173,\n",
              "                          n_iter_no_change=None, presort='deprecated',\n",
              "                          random_state=3405705434, subsample=1.0, tol=0.0001,\n",
              "                          validation_fraction=0.1, verbose=0, warm_start=False)"
            ]
          },
          "metadata": {
            "tags": []
          },
          "execution_count": 14
        }
      ]
    },
    {
      "cell_type": "markdown",
      "metadata": {
        "id": "JmGySR8DroCm",
        "colab_type": "text"
      },
      "source": [
        "Depois de treinado, vamos calcular o erro na base de teste fornecida\n",
        "\n",
        "#### Erro na validacao"
      ]
    },
    {
      "cell_type": "code",
      "metadata": {
        "id": "otjpLIMyro49",
        "colab_type": "code",
        "outputId": "0e1447c3-f18c-4a6a-b200-fcaacdb3b68b",
        "colab": {
          "base_uri": "https://localhost:8080/",
          "height": 36
        }
      },
      "source": [
        "from sklearn.metrics import mean_squared_error\n",
        "\n",
        "predictions = model.predict(X_teste)\n",
        "predictions = np.array([round(p, 1) for p in predictions])\n",
        "\n",
        "error = mean_squared_error(Y_teste, predictions)\n",
        "\n",
        "print ('Erro da validacao', error)"
      ],
      "execution_count": 0,
      "outputs": [
        {
          "output_type": "stream",
          "text": [
            "Erro da validacao 2066.7861915\n"
          ],
          "name": "stdout"
        }
      ]
    },
    {
      "cell_type": "markdown",
      "metadata": {
        "id": "8zWUlVZYryPe",
        "colab_type": "text"
      },
      "source": [
        "#### Importancia das features\n",
        "\n",
        "Uma coisa bacana dos modelos baseados em arvore é que eles nos fornecem a importancia de cada feature para compor a decisão final, permitindo serem mais transparentes. Abaixo vamos mostrar a importancia de cada feature nesse treino:"
      ]
    },
    {
      "cell_type": "code",
      "metadata": {
        "id": "BHK9ebLfrucR",
        "colab_type": "code",
        "outputId": "e7abc355-9078-429d-8cc9-cb6b4b7363d5",
        "colab": {
          "base_uri": "https://localhost:8080/",
          "height": 258
        }
      },
      "source": [
        "features = map(lambda x: round(x * 100, 2), model.feature_importances_)\n",
        "names_features = zip(coluna_features, features)\n",
        "names_features = sorted(names_features, key=lambda x:x[1], reverse=True)\n",
        "\n",
        "for name, feature in names_features:\n",
        "    print ('%15s %s %.2f' % (name, '#' * int(feature), feature))"
      ],
      "execution_count": 0,
      "outputs": [
        {
          "output_type": "stream",
          "text": [
            "     NU_NOTA_CH ############################################################################ 76.41\n",
            "        AVERAGE ########### 11.52\n",
            "     NZ_AVERAGE ###### 6.87\n",
            "         MEDIAN ## 2.50\n",
            "     NU_NOTA_CN  0.73\n",
            "      NZ_MEDIAN  0.52\n",
            "            MAX  0.49\n",
            "         NZ_MIN  0.29\n",
            "     NU_NOTA_MT  0.21\n",
            "NU_NOTA_REDACAO  0.16\n",
            "            MIN  0.11\n",
            "         NZ_STD  0.11\n",
            "            STD  0.08\n"
          ],
          "name": "stdout"
        }
      ]
    },
    {
      "cell_type": "markdown",
      "metadata": {
        "id": "kjMvYhpIsivp",
        "colab_type": "text"
      },
      "source": [
        "A nota da prova de Ciencias Humanas e a media das notas correspondem a + de 90% da importancia na decisão do calculo da nota de Linguagem. \n",
        "\n",
        "Agora, por ultimo, a geracao final e o envio do arquivo para o desafio."
      ]
    },
    {
      "cell_type": "code",
      "metadata": {
        "id": "6KttOrCGsXe3",
        "colab_type": "code",
        "colab": {}
      },
      "source": [
        "from google.colab import files\n",
        "\n",
        "predictions = model.predict(X_desafio)\n",
        "predictions = np.array([round(p, 1) for p in predictions])\n",
        "\n",
        "desafio_df = pd.DataFrame(dados_desafio.ID)\n",
        "desafio_df[coluna_label] = predictions\n",
        "\n",
        "desafio_df.to_csv('PREDICAO_DESAFIOQT.csv', index=False) \n",
        "files.download('PREDICAO_DESAFIOQT.csv')"
      ],
      "execution_count": 0,
      "outputs": []
    },
    {
      "cell_type": "code",
      "metadata": {
        "id": "0YzoOPjTtNW1",
        "colab_type": "code",
        "colab": {}
      },
      "source": [
        ""
      ],
      "execution_count": 0,
      "outputs": []
    }
  ]
}