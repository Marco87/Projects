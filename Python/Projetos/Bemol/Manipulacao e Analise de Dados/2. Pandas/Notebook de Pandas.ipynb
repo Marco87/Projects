{
 "cells": [
  {
   "cell_type": "code",
   "execution_count": 0,
   "metadata": {
    "colab": {},
    "colab_type": "code",
    "id": "WnhC7VNuPByU"
   },
   "outputs": [],
   "source": [
    "import pandas as pd "
   ]
  },
  {
   "cell_type": "markdown",
   "metadata": {
    "colab_type": "text",
    "id": "_WY3usxmW3cU"
   },
   "source": [
    "# Leitura de Arquivos"
   ]
  },
  {
   "cell_type": "markdown",
   "metadata": {
    "colab_type": "text",
    "id": "IG18FCuKW9WN"
   },
   "source": [
    "## Arquivos CSV e TXT"
   ]
  },
  {
   "cell_type": "markdown",
   "metadata": {
    "colab_type": "text",
    "id": "IxDnKs9QXIgF"
   },
   "source": [
    "pd.read_csv('nome_do_arquivo.extensao', sep = 'caracter que sepada os dados', skiprows = numero de linhas a serem puladas)"
   ]
  },
  {
   "cell_type": "code",
   "execution_count": 0,
   "metadata": {
    "colab": {},
    "colab_type": "code",
    "id": "tp72knvJYf4j"
   },
   "outputs": [],
   "source": [
    "df_materiais = pd.read_csv('materiais.csv',sep=';')"
   ]
  },
  {
   "cell_type": "code",
   "execution_count": 0,
   "metadata": {
    "colab": {},
    "colab_type": "code",
    "id": "Ok6wRILXZW8y"
   },
   "outputs": [],
   "source": [
    "df_pedidos = pd.read_csv('pedidos.txt',sep='|',skiprows=2)"
   ]
  },
  {
   "cell_type": "markdown",
   "metadata": {
    "colab_type": "text",
    "id": "RByBj1SMbPX-"
   },
   "source": [
    "## Arquivos XLSX"
   ]
  },
  {
   "cell_type": "markdown",
   "metadata": {
    "colab_type": "text",
    "id": "OOgXEE1NbTeM"
   },
   "source": [
    "pd.read_excel('nome_do_arquivo.extensao', sheet_name='nome da aba', skiprows = numero de linhas a serem puladas)"
   ]
  },
  {
   "cell_type": "code",
   "execution_count": 0,
   "metadata": {
    "colab": {},
    "colab_type": "code",
    "id": "Sfae__ZDa91B"
   },
   "outputs": [],
   "source": [
    "df_vendas1 = pd.read_excel('vendas_1.xlsx',sheet_name='vendas')"
   ]
  },
  {
   "cell_type": "code",
   "execution_count": 0,
   "metadata": {
    "colab": {},
    "colab_type": "code",
    "id": "L9WBcrV-b-Up"
   },
   "outputs": [],
   "source": [
    "df_vendas2 = pd.read_excel('vendas_2.xlsx',sheet_name='vendas')"
   ]
  },
  {
   "cell_type": "markdown",
   "metadata": {
    "colab_type": "text",
    "id": "vQcebA4OceSE"
   },
   "source": [
    "# Tratamento de Dados"
   ]
  },
  {
   "cell_type": "markdown",
   "metadata": {
    "colab_type": "text",
    "id": "eT7gMIk_cgn8"
   },
   "source": [
    "## Renomeando colunas"
   ]
  },
  {
   "cell_type": "markdown",
   "metadata": {
    "colab_type": "text",
    "id": "Y3sQ4PsngOU8"
   },
   "source": [
    "df.rename(columns={'coluna_antiga':'coluna_nova', 'coluna_antiga2': 'coluna_nova2'})"
   ]
  },
  {
   "cell_type": "code",
   "execution_count": 0,
   "metadata": {
    "colab": {},
    "colab_type": "code",
    "id": "RZbJ7KARhJeT"
   },
   "outputs": [],
   "source": [
    "df_materiais = df_materiais.rename(columns = {'Material':'material','Texto breve material':'texto_breve'})"
   ]
  },
  {
   "cell_type": "markdown",
   "metadata": {
    "colab_type": "text",
    "id": "FVOgRjcSh0lV"
   },
   "source": [
    "df.columns = ['coluna_nova','coluna_nova2',...]"
   ]
  },
  {
   "cell_type": "code",
   "execution_count": 0,
   "metadata": {
    "colab": {},
    "colab_type": "code",
    "id": "p68l90edcQ9r"
   },
   "outputs": [],
   "source": [
    "df_pedidos.columns = ['fornecedor','material','qtd_pedido','texto_breve','qtd_estoque']"
   ]
  },
  {
   "cell_type": "code",
   "execution_count": 0,
   "metadata": {
    "colab": {},
    "colab_type": "code",
    "id": "z-zDUW3whJwp"
   },
   "outputs": [],
   "source": [
    "df_vendas1.columns = ['data','material','qtd_vendas']"
   ]
  },
  {
   "cell_type": "code",
   "execution_count": 0,
   "metadata": {
    "colab": {},
    "colab_type": "code",
    "id": "nf0aCDYiifBH"
   },
   "outputs": [],
   "source": [
    "df_vendas2.columns = ['data','material','qtd_vendas']"
   ]
  },
  {
   "cell_type": "markdown",
   "metadata": {
    "colab_type": "text",
    "id": "QxxY9fRRjGqY"
   },
   "source": [
    "## Verificar tipos de dados"
   ]
  },
  {
   "cell_type": "markdown",
   "metadata": {
    "colab_type": "text",
    "id": "NV4EBjcmxRrT"
   },
   "source": [
    "### Verificar tipos"
   ]
  },
  {
   "cell_type": "markdown",
   "metadata": {
    "colab_type": "text",
    "id": "XlNXVsKtkjNx"
   },
   "source": [
    "df.dtypes\n",
    "| df['coluna'].dtype"
   ]
  },
  {
   "cell_type": "code",
   "execution_count": 0,
   "metadata": {
    "colab": {
     "base_uri": "https://localhost:8080/",
     "height": 68
    },
    "colab_type": "code",
    "id": "SzS9Gvz3jtkM",
    "outputId": "53aff735-adaa-42af-82dc-05b9d2e9ac51"
   },
   "outputs": [
    {
     "data": {
      "text/plain": [
       "material        int64\n",
       "texto_breve    object\n",
       "dtype: object"
      ]
     },
     "execution_count": 10,
     "metadata": {
      "tags": []
     },
     "output_type": "execute_result"
    }
   ],
   "source": [
    "df_materiais.dtypes"
   ]
  },
  {
   "cell_type": "code",
   "execution_count": 0,
   "metadata": {
    "colab": {
     "base_uri": "https://localhost:8080/",
     "height": 119
    },
    "colab_type": "code",
    "id": "qEDvq4cLk6Rd",
    "outputId": "e2217685-c495-407a-83f1-b3df8ef0f6e5"
   },
   "outputs": [
    {
     "data": {
      "text/plain": [
       "fornecedor      object\n",
       "material         int64\n",
       "qtd_pedido     float64\n",
       "texto_breve     object\n",
       "qtd_estoque      int64\n",
       "dtype: object"
      ]
     },
     "execution_count": 11,
     "metadata": {
      "tags": []
     },
     "output_type": "execute_result"
    }
   ],
   "source": [
    "df_pedidos.dtypes"
   ]
  },
  {
   "cell_type": "code",
   "execution_count": 0,
   "metadata": {
    "colab": {
     "base_uri": "https://localhost:8080/",
     "height": 85
    },
    "colab_type": "code",
    "id": "KPtJAW-flVgX",
    "outputId": "741c2e63-7199-4f27-8b67-efa20a9e2bcf"
   },
   "outputs": [
    {
     "data": {
      "text/plain": [
       "data          object\n",
       "material       int64\n",
       "qtd_vendas     int64\n",
       "dtype: object"
      ]
     },
     "execution_count": 12,
     "metadata": {
      "tags": []
     },
     "output_type": "execute_result"
    }
   ],
   "source": [
    "df_vendas1.dtypes"
   ]
  },
  {
   "cell_type": "code",
   "execution_count": 0,
   "metadata": {
    "colab": {
     "base_uri": "https://localhost:8080/",
     "height": 85
    },
    "colab_type": "code",
    "id": "KCmMRW_dlZ82",
    "outputId": "53ffd469-16f5-4831-a4ef-c986bc86c17e"
   },
   "outputs": [
    {
     "data": {
      "text/plain": [
       "data          object\n",
       "material       int64\n",
       "qtd_vendas     int64\n",
       "dtype: object"
      ]
     },
     "execution_count": 13,
     "metadata": {
      "tags": []
     },
     "output_type": "execute_result"
    }
   ],
   "source": [
    "df_vendas2.dtypes"
   ]
  },
  {
   "cell_type": "markdown",
   "metadata": {
    "colab_type": "text",
    "id": "QbquTfLhxVvM"
   },
   "source": [
    "### Alterando tipode de uma coluna"
   ]
  },
  {
   "cell_type": "markdown",
   "metadata": {
    "colab_type": "text",
    "id": "ExoyUxm8xhN1"
   },
   "source": [
    "df['coluna'].astype() (int ou float ou str)"
   ]
  },
  {
   "cell_type": "code",
   "execution_count": 0,
   "metadata": {
    "colab": {},
    "colab_type": "code",
    "id": "TuUaldCLlc0l"
   },
   "outputs": [],
   "source": [
    "df_pedidos['qtd_pedido'] = df_pedidos['qtd_pedido'].astype(int)"
   ]
  },
  {
   "cell_type": "markdown",
   "metadata": {
    "colab_type": "text",
    "id": "s0yo1Xt6oRw4"
   },
   "source": [
    "## Eliminando Dados"
   ]
  },
  {
   "cell_type": "markdown",
   "metadata": {
    "colab_type": "text",
    "id": "b0OuyX51oYnN"
   },
   "source": [
    "df.drop(['coluna2','coluna3'],axis='columns')\n",
    "\n",
    "df.drop([1,2],axis='index')"
   ]
  },
  {
   "cell_type": "code",
   "execution_count": 0,
   "metadata": {
    "colab": {},
    "colab_type": "code",
    "id": "V5uE9Em7l5Nk"
   },
   "outputs": [],
   "source": [
    "df_materiais = df_materiais.drop(['texto_breve'],axis='columns')"
   ]
  },
  {
   "cell_type": "markdown",
   "metadata": {
    "colab_type": "text",
    "id": "mxeN85E6phLx"
   },
   "source": [
    "df[['coluna2','coluna1']].copy()"
   ]
  },
  {
   "cell_type": "code",
   "execution_count": 0,
   "metadata": {
    "colab": {},
    "colab_type": "code",
    "id": "wn5yFufHo10I"
   },
   "outputs": [],
   "source": [
    "df_pedidos = df_pedidos[['material','qtd_pedido','qtd_estoque']].copy()"
   ]
  },
  {
   "cell_type": "code",
   "execution_count": 0,
   "metadata": {
    "colab": {},
    "colab_type": "code",
    "id": "la_B-xZEp8VG"
   },
   "outputs": [],
   "source": [
    "df_vendas1 = df_vendas1[['material','qtd_vendas']].copy()"
   ]
  },
  {
   "cell_type": "code",
   "execution_count": 0,
   "metadata": {
    "colab": {},
    "colab_type": "code",
    "id": "KOQ-sbZ-qNjU"
   },
   "outputs": [],
   "source": [
    "df_vendas2 = df_vendas2[['material','qtd_vendas']].copy()"
   ]
  },
  {
   "cell_type": "markdown",
   "metadata": {
    "colab_type": "text",
    "id": "72HNj7PKs3uH"
   },
   "source": [
    "# Concatenar tabelas"
   ]
  },
  {
   "cell_type": "code",
   "execution_count": 0,
   "metadata": {
    "colab": {
     "base_uri": "https://localhost:8080/",
     "height": 68
    },
    "colab_type": "code",
    "id": "NuiNF9Qxqopj",
    "outputId": "8c848a62-8517-4a92-d865-f2a65e191799"
   },
   "outputs": [
    {
     "data": {
      "text/plain": [
       "material      int64\n",
       "qtd_vendas    int64\n",
       "dtype: object"
      ]
     },
     "execution_count": 19,
     "metadata": {
      "tags": []
     },
     "output_type": "execute_result"
    }
   ],
   "source": [
    "df_vendas1.dtypes"
   ]
  },
  {
   "cell_type": "code",
   "execution_count": 0,
   "metadata": {
    "colab": {
     "base_uri": "https://localhost:8080/",
     "height": 68
    },
    "colab_type": "code",
    "id": "EMJP2H61tLAB",
    "outputId": "ff29d3c0-528e-4cec-d26d-3ec9cfd92d87"
   },
   "outputs": [
    {
     "data": {
      "text/plain": [
       "material      int64\n",
       "qtd_vendas    int64\n",
       "dtype: object"
      ]
     },
     "execution_count": 20,
     "metadata": {
      "tags": []
     },
     "output_type": "execute_result"
    }
   ],
   "source": [
    "df_vendas2.dtypes"
   ]
  },
  {
   "cell_type": "markdown",
   "metadata": {
    "colab_type": "text",
    "id": "0Yq5tPietcMD"
   },
   "source": [
    "pd.concat([df_vendas1,df_vendas2])"
   ]
  },
  {
   "cell_type": "code",
   "execution_count": 0,
   "metadata": {
    "colab": {
     "base_uri": "https://localhost:8080/",
     "height": 34
    },
    "colab_type": "code",
    "id": "SCWakxqltvAH",
    "outputId": "e21634ba-f4c7-410c-e54e-4e389167785c"
   },
   "outputs": [
    {
     "data": {
      "text/plain": [
       "(8657, 2)"
      ]
     },
     "execution_count": 21,
     "metadata": {
      "tags": []
     },
     "output_type": "execute_result"
    }
   ],
   "source": [
    "df_vendas1.shape"
   ]
  },
  {
   "cell_type": "code",
   "execution_count": 0,
   "metadata": {
    "colab": {
     "base_uri": "https://localhost:8080/",
     "height": 34
    },
    "colab_type": "code",
    "id": "pRDZTx2-tvJ0",
    "outputId": "9d0336b3-ba99-4f9c-8ef0-30b4f8b97dd1"
   },
   "outputs": [
    {
     "data": {
      "text/plain": [
       "(8144, 2)"
      ]
     },
     "execution_count": 22,
     "metadata": {
      "tags": []
     },
     "output_type": "execute_result"
    }
   ],
   "source": [
    "df_vendas2.shape"
   ]
  },
  {
   "cell_type": "code",
   "execution_count": 0,
   "metadata": {
    "colab": {},
    "colab_type": "code",
    "id": "qV357k-YtPCe"
   },
   "outputs": [],
   "source": [
    "df_vendas = pd.concat([df_vendas1,df_vendas2])"
   ]
  },
  {
   "cell_type": "code",
   "execution_count": 0,
   "metadata": {
    "colab": {},
    "colab_type": "code",
    "id": "mEJkxvBdtsyD"
   },
   "outputs": [],
   "source": [
    "df_vendas = df_vendas.reset_index(drop=True)"
   ]
  },
  {
   "cell_type": "markdown",
   "metadata": {
    "colab_type": "text",
    "id": "7bO6m8icXwVD"
   },
   "source": [
    "# Correlação de Tabelas"
   ]
  },
  {
   "cell_type": "markdown",
   "metadata": {
    "colab_type": "text",
    "id": "mluU-m72X43Z"
   },
   "source": [
    "## Agrupamento de dados"
   ]
  },
  {
   "cell_type": "markdown",
   "metadata": {
    "colab_type": "text",
    "id": "_grPA7idZCI3"
   },
   "source": [
    "pd.groupby(['colunas a serem agrupadas']).agg({'coluna1':'sum','coluna2':'mean','coluna3':'max', 'coluna4':'min','coluna5':'first'}).reset_index()"
   ]
  },
  {
   "cell_type": "code",
   "execution_count": 0,
   "metadata": {
    "colab": {},
    "colab_type": "code",
    "id": "BHMePq1qv5XL"
   },
   "outputs": [],
   "source": [
    "df_pedidos = df_pedidos.groupby(['material']).agg({'qtd_pedido':'sum','qtd_estoque':'sum'}).reset_index()"
   ]
  },
  {
   "cell_type": "code",
   "execution_count": 0,
   "metadata": {
    "colab": {},
    "colab_type": "code",
    "id": "TE1jIgyOcaEk"
   },
   "outputs": [],
   "source": [
    "df_vendas = df_vendas.groupby(['material']).agg({'qtd_vendas':'sum'}).reset_index()"
   ]
  },
  {
   "cell_type": "markdown",
   "metadata": {
    "colab_type": "text",
    "id": "AogRbyYLeEem"
   },
   "source": [
    "## Merge de tabelas "
   ]
  },
  {
   "cell_type": "markdown",
   "metadata": {
    "colab_type": "text",
    "id": "CS6Cg_63iEjp"
   },
   "source": [
    "pd.merge(df_tabela_esquerda,df_tabela_direita, on=['colunas em comum'], how='método de correlação')\n",
    "\n",
    "how poder ser: left (esquerda), rigth (direita), inner (apenas itens em comum), outer (todos os itens)"
   ]
  },
  {
   "cell_type": "code",
   "execution_count": 0,
   "metadata": {
    "colab": {},
    "colab_type": "code",
    "id": "OYBTGUbmeXBO"
   },
   "outputs": [],
   "source": [
    "df_relatorio = pd.merge(df_materiais,df_pedidos, on=['material'], how='left')"
   ]
  },
  {
   "cell_type": "code",
   "execution_count": 0,
   "metadata": {
    "colab": {},
    "colab_type": "code",
    "id": "V4gzWJVDjOaH"
   },
   "outputs": [],
   "source": [
    "df_relatorio = pd.merge(df_relatorio,df_vendas, on=['material'], how='left')"
   ]
  },
  {
   "cell_type": "markdown",
   "metadata": {
    "colab_type": "text",
    "id": "soAa2nq3kpV_"
   },
   "source": [
    "### Tratando o pós merge"
   ]
  },
  {
   "cell_type": "markdown",
   "metadata": {
    "colab_type": "text",
    "id": "LX69W-QOkuSY"
   },
   "source": [
    "df.fillna(qualquer valor para substituir os NaN)\n",
    "\n",
    "df['coluna'].fillna(qualquer valor para substituir os NaN)"
   ]
  },
  {
   "cell_type": "code",
   "execution_count": 0,
   "metadata": {
    "colab": {
     "base_uri": "https://localhost:8080/",
     "height": 142
    },
    "colab_type": "code",
    "id": "W1bBJ0TdqZ1B",
    "outputId": "8490ab1c-6079-4076-f6a7-086a007dbe7a"
   },
   "outputs": [
    {
     "data": {
      "text/html": [
       "<div>\n",
       "<style scoped>\n",
       "    .dataframe tbody tr th:only-of-type {\n",
       "        vertical-align: middle;\n",
       "    }\n",
       "\n",
       "    .dataframe tbody tr th {\n",
       "        vertical-align: top;\n",
       "    }\n",
       "\n",
       "    .dataframe thead th {\n",
       "        text-align: right;\n",
       "    }\n",
       "</style>\n",
       "<table border=\"1\" class=\"dataframe\">\n",
       "  <thead>\n",
       "    <tr style=\"text-align: right;\">\n",
       "      <th></th>\n",
       "      <th>material</th>\n",
       "      <th>qtd_pedido</th>\n",
       "      <th>qtd_estoque</th>\n",
       "      <th>qtd_vendas</th>\n",
       "    </tr>\n",
       "  </thead>\n",
       "  <tbody>\n",
       "    <tr>\n",
       "      <th>0</th>\n",
       "      <td>4000010</td>\n",
       "      <td>250.0</td>\n",
       "      <td>25.0</td>\n",
       "      <td>NaN</td>\n",
       "    </tr>\n",
       "    <tr>\n",
       "      <th>1</th>\n",
       "      <td>4000013</td>\n",
       "      <td>NaN</td>\n",
       "      <td>NaN</td>\n",
       "      <td>6.0</td>\n",
       "    </tr>\n",
       "    <tr>\n",
       "      <th>2</th>\n",
       "      <td>4000014</td>\n",
       "      <td>60.0</td>\n",
       "      <td>6.0</td>\n",
       "      <td>1.0</td>\n",
       "    </tr>\n",
       "  </tbody>\n",
       "</table>\n",
       "</div>"
      ],
      "text/plain": [
       "   material  qtd_pedido  qtd_estoque  qtd_vendas\n",
       "0   4000010       250.0         25.0         NaN\n",
       "1   4000013         NaN          NaN         6.0\n",
       "2   4000014        60.0          6.0         1.0"
      ]
     },
     "execution_count": 29,
     "metadata": {
      "tags": []
     },
     "output_type": "execute_result"
    }
   ],
   "source": [
    "df_relatorio.head(3)"
   ]
  },
  {
   "cell_type": "code",
   "execution_count": 0,
   "metadata": {
    "colab": {},
    "colab_type": "code",
    "id": "hxkvrhFdkPTQ"
   },
   "outputs": [],
   "source": [
    "df_relatorio = df_relatorio.fillna(0)"
   ]
  },
  {
   "cell_type": "code",
   "execution_count": 0,
   "metadata": {
    "colab": {
     "base_uri": "https://localhost:8080/",
     "height": 111
    },
    "colab_type": "code",
    "id": "NHrB77Jdojzp",
    "outputId": "e2dcd0ae-8b57-4a5d-a61f-3724888fcb12"
   },
   "outputs": [
    {
     "data": {
      "text/html": [
       "<div>\n",
       "<style scoped>\n",
       "    .dataframe tbody tr th:only-of-type {\n",
       "        vertical-align: middle;\n",
       "    }\n",
       "\n",
       "    .dataframe tbody tr th {\n",
       "        vertical-align: top;\n",
       "    }\n",
       "\n",
       "    .dataframe thead th {\n",
       "        text-align: right;\n",
       "    }\n",
       "</style>\n",
       "<table border=\"1\" class=\"dataframe\">\n",
       "  <thead>\n",
       "    <tr style=\"text-align: right;\">\n",
       "      <th></th>\n",
       "      <th>material</th>\n",
       "      <th>qtd_pedido</th>\n",
       "      <th>qtd_estoque</th>\n",
       "      <th>qtd_vendas</th>\n",
       "    </tr>\n",
       "  </thead>\n",
       "  <tbody>\n",
       "    <tr>\n",
       "      <th>0</th>\n",
       "      <td>4000010</td>\n",
       "      <td>250.0</td>\n",
       "      <td>25.0</td>\n",
       "      <td>0.0</td>\n",
       "    </tr>\n",
       "    <tr>\n",
       "      <th>1</th>\n",
       "      <td>4000013</td>\n",
       "      <td>0.0</td>\n",
       "      <td>0.0</td>\n",
       "      <td>6.0</td>\n",
       "    </tr>\n",
       "  </tbody>\n",
       "</table>\n",
       "</div>"
      ],
      "text/plain": [
       "   material  qtd_pedido  qtd_estoque  qtd_vendas\n",
       "0   4000010       250.0         25.0         0.0\n",
       "1   4000013         0.0          0.0         6.0"
      ]
     },
     "execution_count": 31,
     "metadata": {
      "tags": []
     },
     "output_type": "execute_result"
    }
   ],
   "source": [
    "df_relatorio.head(2)"
   ]
  },
  {
   "cell_type": "code",
   "execution_count": 0,
   "metadata": {
    "colab": {},
    "colab_type": "code",
    "id": "BtDmgdzHkceW"
   },
   "outputs": [],
   "source": [
    "df_relatorio[['qtd_pedido','qtd_estoque','qtd_vendas']] = df_relatorio[['qtd_pedido','qtd_estoque','qtd_vendas']].astype(int)"
   ]
  },
  {
   "cell_type": "markdown",
   "metadata": {
    "colab_type": "text",
    "id": "hsiLtl-0rBjR"
   },
   "source": [
    "# Regra de Negócio"
   ]
  },
  {
   "cell_type": "markdown",
   "metadata": {
    "colab_type": "text",
    "id": "b0J9Kfw2rvzj"
   },
   "source": [
    "## Operações entre colunas (sem condicional)"
   ]
  },
  {
   "cell_type": "code",
   "execution_count": 0,
   "metadata": {
    "colab": {},
    "colab_type": "code",
    "id": "YvzjWMqLlJyG"
   },
   "outputs": [],
   "source": [
    "df_relatorio['qtd_loja'] = df_relatorio['qtd_pedido'] + df_relatorio['qtd_estoque']"
   ]
  },
  {
   "cell_type": "code",
   "execution_count": 0,
   "metadata": {
    "colab": {},
    "colab_type": "code",
    "id": "3iesELcItf6N"
   },
   "outputs": [],
   "source": [
    "df_relatorio = df_relatorio[['material','qtd_loja','qtd_vendas']].copy()"
   ]
  },
  {
   "cell_type": "markdown",
   "metadata": {
    "colab_type": "text",
    "id": "l9qW0B4XuDrm"
   },
   "source": [
    "## Operações entre colunas (com condicional)"
   ]
  },
  {
   "cell_type": "code",
   "execution_count": 0,
   "metadata": {
    "colab": {},
    "colab_type": "code",
    "id": "z0xDjxQWuL03"
   },
   "outputs": [],
   "source": [
    "def calcular_porcentagem(loja,vendas):\n",
    "  if (vendas!=0):\n",
    "    porcentagem = loja/vendas\n",
    "    return porcentagem\n",
    "  elif ((vendas==0) and (loja!=0)):\n",
    "    return 1.2\n",
    "  else:\n",
    "    return 0"
   ]
  },
  {
   "cell_type": "markdown",
   "metadata": {
    "colab_type": "text",
    "id": "8MVvK2L0wM7p"
   },
   "source": [
    "df.apply(lambda row: funcao(row['coluna_x'],row['coluna_y']), axis='columns')"
   ]
  },
  {
   "cell_type": "code",
   "execution_count": 0,
   "metadata": {
    "colab": {},
    "colab_type": "code",
    "id": "r9VJk2lTxDtw"
   },
   "outputs": [],
   "source": [
    "df_relatorio['porcentagem'] = df_relatorio.apply(lambda row: calcular_porcentagem(row['qtd_loja'],row['qtd_vendas']), axis='columns')"
   ]
  },
  {
   "cell_type": "code",
   "execution_count": 0,
   "metadata": {
    "colab": {},
    "colab_type": "code",
    "id": "2CwSyF3otu80"
   },
   "outputs": [],
   "source": [
    "def verificar_status(porc):\n",
    "  if (porc>=1.2):\n",
    "    return 'alerta'\n",
    "  else:\n",
    "    return ''"
   ]
  },
  {
   "cell_type": "code",
   "execution_count": 0,
   "metadata": {
    "colab": {},
    "colab_type": "code",
    "id": "_2BGd2KpxuaS"
   },
   "outputs": [],
   "source": [
    "df_relatorio['status'] = df_relatorio.apply(lambda row: verificar_status(row['porcentagem']), axis='columns')"
   ]
  },
  {
   "cell_type": "markdown",
   "metadata": {
    "colab_type": "text",
    "id": "nbj1PO290dnU"
   },
   "source": [
    "# Filtro de dados"
   ]
  },
  {
   "cell_type": "markdown",
   "metadata": {
    "colab_type": "text",
    "id": "ATqNfztB0v_O"
   },
   "source": [
    "df[(condicao do filtro)]\n",
    "\n",
    "and - &\n",
    "or - |"
   ]
  },
  {
   "cell_type": "code",
   "execution_count": 0,
   "metadata": {
    "colab": {
     "base_uri": "https://localhost:8080/",
     "height": 204
    },
    "colab_type": "code",
    "id": "aB9uzuBU1Imt",
    "outputId": "a511fce5-3aae-44df-8ddd-e9e9c023fc98"
   },
   "outputs": [
    {
     "data": {
      "text/html": [
       "<div>\n",
       "<style scoped>\n",
       "    .dataframe tbody tr th:only-of-type {\n",
       "        vertical-align: middle;\n",
       "    }\n",
       "\n",
       "    .dataframe tbody tr th {\n",
       "        vertical-align: top;\n",
       "    }\n",
       "\n",
       "    .dataframe thead th {\n",
       "        text-align: right;\n",
       "    }\n",
       "</style>\n",
       "<table border=\"1\" class=\"dataframe\">\n",
       "  <thead>\n",
       "    <tr style=\"text-align: right;\">\n",
       "      <th></th>\n",
       "      <th>material</th>\n",
       "      <th>qtd_loja</th>\n",
       "      <th>qtd_vendas</th>\n",
       "      <th>porcentagem</th>\n",
       "      <th>status</th>\n",
       "    </tr>\n",
       "  </thead>\n",
       "  <tbody>\n",
       "    <tr>\n",
       "      <th>6</th>\n",
       "      <td>4000019</td>\n",
       "      <td>7</td>\n",
       "      <td>151</td>\n",
       "      <td>0.046358</td>\n",
       "      <td></td>\n",
       "    </tr>\n",
       "    <tr>\n",
       "      <th>7</th>\n",
       "      <td>4000020</td>\n",
       "      <td>9</td>\n",
       "      <td>27</td>\n",
       "      <td>0.333333</td>\n",
       "      <td></td>\n",
       "    </tr>\n",
       "    <tr>\n",
       "      <th>139</th>\n",
       "      <td>4000173</td>\n",
       "      <td>2</td>\n",
       "      <td>3</td>\n",
       "      <td>0.666667</td>\n",
       "      <td></td>\n",
       "    </tr>\n",
       "    <tr>\n",
       "      <th>247</th>\n",
       "      <td>4000301</td>\n",
       "      <td>1</td>\n",
       "      <td>2</td>\n",
       "      <td>0.500000</td>\n",
       "      <td></td>\n",
       "    </tr>\n",
       "    <tr>\n",
       "      <th>275</th>\n",
       "      <td>4000331</td>\n",
       "      <td>1</td>\n",
       "      <td>5</td>\n",
       "      <td>0.200000</td>\n",
       "      <td></td>\n",
       "    </tr>\n",
       "  </tbody>\n",
       "</table>\n",
       "</div>"
      ],
      "text/plain": [
       "     material  qtd_loja  qtd_vendas  porcentagem status\n",
       "6     4000019         7         151     0.046358       \n",
       "7     4000020         9          27     0.333333       \n",
       "139   4000173         2           3     0.666667       \n",
       "247   4000301         1           2     0.500000       \n",
       "275   4000331         1           5     0.200000       "
      ]
     },
     "execution_count": 62,
     "metadata": {
      "tags": []
     },
     "output_type": "execute_result"
    }
   ],
   "source": [
    "# Apenas para visualizar possibilidade\n",
    "\n",
    "df_relatorio[(df_relatorio['status']!='alerta') & (df_relatorio['qtd_loja']!=0)].head(5)"
   ]
  },
  {
   "cell_type": "markdown",
   "metadata": {
    "colab_type": "text",
    "id": "8ePwMfyg2u0F"
   },
   "source": [
    "# Ordenar dados"
   ]
  },
  {
   "cell_type": "markdown",
   "metadata": {
    "colab_type": "text",
    "id": "dE0dJg8x2ztD"
   },
   "source": [
    "df.sort_values([colunas a serem ordenadas], ascending=True) - crescente\n",
    "\n",
    "df.sort_values([colunas a serem ordenadas], ascending=False) - decrescente"
   ]
  },
  {
   "cell_type": "code",
   "execution_count": 0,
   "metadata": {
    "colab": {
     "base_uri": "https://localhost:8080/",
     "height": 204
    },
    "colab_type": "code",
    "id": "UQWEhXH70jOp",
    "outputId": "bc732798-6433-4d4a-d3a5-073ea7fdda18"
   },
   "outputs": [
    {
     "data": {
      "text/html": [
       "<div>\n",
       "<style scoped>\n",
       "    .dataframe tbody tr th:only-of-type {\n",
       "        vertical-align: middle;\n",
       "    }\n",
       "\n",
       "    .dataframe tbody tr th {\n",
       "        vertical-align: top;\n",
       "    }\n",
       "\n",
       "    .dataframe thead th {\n",
       "        text-align: right;\n",
       "    }\n",
       "</style>\n",
       "<table border=\"1\" class=\"dataframe\">\n",
       "  <thead>\n",
       "    <tr style=\"text-align: right;\">\n",
       "      <th></th>\n",
       "      <th>material</th>\n",
       "      <th>qtd_loja</th>\n",
       "      <th>qtd_vendas</th>\n",
       "      <th>porcentagem</th>\n",
       "      <th>status</th>\n",
       "    </tr>\n",
       "  </thead>\n",
       "  <tbody>\n",
       "    <tr>\n",
       "      <th>2800</th>\n",
       "      <td>4004641</td>\n",
       "      <td>525</td>\n",
       "      <td>0</td>\n",
       "      <td>1.200000</td>\n",
       "      <td>alerta</td>\n",
       "    </tr>\n",
       "    <tr>\n",
       "      <th>1188</th>\n",
       "      <td>4001448</td>\n",
       "      <td>462</td>\n",
       "      <td>17</td>\n",
       "      <td>27.176471</td>\n",
       "      <td>alerta</td>\n",
       "    </tr>\n",
       "    <tr>\n",
       "      <th>877</th>\n",
       "      <td>4001064</td>\n",
       "      <td>440</td>\n",
       "      <td>3</td>\n",
       "      <td>146.666667</td>\n",
       "      <td>alerta</td>\n",
       "    </tr>\n",
       "    <tr>\n",
       "      <th>2929</th>\n",
       "      <td>4005270</td>\n",
       "      <td>401</td>\n",
       "      <td>1</td>\n",
       "      <td>401.000000</td>\n",
       "      <td>alerta</td>\n",
       "    </tr>\n",
       "    <tr>\n",
       "      <th>3579</th>\n",
       "      <td>4006391</td>\n",
       "      <td>330</td>\n",
       "      <td>0</td>\n",
       "      <td>1.200000</td>\n",
       "      <td>alerta</td>\n",
       "    </tr>\n",
       "  </tbody>\n",
       "</table>\n",
       "</div>"
      ],
      "text/plain": [
       "      material  qtd_loja  qtd_vendas  porcentagem  status\n",
       "2800   4004641       525           0     1.200000  alerta\n",
       "1188   4001448       462          17    27.176471  alerta\n",
       "877    4001064       440           3   146.666667  alerta\n",
       "2929   4005270       401           1   401.000000  alerta\n",
       "3579   4006391       330           0     1.200000  alerta"
      ]
     },
     "execution_count": 66,
     "metadata": {
      "tags": []
     },
     "output_type": "execute_result"
    }
   ],
   "source": [
    "# Apenas para visualizar possibilidade\n",
    "\n",
    "df_relatorio.sort_values(['qtd_loja'], ascending=False)"
   ]
  },
  {
   "cell_type": "markdown",
   "metadata": {
    "colab_type": "text",
    "id": "19cSfVoB3ekZ"
   },
   "source": [
    "# Exportanto Dados"
   ]
  },
  {
   "cell_type": "markdown",
   "metadata": {
    "colab_type": "text",
    "id": "yfpI7RJP3i4R"
   },
   "source": [
    "df.to_csv('nome_do_arquivo.csv', sep='caracter para separar os dados', index=False)"
   ]
  },
  {
   "cell_type": "code",
   "execution_count": 0,
   "metadata": {
    "colab": {},
    "colab_type": "code",
    "id": "gyuZQnV13Hnp"
   },
   "outputs": [],
   "source": [
    "df_relatorio.to_csv('Relatório Final.csv',sep=';',index=False)"
   ]
  },
  {
   "cell_type": "markdown",
   "metadata": {
    "colab_type": "text",
    "id": "CDC7yDpe4Upn"
   },
   "source": [
    "writer = pd.ExcelWriter('Relatório Final.xlsx')\n",
    "\n",
    "df.to_excel(writer, sheet_name='nome_aba1', index=False)\n",
    "df.to_excel(writer, sheet_name='nome_aba2',index=False)\n",
    "\n",
    "writer.save()"
   ]
  },
  {
   "cell_type": "code",
   "execution_count": 0,
   "metadata": {
    "colab": {},
    "colab_type": "code",
    "id": "FS09grtl4K3T"
   },
   "outputs": [],
   "source": [
    "writer = pd.ExcelWriter('Relatório Final.xlsx')\n",
    "\n",
    "df_relatorio.to_excel(writer, sheet_name='relatorio', index=False)\n",
    "\n",
    "writer.save()"
   ]
  }
 ],
 "metadata": {
  "colab": {
   "name": "Aula_Completa.ipynb",
   "provenance": []
  },
  "kernelspec": {
   "display_name": "Python 3",
   "language": "python",
   "name": "python3"
  },
  "language_info": {
   "codemirror_mode": {
    "name": "ipython",
    "version": 3
   },
   "file_extension": ".py",
   "mimetype": "text/x-python",
   "name": "python",
   "nbconvert_exporter": "python",
   "pygments_lexer": "ipython3",
   "version": "3.8.1"
  }
 },
 "nbformat": 4,
 "nbformat_minor": 1
}
