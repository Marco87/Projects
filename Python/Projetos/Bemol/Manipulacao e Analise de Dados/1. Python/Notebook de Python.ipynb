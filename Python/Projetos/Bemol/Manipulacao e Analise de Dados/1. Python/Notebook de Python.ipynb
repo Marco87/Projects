{
 "cells": [
  {
   "cell_type": "markdown",
   "metadata": {
    "colab_type": "text",
    "id": "jQd0LBp_5932"
   },
   "source": [
    "## Variáveis"
   ]
  },
  {
   "cell_type": "markdown",
   "metadata": {
    "colab_type": "text",
    "id": "r03LKdTm5933"
   },
   "source": [
    "#### Existem dois tipos básicos de variáveis do tipo número, um deles é o tipo `inteiro`"
   ]
  },
  {
   "cell_type": "code",
   "execution_count": 0,
   "metadata": {
    "colab": {},
    "colab_type": "code",
    "id": "VH3knyxI5934"
   },
   "outputs": [],
   "source": [
    "idade = 15"
   ]
  },
  {
   "cell_type": "code",
   "execution_count": 0,
   "metadata": {
    "colab": {},
    "colab_type": "code",
    "id": "E50aaV8s593-"
   },
   "outputs": [],
   "source": [
    "idade"
   ]
  },
  {
   "cell_type": "markdown",
   "metadata": {
    "colab_type": "text",
    "id": "18c1wXuU594B"
   },
   "source": [
    "#### Para fazer cálculos entre variáveis e números, podem ser utilizados os operadores de soma, subtração, multiplicação e divisão normalmente"
   ]
  },
  {
   "cell_type": "code",
   "execution_count": 0,
   "metadata": {
    "colab": {},
    "colab_type": "code",
    "id": "1suCu0bA594B"
   },
   "outputs": [],
   "source": [
    "idade + 2"
   ]
  },
  {
   "cell_type": "code",
   "execution_count": 0,
   "metadata": {
    "colab": {},
    "colab_type": "code",
    "id": "AXr4XSMi594F"
   },
   "outputs": [],
   "source": [
    "numero = 2"
   ]
  },
  {
   "cell_type": "code",
   "execution_count": 0,
   "metadata": {
    "colab": {},
    "colab_type": "code",
    "id": "3wEOlfeO594I",
    "outputId": "577f21b3-3547-4c8d-c381-fbbb3cd6cc46"
   },
   "outputs": [
    {
     "data": {
      "text/plain": [
       "30"
      ]
     },
     "execution_count": 5,
     "metadata": {
      "tags": []
     },
     "output_type": "execute_result"
    }
   ],
   "source": [
    "idade * numero"
   ]
  },
  {
   "cell_type": "markdown",
   "metadata": {
    "colab_type": "text",
    "id": "61mS8qHa594M"
   },
   "source": [
    "#### Observe que ao realizar a operação de divisão, por mais que resultasse em um valor inteiro, o número veio como se fosse decimal"
   ]
  },
  {
   "cell_type": "code",
   "execution_count": 0,
   "metadata": {
    "colab": {},
    "colab_type": "code",
    "id": "zcn0L45L594M",
    "outputId": "2a5e83c5-c448-4b4e-f717-ed859d9d2c0b"
   },
   "outputs": [
    {
     "data": {
      "text/plain": [
       "5.0"
      ]
     },
     "execution_count": 6,
     "metadata": {
      "tags": []
     },
     "output_type": "execute_result"
    }
   ],
   "source": [
    "idade / 3"
   ]
  },
  {
   "cell_type": "markdown",
   "metadata": {
    "colab_type": "text",
    "id": "_i6nGb9d594P"
   },
   "source": [
    "#### Os números decimais em programação são chamados de ponto flutuante e são do tipo `float`"
   ]
  },
  {
   "cell_type": "code",
   "execution_count": 0,
   "metadata": {
    "colab": {},
    "colab_type": "code",
    "id": "TxRwkejQ594P"
   },
   "outputs": [],
   "source": [
    "altura = 1.82"
   ]
  },
  {
   "cell_type": "code",
   "execution_count": 0,
   "metadata": {
    "colab": {},
    "colab_type": "code",
    "id": "LHP8c1Nm594R",
    "outputId": "f8e7dcdb-2ae3-4006-84b4-218ddb2e558a"
   },
   "outputs": [
    {
     "data": {
      "text/plain": [
       "1.82"
      ]
     },
     "execution_count": 8,
     "metadata": {
      "tags": []
     },
     "output_type": "execute_result"
    }
   ],
   "source": [
    "altura "
   ]
  },
  {
   "cell_type": "markdown",
   "metadata": {
    "colab_type": "text",
    "id": "HjU7gI6G594U"
   },
   "source": [
    "#### Como visto anteriormente, qualquer divisão entre números inteiros resulta em um número decimal"
   ]
  },
  {
   "cell_type": "code",
   "execution_count": 0,
   "metadata": {
    "colab": {},
    "colab_type": "code",
    "id": "0ngH66PG594U",
    "outputId": "5535652c-26a0-417a-92f3-d2ed697035bc"
   },
   "outputs": [
    {
     "data": {
      "text/plain": [
       "5.0"
      ]
     },
     "execution_count": 9,
     "metadata": {
      "tags": []
     },
     "output_type": "execute_result"
    }
   ],
   "source": [
    "idade / 3"
   ]
  },
  {
   "cell_type": "markdown",
   "metadata": {
    "colab_type": "text",
    "id": "a4ys_Mru594X"
   },
   "source": [
    "#### Variáveis são muito utlizadas para diminuir retrabalho de algo que vai ser realizado repetidas vezes"
   ]
  },
  {
   "cell_type": "code",
   "execution_count": 0,
   "metadata": {
    "colab": {},
    "colab_type": "code",
    "id": "oAm7Soau594Y"
   },
   "outputs": [],
   "source": [
    "ponto_flutuante = idade / 3"
   ]
  },
  {
   "cell_type": "markdown",
   "metadata": {
    "colab_type": "text",
    "id": "B3EWwu96594b"
   },
   "source": [
    "#### Além das operações aritméticas básicas, é possível realizar a operação de potencialização por meio de uma sequência de dois asteríscos `**`"
   ]
  },
  {
   "cell_type": "code",
   "execution_count": 0,
   "metadata": {
    "colab": {},
    "colab_type": "code",
    "id": "LWufBzte594b",
    "outputId": "b4264550-5f17-449c-fef5-939e1d65d111"
   },
   "outputs": [
    {
     "data": {
      "text/plain": [
       "8"
      ]
     },
     "execution_count": 11,
     "metadata": {
      "tags": []
     },
     "output_type": "execute_result"
    }
   ],
   "source": [
    "2 ** 3"
   ]
  },
  {
   "cell_type": "markdown",
   "metadata": {
    "colab_type": "text",
    "id": "HEZcSbXA594e"
   },
   "source": [
    "#### Assim como na matemática, as expressões numéricas podem ser melhor formuladas por meio de parêntesis"
   ]
  },
  {
   "cell_type": "code",
   "execution_count": 0,
   "metadata": {
    "colab": {},
    "colab_type": "code",
    "id": "Bc0XiOfa594e",
    "outputId": "2379abb7-b85f-441a-a6c1-975c21d85b9c"
   },
   "outputs": [
    {
     "data": {
      "text/plain": [
       "5.0"
      ]
     },
     "execution_count": 12,
     "metadata": {
      "tags": []
     },
     "output_type": "execute_result"
    }
   ],
   "source": [
    "(ponto_flutuante * 5) ** (1/2)"
   ]
  },
  {
   "cell_type": "markdown",
   "metadata": {
    "colab_type": "text",
    "id": "jQG28JjM594i"
   },
   "source": [
    "#### É possível criar uma variável contendo um conjunto de tipos (diferentes sou não) com uma `lista`"
   ]
  },
  {
   "cell_type": "code",
   "execution_count": 0,
   "metadata": {
    "colab": {},
    "colab_type": "code",
    "id": "KOq7qy1k594i"
   },
   "outputs": [],
   "source": [
    "lista = [1, 2, 3, 4, 5]"
   ]
  },
  {
   "cell_type": "markdown",
   "metadata": {
    "colab_type": "text",
    "id": "3w3smhoQ594m"
   },
   "source": [
    "#### Para acessar um valor específico da lista use o nome da variável e colchetes"
   ]
  },
  {
   "cell_type": "code",
   "execution_count": 0,
   "metadata": {
    "colab": {},
    "colab_type": "code",
    "id": "7FINM8u1594n",
    "outputId": "aae646ee-6c18-40c9-d7b2-8c09713d14ee"
   },
   "outputs": [
    {
     "data": {
      "text/plain": [
       "4"
      ]
     },
     "execution_count": 14,
     "metadata": {
      "tags": []
     },
     "output_type": "execute_result"
    }
   ],
   "source": [
    "lista[3]"
   ]
  },
  {
   "cell_type": "markdown",
   "metadata": {
    "colab_type": "text",
    "id": "Zb2AKDGY594p"
   },
   "source": [
    "#### Esse acesso também funciona para alterar valores por meio de uma atribuição"
   ]
  },
  {
   "cell_type": "code",
   "execution_count": 0,
   "metadata": {
    "colab": {},
    "colab_type": "code",
    "id": "K-GE3riQ594q",
    "outputId": "3a8e6c19-383c-424a-ac90-3f3c603d8840",
    "scrolled": false
   },
   "outputs": [
    {
     "data": {
      "text/plain": [
       "[1, 2, 3, 10, 5]"
      ]
     },
     "execution_count": 15,
     "metadata": {
      "tags": []
     },
     "output_type": "execute_result"
    }
   ],
   "source": [
    "lista[3] = 10\n",
    "lista"
   ]
  },
  {
   "cell_type": "markdown",
   "metadata": {
    "colab_type": "text",
    "id": "PHDoJbP7594t"
   },
   "source": [
    "#### Também é possível fazer o acesso inverso utilizando números negativos"
   ]
  },
  {
   "cell_type": "code",
   "execution_count": 0,
   "metadata": {
    "colab": {},
    "colab_type": "code",
    "id": "ZqyKwfmw594t",
    "outputId": "f41c2287-629c-46cf-aadb-2081bcf7e15f"
   },
   "outputs": [
    {
     "data": {
      "text/plain": [
       "5"
      ]
     },
     "execution_count": 16,
     "metadata": {
      "tags": []
     },
     "output_type": "execute_result"
    }
   ],
   "source": [
    "lista[-1]"
   ]
  },
  {
   "cell_type": "markdown",
   "metadata": {
    "colab_type": "text",
    "id": "9Zgisp5M594y"
   },
   "source": [
    "#### Erros de digitação podem retornar erros ou um resultado diferente do esperado, muito atenção na sintaxe do código"
   ]
  },
  {
   "cell_type": "code",
   "execution_count": 0,
   "metadata": {
    "colab": {},
    "colab_type": "code",
    "id": "PobHTIqx594y",
    "outputId": "df89d30d-eb34-4df3-a37d-3156fcb80e99"
   },
   "outputs": [
    {
     "ename": "SyntaxError",
     "evalue": "invalid syntax (<ipython-input-17-9bc8fc96be3a>, line 1)",
     "output_type": "error",
     "traceback": [
      "\u001b[1;36m  File \u001b[1;32m\"<ipython-input-17-9bc8fc96be3a>\"\u001b[1;36m, line \u001b[1;32m1\u001b[0m\n\u001b[1;33m    lista[1-]\u001b[0m\n\u001b[1;37m            ^\u001b[0m\n\u001b[1;31mSyntaxError\u001b[0m\u001b[1;31m:\u001b[0m invalid syntax\n"
     ]
    }
   ],
   "source": [
    "lista[1-]"
   ]
  },
  {
   "cell_type": "markdown",
   "metadata": {
    "colab_type": "text",
    "id": "K4mMKD395941"
   },
   "source": [
    "#### Além disso, existe uma operação chamada `slicing`, ou seja fatiamento, que fatia uma string"
   ]
  },
  {
   "cell_type": "code",
   "execution_count": 0,
   "metadata": {
    "colab": {},
    "colab_type": "code",
    "id": "x--lJe955942",
    "outputId": "ec0c21f5-1d58-4324-a586-a04ae7949476"
   },
   "outputs": [
    {
     "data": {
      "text/plain": [
       "[1, 2, 3, 10, 5]"
      ]
     },
     "execution_count": 20,
     "metadata": {
      "tags": []
     },
     "output_type": "execute_result"
    }
   ],
   "source": [
    "lista"
   ]
  },
  {
   "cell_type": "code",
   "execution_count": 0,
   "metadata": {
    "colab": {},
    "colab_type": "code",
    "id": "I-cdxz0g5946",
    "outputId": "61eddaf1-cc14-4586-ee0d-e781e4f5b916",
    "scrolled": true
   },
   "outputs": [
    {
     "data": {
      "text/plain": [
       "[2, 3]"
      ]
     },
     "execution_count": 21,
     "metadata": {
      "tags": []
     },
     "output_type": "execute_result"
    }
   ],
   "source": [
    "lista[1:3]"
   ]
  },
  {
   "cell_type": "code",
   "execution_count": 0,
   "metadata": {
    "colab": {},
    "colab_type": "code",
    "id": "3-5QgYr35948",
    "outputId": "b8cd586e-ae98-4d3f-821e-c2b04c32650c",
    "scrolled": true
   },
   "outputs": [
    {
     "data": {
      "text/plain": [
       "[3, 10, 5]"
      ]
     },
     "execution_count": 22,
     "metadata": {
      "tags": []
     },
     "output_type": "execute_result"
    }
   ],
   "source": [
    "lista[2:]"
   ]
  },
  {
   "cell_type": "code",
   "execution_count": 0,
   "metadata": {
    "colab": {},
    "colab_type": "code",
    "id": "WssOGJu_594-",
    "outputId": "bcf9032c-8fec-40cd-978c-1b76a25e6643"
   },
   "outputs": [
    {
     "data": {
      "text/plain": [
       "[1, 2]"
      ]
     },
     "execution_count": 23,
     "metadata": {
      "tags": []
     },
     "output_type": "execute_result"
    }
   ],
   "source": [
    "lista[:2]"
   ]
  },
  {
   "cell_type": "code",
   "execution_count": 0,
   "metadata": {
    "colab": {},
    "colab_type": "code",
    "id": "bQUJ78jV595A",
    "outputId": "f88afd5d-e1a2-4f0a-feca-2a610dddfef5"
   },
   "outputs": [
    {
     "data": {
      "text/plain": [
       "[1, 2, 3, 10, 5]"
      ]
     },
     "execution_count": 24,
     "metadata": {
      "tags": []
     },
     "output_type": "execute_result"
    }
   ],
   "source": [
    "lista[:]"
   ]
  },
  {
   "cell_type": "markdown",
   "metadata": {
    "colab_type": "text",
    "id": "FYOIq8ZS595B"
   },
   "source": [
    "#### Quando o tipo de dado é um texto, estamos falando das chamadas `strings`, elas são identificadas por meio de áspas simples ou duplas"
   ]
  },
  {
   "cell_type": "code",
   "execution_count": 0,
   "metadata": {
    "colab": {},
    "colab_type": "code",
    "id": "upcCLBQV595C"
   },
   "outputs": [],
   "source": [
    "nome = 'Giovana'\n",
    "apelido = \"Gi\""
   ]
  },
  {
   "cell_type": "code",
   "execution_count": 0,
   "metadata": {
    "colab": {},
    "colab_type": "code",
    "id": "NQHutrC0595F",
    "outputId": "ba7971a5-fbc6-443c-e527-e235bf55b335",
    "scrolled": true
   },
   "outputs": [
    {
     "data": {
      "text/plain": [
       "'Giovana'"
      ]
     },
     "execution_count": 26,
     "metadata": {
      "tags": []
     },
     "output_type": "execute_result"
    }
   ],
   "source": [
    "nome"
   ]
  },
  {
   "cell_type": "code",
   "execution_count": 0,
   "metadata": {
    "colab": {},
    "colab_type": "code",
    "id": "4Br3DGBA595G",
    "outputId": "281386ee-a067-49e1-9c6f-7a6fb3098464"
   },
   "outputs": [
    {
     "data": {
      "text/plain": [
       "'Gi'"
      ]
     },
     "execution_count": 27,
     "metadata": {
      "tags": []
     },
     "output_type": "execute_result"
    }
   ],
   "source": [
    "apelido"
   ]
  },
  {
   "cell_type": "markdown",
   "metadata": {
    "colab_type": "text",
    "id": "Jfs6mTbW595I"
   },
   "source": [
    "#### Para acessar uma letra específica use o nome da variável e colchetes"
   ]
  },
  {
   "cell_type": "code",
   "execution_count": 0,
   "metadata": {
    "colab": {},
    "colab_type": "code",
    "id": "eFgOzO22595J",
    "outputId": "9f370015-0525-41d2-b61e-9d8841f102bd"
   },
   "outputs": [
    {
     "data": {
      "text/plain": [
       "'G'"
      ]
     },
     "execution_count": 28,
     "metadata": {
      "tags": []
     },
     "output_type": "execute_result"
    }
   ],
   "source": [
    "nome[0]"
   ]
  },
  {
   "cell_type": "markdown",
   "metadata": {
    "colab_type": "text",
    "id": "x4qVgKZR595L"
   },
   "source": [
    "#### Também é possível fazer o acesso inverso utilizando números negativos"
   ]
  },
  {
   "cell_type": "code",
   "execution_count": 0,
   "metadata": {
    "colab": {},
    "colab_type": "code",
    "id": "fBreBhJi595M",
    "outputId": "bd0008c9-7213-4992-9a7e-3c7ec123a39d"
   },
   "outputs": [
    {
     "data": {
      "text/plain": [
       "'a'"
      ]
     },
     "execution_count": 29,
     "metadata": {
      "tags": []
     },
     "output_type": "execute_result"
    }
   ],
   "source": [
    "nome[-3]"
   ]
  },
  {
   "cell_type": "markdown",
   "metadata": {
    "colab_type": "text",
    "id": "DiK-Q0cQ595O"
   },
   "source": [
    "#### Além disso, o `slicing` também funciona para strings"
   ]
  },
  {
   "cell_type": "code",
   "execution_count": 0,
   "metadata": {
    "colab": {},
    "colab_type": "code",
    "id": "29XO16wl595Q"
   },
   "outputs": [],
   "source": [
    "hashtag = '#estamosconectados'"
   ]
  },
  {
   "cell_type": "code",
   "execution_count": 0,
   "metadata": {
    "colab": {},
    "colab_type": "code",
    "id": "KauOSv5q595T",
    "outputId": "8b1dbe88-2ed1-4173-8ad2-b10b26ded3aa"
   },
   "outputs": [
    {
     "data": {
      "text/plain": [
       "'#estamos'"
      ]
     },
     "execution_count": 31,
     "metadata": {
      "tags": []
     },
     "output_type": "execute_result"
    }
   ],
   "source": [
    "hashtag[:8]"
   ]
  },
  {
   "cell_type": "code",
   "execution_count": 0,
   "metadata": {
    "colab": {},
    "colab_type": "code",
    "id": "ZM-gi0pk595V",
    "outputId": "8e47a624-c043-45b3-bf04-3144c7e86b8c"
   },
   "outputs": [
    {
     "data": {
      "text/plain": [
       "'conectados'"
      ]
     },
     "execution_count": 32,
     "metadata": {
      "tags": []
     },
     "output_type": "execute_result"
    }
   ],
   "source": [
    "hashtag[8:]"
   ]
  },
  {
   "cell_type": "markdown",
   "metadata": {
    "colab_type": "text",
    "id": "dtSi9dPY595X"
   },
   "source": [
    "#### Ao colocar números entre áspas simples ou duplas, ele passa a ser uma string"
   ]
  },
  {
   "cell_type": "code",
   "execution_count": 0,
   "metadata": {
    "colab": {},
    "colab_type": "code",
    "id": "Kq5WyrUD595X"
   },
   "outputs": [],
   "source": [
    "idade = '15'"
   ]
  },
  {
   "cell_type": "code",
   "execution_count": 0,
   "metadata": {
    "colab": {},
    "colab_type": "code",
    "id": "zawd8j0F595Z"
   },
   "outputs": [],
   "source": [
    "numero = '2'"
   ]
  },
  {
   "cell_type": "markdown",
   "metadata": {
    "colab_type": "text",
    "id": "9OcwBtJ3595b"
   },
   "source": [
    "#### A linguagem Python possui algumas operações que podem ser reallizadas com strings"
   ]
  },
  {
   "cell_type": "code",
   "execution_count": 0,
   "metadata": {
    "colab": {},
    "colab_type": "code",
    "id": "30CuM0W7595c",
    "outputId": "30c33b3a-56cf-4bc9-8e93-a7e05b74068d"
   },
   "outputs": [
    {
     "data": {
      "text/plain": [
       "'GIOVANA'"
      ]
     },
     "execution_count": 35,
     "metadata": {
      "tags": []
     },
     "output_type": "execute_result"
    }
   ],
   "source": [
    "nome.upper()"
   ]
  },
  {
   "cell_type": "code",
   "execution_count": 0,
   "metadata": {
    "colab": {},
    "colab_type": "code",
    "id": "Yj1F80aq595f",
    "outputId": "8212e0fa-b831-4b69-c5a5-15d7ecc99fd6"
   },
   "outputs": [
    {
     "data": {
      "text/plain": [
       "'giovana'"
      ]
     },
     "execution_count": 36,
     "metadata": {
      "tags": []
     },
     "output_type": "execute_result"
    }
   ],
   "source": [
    "nome.lower()"
   ]
  },
  {
   "cell_type": "code",
   "execution_count": 0,
   "metadata": {
    "colab": {},
    "colab_type": "code",
    "id": "u9vI8QWI595h",
    "outputId": "03368a99-52b6-4ffa-de59-7eefe40a5454"
   },
   "outputs": [
    {
     "data": {
      "text/plain": [
       "'Giovana'"
      ]
     },
     "execution_count": 37,
     "metadata": {
      "tags": []
     },
     "output_type": "execute_result"
    }
   ],
   "source": [
    "nome.title()"
   ]
  },
  {
   "cell_type": "markdown",
   "metadata": {
    "colab_type": "text",
    "id": "syd98Czq595j"
   },
   "source": [
    "#### É possível também concatenar (unir) duas variáveis do tipo string por meio do operador de soma `+`"
   ]
  },
  {
   "cell_type": "code",
   "execution_count": 0,
   "metadata": {
    "colab": {},
    "colab_type": "code",
    "id": "F06crJRS595j"
   },
   "outputs": [],
   "source": [
    "sobrenome = 'de Lucca'"
   ]
  },
  {
   "cell_type": "code",
   "execution_count": 0,
   "metadata": {
    "colab": {},
    "colab_type": "code",
    "id": "cBBO9cXQ595l",
    "outputId": "e28bfadd-605b-435f-eb29-3ecbc9ee7b06"
   },
   "outputs": [
    {
     "data": {
      "text/plain": [
       "'Giovanade Lucca'"
      ]
     },
     "execution_count": 39,
     "metadata": {
      "tags": []
     },
     "output_type": "execute_result"
    }
   ],
   "source": [
    "nome + sobrenome"
   ]
  },
  {
   "cell_type": "code",
   "execution_count": 0,
   "metadata": {
    "colab": {},
    "colab_type": "code",
    "id": "-CCPzFqI595o",
    "outputId": "850408f0-8ea4-4f01-95c0-e049cab49e55",
    "scrolled": true
   },
   "outputs": [
    {
     "data": {
      "text/plain": [
       "'Giovana de Lucca'"
      ]
     },
     "execution_count": 40,
     "metadata": {
      "tags": []
     },
     "output_type": "execute_result"
    }
   ],
   "source": [
    "nome + ' ' + sobrenome"
   ]
  },
  {
   "cell_type": "markdown",
   "metadata": {
    "colab_type": "text",
    "id": "P8tf6jgN595q"
   },
   "source": [
    "#### Uma estrutura bem interessante da linguagem Python são os `dicionários`, os quais são inicializados por meio de chaves"
   ]
  },
  {
   "cell_type": "code",
   "execution_count": 0,
   "metadata": {
    "colab": {},
    "colab_type": "code",
    "id": "IKISucKF595q"
   },
   "outputs": [],
   "source": [
    "dicionario = {}"
   ]
  },
  {
   "cell_type": "markdown",
   "metadata": {
    "colab_type": "text",
    "id": "VIjGw5Y2595s"
   },
   "source": [
    "#### Pode-se dizer que um dicionário é um lista que possui índices próprios"
   ]
  },
  {
   "cell_type": "code",
   "execution_count": 0,
   "metadata": {
    "colab": {},
    "colab_type": "code",
    "id": "YwPxAdf4595s"
   },
   "outputs": [],
   "source": [
    "dicionario = {1: 'um', 2: 'dois'}"
   ]
  },
  {
   "cell_type": "code",
   "execution_count": 0,
   "metadata": {
    "colab": {},
    "colab_type": "code",
    "id": "bjnAAjiS595u",
    "outputId": "ab8af900-b143-4b9f-bf2e-f27e0b749897"
   },
   "outputs": [
    {
     "data": {
      "text/plain": [
       "'um'"
      ]
     },
     "execution_count": 115,
     "metadata": {
      "tags": []
     },
     "output_type": "execute_result"
    }
   ],
   "source": [
    "dicionario[1]"
   ]
  },
  {
   "cell_type": "markdown",
   "metadata": {
    "colab_type": "text",
    "id": "5CVIvyeV595w"
   },
   "source": [
    "#### Os índices de um dicionário são chamados de chaves e podem ser listados por meio da função `.keys()`"
   ]
  },
  {
   "cell_type": "code",
   "execution_count": 0,
   "metadata": {
    "colab": {},
    "colab_type": "code",
    "id": "mb3CBGOa595w",
    "outputId": "527383f2-cf59-47aa-cdd6-9d36ab013727"
   },
   "outputs": [
    {
     "data": {
      "text/plain": [
       "dict_keys([1, 2])"
      ]
     },
     "execution_count": 116,
     "metadata": {
      "tags": []
     },
     "output_type": "execute_result"
    }
   ],
   "source": [
    "dicionario.keys()"
   ]
  },
  {
   "cell_type": "markdown",
   "metadata": {
    "colab_type": "text",
    "id": "torjDRqU595z"
   },
   "source": [
    "#### Os itens relativos a cada uma das chaves de um dicionário são chamados de valores e podem ser listados por meio da função `.values()`"
   ]
  },
  {
   "cell_type": "code",
   "execution_count": 0,
   "metadata": {
    "colab": {},
    "colab_type": "code",
    "id": "r8YcWhvw5950",
    "outputId": "2b6eb36c-bc04-4e58-89cf-c00241d1feca"
   },
   "outputs": [
    {
     "data": {
      "text/plain": [
       "dict_values(['um', 'dois'])"
      ]
     },
     "execution_count": 117,
     "metadata": {
      "tags": []
     },
     "output_type": "execute_result"
    }
   ],
   "source": [
    "dicionario.values()"
   ]
  },
  {
   "cell_type": "markdown",
   "metadata": {
    "colab_type": "text",
    "id": "-Oojt44s5952"
   },
   "source": [
    "#### É possível ter chaves e valores dos mais diversos tipos"
   ]
  },
  {
   "cell_type": "code",
   "execution_count": 0,
   "metadata": {
    "colab": {},
    "colab_type": "code",
    "id": "x9w0hmcF5953"
   },
   "outputs": [],
   "source": [
    "d = {\n",
    "    True: {'dois':2, 'cinco':5},\n",
    "    False: [1,2,3]\n",
    "}"
   ]
  },
  {
   "cell_type": "markdown",
   "metadata": {
    "colab_type": "text",
    "id": "PNtjQLy-5954"
   },
   "source": [
    "#### Em programação, existe um tipo bem diferente de variáveis chamado booleano do tipo `bool` que é uma representação binária, podendo ser apenas verdadeiro (True) ou falso (False)"
   ]
  },
  {
   "cell_type": "code",
   "execution_count": 0,
   "metadata": {
    "colab": {},
    "colab_type": "code",
    "id": "YSwxgTdY5955"
   },
   "outputs": [],
   "source": [
    "verdadeiro = True"
   ]
  },
  {
   "cell_type": "code",
   "execution_count": 0,
   "metadata": {
    "colab": {},
    "colab_type": "code",
    "id": "xdPHKhDP5958",
    "outputId": "ebfce061-825c-4a75-ff40-22a3985869d2"
   },
   "outputs": [
    {
     "data": {
      "text/plain": [
       "True"
      ]
     },
     "execution_count": 42,
     "metadata": {
      "tags": []
     },
     "output_type": "execute_result"
    }
   ],
   "source": [
    "verdadeiro"
   ]
  },
  {
   "cell_type": "code",
   "execution_count": 0,
   "metadata": {
    "colab": {},
    "colab_type": "code",
    "id": "jNdLNN9N5959"
   },
   "outputs": [],
   "source": [
    "falso = False"
   ]
  },
  {
   "cell_type": "code",
   "execution_count": 0,
   "metadata": {
    "colab": {},
    "colab_type": "code",
    "id": "72xMLXuQ595_",
    "outputId": "c01d0e92-1b10-4ad5-a049-e3ad6b3ba704",
    "scrolled": true
   },
   "outputs": [
    {
     "data": {
      "text/plain": [
       "bool"
      ]
     },
     "execution_count": 44,
     "metadata": {
      "tags": []
     },
     "output_type": "execute_result"
    }
   ],
   "source": [
    "type(falso)"
   ]
  },
  {
   "cell_type": "markdown",
   "metadata": {
    "colab_type": "text",
    "id": "xPcSfcaj596B"
   },
   "source": [
    "#### Para saber qual o tipo de uma determinada variável, utiliza-se uma função chamada `type()`"
   ]
  },
  {
   "cell_type": "code",
   "execution_count": 0,
   "metadata": {
    "colab": {},
    "colab_type": "code",
    "id": "NN7GCMe5596C",
    "outputId": "57902b8e-27d3-47af-ba59-6bdfa9f02de3"
   },
   "outputs": [
    {
     "data": {
      "text/plain": [
       "str"
      ]
     },
     "execution_count": 45,
     "metadata": {
      "tags": []
     },
     "output_type": "execute_result"
    }
   ],
   "source": [
    "type(idade)"
   ]
  },
  {
   "cell_type": "code",
   "execution_count": 0,
   "metadata": {
    "colab": {},
    "colab_type": "code",
    "id": "dJAACSXA596F",
    "outputId": "5c1bdf9d-806a-4bf2-f99b-23fbf7b957f7"
   },
   "outputs": [
    {
     "data": {
      "text/plain": [
       "str"
      ]
     },
     "execution_count": 46,
     "metadata": {
      "tags": []
     },
     "output_type": "execute_result"
    }
   ],
   "source": [
    "type(nome)"
   ]
  },
  {
   "cell_type": "code",
   "execution_count": 0,
   "metadata": {
    "colab": {},
    "colab_type": "code",
    "id": "mrIH1Qkw596I",
    "outputId": "7e130c44-c82b-41c8-d503-eed514de4660"
   },
   "outputs": [
    {
     "data": {
      "text/plain": [
       "str"
      ]
     },
     "execution_count": 47,
     "metadata": {
      "tags": []
     },
     "output_type": "execute_result"
    }
   ],
   "source": [
    "type(nome[0])"
   ]
  },
  {
   "cell_type": "code",
   "execution_count": 0,
   "metadata": {
    "colab": {},
    "colab_type": "code",
    "id": "ZrqBHNsX596J",
    "outputId": "86b7792a-08ce-4ffc-f9fd-c7876404a758"
   },
   "outputs": [
    {
     "data": {
      "text/plain": [
       "bool"
      ]
     },
     "execution_count": 48,
     "metadata": {
      "tags": []
     },
     "output_type": "execute_result"
    }
   ],
   "source": [
    "type(falso)"
   ]
  },
  {
   "cell_type": "code",
   "execution_count": 0,
   "metadata": {
    "colab": {},
    "colab_type": "code",
    "id": "arCjCzAO596L",
    "outputId": "677c1584-9281-4648-a4e3-7ab1b8b67c33"
   },
   "outputs": [
    {
     "data": {
      "text/plain": [
       "float"
      ]
     },
     "execution_count": 51,
     "metadata": {
      "tags": []
     },
     "output_type": "execute_result"
    }
   ],
   "source": [
    "type(altura)"
   ]
  },
  {
   "cell_type": "code",
   "execution_count": 0,
   "metadata": {
    "colab": {},
    "colab_type": "code",
    "id": "Lmz9BExz596M",
    "outputId": "f2ee5301-bbd1-4b6a-bbac-30d40a2cc487"
   },
   "outputs": [
    {
     "data": {
      "text/plain": [
       "list"
      ]
     },
     "execution_count": 52,
     "metadata": {
      "tags": []
     },
     "output_type": "execute_result"
    }
   ],
   "source": [
    "type(lista)"
   ]
  },
  {
   "cell_type": "markdown",
   "metadata": {
    "colab_type": "text",
    "id": "p5LjfOqT596O"
   },
   "source": [
    "#### Para criar relação entre variáveis e números, utilizam-se os chamados `operadores relacionais`"
   ]
  },
  {
   "cell_type": "code",
   "execution_count": 0,
   "metadata": {
    "colab": {},
    "colab_type": "code",
    "id": "1KXwqMNA596O",
    "outputId": "00f44465-a3f8-4072-8bf1-7c3b6a7e6bf0",
    "scrolled": false
   },
   "outputs": [
    {
     "data": {
      "text/plain": [
       "'2'"
      ]
     },
     "execution_count": 53,
     "metadata": {
      "tags": []
     },
     "output_type": "execute_result"
    }
   ],
   "source": [
    "numero"
   ]
  },
  {
   "cell_type": "code",
   "execution_count": 0,
   "metadata": {
    "colab": {},
    "colab_type": "code",
    "id": "NiqT-dEp596P",
    "outputId": "01bfdf5a-e865-4aeb-d62e-7ee5d865b9d7",
    "scrolled": true
   },
   "outputs": [
    {
     "data": {
      "text/plain": [
       "False"
      ]
     },
     "execution_count": 54,
     "metadata": {
      "tags": []
     },
     "output_type": "execute_result"
    }
   ],
   "source": [
    "numero == 2"
   ]
  },
  {
   "cell_type": "code",
   "execution_count": 0,
   "metadata": {
    "colab": {},
    "colab_type": "code",
    "id": "Z55ptw8p596R",
    "outputId": "6834e558-6ddc-4ccf-9bad-e0f790e934bd",
    "scrolled": true
   },
   "outputs": [
    {
     "data": {
      "text/plain": [
       "str"
      ]
     },
     "execution_count": 55,
     "metadata": {
      "tags": []
     },
     "output_type": "execute_result"
    }
   ],
   "source": [
    "type(numero)"
   ]
  },
  {
   "cell_type": "code",
   "execution_count": 0,
   "metadata": {
    "colab": {},
    "colab_type": "code",
    "id": "iqtP73r1596T"
   },
   "outputs": [],
   "source": [
    "numero = 2"
   ]
  },
  {
   "cell_type": "code",
   "execution_count": 0,
   "metadata": {
    "colab": {},
    "colab_type": "code",
    "id": "lFztG1v1596U",
    "outputId": "d9a248ae-d02b-4687-b214-3bdd731af87b"
   },
   "outputs": [
    {
     "data": {
      "text/plain": [
       "False"
      ]
     },
     "execution_count": 57,
     "metadata": {
      "tags": []
     },
     "output_type": "execute_result"
    }
   ],
   "source": [
    "numero == 3"
   ]
  },
  {
   "cell_type": "code",
   "execution_count": 0,
   "metadata": {
    "colab": {},
    "colab_type": "code",
    "id": "VCGYe0OP596Y",
    "outputId": "d06a4ee6-7522-4542-eebc-1f36a4bd2ebd"
   },
   "outputs": [
    {
     "data": {
      "text/plain": [
       "True"
      ]
     },
     "execution_count": 58,
     "metadata": {
      "tags": []
     },
     "output_type": "execute_result"
    }
   ],
   "source": [
    "numero != 3"
   ]
  },
  {
   "cell_type": "code",
   "execution_count": 0,
   "metadata": {
    "colab": {},
    "colab_type": "code",
    "id": "SY1l4ETL596Z",
    "outputId": "0f4e8b1c-c5dd-42ca-8222-8073c06526a4"
   },
   "outputs": [
    {
     "data": {
      "text/plain": [
       "True"
      ]
     },
     "execution_count": 59,
     "metadata": {
      "tags": []
     },
     "output_type": "execute_result"
    }
   ],
   "source": [
    "2 <= numero"
   ]
  },
  {
   "cell_type": "code",
   "execution_count": 0,
   "metadata": {
    "colab": {},
    "colab_type": "code",
    "id": "vMbZAbGO596d",
    "outputId": "dea670aa-887c-46a2-e560-6d1ee5cb0e51"
   },
   "outputs": [
    {
     "data": {
      "text/plain": [
       "False"
      ]
     },
     "execution_count": 60,
     "metadata": {
      "tags": []
     },
     "output_type": "execute_result"
    }
   ],
   "source": [
    "1 > numero"
   ]
  },
  {
   "cell_type": "markdown",
   "metadata": {
    "colab_type": "text",
    "id": "yE0z-AYY596e"
   },
   "source": [
    "#### Para mesclar os resultados de duas operações relacionais utilizam-se os operadores lógicos `and` e `or` e `not`"
   ]
  },
  {
   "cell_type": "code",
   "execution_count": 0,
   "metadata": {
    "colab": {},
    "colab_type": "code",
    "id": "5widK4WI596i",
    "outputId": "036c248c-0d55-4d12-dd0c-35b3e369071c"
   },
   "outputs": [
    {
     "data": {
      "text/plain": [
       "False"
      ]
     },
     "execution_count": 109,
     "metadata": {
      "tags": []
     },
     "output_type": "execute_result"
    }
   ],
   "source": [
    "(1==1)and(2==3)"
   ]
  },
  {
   "cell_type": "code",
   "execution_count": 0,
   "metadata": {
    "colab": {},
    "colab_type": "code",
    "id": "Yf-Xw_BJ596k",
    "outputId": "2b1221a0-f94c-490f-a3f4-ee9275ae3041",
    "scrolled": true
   },
   "outputs": [
    {
     "data": {
      "text/plain": [
       "False"
      ]
     },
     "execution_count": 110,
     "metadata": {
      "tags": []
     },
     "output_type": "execute_result"
    }
   ],
   "source": [
    "(1==1)or(2==3)"
   ]
  },
  {
   "cell_type": "code",
   "execution_count": 0,
   "metadata": {
    "colab": {},
    "colab_type": "code",
    "id": "p14zoBvE596m",
    "outputId": "9d3dfb24-a02a-4938-a4a3-d95523714d78"
   },
   "outputs": [
    {
     "data": {
      "text/plain": [
       "False"
      ]
     },
     "execution_count": 111,
     "metadata": {
      "tags": []
     },
     "output_type": "execute_result"
    }
   ],
   "source": [
    "not (1==1)"
   ]
  },
  {
   "cell_type": "markdown",
   "metadata": {
    "colab_type": "text",
    "id": "JuPAEvE3596n"
   },
   "source": [
    "#### Para saber em qual caminho prosseguir baseado em uma determinada ação os algoritmos utilizam os `desvios condicionais`"
   ]
  },
  {
   "cell_type": "code",
   "execution_count": 0,
   "metadata": {
    "colab": {},
    "colab_type": "code",
    "id": "bsqOrQRb596o",
    "outputId": "ca360dd2-4342-4f3d-cc83-0a755379c55d"
   },
   "outputs": [
    {
     "name": "stdout",
     "output_type": "stream",
     "text": [
      "Sim, 3 é igual a 3!\n"
     ]
    }
   ],
   "source": [
    "if (3 == 3):\n",
    "    print('Sim, 3 é igual a 3!')"
   ]
  },
  {
   "cell_type": "code",
   "execution_count": 0,
   "metadata": {
    "colab": {},
    "colab_type": "code",
    "id": "DYdiJBip596p",
    "outputId": "4f13dc8c-2e1f-4ec0-a196-c82b750b5104"
   },
   "outputs": [
    {
     "name": "stdout",
     "output_type": "stream",
     "text": [
      "Não, 3 não é igual a 4!\n"
     ]
    }
   ],
   "source": [
    "if (3 == 4):\n",
    "    print('Sim, 3 é igual a 4!')\n",
    "else:\n",
    "    print('Não, 3 não é igual a 4!')"
   ]
  },
  {
   "cell_type": "code",
   "execution_count": 0,
   "metadata": {
    "colab": {},
    "colab_type": "code",
    "id": "h4tEQ3-y596q",
    "outputId": "b66e7fd2-ef8e-41ff-bddd-305b2f0871c8",
    "scrolled": true
   },
   "outputs": [
    {
     "name": "stdout",
     "output_type": "stream",
     "text": [
      "Não, 3 não é igual a 4 nem igual a 5!\n"
     ]
    }
   ],
   "source": [
    "if (3 == 5):\n",
    "    print('Sim, 3 é igual a 5!')\n",
    "elif (3 == 4):\n",
    "    print('Sim, 3 é igual a 4!')\n",
    "else:\n",
    "    print('Não, 3 não é igual a 4 nem igual a 5!')"
   ]
  },
  {
   "cell_type": "markdown",
   "metadata": {
    "colab_type": "text",
    "id": "oM7eztm6596t"
   },
   "source": [
    "#### É possível mesclar todos os assuntos aprendidos anteriormente e criar um desvio condicional com opedarores aritméticos e relacionais utilizando variváveis"
   ]
  },
  {
   "cell_type": "code",
   "execution_count": 0,
   "metadata": {
    "colab": {},
    "colab_type": "code",
    "id": "qI3BLL5t596v"
   },
   "outputs": [],
   "source": [
    "variavel1 = '6'\n",
    "variavel2 = '3'"
   ]
  },
  {
   "cell_type": "code",
   "execution_count": 0,
   "metadata": {
    "colab": {},
    "colab_type": "code",
    "id": "L4g9fpJE596w",
    "outputId": "4f035272-e346-4fbe-9875-0cc1184373cd",
    "scrolled": false
   },
   "outputs": [
    {
     "name": "stdout",
     "output_type": "stream",
     "text": [
      "6 é maior que 3\n"
     ]
    }
   ],
   "source": [
    "if (variavel1 > variavel2):\n",
    "    print(variavel1, 'é maior que', variavel2)\n",
    "elif (variavel1 == variavel2):\n",
    "    print(variavel1, 'é igual a', variavel2)\n",
    "else:\n",
    "    print(variavel1, 'é menor que', variavel2)"
   ]
  },
  {
   "cell_type": "markdown",
   "metadata": {
    "colab_type": "text",
    "id": "oLxnRoxr596y"
   },
   "source": [
    "#### Uma forma de se comunicar com o usuário é por meio da função `input()`"
   ]
  },
  {
   "cell_type": "code",
   "execution_count": 0,
   "metadata": {
    "colab": {},
    "colab_type": "code",
    "id": "169U-3pw596y",
    "outputId": "211ea566-e18f-49df-b689-e0d8fe6e60dd"
   },
   "outputs": [
    {
     "name": "stdout",
     "output_type": "stream",
     "text": [
      "Qual seu nome? \n"
     ]
    },
    {
     "data": {
      "text/plain": [
       "''"
      ]
     },
     "execution_count": 66,
     "metadata": {
      "tags": []
     },
     "output_type": "execute_result"
    }
   ],
   "source": [
    "input('Qual seu nome? ')"
   ]
  },
  {
   "cell_type": "code",
   "execution_count": 0,
   "metadata": {
    "colab": {},
    "colab_type": "code",
    "id": "L7Zi6YSJ5960",
    "outputId": "11d70b07-d41d-416b-8d87-38b24133b8d4",
    "scrolled": true
   },
   "outputs": [
    {
     "name": "stdout",
     "output_type": "stream",
     "text": [
      "Qual seu nome? Giovana\n"
     ]
    }
   ],
   "source": [
    "nome = input('Qual seu nome? ')"
   ]
  },
  {
   "cell_type": "code",
   "execution_count": 0,
   "metadata": {
    "colab": {},
    "colab_type": "code",
    "id": "HPSpOGXz5961",
    "outputId": "5fd21018-3a13-48f2-89ee-b57a3ce1408a"
   },
   "outputs": [
    {
     "data": {
      "text/plain": [
       "'Giovana'"
      ]
     },
     "execution_count": 75,
     "metadata": {
      "tags": []
     },
     "output_type": "execute_result"
    }
   ],
   "source": [
    "nome"
   ]
  },
  {
   "cell_type": "code",
   "execution_count": 0,
   "metadata": {
    "colab": {},
    "colab_type": "code",
    "id": "1zeEI6fm5963",
    "outputId": "a1b6bc7e-b003-4bf2-8657-0644532cae58"
   },
   "outputs": [
    {
     "name": "stdout",
     "output_type": "stream",
     "text": [
      "Escreve um número aqui: 5\n"
     ]
    }
   ],
   "source": [
    "numero = input('Escreve um número aqui: ')"
   ]
  },
  {
   "cell_type": "markdown",
   "metadata": {
    "colab_type": "text",
    "id": "PdWs0L1N5964"
   },
   "source": [
    "#### O retorno da função `input()` gera um resultado do tipo `string`"
   ]
  },
  {
   "cell_type": "code",
   "execution_count": 0,
   "metadata": {
    "colab": {},
    "colab_type": "code",
    "id": "XXz-cLFx5964",
    "outputId": "7f2b84ea-b2cc-4706-ea09-51b734d593c0"
   },
   "outputs": [
    {
     "data": {
      "text/plain": [
       "'555'"
      ]
     },
     "execution_count": 79,
     "metadata": {
      "tags": []
     },
     "output_type": "execute_result"
    }
   ],
   "source": [
    "numero * 3"
   ]
  },
  {
   "cell_type": "markdown",
   "metadata": {
    "colab_type": "text",
    "id": "1RedZ6Is5966"
   },
   "source": [
    "#### Para transformar esse resultado em tipo `inteiro` utilize a função `int()`"
   ]
  },
  {
   "cell_type": "code",
   "execution_count": 0,
   "metadata": {
    "colab": {},
    "colab_type": "code",
    "id": "cKmGvLBu5967",
    "outputId": "fbf21a89-e81c-4a5a-81fe-58e12e09748c"
   },
   "outputs": [
    {
     "data": {
      "text/plain": [
       "15"
      ]
     },
     "execution_count": 80,
     "metadata": {
      "tags": []
     },
     "output_type": "execute_result"
    }
   ],
   "source": [
    "numero_int = int(numero)\n",
    "numero_int * 3"
   ]
  },
  {
   "cell_type": "code",
   "execution_count": 0,
   "metadata": {
    "colab": {},
    "colab_type": "code",
    "id": "L8JeikC_5968",
    "outputId": "153cc297-052e-4d28-80bd-9e8b2e60df6b",
    "scrolled": false
   },
   "outputs": [
    {
     "data": {
      "text/plain": [
       "int"
      ]
     },
     "execution_count": 81,
     "metadata": {
      "tags": []
     },
     "output_type": "execute_result"
    }
   ],
   "source": [
    "type(int(numero_int))"
   ]
  },
  {
   "cell_type": "markdown",
   "metadata": {
    "colab_type": "text",
    "id": "D8SIT8Yp5969"
   },
   "source": [
    "#### Existem inúmeras formas de transformar tipos de variáveis"
   ]
  },
  {
   "cell_type": "code",
   "execution_count": 0,
   "metadata": {
    "colab": {},
    "colab_type": "code",
    "id": "70C4fY2r596-",
    "outputId": "ce38c119-030d-4cd5-ee33-303fb88dfa3d"
   },
   "outputs": [
    {
     "data": {
      "text/plain": [
       "'5'"
      ]
     },
     "execution_count": 82,
     "metadata": {
      "tags": []
     },
     "output_type": "execute_result"
    }
   ],
   "source": [
    "numero_str = str(numero_int)\n",
    "numero_str"
   ]
  },
  {
   "cell_type": "code",
   "execution_count": 0,
   "metadata": {
    "colab": {},
    "colab_type": "code",
    "id": "VVWaO3Xc596_",
    "outputId": "490b2c18-e826-444a-d837-7e77e7f71476",
    "scrolled": false
   },
   "outputs": [
    {
     "data": {
      "text/plain": [
       "['5', '5', '5']"
      ]
     },
     "execution_count": 83,
     "metadata": {
      "tags": []
     },
     "output_type": "execute_result"
    }
   ],
   "source": [
    "list(numero_str*3)"
   ]
  },
  {
   "cell_type": "code",
   "execution_count": 0,
   "metadata": {
    "colab": {},
    "colab_type": "code",
    "id": "Y1zY985X597A",
    "outputId": "4124a8b1-52fb-4495-e1b7-b56f3f9f25f1",
    "scrolled": true
   },
   "outputs": [
    {
     "data": {
      "text/plain": [
       "True"
      ]
     },
     "execution_count": 85,
     "metadata": {
      "tags": []
     },
     "output_type": "execute_result"
    }
   ],
   "source": [
    "bool(numero_int)"
   ]
  },
  {
   "cell_type": "markdown",
   "metadata": {
    "colab_type": "text",
    "id": "0OiHbxhX597B"
   },
   "source": [
    "#### Uma outra forma de se comunicar com o usuário, é por meio da função `print`"
   ]
  },
  {
   "cell_type": "code",
   "execution_count": 0,
   "metadata": {
    "colab": {},
    "colab_type": "code",
    "id": "b4YydejX597B",
    "outputId": "bbf8cb5e-2547-414d-bd6f-2302682eae33"
   },
   "outputs": [
    {
     "name": "stdout",
     "output_type": "stream",
     "text": [
      "Hello World!\n"
     ]
    }
   ],
   "source": [
    "print('Hello World!')"
   ]
  },
  {
   "cell_type": "markdown",
   "metadata": {
    "colab_type": "text",
    "id": "ZgIlPCRK597E"
   },
   "source": [
    "#### Para juntar uma mensagem da função print com variáveis é só separar por vírgulas"
   ]
  },
  {
   "cell_type": "code",
   "execution_count": 0,
   "metadata": {
    "colab": {},
    "colab_type": "code",
    "id": "DV__iVp3597F",
    "outputId": "ff6c03a9-bd03-4092-a83e-13b920934e7c",
    "scrolled": true
   },
   "outputs": [
    {
     "name": "stdout",
     "output_type": "stream",
     "text": [
      "Este é um número inteiro: 15\n"
     ]
    }
   ],
   "source": [
    "print('Este é um número inteiro:', idade)"
   ]
  },
  {
   "cell_type": "markdown",
   "metadata": {
    "colab_type": "text",
    "id": "_r99wfMl597G"
   },
   "source": [
    "#### Vamos praticar todos os assuntos aprendidos? Fonte dos exercícios: Python Progressivo"
   ]
  },
  {
   "cell_type": "markdown",
   "metadata": {
    "colab_type": "text",
    "id": "Xm_qqPN5597G"
   },
   "source": [
    "#### 1. Crie um programa que peça dois números e imprima o maior deles."
   ]
  },
  {
   "cell_type": "markdown",
   "metadata": {
    "colab_type": "text",
    "id": "XcmXlyUK597H"
   },
   "source": [
    "#### 2. Crie um programa que verifique se uma letra digitada é \"F\" ou \"M\". Conforme a letra imprimir:\n",
    "\n",
    "* F - Feminino; \n",
    "* M - Masculino;\n",
    "* Sexo Inválido."
   ]
  },
  {
   "cell_type": "markdown",
   "metadata": {
    "colab_type": "text",
    "id": "B3tpqMEr597H"
   },
   "source": [
    "#### 3. Crie um programa que pede duas notas de um aluno. Em seguida ele deve calcular a média do aluno e dar o seguinte resultado:\n",
    "    \n",
    "* A mensagem \"Aprovado\", se a média alcançada for maior ou igual a sete;\n",
    "* A mensagem \"Reprovado\", se a média for menor do que sete;\n",
    "* A mensagem \"Aprovado com Distinção\", se a média for igual a dez."
   ]
  },
  {
   "cell_type": "markdown",
   "metadata": {
    "colab_type": "text",
    "id": "lbq6Yziq597H"
   },
   "source": [
    "## Funções"
   ]
  },
  {
   "cell_type": "markdown",
   "metadata": {
    "colab_type": "text",
    "id": "3TeVR9Tq597H"
   },
   "source": [
    "####  Quando existem atividades ou tarefas que sempre se repetirão podemos criar `funções` para fazê-la, evitando retrabalho"
   ]
  },
  {
   "cell_type": "code",
   "execution_count": 0,
   "metadata": {
    "colab": {},
    "colab_type": "code",
    "id": "bFE5nMTE597I"
   },
   "outputs": [],
   "source": [
    "def nome_da_funcao (parametro):\n",
    "    # atividades\n",
    "    return parametro"
   ]
  },
  {
   "cell_type": "markdown",
   "metadata": {
    "colab_type": "text",
    "id": "ps8mbY--597J"
   },
   "source": [
    "#### Um exemplo de função sem parâmetros nem retorno é printar uma mensagem simples"
   ]
  },
  {
   "cell_type": "code",
   "execution_count": 0,
   "metadata": {
    "colab": {},
    "colab_type": "code",
    "id": "F_T-uAkv597K"
   },
   "outputs": [],
   "source": [
    "def print_mensagem():\n",
    "    print('Esta é uma função simples sem parâmetros nem retorno!')"
   ]
  },
  {
   "cell_type": "code",
   "execution_count": 0,
   "metadata": {
    "colab": {},
    "colab_type": "code",
    "id": "ISVMDse2597L",
    "outputId": "94fb492b-8f86-42c1-f0c8-5f6b295a7346"
   },
   "outputs": [
    {
     "name": "stdout",
     "output_type": "stream",
     "text": [
      "Esta é uma função simples sem parâmetros nem retorno!\n"
     ]
    }
   ],
   "source": [
    "print_mensagem()"
   ]
  },
  {
   "cell_type": "markdown",
   "metadata": {
    "colab_type": "text",
    "id": "GlJKhgc1597M"
   },
   "source": [
    "#### Um exemplo de função sem parâmetros e com retorno é retornar a mensagem e printar após a chamada da função"
   ]
  },
  {
   "cell_type": "code",
   "execution_count": 0,
   "metadata": {
    "colab": {},
    "colab_type": "code",
    "id": "Shhfhvx-597M",
    "outputId": "1b78708b-ed98-468f-a7bc-89e56e65b4f8"
   },
   "outputs": [
    {
     "name": "stdout",
     "output_type": "stream",
     "text": [
      "<function retorna_mensagem at 0x0000020D35339280>\n"
     ]
    }
   ],
   "source": [
    "def retorna_mensagem():\n",
    "    return 'Esta é uma função sem parâmtros e com retorno!'\n",
    "\n",
    "print(retorna_mensagem)"
   ]
  },
  {
   "cell_type": "code",
   "execution_count": 0,
   "metadata": {
    "colab": {},
    "colab_type": "code",
    "id": "wjn1qTR4597O",
    "outputId": "290e331f-ad85-4515-8fbe-fa7eac95d058"
   },
   "outputs": [
    {
     "data": {
      "text/plain": [
       "function"
      ]
     },
     "execution_count": 125,
     "metadata": {
      "tags": []
     },
     "output_type": "execute_result"
    }
   ],
   "source": [
    "type(retorna_mensagem)"
   ]
  },
  {
   "cell_type": "code",
   "execution_count": 0,
   "metadata": {
    "colab": {},
    "colab_type": "code",
    "id": "541kbiaQ597P",
    "outputId": "d057087e-0b1e-4c3f-f833-bfad2f220acb"
   },
   "outputs": [
    {
     "data": {
      "text/plain": [
       "str"
      ]
     },
     "execution_count": 126,
     "metadata": {
      "tags": []
     },
     "output_type": "execute_result"
    }
   ],
   "source": [
    "type(retorna_mensagem())"
   ]
  },
  {
   "cell_type": "code",
   "execution_count": 0,
   "metadata": {
    "colab": {},
    "colab_type": "code",
    "id": "akJtBtuI597S",
    "outputId": "3240de43-5cdd-4947-9f70-c826395bfccc"
   },
   "outputs": [
    {
     "name": "stdout",
     "output_type": "stream",
     "text": [
      "Esta é uma função sem parâmtros e com retorno!\n"
     ]
    }
   ],
   "source": [
    "print(retorna_mensagem())"
   ]
  },
  {
   "cell_type": "markdown",
   "metadata": {
    "colab_type": "text",
    "id": "mmuGIssF597T"
   },
   "source": [
    "#### Normalmente as funções possuem parâmetros e retorno, mas isso não é uma regra"
   ]
  },
  {
   "cell_type": "code",
   "execution_count": 0,
   "metadata": {
    "colab": {},
    "colab_type": "code",
    "id": "tb7qB7wX597U"
   },
   "outputs": [],
   "source": [
    "def par_ou_impar(numero):\n",
    "    if (numero % 2 == 0):\n",
    "        return 'Par'\n",
    "    else:\n",
    "        return 'Ímpar'"
   ]
  },
  {
   "cell_type": "code",
   "execution_count": 0,
   "metadata": {
    "colab": {},
    "colab_type": "code",
    "id": "9wHVyMQv597V",
    "outputId": "6470261d-ce19-4e76-9a0e-d4908ad33e16"
   },
   "outputs": [
    {
     "data": {
      "text/plain": [
       "'Par'"
      ]
     },
     "execution_count": 130,
     "metadata": {
      "tags": []
     },
     "output_type": "execute_result"
    }
   ],
   "source": [
    "par_ou_impar(4)"
   ]
  },
  {
   "cell_type": "code",
   "execution_count": 0,
   "metadata": {
    "colab": {},
    "colab_type": "code",
    "id": "BwfNIcBF597X",
    "outputId": "97c85864-0ebc-4437-d94c-975710ff0872"
   },
   "outputs": [
    {
     "data": {
      "text/plain": [
       "'Ímpar'"
      ]
     },
     "execution_count": 131,
     "metadata": {
      "tags": []
     },
     "output_type": "execute_result"
    }
   ],
   "source": [
    "par_ou_impar(3)"
   ]
  },
  {
   "cell_type": "markdown",
   "metadata": {
    "colab_type": "text",
    "id": "VsZwmIfu597Y"
   },
   "source": [
    "#### Também é possível retornar mais de um valor em uma única função"
   ]
  },
  {
   "cell_type": "code",
   "execution_count": 0,
   "metadata": {
    "colab": {},
    "colab_type": "code",
    "id": "09H3TgyK597Z"
   },
   "outputs": [],
   "source": [
    "def calculadora_basica(num1, num2):\n",
    "    return num1+num2, num1-num2, num1*num2, num1/num2"
   ]
  },
  {
   "cell_type": "code",
   "execution_count": 0,
   "metadata": {
    "colab": {},
    "colab_type": "code",
    "id": "m3iBA8FP597d"
   },
   "outputs": [],
   "source": [
    "soma, subtracao, multiplicacao, divisao = calculadora_basica(6,2)"
   ]
  },
  {
   "cell_type": "code",
   "execution_count": 0,
   "metadata": {
    "colab": {},
    "colab_type": "code",
    "id": "J8rtTMvX597e",
    "outputId": "d55f4c29-879e-458b-9936-e500e91e04e1"
   },
   "outputs": [
    {
     "data": {
      "text/plain": [
       "8"
      ]
     },
     "execution_count": 134,
     "metadata": {
      "tags": []
     },
     "output_type": "execute_result"
    }
   ],
   "source": [
    "soma"
   ]
  },
  {
   "cell_type": "code",
   "execution_count": 0,
   "metadata": {
    "colab": {},
    "colab_type": "code",
    "id": "-LxhtdsL597g",
    "outputId": "2437b9b4-7092-4745-8759-6f6e44678cc0"
   },
   "outputs": [
    {
     "data": {
      "text/plain": [
       "4"
      ]
     },
     "execution_count": 135,
     "metadata": {
      "tags": []
     },
     "output_type": "execute_result"
    }
   ],
   "source": [
    "subtracao"
   ]
  },
  {
   "cell_type": "code",
   "execution_count": 0,
   "metadata": {
    "colab": {},
    "colab_type": "code",
    "id": "Cp0xD7GR597h",
    "outputId": "6312016d-f25d-476e-88a2-85c197a76120"
   },
   "outputs": [
    {
     "data": {
      "text/plain": [
       "12"
      ]
     },
     "execution_count": 136,
     "metadata": {
      "tags": []
     },
     "output_type": "execute_result"
    }
   ],
   "source": [
    "multiplicacao"
   ]
  },
  {
   "cell_type": "code",
   "execution_count": 0,
   "metadata": {
    "colab": {},
    "colab_type": "code",
    "id": "SxQ6b4Cn597i",
    "outputId": "23d54d38-e46e-418c-88e6-e21ffd3b0a2d"
   },
   "outputs": [
    {
     "data": {
      "text/plain": [
       "3.0"
      ]
     },
     "execution_count": 137,
     "metadata": {
      "tags": []
     },
     "output_type": "execute_result"
    }
   ],
   "source": [
    "divisao"
   ]
  },
  {
   "cell_type": "markdown",
   "metadata": {
    "colab_type": "text",
    "id": "sgFwPBNR597k"
   },
   "source": [
    "#### Exemplos de funções prontas fornecidas pela linguagem Python"
   ]
  },
  {
   "cell_type": "code",
   "execution_count": 0,
   "metadata": {
    "colab": {},
    "colab_type": "code",
    "id": "U286QoV6597k",
    "outputId": "914c5ab3-9f56-4c38-d509-85666fecbc8b"
   },
   "outputs": [
    {
     "data": {
      "text/plain": [
       "int"
      ]
     },
     "execution_count": 139,
     "metadata": {
      "tags": []
     },
     "output_type": "execute_result"
    }
   ],
   "source": [
    "type(3)"
   ]
  },
  {
   "cell_type": "code",
   "execution_count": 0,
   "metadata": {
    "colab": {},
    "colab_type": "code",
    "id": "4-5GqlrS597l",
    "outputId": "fa68e0e9-3573-43a7-f818-7731a12e27cb"
   },
   "outputs": [
    {
     "data": {
      "text/plain": [
       "12"
      ]
     },
     "execution_count": 140,
     "metadata": {
      "tags": []
     },
     "output_type": "execute_result"
    }
   ],
   "source": [
    "round(12.34)"
   ]
  },
  {
   "cell_type": "code",
   "execution_count": 0,
   "metadata": {
    "colab": {},
    "colab_type": "code",
    "id": "3KOvtJT8597m",
    "outputId": "f64571b7-9558-49bb-ec4d-9e5859c9f168"
   },
   "outputs": [
    {
     "data": {
      "text/plain": [
       "12.123"
      ]
     },
     "execution_count": 141,
     "metadata": {
      "tags": []
     },
     "output_type": "execute_result"
    }
   ],
   "source": [
    "round(12.12345, 3)"
   ]
  },
  {
   "cell_type": "code",
   "execution_count": 0,
   "metadata": {
    "colab": {},
    "colab_type": "code",
    "id": "OtvQdkJy597n",
    "outputId": "402066ad-c727-4e67-ca8c-ee8a02523343"
   },
   "outputs": [
    {
     "data": {
      "text/plain": [
       "15"
      ]
     },
     "execution_count": 142,
     "metadata": {
      "tags": []
     },
     "output_type": "execute_result"
    }
   ],
   "source": [
    "int('15')"
   ]
  },
  {
   "cell_type": "code",
   "execution_count": 0,
   "metadata": {
    "colab": {},
    "colab_type": "code",
    "id": "A5QCInmh597o",
    "outputId": "e5c07ccc-a8e7-4c9d-d2d8-c0f266d71bd9"
   },
   "outputs": [
    {
     "data": {
      "text/plain": [
       "'12'"
      ]
     },
     "execution_count": 143,
     "metadata": {
      "tags": []
     },
     "output_type": "execute_result"
    }
   ],
   "source": [
    "str(12)"
   ]
  },
  {
   "cell_type": "markdown",
   "metadata": {
    "colab_type": "text",
    "id": "aCMSve8Q597p"
   },
   "source": [
    "#### Vamos praticar todos os assuntos aprendidos?"
   ]
  },
  {
   "cell_type": "markdown",
   "metadata": {
    "colab_type": "text",
    "id": "AxYaKGq5597p"
   },
   "source": [
    "#### 1. Faça uma função que receba dois números e retorne a média entre eles."
   ]
  },
  {
   "cell_type": "markdown",
   "metadata": {
    "colab_type": "text",
    "id": "fW3r3NU5597p"
   },
   "source": [
    "#### 2. Faça uma função que leia um código de material que contenha 3 letras e quatro números (Exemplo: EAN1248) e retorne a parte texto (EAN) e número (1248) separadas."
   ]
  },
  {
   "cell_type": "markdown",
   "metadata": {
    "colab_type": "text",
    "id": "-_Knjvn-597q"
   },
   "source": [
    "#### 3. Um vendedor de casquinhas de sorvete quer um sistema onde ele informe a quantidade, o sabor do sorvete e o total da compra. Em sua sorveteria vendem-se 3 sabores de sorvete com preços variados.\n",
    "    \n",
    "    * Chocolate = 2.50\n",
    "    * Baunilha = 3.00 \n",
    "    * Mista = 3.50\n",
    "    \n",
    "#### Como podemos ajudá-lo com uma função para calcular o valor total do pedido para clientes que estão na fila?"
   ]
  }
 ],
 "metadata": {
  "colab": {
   "name": "Aula 1 e 2.ipynb",
   "provenance": []
  },
  "kernelspec": {
   "display_name": "Python 3",
   "language": "python",
   "name": "python3"
  },
  "language_info": {
   "codemirror_mode": {
    "name": "ipython",
    "version": 3
   },
   "file_extension": ".py",
   "mimetype": "text/x-python",
   "name": "python",
   "nbconvert_exporter": "python",
   "pygments_lexer": "ipython3",
   "version": "3.8.1"
  }
 },
 "nbformat": 4,
 "nbformat_minor": 1
}
