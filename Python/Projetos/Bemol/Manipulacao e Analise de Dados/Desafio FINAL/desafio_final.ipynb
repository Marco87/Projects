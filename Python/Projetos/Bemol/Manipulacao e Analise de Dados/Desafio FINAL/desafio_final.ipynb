{
 "cells": [
  {
   "cell_type": "markdown",
   "metadata": {},
   "source": [
    "![](https://cartao.bemol.com.br/assets/img/logos/bemol.png)"
   ]
  },
  {
   "cell_type": "markdown",
   "metadata": {},
   "source": [
    "# Desafio Final"
   ]
  },
  {
   "cell_type": "markdown",
   "metadata": {},
   "source": [
    "![](https://pivot-video.webnode.com.br/_files/200000024-edf9ceef09/Luta%20Marrom%20VS%20Preto.gif)"
   ]
  },
  {
   "cell_type": "markdown",
   "metadata": {},
   "source": [
    "### Importando as bibliotecas"
   ]
  },
  {
   "cell_type": "markdown",
   "metadata": {},
   "source": [
    "![](https://i.pinimg.com/originals/a9/e1/30/a9e13016542fd09aa56a478b2753574a.gif)"
   ]
  },
  {
   "cell_type": "code",
   "execution_count": 2,
   "metadata": {},
   "outputs": [],
   "source": [
    "import pandas as pd\n",
    "import numpy as np\n",
    "import matplotlib.pyplot as plt"
   ]
  },
  {
   "cell_type": "markdown",
   "metadata": {},
   "source": [
    "### Importando o arquivo enviado pela empresa financeira"
   ]
  },
  {
   "cell_type": "code",
   "execution_count": 4,
   "metadata": {},
   "outputs": [],
   "source": [
    "df_detalhamento = pd.read_excel(\"detalhamento.xlsx\")"
   ]
  },
  {
   "cell_type": "code",
   "execution_count": 5,
   "metadata": {},
   "outputs": [
    {
     "data": {
      "text/html": [
       "<div>\n",
       "<style scoped>\n",
       "    .dataframe tbody tr th:only-of-type {\n",
       "        vertical-align: middle;\n",
       "    }\n",
       "\n",
       "    .dataframe tbody tr th {\n",
       "        vertical-align: top;\n",
       "    }\n",
       "\n",
       "    .dataframe thead th {\n",
       "        text-align: right;\n",
       "    }\n",
       "</style>\n",
       "<table border=\"1\" class=\"dataframe\">\n",
       "  <thead>\n",
       "    <tr style=\"text-align: right;\">\n",
       "      <th></th>\n",
       "      <th>Unnamed: 0</th>\n",
       "      <th>Unnamed: 1</th>\n",
       "      <th>Unnamed: 2</th>\n",
       "      <th>Unnamed: 3</th>\n",
       "      <th>Unnamed: 4</th>\n",
       "    </tr>\n",
       "  </thead>\n",
       "  <tbody>\n",
       "    <tr>\n",
       "      <td>0</td>\n",
       "      <td>NomeFantasia</td>\n",
       "      <td>Escritório de vendas</td>\n",
       "      <td>UF</td>\n",
       "      <td>Operadora</td>\n",
       "      <td>Vlookup Bruto</td>\n",
       "    </tr>\n",
       "    <tr>\n",
       "      <td>1</td>\n",
       "      <td>BEMOL AVENIDA</td>\n",
       "      <td>103</td>\n",
       "      <td>AM</td>\n",
       "      <td>Claro</td>\n",
       "      <td>2651</td>\n",
       "    </tr>\n",
       "    <tr>\n",
       "      <td>2</td>\n",
       "      <td>BEMOL AVENIDA</td>\n",
       "      <td>103</td>\n",
       "      <td>AM</td>\n",
       "      <td>Oi</td>\n",
       "      <td>3309</td>\n",
       "    </tr>\n",
       "    <tr>\n",
       "      <td>3</td>\n",
       "      <td>BEMOL AVENIDA</td>\n",
       "      <td>103</td>\n",
       "      <td>AM</td>\n",
       "      <td>Tim</td>\n",
       "      <td>1550</td>\n",
       "    </tr>\n",
       "    <tr>\n",
       "      <td>4</td>\n",
       "      <td>BEMOL AVENIDA</td>\n",
       "      <td>103</td>\n",
       "      <td>AM</td>\n",
       "      <td>Vivo</td>\n",
       "      <td>4739</td>\n",
       "    </tr>\n",
       "    <tr>\n",
       "      <td>...</td>\n",
       "      <td>...</td>\n",
       "      <td>...</td>\n",
       "      <td>...</td>\n",
       "      <td>...</td>\n",
       "      <td>...</td>\n",
       "    </tr>\n",
       "    <tr>\n",
       "      <td>122</td>\n",
       "      <td>BEMOL STUDIO 5</td>\n",
       "      <td>116</td>\n",
       "      <td>AM</td>\n",
       "      <td>Vivo</td>\n",
       "      <td>2144</td>\n",
       "    </tr>\n",
       "    <tr>\n",
       "      <td>123</td>\n",
       "      <td>BEMOL TORQUATO</td>\n",
       "      <td>500</td>\n",
       "      <td>AM</td>\n",
       "      <td>Claro</td>\n",
       "      <td>1838</td>\n",
       "    </tr>\n",
       "    <tr>\n",
       "      <td>124</td>\n",
       "      <td>BEMOL TORQUATO</td>\n",
       "      <td>500</td>\n",
       "      <td>AM</td>\n",
       "      <td>Oi</td>\n",
       "      <td>875</td>\n",
       "    </tr>\n",
       "    <tr>\n",
       "      <td>125</td>\n",
       "      <td>BEMOL TORQUATO</td>\n",
       "      <td>500</td>\n",
       "      <td>AM</td>\n",
       "      <td>Tim</td>\n",
       "      <td>560</td>\n",
       "    </tr>\n",
       "    <tr>\n",
       "      <td>126</td>\n",
       "      <td>BEMOL TORQUATO</td>\n",
       "      <td>500</td>\n",
       "      <td>AM</td>\n",
       "      <td>Vivo</td>\n",
       "      <td>3751</td>\n",
       "    </tr>\n",
       "  </tbody>\n",
       "</table>\n",
       "<p>127 rows × 5 columns</p>\n",
       "</div>"
      ],
      "text/plain": [
       "         Unnamed: 0            Unnamed: 1 Unnamed: 2 Unnamed: 3     Unnamed: 4\n",
       "0      NomeFantasia  Escritório de vendas         UF  Operadora  Vlookup Bruto\n",
       "1     BEMOL AVENIDA                   103         AM      Claro           2651\n",
       "2     BEMOL AVENIDA                   103         AM         Oi           3309\n",
       "3     BEMOL AVENIDA                   103         AM        Tim           1550\n",
       "4     BEMOL AVENIDA                   103         AM       Vivo           4739\n",
       "..              ...                   ...        ...        ...            ...\n",
       "122  BEMOL STUDIO 5                   116         AM       Vivo           2144\n",
       "123  BEMOL TORQUATO                   500         AM      Claro           1838\n",
       "124  BEMOL TORQUATO                   500         AM         Oi            875\n",
       "125  BEMOL TORQUATO                   500         AM        Tim            560\n",
       "126  BEMOL TORQUATO                   500         AM       Vivo           3751\n",
       "\n",
       "[127 rows x 5 columns]"
      ]
     },
     "execution_count": 5,
     "metadata": {},
     "output_type": "execute_result"
    }
   ],
   "source": [
    "df_detalhamento"
   ]
  },
  {
   "cell_type": "code",
   "execution_count": null,
   "metadata": {},
   "outputs": [],
   "source": []
  }
 ],
 "metadata": {
  "kernelspec": {
   "display_name": "Python 3",
   "language": "python",
   "name": "python3"
  },
  "language_info": {
   "codemirror_mode": {
    "name": "ipython",
    "version": 3
   },
   "file_extension": ".py",
   "mimetype": "text/x-python",
   "name": "python",
   "nbconvert_exporter": "python",
   "pygments_lexer": "ipython3",
   "version": "3.7.4"
  }
 },
 "nbformat": 4,
 "nbformat_minor": 2
}
