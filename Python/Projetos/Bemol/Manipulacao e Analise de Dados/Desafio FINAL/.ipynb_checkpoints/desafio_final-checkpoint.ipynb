{
 "cells": [
  {
   "cell_type": "markdown",
   "metadata": {},
   "source": [
    "![](https://cartao.bemol.com.br/assets/img/logos/bemol.png)"
   ]
  },
  {
   "cell_type": "markdown",
   "metadata": {},
   "source": [
    "# Desafio Final\n",
    "\n",
    "\n",
    "### O projeto consiste em uma conciliação do valor total de vendas de recarga de celular por operadora e por loja. A Bemol recebe um arquivo de uma empresa financeira (detalhamento.xlsx) onde possui o valor consolidado de vendas e o objetivo é verificar se os dados do nosso banco de dados (vendas.csv) estão de acordo com o informado. Gerar um alerta caso os valores estejam divergentes.\n",
    "\n",
    "### Dica:\n",
    "### Os dados do SAP vêm separados por cada transição de venda realizada. A ideia é de agrupar esses dados para deixá-los no formato parecido com que recebemos da empresa externa e, assim, poder unificar as tabelas e fazer a comparação.\n",
    "### * O formato final do relatório se encontra no arquivo de estória do usuário \n"
   ]
  },
  {
   "cell_type": "markdown",
   "metadata": {},
   "source": [
    "### Importando as bibliotecas"
   ]
  },
  {
   "cell_type": "markdown",
   "metadata": {},
   "source": [
    "![](https://i.pinimg.com/originals/a9/e1/30/a9e13016542fd09aa56a478b2753574a.gif)"
   ]
  },
  {
   "cell_type": "code",
   "execution_count": 1,
   "metadata": {},
   "outputs": [],
   "source": [
    "import pandas as pd\n",
    "import numpy as np\n",
    "import matplotlib.pyplot as plt"
   ]
  },
  {
   "cell_type": "markdown",
   "metadata": {},
   "source": [
    "### Importando o arquivo enviado pela empresa financeira"
   ]
  },
  {
   "cell_type": "code",
   "execution_count": 2,
   "metadata": {},
   "outputs": [],
   "source": [
    "df_detalhamento = pd.read_excel(\"detalhamento.xlsx\")"
   ]
  },
  {
   "cell_type": "code",
   "execution_count": 3,
   "metadata": {},
   "outputs": [],
   "source": [
    "#Renomeando as colunas\n",
    "\n",
    "df_detalhamento = df_detalhamento.rename(columns={'Unnamed: 0':'NomeFantasia', 'Unnamed: 1':'EscritorioVendas', 'Unnamed: 2':'UF', 'Unnamed: 3':'Operadora', 'Unnamed: 4':'Vlookup_Bruto'})"
   ]
  },
  {
   "cell_type": "code",
   "execution_count": 17,
   "metadata": {},
   "outputs": [],
   "source": [
    "#Eliminando a primeira linha\n",
    "\n",
    "df_detalhamento = df_detalhamento.drop(df_detalhamento[df_detalhamento.UF == 'UF'].index)"
   ]
  },
  {
   "cell_type": "markdown",
   "metadata": {},
   "source": [
    "### Importando os arquivos presentes na loja"
   ]
  },
  {
   "cell_type": "markdown",
   "metadata": {},
   "source": [
    "### Estória do usuário"
   ]
  },
  {
   "cell_type": "code",
   "execution_count": 20,
   "metadata": {},
   "outputs": [],
   "source": [
    "df_estoria = pd.read_excel(\"estoria_usuario.xlsx\")"
   ]
  },
  {
   "cell_type": "code",
   "execution_count": 21,
   "metadata": {},
   "outputs": [
    {
     "data": {
      "text/html": [
       "<div>\n",
       "<style scoped>\n",
       "    .dataframe tbody tr th:only-of-type {\n",
       "        vertical-align: middle;\n",
       "    }\n",
       "\n",
       "    .dataframe tbody tr th {\n",
       "        vertical-align: top;\n",
       "    }\n",
       "\n",
       "    .dataframe thead th {\n",
       "        text-align: right;\n",
       "    }\n",
       "</style>\n",
       "<table border=\"1\" class=\"dataframe\">\n",
       "  <thead>\n",
       "    <tr style=\"text-align: right;\">\n",
       "      <th></th>\n",
       "      <th>loja</th>\n",
       "      <th>operadora</th>\n",
       "      <th>valor liquido</th>\n",
       "      <th>valor bruto</th>\n",
       "      <th>status</th>\n",
       "      <th>Unnamed: 5</th>\n",
       "      <th>Atividade</th>\n",
       "      <th>Status da Atividade</th>\n",
       "    </tr>\n",
       "  </thead>\n",
       "  <tbody>\n",
       "    <tr>\n",
       "      <td>0</td>\n",
       "      <td>NaN</td>\n",
       "      <td>NaN</td>\n",
       "      <td>NaN</td>\n",
       "      <td>NaN</td>\n",
       "      <td>se valor liquido != valor bruto  gerar mensage...</td>\n",
       "      <td>NaN</td>\n",
       "      <td>1. Leitura de arquivos</td>\n",
       "      <td>NaN</td>\n",
       "    </tr>\n",
       "    <tr>\n",
       "      <td>1</td>\n",
       "      <td>NaN</td>\n",
       "      <td>NaN</td>\n",
       "      <td>NaN</td>\n",
       "      <td>NaN</td>\n",
       "      <td>NaN</td>\n",
       "      <td>NaN</td>\n",
       "      <td>2. Tratamento de dados</td>\n",
       "      <td>NaN</td>\n",
       "    </tr>\n",
       "    <tr>\n",
       "      <td>2</td>\n",
       "      <td>NaN</td>\n",
       "      <td>NaN</td>\n",
       "      <td>NaN</td>\n",
       "      <td>NaN</td>\n",
       "      <td>NaN</td>\n",
       "      <td>NaN</td>\n",
       "      <td>2.1. Renomear colunas</td>\n",
       "      <td>NaN</td>\n",
       "    </tr>\n",
       "    <tr>\n",
       "      <td>3</td>\n",
       "      <td>NaN</td>\n",
       "      <td>NaN</td>\n",
       "      <td>NaN</td>\n",
       "      <td>NaN</td>\n",
       "      <td>NaN</td>\n",
       "      <td>NaN</td>\n",
       "      <td>2.2. Verificar tipos</td>\n",
       "      <td>NaN</td>\n",
       "    </tr>\n",
       "    <tr>\n",
       "      <td>4</td>\n",
       "      <td>NaN</td>\n",
       "      <td>NaN</td>\n",
       "      <td>NaN</td>\n",
       "      <td>NaN</td>\n",
       "      <td>NaN</td>\n",
       "      <td>NaN</td>\n",
       "      <td>2.3. Deletar dados</td>\n",
       "      <td>NaN</td>\n",
       "    </tr>\n",
       "    <tr>\n",
       "      <td>5</td>\n",
       "      <td>NaN</td>\n",
       "      <td>NaN</td>\n",
       "      <td>NaN</td>\n",
       "      <td>NaN</td>\n",
       "      <td>NaN</td>\n",
       "      <td>NaN</td>\n",
       "      <td>3. Concatenar Tabelas</td>\n",
       "      <td>NaN</td>\n",
       "    </tr>\n",
       "    <tr>\n",
       "      <td>6</td>\n",
       "      <td>NaN</td>\n",
       "      <td>NaN</td>\n",
       "      <td>NaN</td>\n",
       "      <td>NaN</td>\n",
       "      <td>NaN</td>\n",
       "      <td>NaN</td>\n",
       "      <td>4. Correlação de Tabelas</td>\n",
       "      <td>NaN</td>\n",
       "    </tr>\n",
       "    <tr>\n",
       "      <td>7</td>\n",
       "      <td>NaN</td>\n",
       "      <td>NaN</td>\n",
       "      <td>NaN</td>\n",
       "      <td>NaN</td>\n",
       "      <td>NaN</td>\n",
       "      <td>NaN</td>\n",
       "      <td>5. Regra de Negócio</td>\n",
       "      <td>NaN</td>\n",
       "    </tr>\n",
       "    <tr>\n",
       "      <td>8</td>\n",
       "      <td>NaN</td>\n",
       "      <td>NaN</td>\n",
       "      <td>NaN</td>\n",
       "      <td>NaN</td>\n",
       "      <td>NaN</td>\n",
       "      <td>NaN</td>\n",
       "      <td>6. Exportar Dados</td>\n",
       "      <td>NaN</td>\n",
       "    </tr>\n",
       "  </tbody>\n",
       "</table>\n",
       "</div>"
      ],
      "text/plain": [
       "   loja  operadora  valor liquido  valor bruto  \\\n",
       "0   NaN        NaN            NaN          NaN   \n",
       "1   NaN        NaN            NaN          NaN   \n",
       "2   NaN        NaN            NaN          NaN   \n",
       "3   NaN        NaN            NaN          NaN   \n",
       "4   NaN        NaN            NaN          NaN   \n",
       "5   NaN        NaN            NaN          NaN   \n",
       "6   NaN        NaN            NaN          NaN   \n",
       "7   NaN        NaN            NaN          NaN   \n",
       "8   NaN        NaN            NaN          NaN   \n",
       "\n",
       "                                              status  Unnamed: 5  \\\n",
       "0  se valor liquido != valor bruto  gerar mensage...         NaN   \n",
       "1                                                NaN         NaN   \n",
       "2                                                NaN         NaN   \n",
       "3                                                NaN         NaN   \n",
       "4                                                NaN         NaN   \n",
       "5                                                NaN         NaN   \n",
       "6                                                NaN         NaN   \n",
       "7                                                NaN         NaN   \n",
       "8                                                NaN         NaN   \n",
       "\n",
       "                  Atividade  Status da Atividade  \n",
       "0    1. Leitura de arquivos                  NaN  \n",
       "1    2. Tratamento de dados                  NaN  \n",
       "2     2.1. Renomear colunas                  NaN  \n",
       "3      2.2. Verificar tipos                  NaN  \n",
       "4        2.3. Deletar dados                  NaN  \n",
       "5     3. Concatenar Tabelas                  NaN  \n",
       "6  4. Correlação de Tabelas                  NaN  \n",
       "7       5. Regra de Negócio                  NaN  \n",
       "8         6. Exportar Dados                  NaN  "
      ]
     },
     "execution_count": 21,
     "metadata": {},
     "output_type": "execute_result"
    }
   ],
   "source": [
    "df_estoria"
   ]
  },
  {
   "cell_type": "code",
   "execution_count": null,
   "metadata": {},
   "outputs": [],
   "source": []
  },
  {
   "cell_type": "markdown",
   "metadata": {},
   "source": [
    "### Vendas"
   ]
  },
  {
   "cell_type": "code",
   "execution_count": 22,
   "metadata": {},
   "outputs": [],
   "source": [
    "df_vendas = pd.read_csv(\"vendas.csv\")"
   ]
  },
  {
   "cell_type": "code",
   "execution_count": 23,
   "metadata": {},
   "outputs": [
    {
     "data": {
      "text/html": [
       "<div>\n",
       "<style scoped>\n",
       "    .dataframe tbody tr th:only-of-type {\n",
       "        vertical-align: middle;\n",
       "    }\n",
       "\n",
       "    .dataframe tbody tr th {\n",
       "        vertical-align: top;\n",
       "    }\n",
       "\n",
       "    .dataframe thead th {\n",
       "        text-align: right;\n",
       "    }\n",
       "</style>\n",
       "<table border=\"1\" class=\"dataframe\">\n",
       "  <thead>\n",
       "    <tr style=\"text-align: right;\">\n",
       "      <th></th>\n",
       "      <th>Escritório de vendas|Fornecedor|Material|Data|Valor Liquido</th>\n",
       "    </tr>\n",
       "  </thead>\n",
       "  <tbody>\n",
       "    <tr>\n",
       "      <td>101|Vivo|131318             RECARGA VIRTUAL VIVO R$ 1</td>\n",
       "      <td>00|02.01.2020|20.0</td>\n",
       "    </tr>\n",
       "    <tr>\n",
       "      <td>101|Vivo|131318             RECARGA VIRTUAL VIVO R$ 1</td>\n",
       "      <td>00|30.12.2019|10.0</td>\n",
       "    </tr>\n",
       "    <tr>\n",
       "      <td>101|Vivo|131318             RECARGA VIRTUAL VIVO R$ 1</td>\n",
       "      <td>00|04.01.2020|20.0</td>\n",
       "    </tr>\n",
       "    <tr>\n",
       "      <td>101|Vivo|131318             RECARGA VIRTUAL VIVO R$ 1</td>\n",
       "      <td>00|02.01.2020|10.0</td>\n",
       "    </tr>\n",
       "    <tr>\n",
       "      <td>101|Vivo|131318             RECARGA VIRTUAL VIVO R$ 1</td>\n",
       "      <td>00|03.01.2020|25.0</td>\n",
       "    </tr>\n",
       "    <tr>\n",
       "      <td>...</td>\n",
       "      <td>...</td>\n",
       "    </tr>\n",
       "    <tr>\n",
       "      <td>701|Claro|131317             RECARGA VIRTUAL CLARO R$ 1</td>\n",
       "      <td>00|30.12.2019|20.0</td>\n",
       "    </tr>\n",
       "    <tr>\n",
       "      <td>701|Claro|131317             RECARGA VIRTUAL CLARO R$ 1</td>\n",
       "      <td>00|04.01.2020|20.0</td>\n",
       "    </tr>\n",
       "    <tr>\n",
       "      <td>701|Claro|131317             RECARGA VIRTUAL CLARO R$ 1</td>\n",
       "      <td>00|05.01.2020|20.0</td>\n",
       "    </tr>\n",
       "    <tr>\n",
       "      <td>701|Claro|131317             RECARGA VIRTUAL CLARO R$ 1</td>\n",
       "      <td>00|05.01.2020|45.0</td>\n",
       "    </tr>\n",
       "    <tr>\n",
       "      <td>701|Claro|131317             RECARGA VIRTUAL CLARO R$ 1</td>\n",
       "      <td>00|04.01.2020|35.0</td>\n",
       "    </tr>\n",
       "  </tbody>\n",
       "</table>\n",
       "<p>5113 rows × 1 columns</p>\n",
       "</div>"
      ],
      "text/plain": [
       "                                                   Escritório de vendas|Fornecedor|Material|Data|Valor Liquido\n",
       "101|Vivo|131318             RECARGA VIRTUAL VIV...                                 00|02.01.2020|20.0         \n",
       "101|Vivo|131318             RECARGA VIRTUAL VIV...                                 00|30.12.2019|10.0         \n",
       "101|Vivo|131318             RECARGA VIRTUAL VIV...                                 00|04.01.2020|20.0         \n",
       "101|Vivo|131318             RECARGA VIRTUAL VIV...                                 00|02.01.2020|10.0         \n",
       "101|Vivo|131318             RECARGA VIRTUAL VIV...                                 00|03.01.2020|25.0         \n",
       "...                                                                                               ...         \n",
       "701|Claro|131317             RECARGA VIRTUAL CL...                                 00|30.12.2019|20.0         \n",
       "701|Claro|131317             RECARGA VIRTUAL CL...                                 00|04.01.2020|20.0         \n",
       "701|Claro|131317             RECARGA VIRTUAL CL...                                 00|05.01.2020|20.0         \n",
       "701|Claro|131317             RECARGA VIRTUAL CL...                                 00|05.01.2020|45.0         \n",
       "701|Claro|131317             RECARGA VIRTUAL CL...                                 00|04.01.2020|35.0         \n",
       "\n",
       "[5113 rows x 1 columns]"
      ]
     },
     "execution_count": 23,
     "metadata": {},
     "output_type": "execute_result"
    }
   ],
   "source": [
    "df_vendas"
   ]
  },
  {
   "cell_type": "code",
   "execution_count": null,
   "metadata": {},
   "outputs": [],
   "source": []
  }
 ],
 "metadata": {
  "kernelspec": {
   "display_name": "Python 3",
   "language": "python",
   "name": "python3"
  },
  "language_info": {
   "codemirror_mode": {
    "name": "ipython",
    "version": 3
   },
   "file_extension": ".py",
   "mimetype": "text/x-python",
   "name": "python",
   "nbconvert_exporter": "python",
   "pygments_lexer": "ipython3",
   "version": "3.7.4"
  }
 },
 "nbformat": 4,
 "nbformat_minor": 2
}
