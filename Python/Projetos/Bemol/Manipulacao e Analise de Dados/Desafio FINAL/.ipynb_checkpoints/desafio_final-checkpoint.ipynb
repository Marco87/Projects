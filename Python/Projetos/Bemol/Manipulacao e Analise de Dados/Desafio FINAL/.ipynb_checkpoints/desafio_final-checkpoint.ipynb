{
 "cells": [
  {
   "cell_type": "markdown",
   "metadata": {},
   "source": [
    "![](https://cartao.bemol.com.br/assets/img/logos/bemol.png)"
   ]
  },
  {
   "cell_type": "markdown",
   "metadata": {},
   "source": [
    "# Desafio Final\n",
    "\n",
    "\n",
    "### O projeto consiste em uma conciliação do valor total de vendas de recarga de celular por operadora e por loja. A Bemol recebe um arquivo de uma empresa financeira (detalhamento.xlsx) onde possui o valor consolidado de vendas e o objetivo é verificar se os dados do nosso banco de dados (vendas.csv) estão de acordo com o informado. Gerar um alerta caso os valores estejam divergentes.\n",
    "\n",
    "### Dica:\n",
    "### Os dados do SAP vêm separados por cada transição de venda realizada. A ideia é de agrupar esses dados para deixá-los no formato parecido com que recebemos da empresa externa e, assim, poder unificar as tabelas e fazer a comparação.\n",
    "### * O formato final do relatório se encontra no arquivo de estória do usuário \n"
   ]
  },
  {
   "cell_type": "markdown",
   "metadata": {},
   "source": [
    "### Importando as bibliotecas"
   ]
  },
  {
   "cell_type": "markdown",
   "metadata": {},
   "source": [
    "![](https://i.pinimg.com/originals/a9/e1/30/a9e13016542fd09aa56a478b2753574a.gif)"
   ]
  },
  {
   "cell_type": "code",
   "execution_count": 1,
   "metadata": {},
   "outputs": [],
   "source": [
    "import pandas as pd\n",
    "import numpy as np\n",
    "import matplotlib.pyplot as plt"
   ]
  },
  {
   "cell_type": "markdown",
   "metadata": {},
   "source": [
    "### Importando o arquivo enviado pela empresa financeira"
   ]
  },
  {
   "cell_type": "code",
   "execution_count": 2,
   "metadata": {},
   "outputs": [],
   "source": [
    "df_detalhamento = pd.read_excel(\"detalhamento.xlsx\")"
   ]
  },
  {
   "cell_type": "code",
   "execution_count": 3,
   "metadata": {},
   "outputs": [],
   "source": [
    "#Renomeando as colunas\n",
    "\n",
    "df_detalhamento = df_detalhamento.rename(columns={'Unnamed: 0':'NomeFantasia', 'Unnamed: 1':'EscritorioVendas', 'Unnamed: 2':'UF', 'Unnamed: 3':'Operadora', 'Unnamed: 4':'Vlookup_Bruto'})"
   ]
  },
  {
   "cell_type": "code",
   "execution_count": 17,
   "metadata": {},
   "outputs": [],
   "source": [
    "#Eliminando a primeira linha\n",
    "\n",
    "df_detalhamento = df_detalhamento.drop(df_detalhamento[df_detalhamento.UF == 'UF'].index)"
   ]
  },
  {
   "cell_type": "markdown",
   "metadata": {},
   "source": [
    "### Importando os arquivos presentes na loja"
   ]
  },
  {
   "cell_type": "markdown",
   "metadata": {},
   "source": [
    "### Estória do usuário"
   ]
  },
  {
   "cell_type": "code",
   "execution_count": 20,
   "metadata": {},
   "outputs": [],
   "source": [
    "df_estoria = pd.read_excel(\"estoria_usuario.xlsx\")"
   ]
  },
  {
   "cell_type": "code",
   "execution_count": null,
   "metadata": {},
   "outputs": [],
   "source": []
  }
 ],
 "metadata": {
  "kernelspec": {
   "display_name": "Python 3",
   "language": "python",
   "name": "python3"
  },
  "language_info": {
   "codemirror_mode": {
    "name": "ipython",
    "version": 3
   },
   "file_extension": ".py",
   "mimetype": "text/x-python",
   "name": "python",
   "nbconvert_exporter": "python",
   "pygments_lexer": "ipython3",
   "version": "3.7.4"
  }
 },
 "nbformat": 4,
 "nbformat_minor": 2
}
