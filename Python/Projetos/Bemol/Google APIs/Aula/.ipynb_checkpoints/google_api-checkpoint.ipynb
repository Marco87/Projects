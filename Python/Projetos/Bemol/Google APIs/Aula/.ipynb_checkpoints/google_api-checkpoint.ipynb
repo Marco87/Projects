{
 "cells": [
  {
   "cell_type": "markdown",
   "metadata": {},
   "source": [
    "### API do Google\n",
    "\n",
    "### https://console.developers.google.com/apis/dashboard?hl=pt-br&project=focal-shape-276516&supportedpurview=project"
   ]
  },
  {
   "cell_type": "markdown",
   "metadata": {},
   "source": [
    "### Importando as bibliotecas"
   ]
  },
  {
   "cell_type": "code",
   "execution_count": 9,
   "metadata": {},
   "outputs": [],
   "source": [
    "import gspread\n",
    "import pygsheets\n",
    "from oauth2client.service_account import ServiceAccountCredentials\n",
    "import pandas as pd"
   ]
  },
  {
   "cell_type": "code",
   "execution_count": 15,
   "metadata": {},
   "outputs": [],
   "source": [
    "#variável da credencial = biblioteca.funcao_Da_biblioteca()\n",
    "\n",
    "credencial_do_google = pygsheets.authorize(service_file = \"Curso de Google API - Bemol-601ff430098a.json\")"
   ]
  },
  {
   "cell_type": "code",
   "execution_count": 16,
   "metadata": {},
   "outputs": [],
   "source": [
    "#criar um dataframe (tabela)\n",
    "\n",
    "df_teste = pd.DataFrame(data=[\"Funcionou\"],columns=[\"Teste\"])"
   ]
  },
  {
   "cell_type": "code",
   "execution_count": 20,
   "metadata": {},
   "outputs": [],
   "source": [
    "#abrir/acessar a planilha na nuvem\n",
    "\n",
    "planilha_google = credencial_do_google.open(\"planilha_google_api\").worksheet_by_title(\"pagina_teste\")"
   ]
  },
  {
   "cell_type": "code",
   "execution_count": 21,
   "metadata": {},
   "outputs": [],
   "source": [
    "#enviar os dados para a planilha\n",
    "\n",
    "planilha_google.set_dataframe(df_teste, \"B1\")"
   ]
  },
  {
   "cell_type": "code",
   "execution_count": null,
   "metadata": {},
   "outputs": [],
   "source": []
  }
 ],
 "metadata": {
  "kernelspec": {
   "display_name": "Python 3",
   "language": "python",
   "name": "python3"
  },
  "language_info": {
   "codemirror_mode": {
    "name": "ipython",
    "version": 3
   },
   "file_extension": ".py",
   "mimetype": "text/x-python",
   "name": "python",
   "nbconvert_exporter": "python",
   "pygments_lexer": "ipython3",
   "version": "3.7.4"
  }
 },
 "nbformat": 4,
 "nbformat_minor": 2
}
