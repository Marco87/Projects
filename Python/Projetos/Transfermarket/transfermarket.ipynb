{
 "cells": [
  {
   "cell_type": "code",
   "execution_count": 3,
   "metadata": {},
   "outputs": [],
   "source": [
    "#Importando as bibliotecas\n",
    "\n",
    "import pandas as pd\n",
    "import numpy as np\n",
    "import matplotlib.pyplot as plt\n",
    "import requests\n",
    "from bs4 import BeautifulSoup"
   ]
  },
  {
   "cell_type": "code",
   "execution_count": 4,
   "metadata": {},
   "outputs": [],
   "source": [
    "headers = {\"User-Agent\": \"Mozilla/5.0 (X11; Linux x86_64) AppleWebKit/537.86 (KHTML, like Gecko) Chrome/47.0.2526.106 Safari/537.36\"}"
   ]
  },
  {
   "cell_type": "code",
   "execution_count": 5,
   "metadata": {},
   "outputs": [],
   "source": [
    "endereco_pagina = \"https://www.transfermarkt.com.br/erfolge/spielertitel/statistik?titel_id=195\""
   ]
  },
  {
   "cell_type": "code",
   "execution_count": 6,
   "metadata": {},
   "outputs": [],
   "source": [
    "objeto_response = requests.get(endereco_pagina, headers=headers)"
   ]
  },
  {
   "cell_type": "code",
   "execution_count": 7,
   "metadata": {},
   "outputs": [],
   "source": [
    "pagina_bs = BeautifulSoup(objeto_response.content, \"html.parser\")"
   ]
  },
  {
   "cell_type": "code",
   "execution_count": 9,
   "metadata": {},
   "outputs": [],
   "source": [
    "#Pegando o nome dos jogadores\n",
    "\n",
    "nomes_jogadores = []\n",
    "\n",
    "tags_jogadores = pagina_bs.find_all(\"a\", {\"class\": \"spielprofil_tooltip\"})\n",
    "\n",
    "for tag_jogador in tags_jogadores:\n",
    "    nomes_jogadores.append(tag_jogador.text)"
   ]
  },
  {
   "cell_type": "code",
   "execution_count": 25,
   "metadata": {},
   "outputs": [],
   "source": [
    "#Pegado a nacionalidade dos jogadores\n",
    "\n",
    "pais_jogadores = []\n",
    "\n",
    "tags_ligas = pagina_bs.find_all(\"td\",{\"class\": \"zentriert\"})\n",
    "\n",
    "for tag_liga in tags_ligas:\n",
    "    imagem_pais = tag_liga.find(\"img\", {\"class\": \"flaggenrahmen\"}, {\"title\": True})\n",
    "    if(imagem_pais != None):\n",
    "        pais_jogadores.append(imagem_pais['title'])"
   ]
  },
  {
   "cell_type": "code",
   "execution_count": 26,
   "metadata": {},
   "outputs": [],
   "source": [
    "#Pegado a imagem da nacionalidade dos jogadores\n",
    "\n",
    "pais_jogadores_imagens = []\n",
    "\n",
    "tags_ligas_imagens = pagina_bs.find_all(\"td\",{\"class\": \"zentriert\"})\n",
    "\n",
    "for tag_liga in tags_ligas_imagens:\n",
    "    imagem_pais = tag_liga.find(\"img\", {\"class\": \"flaggenrahmen\"}, {\"title\": True})\n",
    "    if(imagem_pais != None):\n",
    "        pais_jogadores_imagens.append(imagem_pais['src'])"
   ]
  },
  {
   "cell_type": "code",
   "execution_count": 40,
   "metadata": {},
   "outputs": [],
   "source": [
    "#Pegado os clubes dos jogadores\n",
    "\n",
    "clubes_jogadores = []\n",
    "\n",
    "tags_clubes = pagina_bs.find_all(\"a\",{\"class\": \"vereinprofil_tooltip\"})\n",
    "\n",
    "for tag_clube in tags_clubes:\n",
    "    imagem_clube = tag_clube.find(\"img\", {\"alt\": True})\n",
    "    if(imagem_clube != None):\n",
    "        clubes_jogadores.append(imagem_clube['alt'])"
   ]
  },
  {
   "cell_type": "code",
   "execution_count": null,
   "metadata": {},
   "outputs": [],
   "source": []
  },
  {
   "cell_type": "code",
   "execution_count": null,
   "metadata": {},
   "outputs": [],
   "source": []
  },
  {
   "cell_type": "code",
   "execution_count": null,
   "metadata": {},
   "outputs": [],
   "source": []
  },
  {
   "cell_type": "markdown",
   "metadata": {},
   "source": [
    "### Links úteis\n",
    "\n",
    "### https://dev.to/lisandramelo/recebendo-informacoes-do-transfermarkt-uma-introducao-ao-web-scraping-188o\n",
    "\n",
    "### https://dev.to/lisandramelo/extracting-data-from-transfermarkt-an-introduction-to-webscraping-2i1c\n",
    "\n",
    "### "
   ]
  }
 ],
 "metadata": {
  "kernelspec": {
   "display_name": "Python 3",
   "language": "python",
   "name": "python3"
  },
  "language_info": {
   "codemirror_mode": {
    "name": "ipython",
    "version": 3
   },
   "file_extension": ".py",
   "mimetype": "text/x-python",
   "name": "python",
   "nbconvert_exporter": "python",
   "pygments_lexer": "ipython3",
   "version": "3.7.7"
  }
 },
 "nbformat": 4,
 "nbformat_minor": 4
}
