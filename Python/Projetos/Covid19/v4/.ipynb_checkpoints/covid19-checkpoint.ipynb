{
 "cells": [
  {
   "cell_type": "code",
   "execution_count": 1,
   "metadata": {},
   "outputs": [],
   "source": [
    "import pandas as pd\n",
    "import numpy as np"
   ]
  },
  {
   "cell_type": "code",
   "execution_count": 17,
   "metadata": {},
   "outputs": [],
   "source": [
    "df_covid = pd.read_fwf(\"data/covidData.txt\", sep=\",\", header=None, delimiter=\"\\n\")"
   ]
  },
  {
   "cell_type": "code",
   "execution_count": 18,
   "metadata": {},
   "outputs": [
    {
     "data": {
      "text/html": [
       "<div>\n",
       "<style scoped>\n",
       "    .dataframe tbody tr th:only-of-type {\n",
       "        vertical-align: middle;\n",
       "    }\n",
       "\n",
       "    .dataframe tbody tr th {\n",
       "        vertical-align: top;\n",
       "    }\n",
       "\n",
       "    .dataframe thead th {\n",
       "        text-align: right;\n",
       "    }\n",
       "</style>\n",
       "<table border=\"1\" class=\"dataframe\">\n",
       "  <thead>\n",
       "    <tr style=\"text-align: right;\">\n",
       "      <th></th>\n",
       "      <th>0</th>\n",
       "    </tr>\n",
       "  </thead>\n",
       "  <tbody>\n",
       "    <tr>\n",
       "      <td>0</td>\n",
       "      <td>2020-02-24T00:00:00Z,AF,Afghanistan,EMRO,1,1,0,0</td>\n",
       "    </tr>\n",
       "    <tr>\n",
       "      <td>1</td>\n",
       "      <td>2020-02-25T00:00:00Z,AF,Afghanistan,EMRO,0,1,0,0</td>\n",
       "    </tr>\n",
       "    <tr>\n",
       "      <td>2</td>\n",
       "      <td>2020-02-26T00:00:00Z,AF,Afghanistan,EMRO,0,1,0,0</td>\n",
       "    </tr>\n",
       "    <tr>\n",
       "      <td>3</td>\n",
       "      <td>2020-02-27T00:00:00Z,AF,Afghanistan,EMRO,0,1,0,0</td>\n",
       "    </tr>\n",
       "    <tr>\n",
       "      <td>4</td>\n",
       "      <td>2020-02-28T00:00:00Z,AF,Afghanistan,EMRO,0,1,0,0</td>\n",
       "    </tr>\n",
       "    <tr>\n",
       "      <td>...</td>\n",
       "      <td>...</td>\n",
       "    </tr>\n",
       "    <tr>\n",
       "      <td>17700</td>\n",
       "      <td>2020-05-23T00:00:00Z,ZW,Zimbabwe,AFRO,0,51,0,4</td>\n",
       "    </tr>\n",
       "    <tr>\n",
       "      <td>17701</td>\n",
       "      <td>2020-05-24T00:00:00Z,ZW,Zimbabwe,AFRO,5,56,0,4</td>\n",
       "    </tr>\n",
       "    <tr>\n",
       "      <td>17702</td>\n",
       "      <td>2020-05-25T00:00:00Z,ZW,Zimbabwe,AFRO,0,56,0,4</td>\n",
       "    </tr>\n",
       "    <tr>\n",
       "      <td>17703</td>\n",
       "      <td>2020-05-26T00:00:00Z,ZW,Zimbabwe,AFRO,0,56,0,4</td>\n",
       "    </tr>\n",
       "    <tr>\n",
       "      <td>17704</td>\n",
       "      <td>2020-05-27T00:00:00Z,ZW,Zimbabwe,AFRO,0,56,0,4</td>\n",
       "    </tr>\n",
       "  </tbody>\n",
       "</table>\n",
       "<p>17705 rows × 1 columns</p>\n",
       "</div>"
      ],
      "text/plain": [
       "                                                      0\n",
       "0      2020-02-24T00:00:00Z,AF,Afghanistan,EMRO,1,1,0,0\n",
       "1      2020-02-25T00:00:00Z,AF,Afghanistan,EMRO,0,1,0,0\n",
       "2      2020-02-26T00:00:00Z,AF,Afghanistan,EMRO,0,1,0,0\n",
       "3      2020-02-27T00:00:00Z,AF,Afghanistan,EMRO,0,1,0,0\n",
       "4      2020-02-28T00:00:00Z,AF,Afghanistan,EMRO,0,1,0,0\n",
       "...                                                 ...\n",
       "17700    2020-05-23T00:00:00Z,ZW,Zimbabwe,AFRO,0,51,0,4\n",
       "17701    2020-05-24T00:00:00Z,ZW,Zimbabwe,AFRO,5,56,0,4\n",
       "17702    2020-05-25T00:00:00Z,ZW,Zimbabwe,AFRO,0,56,0,4\n",
       "17703    2020-05-26T00:00:00Z,ZW,Zimbabwe,AFRO,0,56,0,4\n",
       "17704    2020-05-27T00:00:00Z,ZW,Zimbabwe,AFRO,0,56,0,4\n",
       "\n",
       "[17705 rows x 1 columns]"
      ]
     },
     "execution_count": 18,
     "metadata": {},
     "output_type": "execute_result"
    }
   ],
   "source": [
    "df_covid"
   ]
  },
  {
   "cell_type": "code",
   "execution_count": null,
   "metadata": {},
   "outputs": [],
   "source": []
  }
 ],
 "metadata": {
  "kernelspec": {
   "display_name": "Python 3",
   "language": "python",
   "name": "python3"
  },
  "language_info": {
   "codemirror_mode": {
    "name": "ipython",
    "version": 3
   },
   "file_extension": ".py",
   "mimetype": "text/x-python",
   "name": "python",
   "nbconvert_exporter": "python",
   "pygments_lexer": "ipython3",
   "version": "3.7.4"
  }
 },
 "nbformat": 4,
 "nbformat_minor": 2
}
