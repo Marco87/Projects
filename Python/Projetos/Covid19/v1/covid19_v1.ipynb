{
 "cells": [
  {
   "cell_type": "markdown",
   "metadata": {},
   "source": [
    "### Apoio\n",
    "\n",
    "### https://towardsdatascience.com/creating-a-dataset-using-an-api-with-python-dcc1607616d\n",
    "### https://medium.com/machina-sapiens/google-colab-guia-do-iniciante-334d70aad531\n",
    "### https://www.youtube.com/watch?v=9uPTA9racZ0\n",
    "\n",
    "\n",
    "### Link do dataset\n",
    "\n",
    "### https://brasil.io/dataset/covid19/caso\n",
    "### https://brasil.io/api/dataset/covid19/caso/data"
   ]
  },
  {
   "cell_type": "markdown",
   "metadata": {},
   "source": [
    "### Importando as bibliotecas"
   ]
  },
  {
   "cell_type": "code",
   "execution_count": 2,
   "metadata": {},
   "outputs": [],
   "source": [
    "import numpy as np\n",
    "import pandas as pd\n",
    "import requests\n",
    "import json"
   ]
  },
  {
   "cell_type": "markdown",
   "metadata": {},
   "source": [
    "### Importando o JSON dos dados a serem tratados"
   ]
  },
  {
   "cell_type": "code",
   "execution_count": 48,
   "metadata": {},
   "outputs": [],
   "source": [
    "for i in range(1, 3):\n",
    "    url = \"https://brasil.io/api/dataset/covid19/caso/data?page=\" + str(i)\n",
    "    JSONContent = requests.get(url).json()\n",
    "    content += json.dumps(JSONContent, indent=4, sort_keys=True)"
   ]
  },
  {
   "cell_type": "code",
   "execution_count": 49,
   "metadata": {},
   "outputs": [
    {
     "name": "stderr",
     "output_type": "stream",
     "text": [
      "IOPub data rate exceeded.\n",
      "The notebook server will temporarily stop sending output\n",
      "to the client in order to avoid crashing it.\n",
      "To change this limit, set the config variable\n",
      "`--NotebookApp.iopub_data_rate_limit`.\n",
      "\n",
      "Current values:\n",
      "NotebookApp.iopub_data_rate_limit=1000000.0 (bytes/sec)\n",
      "NotebookApp.rate_limit_window=3.0 (secs)\n",
      "\n"
     ]
    }
   ],
   "source": [
    "print(content)"
   ]
  },
  {
   "cell_type": "markdown",
   "metadata": {},
   "source": [
    "### Convertendo o JSON gerado para DataFrame"
   ]
  },
  {
   "cell_type": "code",
   "execution_count": 7,
   "metadata": {},
   "outputs": [],
   "source": [
    "data = json.loads(content)"
   ]
  },
  {
   "cell_type": "code",
   "execution_count": 8,
   "metadata": {},
   "outputs": [],
   "source": [
    "df_covid = pd.DataFrame(data)"
   ]
  },
  {
   "cell_type": "code",
   "execution_count": 9,
   "metadata": {},
   "outputs": [
    {
     "data": {
      "text/html": [
       "<div>\n",
       "<style scoped>\n",
       "    .dataframe tbody tr th:only-of-type {\n",
       "        vertical-align: middle;\n",
       "    }\n",
       "\n",
       "    .dataframe tbody tr th {\n",
       "        vertical-align: top;\n",
       "    }\n",
       "\n",
       "    .dataframe thead th {\n",
       "        text-align: right;\n",
       "    }\n",
       "</style>\n",
       "<table border=\"1\" class=\"dataframe\">\n",
       "  <thead>\n",
       "    <tr style=\"text-align: right;\">\n",
       "      <th></th>\n",
       "      <th>count</th>\n",
       "      <th>next</th>\n",
       "      <th>previous</th>\n",
       "      <th>results</th>\n",
       "    </tr>\n",
       "  </thead>\n",
       "  <tbody>\n",
       "    <tr>\n",
       "      <td>0</td>\n",
       "      <td>10412</td>\n",
       "      <td>https://brasil.io/api/dataset/covid19/caso/dat...</td>\n",
       "      <td>None</td>\n",
       "      <td>{'city': 'Acrelândia', 'city_ibge_code': '1200...</td>\n",
       "    </tr>\n",
       "    <tr>\n",
       "      <td>1</td>\n",
       "      <td>10412</td>\n",
       "      <td>https://brasil.io/api/dataset/covid19/caso/dat...</td>\n",
       "      <td>None</td>\n",
       "      <td>{'city': 'Bujari', 'city_ibge_code': '1200138'...</td>\n",
       "    </tr>\n",
       "    <tr>\n",
       "      <td>2</td>\n",
       "      <td>10412</td>\n",
       "      <td>https://brasil.io/api/dataset/covid19/caso/dat...</td>\n",
       "      <td>None</td>\n",
       "      <td>{'city': 'Plácido de Castro', 'city_ibge_code'...</td>\n",
       "    </tr>\n",
       "    <tr>\n",
       "      <td>3</td>\n",
       "      <td>10412</td>\n",
       "      <td>https://brasil.io/api/dataset/covid19/caso/dat...</td>\n",
       "      <td>None</td>\n",
       "      <td>{'city': 'Porto Acre', 'city_ibge_code': '1200...</td>\n",
       "    </tr>\n",
       "    <tr>\n",
       "      <td>4</td>\n",
       "      <td>10412</td>\n",
       "      <td>https://brasil.io/api/dataset/covid19/caso/dat...</td>\n",
       "      <td>None</td>\n",
       "      <td>{'city': 'Rio Branco', 'city_ibge_code': '1200...</td>\n",
       "    </tr>\n",
       "    <tr>\n",
       "      <td>...</td>\n",
       "      <td>...</td>\n",
       "      <td>...</td>\n",
       "      <td>...</td>\n",
       "      <td>...</td>\n",
       "    </tr>\n",
       "    <tr>\n",
       "      <td>995</td>\n",
       "      <td>10412</td>\n",
       "      <td>https://brasil.io/api/dataset/covid19/caso/dat...</td>\n",
       "      <td>None</td>\n",
       "      <td>{'city': 'Bela Vista de Goiás', 'city_ibge_cod...</td>\n",
       "    </tr>\n",
       "    <tr>\n",
       "      <td>996</td>\n",
       "      <td>10412</td>\n",
       "      <td>https://brasil.io/api/dataset/covid19/caso/dat...</td>\n",
       "      <td>None</td>\n",
       "      <td>{'city': 'Bom Jesus de Goiás', 'city_ibge_code...</td>\n",
       "    </tr>\n",
       "    <tr>\n",
       "      <td>997</td>\n",
       "      <td>10412</td>\n",
       "      <td>https://brasil.io/api/dataset/covid19/caso/dat...</td>\n",
       "      <td>None</td>\n",
       "      <td>{'city': 'Caldas Novas', 'city_ibge_code': '52...</td>\n",
       "    </tr>\n",
       "    <tr>\n",
       "      <td>998</td>\n",
       "      <td>10412</td>\n",
       "      <td>https://brasil.io/api/dataset/covid19/caso/dat...</td>\n",
       "      <td>None</td>\n",
       "      <td>{'city': 'Campestre de Goiás', 'city_ibge_code...</td>\n",
       "    </tr>\n",
       "    <tr>\n",
       "      <td>999</td>\n",
       "      <td>10412</td>\n",
       "      <td>https://brasil.io/api/dataset/covid19/caso/dat...</td>\n",
       "      <td>None</td>\n",
       "      <td>{'city': 'Catalão', 'city_ibge_code': '5205109...</td>\n",
       "    </tr>\n",
       "  </tbody>\n",
       "</table>\n",
       "<p>1000 rows × 4 columns</p>\n",
       "</div>"
      ],
      "text/plain": [
       "     count                                               next previous  \\\n",
       "0    10412  https://brasil.io/api/dataset/covid19/caso/dat...     None   \n",
       "1    10412  https://brasil.io/api/dataset/covid19/caso/dat...     None   \n",
       "2    10412  https://brasil.io/api/dataset/covid19/caso/dat...     None   \n",
       "3    10412  https://brasil.io/api/dataset/covid19/caso/dat...     None   \n",
       "4    10412  https://brasil.io/api/dataset/covid19/caso/dat...     None   \n",
       "..     ...                                                ...      ...   \n",
       "995  10412  https://brasil.io/api/dataset/covid19/caso/dat...     None   \n",
       "996  10412  https://brasil.io/api/dataset/covid19/caso/dat...     None   \n",
       "997  10412  https://brasil.io/api/dataset/covid19/caso/dat...     None   \n",
       "998  10412  https://brasil.io/api/dataset/covid19/caso/dat...     None   \n",
       "999  10412  https://brasil.io/api/dataset/covid19/caso/dat...     None   \n",
       "\n",
       "                                               results  \n",
       "0    {'city': 'Acrelândia', 'city_ibge_code': '1200...  \n",
       "1    {'city': 'Bujari', 'city_ibge_code': '1200138'...  \n",
       "2    {'city': 'Plácido de Castro', 'city_ibge_code'...  \n",
       "3    {'city': 'Porto Acre', 'city_ibge_code': '1200...  \n",
       "4    {'city': 'Rio Branco', 'city_ibge_code': '1200...  \n",
       "..                                                 ...  \n",
       "995  {'city': 'Bela Vista de Goiás', 'city_ibge_cod...  \n",
       "996  {'city': 'Bom Jesus de Goiás', 'city_ibge_code...  \n",
       "997  {'city': 'Caldas Novas', 'city_ibge_code': '52...  \n",
       "998  {'city': 'Campestre de Goiás', 'city_ibge_code...  \n",
       "999  {'city': 'Catalão', 'city_ibge_code': '5205109...  \n",
       "\n",
       "[1000 rows x 4 columns]"
      ]
     },
     "execution_count": 9,
     "metadata": {},
     "output_type": "execute_result"
    }
   ],
   "source": [
    "df_covid"
   ]
  },
  {
   "cell_type": "markdown",
   "metadata": {},
   "source": [
    "### Organizando o dataset gerado"
   ]
  },
  {
   "cell_type": "code",
   "execution_count": null,
   "metadata": {},
   "outputs": [],
   "source": []
  }
 ],
 "metadata": {
  "kernelspec": {
   "display_name": "Python 3",
   "language": "python",
   "name": "python3"
  },
  "language_info": {
   "codemirror_mode": {
    "name": "ipython",
    "version": 3
   },
   "file_extension": ".py",
   "mimetype": "text/x-python",
   "name": "python",
   "nbconvert_exporter": "python",
   "pygments_lexer": "ipython3",
   "version": "3.7.4"
  }
 },
 "nbformat": 4,
 "nbformat_minor": 2
}
