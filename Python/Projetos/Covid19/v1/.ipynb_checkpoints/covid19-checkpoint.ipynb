{
 "cells": [
  {
   "cell_type": "markdown",
   "metadata": {},
   "source": [
    "![](https://www.i9treinamentos.com/wp-content/uploads/elementor/thumbs/A-pandemia-de-Coronav%C3%ADrus-e-o-pandem%C3%B4nio-na-economia-omnnp6emx1qczr92vjwhtnoa1impqfrsl3zkw6c5g4.gif)"
   ]
  },
  {
   "cell_type": "markdown",
   "metadata": {},
   "source": [
    "### Fonte dos dados: https://covid.saude.gov.br/\n",
    "### Secretarias Estaduais de Saúde. Brasil, 2020"
   ]
  },
  {
   "cell_type": "markdown",
   "metadata": {},
   "source": [
    "![](https://covid.saude.gov.br/assets/imgs/logo-app.png)"
   ]
  },
  {
   "cell_type": "markdown",
   "metadata": {},
   "source": [
    "### Importando as bibliotecas necessárias"
   ]
  },
  {
   "cell_type": "code",
   "execution_count": 1,
   "metadata": {},
   "outputs": [],
   "source": [
    "import pandas as pd\n",
    "import matplotlib.pyplot as plt\n",
    "import numpy as np"
   ]
  },
  {
   "cell_type": "markdown",
   "metadata": {},
   "source": [
    "### Base COVID"
   ]
  },
  {
   "cell_type": "code",
   "execution_count": 3,
   "metadata": {},
   "outputs": [],
   "source": [
    "#Carregando os dados\n",
    "\n",
    "df_covid = pd.read_excel(\"data/arquivo_geral.xlsx\", sep=\";\")"
   ]
  },
  {
   "cell_type": "code",
   "execution_count": 4,
   "metadata": {},
   "outputs": [],
   "source": [
    "#Removendo as features desnecessárias\n",
    "\n",
    "df_covid = df_covid.drop(columns=['codRegiaoSaude', 'nomeRegiaoSaude', 'populacaoTCU2019'])"
   ]
  },
  {
   "cell_type": "code",
   "execution_count": 5,
   "metadata": {},
   "outputs": [],
   "source": [
    "#Renomeando as features\n",
    "\n",
    "df_covid = df_covid.rename(columns={'estado':'siglaEstado', 'coduf':'codUf', 'codmun':'codMun', 'Recuperadosnovos':'recuperadosNovos'})"
   ]
  },
  {
   "cell_type": "code",
   "execution_count": 6,
   "metadata": {},
   "outputs": [],
   "source": [
    "#Trocando os valores nulos por zero\n",
    "\n",
    "df_covid = df_covid.fillna(0)"
   ]
  },
  {
   "cell_type": "code",
   "execution_count": 7,
   "metadata": {},
   "outputs": [],
   "source": [
    "#Convertendo as colunas 'recuperarNovos' e 'codMun' de float para int\n",
    "\n",
    "df_covid['recuperadosNovos'] = df_covid['recuperadosNovos'].values.astype(np.int64)\n",
    "df_covid['codMun'] = df_covid['codMun'].values.astype(np.int64)"
   ]
  },
  {
   "cell_type": "code",
   "execution_count": 8,
   "metadata": {},
   "outputs": [],
   "source": [
    "#Convertendo a coluna 'municipio' para string\n",
    "\n",
    "df_covid['municipio'] = df_covid['municipio'].values.astype(str)"
   ]
  },
  {
   "cell_type": "code",
   "execution_count": 9,
   "metadata": {},
   "outputs": [],
   "source": [
    "#Filtrando os dados e retirando as linhas com municípios\n",
    "\n",
    "df_covid_estados = df_covid[df_covid['codMun'] == 0]"
   ]
  },
  {
   "cell_type": "code",
   "execution_count": 10,
   "metadata": {},
   "outputs": [],
   "source": [
    "#Filtrando os dados e retirando as linhas com os estados (sem municípios)\n",
    "\n",
    "df_covid_municipios = df_covid[df_covid['codMun'] != 0]"
   ]
  },
  {
   "cell_type": "code",
   "execution_count": 22,
   "metadata": {},
   "outputs": [
    {
     "data": {
      "text/html": [
       "<div>\n",
       "<style scoped>\n",
       "    .dataframe tbody tr th:only-of-type {\n",
       "        vertical-align: middle;\n",
       "    }\n",
       "\n",
       "    .dataframe tbody tr th {\n",
       "        vertical-align: top;\n",
       "    }\n",
       "\n",
       "    .dataframe thead th {\n",
       "        text-align: right;\n",
       "    }\n",
       "</style>\n",
       "<table border=\"1\" class=\"dataframe\">\n",
       "  <thead>\n",
       "    <tr style=\"text-align: right;\">\n",
       "      <th></th>\n",
       "      <th>regiao</th>\n",
       "      <th>siglaEstado</th>\n",
       "      <th>municipio</th>\n",
       "      <th>codUf</th>\n",
       "      <th>codMun</th>\n",
       "      <th>data</th>\n",
       "      <th>semanaEpi</th>\n",
       "      <th>casosAcumulado</th>\n",
       "      <th>casosNovos</th>\n",
       "      <th>obitosAcumulado</th>\n",
       "      <th>obitosNovos</th>\n",
       "      <th>recuperadosNovos</th>\n",
       "      <th>emAcompanhamentoNovos</th>\n",
       "      <th>FgMetro</th>\n",
       "    </tr>\n",
       "  </thead>\n",
       "  <tbody>\n",
       "    <tr>\n",
       "      <th>2624</th>\n",
       "      <td>Sudeste</td>\n",
       "      <td>SP</td>\n",
       "      <td>0</td>\n",
       "      <td>35</td>\n",
       "      <td>0</td>\n",
       "      <td>2020-06-28</td>\n",
       "      <td>27</td>\n",
       "      <td>271737</td>\n",
       "      <td>6156</td>\n",
       "      <td>14338</td>\n",
       "      <td>75</td>\n",
       "      <td>0</td>\n",
       "      <td>0.0</td>\n",
       "      <td>0.0</td>\n",
       "    </tr>\n",
       "    <tr>\n",
       "      <th>305521</th>\n",
       "      <td>Sudeste</td>\n",
       "      <td>SP</td>\n",
       "      <td>0</td>\n",
       "      <td>35</td>\n",
       "      <td>350000</td>\n",
       "      <td>2020-06-28</td>\n",
       "      <td>27</td>\n",
       "      <td>49</td>\n",
       "      <td>0</td>\n",
       "      <td>0</td>\n",
       "      <td>0</td>\n",
       "      <td>0</td>\n",
       "      <td>0.0</td>\n",
       "      <td>0.0</td>\n",
       "    </tr>\n",
       "  </tbody>\n",
       "</table>\n",
       "</div>"
      ],
      "text/plain": [
       "         regiao siglaEstado municipio  codUf  codMun       data  semanaEpi  \\\n",
       "2624    Sudeste          SP         0     35       0 2020-06-28         27   \n",
       "305521  Sudeste          SP         0     35  350000 2020-06-28         27   \n",
       "\n",
       "        casosAcumulado  casosNovos  obitosAcumulado  obitosNovos  \\\n",
       "2624            271737        6156            14338           75   \n",
       "305521              49           0                0            0   \n",
       "\n",
       "        recuperadosNovos  emAcompanhamentoNovos  FgMetro  \n",
       "2624                   0                    0.0      0.0  \n",
       "305521                 0                    0.0      0.0  "
      ]
     },
     "execution_count": 22,
     "metadata": {},
     "output_type": "execute_result"
    }
   ],
   "source": [
    "#Exibindo o estado de SP com a linha 'municipio' = 0\n",
    "\n",
    "df_covid[(df_covid['municipio'] == '0') & (df_covid['siglaEstado'] == 'SP') & (df_covid['data'] == '2020-06-28')]"
   ]
  },
  {
   "cell_type": "code",
   "execution_count": 26,
   "metadata": {},
   "outputs": [],
   "source": [
    "#Agrupar dados por 'data' e 'regiao', somando os valores da coluna 'casosAcumulado'\n",
    "\n",
    "df_covid_regioes_casos = pd.DataFrame(df_covid_estados.groupby(['data', 'regiao']).casosNovos.sum())"
   ]
  },
  {
   "cell_type": "code",
   "execution_count": 27,
   "metadata": {},
   "outputs": [
    {
     "data": {
      "text/html": [
       "<div>\n",
       "<style scoped>\n",
       "    .dataframe tbody tr th:only-of-type {\n",
       "        vertical-align: middle;\n",
       "    }\n",
       "\n",
       "    .dataframe tbody tr th {\n",
       "        vertical-align: top;\n",
       "    }\n",
       "\n",
       "    .dataframe thead th {\n",
       "        text-align: right;\n",
       "    }\n",
       "</style>\n",
       "<table border=\"1\" class=\"dataframe\">\n",
       "  <thead>\n",
       "    <tr style=\"text-align: right;\">\n",
       "      <th></th>\n",
       "      <th></th>\n",
       "      <th>casosNovos</th>\n",
       "    </tr>\n",
       "    <tr>\n",
       "      <th>data</th>\n",
       "      <th>regiao</th>\n",
       "      <th></th>\n",
       "    </tr>\n",
       "  </thead>\n",
       "  <tbody>\n",
       "    <tr>\n",
       "      <th rowspan=\"5\" valign=\"top\">2020-02-25</th>\n",
       "      <th>Brasil</th>\n",
       "      <td>0</td>\n",
       "    </tr>\n",
       "    <tr>\n",
       "      <th>Centro-Oeste</th>\n",
       "      <td>0</td>\n",
       "    </tr>\n",
       "    <tr>\n",
       "      <th>Nordeste</th>\n",
       "      <td>0</td>\n",
       "    </tr>\n",
       "    <tr>\n",
       "      <th>Norte</th>\n",
       "      <td>0</td>\n",
       "    </tr>\n",
       "    <tr>\n",
       "      <th>Sudeste</th>\n",
       "      <td>0</td>\n",
       "    </tr>\n",
       "    <tr>\n",
       "      <th>...</th>\n",
       "      <th>...</th>\n",
       "      <td>...</td>\n",
       "    </tr>\n",
       "    <tr>\n",
       "      <th rowspan=\"5\" valign=\"top\">2020-06-28</th>\n",
       "      <th>Centro-Oeste</th>\n",
       "      <td>3605</td>\n",
       "    </tr>\n",
       "    <tr>\n",
       "      <th>Nordeste</th>\n",
       "      <td>8632</td>\n",
       "    </tr>\n",
       "    <tr>\n",
       "      <th>Norte</th>\n",
       "      <td>4060</td>\n",
       "    </tr>\n",
       "    <tr>\n",
       "      <th>Sudeste</th>\n",
       "      <td>12457</td>\n",
       "    </tr>\n",
       "    <tr>\n",
       "      <th>Sul</th>\n",
       "      <td>1722</td>\n",
       "    </tr>\n",
       "  </tbody>\n",
       "</table>\n",
       "<p>750 rows × 1 columns</p>\n",
       "</div>"
      ],
      "text/plain": [
       "                         casosNovos\n",
       "data       regiao                  \n",
       "2020-02-25 Brasil                 0\n",
       "           Centro-Oeste           0\n",
       "           Nordeste               0\n",
       "           Norte                  0\n",
       "           Sudeste                0\n",
       "...                             ...\n",
       "2020-06-28 Centro-Oeste        3605\n",
       "           Nordeste            8632\n",
       "           Norte               4060\n",
       "           Sudeste            12457\n",
       "           Sul                 1722\n",
       "\n",
       "[750 rows x 1 columns]"
      ]
     },
     "execution_count": 27,
     "metadata": {},
     "output_type": "execute_result"
    }
   ],
   "source": [
    "df_covid_regioes_casos"
   ]
  },
  {
   "cell_type": "code",
   "execution_count": 30,
   "metadata": {},
   "outputs": [],
   "source": [
    "#Agrupar dados por 'data' e 'regiao', somando os valores da coluna 'casosAcumulado'\n",
    "\n",
    "df_covid_estados_casos = pd.DataFrame(df_covid_municipios.groupby(['data', 'siglaEstado']).casosNovos.sum())"
   ]
  },
  {
   "cell_type": "code",
   "execution_count": 25,
   "metadata": {},
   "outputs": [],
   "source": [
    "df_covid_regioes_casos.to_csv(\"dados_regioes.csv\")"
   ]
  },
  {
   "cell_type": "code",
   "execution_count": 157,
   "metadata": {},
   "outputs": [],
   "source": [
    "#Retornando apenas as linhas que contem a 'regiao' = 'Brasil'\n",
    "\n",
    "df_covid_brasil = df_covid[df_covid['regiao'].str.contains(\"Brasil\")]"
   ]
  },
  {
   "cell_type": "code",
   "execution_count": 154,
   "metadata": {},
   "outputs": [
    {
     "data": {
      "text/html": [
       "<div>\n",
       "<style scoped>\n",
       "    .dataframe tbody tr th:only-of-type {\n",
       "        vertical-align: middle;\n",
       "    }\n",
       "\n",
       "    .dataframe tbody tr th {\n",
       "        vertical-align: top;\n",
       "    }\n",
       "\n",
       "    .dataframe thead th {\n",
       "        text-align: right;\n",
       "    }\n",
       "</style>\n",
       "<table border=\"1\" class=\"dataframe\">\n",
       "  <thead>\n",
       "    <tr style=\"text-align: right;\">\n",
       "      <th></th>\n",
       "      <th></th>\n",
       "      <th>casosAcumulado</th>\n",
       "    </tr>\n",
       "    <tr>\n",
       "      <th>data</th>\n",
       "      <th>regiao</th>\n",
       "      <th></th>\n",
       "    </tr>\n",
       "  </thead>\n",
       "  <tbody>\n",
       "    <tr>\n",
       "      <td rowspan=\"5\" valign=\"top\">2020-02-25</td>\n",
       "      <td>Brasil</td>\n",
       "      <td>0</td>\n",
       "    </tr>\n",
       "    <tr>\n",
       "      <td>Centro-Oeste</td>\n",
       "      <td>0</td>\n",
       "    </tr>\n",
       "    <tr>\n",
       "      <td>Nordeste</td>\n",
       "      <td>0</td>\n",
       "    </tr>\n",
       "    <tr>\n",
       "      <td>Norte</td>\n",
       "      <td>0</td>\n",
       "    </tr>\n",
       "    <tr>\n",
       "      <td>Sudeste</td>\n",
       "      <td>0</td>\n",
       "    </tr>\n",
       "    <tr>\n",
       "      <td>...</td>\n",
       "      <td>...</td>\n",
       "      <td>...</td>\n",
       "    </tr>\n",
       "    <tr>\n",
       "      <td rowspan=\"5\" valign=\"top\">2020-06-04</td>\n",
       "      <td>Centro-Oeste</td>\n",
       "      <td>22986</td>\n",
       "    </tr>\n",
       "    <tr>\n",
       "      <td>Nordeste</td>\n",
       "      <td>215616</td>\n",
       "    </tr>\n",
       "    <tr>\n",
       "      <td>Norte</td>\n",
       "      <td>128917</td>\n",
       "    </tr>\n",
       "    <tr>\n",
       "      <td>Sudeste</td>\n",
       "      <td>220060</td>\n",
       "    </tr>\n",
       "    <tr>\n",
       "      <td>Sul</td>\n",
       "      <td>27362</td>\n",
       "    </tr>\n",
       "  </tbody>\n",
       "</table>\n",
       "<p>606 rows × 1 columns</p>\n",
       "</div>"
      ],
      "text/plain": [
       "                         casosAcumulado\n",
       "data       regiao                      \n",
       "2020-02-25 Brasil                     0\n",
       "           Centro-Oeste               0\n",
       "           Nordeste                   0\n",
       "           Norte                      0\n",
       "           Sudeste                    0\n",
       "...                                 ...\n",
       "2020-06-04 Centro-Oeste           22986\n",
       "           Nordeste              215616\n",
       "           Norte                 128917\n",
       "           Sudeste               220060\n",
       "           Sul                    27362\n",
       "\n",
       "[606 rows x 1 columns]"
      ]
     },
     "execution_count": 154,
     "metadata": {},
     "output_type": "execute_result"
    }
   ],
   "source": [
    "df_covid_estados_casos"
   ]
  },
  {
   "cell_type": "code",
   "execution_count": 155,
   "metadata": {},
   "outputs": [
    {
     "data": {
      "text/html": [
       "<div>\n",
       "<style scoped>\n",
       "    .dataframe tbody tr th:only-of-type {\n",
       "        vertical-align: middle;\n",
       "    }\n",
       "\n",
       "    .dataframe tbody tr th {\n",
       "        vertical-align: top;\n",
       "    }\n",
       "\n",
       "    .dataframe thead th {\n",
       "        text-align: right;\n",
       "    }\n",
       "</style>\n",
       "<table border=\"1\" class=\"dataframe\">\n",
       "  <thead>\n",
       "    <tr style=\"text-align: right;\">\n",
       "      <th></th>\n",
       "      <th></th>\n",
       "      <th>casosAcumulado</th>\n",
       "    </tr>\n",
       "    <tr>\n",
       "      <th>data</th>\n",
       "      <th>regiao</th>\n",
       "      <th></th>\n",
       "    </tr>\n",
       "  </thead>\n",
       "  <tbody>\n",
       "    <tr>\n",
       "      <td rowspan=\"5\" valign=\"top\">2020-03-28</td>\n",
       "      <td>Centro-Oeste</td>\n",
       "      <td>360</td>\n",
       "    </tr>\n",
       "    <tr>\n",
       "      <td>Nordeste</td>\n",
       "      <td>632</td>\n",
       "    </tr>\n",
       "    <tr>\n",
       "      <td>Norte</td>\n",
       "      <td>184</td>\n",
       "    </tr>\n",
       "    <tr>\n",
       "      <td>Sudeste</td>\n",
       "      <td>2222</td>\n",
       "    </tr>\n",
       "    <tr>\n",
       "      <td>Sul</td>\n",
       "      <td>514</td>\n",
       "    </tr>\n",
       "    <tr>\n",
       "      <td>...</td>\n",
       "      <td>...</td>\n",
       "      <td>...</td>\n",
       "    </tr>\n",
       "    <tr>\n",
       "      <td rowspan=\"5\" valign=\"top\">2020-06-04</td>\n",
       "      <td>Centro-Oeste</td>\n",
       "      <td>22986</td>\n",
       "    </tr>\n",
       "    <tr>\n",
       "      <td>Nordeste</td>\n",
       "      <td>215616</td>\n",
       "    </tr>\n",
       "    <tr>\n",
       "      <td>Norte</td>\n",
       "      <td>128917</td>\n",
       "    </tr>\n",
       "    <tr>\n",
       "      <td>Sudeste</td>\n",
       "      <td>220060</td>\n",
       "    </tr>\n",
       "    <tr>\n",
       "      <td>Sul</td>\n",
       "      <td>27362</td>\n",
       "    </tr>\n",
       "  </tbody>\n",
       "</table>\n",
       "<p>345 rows × 1 columns</p>\n",
       "</div>"
      ],
      "text/plain": [
       "                         casosAcumulado\n",
       "data       regiao                      \n",
       "2020-03-28 Centro-Oeste             360\n",
       "           Nordeste                 632\n",
       "           Norte                    184\n",
       "           Sudeste                 2222\n",
       "           Sul                      514\n",
       "...                                 ...\n",
       "2020-06-04 Centro-Oeste           22986\n",
       "           Nordeste              215616\n",
       "           Norte                 128917\n",
       "           Sudeste               220060\n",
       "           Sul                    27362\n",
       "\n",
       "[345 rows x 1 columns]"
      ]
     },
     "execution_count": 155,
     "metadata": {},
     "output_type": "execute_result"
    }
   ],
   "source": [
    "df_covid_municipios_casos"
   ]
  },
  {
   "cell_type": "code",
   "execution_count": 158,
   "metadata": {},
   "outputs": [
    {
     "data": {
      "image/png": "[encoded data removed]",
      "text/plain": [
       "<Figure size 432x288 with 1 Axes>"
      ]
     },
     "metadata": {
      "needs_background": "light"
     },
     "output_type": "display_data"
    }
   ],
   "source": [
    "#Criação do gráfico de barras\n",
    "\n",
    "plt.bar(df_covid_brasil['data'], df_covid_brasil['casosAcumulado'])\n",
    "\n",
    "plt.xticks(df_covid_brasil['data'][::10], rotation=45, ha='right', size='small')\n",
    "plt.ylabel('Brasil')\n",
    "plt.title('Casos de COVID19 no Brasil')\n",
    "plt.show()"
   ]
  },
  {
   "cell_type": "code",
   "execution_count": null,
   "metadata": {},
   "outputs": [],
   "source": []
  }
 ],
 "metadata": {
  "kernelspec": {
   "display_name": "Python 3",
   "language": "python",
   "name": "python3"
  },
  "language_info": {
   "codemirror_mode": {
    "name": "ipython",
    "version": 3
   },
   "file_extension": ".py",
   "mimetype": "text/x-python",
   "name": "python",
   "nbconvert_exporter": "python",
   "pygments_lexer": "ipython3",
   "version": "3.7.7"
  }
 },
 "nbformat": 4,
 "nbformat_minor": 2
}
