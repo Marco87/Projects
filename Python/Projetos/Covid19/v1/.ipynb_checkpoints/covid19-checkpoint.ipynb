{
 "cells": [
  {
   "cell_type": "markdown",
   "metadata": {},
   "source": [
    "![](https://www.i9treinamentos.com/wp-content/uploads/elementor/thumbs/A-pandemia-de-Coronav%C3%ADrus-e-o-pandem%C3%B4nio-na-economia-omnnp6emx1qczr92vjwhtnoa1impqfrsl3zkw6c5g4.gif)"
   ]
  },
  {
   "cell_type": "markdown",
   "metadata": {},
   "source": [
    "### Fonte dos dados: https://covid.saude.gov.br/\n",
    "### Secretarias Estaduais de Saúde. Brasil, 2020"
   ]
  },
  {
   "cell_type": "markdown",
   "metadata": {},
   "source": [
    "![](https://covid.saude.gov.br/assets/imgs/logo-app.png)"
   ]
  },
  {
   "cell_type": "markdown",
   "metadata": {},
   "source": [
    "### Importando as bibliotecas necessárias"
   ]
  },
  {
   "cell_type": "code",
   "execution_count": 1,
   "metadata": {},
   "outputs": [],
   "source": [
    "import pandas as pd\n",
    "import matplotlib.pyplot as plt\n",
    "import numpy as np"
   ]
  },
  {
   "cell_type": "markdown",
   "metadata": {},
   "source": [
    "### Base COVID"
   ]
  },
  {
   "cell_type": "code",
   "execution_count": 28,
   "metadata": {},
   "outputs": [],
   "source": [
    "#Carregando os dados\n",
    "\n",
    "df_covid = pd.read_excel(\"data/arquivo_geral.xlsx\", sep=\";\")"
   ]
  },
  {
   "cell_type": "code",
   "execution_count": 29,
   "metadata": {},
   "outputs": [],
   "source": [
    "#Removendo as features desnecessárias\n",
    "\n",
    "df_covid = df_covid.drop(columns=['coduf', 'codmun', 'codRegiaoSaude', 'nomeRegiaoSaude', 'populacaoTCU2019'])"
   ]
  },
  {
   "cell_type": "code",
   "execution_count": 30,
   "metadata": {},
   "outputs": [],
   "source": [
    "#Renomeando as colunas\n",
    "\n",
    "df_covid = df_covid.rename(columns={'estado':'siglaEstado', 'Recuperadosnovos':'recuperadosNovos'})"
   ]
  },
  {
   "cell_type": "code",
   "execution_count": 31,
   "metadata": {},
   "outputs": [],
   "source": [
    "#Trocando os valores nulos por zero\n",
    "\n",
    "df_covid = df_covid.fillna(0)"
   ]
  },
  {
   "cell_type": "code",
   "execution_count": 32,
   "metadata": {},
   "outputs": [],
   "source": [
    "#Convertendo a coluna 'recuperarNovos' de float para int\n",
    "\n",
    "df_covid['recuperadosNovos'] = df_covid['recuperadosNovos'].values.astype(np.int64)"
   ]
  },
  {
   "cell_type": "code",
   "execution_count": 65,
   "metadata": {},
   "outputs": [],
   "source": [
    "#Agrupar dados por 'data' e 'regiao', somando os valores da coluna 'casosAcumulado'\n",
    "\n",
    "df_covid_data_regiao_casos = pd.DataFrame(df_covid.groupby(['data', 'regiao']).casosNovos.sum())"
   ]
  },
  {
   "cell_type": "code",
   "execution_count": 59,
   "metadata": {},
   "outputs": [],
   "source": [
    "#Retornando apenas as linhas que contem a 'regiao' = 'Brasil'\n",
    "\n",
    "df_covid_brasil = df_covid[df_covid['regiao'].str.contains(\"Brasil\")]"
   ]
  },
  {
   "cell_type": "code",
   "execution_count": 70,
   "metadata": {},
   "outputs": [
    {
     "data": {
      "image/png": "[encoded data removed]",
      "text/plain": [
       "<Figure size 432x288 with 1 Axes>"
      ]
     },
     "metadata": {
      "needs_background": "light"
     },
     "output_type": "display_data"
    }
   ],
   "source": [
    "#Criação do gráfico de barras\n",
    "\n",
    "plt.bar(df_covid_brasil['data'], df_covid_brasil['casosAcumulado'])"
   ]
  },
  {
   "cell_type": "markdown",
   "metadata": {},
   "source": [
    "### Base Estados"
   ]
  },
  {
   "cell_type": "code",
   "execution_count": 6,
   "metadata": {},
   "outputs": [],
   "source": [
    "#Carregando os dados\n",
    "\n",
    "df_estados = pd.read_excel(\"data/estados_brasil.xlsx\")"
   ]
  },
  {
   "cell_type": "code",
   "execution_count": 7,
   "metadata": {},
   "outputs": [],
   "source": [
    "#Removendo as features desnecessárias\n",
    "\n",
    "df_estados = df_estados.drop(columns=['IBGE', 'Qtd Mun', 'Sintaxe'])"
   ]
  },
  {
   "cell_type": "code",
   "execution_count": 8,
   "metadata": {},
   "outputs": [],
   "source": [
    "#Renomeando as colunas\n",
    "\n",
    "df_estados = df_estados.rename(columns={'Estado':'estado', 'UF':'siglaEstado', 'Região':'regiao'})"
   ]
  },
  {
   "cell_type": "code",
   "execution_count": 9,
   "metadata": {},
   "outputs": [],
   "source": [
    "#Retirando a palavra 'Região' da coluna 'regiao'\n",
    "\n",
    "df_estados['regiao'] = df_estados['regiao'].str.replace(\"Região \", \"\")"
   ]
  },
  {
   "cell_type": "code",
   "execution_count": null,
   "metadata": {},
   "outputs": [],
   "source": []
  }
 ],
 "metadata": {
  "kernelspec": {
   "display_name": "Python 3",
   "language": "python",
   "name": "python3"
  },
  "language_info": {
   "codemirror_mode": {
    "name": "ipython",
    "version": 3
   },
   "file_extension": ".py",
   "mimetype": "text/x-python",
   "name": "python",
   "nbconvert_exporter": "python",
   "pygments_lexer": "ipython3",
   "version": "3.7.4"
  }
 },
 "nbformat": 4,
 "nbformat_minor": 2
}
