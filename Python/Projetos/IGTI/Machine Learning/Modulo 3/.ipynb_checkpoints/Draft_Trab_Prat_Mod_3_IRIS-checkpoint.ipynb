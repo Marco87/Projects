{
 "cells": [
  {
   "cell_type": "code",
   "execution_count": null,
   "metadata": {
    "colab": {},
    "colab_type": "code",
    "id": "6r9HsFKnLD-U"
   },
   "outputs": [],
   "source": []
  },
  {
   "cell_type": "code",
   "execution_count": 40,
   "metadata": {
    "colab": {
     "base_uri": "https://localhost:8080/",
     "height": 170
    },
    "colab_type": "code",
    "id": "JabtEKiZswaz",
    "outputId": "083a7b0f-1250-45d0-b8d2-a08253b50f3d"
   },
   "outputs": [
    {
     "name": "stdout",
     "output_type": "stream",
     "text": [
      "KNN vs Random Forest\n",
      "\n",
      "Classes: ['setosa' 'versicolor' 'virginica']\n",
      "\n",
      "Acuracia: 0.76 vs 0.78\n",
      "Recall: 0.76 vs 0.78\n",
      "Precision: 1.0 vs 1.0\n",
      "\n",
      "Validação Cruzada: [0.66666667 0.8        0.63333333 0.86666667 0.66666667] vs [0.66666667 0.73333333 0.7        0.8        0.76666667]\n"
     ]
    }
   ],
   "source": [
    "# Carregando o dataset\n",
    "from sklearn import datasets\n",
    "from sklearn.decomposition import PCA\n",
    "\n",
    "iris = datasets.load_iris()\n",
    "x = iris.data[:, :2]  # pegamos as primeiras duas features aqui. Pegue as outras se quiser\n",
    "y = iris.target\n",
    "\n",
    "y[0]  # classe do primeiro elemento\n",
    "x[:1, :]  # primeiro elemento a classificar\n",
    "\n",
    "# ---------------------------\n",
    "\n",
    "# É preciso treinar o classificador, e testar o seu desempenho com dados \"novos\"\n",
    "# Aqui, dividimos os dados em treino e teste, para podermos testar nosso desempenho depois\n",
    "\n",
    "from sklearn.model_selection import train_test_split\n",
    "\n",
    "x_train, x_test, y_train, y_test = train_test_split(x, y, test_size=0.33, random_state=42)\n",
    "\n",
    "\n",
    "# Carregando e treinando os classficadores\n",
    "# Random Forest\n",
    "from sklearn.ensemble import RandomForestClassifier\n",
    "rfc = RandomForestClassifier()\n",
    "rfc.fit(x_train,y_train)\n",
    "y_pred = rfc.predict(x_test)\n",
    "\n",
    "# Métricas do Random Forest\n",
    "\n",
    "from sklearn.metrics import accuracy_score, recall_score, precision_score\n",
    "\n",
    "rfc_acc = round(accuracy_score(y_test, y_pred), 4) # round é para arredondar\n",
    "rfc_recall = round(recall_score(y_test, y_pred, average='weighted'), 4)\n",
    "rfc_precision = round(precision_score(y_test, y_test, y_pred, average='weighted'), 4)\n",
    "\n",
    "# ------------------------\n",
    "\n",
    "# KNN\n",
    "from sklearn.neighbors import KNeighborsClassifier\n",
    "knn = KNeighborsClassifier(n_neighbors=3)\n",
    "knn.fit(x_train, y_train)\n",
    "y_pred = knn.predict(x_test)\n",
    "\n",
    "# Métricas do KNN\n",
    "knn_acc = round(accuracy_score(y_test, y_pred), 4) # round é para arredondar\n",
    "knn_recall = round(recall_score(y_test, y_pred, average='weighted'), 4)\n",
    "knn_precision = round(precision_score(y_test, y_test, y_pred, average='weighted'), 4)\n",
    "\n",
    "#-----------------------\n",
    "\n",
    "# Comparação\n",
    "print(\"KNN vs Random Forest\\n\")\n",
    "print(\"Classes: {0}\\n\".format(iris.target_names))\n",
    "print(\"Acuracia: {0} vs {1}\".format(knn_acc, rfc_acc))\n",
    "print(\"Recall: {0} vs {1}\".format(knn_recall, rfc_recall))\n",
    "print(\"Precision: {0} vs {1}\".format(knn_precision, rfc_precision))\n",
    "\n",
    "# ---------------------\n",
    "\n",
    "# Na Validação Cruzada\n",
    "from sklearn.model_selection import cross_val_score\n",
    "cv_rfc = cross_val_score(rfc, x, y)\n",
    "cv_knn = cross_val_score(knn, x, y)\n",
    "print(\"\\nValidação Cruzada: {0} vs {1}\".format(cv_knn, cv_rfc))\n"
   ]
  },
  {
   "cell_type": "code",
   "execution_count": 41,
   "metadata": {
    "colab": {
     "base_uri": "https://localhost:8080/",
     "height": 34
    },
    "colab_type": "code",
    "id": "a5OZmbAM4I22",
    "outputId": "5b26faae-3371-4a74-b737-dcc2e04e0a45"
   },
   "outputs": [
    {
     "name": "stdout",
     "output_type": "stream",
     "text": [
      "\\Resultado Random Forest: 0.7333333333333332\n"
     ]
    }
   ],
   "source": [
    "sum_cv_rfc = 0\n",
    "for cv_score in cv_rfc:\n",
    "  sum_cv_rfc += cv_score\n",
    "\n",
    "print(\"\\Resultado Random Forest: {0}\".format(sum_cv_rfc/5))\n"
   ]
  },
  {
   "cell_type": "code",
   "execution_count": 43,
   "metadata": {
    "colab": {
     "base_uri": "https://localhost:8080/",
     "height": 51
    },
    "colab_type": "code",
    "id": "ws2caOrq5Q0G",
    "outputId": "64b85a09-730e-450a-929c-2ce73ad4b2c3"
   },
   "outputs": [
    {
     "name": "stdout",
     "output_type": "stream",
     "text": [
      "\n",
      "Resultado KNN: 0.7266666666666667\n"
     ]
    }
   ],
   "source": [
    "sum_cv_knn = 0\n",
    "for cv_score in cv_knn:\n",
    "  sum_cv_knn += cv_score\n",
    "\n",
    "print(\"\\nResultado KNN: {0}\".format(sum_cv_knn/5))\n",
    "\n"
   ]
  },
  {
   "cell_type": "code",
   "execution_count": 44,
   "metadata": {
    "colab": {
     "base_uri": "https://localhost:8080/",
     "height": 34
    },
    "colab_type": "code",
    "id": "GFlQ36NnEL9z",
    "outputId": "268102aa-079f-4213-8a0f-27d2cdc7c1cc"
   },
   "outputs": [
    {
     "name": "stdout",
     "output_type": "stream",
     "text": [
      "Melhor valor para min_samples_split: 6\n"
     ]
    }
   ],
   "source": [
    "#Buscando Hiperparâmetros\n",
    "from sklearn.model_selection import GridSearchCV\n",
    "\n",
    "#RFC\n",
    "parameters = {'min_samples_split':(2,6)}\n",
    "rfc_hps = GridSearchCV(rfc, parameters)\n",
    "rfc_hps.fit(x, y)\n",
    "print(\"Melhor valor para min_samples_split: {0}\".format(rfc_hps.best_params_['min_samples_split']))\n",
    "\n"
   ]
  },
  {
   "cell_type": "code",
   "execution_count": 45,
   "metadata": {
    "colab": {
     "base_uri": "https://localhost:8080/",
     "height": 34
    },
    "colab_type": "code",
    "id": "mDuFUmsjIP_w",
    "outputId": "6dd0b609-f196-4dfa-93a3-419730aac870"
   },
   "outputs": [
    {
     "name": "stdout",
     "output_type": "stream",
     "text": [
      "Melhor valor para n_neighbors: 20\n"
     ]
    }
   ],
   "source": [
    "#KNN\n",
    "parameters = {'n_neighbors':(1,20)}\n",
    "knn_hps = GridSearchCV(knn, parameters)\n",
    "knn_hps.fit(x , y)\n",
    "knn_hps.best_params_['n_neighbors']\n",
    "print(\"Melhor valor para n_neighbors: {0}\".format(knn_hps.best_params_['n_neighbors']))"
   ]
  }
 ],
 "metadata": {
  "colab": {
   "collapsed_sections": [],
   "name": "Draft Trab Prat Mod 3 IRIS",
   "provenance": []
  },
  "kernelspec": {
   "display_name": "Python 3",
   "language": "python",
   "name": "python3"
  },
  "language_info": {
   "codemirror_mode": {
    "name": "ipython",
    "version": 3
   },
   "file_extension": ".py",
   "mimetype": "text/x-python",
   "name": "python",
   "nbconvert_exporter": "python",
   "pygments_lexer": "ipython3",
   "version": "3.7.7"
  }
 },
 "nbformat": 4,
 "nbformat_minor": 1
}
