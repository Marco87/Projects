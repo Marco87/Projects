{
 "cells": [
  {
   "cell_type": "code",
   "execution_count": 1,
   "metadata": {},
   "outputs": [],
   "source": [
    "#este arquivo contém o desenvolvimento para o desafio final do Bootcamp de Analista de dados do IGTI"
   ]
  },
  {
   "cell_type": "markdown",
   "metadata": {},
   "source": [
    "1) Iniciar a seção SPARK"
   ]
  },
  {
   "cell_type": "code",
   "execution_count": 2,
   "metadata": {},
   "outputs": [],
   "source": [
    "from pyspark.sql import SparkSession #importa a biblioteca que cria a seção do spark\n",
    "import pandas as pd\n",
    "import numpy as np\n",
    "import matplotlib.pyplot as plt"
   ]
  },
  {
   "cell_type": "code",
   "execution_count": 3,
   "metadata": {},
   "outputs": [],
   "source": [
    "#inicia a seção para a utilização do spark\n",
    "spark = SparkSession.builder.appName(\"desafio_IGTI\").getOrCreate() #cria a seção caso não exista ou obtém a já criada"
   ]
  },
  {
   "cell_type": "code",
   "execution_count": 4,
   "metadata": {},
   "outputs": [
    {
     "name": "stderr",
     "output_type": "stream",
     "text": [
      "UsageError: Line magic function `%fs` not found.\n"
     ]
    }
   ],
   "source": [
    "%fs ls /FileStore/tables   "
   ]
  },
  {
   "cell_type": "code",
   "execution_count": 5,
   "metadata": {},
   "outputs": [],
   "source": [
    "diretorio_dataset=\"healthcare-dataset-stroke-data.csv\"  #diretório que contém o arquivo a ser utilizado"
   ]
  },
  {
   "cell_type": "code",
   "execution_count": 11,
   "metadata": {},
   "outputs": [],
   "source": [
    "dataset_desafio = spark.read.format(\"csv\").options(header=\"true\", inferschema=\"true\").load(diretorio_dataset)  #realiza a leitura do dataset"
   ]
  },
  {
   "cell_type": "code",
   "execution_count": 12,
   "metadata": {},
   "outputs": [
    {
     "name": "stdout",
     "output_type": "stream",
     "text": [
      "root\n",
      " |-- id: integer (nullable = true)\n",
      " |-- gender: string (nullable = true)\n",
      " |-- age: double (nullable = true)\n",
      " |-- hypertension: integer (nullable = true)\n",
      " |-- heart_disease: integer (nullable = true)\n",
      " |-- ever_married: string (nullable = true)\n",
      " |-- work_type: string (nullable = true)\n",
      " |-- Residence_type: string (nullable = true)\n",
      " |-- avg_glucose_level: double (nullable = true)\n",
      " |-- bmi: string (nullable = true)\n",
      " |-- smoking_status: string (nullable = true)\n",
      " |-- stroke: integer (nullable = true)\n",
      "\n"
     ]
    }
   ],
   "source": [
    "dataset_desafio.printSchema() #mostra o esquema inferido pelas variáveis"
   ]
  },
  {
   "cell_type": "markdown",
   "metadata": {},
   "source": [
    "Respectivamente, quantas variáveis do tipo string e inteira existem no dataset?"
   ]
  },
  {
   "cell_type": "code",
   "execution_count": 13,
   "metadata": {},
   "outputs": [
    {
     "data": {
      "text/plain": [
       "5110"
      ]
     },
     "execution_count": 13,
     "metadata": {},
     "output_type": "execute_result"
    }
   ],
   "source": [
    "#número de instancias no dataset\n",
    "dataset_desafio.count()"
   ]
  },
  {
   "cell_type": "code",
   "execution_count": 6,
   "metadata": {},
   "outputs": [],
   "source": [
    "dataset = pd.read_csv(\"healthcare-dataset-stroke-data.csv\")"
   ]
  },
  {
   "cell_type": "code",
   "execution_count": 8,
   "metadata": {},
   "outputs": [
    {
     "data": {
      "text/plain": [
       "Female    2994\n",
       "Male      2115\n",
       "Other        1\n",
       "Name: gender, dtype: int64"
      ]
     },
     "execution_count": 8,
     "metadata": {},
     "output_type": "execute_result"
    }
   ],
   "source": [
    "dataset['gender'].value_counts()"
   ]
  },
  {
   "cell_type": "code",
   "execution_count": 20,
   "metadata": {},
   "outputs": [
    {
     "data": {
      "text/html": [
       "<div>\n",
       "<style scoped>\n",
       "    .dataframe tbody tr th:only-of-type {\n",
       "        vertical-align: middle;\n",
       "    }\n",
       "\n",
       "    .dataframe tbody tr th {\n",
       "        vertical-align: top;\n",
       "    }\n",
       "\n",
       "    .dataframe thead th {\n",
       "        text-align: right;\n",
       "    }\n",
       "</style>\n",
       "<table border=\"1\" class=\"dataframe\">\n",
       "  <thead>\n",
       "    <tr style=\"text-align: right;\">\n",
       "      <th></th>\n",
       "      <th>id</th>\n",
       "      <th>gender</th>\n",
       "      <th>age</th>\n",
       "      <th>hypertension</th>\n",
       "      <th>heart_disease</th>\n",
       "      <th>ever_married</th>\n",
       "      <th>work_type</th>\n",
       "      <th>Residence_type</th>\n",
       "      <th>avg_glucose_level</th>\n",
       "      <th>bmi</th>\n",
       "      <th>smoking_status</th>\n",
       "      <th>stroke</th>\n",
       "    </tr>\n",
       "  </thead>\n",
       "  <tbody>\n",
       "    <tr>\n",
       "      <th>0</th>\n",
       "      <td>9046</td>\n",
       "      <td>Male</td>\n",
       "      <td>67.0</td>\n",
       "      <td>0</td>\n",
       "      <td>1</td>\n",
       "      <td>Yes</td>\n",
       "      <td>Private</td>\n",
       "      <td>Urban</td>\n",
       "      <td>228.69</td>\n",
       "      <td>36.6</td>\n",
       "      <td>formerly smoked</td>\n",
       "      <td>1</td>\n",
       "    </tr>\n",
       "    <tr>\n",
       "      <th>1</th>\n",
       "      <td>51676</td>\n",
       "      <td>Female</td>\n",
       "      <td>61.0</td>\n",
       "      <td>0</td>\n",
       "      <td>0</td>\n",
       "      <td>Yes</td>\n",
       "      <td>Self-employed</td>\n",
       "      <td>Rural</td>\n",
       "      <td>202.21</td>\n",
       "      <td>NaN</td>\n",
       "      <td>never smoked</td>\n",
       "      <td>1</td>\n",
       "    </tr>\n",
       "    <tr>\n",
       "      <th>2</th>\n",
       "      <td>31112</td>\n",
       "      <td>Male</td>\n",
       "      <td>80.0</td>\n",
       "      <td>0</td>\n",
       "      <td>1</td>\n",
       "      <td>Yes</td>\n",
       "      <td>Private</td>\n",
       "      <td>Rural</td>\n",
       "      <td>105.92</td>\n",
       "      <td>32.5</td>\n",
       "      <td>never smoked</td>\n",
       "      <td>1</td>\n",
       "    </tr>\n",
       "    <tr>\n",
       "      <th>3</th>\n",
       "      <td>60182</td>\n",
       "      <td>Female</td>\n",
       "      <td>49.0</td>\n",
       "      <td>0</td>\n",
       "      <td>0</td>\n",
       "      <td>Yes</td>\n",
       "      <td>Private</td>\n",
       "      <td>Urban</td>\n",
       "      <td>171.23</td>\n",
       "      <td>34.4</td>\n",
       "      <td>smokes</td>\n",
       "      <td>1</td>\n",
       "    </tr>\n",
       "    <tr>\n",
       "      <th>4</th>\n",
       "      <td>1665</td>\n",
       "      <td>Female</td>\n",
       "      <td>79.0</td>\n",
       "      <td>1</td>\n",
       "      <td>0</td>\n",
       "      <td>Yes</td>\n",
       "      <td>Self-employed</td>\n",
       "      <td>Rural</td>\n",
       "      <td>174.12</td>\n",
       "      <td>24.0</td>\n",
       "      <td>never smoked</td>\n",
       "      <td>1</td>\n",
       "    </tr>\n",
       "    <tr>\n",
       "      <th>...</th>\n",
       "      <td>...</td>\n",
       "      <td>...</td>\n",
       "      <td>...</td>\n",
       "      <td>...</td>\n",
       "      <td>...</td>\n",
       "      <td>...</td>\n",
       "      <td>...</td>\n",
       "      <td>...</td>\n",
       "      <td>...</td>\n",
       "      <td>...</td>\n",
       "      <td>...</td>\n",
       "      <td>...</td>\n",
       "    </tr>\n",
       "    <tr>\n",
       "      <th>5105</th>\n",
       "      <td>18234</td>\n",
       "      <td>Female</td>\n",
       "      <td>80.0</td>\n",
       "      <td>1</td>\n",
       "      <td>0</td>\n",
       "      <td>Yes</td>\n",
       "      <td>Private</td>\n",
       "      <td>Urban</td>\n",
       "      <td>83.75</td>\n",
       "      <td>NaN</td>\n",
       "      <td>never smoked</td>\n",
       "      <td>0</td>\n",
       "    </tr>\n",
       "    <tr>\n",
       "      <th>5106</th>\n",
       "      <td>44873</td>\n",
       "      <td>Female</td>\n",
       "      <td>81.0</td>\n",
       "      <td>0</td>\n",
       "      <td>0</td>\n",
       "      <td>Yes</td>\n",
       "      <td>Self-employed</td>\n",
       "      <td>Urban</td>\n",
       "      <td>125.20</td>\n",
       "      <td>40.0</td>\n",
       "      <td>never smoked</td>\n",
       "      <td>0</td>\n",
       "    </tr>\n",
       "    <tr>\n",
       "      <th>5107</th>\n",
       "      <td>19723</td>\n",
       "      <td>Female</td>\n",
       "      <td>35.0</td>\n",
       "      <td>0</td>\n",
       "      <td>0</td>\n",
       "      <td>Yes</td>\n",
       "      <td>Self-employed</td>\n",
       "      <td>Rural</td>\n",
       "      <td>82.99</td>\n",
       "      <td>30.6</td>\n",
       "      <td>never smoked</td>\n",
       "      <td>0</td>\n",
       "    </tr>\n",
       "    <tr>\n",
       "      <th>5108</th>\n",
       "      <td>37544</td>\n",
       "      <td>Male</td>\n",
       "      <td>51.0</td>\n",
       "      <td>0</td>\n",
       "      <td>0</td>\n",
       "      <td>Yes</td>\n",
       "      <td>Private</td>\n",
       "      <td>Rural</td>\n",
       "      <td>166.29</td>\n",
       "      <td>25.6</td>\n",
       "      <td>formerly smoked</td>\n",
       "      <td>0</td>\n",
       "    </tr>\n",
       "    <tr>\n",
       "      <th>5109</th>\n",
       "      <td>44679</td>\n",
       "      <td>Female</td>\n",
       "      <td>44.0</td>\n",
       "      <td>0</td>\n",
       "      <td>0</td>\n",
       "      <td>Yes</td>\n",
       "      <td>Govt_job</td>\n",
       "      <td>Urban</td>\n",
       "      <td>85.28</td>\n",
       "      <td>26.2</td>\n",
       "      <td>Unknown</td>\n",
       "      <td>0</td>\n",
       "    </tr>\n",
       "  </tbody>\n",
       "</table>\n",
       "<p>5110 rows × 12 columns</p>\n",
       "</div>"
      ],
      "text/plain": [
       "         id  gender   age  hypertension  heart_disease ever_married  \\\n",
       "0      9046    Male  67.0             0              1          Yes   \n",
       "1     51676  Female  61.0             0              0          Yes   \n",
       "2     31112    Male  80.0             0              1          Yes   \n",
       "3     60182  Female  49.0             0              0          Yes   \n",
       "4      1665  Female  79.0             1              0          Yes   \n",
       "...     ...     ...   ...           ...            ...          ...   \n",
       "5105  18234  Female  80.0             1              0          Yes   \n",
       "5106  44873  Female  81.0             0              0          Yes   \n",
       "5107  19723  Female  35.0             0              0          Yes   \n",
       "5108  37544    Male  51.0             0              0          Yes   \n",
       "5109  44679  Female  44.0             0              0          Yes   \n",
       "\n",
       "          work_type Residence_type  avg_glucose_level   bmi   smoking_status  \\\n",
       "0           Private          Urban             228.69  36.6  formerly smoked   \n",
       "1     Self-employed          Rural             202.21   NaN     never smoked   \n",
       "2           Private          Rural             105.92  32.5     never smoked   \n",
       "3           Private          Urban             171.23  34.4           smokes   \n",
       "4     Self-employed          Rural             174.12  24.0     never smoked   \n",
       "...             ...            ...                ...   ...              ...   \n",
       "5105        Private          Urban              83.75   NaN     never smoked   \n",
       "5106  Self-employed          Urban             125.20  40.0     never smoked   \n",
       "5107  Self-employed          Rural              82.99  30.6     never smoked   \n",
       "5108        Private          Rural             166.29  25.6  formerly smoked   \n",
       "5109       Govt_job          Urban              85.28  26.2          Unknown   \n",
       "\n",
       "      stroke  \n",
       "0          1  \n",
       "1          1  \n",
       "2          1  \n",
       "3          1  \n",
       "4          1  \n",
       "...      ...  \n",
       "5105       0  \n",
       "5106       0  \n",
       "5107       0  \n",
       "5108       0  \n",
       "5109       0  \n",
       "\n",
       "[5110 rows x 12 columns]"
      ]
     },
     "execution_count": 20,
     "metadata": {},
     "output_type": "execute_result"
    }
   ],
   "source": [
    "dataset"
   ]
  },
  {
   "cell_type": "code",
   "execution_count": 27,
   "metadata": {},
   "outputs": [
    {
     "data": {
      "text/plain": [
       "Private          2925\n",
       "Self-employed     819\n",
       "children          687\n",
       "Govt_job          657\n",
       "Never_worked       22\n",
       "Name: work_type, dtype: int64"
      ]
     },
     "execution_count": 27,
     "metadata": {},
     "output_type": "execute_result"
    }
   ],
   "source": [
    "dataset['work_type'].value_counts()"
   ]
  },
  {
   "cell_type": "code",
   "execution_count": 29,
   "metadata": {},
   "outputs": [
    {
     "data": {
      "text/plain": [
       "never smoked       1892\n",
       "Unknown            1544\n",
       "formerly smoked     885\n",
       "smokes              789\n",
       "Name: smoking_status, dtype: int64"
      ]
     },
     "execution_count": 29,
     "metadata": {},
     "output_type": "execute_result"
    }
   ],
   "source": [
    "dataset['smoking_status'].value_counts()"
   ]
  },
  {
   "cell_type": "code",
   "execution_count": 13,
   "metadata": {},
   "outputs": [
    {
     "data": {
      "text/plain": [
       "0       False\n",
       "1        True\n",
       "2       False\n",
       "3       False\n",
       "4       False\n",
       "        ...  \n",
       "5105     True\n",
       "5106    False\n",
       "5107    False\n",
       "5108    False\n",
       "5109    False\n",
       "Name: bmi, Length: 5110, dtype: bool"
      ]
     },
     "execution_count": 13,
     "metadata": {},
     "output_type": "execute_result"
    }
   ],
   "source": [
    "dataset['bmi'].isna()"
   ]
  },
  {
   "cell_type": "code",
   "execution_count": 28,
   "metadata": {},
   "outputs": [
    {
     "data": {
      "text/plain": [
       "91.88499999999999"
      ]
     },
     "execution_count": 28,
     "metadata": {},
     "output_type": "execute_result"
    }
   ],
   "source": [
    "dataset['avg_glucose_level'].median()"
   ]
  },
  {
   "cell_type": "code",
   "execution_count": 14,
   "metadata": {},
   "outputs": [
    {
     "data": {
      "text/plain": [
       "<matplotlib.axes._subplots.AxesSubplot at 0x7f221d0f3750>"
      ]
     },
     "execution_count": 14,
     "metadata": {},
     "output_type": "execute_result"
    },
    {
     "data": {
      "image/png": "[encoded data removed]",
      "text/plain": [
       "<Figure size 432x288 with 1 Axes>"
      ]
     },
     "metadata": {
      "needs_background": "light"
     },
     "output_type": "display_data"
    }
   ],
   "source": [
    "dataset.boxplot(column=['avg_glucose_level'])"
   ]
  },
  {
   "cell_type": "code",
   "execution_count": 16,
   "metadata": {},
   "outputs": [
    {
     "data": {
      "text/plain": [
       "<matplotlib.axes._subplots.AxesSubplot at 0x7f22176acd10>"
      ]
     },
     "execution_count": 16,
     "metadata": {},
     "output_type": "execute_result"
    },
    {
     "data": {
      "image/png": "[encoded data removed]",
      "text/plain": [
       "<Figure size 432x288 with 1 Axes>"
      ]
     },
     "metadata": {
      "needs_background": "light"
     },
     "output_type": "display_data"
    }
   ],
   "source": [
    "dataset.boxplot(column=['age'])"
   ]
  },
  {
   "cell_type": "code",
   "execution_count": 17,
   "metadata": {},
   "outputs": [
    {
     "data": {
      "text/html": [
       "<style  type=\"text/css\" >\n",
       "    #T_0a57529c_cf58_11ea_9f28_af1fd031b0cerow0_col0 {\n",
       "            background-color:  #3b4cc0;\n",
       "            color:  #f1f1f1;\n",
       "        }</style><table id=\"T_0a57529c_cf58_11ea_9f28_af1fd031b0ce\" ><thead>    <tr>        <th class=\"blank level0\" ></th>        <th class=\"col_heading level0 col0\" >stroke</th>    </tr></thead><tbody>\n",
       "                <tr>\n",
       "                        <th id=\"T_0a57529c_cf58_11ea_9f28_af1fd031b0celevel0_row0\" class=\"row_heading level0 row0\" >stroke</th>\n",
       "                        <td id=\"T_0a57529c_cf58_11ea_9f28_af1fd031b0cerow0_col0\" class=\"data row0 col0\" >1.00</td>\n",
       "            </tr>\n",
       "    </tbody></table>"
      ],
      "text/plain": [
       "<pandas.io.formats.style.Styler at 0x7f221767c990>"
      ]
     },
     "execution_count": 17,
     "metadata": {},
     "output_type": "execute_result"
    }
   ],
   "source": [
    "corr = dataset[['smoking_status', 'stroke']].corr()\n",
    "corr.style.background_gradient(cmap='coolwarm').set_precision(2)"
   ]
  },
  {
   "cell_type": "code",
   "execution_count": 21,
   "metadata": {},
   "outputs": [
    {
     "name": "stdout",
     "output_type": "stream",
     "text": [
      "<class 'pandas.core.frame.DataFrame'>\n",
      "RangeIndex: 5110 entries, 0 to 5109\n",
      "Data columns (total 12 columns):\n",
      " #   Column             Non-Null Count  Dtype  \n",
      "---  ------             --------------  -----  \n",
      " 0   id                 5110 non-null   int64  \n",
      " 1   gender             5110 non-null   object \n",
      " 2   age                5110 non-null   float64\n",
      " 3   hypertension       5110 non-null   int64  \n",
      " 4   heart_disease      5110 non-null   int64  \n",
      " 5   ever_married       5110 non-null   object \n",
      " 6   work_type          5110 non-null   object \n",
      " 7   Residence_type     5110 non-null   object \n",
      " 8   avg_glucose_level  5110 non-null   float64\n",
      " 9   bmi                4909 non-null   float64\n",
      " 10  smoking_status     5110 non-null   object \n",
      " 11  stroke             5110 non-null   int64  \n",
      "dtypes: float64(3), int64(4), object(5)\n",
      "memory usage: 479.2+ KB\n"
     ]
    }
   ],
   "source": [
    "dataset.info()"
   ]
  },
  {
   "cell_type": "code",
   "execution_count": 22,
   "metadata": {},
   "outputs": [
    {
     "data": {
      "text/html": [
       "<div>\n",
       "<style scoped>\n",
       "    .dataframe tbody tr th:only-of-type {\n",
       "        vertical-align: middle;\n",
       "    }\n",
       "\n",
       "    .dataframe tbody tr th {\n",
       "        vertical-align: top;\n",
       "    }\n",
       "\n",
       "    .dataframe thead th {\n",
       "        text-align: right;\n",
       "    }\n",
       "</style>\n",
       "<table border=\"1\" class=\"dataframe\">\n",
       "  <thead>\n",
       "    <tr style=\"text-align: right;\">\n",
       "      <th></th>\n",
       "      <th>id</th>\n",
       "      <th>age</th>\n",
       "      <th>hypertension</th>\n",
       "      <th>heart_disease</th>\n",
       "      <th>avg_glucose_level</th>\n",
       "      <th>bmi</th>\n",
       "      <th>stroke</th>\n",
       "    </tr>\n",
       "  </thead>\n",
       "  <tbody>\n",
       "    <tr>\n",
       "      <th>count</th>\n",
       "      <td>5110.000000</td>\n",
       "      <td>5110.000000</td>\n",
       "      <td>5110.000000</td>\n",
       "      <td>5110.000000</td>\n",
       "      <td>5110.000000</td>\n",
       "      <td>4909.000000</td>\n",
       "      <td>5110.000000</td>\n",
       "    </tr>\n",
       "    <tr>\n",
       "      <th>mean</th>\n",
       "      <td>36517.829354</td>\n",
       "      <td>43.226614</td>\n",
       "      <td>0.097456</td>\n",
       "      <td>0.054012</td>\n",
       "      <td>106.147677</td>\n",
       "      <td>28.893237</td>\n",
       "      <td>0.048728</td>\n",
       "    </tr>\n",
       "    <tr>\n",
       "      <th>std</th>\n",
       "      <td>21161.721625</td>\n",
       "      <td>22.612647</td>\n",
       "      <td>0.296607</td>\n",
       "      <td>0.226063</td>\n",
       "      <td>45.283560</td>\n",
       "      <td>7.854067</td>\n",
       "      <td>0.215320</td>\n",
       "    </tr>\n",
       "    <tr>\n",
       "      <th>min</th>\n",
       "      <td>67.000000</td>\n",
       "      <td>0.080000</td>\n",
       "      <td>0.000000</td>\n",
       "      <td>0.000000</td>\n",
       "      <td>55.120000</td>\n",
       "      <td>10.300000</td>\n",
       "      <td>0.000000</td>\n",
       "    </tr>\n",
       "    <tr>\n",
       "      <th>25%</th>\n",
       "      <td>17741.250000</td>\n",
       "      <td>25.000000</td>\n",
       "      <td>0.000000</td>\n",
       "      <td>0.000000</td>\n",
       "      <td>77.245000</td>\n",
       "      <td>23.500000</td>\n",
       "      <td>0.000000</td>\n",
       "    </tr>\n",
       "    <tr>\n",
       "      <th>50%</th>\n",
       "      <td>36932.000000</td>\n",
       "      <td>45.000000</td>\n",
       "      <td>0.000000</td>\n",
       "      <td>0.000000</td>\n",
       "      <td>91.885000</td>\n",
       "      <td>28.100000</td>\n",
       "      <td>0.000000</td>\n",
       "    </tr>\n",
       "    <tr>\n",
       "      <th>75%</th>\n",
       "      <td>54682.000000</td>\n",
       "      <td>61.000000</td>\n",
       "      <td>0.000000</td>\n",
       "      <td>0.000000</td>\n",
       "      <td>114.090000</td>\n",
       "      <td>33.100000</td>\n",
       "      <td>0.000000</td>\n",
       "    </tr>\n",
       "    <tr>\n",
       "      <th>max</th>\n",
       "      <td>72940.000000</td>\n",
       "      <td>82.000000</td>\n",
       "      <td>1.000000</td>\n",
       "      <td>1.000000</td>\n",
       "      <td>271.740000</td>\n",
       "      <td>97.600000</td>\n",
       "      <td>1.000000</td>\n",
       "    </tr>\n",
       "  </tbody>\n",
       "</table>\n",
       "</div>"
      ],
      "text/plain": [
       "                 id          age  hypertension  heart_disease  \\\n",
       "count   5110.000000  5110.000000   5110.000000    5110.000000   \n",
       "mean   36517.829354    43.226614      0.097456       0.054012   \n",
       "std    21161.721625    22.612647      0.296607       0.226063   \n",
       "min       67.000000     0.080000      0.000000       0.000000   \n",
       "25%    17741.250000    25.000000      0.000000       0.000000   \n",
       "50%    36932.000000    45.000000      0.000000       0.000000   \n",
       "75%    54682.000000    61.000000      0.000000       0.000000   \n",
       "max    72940.000000    82.000000      1.000000       1.000000   \n",
       "\n",
       "       avg_glucose_level          bmi       stroke  \n",
       "count        5110.000000  4909.000000  5110.000000  \n",
       "mean          106.147677    28.893237     0.048728  \n",
       "std            45.283560     7.854067     0.215320  \n",
       "min            55.120000    10.300000     0.000000  \n",
       "25%            77.245000    23.500000     0.000000  \n",
       "50%            91.885000    28.100000     0.000000  \n",
       "75%           114.090000    33.100000     0.000000  \n",
       "max           271.740000    97.600000     1.000000  "
      ]
     },
     "execution_count": 22,
     "metadata": {},
     "output_type": "execute_result"
    }
   ],
   "source": [
    "dataset.describe()"
   ]
  },
  {
   "cell_type": "markdown",
   "metadata": {},
   "source": [
    "Quantas instâncias e atributos, respectivamente, existem no dataset?"
   ]
  },
  {
   "cell_type": "code",
   "execution_count": 14,
   "metadata": {},
   "outputs": [
    {
     "name": "stdout",
     "output_type": "stream",
     "text": [
      "+-----+------+----+------------+-------------+------------+-------------+--------------+-----------------+----+---------------+------+\n",
      "|   id|gender| age|hypertension|heart_disease|ever_married|    work_type|Residence_type|avg_glucose_level| bmi| smoking_status|stroke|\n",
      "+-----+------+----+------------+-------------+------------+-------------+--------------+-----------------+----+---------------+------+\n",
      "| 9046|  Male|67.0|           0|            1|         Yes|      Private|         Urban|           228.69|36.6|formerly smoked|     1|\n",
      "|51676|Female|61.0|           0|            0|         Yes|Self-employed|         Rural|           202.21| N/A|   never smoked|     1|\n",
      "|31112|  Male|80.0|           0|            1|         Yes|      Private|         Rural|           105.92|32.5|   never smoked|     1|\n",
      "|60182|Female|49.0|           0|            0|         Yes|      Private|         Urban|           171.23|34.4|         smokes|     1|\n",
      "| 1665|Female|79.0|           1|            0|         Yes|Self-employed|         Rural|           174.12|  24|   never smoked|     1|\n",
      "|56669|  Male|81.0|           0|            0|         Yes|      Private|         Urban|           186.21|  29|formerly smoked|     1|\n",
      "|53882|  Male|74.0|           1|            1|         Yes|      Private|         Rural|            70.09|27.4|   never smoked|     1|\n",
      "|10434|Female|69.0|           0|            0|          No|      Private|         Urban|            94.39|22.8|   never smoked|     1|\n",
      "|27419|Female|59.0|           0|            0|         Yes|      Private|         Rural|            76.15| N/A|        Unknown|     1|\n",
      "|60491|Female|78.0|           0|            0|         Yes|      Private|         Urban|            58.57|24.2|        Unknown|     1|\n",
      "|12109|Female|81.0|           1|            0|         Yes|      Private|         Rural|            80.43|29.7|   never smoked|     1|\n",
      "|12095|Female|61.0|           0|            1|         Yes|     Govt_job|         Rural|           120.46|36.8|         smokes|     1|\n",
      "|12175|Female|54.0|           0|            0|         Yes|      Private|         Urban|           104.51|27.3|         smokes|     1|\n",
      "| 8213|  Male|78.0|           0|            1|         Yes|      Private|         Urban|           219.84| N/A|        Unknown|     1|\n",
      "| 5317|Female|79.0|           0|            1|         Yes|      Private|         Urban|           214.09|28.2|   never smoked|     1|\n",
      "|58202|Female|50.0|           1|            0|         Yes|Self-employed|         Rural|           167.41|30.9|   never smoked|     1|\n",
      "|56112|  Male|64.0|           0|            1|         Yes|      Private|         Urban|           191.61|37.5|         smokes|     1|\n",
      "|34120|  Male|75.0|           1|            0|         Yes|      Private|         Urban|           221.29|25.8|         smokes|     1|\n",
      "|27458|Female|60.0|           0|            0|          No|      Private|         Urban|            89.22|37.8|   never smoked|     1|\n",
      "|25226|  Male|57.0|           0|            1|          No|     Govt_job|         Urban|           217.08| N/A|        Unknown|     1|\n",
      "+-----+------+----+------------+-------------+------------+-------------+--------------+-----------------+----+---------------+------+\n",
      "only showing top 20 rows\n",
      "\n"
     ]
    }
   ],
   "source": [
    "dataset_desafio.show() #mostra as linhas iniciais do dataset"
   ]
  },
  {
   "cell_type": "markdown",
   "metadata": {},
   "source": [
    "Conhecendo o dataset"
   ]
  },
  {
   "cell_type": "code",
   "execution_count": 14,
   "metadata": {},
   "outputs": [
    {
     "data": {
      "text/html": [
       "<style scoped>\n",
       "  .ansiout {\n",
       "    display: block;\n",
       "    unicode-bidi: embed;\n",
       "    white-space: pre-wrap;\n",
       "    word-wrap: break-word;\n",
       "    word-break: break-all;\n",
       "    font-family: \"Source Code Pro\", \"Menlo\", monospace;;\n",
       "    font-size: 13px;\n",
       "    color: #555;\n",
       "    margin-left: 4px;\n",
       "    line-height: 19px;\n",
       "  }\n",
       "</style>\n",
       "<div class=\"ansiout\">+----+------------+\n",
       " age|hypertension|\n",
       "+----+------------+\n",
       "67.0|           0|\n",
       "61.0|           0|\n",
       "80.0|           0|\n",
       "49.0|           0|\n",
       "79.0|           1|\n",
       "+----+------------+\n",
       "only showing top 5 rows\n",
       "\n",
       "</div>"
      ]
     },
     "metadata": {},
     "output_type": "display_data"
    }
   ],
   "source": [
    "#seleção de colunas\n",
    "dataset_desafio.select('age','hypertension').show(5)"
   ]
  },
  {
   "cell_type": "code",
   "execution_count": 15,
   "metadata": {},
   "outputs": [
    {
     "data": {
      "text/html": [
       "<style scoped>\n",
       "  .table-result-container {\n",
       "    max-height: 300px;\n",
       "    overflow: auto;\n",
       "  }\n",
       "  table, th, td {\n",
       "    border: 1px solid black;\n",
       "    border-collapse: collapse;\n",
       "  }\n",
       "  th, td {\n",
       "    padding: 5px;\n",
       "  }\n",
       "  th {\n",
       "    text-align: left;\n",
       "  }\n",
       "</style><div class='table-result-container'><table class='table-result'><thead style='background-color: white'><tr><th>gender</th><th>stroke</th><th>count</th></tr></thead><tbody><tr><td>Other</td><td>0</td><td>1</td></tr><tr><td>Male</td><td>1</td><td>108</td></tr><tr><td>Female</td><td>1</td><td>141</td></tr><tr><td>Male</td><td>0</td><td>2007</td></tr><tr><td>Female</td><td>0</td><td>2853</td></tr></tbody></table></div>"
      ]
     },
     "metadata": {},
     "output_type": "display_data"
    }
   ],
   "source": [
    "#agrupando os dados\n",
    "display(dataset_desafio.groupby('gender','stroke').count().sort(\"count\",ascending=True))"
   ]
  },
  {
   "cell_type": "markdown",
   "metadata": {},
   "source": [
    "Analisando o gráfico anterior, o que podemos dizer sobre o derrame entre homens e mulheres?"
   ]
  },
  {
   "cell_type": "code",
   "execution_count": 17,
   "metadata": {},
   "outputs": [
    {
     "data": {
      "text/html": [
       "<style scoped>\n",
       "  .table-result-container {\n",
       "    max-height: 300px;\n",
       "    overflow: auto;\n",
       "  }\n",
       "  table, th, td {\n",
       "    border: 1px solid black;\n",
       "    border-collapse: collapse;\n",
       "  }\n",
       "  th, td {\n",
       "    padding: 5px;\n",
       "  }\n",
       "  th {\n",
       "    text-align: left;\n",
       "  }\n",
       "</style><div class='table-result-container'><table class='table-result'><thead style='background-color: white'><tr><th>smoking_status</th><th>stroke</th><th>count</th></tr></thead><tbody><tr><td>smokes</td><td>1</td><td>42</td></tr><tr><td>Unknown</td><td>1</td><td>47</td></tr><tr><td>formerly smoked</td><td>1</td><td>70</td></tr><tr><td>never smoked</td><td>1</td><td>90</td></tr><tr><td>smokes</td><td>0</td><td>747</td></tr><tr><td>formerly smoked</td><td>0</td><td>815</td></tr><tr><td>Unknown</td><td>0</td><td>1497</td></tr><tr><td>never smoked</td><td>0</td><td>1802</td></tr></tbody></table></div>"
      ]
     },
     "metadata": {},
     "output_type": "display_data"
    }
   ],
   "source": [
    "#agrupando os dados\n",
    "display(dataset_desafio.groupby('smoking_status','stroke').count().sort(\"count\",ascending=True))"
   ]
  },
  {
   "cell_type": "code",
   "execution_count": 18,
   "metadata": {},
   "outputs": [
    {
     "data": {
      "text/html": [
       "<style scoped>\n",
       "  .table-result-container {\n",
       "    max-height: 300px;\n",
       "    overflow: auto;\n",
       "  }\n",
       "  table, th, td {\n",
       "    border: 1px solid black;\n",
       "    border-collapse: collapse;\n",
       "  }\n",
       "  th, td {\n",
       "    padding: 5px;\n",
       "  }\n",
       "  th {\n",
       "    text-align: left;\n",
       "  }\n",
       "</style><div class='table-result-container'><table class='table-result'><thead style='background-color: white'><tr><th>hypertension</th><th>stroke</th><th>count</th></tr></thead><tbody><tr><td>1</td><td>1</td><td>66</td></tr><tr><td>0</td><td>1</td><td>183</td></tr><tr><td>1</td><td>0</td><td>432</td></tr><tr><td>0</td><td>0</td><td>4429</td></tr></tbody></table></div>"
      ]
     },
     "metadata": {},
     "output_type": "display_data"
    }
   ],
   "source": [
    "#agrupando os dados\n",
    "display(dataset_desafio.groupby('hypertension','stroke').count().sort(\"count\",ascending=True))"
   ]
  },
  {
   "cell_type": "markdown",
   "metadata": {},
   "source": [
    "O que podemos dizer sobre o gráfico anterior?"
   ]
  },
  {
   "cell_type": "code",
   "execution_count": 20,
   "metadata": {},
   "outputs": [
    {
     "data": {
      "text/html": [
       "<style scoped>\n",
       "  .table-result-container {\n",
       "    max-height: 300px;\n",
       "    overflow: auto;\n",
       "  }\n",
       "  table, th, td {\n",
       "    border: 1px solid black;\n",
       "    border-collapse: collapse;\n",
       "  }\n",
       "  th, td {\n",
       "    padding: 5px;\n",
       "  }\n",
       "  th {\n",
       "    text-align: left;\n",
       "  }\n",
       "</style><div class='table-result-container'><table class='table-result'><thead style='background-color: white'><tr><th>stroke</th><th>count</th></tr></thead><tbody><tr><td>1</td><td>249</td></tr><tr><td>0</td><td>4861</td></tr></tbody></table></div>"
      ]
     },
     "metadata": {},
     "output_type": "display_data"
    }
   ],
   "source": [
    "display(dataset_desafio.groupby('stroke').count())"
   ]
  },
  {
   "cell_type": "markdown",
   "metadata": {},
   "source": [
    "O dataset está balanceado?"
   ]
  },
  {
   "cell_type": "code",
   "execution_count": 22,
   "metadata": {},
   "outputs": [
    {
     "data": {
      "text/html": [
       "<style scoped>\n",
       "  .ansiout {\n",
       "    display: block;\n",
       "    unicode-bidi: embed;\n",
       "    white-space: pre-wrap;\n",
       "    word-wrap: break-word;\n",
       "    word-break: break-all;\n",
       "    font-family: \"Source Code Pro\", \"Menlo\", monospace;;\n",
       "    font-size: 13px;\n",
       "    color: #555;\n",
       "    margin-left: 4px;\n",
       "    line-height: 19px;\n",
       "  }\n",
       "</style>\n",
       "<div class=\"ansiout\">Out[113]: 2994</div>"
      ]
     },
     "metadata": {},
     "output_type": "display_data"
    }
   ],
   "source": [
    "#utilizando crosstab para contar a quantidade de indivíduos com que ganho mais de 50K pela idade\n",
    "dataset_desafio.filter(dataset_desafio.gender== 'Female').count()"
   ]
  },
  {
   "cell_type": "code",
   "execution_count": 23,
   "metadata": {},
   "outputs": [
    {
     "data": {
      "text/html": [
       "<style scoped>\n",
       "  .ansiout {\n",
       "    display: block;\n",
       "    unicode-bidi: embed;\n",
       "    white-space: pre-wrap;\n",
       "    word-wrap: break-word;\n",
       "    word-break: break-all;\n",
       "    font-family: \"Source Code Pro\", \"Menlo\", monospace;;\n",
       "    font-size: 13px;\n",
       "    color: #555;\n",
       "    margin-left: 4px;\n",
       "    line-height: 19px;\n",
       "  }\n",
       "</style>\n",
       "<div class=\"ansiout\">+-------------+----------------+\n",
       "    work_type|count(work_type)|\n",
       "+-------------+----------------+\n",
       " Never_worked|              22|\n",
       "     Govt_job|             657|\n",
       "     children|             687|\n",
       "Self-employed|             819|\n",
       "      Private|            2925|\n",
       "+-------------+----------------+\n",
       "\n",
       "</div>"
      ]
     },
     "metadata": {},
     "output_type": "display_data"
    }
   ],
   "source": [
    "#contando as classes\n",
    "dataset_desafio.groupBy(\"work_type\").agg({'work_type': 'count'}).sort(asc(\"count(work_type)\")).show()"
   ]
  },
  {
   "cell_type": "code",
   "execution_count": 24,
   "metadata": {},
   "outputs": [
    {
     "data": {
      "text/html": [
       "<style scoped>\n",
       "  .ansiout {\n",
       "    display: block;\n",
       "    unicode-bidi: embed;\n",
       "    white-space: pre-wrap;\n",
       "    word-wrap: break-word;\n",
       "    word-break: break-all;\n",
       "    font-family: \"Source Code Pro\", \"Menlo\", monospace;;\n",
       "    font-size: 13px;\n",
       "    color: #555;\n",
       "    margin-left: 4px;\n",
       "    line-height: 19px;\n",
       "  }\n",
       "</style>\n",
       "<div class=\"ansiout\">+-------+------------------+------------------+------------------+\n",
       "summary|age               |avg_glucose_level |bmi               |\n",
       "+-------+------------------+------------------+------------------+\n",
       "count  |5110              |5110              |5110              |\n",
       "mean   |43.226614481409015|106.14767710371804|28.893236911794673|\n",
       "stddev |22.61264672311348 |45.28356015058193 |7.85406672968016  |\n",
       "min    |0.08              |55.12             |10.3              |\n",
       "max    |82.0              |271.74            |N/A               |\n",
       "+-------+------------------+------------------+------------------+\n",
       "\n",
       "</div>"
      ]
     },
     "metadata": {},
     "output_type": "display_data"
    }
   ],
   "source": [
    "entradas_numericas  = ['age',\"avg_glucose_level\", \"bmi\"]\n",
    "dataset_desafio.describe(entradas_numericas).show(truncate=False)"
   ]
  },
  {
   "cell_type": "markdown",
   "metadata": {},
   "source": [
    "Qual é a média das idades dos participantes da pesquisa?"
   ]
  },
  {
   "cell_type": "code",
   "execution_count": 26,
   "metadata": {},
   "outputs": [
    {
     "data": {
      "text/html": [
       "<style scoped>\n",
       "  .table-result-container {\n",
       "    max-height: 300px;\n",
       "    overflow: auto;\n",
       "  }\n",
       "  table, th, td {\n",
       "    border: 1px solid black;\n",
       "    border-collapse: collapse;\n",
       "  }\n",
       "  th, td {\n",
       "    padding: 5px;\n",
       "  }\n",
       "  th {\n",
       "    text-align: left;\n",
       "  }\n",
       "</style><div class='table-result-container'><table class='table-result'><thead style='background-color: white'><tr><th>avg_glucose_level</th></tr></thead><tbody><tr><td>228.69</td></tr><tr><td>202.21</td></tr><tr><td>105.92</td></tr><tr><td>171.23</td></tr><tr><td>174.12</td></tr><tr><td>186.21</td></tr><tr><td>70.09</td></tr><tr><td>94.39</td></tr><tr><td>76.15</td></tr><tr><td>58.57</td></tr><tr><td>80.43</td></tr><tr><td>120.46</td></tr><tr><td>104.51</td></tr><tr><td>219.84</td></tr><tr><td>214.09</td></tr><tr><td>167.41</td></tr><tr><td>191.61</td></tr><tr><td>221.29</td></tr><tr><td>89.22</td></tr><tr><td>217.08</td></tr><tr><td>193.94</td></tr><tr><td>233.29</td></tr><tr><td>228.7</td></tr><tr><td>208.3</td></tr><tr><td>102.87</td></tr><tr><td>104.12</td></tr><tr><td>100.98</td></tr><tr><td>189.84</td></tr><tr><td>195.23</td></tr><tr><td>211.78</td></tr><tr><td>212.08</td></tr><tr><td>83.41</td></tr><tr><td>196.92</td></tr><tr><td>252.72</td></tr><tr><td>84.2</td></tr><tr><td>84.03</td></tr><tr><td>219.72</td></tr><tr><td>74.63</td></tr><tr><td>92.62</td></tr><tr><td>60.91</td></tr><tr><td>78.03</td></tr><tr><td>71.22</td></tr><tr><td>144.9</td></tr><tr><td>90.9</td></tr><tr><td>213.03</td></tr><tr><td>243.58</td></tr><tr><td>109.78</td></tr><tr><td>107.26</td></tr><tr><td>99.33</td></tr><tr><td>58.09</td></tr><tr><td>89.96</td></tr><tr><td>75.32</td></tr><tr><td>127.29</td></tr><tr><td>124.13</td></tr><tr><td>197.54</td></tr><tr><td>196.71</td></tr><tr><td>59.32</td></tr><tr><td>237.75</td></tr><tr><td>194.99</td></tr><tr><td>180.93</td></tr><tr><td>185.17</td></tr><tr><td>74.9</td></tr><tr><td>61.94</td></tr><tr><td>93.72</td></tr><tr><td>104.72</td></tr><tr><td>113.01</td></tr><tr><td>221.58</td></tr><tr><td>104.47</td></tr><tr><td>86.23</td></tr><tr><td>72.67</td></tr><tr><td>62.57</td></tr><tr><td>179.12</td></tr><tr><td>116.55</td></tr><tr><td>228.56</td></tr><tr><td>96.59</td></tr><tr><td>66.72</td></tr><tr><td>240.09</td></tr><tr><td>110.85</td></tr><tr><td>165.31</td></tr><tr><td>143.43</td></tr><tr><td>96.16</td></tr><tr><td>101.45</td></tr><tr><td>88.92</td></tr><tr><td>79.79</td></tr><tr><td>71.2</td></tr><tr><td>96.97</td></tr><tr><td>111.81</td></tr><tr><td>59.35</td></tr><tr><td>86.94</td></tr><tr><td>98.55</td></tr><tr><td>226.98</td></tr><tr><td>72.81</td></tr><tr><td>68.02</td></tr><tr><td>68.56</td></tr><tr><td>64.14</td></tr><tr><td>235.63</td></tr><tr><td>76.34</td></tr><tr><td>240.59</td></tr><tr><td>78.92</td></tr><tr><td>82.81</td></tr><tr><td>74.1</td></tr><tr><td>190.32</td></tr><tr><td>231.61</td></tr><tr><td>78.7</td></tr><tr><td>110.52</td></tr><tr><td>82.3</td></tr><tr><td>73.18</td></tr><tr><td>191.82</td></tr><tr><td>93.05</td></tr><tr><td>64.17</td></tr><tr><td>129.98</td></tr><tr><td>68.53</td></tr><tr><td>106.41</td></tr><tr><td>224.1</td></tr><tr><td>82.1</td></tr><tr><td>216.94</td></tr><tr><td>76.11</td></tr><tr><td>72.96</td></tr><tr><td>82.28</td></tr><tr><td>105.22</td></tr><tr><td>59.86</td></tr><tr><td>62.55</td></tr><tr><td>259.63</td></tr><tr><td>249.31</td></tr><tr><td>219.91</td></tr><tr><td>131.41</td></tr><tr><td>93.13</td></tr><tr><td>73.54</td></tr><tr><td>200.59</td></tr><tr><td>62.48</td></tr><tr><td>190.14</td></tr><tr><td>130.54</td></tr><tr><td>182.99</td></tr><tr><td>101.45</td></tr><tr><td>206.09</td></tr><tr><td>263.32</td></tr><tr><td>140.1</td></tr><tr><td>207.28</td></tr><tr><td>194.37</td></tr><tr><td>199.2</td></tr><tr><td>103.68</td></tr><tr><td>116.44</td></tr><tr><td>70.28</td></tr><tr><td>72.17</td></tr><tr><td>221.79</td></tr><tr><td>151.16</td></tr><tr><td>68.43</td></tr><tr><td>67.29</td></tr><tr><td>67.41</td></tr><tr><td>239.07</td></tr><tr><td>169.67</td></tr><tr><td>223.83</td></tr><tr><td>76.57</td></tr><tr><td>77.82</td></tr><tr><td>92.98</td></tr><tr><td>231.56</td></tr><tr><td>102.16</td></tr><tr><td>221.89</td></tr><tr><td>195.71</td></tr><tr><td>74.02</td></tr><tr><td>57.92</td></tr><tr><td>81.76</td></tr><tr><td>70.37</td></tr><tr><td>203.87</td></tr><tr><td>89.13</td></tr><tr><td>133.19</td></tr><tr><td>162.23</td></tr><tr><td>75.02</td></tr><tr><td>98.02</td></tr><tr><td>91.54</td></tr><tr><td>111.98</td></tr><tr><td>60.94</td></tr><tr><td>97.43</td></tr><tr><td>91.02</td></tr><tr><td>60.67</td></tr><tr><td>185.49</td></tr><tr><td>64.44</td></tr><tr><td>56.11</td></tr><tr><td>110.66</td></tr><tr><td>213.22</td></tr><tr><td>78.18</td></tr><tr><td>111.04</td></tr><tr><td>76.13</td></tr><tr><td>81.32</td></tr><tr><td>112.24</td></tr><tr><td>137.3</td></tr><tr><td>116.69</td></tr><tr><td>215.94</td></tr><tr><td>86.62</td></tr><tr><td>209.86</td></tr><tr><td>205.77</td></tr><tr><td>112.16</td></tr><tr><td>118.03</td></tr><tr><td>271.74</td></tr><tr><td>97.92</td></tr><tr><td>200.62</td></tr><tr><td>242.52</td></tr><tr><td>93.81</td></tr><tr><td>114.77</td></tr><tr><td>74.96</td></tr><tr><td>167.13</td></tr><tr><td>175.29</td></tr><tr><td>90.0</td></tr><tr><td>109.47</td></tr><tr><td>87.85</td></tr><tr><td>106.74</td></tr><tr><td>80.13</td></tr><tr><td>90.19</td></tr><tr><td>134.8</td></tr><tr><td>106.58</td></tr><tr><td>83.24</td></tr><tr><td>103.43</td></tr><tr><td>208.65</td></tr><tr><td>74.11</td></tr><tr><td>95.84</td></tr><tr><td>205.33</td></tr><tr><td>116.1</td></tr><tr><td>210.4</td></tr><tr><td>199.86</td></tr><tr><td>219.73</td></tr><tr><td>250.89</td></tr><tr><td>72.73</td></tr><tr><td>205.35</td></tr><tr><td>70.3</td></tr><tr><td>104.86</td></tr><tr><td>216.58</td></tr><tr><td>184.4</td></tr><tr><td>60.98</td></tr><tr><td>97.76</td></tr><tr><td>66.03</td></tr><tr><td>81.95</td></tr><tr><td>97.73</td></tr><tr><td>70.94</td></tr><tr><td>199.84</td></tr><tr><td>218.46</td></tr><tr><td>211.06</td></tr><tr><td>86.3</td></tr><tr><td>162.14</td></tr><tr><td>88.2</td></tr><tr><td>91.92</td></tr><tr><td>76.46</td></tr><tr><td>197.28</td></tr><tr><td>233.94</td></tr><tr><td>247.51</td></tr><tr><td>84.96</td></tr><tr><td>57.93</td></tr><tr><td>78.8</td></tr><tr><td>87.8</td></tr><tr><td>78.81</td></tr><tr><td>95.12</td></tr><tr><td>87.96</td></tr><tr><td>110.89</td></tr><tr><td>69.04</td></tr><tr><td>161.28</td></tr><tr><td>210.95</td></tr><tr><td>77.59</td></tr><tr><td>243.53</td></tr><tr><td>77.67</td></tr><tr><td>205.84</td></tr><tr><td>77.08</td></tr><tr><td>57.08</td></tr><tr><td>162.96</td></tr><tr><td>73.5</td></tr><tr><td>95.04</td></tr><tr><td>85.37</td></tr><tr><td>84.62</td></tr><tr><td>82.67</td></tr><tr><td>57.33</td></tr><tr><td>67.84</td></tr><tr><td>75.7</td></tr><tr><td>129.54</td></tr><tr><td>60.22</td></tr><tr><td>198.21</td></tr><tr><td>109.82</td></tr><tr><td>60.84</td></tr><tr><td>94.61</td></tr><tr><td>97.49</td></tr><tr><td>206.72</td></tr><tr><td>214.45</td></tr><tr><td>82.9</td></tr><tr><td>103.26</td></tr><tr><td>55.78</td></tr><tr><td>73.74</td></tr><tr><td>149.75</td></tr><tr><td>82.34</td></tr><tr><td>62.6</td></tr><tr><td>94.09</td></tr><tr><td>55.42</td></tr><tr><td>82.18</td></tr><tr><td>117.92</td></tr><tr><td>114.84</td></tr><tr><td>79.17</td></tr><tr><td>110.63</td></tr><tr><td>190.7</td></tr><tr><td>79.81</td></tr><tr><td>113.63</td></tr><tr><td>141.24</td></tr><tr><td>56.96</td></tr><tr><td>203.04</td></tr><tr><td>94.3</td></tr><tr><td>81.51</td></tr><tr><td>137.74</td></tr><tr><td>81.84</td></tr><tr><td>242.3</td></tr><tr><td>102.64</td></tr><tr><td>146.01</td></tr><tr><td>75.42</td></tr><tr><td>220.49</td></tr><tr><td>61.45</td></tr><tr><td>88.19</td></tr><tr><td>115.22</td></tr><tr><td>97.93</td></tr><tr><td>85.6</td></tr><tr><td>79.83</td></tr><tr><td>218.46</td></tr><tr><td>62.2</td></tr><tr><td>69.15</td></tr><tr><td>127.71</td></tr><tr><td>216.7</td></tr><tr><td>71.89</td></tr><tr><td>103.56</td></tr><tr><td>79.03</td></tr><tr><td>69.94</td></tr><tr><td>90.12</td></tr><tr><td>95.1</td></tr><tr><td>234.58</td></tr><tr><td>235.85</td></tr><tr><td>78.05</td></tr><tr><td>89.44</td></tr><tr><td>111.38</td></tr><tr><td>243.5</td></tr><tr><td>182.2</td></tr><tr><td>229.92</td></tr><tr><td>82.24</td></tr><tr><td>89.84</td></tr><tr><td>90.69</td></tr><tr><td>84.38</td></tr><tr><td>215.6</td></tr><tr><td>91.61</td></tr><tr><td>138.16</td></tr><tr><td>75.23</td></tr><tr><td>75.18</td></tr><tr><td>106.23</td></tr><tr><td>239.64</td></tr><tr><td>58.95</td></tr><tr><td>99.92</td></tr><tr><td>116.23</td></tr><tr><td>118.82</td></tr><tr><td>66.3</td></tr><tr><td>101.41</td></tr><tr><td>200.28</td></tr><tr><td>136.8</td></tr><tr><td>96.57</td></tr><tr><td>66.42</td></tr><tr><td>98.09</td></tr><tr><td>205.23</td></tr><tr><td>86.78</td></tr><tr><td>126.82</td></tr><tr><td>78.4</td></tr><tr><td>63.69</td></tr><tr><td>209.58</td></tr><tr><td>89.86</td></tr><tr><td>110.99</td></tr><tr><td>83.82</td></tr><tr><td>137.96</td></tr><tr><td>210.78</td></tr><tr><td>118.89</td></tr><tr><td>72.55</td></tr><tr><td>107.41</td></tr><tr><td>93.25</td></tr><tr><td>74.91</td></tr><tr><td>80.05</td></tr><tr><td>99.8</td></tr><tr><td>91.97</td></tr><tr><td>64.4</td></tr><tr><td>73.02</td></tr><tr><td>88.11</td></tr><tr><td>138.29</td></tr><tr><td>72.36</td></tr><tr><td>68.76</td></tr><tr><td>106.22</td></tr><tr><td>101.52</td></tr><tr><td>109.51</td></tr><tr><td>85.84</td></tr><tr><td>110.15</td></tr><tr><td>91.72</td></tr><tr><td>251.6</td></tr><tr><td>123.1</td></tr><tr><td>97.4</td></tr><tr><td>68.34</td></tr><tr><td>80.81</td></tr><tr><td>120.31</td></tr><tr><td>83.51</td></tr><tr><td>74.09</td></tr><tr><td>91.6</td></tr><tr><td>87.52</td></tr><tr><td>213.37</td></tr><tr><td>75.39</td></tr><tr><td>122.41</td></tr><tr><td>223.36</td></tr><tr><td>84.59</td></tr><tr><td>70.16</td></tr><tr><td>107.52</td></tr><tr><td>80.88</td></tr><tr><td>93.48</td></tr><tr><td>70.21</td></tr><tr><td>86.67</td></tr><tr><td>101.37</td></tr><tr><td>105.22</td></tr><tr><td>70.31</td></tr><tr><td>64.06</td></tr><tr><td>178.29</td></tr><tr><td>81.6</td></tr><tr><td>147.48</td></tr><tr><td>86.86</td></tr><tr><td>71.16</td></tr><tr><td>73.2</td></tr><tr><td>203.81</td></tr><tr><td>82.0</td></tr><tr><td>97.55</td></tr><tr><td>94.29</td></tr><tr><td>75.22</td></tr><tr><td>90.07</td></tr><tr><td>73.73</td></tr><tr><td>79.58</td></tr><tr><td>77.88</td></tr><tr><td>205.26</td></tr><tr><td>58.63</td></tr><tr><td>139.9</td></tr><tr><td>211.03</td></tr><tr><td>72.79</td></tr><tr><td>91.65</td></tr><tr><td>79.92</td></tr><tr><td>225.47</td></tr><tr><td>94.48</td></tr><tr><td>82.34</td></tr><tr><td>180.63</td></tr><tr><td>92.48</td></tr><tr><td>116.66</td></tr><tr><td>112.09</td></tr><tr><td>130.34</td></tr><tr><td>82.59</td></tr><tr><td>123.87</td></tr><tr><td>98.7</td></tr><tr><td>227.1</td></tr><tr><td>55.39</td></tr><tr><td>66.07</td></tr><tr><td>104.21</td></tr><tr><td>145.15</td></tr><tr><td>68.19</td></tr><tr><td>97.53</td></tr><tr><td>122.31</td></tr><tr><td>83.51</td></tr><tr><td>86.46</td></tr><tr><td>112.06</td></tr><tr><td>92.14</td></tr><tr><td>201.76</td></tr><tr><td>74.44</td></tr><tr><td>95.93</td></tr><tr><td>87.51</td></tr><tr><td>72.35</td></tr><tr><td>113.47</td></tr><tr><td>103.78</td></tr><tr><td>115.43</td></tr><tr><td>95.59</td></tr><tr><td>101.52</td></tr><tr><td>170.05</td></tr><tr><td>217.3</td></tr><tr><td>196.01</td></tr><tr><td>92.21</td></tr><tr><td>100.09</td></tr><tr><td>93.88</td></tr><tr><td>75.05</td></tr><tr><td>70.08</td></tr><tr><td>74.2</td></tr><tr><td>69.01</td></tr><tr><td>96.17</td></tr><tr><td>184.15</td></tr><tr><td>87.24</td></tr><tr><td>198.69</td></tr><tr><td>82.58</td></tr><tr><td>96.88</td></tr><tr><td>73.32</td></tr><tr><td>94.59</td></tr><tr><td>132.08</td></tr><tr><td>98.99</td></tr><tr><td>104.48</td></tr><tr><td>98.01</td></tr><tr><td>79.14</td></tr><tr><td>89.32</td></tr><tr><td>65.24</td></tr><tr><td>80.98</td></tr><tr><td>186.17</td></tr><tr><td>69.24</td></tr><tr><td>111.19</td></tr><tr><td>93.28</td></tr><tr><td>122.19</td></tr><tr><td>129.53</td></tr><tr><td>114.53</td></tr><tr><td>93.73</td></tr><tr><td>77.49</td></tr><tr><td>65.38</td></tr><tr><td>94.18</td></tr><tr><td>118.7</td></tr><tr><td>96.29</td></tr><tr><td>74.64</td></tr><tr><td>96.99</td></tr><tr><td>100.61</td></tr><tr><td>97.08</td></tr><tr><td>84.79</td></tr><tr><td>78.75</td></tr><tr><td>82.93</td></tr><tr><td>88.78</td></tr><tr><td>122.1</td></tr><tr><td>74.81</td></tr><tr><td>183.45</td></tr><tr><td>114.94</td></tr><tr><td>104.38</td></tr><tr><td>102.91</td></tr><tr><td>108.79</td></tr><tr><td>73.31</td></tr><tr><td>68.52</td></tr><tr><td>89.77</td></tr><tr><td>102.64</td></tr><tr><td>70.92</td></tr><tr><td>86.11</td></tr><tr><td>129.16</td></tr><tr><td>113.85</td></tr><tr><td>79.35</td></tr><tr><td>80.79</td></tr><tr><td>114.01</td></tr><tr><td>93.74</td></tr><tr><td>90.65</td></tr><tr><td>98.41</td></tr><tr><td>127.18</td></tr><tr><td>138.06</td></tr><tr><td>89.44</td></tr><tr><td>105.61</td></tr><tr><td>155.43</td></tr><tr><td>80.83</td></tr><tr><td>80.19</td></tr><tr><td>60.34</td></tr><tr><td>79.3</td></tr><tr><td>98.44</td></tr><tr><td>210.48</td></tr><tr><td>70.34</td></tr><tr><td>122.22</td></tr><tr><td>75.29</td></tr><tr><td>100.35</td></tr><tr><td>193.83</td></tr><tr><td>126.96</td></tr><tr><td>183.34</td></tr><tr><td>247.69</td></tr><tr><td>76.2</td></tr><tr><td>71.43</td></tr><tr><td>93.36</td></tr><tr><td>61.29</td></tr><tr><td>103.62</td></tr><tr><td>100.52</td></tr><tr><td>191.47</td></tr><tr><td>67.06</td></tr><tr><td>144.1</td></tr><tr><td>58.26</td></tr><tr><td>239.82</td></tr><tr><td>73.71</td></tr><tr><td>88.53</td></tr><tr><td>114.79</td></tr><tr><td>113.8</td></tr><tr><td>71.91</td></tr><tr><td>65.3</td></tr><tr><td>189.57</td></tr><tr><td>114.25</td></tr><tr><td>81.26</td></tr><tr><td>87.88</td></tr><tr><td>112.17</td></tr><tr><td>99.97</td></tr><tr><td>207.58</td></tr><tr><td>109.16</td></tr><tr><td>74.46</td></tr><tr><td>118.51</td></tr><tr><td>107.47</td></tr><tr><td>182.86</td></tr><tr><td>59.17</td></tr><tr><td>215.64</td></tr><tr><td>163.7</td></tr><tr><td>196.36</td></tr><tr><td>139.77</td></tr><tr><td>141.23</td></tr><tr><td>89.99</td></tr><tr><td>108.53</td></tr><tr><td>63.61</td></tr><tr><td>85.54</td></tr><tr><td>100.83</td></tr><tr><td>59.82</td></tr><tr><td>105.95</td></tr><tr><td>188.11</td></tr><tr><td>71.15</td></tr><tr><td>60.53</td></tr><tr><td>205.5</td></tr><tr><td>204.86</td></tr><tr><td>115.03</td></tr><tr><td>79.87</td></tr><tr><td>97.89</td></tr><tr><td>125.26</td></tr><tr><td>114.32</td></tr><tr><td>92.23</td></tr><tr><td>83.51</td></tr><tr><td>102.34</td></tr><tr><td>144.48</td></tr><tr><td>88.39</td></tr><tr><td>228.08</td></tr><tr><td>93.79</td></tr><tr><td>147.14</td></tr><tr><td>106.43</td></tr><tr><td>88.04</td></tr><tr><td>92.2</td></tr><tr><td>219.53</td></tr><tr><td>75.56</td></tr><tr><td>158.31</td></tr><tr><td>111.43</td></tr><tr><td>219.97</td></tr><tr><td>148.91</td></tr><tr><td>69.4</td></tr><tr><td>68.34</td></tr><tr><td>58.37</td></tr><tr><td>71.2</td></tr><tr><td>101.5</td></tr><tr><td>92.04</td></tr><tr><td>73.0</td></tr><tr><td>111.15</td></tr><tr><td>58.65</td></tr><tr><td>100.54</td></tr><tr><td>111.73</td></tr><tr><td>97.78</td></tr><tr><td>85.79</td></tr><tr><td>98.54</td></tr><tr><td>94.62</td></tr><tr><td>112.43</td></tr><tr><td>99.67</td></tr><tr><td>67.39</td></tr><tr><td>95.12</td></tr><tr><td>85.06</td></tr><tr><td>214.05</td></tr><tr><td>79.09</td></tr><tr><td>98.09</td></tr><tr><td>76.36</td></tr><tr><td>98.42</td></tr><tr><td>82.01</td></tr><tr><td>56.11</td></tr><tr><td>111.85</td></tr><tr><td>92.39</td></tr><tr><td>112.54</td></tr><tr><td>63.71</td></tr><tr><td>70.35</td></tr><tr><td>94.65</td></tr><tr><td>64.64</td></tr><tr><td>57.27</td></tr><tr><td>107.25</td></tr><tr><td>77.12</td></tr><tr><td>55.32</td></tr><tr><td>69.37</td></tr><tr><td>57.57</td></tr><tr><td>87.43</td></tr><tr><td>98.73</td></tr><tr><td>81.18</td></tr><tr><td>56.23</td></tr><tr><td>69.61</td></tr><tr><td>59.49</td></tr><tr><td>118.14</td></tr><tr><td>100.26</td></tr><tr><td>56.75</td></tr><tr><td>88.27</td></tr><tr><td>67.81</td></tr><tr><td>77.46</td></tr><tr><td>76.26</td></tr><tr><td>86.39</td></tr><tr><td>116.38</td></tr><tr><td>75.74</td></tr><tr><td>92.14</td></tr><tr><td>149.95</td></tr><tr><td>92.11</td></tr><tr><td>74.98</td></tr><tr><td>55.25</td></tr><tr><td>79.89</td></tr><tr><td>130.61</td></tr><tr><td>94.26</td></tr><tr><td>94.34</td></tr><tr><td>109.03</td></tr><tr><td>81.03</td></tr><tr><td>99.82</td></tr><tr><td>140.08</td></tr><tr><td>59.54</td></tr><tr><td>80.33</td></tr><tr><td>131.51</td></tr><tr><td>89.21</td></tr><tr><td>91.45</td></tr><tr><td>90.58</td></tr><tr><td>91.45</td></tr><tr><td>89.63</td></tr><tr><td>124.06</td></tr><tr><td>99.47</td></tr><tr><td>88.97</td></tr><tr><td>80.93</td></tr><tr><td>102.07</td></tr><tr><td>91.69</td></tr><tr><td>63.71</td></tr><tr><td>200.49</td></tr><tr><td>75.3</td></tr><tr><td>240.71</td></tr><tr><td>60.5</td></tr><tr><td>131.85</td></tr><tr><td>134.39</td></tr><tr><td>56.18</td></tr><tr><td>113.64</td></tr><tr><td>156.57</td></tr><tr><td>80.4</td></tr><tr><td>59.26</td></tr><tr><td>63.26</td></tr><tr><td>86.24</td></tr><tr><td>197.1</td></tr><tr><td>90.9</td></tr><tr><td>84.59</td></tr><tr><td>121.8</td></tr><tr><td>77.65</td></tr><tr><td>64.41</td></tr><tr><td>75.19</td></tr><tr><td>67.97</td></tr><tr><td>119.34</td></tr><tr><td>94.92</td></tr><tr><td>107.42</td></tr><tr><td>85.02</td></tr><tr><td>103.51</td></tr><tr><td>114.5</td></tr><tr><td>70.78</td></tr><tr><td>95.01</td></tr><tr><td>84.11</td></tr><tr><td>74.02</td></tr><tr><td>78.49</td></tr><tr><td>74.22</td></tr><tr><td>55.34</td></tr><tr><td>75.04</td></tr><tr><td>109.73</td></tr><tr><td>95.81</td></tr><tr><td>96.78</td></tr><tr><td>194.62</td></tr><tr><td>70.02</td></tr><tr><td>222.21</td></tr><tr><td>62.41</td></tr><tr><td>55.83</td></tr><tr><td>65.12</td></tr><tr><td>73.62</td></tr><tr><td>85.83</td></tr><tr><td>103.86</td></tr><tr><td>60.98</td></tr><tr><td>82.69</td></tr><tr><td>250.2</td></tr><tr><td>128.97</td></tr><tr><td>84.31</td></tr><tr><td>74.8</td></tr><tr><td>97.06</td></tr><tr><td>77.54</td></tr><tr><td>92.78</td></tr><tr><td>173.43</td></tr><tr><td>79.08</td></tr><tr><td>106.18</td></tr><tr><td>114.21</td></tr><tr><td>91.08</td></tr><tr><td>105.77</td></tr><tr><td>74.88</td></tr><tr><td>123.15</td></tr><tr><td>184.25</td></tr><tr><td>117.69</td></tr><tr><td>55.26</td></tr><tr><td>106.51</td></tr><tr><td>55.27</td></tr><tr><td>98.42</td></tr><tr><td>99.2</td></tr><tr><td>98.92</td></tr><tr><td>92.7</td></tr><tr><td>106.7</td></tr><tr><td>152.81</td></tr><tr><td>82.59</td></tr><tr><td>91.0</td></tr><tr><td>93.88</td></tr><tr><td>76.99</td></tr><tr><td>254.6</td></tr><tr><td>93.99</td></tr><tr><td>109.68</td></tr><tr><td>92.04</td></tr><tr><td>111.41</td></tr><tr><td>97.92</td></tr><tr><td>65.61</td></tr><tr><td>62.37</td></tr><tr><td>101.28</td></tr><tr><td>88.31</td></tr><tr><td>103.55</td></tr><tr><td>60.26</td></tr><tr><td>79.39</td></tr><tr><td>122.01</td></tr><tr><td>78.09</td></tr><tr><td>89.7</td></tr><tr><td>95.1</td></tr><tr><td>112.64</td></tr><tr><td>79.8</td></tr><tr><td>82.2</td></tr><tr><td>108.89</td></tr><tr><td>114.32</td></tr><tr><td>116.14</td></tr><tr><td>122.74</td></tr><tr><td>94.04</td></tr><tr><td>86.6</td></tr><tr><td>82.32</td></tr><tr><td>83.83</td></tr><tr><td>106.98</td></tr><tr><td>93.88</td></tr><tr><td>70.53</td></tr><tr><td>212.01</td></tr><tr><td>65.88</td></tr><tr><td>106.97</td></tr><tr><td>126.35</td></tr><tr><td>129.16</td></tr><tr><td>88.66</td></tr><tr><td>112.95</td></tr><tr><td>81.59</td></tr><tr><td>76.82</td></tr><tr><td>73.75</td></tr><tr><td>91.56</td></tr><tr><td>104.55</td></tr><tr><td>84.84</td></tr><tr><td>86.06</td></tr><tr><td>109.1</td></tr><tr><td>68.35</td></tr><tr><td>121.04</td></tr><tr><td>160.83</td></tr><tr><td>85.62</td></tr><tr><td>74.23</td></tr><tr><td>110.76</td></tr><tr><td>79.44</td></tr><tr><td>119.52</td></tr><tr><td>90.42</td></tr><tr><td>109.32</td></tr><tr><td>78.16</td></tr><tr><td>79.13</td></tr><tr><td>84.06</td></tr><tr><td>89.3</td></tr><tr><td>69.21</td></tr><tr><td>186.45</td></tr><tr><td>58.47</td></tr><tr><td>189.49</td></tr><tr><td>99.6</td></tr><tr><td>126.18</td></tr><tr><td>186.32</td></tr><tr><td>62.49</td></tr><tr><td>74.51</td></tr><tr><td>94.63</td></tr><tr><td>91.98</td></tr><tr><td>56.77</td></tr><tr><td>75.87</td></tr><tr><td>77.19</td></tr><tr><td>135.75</td></tr><tr><td>100.15</td></tr><tr><td>95.08</td></tr><tr><td>125.38</td></tr><tr><td>111.71</td></tr><tr><td>94.64</td></tr><tr><td>226.7</td></tr><tr><td>112.96</td></tr><tr><td>183.1</td></tr><tr><td>105.36</td></tr><tr><td>84.13</td></tr><tr><td>102.47</td></tr><tr><td>77.04</td></tr><tr><td>83.23</td></tr><tr><td>87.01</td></tr><tr><td>56.99</td></tr><tr><td>73.01</td></tr><tr><td>106.35</td></tr><tr><td>80.63</td></tr><tr><td>103.61</td></tr><tr><td>91.35</td></tr><tr><td>194.04</td></tr><tr><td>111.99</td></tr><tr><td>57.51</td></tr><tr><td>68.49</td></tr><tr><td>60.2</td></tr><tr><td>160.0</td></tr><tr><td>86.96</td></tr><tr><td>237.15</td></tr><tr><td>99.06</td></tr><tr><td>56.31</td></tr><tr><td>84.31</td></tr><tr><td>90.92</td></tr><tr><td>104.33</td></tr><tr><td>62.61</td></tr><tr><td>231.19</td></tr><tr><td>94.3</td></tr><tr><td>104.48</td></tr><tr><td>72.62</td></tr><tr><td>81.64</td></tr><tr><td>90.78</td></tr><tr><td>70.71</td></tr><tr><td>72.36</td></tr><tr><td>59.76</td></tr><tr><td>83.76</td></tr><tr><td>63.64</td></tr><tr><td>76.26</td></tr><tr><td>82.06</td></tr><tr><td>110.91</td></tr><tr><td>77.16</td></tr><tr><td>69.58</td></tr><tr><td>96.26</td></tr><tr><td>87.27</td></tr><tr><td>65.36</td></tr><tr><td>109.51</td></tr><tr><td>89.03</td></tr><tr><td>91.34</td></tr><tr><td>57.82</td></tr><tr><td>81.15</td></tr><tr><td>115.29</td></tr><tr><td>111.02</td></tr><tr><td>111.61</td></tr><tr><td>109.02</td></tr><tr><td>106.51</td></tr><tr><td>207.32</td></tr><tr><td>87.11</td></tr><tr><td>61.68</td></tr><tr><td>119.04</td></tr><tr><td>86.05</td></tr><tr><td>70.03</td></tr><tr><td>207.64</td></tr><tr><td>236.84</td></tr><tr><td>78.11</td></tr><tr><td>100.97</td></tr><tr><td>99.21</td></tr><tr><td>113.21</td></tr><tr><td>92.95</td></tr><tr><td>110.16</td></tr><tr><td>142.57</td></tr><tr><td>92.87</td></tr><tr><td>111.48</td></tr><tr><td>123.0</td></tr><tr><td>100.54</td></tr><tr><td>106.68</td></tr><tr><td>86.4</td></tr><tr><td>61.81</td></tr><tr><td>128.28</td></tr><tr><td>204.63</td></tr><tr><td>89.98</td></tr><tr><td>232.89</td></tr><tr><td>98.58</td></tr><tr><td>57.94</td></tr><tr><td>123.21</td></tr><tr><td>76.34</td></tr><tr><td>92.98</td></tr><tr><td>92.81</td></tr><tr><td>85.16</td></tr><tr><td>90.1</td></tr><tr><td>65.15</td></tr><tr><td>104.62</td></tr><tr><td>113.25</td></tr><tr><td>59.28</td></tr><tr><td>93.07</td></tr><tr><td>77.42</td></tr><tr><td>73.69</td></tr><tr><td>74.9</td></tr><tr><td>88.27</td></tr><tr><td>58.39</td></tr><tr><td>102.05</td></tr><tr><td>112.47</td></tr><tr><td>72.84</td></tr><tr><td>195.03</td></tr><tr><td>170.95</td></tr><tr><td>87.98</td></tr><tr><td>65.81</td></tr><tr><td>124.6</td></tr><tr><td>83.65</td></tr><tr><td>88.81</td></tr><tr><td>86.75</td></tr><tr><td>123.36</td></tr><tr><td>89.68</td></tr><tr><td>69.87</td></tr><tr><td>109.22</td></tr><tr><td>157.57</td></tr><tr><td>110.73</td></tr><tr><td>99.14</td></tr><tr><td>59.15</td></tr><tr><td>165.11</td></tr><tr><td>77.44</td></tr><tr><td>100.33</td></tr><tr><td>57.93</td></tr><tr><td>148.24</td></tr><tr><td>91.96</td></tr><tr><td>72.93</td></tr><tr><td>84.27</td></tr><tr><td>124.45</td></tr><tr><td>90.51</td></tr><tr><td>118.87</td></tr><tr><td>56.42</td></tr><tr><td>73.67</td></tr><tr><td>89.11</td></tr></tbody></table></div>"
      ]
     },
     "metadata": {},
     "output_type": "display_data"
    }
   ],
   "source": [
    "#boxplot\n",
    "display(dataset_desafio.select('avg_glucose_level'))"
   ]
  },
  {
   "cell_type": "markdown",
   "metadata": {},
   "source": [
    "Pelo gráfico anterior, qual é o valor da mediana?"
   ]
  },
  {
   "cell_type": "markdown",
   "metadata": {},
   "source": [
    "Pelo gráfico anterior, o que podemos dizer sobre a existência ou não de outliers?"
   ]
  },
  {
   "cell_type": "code",
   "execution_count": 29,
   "metadata": {},
   "outputs": [
    {
     "data": {
      "text/html": [
       "<style scoped>\n",
       "  .table-result-container {\n",
       "    max-height: 300px;\n",
       "    overflow: auto;\n",
       "  }\n",
       "  table, th, td {\n",
       "    border: 1px solid black;\n",
       "    border-collapse: collapse;\n",
       "  }\n",
       "  th, td {\n",
       "    padding: 5px;\n",
       "  }\n",
       "  th {\n",
       "    text-align: left;\n",
       "  }\n",
       "</style><div class='table-result-container'><table class='table-result'><thead style='background-color: white'><tr><th>age</th></tr></thead><tbody><tr><td>67.0</td></tr><tr><td>61.0</td></tr><tr><td>80.0</td></tr><tr><td>49.0</td></tr><tr><td>79.0</td></tr><tr><td>81.0</td></tr><tr><td>74.0</td></tr><tr><td>69.0</td></tr><tr><td>59.0</td></tr><tr><td>78.0</td></tr><tr><td>81.0</td></tr><tr><td>61.0</td></tr><tr><td>54.0</td></tr><tr><td>78.0</td></tr><tr><td>79.0</td></tr><tr><td>50.0</td></tr><tr><td>64.0</td></tr><tr><td>75.0</td></tr><tr><td>60.0</td></tr><tr><td>57.0</td></tr><tr><td>71.0</td></tr><tr><td>52.0</td></tr><tr><td>79.0</td></tr><tr><td>82.0</td></tr><tr><td>71.0</td></tr><tr><td>80.0</td></tr><tr><td>65.0</td></tr><tr><td>58.0</td></tr><tr><td>69.0</td></tr><tr><td>59.0</td></tr><tr><td>57.0</td></tr><tr><td>42.0</td></tr><tr><td>82.0</td></tr><tr><td>80.0</td></tr><tr><td>48.0</td></tr><tr><td>82.0</td></tr><tr><td>74.0</td></tr><tr><td>72.0</td></tr><tr><td>58.0</td></tr><tr><td>49.0</td></tr><tr><td>78.0</td></tr><tr><td>54.0</td></tr><tr><td>82.0</td></tr><tr><td>63.0</td></tr><tr><td>60.0</td></tr><tr><td>76.0</td></tr><tr><td>75.0</td></tr><tr><td>58.0</td></tr><tr><td>81.0</td></tr><tr><td>39.0</td></tr><tr><td>76.0</td></tr><tr><td>78.0</td></tr><tr><td>79.0</td></tr><tr><td>77.0</td></tr><tr><td>63.0</td></tr><tr><td>63.0</td></tr><tr><td>82.0</td></tr><tr><td>78.0</td></tr><tr><td>73.0</td></tr><tr><td>54.0</td></tr><tr><td>56.0</td></tr><tr><td>80.0</td></tr><tr><td>67.0</td></tr><tr><td>45.0</td></tr><tr><td>75.0</td></tr><tr><td>78.0</td></tr><tr><td>70.0</td></tr><tr><td>76.0</td></tr><tr><td>59.0</td></tr><tr><td>80.0</td></tr><tr><td>76.0</td></tr><tr><td>67.0</td></tr><tr><td>66.0</td></tr><tr><td>63.0</td></tr><tr><td>52.0</td></tr><tr><td>80.0</td></tr><tr><td>80.0</td></tr><tr><td>79.0</td></tr><tr><td>51.0</td></tr><tr><td>43.0</td></tr><tr><td>59.0</td></tr><tr><td>66.0</td></tr><tr><td>79.0</td></tr><tr><td>68.0</td></tr><tr><td>58.0</td></tr><tr><td>54.0</td></tr><tr><td>61.0</td></tr><tr><td>70.0</td></tr><tr><td>47.0</td></tr><tr><td>74.0</td></tr><tr><td>79.0</td></tr><tr><td>81.0</td></tr><tr><td>57.0</td></tr><tr><td>80.0</td></tr><tr><td>45.0</td></tr><tr><td>78.0</td></tr><tr><td>70.0</td></tr><tr><td>58.0</td></tr><tr><td>57.0</td></tr><tr><td>69.0</td></tr><tr><td>64.0</td></tr><tr><td>77.0</td></tr><tr><td>74.0</td></tr><tr><td>81.0</td></tr><tr><td>57.0</td></tr><tr><td>58.0</td></tr><tr><td>50.0</td></tr><tr><td>54.0</td></tr><tr><td>79.0</td></tr><tr><td>53.0</td></tr><tr><td>79.0</td></tr><tr><td>80.0</td></tr><tr><td>76.0</td></tr><tr><td>45.0</td></tr><tr><td>68.0</td></tr><tr><td>71.0</td></tr><tr><td>61.0</td></tr><tr><td>74.0</td></tr><tr><td>38.0</td></tr><tr><td>77.0</td></tr><tr><td>58.0</td></tr><tr><td>53.0</td></tr><tr><td>80.0</td></tr><tr><td>56.0</td></tr><tr><td>72.0</td></tr><tr><td>72.0</td></tr><tr><td>78.0</td></tr><tr><td>80.0</td></tr><tr><td>82.0</td></tr><tr><td>75.0</td></tr><tr><td>73.0</td></tr><tr><td>78.0</td></tr><tr><td>69.0</td></tr><tr><td>38.0</td></tr><tr><td>68.0</td></tr><tr><td>71.0</td></tr><tr><td>76.0</td></tr><tr><td>76.0</td></tr><tr><td>76.0</td></tr><tr><td>75.0</td></tr><tr><td>82.0</td></tr><tr><td>59.0</td></tr><tr><td>74.0</td></tr><tr><td>69.0</td></tr><tr><td>72.0</td></tr><tr><td>66.0</td></tr><tr><td>65.0</td></tr><tr><td>78.0</td></tr><tr><td>57.0</td></tr><tr><td>70.0</td></tr><tr><td>79.0</td></tr><tr><td>68.0</td></tr><tr><td>80.0</td></tr><tr><td>68.0</td></tr><tr><td>55.0</td></tr><tr><td>77.0</td></tr><tr><td>50.0</td></tr><tr><td>57.0</td></tr><tr><td>71.0</td></tr><tr><td>81.0</td></tr><tr><td>76.0</td></tr><tr><td>71.0</td></tr><tr><td>1.32</td></tr><tr><td>78.0</td></tr><tr><td>70.0</td></tr><tr><td>78.0</td></tr><tr><td>56.0</td></tr><tr><td>79.0</td></tr><tr><td>79.0</td></tr><tr><td>81.0</td></tr><tr><td>64.0</td></tr><tr><td>79.0</td></tr><tr><td>60.0</td></tr><tr><td>80.0</td></tr><tr><td>78.0</td></tr><tr><td>72.0</td></tr><tr><td>80.0</td></tr><tr><td>78.0</td></tr><tr><td>80.0</td></tr><tr><td>81.0</td></tr><tr><td>46.0</td></tr><tr><td>59.0</td></tr><tr><td>32.0</td></tr><tr><td>77.0</td></tr><tr><td>61.0</td></tr><tr><td>63.0</td></tr><tr><td>63.0</td></tr><tr><td>82.0</td></tr><tr><td>82.0</td></tr><tr><td>61.0</td></tr><tr><td>65.0</td></tr><tr><td>51.0</td></tr><tr><td>59.0</td></tr><tr><td>68.0</td></tr><tr><td>72.0</td></tr><tr><td>59.0</td></tr><tr><td>70.0</td></tr><tr><td>69.0</td></tr><tr><td>79.0</td></tr><tr><td>74.0</td></tr><tr><td>74.0</td></tr><tr><td>80.0</td></tr><tr><td>77.0</td></tr><tr><td>78.0</td></tr><tr><td>54.0</td></tr><tr><td>78.0</td></tr><tr><td>81.0</td></tr><tr><td>78.0</td></tr><tr><td>78.0</td></tr><tr><td>63.0</td></tr><tr><td>39.0</td></tr><tr><td>51.0</td></tr><tr><td>63.0</td></tr><tr><td>48.0</td></tr><tr><td>81.0</td></tr><tr><td>79.0</td></tr><tr><td>78.0</td></tr><tr><td>55.0</td></tr><tr><td>76.0</td></tr><tr><td>73.0</td></tr><tr><td>81.0</td></tr><tr><td>79.0</td></tr><tr><td>63.0</td></tr><tr><td>81.0</td></tr><tr><td>49.0</td></tr><tr><td>57.0</td></tr><tr><td>81.0</td></tr><tr><td>74.0</td></tr><tr><td>39.0</td></tr><tr><td>80.0</td></tr><tr><td>81.0</td></tr><tr><td>79.0</td></tr><tr><td>73.0</td></tr><tr><td>77.0</td></tr><tr><td>78.0</td></tr><tr><td>68.0</td></tr><tr><td>57.0</td></tr><tr><td>77.0</td></tr><tr><td>51.0</td></tr><tr><td>60.0</td></tr><tr><td>66.0</td></tr><tr><td>57.0</td></tr><tr><td>68.0</td></tr><tr><td>68.0</td></tr><tr><td>57.0</td></tr><tr><td>14.0</td></tr><tr><td>75.0</td></tr><tr><td>71.0</td></tr><tr><td>78.0</td></tr><tr><td>3.0</td></tr><tr><td>58.0</td></tr><tr><td>8.0</td></tr><tr><td>70.0</td></tr><tr><td>14.0</td></tr><tr><td>47.0</td></tr><tr><td>52.0</td></tr><tr><td>75.0</td></tr><tr><td>32.0</td></tr><tr><td>74.0</td></tr><tr><td>79.0</td></tr><tr><td>79.0</td></tr><tr><td>37.0</td></tr><tr><td>37.0</td></tr><tr><td>40.0</td></tr><tr><td>35.0</td></tr><tr><td>20.0</td></tr><tr><td>42.0</td></tr><tr><td>44.0</td></tr><tr><td>79.0</td></tr><tr><td>65.0</td></tr><tr><td>57.0</td></tr><tr><td>49.0</td></tr><tr><td>71.0</td></tr><tr><td>59.0</td></tr><tr><td>25.0</td></tr><tr><td>67.0</td></tr><tr><td>38.0</td></tr><tr><td>54.0</td></tr><tr><td>70.0</td></tr><tr><td>27.0</td></tr><tr><td>47.0</td></tr><tr><td>58.0</td></tr><tr><td>3.0</td></tr><tr><td>58.0</td></tr><tr><td>14.0</td></tr><tr><td>32.0</td></tr><tr><td>23.0</td></tr><tr><td>55.0</td></tr><tr><td>17.0</td></tr><tr><td>59.0</td></tr><tr><td>13.0</td></tr><tr><td>4.0</td></tr><tr><td>16.0</td></tr><tr><td>67.0</td></tr><tr><td>22.0</td></tr><tr><td>45.0</td></tr><tr><td>66.0</td></tr><tr><td>58.0</td></tr><tr><td>69.0</td></tr><tr><td>58.0</td></tr><tr><td>53.0</td></tr><tr><td>78.0</td></tr><tr><td>44.0</td></tr><tr><td>66.0</td></tr><tr><td>27.0</td></tr><tr><td>43.0</td></tr><tr><td>13.0</td></tr><tr><td>51.0</td></tr><tr><td>30.0</td></tr><tr><td>46.0</td></tr><tr><td>43.0</td></tr><tr><td>79.0</td></tr><tr><td>27.0</td></tr><tr><td>38.0</td></tr><tr><td>78.0</td></tr><tr><td>57.0</td></tr><tr><td>61.0</td></tr><tr><td>37.0</td></tr><tr><td>48.0</td></tr><tr><td>29.0</td></tr><tr><td>22.0</td></tr><tr><td>11.0</td></tr><tr><td>22.0</td></tr><tr><td>53.0</td></tr><tr><td>27.0</td></tr><tr><td>76.0</td></tr><tr><td>57.0</td></tr><tr><td>8.0</td></tr><tr><td>21.0</td></tr><tr><td>18.0</td></tr><tr><td>78.0</td></tr><tr><td>78.0</td></tr><tr><td>33.0</td></tr><tr><td>52.0</td></tr><tr><td>51.0</td></tr><tr><td>11.0</td></tr><tr><td>48.0</td></tr><tr><td>82.0</td></tr><tr><td>54.0</td></tr><tr><td>49.0</td></tr><tr><td>24.0</td></tr><tr><td>37.0</td></tr><tr><td>34.0</td></tr><tr><td>64.0</td></tr><tr><td>66.0</td></tr><tr><td>23.0</td></tr><tr><td>68.0</td></tr><tr><td>55.0</td></tr><tr><td>25.0</td></tr><tr><td>48.0</td></tr><tr><td>79.0</td></tr><tr><td>47.0</td></tr><tr><td>20.0</td></tr><tr><td>60.0</td></tr><tr><td>32.0</td></tr><tr><td>66.0</td></tr><tr><td>43.0</td></tr><tr><td>36.0</td></tr><tr><td>52.0</td></tr><tr><td>29.0</td></tr><tr><td>76.0</td></tr><tr><td>39.0</td></tr><tr><td>76.0</td></tr><tr><td>0.64</td></tr><tr><td>34.0</td></tr><tr><td>72.0</td></tr><tr><td>43.0</td></tr><tr><td>57.0</td></tr><tr><td>44.0</td></tr><tr><td>4.0</td></tr><tr><td>44.0</td></tr><tr><td>18.0</td></tr><tr><td>41.0</td></tr><tr><td>23.0</td></tr><tr><td>53.0</td></tr><tr><td>56.0</td></tr><tr><td>0.88</td></tr><tr><td>25.0</td></tr><tr><td>14.0</td></tr><tr><td>53.0</td></tr><tr><td>4.0</td></tr><tr><td>39.0</td></tr><tr><td>53.0</td></tr><tr><td>5.0</td></tr><tr><td>4.0</td></tr><tr><td>37.0</td></tr><tr><td>70.0</td></tr><tr><td>24.0</td></tr><tr><td>55.0</td></tr><tr><td>70.0</td></tr><tr><td>34.0</td></tr><tr><td>26.0</td></tr><tr><td>39.0</td></tr><tr><td>38.0</td></tr><tr><td>20.0</td></tr><tr><td>17.0</td></tr><tr><td>60.0</td></tr><tr><td>75.0</td></tr><tr><td>31.0</td></tr><tr><td>58.0</td></tr><tr><td>5.0</td></tr><tr><td>13.0</td></tr><tr><td>22.0</td></tr><tr><td>52.0</td></tr><tr><td>61.0</td></tr><tr><td>78.0</td></tr><tr><td>57.0</td></tr><tr><td>21.0</td></tr><tr><td>22.0</td></tr><tr><td>80.0</td></tr><tr><td>7.0</td></tr><tr><td>64.0</td></tr><tr><td>64.0</td></tr><tr><td>38.0</td></tr><tr><td>12.0</td></tr><tr><td>33.0</td></tr><tr><td>3.0</td></tr><tr><td>37.0</td></tr><tr><td>22.0</td></tr><tr><td>24.0</td></tr><tr><td>75.0</td></tr><tr><td>12.0</td></tr><tr><td>63.0</td></tr><tr><td>52.0</td></tr><tr><td>68.0</td></tr><tr><td>5.0</td></tr><tr><td>56.0</td></tr><tr><td>43.0</td></tr><tr><td>40.0</td></tr><tr><td>53.0</td></tr><tr><td>52.0</td></tr><tr><td>31.0</td></tr><tr><td>63.0</td></tr><tr><td>69.0</td></tr><tr><td>64.0</td></tr><tr><td>64.0</td></tr><tr><td>62.0</td></tr><tr><td>2.0</td></tr><tr><td>53.0</td></tr><tr><td>65.0</td></tr><tr><td>22.0</td></tr><tr><td>26.0</td></tr><tr><td>53.0</td></tr><tr><td>20.0</td></tr><tr><td>63.0</td></tr><tr><td>13.0</td></tr><tr><td>21.0</td></tr><tr><td>65.0</td></tr><tr><td>65.0</td></tr><tr><td>42.0</td></tr><tr><td>72.0</td></tr><tr><td>13.0</td></tr><tr><td>29.0</td></tr><tr><td>59.0</td></tr><tr><td>42.0</td></tr><tr><td>13.0</td></tr><tr><td>75.0</td></tr><tr><td>33.0</td></tr><tr><td>43.0</td></tr><tr><td>11.0</td></tr><tr><td>7.0</td></tr><tr><td>16.0</td></tr><tr><td>44.0</td></tr><tr><td>78.0</td></tr><tr><td>25.0</td></tr><tr><td>69.0</td></tr><tr><td>61.0</td></tr><tr><td>43.0</td></tr><tr><td>38.0</td></tr><tr><td>68.0</td></tr><tr><td>26.0</td></tr><tr><td>18.0</td></tr><tr><td>43.0</td></tr><tr><td>43.0</td></tr><tr><td>32.0</td></tr><tr><td>81.0</td></tr><tr><td>25.0</td></tr><tr><td>61.0</td></tr><tr><td>66.0</td></tr><tr><td>54.0</td></tr><tr><td>11.0</td></tr><tr><td>53.0</td></tr><tr><td>78.0</td></tr><tr><td>9.0</td></tr><tr><td>48.0</td></tr><tr><td>31.0</td></tr><tr><td>20.0</td></tr><tr><td>21.0</td></tr><tr><td>42.0</td></tr><tr><td>35.0</td></tr><tr><td>53.0</td></tr><tr><td>60.0</td></tr><tr><td>74.0</td></tr><tr><td>23.0</td></tr><tr><td>55.0</td></tr><tr><td>71.0</td></tr><tr><td>5.0</td></tr><tr><td>14.0</td></tr><tr><td>15.0</td></tr><tr><td>66.0</td></tr><tr><td>56.0</td></tr><tr><td>60.0</td></tr><tr><td>57.0</td></tr><tr><td>29.0</td></tr><tr><td>76.0</td></tr><tr><td>52.0</td></tr><tr><td>42.0</td></tr><tr><td>71.0</td></tr><tr><td>64.0</td></tr><tr><td>39.0</td></tr><tr><td>46.0</td></tr><tr><td>51.0</td></tr><tr><td>31.0</td></tr><tr><td>22.0</td></tr><tr><td>41.0</td></tr><tr><td>28.0</td></tr><tr><td>44.0</td></tr><tr><td>68.0</td></tr><tr><td>49.0</td></tr><tr><td>10.0</td></tr><tr><td>31.0</td></tr><tr><td>67.0</td></tr><tr><td>40.0</td></tr><tr><td>70.0</td></tr><tr><td>38.0</td></tr><tr><td>5.0</td></tr><tr><td>54.0</td></tr><tr><td>30.0</td></tr><tr><td>23.0</td></tr><tr><td>31.0</td></tr><tr><td>72.0</td></tr><tr><td>23.0</td></tr><tr><td>25.0</td></tr><tr><td>51.0</td></tr><tr><td>20.0</td></tr><tr><td>12.0</td></tr><tr><td>57.0</td></tr><tr><td>65.0</td></tr><tr><td>16.0</td></tr><tr><td>43.0</td></tr><tr><td>30.0</td></tr><tr><td>29.0</td></tr><tr><td>54.0</td></tr><tr><td>57.0</td></tr><tr><td>42.0</td></tr><tr><td>18.0</td></tr><tr><td>9.0</td></tr><tr><td>26.0</td></tr><tr><td>40.0</td></tr><tr><td>77.0</td></tr><tr><td>15.0</td></tr><tr><td>76.0</td></tr><tr><td>52.0</td></tr><tr><td>55.0</td></tr><tr><td>5.0</td></tr><tr><td>55.0</td></tr><tr><td>36.0</td></tr><tr><td>46.0</td></tr><tr><td>5.0</td></tr><tr><td>39.0</td></tr><tr><td>12.0</td></tr><tr><td>67.0</td></tr><tr><td>1.8</td></tr><tr><td>72.0</td></tr><tr><td>0.32</td></tr><tr><td>64.0</td></tr><tr><td>27.0</td></tr><tr><td>25.0</td></tr><tr><td>81.0</td></tr><tr><td>32.0</td></tr><tr><td>57.0</td></tr><tr><td>52.0</td></tr><tr><td>54.0</td></tr><tr><td>36.0</td></tr><tr><td>18.0</td></tr><tr><td>45.0</td></tr><tr><td>29.0</td></tr><tr><td>51.0</td></tr><tr><td>23.0</td></tr><tr><td>54.0</td></tr><tr><td>54.0</td></tr><tr><td>18.0</td></tr><tr><td>26.0</td></tr><tr><td>72.0</td></tr><tr><td>5.0</td></tr><tr><td>65.0</td></tr><tr><td>42.0</td></tr><tr><td>47.0</td></tr><tr><td>24.0</td></tr><tr><td>57.0</td></tr><tr><td>51.0</td></tr><tr><td>48.0</td></tr><tr><td>56.0</td></tr><tr><td>30.0</td></tr><tr><td>63.0</td></tr><tr><td>46.0</td></tr><tr><td>53.0</td></tr><tr><td>1.08</td></tr><tr><td>15.0</td></tr><tr><td>59.0</td></tr><tr><td>24.0</td></tr><tr><td>53.0</td></tr><tr><td>39.0</td></tr><tr><td>23.0</td></tr><tr><td>31.0</td></tr><tr><td>5.0</td></tr><tr><td>44.0</td></tr><tr><td>1.8</td></tr><tr><td>40.0</td></tr><tr><td>7.0</td></tr><tr><td>56.0</td></tr><tr><td>42.0</td></tr><tr><td>48.0</td></tr><tr><td>82.0</td></tr><tr><td>52.0</td></tr><tr><td>42.0</td></tr><tr><td>73.0</td></tr><tr><td>55.0</td></tr><tr><td>50.0</td></tr><tr><td>43.0</td></tr><tr><td>33.0</td></tr><tr><td>80.0</td></tr><tr><td>33.0</td></tr><tr><td>74.0</td></tr><tr><td>65.0</td></tr><tr><td>40.0</td></tr><tr><td>52.0</td></tr><tr><td>66.0</td></tr><tr><td>20.0</td></tr><tr><td>51.0</td></tr><tr><td>60.0</td></tr><tr><td>59.0</td></tr><tr><td>58.0</td></tr><tr><td>42.0</td></tr><tr><td>28.0</td></tr><tr><td>57.0</td></tr><tr><td>66.0</td></tr><tr><td>56.0</td></tr><tr><td>48.0</td></tr><tr><td>37.0</td></tr><tr><td>27.0</td></tr><tr><td>15.0</td></tr><tr><td>61.0</td></tr><tr><td>80.0</td></tr><tr><td>43.0</td></tr><tr><td>53.0</td></tr><tr><td>70.0</td></tr><tr><td>58.0</td></tr><tr><td>49.0</td></tr><tr><td>65.0</td></tr><tr><td>54.0</td></tr><tr><td>74.0</td></tr><tr><td>56.0</td></tr><tr><td>79.0</td></tr><tr><td>71.0</td></tr><tr><td>28.0</td></tr><tr><td>9.0</td></tr><tr><td>4.0</td></tr><tr><td>36.0</td></tr><tr><td>78.0</td></tr><tr><td>52.0</td></tr><tr><td>80.0</td></tr><tr><td>28.0</td></tr><tr><td>38.0</td></tr><tr><td>56.0</td></tr><tr><td>75.0</td></tr><tr><td>76.0</td></tr><tr><td>10.0</td></tr><tr><td>48.0</td></tr><tr><td>40.0</td></tr><tr><td>82.0</td></tr><tr><td>61.0</td></tr><tr><td>17.0</td></tr><tr><td>58.0</td></tr><tr><td>12.0</td></tr><tr><td>53.0</td></tr><tr><td>26.0</td></tr><tr><td>48.0</td></tr><tr><td>25.0</td></tr><tr><td>27.0</td></tr><tr><td>31.0</td></tr><tr><td>16.0</td></tr><tr><td>20.0</td></tr><tr><td>2.0</td></tr><tr><td>1.8</td></tr><tr><td>28.0</td></tr><tr><td>32.0</td></tr><tr><td>35.0</td></tr><tr><td>52.0</td></tr><tr><td>55.0</td></tr><tr><td>42.0</td></tr><tr><td>52.0</td></tr><tr><td>18.0</td></tr><tr><td>13.0</td></tr><tr><td>45.0</td></tr><tr><td>29.0</td></tr><tr><td>12.0</td></tr><tr><td>37.0</td></tr><tr><td>30.0</td></tr><tr><td>44.0</td></tr><tr><td>79.0</td></tr><tr><td>38.0</td></tr><tr><td>45.0</td></tr><tr><td>66.0</td></tr><tr><td>19.0</td></tr><tr><td>49.0</td></tr><tr><td>66.0</td></tr><tr><td>47.0</td></tr><tr><td>59.0</td></tr><tr><td>23.0</td></tr><tr><td>79.0</td></tr><tr><td>37.0</td></tr><tr><td>78.0</td></tr><tr><td>70.0</td></tr><tr><td>34.0</td></tr><tr><td>28.0</td></tr><tr><td>29.0</td></tr><tr><td>13.0</td></tr><tr><td>22.0</td></tr><tr><td>56.0</td></tr><tr><td>81.0</td></tr><tr><td>28.0</td></tr><tr><td>9.0</td></tr><tr><td>50.0</td></tr><tr><td>70.0</td></tr><tr><td>30.0</td></tr><tr><td>51.0</td></tr><tr><td>24.0</td></tr><tr><td>17.0</td></tr><tr><td>43.0</td></tr><tr><td>9.0</td></tr><tr><td>50.0</td></tr><tr><td>49.0</td></tr><tr><td>6.0</td></tr><tr><td>30.0</td></tr><tr><td>73.0</td></tr><tr><td>20.0</td></tr><tr><td>42.0</td></tr><tr><td>79.0</td></tr><tr><td>55.0</td></tr><tr><td>27.0</td></tr><tr><td>71.0</td></tr><tr><td>9.0</td></tr><tr><td>23.0</td></tr><tr><td>71.0</td></tr><tr><td>56.0</td></tr><tr><td>31.0</td></tr><tr><td>64.0</td></tr><tr><td>46.0</td></tr><tr><td>55.0</td></tr><tr><td>2.0</td></tr><tr><td>58.0</td></tr><tr><td>78.0</td></tr><tr><td>1.16</td></tr><tr><td>35.0</td></tr><tr><td>64.0</td></tr><tr><td>18.0</td></tr><tr><td>19.0</td></tr><tr><td>47.0</td></tr><tr><td>54.0</td></tr><tr><td>39.0</td></tr><tr><td>37.0</td></tr><tr><td>17.0</td></tr><tr><td>20.0</td></tr><tr><td>31.0</td></tr><tr><td>56.0</td></tr><tr><td>31.0</td></tr><tr><td>82.0</td></tr><tr><td>33.0</td></tr><tr><td>42.0</td></tr><tr><td>20.0</td></tr><tr><td>22.0</td></tr><tr><td>61.0</td></tr><tr><td>31.0</td></tr><tr><td>31.0</td></tr><tr><td>17.0</td></tr><tr><td>30.0</td></tr><tr><td>69.0</td></tr><tr><td>63.0</td></tr><tr><td>19.0</td></tr><tr><td>7.0</td></tr><tr><td>51.0</td></tr><tr><td>38.0</td></tr><tr><td>2.0</td></tr><tr><td>58.0</td></tr><tr><td>69.0</td></tr><tr><td>64.0</td></tr><tr><td>31.0</td></tr><tr><td>59.0</td></tr><tr><td>54.0</td></tr><tr><td>24.0</td></tr><tr><td>19.0</td></tr><tr><td>17.0</td></tr><tr><td>29.0</td></tr><tr><td>42.0</td></tr><tr><td>31.0</td></tr><tr><td>29.0</td></tr><tr><td>23.0</td></tr><tr><td>25.0</td></tr><tr><td>14.0</td></tr><tr><td>66.0</td></tr><tr><td>77.0</td></tr><tr><td>79.0</td></tr><tr><td>52.0</td></tr><tr><td>41.0</td></tr><tr><td>31.0</td></tr><tr><td>39.0</td></tr><tr><td>51.0</td></tr><tr><td>40.0</td></tr><tr><td>48.0</td></tr><tr><td>55.0</td></tr><tr><td>41.0</td></tr><tr><td>39.0</td></tr><tr><td>41.0</td></tr><tr><td>5.0</td></tr><tr><td>38.0</td></tr><tr><td>40.0</td></tr><tr><td>12.0</td></tr><tr><td>20.0</td></tr><tr><td>53.0</td></tr><tr><td>21.0</td></tr><tr><td>70.0</td></tr><tr><td>61.0</td></tr><tr><td>70.0</td></tr><tr><td>38.0</td></tr><tr><td>59.0</td></tr><tr><td>36.0</td></tr><tr><td>31.0</td></tr><tr><td>65.0</td></tr><tr><td>61.0</td></tr><tr><td>2.0</td></tr><tr><td>52.0</td></tr><tr><td>33.0</td></tr><tr><td>5.0</td></tr><tr><td>32.0</td></tr><tr><td>54.0</td></tr><tr><td>51.0</td></tr><tr><td>39.0</td></tr><tr><td>40.0</td></tr><tr><td>19.0</td></tr><tr><td>9.0</td></tr><tr><td>53.0</td></tr><tr><td>23.0</td></tr><tr><td>19.0</td></tr><tr><td>1.0</td></tr><tr><td>48.0</td></tr><tr><td>71.0</td></tr><tr><td>44.0</td></tr><tr><td>53.0</td></tr><tr><td>70.0</td></tr><tr><td>1.4</td></tr><tr><td>49.0</td></tr><tr><td>17.0</td></tr><tr><td>40.0</td></tr><tr><td>46.0</td></tr><tr><td>32.0</td></tr><tr><td>2.0</td></tr><tr><td>40.0</td></tr><tr><td>19.0</td></tr><tr><td>43.0</td></tr><tr><td>46.0</td></tr><tr><td>71.0</td></tr><tr><td>31.0</td></tr><tr><td>41.0</td></tr><tr><td>65.0</td></tr><tr><td>52.0</td></tr><tr><td>20.0</td></tr><tr><td>77.0</td></tr><tr><td>51.0</td></tr><tr><td>37.0</td></tr><tr><td>49.0</td></tr><tr><td>62.0</td></tr><tr><td>17.0</td></tr><tr><td>28.0</td></tr><tr><td>80.0</td></tr><tr><td>45.0</td></tr><tr><td>37.0</td></tr><tr><td>3.0</td></tr><tr><td>26.0</td></tr><tr><td>71.0</td></tr><tr><td>58.0</td></tr><tr><td>59.0</td></tr><tr><td>74.0</td></tr><tr><td>17.0</td></tr><tr><td>62.0</td></tr><tr><td>37.0</td></tr><tr><td>19.0</td></tr><tr><td>59.0</td></tr><tr><td>59.0</td></tr><tr><td>62.0</td></tr><tr><td>80.0</td></tr><tr><td>54.0</td></tr><tr><td>27.0</td></tr><tr><td>4.0</td></tr><tr><td>81.0</td></tr><tr><td>41.0</td></tr><tr><td>27.0</td></tr><tr><td>51.0</td></tr><tr><td>59.0</td></tr><tr><td>51.0</td></tr><tr><td>71.0</td></tr><tr><td>48.0</td></tr><tr><td>49.0</td></tr><tr><td>35.0</td></tr><tr><td>25.0</td></tr><tr><td>31.0</td></tr><tr><td>68.0</td></tr><tr><td>39.0</td></tr><tr><td>32.0</td></tr><tr><td>39.0</td></tr><tr><td>63.0</td></tr><tr><td>69.0</td></tr><tr><td>29.0</td></tr><tr><td>1.72</td></tr><tr><td>58.0</td></tr><tr><td>32.0</td></tr><tr><td>63.0</td></tr><tr><td>57.0</td></tr><tr><td>77.0</td></tr><tr><td>8.0</td></tr><tr><td>21.0</td></tr><tr><td>16.0</td></tr><tr><td>8.0</td></tr><tr><td>71.0</td></tr><tr><td>74.0</td></tr><tr><td>7.0</td></tr><tr><td>19.0</td></tr><tr><td>64.0</td></tr><tr><td>23.0</td></tr><tr><td>75.0</td></tr><tr><td>80.0</td></tr><tr><td>40.0</td></tr><tr><td>24.0</td></tr><tr><td>74.0</td></tr><tr><td>52.0</td></tr><tr><td>54.0</td></tr><tr><td>23.0</td></tr><tr><td>19.0</td></tr><tr><td>23.0</td></tr><tr><td>13.0</td></tr><tr><td>51.0</td></tr><tr><td>60.0</td></tr><tr><td>79.0</td></tr><tr><td>75.0</td></tr><tr><td>69.0</td></tr><tr><td>57.0</td></tr><tr><td>47.0</td></tr><tr><td>33.0</td></tr><tr><td>51.0</td></tr><tr><td>47.0</td></tr><tr><td>15.0</td></tr><tr><td>1.0</td></tr><tr><td>20.0</td></tr><tr><td>6.0</td></tr><tr><td>50.0</td></tr><tr><td>31.0</td></tr><tr><td>15.0</td></tr><tr><td>3.0</td></tr><tr><td>30.0</td></tr><tr><td>17.0</td></tr><tr><td>24.0</td></tr><tr><td>5.0</td></tr><tr><td>33.0</td></tr><tr><td>30.0</td></tr><tr><td>66.0</td></tr><tr><td>40.0</td></tr><tr><td>27.0</td></tr><tr><td>21.0</td></tr><tr><td>55.0</td></tr><tr><td>19.0</td></tr><tr><td>75.0</td></tr><tr><td>71.0</td></tr><tr><td>16.0</td></tr><tr><td>49.0</td></tr><tr><td>10.0</td></tr><tr><td>37.0</td></tr><tr><td>59.0</td></tr><tr><td>7.0</td></tr><tr><td>61.0</td></tr><tr><td>34.0</td></tr><tr><td>9.0</td></tr><tr><td>46.0</td></tr><tr><td>0.88</td></tr><tr><td>50.0</td></tr><tr><td>19.0</td></tr><tr><td>21.0</td></tr><tr><td>2.0</td></tr><tr><td>37.0</td></tr><tr><td>20.0</td></tr><tr><td>50.0</td></tr><tr><td>61.0</td></tr><tr><td>48.0</td></tr><tr><td>82.0</td></tr><tr><td>64.0</td></tr><tr><td>50.0</td></tr><tr><td>1.4</td></tr><tr><td>0.24</td></tr><tr><td>55.0</td></tr><tr><td>29.0</td></tr><tr><td>4.0</td></tr></tbody></table></div>"
      ]
     },
     "metadata": {},
     "output_type": "display_data"
    }
   ],
   "source": [
    "#boxplot\n",
    "display(dataset_desafio.select('age'))"
   ]
  },
  {
   "cell_type": "markdown",
   "metadata": {},
   "source": [
    "Pelo gráfico anterior, qual é o valor do primeiro quartil?"
   ]
  },
  {
   "cell_type": "markdown",
   "metadata": {},
   "source": [
    "Pelo gráfico anterior, o que podemos dizer sobre os outliers?"
   ]
  },
  {
   "cell_type": "markdown",
   "metadata": {},
   "source": [
    "3) Pré-processamento dos dados"
   ]
  },
  {
   "cell_type": "code",
   "execution_count": 33,
   "metadata": {},
   "outputs": [
    {
     "data": {
      "text/html": [
       "<style scoped>\n",
       "  .ansiout {\n",
       "    display: block;\n",
       "    unicode-bidi: embed;\n",
       "    white-space: pre-wrap;\n",
       "    word-wrap: break-word;\n",
       "    word-break: break-all;\n",
       "    font-family: \"Source Code Pro\", \"Menlo\", monospace;;\n",
       "    font-size: 13px;\n",
       "    color: #555;\n",
       "    margin-left: 4px;\n",
       "    line-height: 19px;\n",
       "  }\n",
       "</style>\n",
       "<div class=\"ansiout\">+--------------+---------------------+\n",
       "Residence_type|count(Residence_type)|\n",
       "+--------------+---------------------+\n",
       "         Rural|                 2514|\n",
       "         Urban|                 2596|\n",
       "+--------------+---------------------+\n",
       "\n",
       "</div>"
      ]
     },
     "metadata": {},
     "output_type": "display_data"
    }
   ],
   "source": [
    "#contando a quantidade de valores desconhecidos\n",
    "from pyspark.sql.functions import *\n",
    "dataset_desafio.groupby('Residence_type').agg({'Residence_type': 'count'}).sort(asc(\"count(Residence_type)\")).show()"
   ]
  },
  {
   "cell_type": "markdown",
   "metadata": {},
   "source": [
    "Quantas classes diferentes de trabalho (work_type) existem no dataset? Fiquem atentos, pois não é essa informação que o tabela anterior está exibindo."
   ]
  },
  {
   "cell_type": "code",
   "execution_count": 35,
   "metadata": {},
   "outputs": [
    {
     "data": {
      "text/html": [
       "<style scoped>\n",
       "  .ansiout {\n",
       "    display: block;\n",
       "    unicode-bidi: embed;\n",
       "    white-space: pre-wrap;\n",
       "    word-wrap: break-word;\n",
       "    word-break: break-all;\n",
       "    font-family: \"Source Code Pro\", \"Menlo\", monospace;;\n",
       "    font-size: 13px;\n",
       "    color: #555;\n",
       "    margin-left: 4px;\n",
       "    line-height: 19px;\n",
       "  }\n",
       "</style>\n",
       "<div class=\"ansiout\"></div>"
      ]
     },
     "metadata": {},
     "output_type": "display_data"
    }
   ],
   "source": [
    "from pyspark.sql.functions import mean\n",
    "mean = dataset_desafio.select(mean(dataset_desafio['bmi'])).collect()\n",
    "mean_bmi = mean[0][0]\n",
    "dataset_desafio = dataset_desafio.na.fill(mean_bmi,['bmi'])"
   ]
  },
  {
   "cell_type": "code",
   "execution_count": 36,
   "metadata": {},
   "outputs": [
    {
     "data": {
      "text/html": [
       "<style scoped>\n",
       "  .ansiout {\n",
       "    display: block;\n",
       "    unicode-bidi: embed;\n",
       "    white-space: pre-wrap;\n",
       "    word-wrap: break-word;\n",
       "    word-break: break-all;\n",
       "    font-family: \"Source Code Pro\", \"Menlo\", monospace;;\n",
       "    font-size: 13px;\n",
       "    color: #555;\n",
       "    margin-left: 4px;\n",
       "    line-height: 19px;\n",
       "  }\n",
       "</style>\n",
       "<div class=\"ansiout\"></div>"
      ]
     },
     "metadata": {},
     "output_type": "display_data"
    }
   ],
   "source": [
    "#aplicando o filtro para as colunas que possuem valores não conhecidos\n",
    "dataset_filtrado=dataset_desafio.filter((dataset_desafio['bmi'] != 'N/A') & (dataset_desafio['smoking_status'] > 'Unknown'))"
   ]
  },
  {
   "cell_type": "code",
   "execution_count": 37,
   "metadata": {},
   "outputs": [
    {
     "data": {
      "text/html": [
       "<style scoped>\n",
       "  .ansiout {\n",
       "    display: block;\n",
       "    unicode-bidi: embed;\n",
       "    white-space: pre-wrap;\n",
       "    word-wrap: break-word;\n",
       "    word-break: break-all;\n",
       "    font-family: \"Source Code Pro\", \"Menlo\", monospace;;\n",
       "    font-size: 13px;\n",
       "    color: #555;\n",
       "    margin-left: 4px;\n",
       "    line-height: 19px;\n",
       "  }\n",
       "</style>\n",
       "<div class=\"ansiout\"></div>"
      ]
     },
     "metadata": {},
     "output_type": "display_data"
    }
   ],
   "source": [
    "# aplicando a transformação dos dados categóricos\n",
    "from pyspark.ml.feature import VectorAssembler,OneHotEncoder, StringIndexer"
   ]
  },
  {
   "cell_type": "code",
   "execution_count": 38,
   "metadata": {},
   "outputs": [
    {
     "data": {
      "text/html": [
       "<style scoped>\n",
       "  .ansiout {\n",
       "    display: block;\n",
       "    unicode-bidi: embed;\n",
       "    white-space: pre-wrap;\n",
       "    word-wrap: break-word;\n",
       "    word-break: break-all;\n",
       "    font-family: \"Source Code Pro\", \"Menlo\", monospace;;\n",
       "    font-size: 13px;\n",
       "    color: #555;\n",
       "    margin-left: 4px;\n",
       "    line-height: 19px;\n",
       "  }\n",
       "</style>\n",
       "<div class=\"ansiout\"></div>"
      ]
     },
     "metadata": {},
     "output_type": "display_data"
    }
   ],
   "source": [
    "#define a transformação para a variável \"gender\"\n",
    "stringIndexer_gender=StringIndexer(inputCol=\"gender\", outputCol=\"gender_encoded\")  #label encoding\n",
    "encoder_gender = OneHotEncoder(dropLast=False, inputCol=\"gender_encoded\", outputCol=\"genderVec\") #one-hot encoding"
   ]
  },
  {
   "cell_type": "code",
   "execution_count": 39,
   "metadata": {},
   "outputs": [
    {
     "data": {
      "text/html": [
       "<style scoped>\n",
       "  .ansiout {\n",
       "    display: block;\n",
       "    unicode-bidi: embed;\n",
       "    white-space: pre-wrap;\n",
       "    word-wrap: break-word;\n",
       "    word-break: break-all;\n",
       "    font-family: \"Source Code Pro\", \"Menlo\", monospace;;\n",
       "    font-size: 13px;\n",
       "    color: #555;\n",
       "    margin-left: 4px;\n",
       "    line-height: 19px;\n",
       "  }\n",
       "</style>\n",
       "<div class=\"ansiout\"></div>"
      ]
     },
     "metadata": {},
     "output_type": "display_data"
    }
   ],
   "source": [
    "#define a transformação para a variável \"ever_married\"\n",
    "stringIndexer_married=StringIndexer(inputCol=\"ever_married\", outputCol=\"ever_married_encoded\") #label encoding\n",
    "encoder_married = OneHotEncoder(dropLast=False, inputCol=\"ever_married_encoded\", outputCol=\"marriedVec\") #one-hot encoding"
   ]
  },
  {
   "cell_type": "code",
   "execution_count": 40,
   "metadata": {},
   "outputs": [
    {
     "data": {
      "text/html": [
       "<style scoped>\n",
       "  .ansiout {\n",
       "    display: block;\n",
       "    unicode-bidi: embed;\n",
       "    white-space: pre-wrap;\n",
       "    word-wrap: break-word;\n",
       "    word-break: break-all;\n",
       "    font-family: \"Source Code Pro\", \"Menlo\", monospace;;\n",
       "    font-size: 13px;\n",
       "    color: #555;\n",
       "    margin-left: 4px;\n",
       "    line-height: 19px;\n",
       "  }\n",
       "</style>\n",
       "<div class=\"ansiout\"></div>"
      ]
     },
     "metadata": {},
     "output_type": "display_data"
    }
   ],
   "source": [
    "#define a transformação para a variável \"work_type\"\n",
    "stringIndexer_work=StringIndexer(inputCol=\"work_type\", outputCol=\"work_type_encoded\")  #label encoding\n",
    "encoder_work = OneHotEncoder(dropLast=False, inputCol=\"work_type_encoded\", outputCol=\"workVec\") #one-hot encoding"
   ]
  },
  {
   "cell_type": "code",
   "execution_count": 41,
   "metadata": {},
   "outputs": [
    {
     "data": {
      "text/html": [
       "<style scoped>\n",
       "  .ansiout {\n",
       "    display: block;\n",
       "    unicode-bidi: embed;\n",
       "    white-space: pre-wrap;\n",
       "    word-wrap: break-word;\n",
       "    word-break: break-all;\n",
       "    font-family: \"Source Code Pro\", \"Menlo\", monospace;;\n",
       "    font-size: 13px;\n",
       "    color: #555;\n",
       "    margin-left: 4px;\n",
       "    line-height: 19px;\n",
       "  }\n",
       "</style>\n",
       "<div class=\"ansiout\"></div>"
      ]
     },
     "metadata": {},
     "output_type": "display_data"
    }
   ],
   "source": [
    "#define a transformação para a variável \"Residence_type\"\n",
    "stringIndexer_residence=StringIndexer(inputCol=\"Residence_type\", outputCol=\"Residence_type_encoded\")  #label encoding\n",
    "encoder_residence = OneHotEncoder(dropLast=False, inputCol=\"Residence_type_encoded\", outputCol=\"residenceVec\") #one-hot encoding"
   ]
  },
  {
   "cell_type": "code",
   "execution_count": 42,
   "metadata": {},
   "outputs": [
    {
     "data": {
      "text/html": [
       "<style scoped>\n",
       "  .ansiout {\n",
       "    display: block;\n",
       "    unicode-bidi: embed;\n",
       "    white-space: pre-wrap;\n",
       "    word-wrap: break-word;\n",
       "    word-break: break-all;\n",
       "    font-family: \"Source Code Pro\", \"Menlo\", monospace;;\n",
       "    font-size: 13px;\n",
       "    color: #555;\n",
       "    margin-left: 4px;\n",
       "    line-height: 19px;\n",
       "  }\n",
       "</style>\n",
       "<div class=\"ansiout\"></div>"
      ]
     },
     "metadata": {},
     "output_type": "display_data"
    }
   ],
   "source": [
    "#define a transformação para a variável \"smoking_status\"\n",
    "stringIndexer_smoking=StringIndexer(inputCol=\"smoking_status\", outputCol=\"smoking_status_encoded\")  #define o objeto\n",
    "encoder_smoking = OneHotEncoder(dropLast=False, inputCol=\"smoking_status_encoded\", outputCol=\"smokingVec\")#one-hot encoding"
   ]
  },
  {
   "cell_type": "code",
   "execution_count": 43,
   "metadata": {},
   "outputs": [
    {
     "data": {
      "text/html": [
       "<style scoped>\n",
       "  .ansiout {\n",
       "    display: block;\n",
       "    unicode-bidi: embed;\n",
       "    white-space: pre-wrap;\n",
       "    word-wrap: break-word;\n",
       "    word-break: break-all;\n",
       "    font-family: \"Source Code Pro\", \"Menlo\", monospace;;\n",
       "    font-size: 13px;\n",
       "    color: #555;\n",
       "    margin-left: 4px;\n",
       "    line-height: 19px;\n",
       "  }\n",
       "</style>\n",
       "<div class=\"ansiout\"></div>"
      ]
     },
     "metadata": {},
     "output_type": "display_data"
    }
   ],
   "source": [
    "#define a construção do vetor de entrada\n",
    "colunas_entrada=['age','hypertension', 'heart_disease','avg_glucose_level','genderVec','marriedVec','workVec','residenceVec','smokingVec']\n",
    "vetor_entrada = VectorAssembler(inputCols=colunas_entrada,outputCol='features')"
   ]
  },
  {
   "cell_type": "code",
   "execution_count": 44,
   "metadata": {},
   "outputs": [
    {
     "data": {
      "text/html": [
       "<style scoped>\n",
       "  .ansiout {\n",
       "    display: block;\n",
       "    unicode-bidi: embed;\n",
       "    white-space: pre-wrap;\n",
       "    word-wrap: break-word;\n",
       "    word-break: break-all;\n",
       "    font-family: \"Source Code Pro\", \"Menlo\", monospace;;\n",
       "    font-size: 13px;\n",
       "    color: #555;\n",
       "    margin-left: 4px;\n",
       "    line-height: 19px;\n",
       "  }\n",
       "</style>\n",
       "<div class=\"ansiout\"></div>"
      ]
     },
     "metadata": {},
     "output_type": "display_data"
    }
   ],
   "source": [
    "#define a sequencia de transformações para o pipeline\n",
    "sequencia_transformacoes=[stringIndexer_gender,stringIndexer_married,stringIndexer_work,stringIndexer_residence,stringIndexer_smoking,encoder_gender,encoder_married,encoder_work,encoder_residence,encoder_smoking,vetor_entrada]"
   ]
  },
  {
   "cell_type": "code",
   "execution_count": 45,
   "metadata": {},
   "outputs": [
    {
     "data": {
      "text/html": [
       "<style scoped>\n",
       "  .ansiout {\n",
       "    display: block;\n",
       "    unicode-bidi: embed;\n",
       "    white-space: pre-wrap;\n",
       "    word-wrap: break-word;\n",
       "    word-break: break-all;\n",
       "    font-family: \"Source Code Pro\", \"Menlo\", monospace;;\n",
       "    font-size: 13px;\n",
       "    color: #555;\n",
       "    margin-left: 4px;\n",
       "    line-height: 19px;\n",
       "  }\n",
       "</style>\n",
       "<div class=\"ansiout\"></div>"
      ]
     },
     "metadata": {},
     "output_type": "display_data"
    }
   ],
   "source": [
    "from pyspark.ml import Pipeline\n",
    "# Aplicando o pipeline\n",
    "pipeline = Pipeline(stages=sequencia_transformacoes)\n",
    "pipelineModel = pipeline.fit(dataset_filtrado)\n",
    "model = pipelineModel.transform(dataset_filtrado)"
   ]
  },
  {
   "cell_type": "code",
   "execution_count": 46,
   "metadata": {},
   "outputs": [
    {
     "data": {
      "text/html": [
       "<style scoped>\n",
       "  .ansiout {\n",
       "    display: block;\n",
       "    unicode-bidi: embed;\n",
       "    white-space: pre-wrap;\n",
       "    word-wrap: break-word;\n",
       "    word-break: break-all;\n",
       "    font-family: \"Source Code Pro\", \"Menlo\", monospace;;\n",
       "    font-size: 13px;\n",
       "    color: #555;\n",
       "    margin-left: 4px;\n",
       "    line-height: 19px;\n",
       "  }\n",
       "</style>\n",
       "<div class=\"ansiout\">+----+------+-------------+------------+-------------+--------------------+\n",
       " age|gender|    genderVec|ever_married|   marriedVec|            features|\n",
       "+----+------+-------------+------------+-------------+--------------------+\n",
       "67.0|  Male|(3,[1],[1.0])|         Yes|(2,[0],[1.0])|(19,[0,2,3,5,7,9,...|\n",
       "80.0|  Male|(3,[1],[1.0])|         Yes|(2,[0],[1.0])|(19,[0,2,3,5,7,9,...|\n",
       "49.0|Female|(3,[0],[1.0])|         Yes|(2,[0],[1.0])|(19,[0,3,4,7,9,14...|\n",
       "79.0|Female|(3,[0],[1.0])|         Yes|(2,[0],[1.0])|(19,[0,1,3,4,7,10...|\n",
       "81.0|  Male|(3,[1],[1.0])|         Yes|(2,[0],[1.0])|(19,[0,3,5,7,9,14...|\n",
       "74.0|  Male|(3,[1],[1.0])|         Yes|(2,[0],[1.0])|(19,[0,1,2,3,5,7,...|\n",
       "69.0|Female|(3,[0],[1.0])|          No|(2,[1],[1.0])|(19,[0,3,4,8,9,14...|\n",
       "81.0|Female|(3,[0],[1.0])|         Yes|(2,[0],[1.0])|(19,[0,1,3,4,7,9,...|\n",
       "61.0|Female|(3,[0],[1.0])|         Yes|(2,[0],[1.0])|(19,[0,2,3,4,7,11...|\n",
       "54.0|Female|(3,[0],[1.0])|         Yes|(2,[0],[1.0])|(19,[0,3,4,7,9,14...|\n",
       "79.0|Female|(3,[0],[1.0])|         Yes|(2,[0],[1.0])|(19,[0,2,3,4,7,9,...|\n",
       "50.0|Female|(3,[0],[1.0])|         Yes|(2,[0],[1.0])|(19,[0,1,3,4,7,10...|\n",
       "64.0|  Male|(3,[1],[1.0])|         Yes|(2,[0],[1.0])|(19,[0,2,3,5,7,9,...|\n",
       "75.0|  Male|(3,[1],[1.0])|         Yes|(2,[0],[1.0])|(19,[0,1,3,5,7,9,...|\n",
       "60.0|Female|(3,[0],[1.0])|          No|(2,[1],[1.0])|(19,[0,3,4,8,9,14...|\n",
       "71.0|Female|(3,[0],[1.0])|         Yes|(2,[0],[1.0])|(19,[0,3,4,7,11,1...|\n",
       "52.0|Female|(3,[0],[1.0])|         Yes|(2,[0],[1.0])|(19,[0,1,3,4,7,10...|\n",
       "79.0|Female|(3,[0],[1.0])|         Yes|(2,[0],[1.0])|(19,[0,3,4,7,10,1...|\n",
       "71.0|  Male|(3,[1],[1.0])|         Yes|(2,[0],[1.0])|(19,[0,3,5,7,9,14...|\n",
       "80.0|  Male|(3,[1],[1.0])|         Yes|(2,[0],[1.0])|(19,[0,3,5,7,10,1...|\n",
       "+----+------+-------------+------------+-------------+--------------------+\n",
       "only showing top 20 rows\n",
       "\n",
       "</div>"
      ]
     },
     "metadata": {},
     "output_type": "display_data"
    }
   ],
   "source": [
    "#mostrando parte dos dados para entrada\n",
    "model.select('age','gender','genderVec','ever_married','marriedVec','features').show()"
   ]
  },
  {
   "cell_type": "code",
   "execution_count": 47,
   "metadata": {},
   "outputs": [
    {
     "data": {
      "text/html": [
       "<style scoped>\n",
       "  .ansiout {\n",
       "    display: block;\n",
       "    unicode-bidi: embed;\n",
       "    white-space: pre-wrap;\n",
       "    word-wrap: break-word;\n",
       "    word-break: break-all;\n",
       "    font-family: \"Source Code Pro\", \"Menlo\", monospace;;\n",
       "    font-size: 13px;\n",
       "    color: #555;\n",
       "    margin-left: 4px;\n",
       "    line-height: 19px;\n",
       "  }\n",
       "</style>\n",
       "<div class=\"ansiout\"></div>"
      ]
     },
     "metadata": {},
     "output_type": "display_data"
    }
   ],
   "source": [
    "#dividindo o dataset entre teste e treinamento\n",
    "train_data, test_data = model.randomSplit([.8,.2],seed=1)"
   ]
  },
  {
   "cell_type": "markdown",
   "metadata": {},
   "source": [
    "Qual foi, respectivamente, o percentual de dados escolhidos para treinamento e teste dos modelos?"
   ]
  },
  {
   "cell_type": "code",
   "execution_count": 49,
   "metadata": {},
   "outputs": [
    {
     "data": {
      "text/html": [
       "<style scoped>\n",
       "  .ansiout {\n",
       "    display: block;\n",
       "    unicode-bidi: embed;\n",
       "    white-space: pre-wrap;\n",
       "    word-wrap: break-word;\n",
       "    word-break: break-all;\n",
       "    font-family: \"Source Code Pro\", \"Menlo\", monospace;;\n",
       "    font-size: 13px;\n",
       "    color: #555;\n",
       "    margin-left: 4px;\n",
       "    line-height: 19px;\n",
       "  }\n",
       "</style>\n",
       "<div class=\"ansiout\">Out[132]: [&#39;id&#39;,\n",
       " &#39;gender&#39;,\n",
       " &#39;age&#39;,\n",
       " &#39;hypertension&#39;,\n",
       " &#39;heart_disease&#39;,\n",
       " &#39;ever_married&#39;,\n",
       " &#39;work_type&#39;,\n",
       " &#39;Residence_type&#39;,\n",
       " &#39;avg_glucose_level&#39;,\n",
       " &#39;bmi&#39;,\n",
       " &#39;smoking_status&#39;,\n",
       " &#39;stroke&#39;,\n",
       " &#39;gender_encoded&#39;,\n",
       " &#39;ever_married_encoded&#39;,\n",
       " &#39;work_type_encoded&#39;,\n",
       " &#39;Residence_type_encoded&#39;,\n",
       " &#39;smoking_status_encoded&#39;,\n",
       " &#39;genderVec&#39;,\n",
       " &#39;marriedVec&#39;,\n",
       " &#39;workVec&#39;,\n",
       " &#39;residenceVec&#39;,\n",
       " &#39;smokingVec&#39;,\n",
       " &#39;features&#39;]</div>"
      ]
     },
     "metadata": {},
     "output_type": "display_data"
    }
   ],
   "source": [
    "#mostrando os dados de treinamento\n",
    "train_data.columns"
   ]
  },
  {
   "cell_type": "markdown",
   "metadata": {},
   "source": [
    "Realizando a previsão através da Regressão Logística"
   ]
  },
  {
   "cell_type": "code",
   "execution_count": 51,
   "metadata": {},
   "outputs": [
    {
     "data": {
      "text/html": [
       "<style scoped>\n",
       "  .ansiout {\n",
       "    display: block;\n",
       "    unicode-bidi: embed;\n",
       "    white-space: pre-wrap;\n",
       "    word-wrap: break-word;\n",
       "    word-break: break-all;\n",
       "    font-family: \"Source Code Pro\", \"Menlo\", monospace;;\n",
       "    font-size: 13px;\n",
       "    color: #555;\n",
       "    margin-left: 4px;\n",
       "    line-height: 19px;\n",
       "  }\n",
       "</style>\n",
       "<div class=\"ansiout\"></div>"
      ]
     },
     "metadata": {},
     "output_type": "display_data"
    }
   ],
   "source": [
    "#define o modelo de regrssão logística\n",
    "from pyspark.ml.classification import LogisticRegression\n",
    "\n",
    "#instancia o objeto para a regressão logística\n",
    "lr = LogisticRegression(labelCol=\"stroke\",featuresCol=\"features\", maxIter=100, regParam=0.3, )\n",
    "\n",
    "# treina o modelo\n",
    "linearModel = lr.fit(train_data)"
   ]
  },
  {
   "cell_type": "code",
   "execution_count": 52,
   "metadata": {},
   "outputs": [
    {
     "data": {
      "text/html": [
       "<style scoped>\n",
       "  .ansiout {\n",
       "    display: block;\n",
       "    unicode-bidi: embed;\n",
       "    white-space: pre-wrap;\n",
       "    word-wrap: break-word;\n",
       "    word-break: break-all;\n",
       "    font-family: \"Source Code Pro\", \"Menlo\", monospace;;\n",
       "    font-size: 13px;\n",
       "    color: #555;\n",
       "    margin-left: 4px;\n",
       "    line-height: 19px;\n",
       "  }\n",
       "</style>\n",
       "<div class=\"ansiout\"></div>"
      ]
     },
     "metadata": {},
     "output_type": "display_data"
    }
   ],
   "source": [
    "#realiza a previsão utilizando o modelo de regressão logística\n",
    "previsao_regressao = linearModel.transform(test_data)"
   ]
  },
  {
   "cell_type": "code",
   "execution_count": 53,
   "metadata": {},
   "outputs": [
    {
     "data": {
      "text/html": [
       "<style scoped>\n",
       "  .ansiout {\n",
       "    display: block;\n",
       "    unicode-bidi: embed;\n",
       "    white-space: pre-wrap;\n",
       "    word-wrap: break-word;\n",
       "    word-break: break-all;\n",
       "    font-family: \"Source Code Pro\", \"Menlo\", monospace;;\n",
       "    font-size: 13px;\n",
       "    color: #555;\n",
       "    margin-left: 4px;\n",
       "    line-height: 19px;\n",
       "  }\n",
       "</style>\n",
       "<div class=\"ansiout\">Regressão Logística: 94.52%\n",
       "</div>"
      ]
     },
     "metadata": {},
     "output_type": "display_data"
    }
   ],
   "source": [
    "#avaliando a classificação realizada pela regressão logística\n",
    "acc_evaluator = MulticlassClassificationEvaluator(labelCol=\"stroke\", predictionCol=\"prediction\", metricName=\"accuracy\")\n",
    "acuracia_regressao = acc_evaluator.evaluate(previsao_regressao)\n",
    "print('Regressão Logística: {0:2.2f}%'.format(acuracia_regressao*100))"
   ]
  }
 ],
 "metadata": {
  "kernelspec": {
   "display_name": "Python 3",
   "language": "python",
   "name": "python3"
  },
  "language_info": {
   "codemirror_mode": {
    "name": "ipython",
    "version": 3
   },
   "file_extension": ".py",
   "mimetype": "text/x-python",
   "name": "python",
   "nbconvert_exporter": "python",
   "pygments_lexer": "ipython3",
   "version": "3.7.7"
  },
  "name": "desafio_CID",
  "notebookId": 3310322013978407
 },
 "nbformat": 4,
 "nbformat_minor": 1
}
