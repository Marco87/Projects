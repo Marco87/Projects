{
 "cells": [
  {
   "cell_type": "markdown",
   "metadata": {},
   "source": [
    "### This project will convert a file in .pdf to a .xls format"
   ]
  },
  {
   "cell_type": "code",
   "execution_count": 8,
   "metadata": {},
   "outputs": [],
   "source": [
    "#Importando a biblioteca\n",
    "\n",
    "import tabula\n",
    "import pandas as pd"
   ]
  },
  {
   "cell_type": "code",
   "execution_count": 3,
   "metadata": {},
   "outputs": [],
   "source": [
    "#Baixando e instalando o pacote do tabula\n",
    "\n",
    "#pip install tabula-py"
   ]
  },
  {
   "cell_type": "code",
   "execution_count": 5,
   "metadata": {},
   "outputs": [
    {
     "name": "stderr",
     "output_type": "stream",
     "text": [
      "Got stderr: jul 11, 2020 11:24:06 PM org.apache.pdfbox.pdmodel.font.FileSystemFontProvider loadDiskCache\n",
      "ADVERTÊNCIA: New fonts found, font cache will be re-built\n",
      "jul 11, 2020 11:24:06 PM org.apache.pdfbox.pdmodel.font.FileSystemFontProvider <init>\n",
      "ADVERTÊNCIA: Building on-disk font cache, this may take a while\n",
      "jul 11, 2020 11:24:10 PM org.apache.pdfbox.pdmodel.font.FileSystemFontProvider <init>\n",
      "ADVERTÊNCIA: Finished building on-disk font cache, found 368 fonts\n",
      "\n"
     ]
    }
   ],
   "source": [
    "#Convertendo um arquivo pdf em uma lista\n",
    "\n",
    "df = tabula.read_pdf(\"data/preliminar.pdf\", pages=\"all\")"
   ]
  },
  {
   "cell_type": "code",
   "execution_count": 14,
   "metadata": {},
   "outputs": [],
   "source": [
    "#Convertendo a lista em um dataframe\n",
    "\n",
    "df_preliminar = pd.DataFrame(df)"
   ]
  },
  {
   "cell_type": "code",
   "execution_count": 13,
   "metadata": {},
   "outputs": [],
   "source": [
    "#Converter um arquivo pdf em um csv\n",
    "\n",
    "tabula.convert_into(\"data/preliminar.pdf\", \"data/preliminar.csv\", output_format=\"csv\", pages=\"all\")"
   ]
  },
  {
   "cell_type": "code",
   "execution_count": 15,
   "metadata": {},
   "outputs": [],
   "source": [
    "#Lendo o arquivo csv convertido\n",
    "\n",
    "df_prelim = pd.read_csv(\"data/preliminar.csv\")"
   ]
  }
 ],
 "metadata": {
  "kernelspec": {
   "display_name": "Python 3",
   "language": "python",
   "name": "python3"
  },
  "language_info": {
   "codemirror_mode": {
    "name": "ipython",
    "version": 3
   },
   "file_extension": ".py",
   "mimetype": "text/x-python",
   "name": "python",
   "nbconvert_exporter": "python",
   "pygments_lexer": "ipython3",
   "version": "3.7.7"
  }
 },
 "nbformat": 4,
 "nbformat_minor": 4
}
