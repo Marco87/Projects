{
 "cells": [
  {
   "cell_type": "code",
   "execution_count": 90,
   "metadata": {},
   "outputs": [
    {
     "name": "stdout",
     "output_type": "stream",
     "text": [
      "  \u001b[32mFeliz\u001b[31m Natal!\n",
      "\n",
      "  \n",
      "       \u001b[1m\u001b[33m*      \n",
      "      \u001b[32m***      \n",
      "     \u001b[32m*****     \n",
      "    \u001b[32m*******    \n",
      "   \u001b[32m*********   \n",
      "  \u001b[32m***********  \n",
      " \u001b[32m************* \n",
      "\u001b[32m***************\n",
      "\u001b[31m      ||\n",
      "\u001b[31m      ||\n",
      "\u001b[31m      ||\n",
      "\u001b[31m    \\====/"
     ]
    }
   ],
   "source": [
    "print(('\\033[32m' + \"Feliz\" + '\\033[31m' + \" Natal!\\n\\n\").center(28))\n",
    "\n",
    "for i in range(1,16):\n",
    "        if i==1:\n",
    "            print(('\\033[1m'+'\\033[33m'+ '*'*i).center(23))\n",
    "        elif i%2==1:\n",
    "            print(('\\033[32m' + '*'*i).center(20))\n",
    "for r in range(3):\n",
    "    print ('\\033[31m' + ' '*5, '||')\n",
    "print('\\033[31m' + ' '*4, end = '\\====/')"
   ]
  }
 ],
 "metadata": {
  "kernelspec": {
   "display_name": "Python 3",
   "language": "python",
   "name": "python3"
  },
  "language_info": {
   "codemirror_mode": {
    "name": "ipython",
    "version": 3
   },
   "file_extension": ".py",
   "mimetype": "text/x-python",
   "name": "python",
   "nbconvert_exporter": "python",
   "pygments_lexer": "ipython3",
   "version": "3.7.4"
  }
 },
 "nbformat": 4,
 "nbformat_minor": 2
}
