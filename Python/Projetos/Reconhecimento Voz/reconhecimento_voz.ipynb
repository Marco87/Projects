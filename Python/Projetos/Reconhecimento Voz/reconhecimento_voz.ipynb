{
 "cells": [
  {
   "cell_type": "markdown",
   "metadata": {},
   "source": [
    "### Tutorial\n",
    "https://medium.com/brasil-ai/reconhecimento-voz-python-35a5023767ca\n",
    "\n",
    "### Erros no PyAudio\n",
    "https://cursos.alura.com.br/forum/topico-ao-instalar-o-pyaudio-informa-este-erro-70875\n",
    "\n",
    "### Erro gi\n",
    "https://anaconda.org/conda-forge/pygobject"
   ]
  },
  {
   "cell_type": "code",
   "execution_count": 2,
   "metadata": {},
   "outputs": [],
   "source": [
    "import speech_recognition as sr\n",
    "\n",
    "from gtts import gTTS\n",
    "from playsound import playsound"
   ]
  },
  {
   "cell_type": "code",
   "execution_count": 9,
   "metadata": {},
   "outputs": [
    {
     "name": "stdout",
     "output_type": "stream",
     "text": [
      "Diga alguma coisa: \n",
      "Você disse: 100 boióla\n"
     ]
    },
    {
     "data": {
      "text/plain": [
       "'100 boióla'"
      ]
     },
     "execution_count": 9,
     "metadata": {},
     "output_type": "execute_result"
    }
   ],
   "source": [
    "#Função responsável por ouvir e reconhecer a fala\n",
    "def ouvir_microfone():\n",
    "    #Habilita o microfone para ouvir o usuário\n",
    "    microfone = sr.Recognizer()\n",
    "    with sr.Microphone() as source:\n",
    "        #Chama a função de redução de ruído disponível na speech_recognition\n",
    "        microfone.adjust_for_ambient_noise(source)\n",
    "        #Avisa ao usuário que está pronto para ouvir\n",
    "        print(\"Diga alguma coisa: \")\n",
    "        #Armazena a informação de áudio na variável\n",
    "        audio = microfone.listen(source)\n",
    "        \n",
    "    try:\n",
    "        #Passa o áudio para o reconhecedor de padrões do speech_recognition\n",
    "        frase = microfone.recognize_google(audio, language='pt-BR')\n",
    "        #Após alguns segundos, retorna a frase falada\n",
    "        print(\"Você disse: \" + frase)\n",
    "\n",
    "    #Caso não tenha reconhecido o padrão de fala, exibe esta mensagem\n",
    "    except sr.UnkownValueError:\n",
    "        print(\"Não entendi!\")\n",
    "\n",
    "    return frase\n",
    "\n",
    "ouvir_microfone()"
   ]
  },
  {
   "cell_type": "code",
   "execution_count": null,
   "metadata": {},
   "outputs": [
    {
     "name": "stdout",
     "output_type": "stream",
     "text": [
      "Diga alguma coisa: \n",
      "Você disse: alguma coisa\n",
      "Estou aprendendo o que você disse...\n"
     ]
    }
   ],
   "source": [
    "#Função responsável por falar\n",
    "def criar_audio(audio):\n",
    "    tts = gTTS(audio, lang='pt-br')\n",
    "    #Salva o arquivo de áudio\n",
    "    tts.save('audios/hello.mp3')\n",
    "    print(\"Estou aprendendo o que você disse...\")\n",
    "    #Dá play ao áudio\n",
    "    playsound('audios/hello.mp3')\n",
    "    \n",
    "#Função responsável por ouvir e reconhecer a fala\n",
    "def ouvir_microfone():\n",
    "    #Habilita o microfone para ouvir o usuário\n",
    "    microfone = sr.Recognizer()\n",
    "    with sr.Microphone() as source:\n",
    "        #Chama a função de redução de ruído disponível na speech_recognition\n",
    "        microfone.adjust_for_ambient_noise(source)\n",
    "        #Avisa ao usuário que está pronto para ouvir\n",
    "        print(\"Diga alguma coisa: \")\n",
    "        #Armazena a informação de áudio na variável\n",
    "        audio = microfone.listen(source)\n",
    "        \n",
    "    try:\n",
    "        #Passa o áudio para o reconhecedor de padrões do speech_recognition\n",
    "        frase = microfone.recognize_google(audio, language = 'pt-BR')\n",
    "        #Após alguns segundos, retorna a frase falada\n",
    "        print(\"Você disse: \" + frase)\n",
    "\n",
    "    #Caso não tenha reconhecido o padrão de fala, exibe esta mensagem\n",
    "    except sr.UnknownValueError:\n",
    "        print(\"Não entendi!\")\n",
    "        frase = \"Não entendi.\"\n",
    "    \n",
    "    return frase\n",
    "\n",
    "frase = ouvir_microfone()\n",
    "criar_audio(frase)"
   ]
  },
  {
   "cell_type": "code",
   "execution_count": null,
   "metadata": {},
   "outputs": [],
   "source": []
  }
 ],
 "metadata": {
  "kernelspec": {
   "display_name": "Python 3",
   "language": "python",
   "name": "python3"
  },
  "language_info": {
   "codemirror_mode": {
    "name": "ipython",
    "version": 3
   },
   "file_extension": ".py",
   "mimetype": "text/x-python",
   "name": "python",
   "nbconvert_exporter": "python",
   "pygments_lexer": "ipython3",
   "version": "3.7.4"
  }
 },
 "nbformat": 4,
 "nbformat_minor": 4
}
