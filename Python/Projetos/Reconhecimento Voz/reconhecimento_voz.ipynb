{
 "cells": [
  {
   "cell_type": "markdown",
   "metadata": {},
   "source": [
    "### Tutorial\n",
    "https://medium.com/brasil-ai/reconhecimento-voz-python-35a5023767ca\n",
    "\n",
    "### Erros no PyAudio\n",
    "https://cursos.alura.com.br/forum/topico-ao-instalar-o-pyaudio-informa-este-erro-70875"
   ]
  },
  {
   "cell_type": "code",
   "execution_count": 24,
   "metadata": {},
   "outputs": [],
   "source": [
    "import speech_recognition as sr\n",
    "\n",
    "from gtts import gTTS\n",
    "from playsound import playsound"
   ]
  },
  {
   "cell_type": "code",
   "execution_count": 9,
   "metadata": {},
   "outputs": [
    {
     "name": "stdout",
     "output_type": "stream",
     "text": [
      "Diga alguma coisa: \n",
      "Você disse: 100 boióla\n"
     ]
    },
    {
     "data": {
      "text/plain": [
       "'100 boióla'"
      ]
     },
     "execution_count": 9,
     "metadata": {},
     "output_type": "execute_result"
    }
   ],
   "source": [
    "#Função responsável por ouvir e reconhecer a fala\n",
    "def ouvir_microfone():\n",
    "    #Habilita o microfone para ouvir o usuário\n",
    "    microfone = sr.Recognizer()\n",
    "    with sr.Microphone() as source:\n",
    "        #Chama a função de redução de ruído disponível na speech_recognition\n",
    "        microfone.adjust_for_ambient_noise(source)\n",
    "        #Avisa ao usuário que está pronto para ouvir\n",
    "        print(\"Diga alguma coisa: \")\n",
    "        #Armazena a informação de áudio na variável\n",
    "        audio = microfone.listen(source)\n",
    "        \n",
    "    try:\n",
    "        #Passa o áudio para o reconhecedor de padrões do speech_recognition\n",
    "        frase = microfone.recognize_google(audio, language='pt-BR')\n",
    "        #Após alguns segundos, retorna a frase falada\n",
    "        print(\"Você disse: \" + frase)\n",
    "\n",
    "    #Caso não tenha reconhecido o padrão de fala, exibe esta mensagem\n",
    "    except sr.UnkownValueError:\n",
    "        print(\"Não entendi!\")\n",
    "\n",
    "    return frase\n",
    "\n",
    "ouvir_microfone()"
   ]
  },
  {
   "cell_type": "code",
   "execution_count": 26,
   "metadata": {},
   "outputs": [
    {
     "name": "stdout",
     "output_type": "stream",
     "text": [
      "Diga alguma coisa: \n",
      "Você disse: alguma\n",
      "Estou aprendendo o que você disse...\n"
     ]
    },
    {
     "ename": "ModuleNotFoundError",
     "evalue": "No module named 'gi'",
     "output_type": "error",
     "traceback": [
      "\u001b[0;31m---------------------------------------------------------------------------\u001b[0m",
      "\u001b[0;31mModuleNotFoundError\u001b[0m                       Traceback (most recent call last)",
      "\u001b[0;32m<ipython-input-26-3eba4e236309>\u001b[0m in \u001b[0;36m<module>\u001b[0;34m\u001b[0m\n\u001b[1;32m     33\u001b[0m \u001b[0;34m\u001b[0m\u001b[0m\n\u001b[1;32m     34\u001b[0m \u001b[0mfrase\u001b[0m \u001b[0;34m=\u001b[0m \u001b[0mouvir_microfone\u001b[0m\u001b[0;34m(\u001b[0m\u001b[0;34m)\u001b[0m\u001b[0;34m\u001b[0m\u001b[0;34m\u001b[0m\u001b[0m\n\u001b[0;32m---> 35\u001b[0;31m \u001b[0mcriar_audio\u001b[0m\u001b[0;34m(\u001b[0m\u001b[0mfrase\u001b[0m\u001b[0;34m)\u001b[0m\u001b[0;34m\u001b[0m\u001b[0;34m\u001b[0m\u001b[0m\n\u001b[0m",
      "\u001b[0;32m<ipython-input-26-3eba4e236309>\u001b[0m in \u001b[0;36mcriar_audio\u001b[0;34m(audio)\u001b[0m\n\u001b[1;32m      6\u001b[0m     \u001b[0mprint\u001b[0m\u001b[0;34m(\u001b[0m\u001b[0;34m\"Estou aprendendo o que você disse...\"\u001b[0m\u001b[0;34m)\u001b[0m\u001b[0;34m\u001b[0m\u001b[0;34m\u001b[0m\u001b[0m\n\u001b[1;32m      7\u001b[0m     \u001b[0;31m#Dá play ao áudio\u001b[0m\u001b[0;34m\u001b[0m\u001b[0;34m\u001b[0m\u001b[0;34m\u001b[0m\u001b[0m\n\u001b[0;32m----> 8\u001b[0;31m     \u001b[0mplaysound\u001b[0m\u001b[0;34m(\u001b[0m\u001b[0;34m'audios/hello.mp3'\u001b[0m\u001b[0;34m)\u001b[0m\u001b[0;34m\u001b[0m\u001b[0;34m\u001b[0m\u001b[0m\n\u001b[0m\u001b[1;32m      9\u001b[0m \u001b[0;34m\u001b[0m\u001b[0m\n\u001b[1;32m     10\u001b[0m \u001b[0;31m#Função responsável por ouvir e reconhecer a fala\u001b[0m\u001b[0;34m\u001b[0m\u001b[0;34m\u001b[0m\u001b[0;34m\u001b[0m\u001b[0m\n",
      "\u001b[0;32m~/anaconda3/lib/python3.7/site-packages/playsound.py\u001b[0m in \u001b[0;36m_playsoundNix\u001b[0;34m(sound, block)\u001b[0m\n\u001b[1;32m     89\u001b[0m         \u001b[0;32mfrom\u001b[0m \u001b[0murllib\u001b[0m \u001b[0;32mimport\u001b[0m \u001b[0mpathname2url\u001b[0m\u001b[0;34m\u001b[0m\u001b[0;34m\u001b[0m\u001b[0m\n\u001b[1;32m     90\u001b[0m \u001b[0;34m\u001b[0m\u001b[0m\n\u001b[0;32m---> 91\u001b[0;31m     \u001b[0;32mimport\u001b[0m \u001b[0mgi\u001b[0m\u001b[0;34m\u001b[0m\u001b[0;34m\u001b[0m\u001b[0m\n\u001b[0m\u001b[1;32m     92\u001b[0m     \u001b[0mgi\u001b[0m\u001b[0;34m.\u001b[0m\u001b[0mrequire_version\u001b[0m\u001b[0;34m(\u001b[0m\u001b[0;34m'Gst'\u001b[0m\u001b[0;34m,\u001b[0m \u001b[0;34m'1.0'\u001b[0m\u001b[0;34m)\u001b[0m\u001b[0;34m\u001b[0m\u001b[0;34m\u001b[0m\u001b[0m\n\u001b[1;32m     93\u001b[0m     \u001b[0;32mfrom\u001b[0m \u001b[0mgi\u001b[0m\u001b[0;34m.\u001b[0m\u001b[0mrepository\u001b[0m \u001b[0;32mimport\u001b[0m \u001b[0mGst\u001b[0m\u001b[0;34m\u001b[0m\u001b[0;34m\u001b[0m\u001b[0m\n",
      "\u001b[0;31mModuleNotFoundError\u001b[0m: No module named 'gi'"
     ]
    }
   ],
   "source": [
    "#Função responsável por falar\n",
    "def criar_audio(audio):\n",
    "    tts = gTTS(audio, lang='pt-br')\n",
    "    #Salva o arquivo de áudio\n",
    "    tts.save('audios/hello.mp3')\n",
    "    print(\"Estou aprendendo o que você disse...\")\n",
    "    #Dá play ao áudio\n",
    "    playsound('audios/hello.mp3')\n",
    "    \n",
    "#Função responsável por ouvir e reconhecer a fala\n",
    "def ouvir_microfone():\n",
    "    #Habilita o microfone para ouvir o usuário\n",
    "    microfone = sr.Recognizer()\n",
    "    with sr.Microphone() as source:\n",
    "        #Chama a função de redução de ruído disponível na speech_recognition\n",
    "        microfone.adjust_for_ambient_noise(source)\n",
    "        #Avisa ao usuário que está pronto para ouvir\n",
    "        print(\"Diga alguma coisa: \")\n",
    "        #Armazena a informação de áudio na variável\n",
    "        audio = microfone.listen(source)\n",
    "        \n",
    "    try:\n",
    "        #Passa o áudio para o reconhecedor de padrões do speech_recognition\n",
    "        frase = microfone.recognize_google(audio, language = 'pt-BR')\n",
    "        #Após alguns segundos, retorna a frase falada\n",
    "        print(\"Você disse: \" + frase)\n",
    "\n",
    "    #Caso não tenha reconhecido o padrão de fala, exibe esta mensagem\n",
    "    except sr.UnkownValueError:\n",
    "        print(\"Não entendi!\")\n",
    "    \n",
    "    return frase\n",
    "\n",
    "frase = ouvir_microfone()\n",
    "criar_audio(frase)"
   ]
  },
  {
   "cell_type": "code",
   "execution_count": null,
   "metadata": {},
   "outputs": [],
   "source": []
  }
 ],
 "metadata": {
  "kernelspec": {
   "display_name": "Python 3",
   "language": "python",
   "name": "python3"
  },
  "language_info": {
   "codemirror_mode": {
    "name": "ipython",
    "version": 3
   },
   "file_extension": ".py",
   "mimetype": "text/x-python",
   "name": "python",
   "nbconvert_exporter": "python",
   "pygments_lexer": "ipython3",
   "version": "3.7.4"
  }
 },
 "nbformat": 4,
 "nbformat_minor": 4
}
