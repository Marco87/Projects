{
 "cells": [
  {
   "cell_type": "markdown",
   "metadata": {},
   "source": [
    "### Referências:\n",
    "\n",
    "### https://www.pilulaeconomica.com/post/introdu%C3%A7%C3%A3o-ao-web-scraping-com-python\n",
    "### https://simpleanalytical.com/how-to-web-scrape-wikipedia-python-urllib-beautiful-soup-pandas\n",
    "### https://goomore.com/blog/web-scraping-python/\n",
    "### https://simpleanalytical.com/thanks/"
   ]
  },
  {
   "cell_type": "code",
   "execution_count": 1,
   "metadata": {},
   "outputs": [],
   "source": [
    "#Importando as bibliotecas\n",
    "\n",
    "from pandas.io.html import read_html\n",
    "import pandas as pd\n",
    "from IPython.display import clear_output"
   ]
  },
  {
   "cell_type": "code",
   "execution_count": 2,
   "metadata": {},
   "outputs": [],
   "source": [
    "#Tratamento do site de onde os dados serão coletados\n",
    "\n",
    "site_valido = False\n",
    "\n",
    "while (site_valido == False):\n",
    "    try:\n",
    "        site = input(\"Digite o site com os dados a serem coletados: \")\n",
    "        tabela = read_html(site, decimal = ',', thousands = '.')\n",
    "        site_valido = True\n",
    "        clear_output()\n",
    "    except ValueError:\n",
    "        clear_output()\n",
    "        print(\"Digite uma url válida!\")\n",
    "        site_valido = False"
   ]
  },
  {
   "cell_type": "code",
   "execution_count": 12,
   "metadata": {},
   "outputs": [
    {
     "data": {
      "text/plain": [
       "24"
      ]
     },
     "execution_count": 12,
     "metadata": {},
     "output_type": "execute_result"
    }
   ],
   "source": [
    "#Quantidade de tabelas importadas\n",
    "\n",
    "len(tabela)"
   ]
  },
  {
   "cell_type": "code",
   "execution_count": 14,
   "metadata": {},
   "outputs": [
    {
     "name": "stdout",
     "output_type": "stream",
     "text": [
      "Digite o número da tabela a ser consultada (Digite um número entre 1 e 24): 10\n"
     ]
    }
   ],
   "source": [
    "#Seleção da tabela cujos dados serão baixados\n",
    "\n",
    "numero_tabela = 0\n",
    "while(numero_tabela<=0 or numero_tabela>(len(tabela))):\n",
    "    clear_output()\n",
    "    numero_tabela = int(input(\"Digite o número da tabela a ser consultada (Digite um número entre 1 e \" + str(len(tabela)) + \"): \"))\n",
    "    if (numero_tabela<=0 or numero_tabela>(len(tabela))):\n",
    "        print(\"Digite um número entre 1 e \", len(tabela))\n",
    "    "
   ]
  },
  {
   "cell_type": "code",
   "execution_count": 15,
   "metadata": {},
   "outputs": [],
   "source": [
    "#Salvando os dados em um DataFrame\n",
    "\n",
    "df_tabela = pd.DataFrame(tabela[numero_tabela - 1])"
   ]
  },
  {
   "cell_type": "code",
   "execution_count": 16,
   "metadata": {},
   "outputs": [
    {
     "data": {
      "text/html": [
       "<div>\n",
       "<style scoped>\n",
       "    .dataframe tbody tr th:only-of-type {\n",
       "        vertical-align: middle;\n",
       "    }\n",
       "\n",
       "    .dataframe tbody tr th {\n",
       "        vertical-align: top;\n",
       "    }\n",
       "\n",
       "    .dataframe thead th {\n",
       "        text-align: right;\n",
       "    }\n",
       "</style>\n",
       "<table border=\"1\" class=\"dataframe\">\n",
       "  <thead>\n",
       "    <tr style=\"text-align: right;\">\n",
       "      <th></th>\n",
       "      <th>vdePersonalidade do Ano pela BBC Sports</th>\n",
       "      <th>vdePersonalidade do Ano pela BBC Sports.1</th>\n",
       "    </tr>\n",
       "  </thead>\n",
       "  <tbody>\n",
       "    <tr>\n",
       "      <th>0</th>\n",
       "      <td>1954–1959</td>\n",
       "      <td>1954 Christopher Chataway · 1955 Gordon Pirie ...</td>\n",
       "    </tr>\n",
       "    <tr>\n",
       "      <th>1</th>\n",
       "      <td>1960–1969</td>\n",
       "      <td>1960 David Broome · 1961 Stirling Moss · 1962 ...</td>\n",
       "    </tr>\n",
       "    <tr>\n",
       "      <th>2</th>\n",
       "      <td>1970–1979</td>\n",
       "      <td>1970 Henry Cooper · 1971 SAR Princesa Ana do R...</td>\n",
       "    </tr>\n",
       "    <tr>\n",
       "      <th>3</th>\n",
       "      <td>1980–1989</td>\n",
       "      <td>1980 Robin Cousins · 1981 Ian Botham · 1982 Da...</td>\n",
       "    </tr>\n",
       "    <tr>\n",
       "      <th>4</th>\n",
       "      <td>1990–1999</td>\n",
       "      <td>1990 Paul Gascoigne · 1991 Liz McColgan · 1992...</td>\n",
       "    </tr>\n",
       "    <tr>\n",
       "      <th>5</th>\n",
       "      <td>2000–2009</td>\n",
       "      <td>2000 Steve Redgrave · 2001 David Beckham · 200...</td>\n",
       "    </tr>\n",
       "    <tr>\n",
       "      <th>6</th>\n",
       "      <td>2010–</td>\n",
       "      <td>2010 Tony McCoy · 2011 Mark Cavendish · 2012 B...</td>\n",
       "    </tr>\n",
       "  </tbody>\n",
       "</table>\n",
       "</div>"
      ],
      "text/plain": [
       "  vdePersonalidade do Ano pela BBC Sports  \\\n",
       "0                               1954–1959   \n",
       "1                               1960–1969   \n",
       "2                               1970–1979   \n",
       "3                               1980–1989   \n",
       "4                               1990–1999   \n",
       "5                               2000–2009   \n",
       "6                                   2010–   \n",
       "\n",
       "           vdePersonalidade do Ano pela BBC Sports.1  \n",
       "0  1954 Christopher Chataway · 1955 Gordon Pirie ...  \n",
       "1  1960 David Broome · 1961 Stirling Moss · 1962 ...  \n",
       "2  1970 Henry Cooper · 1971 SAR Princesa Ana do R...  \n",
       "3  1980 Robin Cousins · 1981 Ian Botham · 1982 Da...  \n",
       "4  1990 Paul Gascoigne · 1991 Liz McColgan · 1992...  \n",
       "5  2000 Steve Redgrave · 2001 David Beckham · 200...  \n",
       "6  2010 Tony McCoy · 2011 Mark Cavendish · 2012 B...  "
      ]
     },
     "execution_count": 16,
     "metadata": {},
     "output_type": "execute_result"
    }
   ],
   "source": [
    "#Exibindo os dados\n",
    "\n",
    "df_tabela"
   ]
  },
  {
   "cell_type": "code",
   "execution_count": 42,
   "metadata": {},
   "outputs": [
    {
     "name": "stdout",
     "output_type": "stream",
     "text": [
      "Digite o nome do arquivo a ser exportado: arquivo\n"
     ]
    }
   ],
   "source": [
    "#Nomeando o arquivo XLSX a ser salvo\n",
    "\n",
    "arquivo_exportado = str(input(\"Digite o nome do arquivo a ser exportado: \"))\n",
    "arquivo_exportado = arquivo_exportado + \".xlsx\""
   ]
  },
  {
   "cell_type": "code",
   "execution_count": 43,
   "metadata": {},
   "outputs": [],
   "source": [
    "#Exportando o arquivo como XLSX\n",
    "\n",
    "df_tabela.to_excel(arquivo_exportado, index = False)"
   ]
  },
  {
   "cell_type": "code",
   "execution_count": null,
   "metadata": {},
   "outputs": [],
   "source": []
  }
 ],
 "metadata": {
  "kernelspec": {
   "display_name": "Python 3",
   "language": "python",
   "name": "python3"
  },
  "language_info": {
   "codemirror_mode": {
    "name": "ipython",
    "version": 3
   },
   "file_extension": ".py",
   "mimetype": "text/x-python",
   "name": "python",
   "nbconvert_exporter": "python",
   "pygments_lexer": "ipython3",
   "version": "3.7.7"
  }
 },
 "nbformat": 4,
 "nbformat_minor": 4
}
