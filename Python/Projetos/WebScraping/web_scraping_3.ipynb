{
 "cells": [
  {
   "cell_type": "markdown",
   "metadata": {},
   "source": [
    "### Referências:\n",
    "\n",
    "### https://www.pilulaeconomica.com/post/introdu%C3%A7%C3%A3o-ao-web-scraping-com-python\n",
    "### https://simpleanalytical.com/how-to-web-scrape-wikipedia-python-urllib-beautiful-soup-pandas\n",
    "### https://goomore.com/blog/web-scraping-python/"
   ]
  },
  {
   "cell_type": "code",
   "execution_count": 17,
   "metadata": {},
   "outputs": [],
   "source": [
    "#Importando as bibliotecas\n",
    "\n",
    "from pandas.io.html import read_html\n",
    "import pandas as pd\n",
    "from IPython.display import clear_output"
   ]
  },
  {
   "cell_type": "code",
   "execution_count": 18,
   "metadata": {},
   "outputs": [
    {
     "name": "stdout",
     "output_type": "stream",
     "text": [
      "Digite o site com os dados: https://en.wikipedia.org/wiki/1999%E2%80%932000_FA_Premier_League\n"
     ]
    }
   ],
   "source": [
    "#Site de onde as informações serão coletadas\n",
    "\n",
    "site = input(\"Digite o site com os dados: \")"
   ]
  },
  {
   "cell_type": "code",
   "execution_count": 19,
   "metadata": {},
   "outputs": [],
   "source": [
    "#Tratamento dos dados\n",
    "\n",
    "tabela = read_html(site, decimal = ',', thousands = '.')"
   ]
  },
  {
   "cell_type": "code",
   "execution_count": 20,
   "metadata": {},
   "outputs": [
    {
     "data": {
      "text/plain": [
       "18"
      ]
     },
     "execution_count": 20,
     "metadata": {},
     "output_type": "execute_result"
    }
   ],
   "source": [
    "#Quantidade de tabelas importadas\n",
    "\n",
    "len(tabela)"
   ]
  },
  {
   "cell_type": "code",
   "execution_count": 31,
   "metadata": {},
   "outputs": [
    {
     "name": "stdout",
     "output_type": "stream",
     "text": [
      "Digite o número da tabela a ser consultada: 3\n"
     ]
    }
   ],
   "source": [
    "#Seleção da tabela cujos dados serão baixados\n",
    "\n",
    "numero_tabela = 0\n",
    "while(numero_tabela<=0 or numero_tabela>(len(tabela))):\n",
    "    clear_output()\n",
    "    numero_tabela = int(input(\"Digite o número da tabela a ser consultada: \"))\n",
    "    if (numero_tabela<=0 or numero_tabela>(len(tabela))):\n",
    "        print(\"Digite um número entre 1 e \", len(tabela))\n",
    "    "
   ]
  },
  {
   "cell_type": "code",
   "execution_count": 32,
   "metadata": {},
   "outputs": [],
   "source": [
    "#Salvando os dados em um DataFrame\n",
    "\n",
    "df_tabela = pd.DataFrame(tabela[numero_tabela - 1])"
   ]
  },
  {
   "cell_type": "code",
   "execution_count": 33,
   "metadata": {},
   "outputs": [
    {
     "data": {
      "text/html": [
       "<div>\n",
       "<style scoped>\n",
       "    .dataframe tbody tr th:only-of-type {\n",
       "        vertical-align: middle;\n",
       "    }\n",
       "\n",
       "    .dataframe tbody tr th {\n",
       "        vertical-align: top;\n",
       "    }\n",
       "\n",
       "    .dataframe thead th {\n",
       "        text-align: right;\n",
       "    }\n",
       "</style>\n",
       "<table border=\"1\" class=\"dataframe\">\n",
       "  <thead>\n",
       "    <tr style=\"text-align: right;\">\n",
       "      <th></th>\n",
       "      <th>Team</th>\n",
       "      <th>Location</th>\n",
       "      <th>Stadium</th>\n",
       "      <th>Capacity</th>\n",
       "    </tr>\n",
       "  </thead>\n",
       "  <tbody>\n",
       "    <tr>\n",
       "      <th>0</th>\n",
       "      <td>Arsenal</td>\n",
       "      <td>London (Highbury)</td>\n",
       "      <td>Arsenal Stadium</td>\n",
       "      <td>38.419</td>\n",
       "    </tr>\n",
       "    <tr>\n",
       "      <th>1</th>\n",
       "      <td>Aston Villa</td>\n",
       "      <td>Birmingham</td>\n",
       "      <td>Villa Park</td>\n",
       "      <td>42.573</td>\n",
       "    </tr>\n",
       "    <tr>\n",
       "      <th>2</th>\n",
       "      <td>Bradford City</td>\n",
       "      <td>Bradford</td>\n",
       "      <td>Valley Parade</td>\n",
       "      <td>25.136</td>\n",
       "    </tr>\n",
       "    <tr>\n",
       "      <th>3</th>\n",
       "      <td>Chelsea</td>\n",
       "      <td>London (Fulham)</td>\n",
       "      <td>Stamford Bridge</td>\n",
       "      <td>42.055</td>\n",
       "    </tr>\n",
       "    <tr>\n",
       "      <th>4</th>\n",
       "      <td>Coventry City</td>\n",
       "      <td>Coventry</td>\n",
       "      <td>Highfield Road</td>\n",
       "      <td>23.489</td>\n",
       "    </tr>\n",
       "    <tr>\n",
       "      <th>5</th>\n",
       "      <td>Derby County</td>\n",
       "      <td>Derby</td>\n",
       "      <td>Pride Park Stadium</td>\n",
       "      <td>33.597</td>\n",
       "    </tr>\n",
       "    <tr>\n",
       "      <th>6</th>\n",
       "      <td>Everton</td>\n",
       "      <td>Liverpool (Walton)</td>\n",
       "      <td>Goodison Park</td>\n",
       "      <td>40.569</td>\n",
       "    </tr>\n",
       "    <tr>\n",
       "      <th>7</th>\n",
       "      <td>Leeds United</td>\n",
       "      <td>Leeds</td>\n",
       "      <td>Elland Road</td>\n",
       "      <td>40.242</td>\n",
       "    </tr>\n",
       "    <tr>\n",
       "      <th>8</th>\n",
       "      <td>Leicester City</td>\n",
       "      <td>Leicester</td>\n",
       "      <td>Filbert Street</td>\n",
       "      <td>22.000</td>\n",
       "    </tr>\n",
       "    <tr>\n",
       "      <th>9</th>\n",
       "      <td>Liverpool</td>\n",
       "      <td>Liverpool (Anfield)</td>\n",
       "      <td>Anfield</td>\n",
       "      <td>45.522</td>\n",
       "    </tr>\n",
       "    <tr>\n",
       "      <th>10</th>\n",
       "      <td>Manchester United</td>\n",
       "      <td>Old Trafford</td>\n",
       "      <td>Old Trafford</td>\n",
       "      <td>68.174</td>\n",
       "    </tr>\n",
       "    <tr>\n",
       "      <th>11</th>\n",
       "      <td>Middlesbrough</td>\n",
       "      <td>Middlesbrough</td>\n",
       "      <td>Riverside Stadium</td>\n",
       "      <td>35.049</td>\n",
       "    </tr>\n",
       "    <tr>\n",
       "      <th>12</th>\n",
       "      <td>Newcastle United</td>\n",
       "      <td>Newcastle upon Tyne</td>\n",
       "      <td>St James' Park</td>\n",
       "      <td>52.387</td>\n",
       "    </tr>\n",
       "    <tr>\n",
       "      <th>13</th>\n",
       "      <td>Sheffield Wednesday</td>\n",
       "      <td>Sheffield</td>\n",
       "      <td>Hillsborough Stadium</td>\n",
       "      <td>39.732</td>\n",
       "    </tr>\n",
       "    <tr>\n",
       "      <th>14</th>\n",
       "      <td>Southampton</td>\n",
       "      <td>Southampton</td>\n",
       "      <td>The Dell</td>\n",
       "      <td>15.200</td>\n",
       "    </tr>\n",
       "    <tr>\n",
       "      <th>15</th>\n",
       "      <td>Sunderland</td>\n",
       "      <td>Sunderland</td>\n",
       "      <td>Stadium of Light</td>\n",
       "      <td>49.000</td>\n",
       "    </tr>\n",
       "    <tr>\n",
       "      <th>16</th>\n",
       "      <td>Tottenham Hotspur</td>\n",
       "      <td>London (Tottenham)</td>\n",
       "      <td>White Hart Lane</td>\n",
       "      <td>36.240</td>\n",
       "    </tr>\n",
       "    <tr>\n",
       "      <th>17</th>\n",
       "      <td>Watford</td>\n",
       "      <td>Watford</td>\n",
       "      <td>Vicarage Road</td>\n",
       "      <td>19.920</td>\n",
       "    </tr>\n",
       "    <tr>\n",
       "      <th>18</th>\n",
       "      <td>West Ham United</td>\n",
       "      <td>London (Upton Park)</td>\n",
       "      <td>Boleyn Ground</td>\n",
       "      <td>35.647</td>\n",
       "    </tr>\n",
       "    <tr>\n",
       "      <th>19</th>\n",
       "      <td>Wimbledon</td>\n",
       "      <td>London (Wimbledon)</td>\n",
       "      <td>Selhurst Park[a]</td>\n",
       "      <td>26.074</td>\n",
       "    </tr>\n",
       "  </tbody>\n",
       "</table>\n",
       "</div>"
      ],
      "text/plain": [
       "                   Team             Location               Stadium  Capacity\n",
       "0               Arsenal    London (Highbury)       Arsenal Stadium    38.419\n",
       "1           Aston Villa           Birmingham            Villa Park    42.573\n",
       "2         Bradford City             Bradford         Valley Parade    25.136\n",
       "3               Chelsea      London (Fulham)       Stamford Bridge    42.055\n",
       "4         Coventry City             Coventry        Highfield Road    23.489\n",
       "5          Derby County                Derby    Pride Park Stadium    33.597\n",
       "6               Everton   Liverpool (Walton)         Goodison Park    40.569\n",
       "7          Leeds United                Leeds           Elland Road    40.242\n",
       "8        Leicester City            Leicester        Filbert Street    22.000\n",
       "9             Liverpool  Liverpool (Anfield)               Anfield    45.522\n",
       "10    Manchester United         Old Trafford          Old Trafford    68.174\n",
       "11        Middlesbrough        Middlesbrough     Riverside Stadium    35.049\n",
       "12     Newcastle United  Newcastle upon Tyne        St James' Park    52.387\n",
       "13  Sheffield Wednesday            Sheffield  Hillsborough Stadium    39.732\n",
       "14          Southampton          Southampton              The Dell    15.200\n",
       "15           Sunderland           Sunderland      Stadium of Light    49.000\n",
       "16    Tottenham Hotspur   London (Tottenham)       White Hart Lane    36.240\n",
       "17              Watford              Watford         Vicarage Road    19.920\n",
       "18      West Ham United  London (Upton Park)         Boleyn Ground    35.647\n",
       "19            Wimbledon   London (Wimbledon)      Selhurst Park[a]    26.074"
      ]
     },
     "execution_count": 33,
     "metadata": {},
     "output_type": "execute_result"
    }
   ],
   "source": [
    "#Exibindo os dados\n",
    "\n",
    "df_tabela"
   ]
  },
  {
   "cell_type": "code",
   "execution_count": 39,
   "metadata": {},
   "outputs": [
    {
     "name": "stdout",
     "output_type": "stream",
     "text": [
      "Digite o nome do arquivo a ser exportado: arquivo\n"
     ]
    }
   ],
   "source": [
    "#Nomeando o arquivo CSV a ser salvo\n",
    "\n",
    "arquivo = str(input(\"Digite o nome do arquivo a ser exportado: \"))\n",
    "arquivo = arquivo + \".csv\""
   ]
  },
  {
   "cell_type": "code",
   "execution_count": 41,
   "metadata": {},
   "outputs": [],
   "source": [
    "#Exportando o arquivo como CSV\n",
    "\n",
    "df_tabela.to_csv(arquivo, index = False)"
   ]
  },
  {
   "cell_type": "code",
   "execution_count": null,
   "metadata": {},
   "outputs": [],
   "source": []
  }
 ],
 "metadata": {
  "kernelspec": {
   "display_name": "Python 3",
   "language": "python",
   "name": "python3"
  },
  "language_info": {
   "codemirror_mode": {
    "name": "ipython",
    "version": 3
   },
   "file_extension": ".py",
   "mimetype": "text/x-python",
   "name": "python",
   "nbconvert_exporter": "python",
   "pygments_lexer": "ipython3",
   "version": "3.7.7"
  }
 },
 "nbformat": 4,
 "nbformat_minor": 4
}
