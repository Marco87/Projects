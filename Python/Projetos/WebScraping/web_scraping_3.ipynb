{
 "cells": [
  {
   "cell_type": "markdown",
   "metadata": {},
   "source": [
    "### https://www.pilulaeconomica.com/post/introdu%C3%A7%C3%A3o-ao-web-scraping-com-python"
   ]
  },
  {
   "cell_type": "code",
   "execution_count": 2,
   "metadata": {},
   "outputs": [],
   "source": [
    "#Importando as bibliotecas\n",
    "\n",
    "from pandas.io.html import read_html\n",
    "import pandas as pd"
   ]
  },
  {
   "cell_type": "code",
   "execution_count": 3,
   "metadata": {},
   "outputs": [
    {
     "name": "stdout",
     "output_type": "stream",
     "text": [
      "Digite o site com os dados: https://en.wikipedia.org/wiki/1999%E2%80%932000_FA_Premier_League\n"
     ]
    }
   ],
   "source": [
    "#Site de onde as informações serão coletadas\n",
    "\n",
    "site = input(\"Digite o site com os dados: \")"
   ]
  },
  {
   "cell_type": "code",
   "execution_count": 4,
   "metadata": {},
   "outputs": [],
   "source": [
    "#Tratamento dos dados\n",
    "\n",
    "tabela = read_html(site, decimal = ',', thousands = '.')"
   ]
  },
  {
   "cell_type": "code",
   "execution_count": 5,
   "metadata": {},
   "outputs": [
    {
     "data": {
      "text/plain": [
       "18"
      ]
     },
     "execution_count": 5,
     "metadata": {},
     "output_type": "execute_result"
    }
   ],
   "source": [
    "#Quantidade de tabelas importadas\n",
    "\n",
    "len(tabela)"
   ]
  },
  {
   "cell_type": "code",
   "execution_count": null,
   "metadata": {},
   "outputs": [],
   "source": [
    "#Seleção da tabela cujos dados serão baixados\n",
    "\n",
    "numero_tabela = 0\n",
    "while(numero_tabela<=0 or numero_tabela>(len(tabela))):\n",
    "    numero_tabela = int(input(\"Digite o número da tabela a ser consultada\"))\n",
    "    if (numero_tabela<=0 or numero_tabela>(len(tabela))):\n",
    "        print(\"Digite um número entre 1 e \", len(tabela))"
   ]
  },
  {
   "cell_type": "code",
   "execution_count": 17,
   "metadata": {},
   "outputs": [],
   "source": [
    "#Salvando os dados em um DataFrame\n",
    "\n",
    "df_wiki = pd.DataFrame(tabela[numero_tabela - 1])"
   ]
  },
  {
   "cell_type": "code",
   "execution_count": 18,
   "metadata": {},
   "outputs": [
    {
     "data": {
      "text/html": [
       "<div>\n",
       "<style scoped>\n",
       "    .dataframe tbody tr th:only-of-type {\n",
       "        vertical-align: middle;\n",
       "    }\n",
       "\n",
       "    .dataframe tbody tr th {\n",
       "        vertical-align: top;\n",
       "    }\n",
       "\n",
       "    .dataframe thead th {\n",
       "        text-align: right;\n",
       "    }\n",
       "</style>\n",
       "<table border=\"1\" class=\"dataframe\">\n",
       "  <thead>\n",
       "    <tr style=\"text-align: right;\">\n",
       "      <th></th>\n",
       "      <th>Team</th>\n",
       "      <th>Outgoing manager</th>\n",
       "      <th>Manner of departure</th>\n",
       "      <th>Date of vacancy</th>\n",
       "      <th>Position in table</th>\n",
       "      <th>Incoming manager</th>\n",
       "      <th>Date of appointment</th>\n",
       "    </tr>\n",
       "  </thead>\n",
       "  <tbody>\n",
       "    <tr>\n",
       "      <th>0</th>\n",
       "      <td>Wimbledon</td>\n",
       "      <td>Joe Kinnear</td>\n",
       "      <td>Resigned</td>\n",
       "      <td>9 June 1999</td>\n",
       "      <td>Pre-season</td>\n",
       "      <td>Egil Olsen</td>\n",
       "      <td>9 June 1999</td>\n",
       "    </tr>\n",
       "    <tr>\n",
       "      <th>1</th>\n",
       "      <td>Newcastle United</td>\n",
       "      <td>Ruud Gullit</td>\n",
       "      <td>Resigned</td>\n",
       "      <td>28 August 1999[2]</td>\n",
       "      <td>19th</td>\n",
       "      <td>Bobby Robson</td>\n",
       "      <td>2 September 1999[3]</td>\n",
       "    </tr>\n",
       "    <tr>\n",
       "      <th>2</th>\n",
       "      <td>Southampton</td>\n",
       "      <td>Dave Jones</td>\n",
       "      <td>Contract terminated</td>\n",
       "      <td>27 January 2000[a]</td>\n",
       "      <td>17th</td>\n",
       "      <td>Glenn Hoddle</td>\n",
       "      <td>28 January 2000</td>\n",
       "    </tr>\n",
       "    <tr>\n",
       "      <th>3</th>\n",
       "      <td>Sheffield Wednesday</td>\n",
       "      <td>Danny Wilson</td>\n",
       "      <td>Sacked</td>\n",
       "      <td>21 March 2000[4]</td>\n",
       "      <td>19th</td>\n",
       "      <td>Peter Shreeves (caretaker)</td>\n",
       "      <td>21 March 2000</td>\n",
       "    </tr>\n",
       "    <tr>\n",
       "      <th>4</th>\n",
       "      <td>Wimbledon</td>\n",
       "      <td>Egil Olsen</td>\n",
       "      <td>Sacked</td>\n",
       "      <td>1 May 2000[5]</td>\n",
       "      <td>18th</td>\n",
       "      <td>Terry Burton</td>\n",
       "      <td>1 May 2000</td>\n",
       "    </tr>\n",
       "  </tbody>\n",
       "</table>\n",
       "</div>"
      ],
      "text/plain": [
       "                  Team Outgoing manager  Manner of departure  \\\n",
       "0            Wimbledon      Joe Kinnear             Resigned   \n",
       "1     Newcastle United      Ruud Gullit             Resigned   \n",
       "2          Southampton       Dave Jones  Contract terminated   \n",
       "3  Sheffield Wednesday     Danny Wilson               Sacked   \n",
       "4            Wimbledon       Egil Olsen               Sacked   \n",
       "\n",
       "      Date of vacancy Position in table            Incoming manager  \\\n",
       "0         9 June 1999        Pre-season                  Egil Olsen   \n",
       "1   28 August 1999[2]              19th                Bobby Robson   \n",
       "2  27 January 2000[a]              17th                Glenn Hoddle   \n",
       "3    21 March 2000[4]              19th  Peter Shreeves (caretaker)   \n",
       "4       1 May 2000[5]              18th                Terry Burton   \n",
       "\n",
       "   Date of appointment  \n",
       "0          9 June 1999  \n",
       "1  2 September 1999[3]  \n",
       "2      28 January 2000  \n",
       "3        21 March 2000  \n",
       "4           1 May 2000  "
      ]
     },
     "execution_count": 18,
     "metadata": {},
     "output_type": "execute_result"
    }
   ],
   "source": [
    "#Exibindo os dados\n",
    "\n",
    "df_wiki"
   ]
  },
  {
   "cell_type": "code",
   "execution_count": null,
   "metadata": {},
   "outputs": [],
   "source": []
  }
 ],
 "metadata": {
  "kernelspec": {
   "display_name": "Python 3",
   "language": "python",
   "name": "python3"
  },
  "language_info": {
   "codemirror_mode": {
    "name": "ipython",
    "version": 3
   },
   "file_extension": ".py",
   "mimetype": "text/x-python",
   "name": "python",
   "nbconvert_exporter": "python",
   "pygments_lexer": "ipython3",
   "version": "3.7.7"
  }
 },
 "nbformat": 4,
 "nbformat_minor": 4
}
