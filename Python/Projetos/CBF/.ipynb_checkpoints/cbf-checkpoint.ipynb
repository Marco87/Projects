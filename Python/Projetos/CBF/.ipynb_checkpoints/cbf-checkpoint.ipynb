{
 "cells": [
  {
   "cell_type": "code",
   "execution_count": 8,
   "metadata": {},
   "outputs": [],
   "source": [
    "import tabula\n",
    "import time\n",
    "import numpy as np\n",
    "import pandas as pd"
   ]
  },
  {
   "cell_type": "code",
   "execution_count": 7,
   "metadata": {},
   "outputs": [
    {
     "name": "stderr",
     "output_type": "stream",
     "text": [
      "Got stderr: mai. 19, 2021 8:30:12 PM org.apache.pdfbox.pdmodel.font.PDCIDFontType2 <init>\n",
      "INFORMAÇÕES: OpenType Layout tables used in font ABCDEE+Calibri,Bold are not implemented in PDFBox and will be ignored\n",
      "mai. 19, 2021 8:30:13 PM org.apache.pdfbox.pdmodel.font.PDCIDFontType2 <init>\n",
      "INFORMAÇÕES: OpenType Layout tables used in font ABCDEE+Calibri,BoldItalic are not implemented in PDFBox and will be ignored\n",
      "mai. 19, 2021 8:30:13 PM org.apache.pdfbox.pdmodel.font.PDCIDFontType2 <init>\n",
      "INFORMAÇÕES: OpenType Layout tables used in font ABCDEE+Calibri,Bold are not implemented in PDFBox and will be ignored\n",
      "mai. 19, 2021 8:30:13 PM org.apache.pdfbox.pdmodel.font.PDCIDFontType2 <init>\n",
      "INFORMAÇÕES: OpenType Layout tables used in font ABCDEE+Calibri,BoldItalic are not implemented in PDFBox and will be ignored\n",
      "mai. 19, 2021 8:30:13 PM org.apache.pdfbox.pdmodel.font.PDCIDFontType2 <init>\n",
      "INFORMAÇÕES: OpenType Layout tables used in font ABCDEE+Calibri,Bold are not implemented in PDFBox and will be ignored\n",
      "mai. 19, 2021 8:30:13 PM org.apache.pdfbox.pdmodel.font.PDCIDFontType2 <init>\n",
      "INFORMAÇÕES: OpenType Layout tables used in font ABCDEE+Calibri,BoldItalic are not implemented in PDFBox and will be ignored\n",
      "mai. 19, 2021 8:30:13 PM org.apache.pdfbox.pdmodel.font.PDCIDFontType2 <init>\n",
      "INFORMAÇÕES: OpenType Layout tables used in font ABCDEE+Calibri are not implemented in PDFBox and will be ignored\n",
      "mai. 19, 2021 8:30:13 PM org.apache.pdfbox.pdmodel.font.PDCIDFontType2 <init>\n",
      "INFORMAÇÕES: OpenType Layout tables used in font ABCDEE+Calibri,Italic are not implemented in PDFBox and will be ignored\n",
      "mai. 19, 2021 8:30:13 PM org.apache.pdfbox.pdmodel.font.PDCIDFontType2 <init>\n",
      "INFORMAÇÕES: OpenType Layout tables used in font ABCDEE+Calibri are not implemented in PDFBox and will be ignored\n",
      "mai. 19, 2021 8:30:14 PM org.apache.pdfbox.pdmodel.font.PDCIDFontType2 <init>\n",
      "INFORMAÇÕES: OpenType Layout tables used in font ABCDEE+Calibri,Italic are not implemented in PDFBox and will be ignored\n",
      "mai. 19, 2021 8:30:14 PM org.apache.pdfbox.pdmodel.font.PDCIDFontType2 <init>\n",
      "INFORMAÇÕES: OpenType Layout tables used in font ABCDEE+Calibri are not implemented in PDFBox and will be ignored\n",
      "mai. 19, 2021 8:30:14 PM org.apache.pdfbox.pdmodel.font.PDCIDFontType2 <init>\n",
      "INFORMAÇÕES: OpenType Layout tables used in font ABCDEE+Calibri,Italic are not implemented in PDFBox and will be ignored\n",
      "mai. 19, 2021 8:30:14 PM org.apache.pdfbox.pdmodel.font.PDCIDFontType2 <init>\n",
      "INFORMAÇÕES: OpenType Layout tables used in font ABCDEE+Cambria are not implemented in PDFBox and will be ignored\n",
      "mai. 19, 2021 8:30:14 PM org.apache.pdfbox.pdmodel.font.PDCIDFontType2 <init>\n",
      "INFORMAÇÕES: OpenType Layout tables used in font ABCDEE+Cambria are not implemented in PDFBox and will be ignored\n",
      "mai. 19, 2021 8:30:14 PM org.apache.pdfbox.pdmodel.font.PDCIDFontType2 <init>\n",
      "INFORMAÇÕES: OpenType Layout tables used in font ABCDEE+Calibri,Italic are not implemented in PDFBox and will be ignored\n",
      "mai. 19, 2021 8:30:14 PM org.apache.pdfbox.pdmodel.font.PDCIDFontType2 <init>\n",
      "INFORMAÇÕES: OpenType Layout tables used in font ABCDEE+Cambria are not implemented in PDFBox and will be ignored\n",
      "mai. 19, 2021 8:30:14 PM org.apache.pdfbox.pdmodel.font.PDCIDFontType2 <init>\n",
      "INFORMAÇÕES: OpenType Layout tables used in font ABCDEE+Calibri,Italic are not implemented in PDFBox and will be ignored\n",
      "mai. 19, 2021 8:30:15 PM org.apache.pdfbox.pdmodel.font.PDCIDFontType2 <init>\n",
      "INFORMAÇÕES: OpenType Layout tables used in font ABCDEE+Calibri,Italic are not implemented in PDFBox and will be ignored\n",
      "mai. 19, 2021 8:30:15 PM org.apache.pdfbox.pdmodel.font.PDCIDFontType2 <init>\n",
      "INFORMAÇÕES: OpenType Layout tables used in font ABCDEE+Calibri,Italic are not implemented in PDFBox and will be ignored\n",
      "mai. 19, 2021 8:30:16 PM org.apache.pdfbox.pdmodel.font.PDCIDFontType2 <init>\n",
      "INFORMAÇÕES: OpenType Layout tables used in font ABCDEE+Calibri,Bold are not implemented in PDFBox and will be ignored\n",
      "mai. 19, 2021 8:30:16 PM org.apache.pdfbox.pdmodel.font.PDCIDFontType2 <init>\n",
      "INFORMAÇÕES: OpenType Layout tables used in font ABCDEE+Calibri,Bold are not implemented in PDFBox and will be ignored\n",
      "mai. 19, 2021 8:30:18 PM org.apache.pdfbox.pdmodel.font.PDCIDFontType2 <init>\n",
      "INFORMAÇÕES: OpenType Layout tables used in font ABCDEE+Calibri are not implemented in PDFBox and will be ignored\n",
      "mai. 19, 2021 8:30:18 PM org.apache.pdfbox.pdmodel.font.PDCIDFontType2 <init>\n",
      "INFORMAÇÕES: OpenType Layout tables used in font ABCDEE+Calibri are not implemented in PDFBox and will be ignored\n",
      "mai. 19, 2021 8:30:26 PM org.apache.pdfbox.pdmodel.font.PDCIDFontType2 <init>\n",
      "INFORMAÇÕES: OpenType Layout tables used in font ABCDEE+Calibri are not implemented in PDFBox and will be ignored\n",
      "mai. 19, 2021 8:30:26 PM org.apache.pdfbox.pdmodel.font.PDCIDFontType2 <init>\n",
      "INFORMAÇÕES: OpenType Layout tables used in font ABCDEE+Calibri are not implemented in PDFBox and will be ignored\n",
      "mai. 19, 2021 8:30:28 PM org.apache.pdfbox.pdmodel.font.PDCIDFontType2 <init>\n",
      "INFORMAÇÕES: OpenType Layout tables used in font ABCDEE+Calibri are not implemented in PDFBox and will be ignored\n",
      "mai. 19, 2021 8:30:29 PM org.apache.pdfbox.pdmodel.font.PDCIDFontType2 <init>\n",
      "INFORMAÇÕES: OpenType Layout tables used in font ABCDEE+Calibri are not implemented in PDFBox and will be ignored\n",
      "mai. 19, 2021 8:30:30 PM org.apache.pdfbox.pdmodel.font.PDCIDFontType2 <init>\n",
      "INFORMAÇÕES: OpenType Layout tables used in font ABCDEE+Calibri are not implemented in PDFBox and will be ignored\n",
      "mai. 19, 2021 8:30:30 PM org.apache.pdfbox.pdmodel.font.PDCIDFontType2 <init>\n",
      "INFORMAÇÕES: OpenType Layout tables used in font ABCDEE+Calibri are not implemented in PDFBox and will be ignored\n",
      "mai. 19, 2021 8:30:31 PM org.apache.pdfbox.pdmodel.font.PDCIDFontType2 <init>\n",
      "INFORMAÇÕES: OpenType Layout tables used in font ABCDEE+Calibri are not implemented in PDFBox and will be ignored\n",
      "mai. 19, 2021 8:30:32 PM org.apache.pdfbox.pdmodel.font.PDCIDFontType2 <init>\n",
      "INFORMAÇÕES: OpenType Layout tables used in font ABCDEE+Calibri are not implemented in PDFBox and will be ignored\n",
      "mai. 19, 2021 8:30:32 PM org.apache.pdfbox.pdmodel.font.PDCIDFontType2 <init>\n",
      "INFORMAÇÕES: OpenType Layout tables used in font ABCDEE+Calibri are not implemented in PDFBox and will be ignored\n",
      "mai. 19, 2021 8:30:32 PM org.apache.pdfbox.pdmodel.font.PDCIDFontType2 <init>\n",
      "INFORMAÇÕES: OpenType Layout tables used in font ABCDEE+Calibri are not implemented in PDFBox and will be ignored\n",
      "mai. 19, 2021 8:30:34 PM org.apache.pdfbox.pdmodel.font.PDCIDFontType2 <init>\n",
      "INFORMAÇÕES: OpenType Layout tables used in font ABCDEE+Calibri are not implemented in PDFBox and will be ignored\n",
      "mai. 19, 2021 8:30:34 PM org.apache.pdfbox.pdmodel.font.PDCIDFontType2 <init>\n",
      "INFORMAÇÕES: OpenType Layout tables used in font ABCDEE+Calibri are not implemented in PDFBox and will be ignored\n",
      "mai. 19, 2021 8:30:35 PM org.apache.pdfbox.pdmodel.font.PDCIDFontType2 <init>\n",
      "INFORMAÇÕES: OpenType Layout tables used in font ABCDEE+Calibri are not implemented in PDFBox and will be ignored\n",
      "mai. 19, 2021 8:30:35 PM org.apache.pdfbox.pdmodel.font.PDCIDFontType2 <init>\n",
      "INFORMAÇÕES: OpenType Layout tables used in font ABCDEE+Calibri are not implemented in PDFBox and will be ignored\n",
      "mai. 19, 2021 8:30:36 PM org.apache.pdfbox.pdmodel.font.PDCIDFontType2 <init>\n",
      "INFORMAÇÕES: OpenType Layout tables used in font ABCDEE+Calibri are not implemented in PDFBox and will be ignored\n",
      "mai. 19, 2021 8:30:36 PM org.apache.pdfbox.pdmodel.font.PDCIDFontType2 <init>\n",
      "INFORMAÇÕES: OpenType Layout tables used in font ABCDEE+Calibri are not implemented in PDFBox and will be ignored\n",
      "mai. 19, 2021 8:30:36 PM org.apache.pdfbox.pdmodel.font.PDCIDFontType2 <init>\n",
      "INFORMAÇÕES: OpenType Layout tables used in font ABCDEE+Calibri are not implemented in PDFBox and will be ignored\n",
      "mai. 19, 2021 8:30:37 PM org.apache.pdfbox.pdmodel.font.PDCIDFontType2 <init>\n",
      "INFORMAÇÕES: OpenType Layout tables used in font ABCDEE+Calibri are not implemented in PDFBox and will be ignored\n",
      "mai. 19, 2021 8:30:39 PM org.apache.pdfbox.pdmodel.font.PDCIDFontType2 <init>\n",
      "INFORMAÇÕES: OpenType Layout tables used in font ABCEEE+Cambria,Italic are not implemented in PDFBox and will be ignored\n",
      "mai. 19, 2021 8:30:39 PM org.apache.pdfbox.pdmodel.font.PDCIDFontType2 <init>\n",
      "INFORMAÇÕES: OpenType Layout tables used in font ABCEEE+Cambria,Italic are not implemented in PDFBox and will be ignored\n",
      "mai. 19, 2021 8:30:39 PM org.apache.pdfbox.pdmodel.font.PDCIDFontType2 <init>\n",
      "INFORMAÇÕES: OpenType Layout tables used in font ABCEEE+Cambria,Italic are not implemented in PDFBox and will be ignored\n",
      "\n"
     ]
    }
   ],
   "source": [
    "#Convertendo o arquivo\n",
    "tabula.convert_into(r\"dados/cbf.pdf\", r\"dados/cbf.csv\", output_format=\"csv\", pages=\"all\", stream=True)"
   ]
  },
  {
   "cell_type": "code",
   "execution_count": 33,
   "metadata": {},
   "outputs": [],
   "source": [
    "#Lendo o csv gerado\n",
    "df_cbf = pd.read_csv(\"dados/cbf.csv\", sep=',')"
   ]
  },
  {
   "cell_type": "code",
   "execution_count": 34,
   "metadata": {},
   "outputs": [],
   "source": [
    "#Renomeando as colunas\n",
    "df_cbf.columns=[\"col1\", \"col2\", \"col3\", \"col4\", \"col5\"]"
   ]
  },
  {
   "cell_type": "code",
   "execution_count": 36,
   "metadata": {},
   "outputs": [],
   "source": [
    "#Removendo a última coluna\n",
    "df_cbf = df_cbf.drop(columns='col5')"
   ]
  },
  {
   "cell_type": "code",
   "execution_count": null,
   "metadata": {},
   "outputs": [],
   "source": []
  }
 ],
 "metadata": {
  "kernelspec": {
   "display_name": "Python 3",
   "language": "python",
   "name": "python3"
  },
  "language_info": {
   "codemirror_mode": {
    "name": "ipython",
    "version": 3
   },
   "file_extension": ".py",
   "mimetype": "text/x-python",
   "name": "python",
   "nbconvert_exporter": "python",
   "pygments_lexer": "ipython3",
   "version": "3.7.7"
  }
 },
 "nbformat": 4,
 "nbformat_minor": 4
}
