{
 "cells": [
  {
   "cell_type": "markdown",
   "metadata": {},
   "source": [
    "![title](https://i.pinimg.com/236x/ce/b4/18/ceb41806c3fcf8216de0086ade094e71.jpg)"
   ]
  },
  {
   "cell_type": "markdown",
   "metadata": {},
   "source": [
    "### Prêmio France Football"
   ]
  },
  {
   "cell_type": "markdown",
   "metadata": {},
   "source": [
    "### Importando as bibliotecas"
   ]
  },
  {
   "cell_type": "code",
   "execution_count": 1,
   "metadata": {},
   "outputs": [],
   "source": [
    "#Importando as bibliotecas\n",
    "\n",
    "import numpy as np\n",
    "import pandas as pd\n",
    "import matplotlib\n",
    "import matplotlib.pyplot as plt\n",
    "from pandas.io.html import read_html\n",
    "from IPython.display import clear_output\n",
    "\n",
    "import requests\n",
    "from bs4 import BeautifulSoup\n",
    "import re"
   ]
  },
  {
   "cell_type": "markdown",
   "metadata": {},
   "source": [
    "### Web Scraping (Opção 1)"
   ]
  },
  {
   "cell_type": "code",
   "execution_count": 2,
   "metadata": {},
   "outputs": [],
   "source": [
    "#Tratamento do site de onde os dados serão coletados\n",
    "\n",
    "#Vencedores até 2009\n",
    "site_1 = \"https://www.ogol.com.br/award.php?id=1\"\n",
    "tabela_1 = read_html(site_1, decimal = ',', thousands = '.')\n",
    "\n",
    "#Vencedores após 2015\n",
    "site_2 = \"https://www.ogol.com.br/award.php?id=1&id_evento=0&ano=0&mes=0&epoca=0&jornada=0&page=2\"\n",
    "tabela_2 = read_html(site_2, decimal = ',', thousands = '.')\n",
    "\n",
    "#Vencedores entre 2010 e 2015\n",
    "site_3 = \"https://www.ogol.com.br/award.php?id=2\"\n",
    "tabela_3 = read_html(site_3, decimal = ',', thousands = '.')"
   ]
  },
  {
   "cell_type": "code",
   "execution_count": 3,
   "metadata": {},
   "outputs": [],
   "source": [
    "#Armazenando os dados da primeira página em um dataframe\n",
    "\n",
    "df_france_1 = pd.DataFrame(tabela_1[1])"
   ]
  },
  {
   "cell_type": "code",
   "execution_count": 4,
   "metadata": {},
   "outputs": [],
   "source": [
    "#Armazenando os dados da segunda página no dataframe\n",
    "\n",
    "df_france_2 = pd.DataFrame(tabela_2[1])"
   ]
  },
  {
   "cell_type": "code",
   "execution_count": 5,
   "metadata": {},
   "outputs": [],
   "source": [
    "#Armazenando os dados da terceira página em outro dataframe\n",
    "\n",
    "df_france_3 = pd.DataFrame(tabela_3[1])"
   ]
  },
  {
   "cell_type": "code",
   "execution_count": 6,
   "metadata": {},
   "outputs": [],
   "source": [
    "#Tratando os dados da terceira página (selecionando apenas as premiações no período de 2010 a 2015)\n",
    "\n",
    "df_france_3 = df_france_3.loc[(df_france_3.Ano < 2016) & (df_france_3.Ano > 2009)]"
   ]
  },
  {
   "cell_type": "code",
   "execution_count": 10,
   "metadata": {},
   "outputs": [],
   "source": [
    "#Concatenando (unindo) os três dataframes\n",
    "\n",
    "df_france = pd.concat([df_france_1, df_france_2, df_france_3], axis=0, sort=True)"
   ]
  },
  {
   "cell_type": "code",
   "execution_count": 11,
   "metadata": {},
   "outputs": [],
   "source": [
    "#Organizando as linhas por ordem crescente mediante o ano\n",
    "\n",
    "df_france = df_france.sort_values(['Ano'])"
   ]
  },
  {
   "cell_type": "code",
   "execution_count": 12,
   "metadata": {},
   "outputs": [],
   "source": [
    "#Resetando o index do dataframe gerado\n",
    "\n",
    "df_france = df_france.reset_index(drop=True)"
   ]
  },
  {
   "cell_type": "code",
   "execution_count": 13,
   "metadata": {},
   "outputs": [],
   "source": [
    "#Removendo a feature Votos\n",
    "\n",
    "df_france = df_france.drop(columns=['votos'])"
   ]
  },
  {
   "cell_type": "markdown",
   "metadata": {},
   "source": [
    "### Web Scraping (Opção 2)"
   ]
  },
  {
   "cell_type": "code",
   "execution_count": 67,
   "metadata": {},
   "outputs": [],
   "source": [
    "f1 = \"https://www.topendsports.com/sport/soccer/list-player-of-the-year-ballondor.htm\"\n",
    "t1 = read_html(f1, decimal = ',', thousands = '.')"
   ]
  },
  {
   "cell_type": "code",
   "execution_count": 72,
   "metadata": {},
   "outputs": [],
   "source": [
    "#Ordenando por ano e resetando o índice\n",
    "\n",
    "players = t1[0].sort_values(['year']).reset_index(drop=True)"
   ]
  },
  {
   "cell_type": "code",
   "execution_count": 77,
   "metadata": {},
   "outputs": [],
   "source": [
    "#Retirando a última linha (o prêmio de 2020 não será concedido)\n",
    "\n",
    "players = players.loc[players.player != 'not awarded']"
   ]
  },
  {
   "cell_type": "code",
   "execution_count": 79,
   "metadata": {},
   "outputs": [],
   "source": [
    "#Renomeando as colunas\n",
    "\n",
    "players.columns = ['ano', 'vencedor', 'nacionalidade', 'clube']"
   ]
  },
  {
   "cell_type": "markdown",
   "metadata": {},
   "source": [
    "### Referências\n",
    "\n",
    "### Dados\n",
    "\n",
    "### https://www.ogol.com.br/awards.php?op=all\n",
    "### https://www.topendsports.com/sport/soccer/list-player-of-the-year-ballondor.htm\n",
    "\n",
    "### Suporte técnico\n",
    "\n",
    "### https://www.dotnetperls.com/substring-python\n",
    "### https://www.digitalocean.com/community/tutorials/como-fazer-scraping-em-paginas-web-com-beautiful-soup-and-python-3-pt\n",
    "### https://www.youtube.com/watch?v=anv-Vt_FL4E\n",
    "### https://www.youtube.com/watch?v=Vxl5jUltHBo\n",
    "### https://medium.com/horadecodar/como-fazer-webscraping-com-python-e-beautiful-soup-28a65eee2efd\n",
    "### https://www.crummy.com/software/BeautifulSoup/bs4/doc/\n",
    "### https://www.geeksforgeeks.org/replace-values-in-pandas-dataframe-using-regex/\n",
    "### https://blog.geekhunter.com.br/como-fazer-um-web-scraping-python/"
   ]
  }
 ],
 "metadata": {
  "kernelspec": {
   "display_name": "Python 3",
   "language": "python",
   "name": "python3"
  },
  "language_info": {
   "codemirror_mode": {
    "name": "ipython",
    "version": 3
   },
   "file_extension": ".py",
   "mimetype": "text/x-python",
   "name": "python",
   "nbconvert_exporter": "python",
   "pygments_lexer": "ipython3",
   "version": "3.7.7"
  }
 },
 "nbformat": 4,
 "nbformat_minor": 4
}
