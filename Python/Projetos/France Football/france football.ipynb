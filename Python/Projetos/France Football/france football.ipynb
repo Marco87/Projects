{
 "cells": [
  {
   "cell_type": "markdown",
   "metadata": {},
   "source": [
    "![title](https://i.pinimg.com/236x/ce/b4/18/ceb41806c3fcf8216de0086ade094e71.jpg)"
   ]
  },
  {
   "cell_type": "markdown",
   "metadata": {},
   "source": [
    "## Prêmio France Football\n",
    "\n",
    "Bola de Ouro (no original em francês Ballon d'Or) é um prêmio de futebol criado pela revista francesa France Football. A honraria já foi conhecida mundialmente como Futebolista do Ano na Europa, sendo entregue de forma independente entre 1956 e 2009 e novamente a partir de 2016, após fim da parceria com a FIFA.\n",
    "\n",
    "Faremos algumas análises dos vencedores do prêmio, com duas rotinas diferentes de coleta dos dados. Ambas por Web Scraping, mas de fontes e manipulações diferentes."
   ]
  },
  {
   "cell_type": "markdown",
   "metadata": {},
   "source": [
    "### Importando as bibliotecas"
   ]
  },
  {
   "cell_type": "code",
   "execution_count": 3,
   "metadata": {},
   "outputs": [],
   "source": [
    "#Importando as bibliotecas\n",
    "\n",
    "import numpy as np\n",
    "import pandas as pd\n",
    "import matplotlib\n",
    "import matplotlib.pyplot as plt\n",
    "from pandas.io.html import read_html\n",
    "from IPython.display import clear_output\n",
    "\n",
    "import requests\n",
    "from bs4 import BeautifulSoup\n",
    "import re"
   ]
  },
  {
   "cell_type": "markdown",
   "metadata": {},
   "source": [
    "## Web Scraping (Opção 1)\n",
    "\n",
    "Nesta primeira análise, os dados serão coletados de três páginas diferentes e, após a extração, haverá a concatenação das informações em uma única base."
   ]
  },
  {
   "cell_type": "code",
   "execution_count": 14,
   "metadata": {},
   "outputs": [],
   "source": [
    "#Tratamento do site de onde os dados serão coletados\n",
    "\n",
    "#Vencedores até 2009\n",
    "site_1 = \"https://www.ogol.com.br/award.php?id=1\"\n",
    "tabela_1 = read_html(site_1, decimal = ',', thousands = '.')\n",
    "\n",
    "#Vencedores após 2015\n",
    "site_2 = \"https://www.ogol.com.br/award.php?id=1&id_evento=0&ano=0&mes=0&epoca=0&jornada=0&page=2\"\n",
    "tabela_2 = read_html(site_2, decimal = ',', thousands = '.')\n",
    "\n",
    "#Vencedores entre 2010 e 2015\n",
    "site_3 = \"https://www.ogol.com.br/award.php?id=2\"\n",
    "tabela_3 = read_html(site_3, decimal = ',', thousands = '.')"
   ]
  },
  {
   "cell_type": "code",
   "execution_count": 15,
   "metadata": {},
   "outputs": [],
   "source": [
    "#Armazenando os dados da primeira página em um dataframe\n",
    "\n",
    "tabela_france_1 = pd.DataFrame(tabela_1[1])"
   ]
  },
  {
   "cell_type": "code",
   "execution_count": 16,
   "metadata": {},
   "outputs": [],
   "source": [
    "#Armazenando os dados da segunda página no dataframe\n",
    "\n",
    "tabela_france_2 = pd.DataFrame(tabela_2[1])"
   ]
  },
  {
   "cell_type": "code",
   "execution_count": 17,
   "metadata": {},
   "outputs": [],
   "source": [
    "#Armazenando os dados da terceira página em outro dataframe\n",
    "\n",
    "tabela_france_3 = pd.DataFrame(tabela_3[1])"
   ]
  },
  {
   "cell_type": "code",
   "execution_count": 18,
   "metadata": {},
   "outputs": [],
   "source": [
    "#Tratando os dados da terceira página (selecionando apenas as premiações no período de 2010 a 2015)\n",
    "\n",
    "tabela_france_3 = tabela_france_3.loc[(tabela_france_3.Ano < 2016) & (tabela_france_3.Ano > 2009)]"
   ]
  },
  {
   "cell_type": "code",
   "execution_count": 19,
   "metadata": {},
   "outputs": [],
   "source": [
    "#Concatenando (unindo) os três dataframes\n",
    "\n",
    "tabela_france = pd.concat([tabela_france_1, tabela_france_2, tabela_france_3], axis=0, sort=True)"
   ]
  },
  {
   "cell_type": "code",
   "execution_count": 20,
   "metadata": {},
   "outputs": [],
   "source": [
    "#Organizando as linhas por ordem crescente mediante o ano\n",
    "\n",
    "tabela_france = tabela_france.sort_values(['Ano'])"
   ]
  },
  {
   "cell_type": "code",
   "execution_count": 21,
   "metadata": {},
   "outputs": [],
   "source": [
    "#Resetando o index do dataframe gerado\n",
    "\n",
    "tabela_france = tabela_france.reset_index(drop=True)"
   ]
  },
  {
   "cell_type": "code",
   "execution_count": 22,
   "metadata": {},
   "outputs": [],
   "source": [
    "#Removendo a feature Votos\n",
    "\n",
    "tabela_france = tabela_france.drop(columns=['votos'])"
   ]
  },
  {
   "cell_type": "code",
   "execution_count": 23,
   "metadata": {},
   "outputs": [],
   "source": [
    "#Convertendo a tabela gerada em um DataFrame\n",
    "\n",
    "df_france = pd.DataFrame(tabela_france)"
   ]
  },
  {
   "cell_type": "markdown",
   "metadata": {},
   "source": [
    "### Algumas informações básicas do DataFrame"
   ]
  },
  {
   "cell_type": "code",
   "execution_count": 37,
   "metadata": {},
   "outputs": [
    {
     "data": {
      "text/plain": [
       "(64, 3)"
      ]
     },
     "execution_count": 37,
     "metadata": {},
     "output_type": "execute_result"
    }
   ],
   "source": [
    "#Quantidade de linhas e colunas\n",
    "\n",
    "df_france.shape"
   ]
  },
  {
   "cell_type": "code",
   "execution_count": 35,
   "metadata": {},
   "outputs": [
    {
     "data": {
      "text/plain": [
       "RangeIndex(start=0, stop=64, step=1)"
      ]
     },
     "execution_count": 35,
     "metadata": {},
     "output_type": "execute_result"
    }
   ],
   "source": [
    "#Descrição do Index\n",
    "\n",
    "df_france.index"
   ]
  },
  {
   "cell_type": "code",
   "execution_count": 29,
   "metadata": {},
   "outputs": [
    {
     "data": {
      "text/plain": [
       "Index(['Ano', 'Equipe', 'Vencedor'], dtype='object')"
      ]
     },
     "execution_count": 29,
     "metadata": {},
     "output_type": "execute_result"
    }
   ],
   "source": [
    "#Colunas presentes\n",
    "\n",
    "df_france.columns"
   ]
  },
  {
   "cell_type": "code",
   "execution_count": 33,
   "metadata": {},
   "outputs": [
    {
     "data": {
      "text/plain": [
       "Ano         64\n",
       "Equipe      64\n",
       "Vencedor    64\n",
       "dtype: int64"
      ]
     },
     "execution_count": 33,
     "metadata": {},
     "output_type": "execute_result"
    }
   ],
   "source": [
    "#Quantidade de dados não-nulos\n",
    "\n",
    "df_france.count()"
   ]
  },
  {
   "cell_type": "markdown",
   "metadata": {},
   "source": [
    "## Web Scraping (Opção 2)\n",
    "\n",
    "Faremos a extração e o tratamento dos dados para, posteriormente, analisarmos as informações coletadas através de alguns gráficos."
   ]
  },
  {
   "cell_type": "code",
   "execution_count": 4,
   "metadata": {},
   "outputs": [],
   "source": [
    "#Extração e armazenamento dos dados\n",
    "\n",
    "dados_site = \"https://www.topendsports.com/sport/soccer/list-player-of-the-year-ballondor.htm\"\n",
    "tabela = read_html(dados_site, decimal = ',', thousands = '.')"
   ]
  },
  {
   "cell_type": "code",
   "execution_count": 5,
   "metadata": {},
   "outputs": [],
   "source": [
    "#Ordenando por ano e resetando o índice\n",
    "\n",
    "df_france_football = tabela[0].sort_values(['year']).reset_index(drop=True)"
   ]
  },
  {
   "cell_type": "code",
   "execution_count": 6,
   "metadata": {},
   "outputs": [],
   "source": [
    "#Retirando a última linha (o prêmio de 2020 não será concedido)\n",
    "\n",
    "df_france_football = df_france_football.loc[df_france_football.player != 'not awarded']"
   ]
  },
  {
   "cell_type": "code",
   "execution_count": 7,
   "metadata": {},
   "outputs": [],
   "source": [
    "#Renomeando as colunas\n",
    "\n",
    "df_france_football.columns = ['ano', 'vencedor', 'nacionalidade', 'clube']"
   ]
  },
  {
   "cell_type": "code",
   "execution_count": 18,
   "metadata": {},
   "outputs": [
    {
     "data": {
      "text/plain": [
       "<matplotlib.axes._subplots.AxesSubplot at 0x7f7a585d25d0>"
      ]
     },
     "execution_count": 18,
     "metadata": {},
     "output_type": "execute_result"
    },
    {
     "data": {
      "image/png": "[encoded data removed]",
      "text/plain": [
       "<Figure size 432x288 with 1 Axes>"
      ]
     },
     "metadata": {
      "needs_background": "light"
     },
     "output_type": "display_data"
    }
   ],
   "source": [
    "#Agrupando os 10 maiores vencedores pela quantidade de vezes que cada um ganhou o prêmio, em ordem decrescente\n",
    "\n",
    "df_france_football.groupby(by=['vencedor'])['ano'].count().sort_values(ascending=False).head(10).plot(kind='bar')"
   ]
  },
  {
   "cell_type": "markdown",
   "metadata": {},
   "source": [
    "### Referências\n",
    "\n",
    "### Dados\n",
    "\n",
    "### https://www.ogol.com.br/awards.php?op=all\n",
    "### https://www.topendsports.com/sport/soccer/list-player-of-the-year-ballondor.htm\n",
    "\n",
    "### Suporte técnico\n",
    "\n",
    "### https://www.dotnetperls.com/substring-python\n",
    "### https://www.digitalocean.com/community/tutorials/como-fazer-scraping-em-paginas-web-com-beautiful-soup-and-python-3-pt\n",
    "### https://www.youtube.com/watch?v=anv-Vt_FL4E\n",
    "### https://www.youtube.com/watch?v=Vxl5jUltHBo\n",
    "### https://medium.com/horadecodar/como-fazer-webscraping-com-python-e-beautiful-soup-28a65eee2efd\n",
    "### https://www.crummy.com/software/BeautifulSoup/bs4/doc/\n",
    "### https://www.geeksforgeeks.org/replace-values-in-pandas-dataframe-using-regex/\n",
    "### https://blog.geekhunter.com.br/como-fazer-um-web-scraping-python/\n",
    "### https://paulovasconcellos.com.br/28-comandos-%C3%BAteis-de-pandas-que-talvez-voc%C3%AA-n%C3%A3o-conhe%C3%A7a-6ab64beefa93"
   ]
  },
  {
   "cell_type": "code",
   "execution_count": null,
   "metadata": {},
   "outputs": [],
   "source": []
  }
 ],
 "metadata": {
  "kernelspec": {
   "display_name": "Python 3",
   "language": "python",
   "name": "python3"
  },
  "language_info": {
   "codemirror_mode": {
    "name": "ipython",
    "version": 3
   },
   "file_extension": ".py",
   "mimetype": "text/x-python",
   "name": "python",
   "nbconvert_exporter": "python",
   "pygments_lexer": "ipython3",
   "version": "3.7.7"
  }
 },
 "nbformat": 4,
 "nbformat_minor": 4
}
