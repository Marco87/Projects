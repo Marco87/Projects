{
 "cells": [
  {
   "cell_type": "markdown",
   "metadata": {},
   "source": [
    "![title](https://i.pinimg.com/236x/ce/b4/18/ceb41806c3fcf8216de0086ade094e71.jpg)"
   ]
  },
  {
   "cell_type": "markdown",
   "metadata": {},
   "source": [
    "### Prêmio France Football"
   ]
  },
  {
   "cell_type": "markdown",
   "metadata": {},
   "source": [
    "### Importando as bibliotecas"
   ]
  },
  {
   "cell_type": "code",
   "execution_count": 1,
   "metadata": {},
   "outputs": [],
   "source": [
    "#Importando as bibliotecas\n",
    "\n",
    "import numpy as np\n",
    "import pandas as pd\n",
    "import matplotlib\n",
    "import matplotlib.pyplot as plt\n",
    "from pandas.io.html import read_html\n",
    "from IPython.display import clear_output\n",
    "\n",
    "import requests\n",
    "from bs4 import BeautifulSoup\n",
    "import re"
   ]
  },
  {
   "cell_type": "markdown",
   "metadata": {},
   "source": [
    "### Web Scraping (Opção 1)"
   ]
  },
  {
   "cell_type": "code",
   "execution_count": 2,
   "metadata": {},
   "outputs": [],
   "source": [
    "#Tratamento do site de onde os dados serão coletados\n",
    "\n",
    "#Vencedores até 2009\n",
    "site_1 = \"https://www.ogol.com.br/award.php?id=1\"\n",
    "tabela_1 = read_html(site_1, decimal = ',', thousands = '.')\n",
    "\n",
    "#Vencedores após 2015\n",
    "site_2 = \"https://www.ogol.com.br/award.php?id=1&id_evento=0&ano=0&mes=0&epoca=0&jornada=0&page=2\"\n",
    "tabela_2 = read_html(site_2, decimal = ',', thousands = '.')\n",
    "\n",
    "#Vencedores entre 2010 e 2015\n",
    "site_3 = \"https://www.ogol.com.br/award.php?id=2\"\n",
    "tabela_3 = read_html(site_3, decimal = ',', thousands = '.')"
   ]
  },
  {
   "cell_type": "code",
   "execution_count": 3,
   "metadata": {},
   "outputs": [],
   "source": [
    "#Armazenando os dados da primeira página em um dataframe\n",
    "\n",
    "df_france_1 = pd.DataFrame(tabela_1[1])"
   ]
  },
  {
   "cell_type": "code",
   "execution_count": 4,
   "metadata": {},
   "outputs": [],
   "source": [
    "#Armazenando os dados da segunda página no dataframe\n",
    "\n",
    "df_france_2 = pd.DataFrame(tabela_2[1])"
   ]
  },
  {
   "cell_type": "code",
   "execution_count": 5,
   "metadata": {},
   "outputs": [],
   "source": [
    "#Armazenando os dados da terceira página em outro dataframe\n",
    "\n",
    "df_france_3 = pd.DataFrame(tabela_3[1])"
   ]
  },
  {
   "cell_type": "code",
   "execution_count": 6,
   "metadata": {},
   "outputs": [],
   "source": [
    "#Tratando os dados da terceira página (selecionando apenas as premiações no período de 2010 a 2015)\n",
    "\n",
    "df_france_3 = df_france_3.loc[(df_france_3.Ano < 2016) & (df_france_3.Ano > 2009)]"
   ]
  },
  {
   "cell_type": "code",
   "execution_count": 7,
   "metadata": {},
   "outputs": [],
   "source": [
    "#Concatenando (unindo) os três dataframes\n",
    "\n",
    "df_france = pd.concat([df_france_1, df_france_2, df_france_3], axis=0, sort=True)"
   ]
  },
  {
   "cell_type": "code",
   "execution_count": 8,
   "metadata": {},
   "outputs": [],
   "source": [
    "#Organizando as linhas por ordem crescente mediante o ano\n",
    "\n",
    "df_france = df_france.sort_values(['Ano'])"
   ]
  },
  {
   "cell_type": "code",
   "execution_count": 9,
   "metadata": {},
   "outputs": [],
   "source": [
    "#Resetando o index do dataframe gerado\n",
    "\n",
    "df_france = df_france.reset_index(drop=True)"
   ]
  },
  {
   "cell_type": "code",
   "execution_count": 10,
   "metadata": {},
   "outputs": [],
   "source": [
    "#Removendo a feature Votos\n",
    "\n",
    "df_france = df_france.drop(columns=['votos'])"
   ]
  },
  {
   "cell_type": "code",
   "execution_count": 12,
   "metadata": {},
   "outputs": [],
   "source": [
    "#Convertendo a tabela gerada em um DataFrame\n",
    "\n",
    "df_france = pd.DataFrame(df_france)"
   ]
  },
  {
   "cell_type": "code",
   "execution_count": 13,
   "metadata": {},
   "outputs": [
    {
     "data": {
      "text/html": [
       "<div>\n",
       "<style scoped>\n",
       "    .dataframe tbody tr th:only-of-type {\n",
       "        vertical-align: middle;\n",
       "    }\n",
       "\n",
       "    .dataframe tbody tr th {\n",
       "        vertical-align: top;\n",
       "    }\n",
       "\n",
       "    .dataframe thead th {\n",
       "        text-align: right;\n",
       "    }\n",
       "</style>\n",
       "<table border=\"1\" class=\"dataframe\">\n",
       "  <thead>\n",
       "    <tr style=\"text-align: right;\">\n",
       "      <th></th>\n",
       "      <th>Ano</th>\n",
       "      <th>Equipe</th>\n",
       "      <th>Vencedor</th>\n",
       "    </tr>\n",
       "  </thead>\n",
       "  <tbody>\n",
       "    <tr>\n",
       "      <th>0</th>\n",
       "      <td>1956</td>\n",
       "      <td>Blackpool</td>\n",
       "      <td>Stanley Matthews</td>\n",
       "    </tr>\n",
       "    <tr>\n",
       "      <th>1</th>\n",
       "      <td>1957</td>\n",
       "      <td>Real Madrid</td>\n",
       "      <td>Alfredo Di Stéfano</td>\n",
       "    </tr>\n",
       "    <tr>\n",
       "      <th>2</th>\n",
       "      <td>1958</td>\n",
       "      <td>Real Madrid</td>\n",
       "      <td>Raymond Kopa</td>\n",
       "    </tr>\n",
       "    <tr>\n",
       "      <th>3</th>\n",
       "      <td>1959</td>\n",
       "      <td>Real Madrid</td>\n",
       "      <td>Alfredo Di Stéfano</td>\n",
       "    </tr>\n",
       "    <tr>\n",
       "      <th>4</th>\n",
       "      <td>1960</td>\n",
       "      <td>Barcelona</td>\n",
       "      <td>Luis Suárez</td>\n",
       "    </tr>\n",
       "    <tr>\n",
       "      <th>...</th>\n",
       "      <td>...</td>\n",
       "      <td>...</td>\n",
       "      <td>...</td>\n",
       "    </tr>\n",
       "    <tr>\n",
       "      <th>59</th>\n",
       "      <td>2015</td>\n",
       "      <td>Barcelona</td>\n",
       "      <td>Lionel Messi</td>\n",
       "    </tr>\n",
       "    <tr>\n",
       "      <th>60</th>\n",
       "      <td>2016</td>\n",
       "      <td>Real Madrid</td>\n",
       "      <td>Cristiano Ronaldo</td>\n",
       "    </tr>\n",
       "    <tr>\n",
       "      <th>61</th>\n",
       "      <td>2017</td>\n",
       "      <td>Real Madrid</td>\n",
       "      <td>Cristiano Ronaldo</td>\n",
       "    </tr>\n",
       "    <tr>\n",
       "      <th>62</th>\n",
       "      <td>2018</td>\n",
       "      <td>Real Madrid</td>\n",
       "      <td>Luka Modric</td>\n",
       "    </tr>\n",
       "    <tr>\n",
       "      <th>63</th>\n",
       "      <td>2019</td>\n",
       "      <td>Barcelona</td>\n",
       "      <td>Lionel Messi</td>\n",
       "    </tr>\n",
       "  </tbody>\n",
       "</table>\n",
       "<p>64 rows × 3 columns</p>\n",
       "</div>"
      ],
      "text/plain": [
       "     Ano       Equipe            Vencedor\n",
       "0   1956    Blackpool    Stanley Matthews\n",
       "1   1957  Real Madrid  Alfredo Di Stéfano\n",
       "2   1958  Real Madrid        Raymond Kopa\n",
       "3   1959  Real Madrid  Alfredo Di Stéfano\n",
       "4   1960    Barcelona         Luis Suárez\n",
       "..   ...          ...                 ...\n",
       "59  2015    Barcelona        Lionel Messi\n",
       "60  2016  Real Madrid   Cristiano Ronaldo\n",
       "61  2017  Real Madrid   Cristiano Ronaldo\n",
       "62  2018  Real Madrid         Luka Modric\n",
       "63  2019    Barcelona        Lionel Messi\n",
       "\n",
       "[64 rows x 3 columns]"
      ]
     },
     "execution_count": 13,
     "metadata": {},
     "output_type": "execute_result"
    }
   ],
   "source": [
    "df_france"
   ]
  },
  {
   "cell_type": "markdown",
   "metadata": {},
   "source": [
    "### Web Scraping (Opção 2)"
   ]
  },
  {
   "cell_type": "code",
   "execution_count": 67,
   "metadata": {},
   "outputs": [],
   "source": [
    "dados_site = \"https://www.topendsports.com/sport/soccer/list-player-of-the-year-ballondor.htm\"\n",
    "tabela = read_html(dados_site, decimal = ',', thousands = '.')"
   ]
  },
  {
   "cell_type": "code",
   "execution_count": 72,
   "metadata": {},
   "outputs": [],
   "source": [
    "#Ordenando por ano e resetando o índice\n",
    "\n",
    "df_france_football = tabela[0].sort_values(['year']).reset_index(drop=True)"
   ]
  },
  {
   "cell_type": "code",
   "execution_count": 77,
   "metadata": {},
   "outputs": [],
   "source": [
    "#Retirando a última linha (o prêmio de 2020 não será concedido)\n",
    "\n",
    "df_france_football = df_france_football.loc[players.player != 'not awarded']"
   ]
  },
  {
   "cell_type": "code",
   "execution_count": 79,
   "metadata": {},
   "outputs": [],
   "source": [
    "#Renomeando as colunas\n",
    "\n",
    "df_france_football.columns = ['ano', 'vencedor', 'nacionalidade', 'clube']"
   ]
  },
  {
   "cell_type": "markdown",
   "metadata": {},
   "source": [
    "### Referências\n",
    "\n",
    "### Dados\n",
    "\n",
    "### https://www.ogol.com.br/awards.php?op=all\n",
    "### https://www.topendsports.com/sport/soccer/list-player-of-the-year-ballondor.htm\n",
    "\n",
    "### Suporte técnico\n",
    "\n",
    "### https://www.dotnetperls.com/substring-python\n",
    "### https://www.digitalocean.com/community/tutorials/como-fazer-scraping-em-paginas-web-com-beautiful-soup-and-python-3-pt\n",
    "### https://www.youtube.com/watch?v=anv-Vt_FL4E\n",
    "### https://www.youtube.com/watch?v=Vxl5jUltHBo\n",
    "### https://medium.com/horadecodar/como-fazer-webscraping-com-python-e-beautiful-soup-28a65eee2efd\n",
    "### https://www.crummy.com/software/BeautifulSoup/bs4/doc/\n",
    "### https://www.geeksforgeeks.org/replace-values-in-pandas-dataframe-using-regex/\n",
    "### https://blog.geekhunter.com.br/como-fazer-um-web-scraping-python/"
   ]
  }
 ],
 "metadata": {
  "kernelspec": {
   "display_name": "Python 3",
   "language": "python",
   "name": "python3"
  },
  "language_info": {
   "codemirror_mode": {
    "name": "ipython",
    "version": 3
   },
   "file_extension": ".py",
   "mimetype": "text/x-python",
   "name": "python",
   "nbconvert_exporter": "python",
   "pygments_lexer": "ipython3",
   "version": "3.7.7"
  }
 },
 "nbformat": 4,
 "nbformat_minor": 4
}
