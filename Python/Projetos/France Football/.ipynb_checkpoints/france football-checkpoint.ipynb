{
 "cells": [
  {
   "cell_type": "markdown",
   "metadata": {},
   "source": [
    "![title](https://i.pinimg.com/236x/ce/b4/18/ceb41806c3fcf8216de0086ade094e71.jpg)"
   ]
  },
  {
   "cell_type": "markdown",
   "metadata": {},
   "source": [
    "### Prêmio France Football"
   ]
  },
  {
   "cell_type": "markdown",
   "metadata": {},
   "source": [
    "### Importando as bibliotecas"
   ]
  },
  {
   "cell_type": "code",
   "execution_count": 3,
   "metadata": {},
   "outputs": [],
   "source": [
    "#Importando as bibliotecas\n",
    "\n",
    "import numpy as np\n",
    "import pandas as pd\n",
    "import matplotlib\n",
    "import matplotlib.pyplot as plt\n",
    "from pandas.io.html import read_html\n",
    "from IPython.display import clear_output"
   ]
  },
  {
   "cell_type": "markdown",
   "metadata": {},
   "source": [
    "### Importando os dados"
   ]
  },
  {
   "cell_type": "code",
   "execution_count": 60,
   "metadata": {},
   "outputs": [],
   "source": [
    "#Tratamento do site de onde os dados serão coletados\n",
    "\n",
    "site_1 = \"https://www.ogol.com.br/award.php?id=1\"\n",
    "tabela_1 = read_html(site_1, decimal = ',', thousands = '.')\n",
    "\n",
    "site_2 = \"https://www.ogol.com.br/award.php?id=1&id_evento=0&ano=0&mes=0&epoca=0&jornada=0&page=2\"\n",
    "tabela_2 = read_html(site_2, decimal = ',', thousands = '.')\n",
    "\n",
    "site_3 = \"https://www.ogol.com.br/award.php?id=2\"\n",
    "tabela_3 = read_html(site_3, decimal = ',', thousands = '.')"
   ]
  },
  {
   "cell_type": "code",
   "execution_count": 27,
   "metadata": {},
   "outputs": [],
   "source": [
    "#Armazenando os dados da primeira página em um dataframe\n",
    "\n",
    "df_france_1 = pd.DataFrame(tabela_1[1])"
   ]
  },
  {
   "cell_type": "code",
   "execution_count": 28,
   "metadata": {},
   "outputs": [],
   "source": [
    "#Armazenando os dados da segunda página no dataframe\n",
    "\n",
    "df_france_2 = pd.DataFrame(tabela_2[1])"
   ]
  },
  {
   "cell_type": "code",
   "execution_count": 61,
   "metadata": {},
   "outputs": [],
   "source": [
    "#Armazenando os dados da terceira página em outro dataframe\n",
    "\n",
    "df_france_3 = pd.DataFrame(tabela_3[1])"
   ]
  },
  {
   "cell_type": "code",
   "execution_count": 65,
   "metadata": {},
   "outputs": [],
   "source": [
    "#Tratando os dados da terceira página (selecionando apenas as premiações no período de 2010 a 2015)\n",
    "\n",
    "df_france_3 = df_france_3.loc[(df_france_3.Ano < 2016) & (df_france_3.Ano > 2009)]"
   ]
  },
  {
   "cell_type": "code",
   "execution_count": 66,
   "metadata": {},
   "outputs": [],
   "source": [
    "#Concatenando (unindo) os três dataframes\n",
    "\n",
    "df_france = pd.concat([df_france_1, df_france_2, df_france_3], axis=0, sort=True)"
   ]
  },
  {
   "cell_type": "code",
   "execution_count": 70,
   "metadata": {},
   "outputs": [],
   "source": [
    "#Organizando as linhas por ordem crescente mediante o ano\n",
    "\n",
    "df_france = df_france.sort_values(['Ano'])"
   ]
  },
  {
   "cell_type": "code",
   "execution_count": 71,
   "metadata": {},
   "outputs": [],
   "source": [
    "#Resetando o index do dataframe gerado\n",
    "\n",
    "df_france = df_france.reset_index(drop=True)"
   ]
  },
  {
   "cell_type": "code",
   "execution_count": 80,
   "metadata": {},
   "outputs": [],
   "source": [
    "#Removendo a feature Votos\n",
    "\n",
    "df_france = df_france.drop(columns=['votos'])"
   ]
  },
  {
   "cell_type": "code",
   "execution_count": 85,
   "metadata": {},
   "outputs": [
    {
     "data": {
      "text/plain": [
       "0    NaN\n",
       "1    NaN\n",
       "2    NaN\n",
       "3    NaN\n",
       "4    NaN\n",
       "      ..\n",
       "59   NaN\n",
       "60   NaN\n",
       "61   NaN\n",
       "62   NaN\n",
       "63   NaN\n",
       "Name: Equipe, Length: 64, dtype: float64"
      ]
     },
     "execution_count": 85,
     "metadata": {},
     "output_type": "execute_result"
    }
   ],
   "source": [
    "df_france.Equipe.str['/':]"
   ]
  },
  {
   "cell_type": "markdown",
   "metadata": {},
   "source": [
    "### Referências\n",
    "\n",
    "### Dados\n",
    "\n",
    "### https://www.ogol.com.br/awards.php?op=all\n",
    "\n",
    "### Suporte técnico\n",
    "\n",
    "### https://www.dotnetperls.com/substring-python"
   ]
  },
  {
   "cell_type": "code",
   "execution_count": null,
   "metadata": {},
   "outputs": [],
   "source": []
  }
 ],
 "metadata": {
  "kernelspec": {
   "display_name": "Python 3",
   "language": "python",
   "name": "python3"
  },
  "language_info": {
   "codemirror_mode": {
    "name": "ipython",
    "version": 3
   },
   "file_extension": ".py",
   "mimetype": "text/x-python",
   "name": "python",
   "nbconvert_exporter": "python",
   "pygments_lexer": "ipython3",
   "version": "3.7.7"
  }
 },
 "nbformat": 4,
 "nbformat_minor": 4
}
