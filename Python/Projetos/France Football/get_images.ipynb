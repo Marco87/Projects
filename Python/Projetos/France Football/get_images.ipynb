{
 "cells": [
  {
   "cell_type": "code",
   "execution_count": 7,
   "metadata": {},
   "outputs": [],
   "source": [
    "#Importando as bibliotecas necessárias\n",
    "from bs4 import BeautifulSoup\n",
    "from selenium import webdriver\n",
    "from selenium.webdriver.chrome.options import Options\n",
    "import time\n",
    "\n",
    "#sudo install selenium (caso seja necessário instalar o Selenium)"
   ]
  },
  {
   "cell_type": "code",
   "execution_count": 19,
   "metadata": {},
   "outputs": [],
   "source": [
    "#Local onde o executável do chromedriver está armazenado\n",
    "chromedriver = 'webdriver/chromedriver'"
   ]
  },
  {
   "cell_type": "code",
   "execution_count": 20,
   "metadata": {},
   "outputs": [],
   "source": [
    "chrome_options = Options()\n",
    "chrome_options.add_argument(\"--headless\")"
   ]
  },
  {
   "cell_type": "code",
   "execution_count": 21,
   "metadata": {},
   "outputs": [],
   "source": [
    "tempo_inicial = time.time()\n",
    "driver = webdriver.Chrome(chromedriver)\n",
    "driver.get(\"https://www.transfermarkt.com/erfolge/spielertitel/statistik\")"
   ]
  },
  {
   "cell_type": "code",
   "execution_count": 22,
   "metadata": {},
   "outputs": [],
   "source": [
    "html = driver.page_source"
   ]
  },
  {
   "cell_type": "code",
   "execution_count": 23,
   "metadata": {},
   "outputs": [],
   "source": [
    "soup = BeautifulSoup(html, 'html.parser')"
   ]
  },
  {
   "cell_type": "code",
   "execution_count": 24,
   "metadata": {},
   "outputs": [],
   "source": [
    "#Código para armazenar apenas a url de uma imagem\n",
    "#Buscar a tag img na class flaggenrahmen\n",
    "img_paises = soup.find('img', class_='flaggenrahmen')\n",
    "\n",
    "#Buscar a url dentro de src\n",
    "endereco_imagem = img_paises.get(\"src\")\n",
    "tempo_final = time.time()\n",
    "\n",
    "#Exibindo a url da imagem\n",
    "print(endereco_imagem)"
   ]
  },
  {
   "cell_type": "markdown",
   "metadata": {},
   "source": [
    "### Referências\n",
    "\n",
    "#### https://cursos.alura.com.br/forum/topico-extrair-imagens-do-google-124509\n",
    "\n",
    "##### https://selenium-python.readthedocs.io/getting-started.html\n",
    "\n",
    "#### https://medium.com/@henriquecoura_87435/web-scraping-com-python-selenium-e-javascript-faa108f95bbe\n",
    "\n",
    "#### https://cursos.alura.com.br/forum/topico-eu-nao-consigo-pegar-imagem-nesse-site-como-eu-faco-105700\n",
    "\n"
   ]
  }
 ],
 "metadata": {
  "kernelspec": {
   "display_name": "Python 3",
   "language": "python",
   "name": "python3"
  },
  "language_info": {
   "codemirror_mode": {
    "name": "ipython",
    "version": 3
   },
   "file_extension": ".py",
   "mimetype": "text/x-python",
   "name": "python",
   "nbconvert_exporter": "python",
   "pygments_lexer": "ipython3",
   "version": "3.7.7"
  }
 },
 "nbformat": 4,
 "nbformat_minor": 4
}
