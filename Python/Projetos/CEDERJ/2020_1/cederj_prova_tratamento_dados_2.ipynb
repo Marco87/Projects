{
 "cells": [
  {
   "cell_type": "markdown",
   "metadata": {},
   "source": [
    "## Retirar o espaço na coluna POLO (espaço em branco ao final de cada texto)\n",
    "## Converter a coluna NOTA para float"
   ]
  },
  {
   "cell_type": "code",
   "execution_count": 1,
   "metadata": {},
   "outputs": [
    {
     "data": {
      "text/html": [
       "<style type='text/css'>\n",
       ".datatable table.frame { margin-bottom: 0; }\n",
       ".datatable table.frame thead { border-bottom: none; }\n",
       ".datatable table.frame tr.coltypes td {  color: #FFFFFF;  line-height: 6px;  padding: 0 0.5em;}\n",
       ".datatable .boolean { background: #DDDD99; }\n",
       ".datatable .object  { background: #565656; }\n",
       ".datatable .integer { background: #5D9E5D; }\n",
       ".datatable .float   { background: #4040CC; }\n",
       ".datatable .string  { background: #CC4040; }\n",
       ".datatable .row_index {  background: var(--jp-border-color3);  border-right: 1px solid var(--jp-border-color0);  color: var(--jp-ui-font-color3);  font-size: 9px;}\n",
       ".datatable .frame tr.coltypes .row_index {  background: var(--jp-border-color0);}\n",
       ".datatable th:nth-child(2) { padding-left: 12px; }\n",
       ".datatable .hellipsis {  color: var(--jp-cell-editor-border-color);}\n",
       ".datatable .vellipsis {  background: var(--jp-layout-color0);  color: var(--jp-cell-editor-border-color);}\n",
       ".datatable .na {  color: var(--jp-cell-editor-border-color);  font-size: 80%;}\n",
       ".datatable .footer { font-size: 9px; }\n",
       ".datatable .frame_dimensions {  background: var(--jp-border-color3);  border-top: 1px solid var(--jp-border-color0);  color: var(--jp-ui-font-color3);  display: inline-block;  opacity: 0.6;  padding: 1px 10px 1px 5px;}\n",
       "</style>\n"
      ],
      "text/plain": [
       "<IPython.core.display.HTML object>"
      ]
     },
     "metadata": {},
     "output_type": "display_data"
    }
   ],
   "source": [
    "import tabula\n",
    "import numpy as np\n",
    "import pandas as pd\n",
    "import datatable as dt"
   ]
  },
  {
   "cell_type": "code",
   "execution_count": 181,
   "metadata": {},
   "outputs": [],
   "source": [
    "df_cederj = pd.read_csv('data/prova_1.csv', index_col=None)"
   ]
  },
  {
   "cell_type": "code",
   "execution_count": 182,
   "metadata": {},
   "outputs": [
    {
     "data": {
      "text/html": [
       "<div>\n",
       "<style scoped>\n",
       "    .dataframe tbody tr th:only-of-type {\n",
       "        vertical-align: middle;\n",
       "    }\n",
       "\n",
       "    .dataframe tbody tr th {\n",
       "        vertical-align: top;\n",
       "    }\n",
       "\n",
       "    .dataframe thead th {\n",
       "        text-align: right;\n",
       "    }\n",
       "</style>\n",
       "<table border=\"1\" class=\"dataframe\">\n",
       "  <thead>\n",
       "    <tr style=\"text-align: right;\">\n",
       "      <th></th>\n",
       "      <th>Unnamed: 0</th>\n",
       "      <th>INSCRICAO</th>\n",
       "      <th>NOME</th>\n",
       "      <th>NOTA</th>\n",
       "      <th>SITUACAO</th>\n",
       "      <th>CURSO</th>\n",
       "      <th>POLO</th>\n",
       "      <th>INSTITUICAO</th>\n",
       "    </tr>\n",
       "  </thead>\n",
       "  <tbody>\n",
       "  </tbody>\n",
       "</table>\n",
       "</div>"
      ],
      "text/plain": [
       "Empty DataFrame\n",
       "Columns: [Unnamed: 0, INSCRICAO, NOME, NOTA, SITUACAO, CURSO, POLO, INSTITUICAO]\n",
       "Index: []"
      ]
     },
     "execution_count": 182,
     "metadata": {},
     "output_type": "execute_result"
    }
   ],
   "source": [
    "df_cederj.loc[(df_cederj.POLO == 'Mesquita ') & (df_cederj.CURSO == 'Administração') & (df_cederj.SITUACAO == 'HABILITADO CORREÇÃO REDAÇÃO') & (df_cederj.NOTA == '70')]"
   ]
  },
  {
   "cell_type": "code",
   "execution_count": 183,
   "metadata": {},
   "outputs": [
    {
     "data": {
      "text/html": [
       "<div>\n",
       "<style scoped>\n",
       "    .dataframe tbody tr th:only-of-type {\n",
       "        vertical-align: middle;\n",
       "    }\n",
       "\n",
       "    .dataframe tbody tr th {\n",
       "        vertical-align: top;\n",
       "    }\n",
       "\n",
       "    .dataframe thead th {\n",
       "        text-align: right;\n",
       "    }\n",
       "</style>\n",
       "<table border=\"1\" class=\"dataframe\">\n",
       "  <thead>\n",
       "    <tr style=\"text-align: right;\">\n",
       "      <th></th>\n",
       "      <th>Unnamed: 0</th>\n",
       "      <th>INSCRICAO</th>\n",
       "      <th>NOME</th>\n",
       "      <th>NOTA</th>\n",
       "      <th>SITUACAO</th>\n",
       "      <th>CURSO</th>\n",
       "      <th>POLO</th>\n",
       "      <th>INSTITUICAO</th>\n",
       "    </tr>\n",
       "  </thead>\n",
       "  <tbody>\n",
       "    <tr>\n",
       "      <td>13936</td>\n",
       "      <td>13936</td>\n",
       "      <td>55188</td>\n",
       "      <td>MARCO AURÉLIO ALENCASTRO PACHECO</td>\n",
       "      <td>75.5</td>\n",
       "      <td>HABILITADO CORREÇÃO REDAÇÃO</td>\n",
       "      <td>Administração</td>\n",
       "      <td>Mesquita</td>\n",
       "      <td>UFRRJ</td>\n",
       "    </tr>\n",
       "  </tbody>\n",
       "</table>\n",
       "</div>"
      ],
      "text/plain": [
       "       Unnamed: 0  INSCRICAO                              NOME  NOTA  \\\n",
       "13936       13936      55188  MARCO AURÉLIO ALENCASTRO PACHECO  75.5   \n",
       "\n",
       "                          SITUACAO          CURSO      POLO INSTITUICAO  \n",
       "13936  HABILITADO CORREÇÃO REDAÇÃO  Administração  Mesquita       UFRRJ  "
      ]
     },
     "execution_count": 183,
     "metadata": {},
     "output_type": "execute_result"
    }
   ],
   "source": [
    "df_cederj.loc[df_cederj.NOME == 'MARCO AURÉLIO ALENCASTRO PACHECO']"
   ]
  },
  {
   "cell_type": "markdown",
   "metadata": {},
   "source": [
    "### Trocando vírgulas por pontos na coluna NOTA"
   ]
  },
  {
   "cell_type": "code",
   "execution_count": 184,
   "metadata": {},
   "outputs": [],
   "source": [
    "df_cederj['NOTA'] = df_cederj['NOTA'].replace(',','.', regex=True)"
   ]
  },
  {
   "cell_type": "markdown",
   "metadata": {},
   "source": [
    "### Retirando os espaços nos extremos da coluna POLO"
   ]
  },
  {
   "cell_type": "code",
   "execution_count": 185,
   "metadata": {},
   "outputs": [],
   "source": [
    "df_cederj['POLO'] = df_cederj['POLO'].str.strip()"
   ]
  },
  {
   "cell_type": "code",
   "execution_count": 186,
   "metadata": {},
   "outputs": [
    {
     "data": {
      "text/html": [
       "<div>\n",
       "<style scoped>\n",
       "    .dataframe tbody tr th:only-of-type {\n",
       "        vertical-align: middle;\n",
       "    }\n",
       "\n",
       "    .dataframe tbody tr th {\n",
       "        vertical-align: top;\n",
       "    }\n",
       "\n",
       "    .dataframe thead th {\n",
       "        text-align: right;\n",
       "    }\n",
       "</style>\n",
       "<table border=\"1\" class=\"dataframe\">\n",
       "  <thead>\n",
       "    <tr style=\"text-align: right;\">\n",
       "      <th></th>\n",
       "      <th>Unnamed: 0</th>\n",
       "      <th>INSCRICAO</th>\n",
       "      <th>NOME</th>\n",
       "      <th>NOTA</th>\n",
       "      <th>SITUACAO</th>\n",
       "      <th>CURSO</th>\n",
       "      <th>POLO</th>\n",
       "      <th>INSTITUICAO</th>\n",
       "    </tr>\n",
       "  </thead>\n",
       "  <tbody>\n",
       "    <tr>\n",
       "      <td>37</td>\n",
       "      <td>37</td>\n",
       "      <td>32105</td>\n",
       "      <td>ADELAINE CRISTINA DOS SANTOS</td>\n",
       "      <td>72.5</td>\n",
       "      <td>HABILITADO CORREÇÃO REDAÇÃO</td>\n",
       "      <td>Geografia</td>\n",
       "      <td>Mesquita</td>\n",
       "      <td>UERJ</td>\n",
       "    </tr>\n",
       "    <tr>\n",
       "      <td>45</td>\n",
       "      <td>45</td>\n",
       "      <td>37116</td>\n",
       "      <td>ADELMO GOMES CORDEIRO</td>\n",
       "      <td>77.0</td>\n",
       "      <td>HABILITADO CORREÇÃO REDAÇÃO</td>\n",
       "      <td>Administração</td>\n",
       "      <td>Mesquita</td>\n",
       "      <td>UFRRJ</td>\n",
       "    </tr>\n",
       "    <tr>\n",
       "      <td>54</td>\n",
       "      <td>54</td>\n",
       "      <td>40897</td>\n",
       "      <td>ADEMIR LEMOS JÚNIOR</td>\n",
       "      <td>96.5</td>\n",
       "      <td>HABILITADO CORREÇÃO REDAÇÃO</td>\n",
       "      <td>Administração</td>\n",
       "      <td>Mesquita</td>\n",
       "      <td>UFRRJ</td>\n",
       "    </tr>\n",
       "    <tr>\n",
       "      <td>67</td>\n",
       "      <td>67</td>\n",
       "      <td>10772</td>\n",
       "      <td>ADILMA FERREIRA DE MELO</td>\n",
       "      <td>55.5</td>\n",
       "      <td>HABILITADO CORREÇÃO REDAÇÃO</td>\n",
       "      <td>Geografia</td>\n",
       "      <td>Mesquita</td>\n",
       "      <td>UERJ</td>\n",
       "    </tr>\n",
       "    <tr>\n",
       "      <td>68</td>\n",
       "      <td>68</td>\n",
       "      <td>54562</td>\n",
       "      <td>ADILSON DA SILVA FERREIRA</td>\n",
       "      <td>NaN</td>\n",
       "      <td>ELIMINADO - FALTOSO</td>\n",
       "      <td>Administração</td>\n",
       "      <td>Mesquita</td>\n",
       "      <td>UFRRJ</td>\n",
       "    </tr>\n",
       "  </tbody>\n",
       "</table>\n",
       "</div>"
      ],
      "text/plain": [
       "    Unnamed: 0  INSCRICAO                          NOME  NOTA  \\\n",
       "37          37      32105  ADELAINE CRISTINA DOS SANTOS  72.5   \n",
       "45          45      37116         ADELMO GOMES CORDEIRO  77.0   \n",
       "54          54      40897           ADEMIR LEMOS JÚNIOR  96.5   \n",
       "67          67      10772       ADILMA FERREIRA DE MELO  55.5   \n",
       "68          68      54562     ADILSON DA SILVA FERREIRA   NaN   \n",
       "\n",
       "                       SITUACAO          CURSO      POLO INSTITUICAO  \n",
       "37  HABILITADO CORREÇÃO REDAÇÃO      Geografia  Mesquita        UERJ  \n",
       "45  HABILITADO CORREÇÃO REDAÇÃO  Administração  Mesquita       UFRRJ  \n",
       "54  HABILITADO CORREÇÃO REDAÇÃO  Administração  Mesquita       UFRRJ  \n",
       "67  HABILITADO CORREÇÃO REDAÇÃO      Geografia  Mesquita        UERJ  \n",
       "68          ELIMINADO - FALTOSO  Administração  Mesquita       UFRRJ  "
      ]
     },
     "execution_count": 186,
     "metadata": {},
     "output_type": "execute_result"
    }
   ],
   "source": [
    "df_cederj.loc[df_cederj.POLO == 'Mesquita'].head(5)"
   ]
  },
  {
   "cell_type": "markdown",
   "metadata": {},
   "source": [
    "### Exportando o dataframe gerado"
   ]
  },
  {
   "cell_type": "code",
   "execution_count": 187,
   "metadata": {},
   "outputs": [],
   "source": [
    "df_cederj.to_csv(\"data/prova_1.csv\")"
   ]
  },
  {
   "cell_type": "markdown",
   "metadata": {},
   "source": [
    "### Trocando os valores nan por zero, na coluna NOTA"
   ]
  },
  {
   "cell_type": "code",
   "execution_count": 188,
   "metadata": {},
   "outputs": [
    {
     "data": {
      "text/plain": [
       "Unnamed: 0       int64\n",
       "INSCRICAO        int64\n",
       "NOME            object\n",
       "NOTA           float64\n",
       "SITUACAO        object\n",
       "CURSO           object\n",
       "POLO            object\n",
       "INSTITUICAO     object\n",
       "dtype: object"
      ]
     },
     "execution_count": 188,
     "metadata": {},
     "output_type": "execute_result"
    }
   ],
   "source": [
    "df_cederj.dtypes"
   ]
  },
  {
   "cell_type": "code",
   "execution_count": 189,
   "metadata": {},
   "outputs": [
    {
     "data": {
      "text/plain": [
       "Index(['Unnamed: 0', 'INSCRICAO', 'NOME', 'NOTA', 'SITUACAO', 'CURSO', 'POLO',\n",
       "       'INSTITUICAO'],\n",
       "      dtype='object')"
      ]
     },
     "execution_count": 189,
     "metadata": {},
     "output_type": "execute_result"
    }
   ],
   "source": [
    "df_cederj.columns"
   ]
  },
  {
   "cell_type": "code",
   "execution_count": 163,
   "metadata": {},
   "outputs": [],
   "source": [
    "df_cederj['NOTA'] = df_cederj['NOTA'].replace('nan','0', regex=True)"
   ]
  },
  {
   "cell_type": "markdown",
   "metadata": {},
   "source": [
    "### Convertendo a coluna NOTA de string para float"
   ]
  },
  {
   "cell_type": "code",
   "execution_count": 190,
   "metadata": {},
   "outputs": [],
   "source": [
    "df_cederj = df_cederj.drop(columns=['Unnamed: 0'])"
   ]
  },
  {
   "cell_type": "code",
   "execution_count": 97,
   "metadata": {},
   "outputs": [],
   "source": [
    "df_cederj['NOTA'] = pd.to_numeric(df_cederj['NOTA'], errors='coerce')"
   ]
  },
  {
   "cell_type": "code",
   "execution_count": 165,
   "metadata": {},
   "outputs": [
    {
     "data": {
      "text/plain": [
       "INSCRICAO        int64\n",
       "NOME            object\n",
       "NOTA           float64\n",
       "SITUACAO        object\n",
       "CURSO           object\n",
       "POLO            object\n",
       "INSTITUICAO     object\n",
       "dtype: object"
      ]
     },
     "execution_count": 165,
     "metadata": {},
     "output_type": "execute_result"
    }
   ],
   "source": [
    "df_cederj.dtypes"
   ]
  },
  {
   "cell_type": "code",
   "execution_count": 166,
   "metadata": {},
   "outputs": [],
   "source": [
    "df_cederj.to_csv(\"data/prova_1.csv\")"
   ]
  },
  {
   "cell_type": "code",
   "execution_count": 191,
   "metadata": {},
   "outputs": [
    {
     "data": {
      "text/html": [
       "<div>\n",
       "<style scoped>\n",
       "    .dataframe tbody tr th:only-of-type {\n",
       "        vertical-align: middle;\n",
       "    }\n",
       "\n",
       "    .dataframe tbody tr th {\n",
       "        vertical-align: top;\n",
       "    }\n",
       "\n",
       "    .dataframe thead th {\n",
       "        text-align: right;\n",
       "    }\n",
       "</style>\n",
       "<table border=\"1\" class=\"dataframe\">\n",
       "  <thead>\n",
       "    <tr style=\"text-align: right;\">\n",
       "      <th></th>\n",
       "      <th>INSCRICAO</th>\n",
       "      <th>NOME</th>\n",
       "      <th>NOTA</th>\n",
       "      <th>SITUACAO</th>\n",
       "      <th>CURSO</th>\n",
       "      <th>POLO</th>\n",
       "      <th>INSTITUICAO</th>\n",
       "    </tr>\n",
       "  </thead>\n",
       "  <tbody>\n",
       "    <tr>\n",
       "      <td>45</td>\n",
       "      <td>37116</td>\n",
       "      <td>ADELMO GOMES CORDEIRO</td>\n",
       "      <td>77.0</td>\n",
       "      <td>HABILITADO CORREÇÃO REDAÇÃO</td>\n",
       "      <td>Administração</td>\n",
       "      <td>Mesquita</td>\n",
       "      <td>UFRRJ</td>\n",
       "    </tr>\n",
       "    <tr>\n",
       "      <td>54</td>\n",
       "      <td>40897</td>\n",
       "      <td>ADEMIR LEMOS JÚNIOR</td>\n",
       "      <td>96.5</td>\n",
       "      <td>HABILITADO CORREÇÃO REDAÇÃO</td>\n",
       "      <td>Administração</td>\n",
       "      <td>Mesquita</td>\n",
       "      <td>UFRRJ</td>\n",
       "    </tr>\n",
       "    <tr>\n",
       "      <td>172</td>\n",
       "      <td>56077</td>\n",
       "      <td>ADRIANNE ARAÚJO SANTOS</td>\n",
       "      <td>79.5</td>\n",
       "      <td>HABILITADO CORREÇÃO REDAÇÃO</td>\n",
       "      <td>Administração</td>\n",
       "      <td>Mesquita</td>\n",
       "      <td>UFRRJ</td>\n",
       "    </tr>\n",
       "    <tr>\n",
       "      <td>198</td>\n",
       "      <td>55505</td>\n",
       "      <td>ADRIANO NÓBREGA DE CASTRO</td>\n",
       "      <td>91.0</td>\n",
       "      <td>HABILITADO CORREÇÃO REDAÇÃO</td>\n",
       "      <td>Administração</td>\n",
       "      <td>Mesquita</td>\n",
       "      <td>UFRRJ</td>\n",
       "    </tr>\n",
       "    <tr>\n",
       "      <td>234</td>\n",
       "      <td>4624</td>\n",
       "      <td>ADSON DE ALMEIDA DAMAZIO</td>\n",
       "      <td>86.5</td>\n",
       "      <td>HABILITADO CORREÇÃO REDAÇÃO</td>\n",
       "      <td>Administração</td>\n",
       "      <td>Mesquita</td>\n",
       "      <td>UFRRJ</td>\n",
       "    </tr>\n",
       "    <tr>\n",
       "      <td>...</td>\n",
       "      <td>...</td>\n",
       "      <td>...</td>\n",
       "      <td>...</td>\n",
       "      <td>...</td>\n",
       "      <td>...</td>\n",
       "      <td>...</td>\n",
       "      <td>...</td>\n",
       "    </tr>\n",
       "    <tr>\n",
       "      <td>20875</td>\n",
       "      <td>2012</td>\n",
       "      <td>VICTOR HUGO COUTINHO AUZIER</td>\n",
       "      <td>94.0</td>\n",
       "      <td>HABILITADO CORREÇÃO REDAÇÃO</td>\n",
       "      <td>Administração</td>\n",
       "      <td>Mesquita</td>\n",
       "      <td>UFRRJ</td>\n",
       "    </tr>\n",
       "    <tr>\n",
       "      <td>20885</td>\n",
       "      <td>7272</td>\n",
       "      <td>VICTOR HUGO PEREIRA DE AZEVEDO</td>\n",
       "      <td>83.0</td>\n",
       "      <td>HABILITADO CORREÇÃO REDAÇÃO</td>\n",
       "      <td>Administração</td>\n",
       "      <td>Mesquita</td>\n",
       "      <td>UFRRJ</td>\n",
       "    </tr>\n",
       "    <tr>\n",
       "      <td>21413</td>\n",
       "      <td>37231</td>\n",
       "      <td>WANDERSON LOPES FEIJÓ</td>\n",
       "      <td>77.5</td>\n",
       "      <td>HABILITADO CORREÇÃO REDAÇÃO</td>\n",
       "      <td>Administração</td>\n",
       "      <td>Mesquita</td>\n",
       "      <td>UFRRJ</td>\n",
       "    </tr>\n",
       "    <tr>\n",
       "      <td>21473</td>\n",
       "      <td>24733</td>\n",
       "      <td>WELLINGTON ALVES BARROS</td>\n",
       "      <td>92.0</td>\n",
       "      <td>HABILITADO CORREÇÃO REDAÇÃO</td>\n",
       "      <td>Administração</td>\n",
       "      <td>Mesquita</td>\n",
       "      <td>UFRRJ</td>\n",
       "    </tr>\n",
       "    <tr>\n",
       "      <td>21541</td>\n",
       "      <td>44047</td>\n",
       "      <td>WESLEY DE AZEVEDO BARBOSA</td>\n",
       "      <td>90.5</td>\n",
       "      <td>HABILITADO CORREÇÃO REDAÇÃO</td>\n",
       "      <td>Administração</td>\n",
       "      <td>Mesquita</td>\n",
       "      <td>UFRRJ</td>\n",
       "    </tr>\n",
       "  </tbody>\n",
       "</table>\n",
       "<p>81 rows × 7 columns</p>\n",
       "</div>"
      ],
      "text/plain": [
       "       INSCRICAO                            NOME  NOTA  \\\n",
       "45         37116           ADELMO GOMES CORDEIRO  77.0   \n",
       "54         40897             ADEMIR LEMOS JÚNIOR  96.5   \n",
       "172        56077          ADRIANNE ARAÚJO SANTOS  79.5   \n",
       "198        55505       ADRIANO NÓBREGA DE CASTRO  91.0   \n",
       "234         4624        ADSON DE ALMEIDA DAMAZIO  86.5   \n",
       "...          ...                             ...   ...   \n",
       "20875       2012     VICTOR HUGO COUTINHO AUZIER  94.0   \n",
       "20885       7272  VICTOR HUGO PEREIRA DE AZEVEDO  83.0   \n",
       "21413      37231           WANDERSON LOPES FEIJÓ  77.5   \n",
       "21473      24733         WELLINGTON ALVES BARROS  92.0   \n",
       "21541      44047       WESLEY DE AZEVEDO BARBOSA  90.5   \n",
       "\n",
       "                          SITUACAO          CURSO      POLO INSTITUICAO  \n",
       "45     HABILITADO CORREÇÃO REDAÇÃO  Administração  Mesquita       UFRRJ  \n",
       "54     HABILITADO CORREÇÃO REDAÇÃO  Administração  Mesquita       UFRRJ  \n",
       "172    HABILITADO CORREÇÃO REDAÇÃO  Administração  Mesquita       UFRRJ  \n",
       "198    HABILITADO CORREÇÃO REDAÇÃO  Administração  Mesquita       UFRRJ  \n",
       "234    HABILITADO CORREÇÃO REDAÇÃO  Administração  Mesquita       UFRRJ  \n",
       "...                            ...            ...       ...         ...  \n",
       "20875  HABILITADO CORREÇÃO REDAÇÃO  Administração  Mesquita       UFRRJ  \n",
       "20885  HABILITADO CORREÇÃO REDAÇÃO  Administração  Mesquita       UFRRJ  \n",
       "21413  HABILITADO CORREÇÃO REDAÇÃO  Administração  Mesquita       UFRRJ  \n",
       "21473  HABILITADO CORREÇÃO REDAÇÃO  Administração  Mesquita       UFRRJ  \n",
       "21541  HABILITADO CORREÇÃO REDAÇÃO  Administração  Mesquita       UFRRJ  \n",
       "\n",
       "[81 rows x 7 columns]"
      ]
     },
     "execution_count": 191,
     "metadata": {},
     "output_type": "execute_result"
    }
   ],
   "source": [
    "df_cederj.loc[(df_cederj.POLO == 'Mesquita') & (df_cederj.CURSO == 'Administração') & (df_cederj.SITUACAO == 'HABILITADO CORREÇÃO REDAÇÃO') & (df_cederj.NOTA > 75)]"
   ]
  },
  {
   "cell_type": "markdown",
   "metadata": {},
   "source": [
    "### Renomeando as colunas INSCRIÇÃO, SITUAÇÃO E INSTITUIÇÃO"
   ]
  },
  {
   "cell_type": "code",
   "execution_count": 168,
   "metadata": {},
   "outputs": [],
   "source": [
    "df_cederj = df_cederj.rename(columns={'INSCRIÇÃO':'INSCRICAO', 'SITUAÇÃO':'SITUACAO', 'INSTITUIÇÃO':'INSTITUICAO'})"
   ]
  },
  {
   "cell_type": "markdown",
   "metadata": {},
   "source": [
    "### Alterando a ordem das colunas"
   ]
  },
  {
   "cell_type": "code",
   "execution_count": 169,
   "metadata": {},
   "outputs": [],
   "source": [
    "df_cederj = df_cederj[['INSCRICAO', 'NOME', 'NOTA', 'SITUACAO', 'CURSO', 'POLO', 'INSTITUICAO']]"
   ]
  },
  {
   "cell_type": "markdown",
   "metadata": {},
   "source": [
    "### Definindo a INSCRICAO como o índice"
   ]
  },
  {
   "cell_type": "code",
   "execution_count": 170,
   "metadata": {},
   "outputs": [],
   "source": [
    "df_cederj = df_cederj.loc[df_cederj['INSCRICAO'] != 'INSCRIÇÃO']"
   ]
  },
  {
   "cell_type": "code",
   "execution_count": 171,
   "metadata": {},
   "outputs": [],
   "source": [
    "df_cederj['INSCRICAO'] = df_cederj['INSCRICAO'].astype(str).astype(int)"
   ]
  },
  {
   "cell_type": "code",
   "execution_count": 172,
   "metadata": {},
   "outputs": [
    {
     "data": {
      "text/plain": [
       "INSCRICAO        int64\n",
       "NOME            object\n",
       "NOTA           float64\n",
       "SITUACAO        object\n",
       "CURSO           object\n",
       "POLO            object\n",
       "INSTITUICAO     object\n",
       "dtype: object"
      ]
     },
     "execution_count": 172,
     "metadata": {},
     "output_type": "execute_result"
    }
   ],
   "source": [
    "df_cederj.dtypes"
   ]
  },
  {
   "cell_type": "code",
   "execution_count": null,
   "metadata": {},
   "outputs": [],
   "source": [
    "df_cederj.set_index('INSCRICAO', inplace=True)"
   ]
  },
  {
   "cell_type": "code",
   "execution_count": 142,
   "metadata": {},
   "outputs": [],
   "source": [
    "df_cederj.reset_index('INSCRICAO', inplace=True)"
   ]
  },
  {
   "cell_type": "markdown",
   "metadata": {},
   "source": [
    "### Exportando o dataframe gerado"
   ]
  },
  {
   "cell_type": "code",
   "execution_count": 192,
   "metadata": {},
   "outputs": [],
   "source": [
    "df_cederj.to_csv(\"data/prova_1.csv\")"
   ]
  },
  {
   "cell_type": "code",
   "execution_count": 196,
   "metadata": {},
   "outputs": [
    {
     "data": {
      "text/plain": [
       "INSCRICAO        int64\n",
       "NOME            object\n",
       "NOTA           float64\n",
       "SITUACAO        object\n",
       "CURSO           object\n",
       "POLO            object\n",
       "INSTITUICAO     object\n",
       "dtype: object"
      ]
     },
     "execution_count": 196,
     "metadata": {},
     "output_type": "execute_result"
    }
   ],
   "source": [
    "df_cederj.dtypes"
   ]
  },
  {
   "cell_type": "code",
   "execution_count": null,
   "metadata": {},
   "outputs": [],
   "source": []
  }
 ],
 "metadata": {
  "kernelspec": {
   "display_name": "Python 3",
   "language": "python",
   "name": "python3"
  },
  "language_info": {
   "codemirror_mode": {
    "name": "ipython",
    "version": 3
   },
   "file_extension": ".py",
   "mimetype": "text/x-python",
   "name": "python",
   "nbconvert_exporter": "python",
   "pygments_lexer": "ipython3",
   "version": "3.7.7"
  }
 },
 "nbformat": 4,
 "nbformat_minor": 2
}
