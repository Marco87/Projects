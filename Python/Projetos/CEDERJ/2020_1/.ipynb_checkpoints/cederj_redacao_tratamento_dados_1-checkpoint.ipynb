{
 "cells": [
  {
   "cell_type": "markdown",
   "metadata": {},
   "source": [
    "## cederj_redacao.csv\n",
    "\n",
    "### Converter arquivos PDF para CSV\n",
    "### Renomear colunas\n",
    "### Inserir coluna com id\n",
    "### Remover linhas duplicadas com: nome, curso, inscrição, nota e situação\n",
    "### Dividir a coluna curso, polo e instituição em três colunas, com cada informação respectivamente"
   ]
  },
  {
   "cell_type": "code",
   "execution_count": 363,
   "metadata": {},
   "outputs": [],
   "source": [
    "import tabula\n",
    "import numpy as np\n",
    "import pandas as pd\n",
    "import datatable as dt"
   ]
  },
  {
   "cell_type": "code",
   "execution_count": 364,
   "metadata": {},
   "outputs": [],
   "source": [
    "tabula.convert_into('data/cederj_redacao.pdf', 'data/redacao.csv', output_format='csv', pages='all')"
   ]
  },
  {
   "cell_type": "code",
   "execution_count": 413,
   "metadata": {},
   "outputs": [],
   "source": [
    "df_redacao = pd.read_csv('data/redacao.csv')"
   ]
  },
  {
   "cell_type": "markdown",
   "metadata": {},
   "source": [
    "### Renomeando as colunas"
   ]
  },
  {
   "cell_type": "code",
   "execution_count": 414,
   "metadata": {},
   "outputs": [
    {
     "data": {
      "text/plain": [
       "Index(['Nome', 'Unnamed: 1', 'Curso/Polo/Instituição', 'Unnamed: 3',\n",
       "       'Inscrição', 'Unnamed: 5', 'Nota\\rRedação', 'Aspectos\\rformais',\n",
       "       'Aspectos\\rtextuais', 'Aspectos\\rdiscursivos'],\n",
       "      dtype='object')"
      ]
     },
     "execution_count": 414,
     "metadata": {},
     "output_type": "execute_result"
    }
   ],
   "source": [
    "df_redacao.columns"
   ]
  },
  {
   "cell_type": "code",
   "execution_count": 415,
   "metadata": {},
   "outputs": [
    {
     "data": {
      "text/html": [
       "<div>\n",
       "<style scoped>\n",
       "    .dataframe tbody tr th:only-of-type {\n",
       "        vertical-align: middle;\n",
       "    }\n",
       "\n",
       "    .dataframe tbody tr th {\n",
       "        vertical-align: top;\n",
       "    }\n",
       "\n",
       "    .dataframe thead th {\n",
       "        text-align: right;\n",
       "    }\n",
       "</style>\n",
       "<table border=\"1\" class=\"dataframe\">\n",
       "  <thead>\n",
       "    <tr style=\"text-align: right;\">\n",
       "      <th></th>\n",
       "      <th>Nome</th>\n",
       "      <th>Unnamed: 1</th>\n",
       "      <th>Curso/Polo/Instituição</th>\n",
       "      <th>Unnamed: 3</th>\n",
       "      <th>Inscrição</th>\n",
       "      <th>Unnamed: 5</th>\n",
       "      <th>Nota\\rRedação</th>\n",
       "      <th>Aspectos\\rformais</th>\n",
       "      <th>Aspectos\\rtextuais</th>\n",
       "      <th>Aspectos\\rdiscursivos</th>\n",
       "    </tr>\n",
       "  </thead>\n",
       "  <tbody>\n",
       "    <tr>\n",
       "      <td>0</td>\n",
       "      <td>AARADELFA EDELSZTEIN E WREDE</td>\n",
       "      <td>Pedagogia - Nova Friburgo (UERJ)</td>\n",
       "      <td>0012749</td>\n",
       "      <td>50,0</td>\n",
       "      <td>20,0</td>\n",
       "      <td>15,0</td>\n",
       "      <td>15,0</td>\n",
       "      <td>NaN</td>\n",
       "      <td>NaN</td>\n",
       "      <td>NaN</td>\n",
       "    </tr>\n",
       "    <tr>\n",
       "      <td>1</td>\n",
       "      <td>ABEL NASCIMENTO JUNIOR</td>\n",
       "      <td>Turismo - São Gonçalo (UFRRJ)</td>\n",
       "      <td>0050580</td>\n",
       "      <td>55,0</td>\n",
       "      <td>20,0</td>\n",
       "      <td>20,0</td>\n",
       "      <td>15,0</td>\n",
       "      <td>NaN</td>\n",
       "      <td>NaN</td>\n",
       "      <td>NaN</td>\n",
       "    </tr>\n",
       "    <tr>\n",
       "      <td>2</td>\n",
       "      <td>ABNER BATISTA SILVA</td>\n",
       "      <td>Administração - Resende (UFRRJ)</td>\n",
       "      <td>0034822</td>\n",
       "      <td>55,0</td>\n",
       "      <td>15,0</td>\n",
       "      <td>15,0</td>\n",
       "      <td>25,0</td>\n",
       "      <td>NaN</td>\n",
       "      <td>NaN</td>\n",
       "      <td>NaN</td>\n",
       "    </tr>\n",
       "  </tbody>\n",
       "</table>\n",
       "</div>"
      ],
      "text/plain": [
       "                           Nome                        Unnamed: 1  \\\n",
       "0  AARADELFA EDELSZTEIN E WREDE  Pedagogia - Nova Friburgo (UERJ)   \n",
       "1        ABEL NASCIMENTO JUNIOR     Turismo - São Gonçalo (UFRRJ)   \n",
       "2           ABNER BATISTA SILVA   Administração - Resende (UFRRJ)   \n",
       "\n",
       "  Curso/Polo/Instituição Unnamed: 3 Inscrição Unnamed: 5 Nota\\rRedação  \\\n",
       "0                0012749       50,0      20,0       15,0          15,0   \n",
       "1                0050580       55,0      20,0       20,0          15,0   \n",
       "2                0034822       55,0      15,0       15,0          25,0   \n",
       "\n",
       "  Aspectos\\rformais Aspectos\\rtextuais Aspectos\\rdiscursivos  \n",
       "0               NaN                NaN                   NaN  \n",
       "1               NaN                NaN                   NaN  \n",
       "2               NaN                NaN                   NaN  "
      ]
     },
     "execution_count": 415,
     "metadata": {},
     "output_type": "execute_result"
    }
   ],
   "source": [
    "df_redacao.head(3)"
   ]
  },
  {
   "cell_type": "code",
   "execution_count": 416,
   "metadata": {},
   "outputs": [],
   "source": [
    "df_redacao = df_redacao.rename(columns={'Nome':'NOME', 'Unnamed: 1':'CPI', 'Curso/Polo/Instituição':'INSCRICAO', 'Unnamed: 3':'NOTA_REDACAO', 'Inscrição':'ASPECTOS_FORMAIS', 'Unnamed: 5':'ASPECTOS_TEXTUAIS', 'Nota\\rRedação':'ASPECTOS_DISCURSIVOS'})"
   ]
  },
  {
   "cell_type": "code",
   "execution_count": 417,
   "metadata": {},
   "outputs": [
    {
     "data": {
      "text/html": [
       "<div>\n",
       "<style scoped>\n",
       "    .dataframe tbody tr th:only-of-type {\n",
       "        vertical-align: middle;\n",
       "    }\n",
       "\n",
       "    .dataframe tbody tr th {\n",
       "        vertical-align: top;\n",
       "    }\n",
       "\n",
       "    .dataframe thead th {\n",
       "        text-align: right;\n",
       "    }\n",
       "</style>\n",
       "<table border=\"1\" class=\"dataframe\">\n",
       "  <thead>\n",
       "    <tr style=\"text-align: right;\">\n",
       "      <th></th>\n",
       "      <th>NOME</th>\n",
       "      <th>CPI</th>\n",
       "      <th>INSCRICAO</th>\n",
       "      <th>NOTA_REDACAO</th>\n",
       "      <th>ASPECTOS_FORMAIS</th>\n",
       "      <th>ASPECTOS_TEXTUAIS</th>\n",
       "      <th>ASPECTOS_DISCURSIVOS</th>\n",
       "      <th>Aspectos\\rformais</th>\n",
       "      <th>Aspectos\\rtextuais</th>\n",
       "      <th>Aspectos\\rdiscursivos</th>\n",
       "    </tr>\n",
       "  </thead>\n",
       "  <tbody>\n",
       "    <tr>\n",
       "      <td>0</td>\n",
       "      <td>AARADELFA EDELSZTEIN E WREDE</td>\n",
       "      <td>Pedagogia - Nova Friburgo (UERJ)</td>\n",
       "      <td>0012749</td>\n",
       "      <td>50,0</td>\n",
       "      <td>20,0</td>\n",
       "      <td>15,0</td>\n",
       "      <td>15,0</td>\n",
       "      <td>NaN</td>\n",
       "      <td>NaN</td>\n",
       "      <td>NaN</td>\n",
       "    </tr>\n",
       "    <tr>\n",
       "      <td>1</td>\n",
       "      <td>ABEL NASCIMENTO JUNIOR</td>\n",
       "      <td>Turismo - São Gonçalo (UFRRJ)</td>\n",
       "      <td>0050580</td>\n",
       "      <td>55,0</td>\n",
       "      <td>20,0</td>\n",
       "      <td>20,0</td>\n",
       "      <td>15,0</td>\n",
       "      <td>NaN</td>\n",
       "      <td>NaN</td>\n",
       "      <td>NaN</td>\n",
       "    </tr>\n",
       "    <tr>\n",
       "      <td>2</td>\n",
       "      <td>ABNER BATISTA SILVA</td>\n",
       "      <td>Administração - Resende (UFRRJ)</td>\n",
       "      <td>0034822</td>\n",
       "      <td>55,0</td>\n",
       "      <td>15,0</td>\n",
       "      <td>15,0</td>\n",
       "      <td>25,0</td>\n",
       "      <td>NaN</td>\n",
       "      <td>NaN</td>\n",
       "      <td>NaN</td>\n",
       "    </tr>\n",
       "  </tbody>\n",
       "</table>\n",
       "</div>"
      ],
      "text/plain": [
       "                           NOME                               CPI INSCRICAO  \\\n",
       "0  AARADELFA EDELSZTEIN E WREDE  Pedagogia - Nova Friburgo (UERJ)   0012749   \n",
       "1        ABEL NASCIMENTO JUNIOR     Turismo - São Gonçalo (UFRRJ)   0050580   \n",
       "2           ABNER BATISTA SILVA   Administração - Resende (UFRRJ)   0034822   \n",
       "\n",
       "  NOTA_REDACAO ASPECTOS_FORMAIS ASPECTOS_TEXTUAIS ASPECTOS_DISCURSIVOS  \\\n",
       "0         50,0             20,0              15,0                 15,0   \n",
       "1         55,0             20,0              20,0                 15,0   \n",
       "2         55,0             15,0              15,0                 25,0   \n",
       "\n",
       "  Aspectos\\rformais Aspectos\\rtextuais Aspectos\\rdiscursivos  \n",
       "0               NaN                NaN                   NaN  \n",
       "1               NaN                NaN                   NaN  \n",
       "2               NaN                NaN                   NaN  "
      ]
     },
     "execution_count": 417,
     "metadata": {},
     "output_type": "execute_result"
    }
   ],
   "source": [
    "df_redacao.head(3)"
   ]
  },
  {
   "cell_type": "code",
   "execution_count": 418,
   "metadata": {},
   "outputs": [],
   "source": [
    "df_redacao = df_redacao.rename(columns={'Aspectos\\rformais':'CURSO', 'Aspectos\\rtextuais':'POLO', 'Aspectos\\rdiscursivos':'INSTITUICAO'})"
   ]
  },
  {
   "cell_type": "code",
   "execution_count": 419,
   "metadata": {},
   "outputs": [
    {
     "data": {
      "text/html": [
       "<div>\n",
       "<style scoped>\n",
       "    .dataframe tbody tr th:only-of-type {\n",
       "        vertical-align: middle;\n",
       "    }\n",
       "\n",
       "    .dataframe tbody tr th {\n",
       "        vertical-align: top;\n",
       "    }\n",
       "\n",
       "    .dataframe thead th {\n",
       "        text-align: right;\n",
       "    }\n",
       "</style>\n",
       "<table border=\"1\" class=\"dataframe\">\n",
       "  <thead>\n",
       "    <tr style=\"text-align: right;\">\n",
       "      <th></th>\n",
       "      <th>NOME</th>\n",
       "      <th>CPI</th>\n",
       "      <th>INSCRICAO</th>\n",
       "      <th>NOTA_REDACAO</th>\n",
       "      <th>ASPECTOS_FORMAIS</th>\n",
       "      <th>ASPECTOS_TEXTUAIS</th>\n",
       "      <th>ASPECTOS_DISCURSIVOS</th>\n",
       "      <th>CURSO</th>\n",
       "      <th>POLO</th>\n",
       "      <th>INSTITUICAO</th>\n",
       "    </tr>\n",
       "  </thead>\n",
       "  <tbody>\n",
       "    <tr>\n",
       "      <td>0</td>\n",
       "      <td>AARADELFA EDELSZTEIN E WREDE</td>\n",
       "      <td>Pedagogia - Nova Friburgo (UERJ)</td>\n",
       "      <td>0012749</td>\n",
       "      <td>50,0</td>\n",
       "      <td>20,0</td>\n",
       "      <td>15,0</td>\n",
       "      <td>15,0</td>\n",
       "      <td>NaN</td>\n",
       "      <td>NaN</td>\n",
       "      <td>NaN</td>\n",
       "    </tr>\n",
       "    <tr>\n",
       "      <td>1</td>\n",
       "      <td>ABEL NASCIMENTO JUNIOR</td>\n",
       "      <td>Turismo - São Gonçalo (UFRRJ)</td>\n",
       "      <td>0050580</td>\n",
       "      <td>55,0</td>\n",
       "      <td>20,0</td>\n",
       "      <td>20,0</td>\n",
       "      <td>15,0</td>\n",
       "      <td>NaN</td>\n",
       "      <td>NaN</td>\n",
       "      <td>NaN</td>\n",
       "    </tr>\n",
       "    <tr>\n",
       "      <td>2</td>\n",
       "      <td>ABNER BATISTA SILVA</td>\n",
       "      <td>Administração - Resende (UFRRJ)</td>\n",
       "      <td>0034822</td>\n",
       "      <td>55,0</td>\n",
       "      <td>15,0</td>\n",
       "      <td>15,0</td>\n",
       "      <td>25,0</td>\n",
       "      <td>NaN</td>\n",
       "      <td>NaN</td>\n",
       "      <td>NaN</td>\n",
       "    </tr>\n",
       "  </tbody>\n",
       "</table>\n",
       "</div>"
      ],
      "text/plain": [
       "                           NOME                               CPI INSCRICAO  \\\n",
       "0  AARADELFA EDELSZTEIN E WREDE  Pedagogia - Nova Friburgo (UERJ)   0012749   \n",
       "1        ABEL NASCIMENTO JUNIOR     Turismo - São Gonçalo (UFRRJ)   0050580   \n",
       "2           ABNER BATISTA SILVA   Administração - Resende (UFRRJ)   0034822   \n",
       "\n",
       "  NOTA_REDACAO ASPECTOS_FORMAIS ASPECTOS_TEXTUAIS ASPECTOS_DISCURSIVOS CURSO  \\\n",
       "0         50,0             20,0              15,0                 15,0   NaN   \n",
       "1         55,0             20,0              20,0                 15,0   NaN   \n",
       "2         55,0             15,0              15,0                 25,0   NaN   \n",
       "\n",
       "  POLO INSTITUICAO  \n",
       "0  NaN         NaN  \n",
       "1  NaN         NaN  \n",
       "2  NaN         NaN  "
      ]
     },
     "execution_count": 419,
     "metadata": {},
     "output_type": "execute_result"
    }
   ],
   "source": [
    "df_redacao.head(3)"
   ]
  },
  {
   "cell_type": "markdown",
   "metadata": {},
   "source": [
    "### Separando as colunas CURSO/POLO/INSTITUIÇÃO"
   ]
  },
  {
   "cell_type": "code",
   "execution_count": 420,
   "metadata": {},
   "outputs": [],
   "source": [
    "df_redacao['CURSO'] = df_redacao.CPI.str.split(\" - \", expand=True)"
   ]
  },
  {
   "cell_type": "code",
   "execution_count": 421,
   "metadata": {},
   "outputs": [
    {
     "data": {
      "text/html": [
       "<div>\n",
       "<style scoped>\n",
       "    .dataframe tbody tr th:only-of-type {\n",
       "        vertical-align: middle;\n",
       "    }\n",
       "\n",
       "    .dataframe tbody tr th {\n",
       "        vertical-align: top;\n",
       "    }\n",
       "\n",
       "    .dataframe thead th {\n",
       "        text-align: right;\n",
       "    }\n",
       "</style>\n",
       "<table border=\"1\" class=\"dataframe\">\n",
       "  <thead>\n",
       "    <tr style=\"text-align: right;\">\n",
       "      <th></th>\n",
       "      <th>NOME</th>\n",
       "      <th>CPI</th>\n",
       "      <th>INSCRICAO</th>\n",
       "      <th>NOTA_REDACAO</th>\n",
       "      <th>ASPECTOS_FORMAIS</th>\n",
       "      <th>ASPECTOS_TEXTUAIS</th>\n",
       "      <th>ASPECTOS_DISCURSIVOS</th>\n",
       "      <th>CURSO</th>\n",
       "      <th>POLO</th>\n",
       "      <th>INSTITUICAO</th>\n",
       "    </tr>\n",
       "  </thead>\n",
       "  <tbody>\n",
       "    <tr>\n",
       "      <td>0</td>\n",
       "      <td>AARADELFA EDELSZTEIN E WREDE</td>\n",
       "      <td>Pedagogia - Nova Friburgo (UERJ)</td>\n",
       "      <td>0012749</td>\n",
       "      <td>50,0</td>\n",
       "      <td>20,0</td>\n",
       "      <td>15,0</td>\n",
       "      <td>15,0</td>\n",
       "      <td>Pedagogia</td>\n",
       "      <td>NaN</td>\n",
       "      <td>NaN</td>\n",
       "    </tr>\n",
       "    <tr>\n",
       "      <td>1</td>\n",
       "      <td>ABEL NASCIMENTO JUNIOR</td>\n",
       "      <td>Turismo - São Gonçalo (UFRRJ)</td>\n",
       "      <td>0050580</td>\n",
       "      <td>55,0</td>\n",
       "      <td>20,0</td>\n",
       "      <td>20,0</td>\n",
       "      <td>15,0</td>\n",
       "      <td>Turismo</td>\n",
       "      <td>NaN</td>\n",
       "      <td>NaN</td>\n",
       "    </tr>\n",
       "    <tr>\n",
       "      <td>2</td>\n",
       "      <td>ABNER BATISTA SILVA</td>\n",
       "      <td>Administração - Resende (UFRRJ)</td>\n",
       "      <td>0034822</td>\n",
       "      <td>55,0</td>\n",
       "      <td>15,0</td>\n",
       "      <td>15,0</td>\n",
       "      <td>25,0</td>\n",
       "      <td>Administração</td>\n",
       "      <td>NaN</td>\n",
       "      <td>NaN</td>\n",
       "    </tr>\n",
       "  </tbody>\n",
       "</table>\n",
       "</div>"
      ],
      "text/plain": [
       "                           NOME                               CPI INSCRICAO  \\\n",
       "0  AARADELFA EDELSZTEIN E WREDE  Pedagogia - Nova Friburgo (UERJ)   0012749   \n",
       "1        ABEL NASCIMENTO JUNIOR     Turismo - São Gonçalo (UFRRJ)   0050580   \n",
       "2           ABNER BATISTA SILVA   Administração - Resende (UFRRJ)   0034822   \n",
       "\n",
       "  NOTA_REDACAO ASPECTOS_FORMAIS ASPECTOS_TEXTUAIS ASPECTOS_DISCURSIVOS  \\\n",
       "0         50,0             20,0              15,0                 15,0   \n",
       "1         55,0             20,0              20,0                 15,0   \n",
       "2         55,0             15,0              15,0                 25,0   \n",
       "\n",
       "           CURSO POLO INSTITUICAO  \n",
       "0      Pedagogia  NaN         NaN  \n",
       "1        Turismo  NaN         NaN  \n",
       "2  Administração  NaN         NaN  "
      ]
     },
     "execution_count": 421,
     "metadata": {},
     "output_type": "execute_result"
    }
   ],
   "source": [
    "df_redacao.head(3)"
   ]
  },
  {
   "cell_type": "code",
   "execution_count": 422,
   "metadata": {},
   "outputs": [
    {
     "data": {
      "text/html": [
       "<div>\n",
       "<style scoped>\n",
       "    .dataframe tbody tr th:only-of-type {\n",
       "        vertical-align: middle;\n",
       "    }\n",
       "\n",
       "    .dataframe tbody tr th {\n",
       "        vertical-align: top;\n",
       "    }\n",
       "\n",
       "    .dataframe thead th {\n",
       "        text-align: right;\n",
       "    }\n",
       "</style>\n",
       "<table border=\"1\" class=\"dataframe\">\n",
       "  <thead>\n",
       "    <tr style=\"text-align: right;\">\n",
       "      <th></th>\n",
       "      <th>NOME</th>\n",
       "      <th>CPI</th>\n",
       "      <th>INSCRICAO</th>\n",
       "      <th>NOTA_REDACAO</th>\n",
       "      <th>ASPECTOS_FORMAIS</th>\n",
       "      <th>ASPECTOS_TEXTUAIS</th>\n",
       "      <th>ASPECTOS_DISCURSIVOS</th>\n",
       "      <th>CURSO</th>\n",
       "      <th>POLO</th>\n",
       "      <th>INSTITUICAO</th>\n",
       "    </tr>\n",
       "  </thead>\n",
       "  <tbody>\n",
       "    <tr>\n",
       "      <td>0</td>\n",
       "      <td>AARADELFA EDELSZTEIN E WREDE</td>\n",
       "      <td>Pedagogia - Nova Friburgo (UERJ)</td>\n",
       "      <td>0012749</td>\n",
       "      <td>50,0</td>\n",
       "      <td>20,0</td>\n",
       "      <td>15,0</td>\n",
       "      <td>15,0</td>\n",
       "      <td>Pedagogia</td>\n",
       "      <td>NaN</td>\n",
       "      <td>NaN</td>\n",
       "    </tr>\n",
       "    <tr>\n",
       "      <td>14</td>\n",
       "      <td>ADAHILTON AMERICO DE OLIVEIRA</td>\n",
       "      <td>Pedagogia - Saquarema (UNIRIO)</td>\n",
       "      <td>0055818</td>\n",
       "      <td>50,0</td>\n",
       "      <td>15,0</td>\n",
       "      <td>15,0</td>\n",
       "      <td>20,0</td>\n",
       "      <td>Pedagogia</td>\n",
       "      <td>NaN</td>\n",
       "      <td>NaN</td>\n",
       "    </tr>\n",
       "    <tr>\n",
       "      <td>24</td>\n",
       "      <td>ADELAIDE PEDRO DE SOUZA PONTES</td>\n",
       "      <td>Pedagogia - Nova Iguaçu (UERJ)</td>\n",
       "      <td>0008500</td>\n",
       "      <td>70,0</td>\n",
       "      <td>20,0</td>\n",
       "      <td>20,0</td>\n",
       "      <td>30,0</td>\n",
       "      <td>Pedagogia</td>\n",
       "      <td>NaN</td>\n",
       "      <td>NaN</td>\n",
       "    </tr>\n",
       "  </tbody>\n",
       "</table>\n",
       "</div>"
      ],
      "text/plain": [
       "                              NOME                               CPI  \\\n",
       "0     AARADELFA EDELSZTEIN E WREDE  Pedagogia - Nova Friburgo (UERJ)   \n",
       "14   ADAHILTON AMERICO DE OLIVEIRA    Pedagogia - Saquarema (UNIRIO)   \n",
       "24  ADELAIDE PEDRO DE SOUZA PONTES    Pedagogia - Nova Iguaçu (UERJ)   \n",
       "\n",
       "   INSCRICAO NOTA_REDACAO ASPECTOS_FORMAIS ASPECTOS_TEXTUAIS  \\\n",
       "0    0012749         50,0             20,0              15,0   \n",
       "14   0055818         50,0             15,0              15,0   \n",
       "24   0008500         70,0             20,0              20,0   \n",
       "\n",
       "   ASPECTOS_DISCURSIVOS      CURSO POLO INSTITUICAO  \n",
       "0                  15,0  Pedagogia  NaN         NaN  \n",
       "14                 20,0  Pedagogia  NaN         NaN  \n",
       "24                 30,0  Pedagogia  NaN         NaN  "
      ]
     },
     "execution_count": 422,
     "metadata": {},
     "output_type": "execute_result"
    }
   ],
   "source": [
    "df_redacao.loc[df_redacao['CURSO'] == 'Pedagogia'].head(3)"
   ]
  },
  {
   "cell_type": "code",
   "execution_count": 423,
   "metadata": {},
   "outputs": [],
   "source": [
    "df_redacao['CPI'] = df_redacao.CPI.str.replace(' - ', ',')"
   ]
  },
  {
   "cell_type": "code",
   "execution_count": 424,
   "metadata": {},
   "outputs": [],
   "source": [
    "df_redacao['CPI'] = df_redacao.CPI.str.replace('(', ',')"
   ]
  },
  {
   "cell_type": "code",
   "execution_count": 425,
   "metadata": {},
   "outputs": [],
   "source": [
    "df_redacao['CPI'] = df_redacao.CPI.str.replace(')', '')"
   ]
  },
  {
   "cell_type": "code",
   "execution_count": 426,
   "metadata": {},
   "outputs": [],
   "source": [
    "df = df_redacao['CPI'].apply(lambda x: pd.Series(str(x).split(',')))"
   ]
  },
  {
   "cell_type": "code",
   "execution_count": 427,
   "metadata": {},
   "outputs": [
    {
     "data": {
      "text/html": [
       "<div>\n",
       "<style scoped>\n",
       "    .dataframe tbody tr th:only-of-type {\n",
       "        vertical-align: middle;\n",
       "    }\n",
       "\n",
       "    .dataframe tbody tr th {\n",
       "        vertical-align: top;\n",
       "    }\n",
       "\n",
       "    .dataframe thead th {\n",
       "        text-align: right;\n",
       "    }\n",
       "</style>\n",
       "<table border=\"1\" class=\"dataframe\">\n",
       "  <thead>\n",
       "    <tr style=\"text-align: right;\">\n",
       "      <th></th>\n",
       "      <th>0</th>\n",
       "      <th>1</th>\n",
       "      <th>2</th>\n",
       "    </tr>\n",
       "  </thead>\n",
       "  <tbody>\n",
       "    <tr>\n",
       "      <td>0</td>\n",
       "      <td>Pedagogia</td>\n",
       "      <td>Nova Friburgo</td>\n",
       "      <td>UERJ</td>\n",
       "    </tr>\n",
       "    <tr>\n",
       "      <td>1</td>\n",
       "      <td>Turismo</td>\n",
       "      <td>São Gonçalo</td>\n",
       "      <td>UFRRJ</td>\n",
       "    </tr>\n",
       "    <tr>\n",
       "      <td>2</td>\n",
       "      <td>Administração</td>\n",
       "      <td>Resende</td>\n",
       "      <td>UFRRJ</td>\n",
       "    </tr>\n",
       "    <tr>\n",
       "      <td>3</td>\n",
       "      <td>Administração Pública</td>\n",
       "      <td>Nova Iguaçu</td>\n",
       "      <td>UFF</td>\n",
       "    </tr>\n",
       "    <tr>\n",
       "      <td>4</td>\n",
       "      <td>Matemática</td>\n",
       "      <td>Rio Bonito</td>\n",
       "      <td>UFF</td>\n",
       "    </tr>\n",
       "  </tbody>\n",
       "</table>\n",
       "</div>"
      ],
      "text/plain": [
       "                       0               1      2\n",
       "0              Pedagogia  Nova Friburgo    UERJ\n",
       "1                Turismo    São Gonçalo   UFRRJ\n",
       "2          Administração        Resende   UFRRJ\n",
       "3  Administração Pública    Nova Iguaçu     UFF\n",
       "4             Matemática     Rio Bonito     UFF"
      ]
     },
     "execution_count": 427,
     "metadata": {},
     "output_type": "execute_result"
    }
   ],
   "source": [
    "df.head(5)"
   ]
  },
  {
   "cell_type": "code",
   "execution_count": 428,
   "metadata": {},
   "outputs": [],
   "source": [
    "df_redacao['CURSO'] = df[0]"
   ]
  },
  {
   "cell_type": "code",
   "execution_count": 429,
   "metadata": {},
   "outputs": [],
   "source": [
    "df_redacao['POLO'] = df[1]"
   ]
  },
  {
   "cell_type": "code",
   "execution_count": 430,
   "metadata": {},
   "outputs": [],
   "source": [
    "df_redacao['INSTITUICAO'] = df[2]"
   ]
  },
  {
   "cell_type": "code",
   "execution_count": 431,
   "metadata": {},
   "outputs": [],
   "source": [
    "df_redacao['POLO'] = df_redacao['POLO'].str.strip()"
   ]
  },
  {
   "cell_type": "markdown",
   "metadata": {},
   "source": [
    "### Remover coluna CPI (CURSO/POLO/INSTITUIÇÃO)"
   ]
  },
  {
   "cell_type": "code",
   "execution_count": 432,
   "metadata": {},
   "outputs": [],
   "source": [
    "df_redacao = df_redacao.drop(columns = ['CPI'])"
   ]
  },
  {
   "cell_type": "code",
   "execution_count": 433,
   "metadata": {},
   "outputs": [
    {
     "data": {
      "text/html": [
       "<div>\n",
       "<style scoped>\n",
       "    .dataframe tbody tr th:only-of-type {\n",
       "        vertical-align: middle;\n",
       "    }\n",
       "\n",
       "    .dataframe tbody tr th {\n",
       "        vertical-align: top;\n",
       "    }\n",
       "\n",
       "    .dataframe thead th {\n",
       "        text-align: right;\n",
       "    }\n",
       "</style>\n",
       "<table border=\"1\" class=\"dataframe\">\n",
       "  <thead>\n",
       "    <tr style=\"text-align: right;\">\n",
       "      <th></th>\n",
       "      <th>NOME</th>\n",
       "      <th>INSCRICAO</th>\n",
       "      <th>NOTA_REDACAO</th>\n",
       "      <th>ASPECTOS_FORMAIS</th>\n",
       "      <th>ASPECTOS_TEXTUAIS</th>\n",
       "      <th>ASPECTOS_DISCURSIVOS</th>\n",
       "      <th>CURSO</th>\n",
       "      <th>POLO</th>\n",
       "      <th>INSTITUICAO</th>\n",
       "    </tr>\n",
       "  </thead>\n",
       "  <tbody>\n",
       "    <tr>\n",
       "      <td>0</td>\n",
       "      <td>AARADELFA EDELSZTEIN E WREDE</td>\n",
       "      <td>0012749</td>\n",
       "      <td>50,0</td>\n",
       "      <td>20,0</td>\n",
       "      <td>15,0</td>\n",
       "      <td>15,0</td>\n",
       "      <td>Pedagogia</td>\n",
       "      <td>Nova Friburgo</td>\n",
       "      <td>UERJ</td>\n",
       "    </tr>\n",
       "    <tr>\n",
       "      <td>1</td>\n",
       "      <td>ABEL NASCIMENTO JUNIOR</td>\n",
       "      <td>0050580</td>\n",
       "      <td>55,0</td>\n",
       "      <td>20,0</td>\n",
       "      <td>20,0</td>\n",
       "      <td>15,0</td>\n",
       "      <td>Turismo</td>\n",
       "      <td>São Gonçalo</td>\n",
       "      <td>UFRRJ</td>\n",
       "    </tr>\n",
       "    <tr>\n",
       "      <td>2</td>\n",
       "      <td>ABNER BATISTA SILVA</td>\n",
       "      <td>0034822</td>\n",
       "      <td>55,0</td>\n",
       "      <td>15,0</td>\n",
       "      <td>15,0</td>\n",
       "      <td>25,0</td>\n",
       "      <td>Administração</td>\n",
       "      <td>Resende</td>\n",
       "      <td>UFRRJ</td>\n",
       "    </tr>\n",
       "  </tbody>\n",
       "</table>\n",
       "</div>"
      ],
      "text/plain": [
       "                           NOME INSCRICAO NOTA_REDACAO ASPECTOS_FORMAIS  \\\n",
       "0  AARADELFA EDELSZTEIN E WREDE   0012749         50,0             20,0   \n",
       "1        ABEL NASCIMENTO JUNIOR   0050580         55,0             20,0   \n",
       "2           ABNER BATISTA SILVA   0034822         55,0             15,0   \n",
       "\n",
       "  ASPECTOS_TEXTUAIS ASPECTOS_DISCURSIVOS          CURSO           POLO  \\\n",
       "0              15,0                 15,0      Pedagogia  Nova Friburgo   \n",
       "1              20,0                 15,0        Turismo    São Gonçalo   \n",
       "2              15,0                 25,0  Administração        Resende   \n",
       "\n",
       "  INSTITUICAO  \n",
       "0        UERJ  \n",
       "1       UFRRJ  \n",
       "2       UFRRJ  "
      ]
     },
     "execution_count": 433,
     "metadata": {},
     "output_type": "execute_result"
    }
   ],
   "source": [
    "df_redacao.head(3)"
   ]
  },
  {
   "cell_type": "code",
   "execution_count": 434,
   "metadata": {},
   "outputs": [
    {
     "data": {
      "text/plain": [
       "NOME                    object\n",
       "INSCRICAO               object\n",
       "NOTA_REDACAO            object\n",
       "ASPECTOS_FORMAIS        object\n",
       "ASPECTOS_TEXTUAIS       object\n",
       "ASPECTOS_DISCURSIVOS    object\n",
       "CURSO                   object\n",
       "POLO                    object\n",
       "INSTITUICAO             object\n",
       "dtype: object"
      ]
     },
     "execution_count": 434,
     "metadata": {},
     "output_type": "execute_result"
    }
   ],
   "source": [
    "df_redacao.dtypes"
   ]
  },
  {
   "cell_type": "markdown",
   "metadata": {},
   "source": [
    "### Exportando o dataframe gerado"
   ]
  },
  {
   "cell_type": "code",
   "execution_count": 435,
   "metadata": {},
   "outputs": [],
   "source": [
    "df_redacao.to_csv(\"data/redacao_1.csv\")"
   ]
  },
  {
   "cell_type": "markdown",
   "metadata": {},
   "source": [
    "### Trocando vírgulas por pontos nas colunas NOTA REDAÇÃO, ASPECTOS FORMAIS, ASPECTOS TEXTUAIS E ASPECTOS DISCURSIVOS"
   ]
  },
  {
   "cell_type": "code",
   "execution_count": 436,
   "metadata": {},
   "outputs": [],
   "source": [
    "df_redacao['NOTA_REDACAO'] = df_redacao.NOTA_REDACAO.str.replace(',', '.')"
   ]
  },
  {
   "cell_type": "code",
   "execution_count": 437,
   "metadata": {},
   "outputs": [],
   "source": [
    "df_redacao['ASPECTOS_FORMAIS'] = df_redacao.ASPECTOS_FORMAIS.str.replace(',', '.')"
   ]
  },
  {
   "cell_type": "code",
   "execution_count": 438,
   "metadata": {},
   "outputs": [],
   "source": [
    "df_redacao['ASPECTOS_TEXTUAIS'] = df_redacao.ASPECTOS_TEXTUAIS.str.replace(',', '.')"
   ]
  },
  {
   "cell_type": "code",
   "execution_count": 439,
   "metadata": {},
   "outputs": [],
   "source": [
    "df_redacao['ASPECTOS_DISCURSIVOS'] = df_redacao.ASPECTOS_DISCURSIVOS.str.replace(',', '.')"
   ]
  },
  {
   "cell_type": "markdown",
   "metadata": {},
   "source": [
    "### Convertendo as colunas NOTA REDAÇÃO, ASPECTOS FORMAIS, ASPECTOS TEXTUAIS E ASPECTOS DISCURSIVOS PARA FLOAT"
   ]
  },
  {
   "cell_type": "code",
   "execution_count": 440,
   "metadata": {},
   "outputs": [],
   "source": [
    "df_redacao['NOTA_REDACAO'] = pd.to_numeric(df_redacao['NOTA_REDACAO'], errors='coerce')"
   ]
  },
  {
   "cell_type": "code",
   "execution_count": 441,
   "metadata": {},
   "outputs": [],
   "source": [
    "df_redacao['ASPECTOS_FORMAIS'] = pd.to_numeric(df_redacao['ASPECTOS_FORMAIS'], errors='coerce')"
   ]
  },
  {
   "cell_type": "code",
   "execution_count": 442,
   "metadata": {},
   "outputs": [],
   "source": [
    "df_redacao['ASPECTOS_TEXTUAIS'] = pd.to_numeric(df_redacao['ASPECTOS_TEXTUAIS'], errors='coerce')"
   ]
  },
  {
   "cell_type": "code",
   "execution_count": 443,
   "metadata": {},
   "outputs": [],
   "source": [
    "df_redacao['ASPECTOS_DISCURSIVOS'] = pd.to_numeric(df_redacao['ASPECTOS_DISCURSIVOS'], errors='coerce')"
   ]
  },
  {
   "cell_type": "code",
   "execution_count": 455,
   "metadata": {},
   "outputs": [
    {
     "data": {
      "text/html": [
       "<div>\n",
       "<style scoped>\n",
       "    .dataframe tbody tr th:only-of-type {\n",
       "        vertical-align: middle;\n",
       "    }\n",
       "\n",
       "    .dataframe tbody tr th {\n",
       "        vertical-align: top;\n",
       "    }\n",
       "\n",
       "    .dataframe thead th {\n",
       "        text-align: right;\n",
       "    }\n",
       "</style>\n",
       "<table border=\"1\" class=\"dataframe\">\n",
       "  <thead>\n",
       "    <tr style=\"text-align: right;\">\n",
       "      <th></th>\n",
       "      <th>NOME</th>\n",
       "      <th>INSCRICAO</th>\n",
       "      <th>NOTA_REDACAO</th>\n",
       "      <th>ASPECTOS_FORMAIS</th>\n",
       "      <th>ASPECTOS_TEXTUAIS</th>\n",
       "      <th>ASPECTOS_DISCURSIVOS</th>\n",
       "      <th>CURSO</th>\n",
       "      <th>POLO</th>\n",
       "      <th>INSTITUICAO</th>\n",
       "    </tr>\n",
       "  </thead>\n",
       "  <tbody>\n",
       "    <tr>\n",
       "      <td>0</td>\n",
       "      <td>AARADELFA EDELSZTEIN E WREDE</td>\n",
       "      <td>0012749</td>\n",
       "      <td>50.0</td>\n",
       "      <td>20.0</td>\n",
       "      <td>15.0</td>\n",
       "      <td>15.0</td>\n",
       "      <td>Pedagogia</td>\n",
       "      <td>Nova Friburgo</td>\n",
       "      <td>UERJ</td>\n",
       "    </tr>\n",
       "    <tr>\n",
       "      <td>1</td>\n",
       "      <td>ABEL NASCIMENTO JUNIOR</td>\n",
       "      <td>0050580</td>\n",
       "      <td>55.0</td>\n",
       "      <td>20.0</td>\n",
       "      <td>20.0</td>\n",
       "      <td>15.0</td>\n",
       "      <td>Turismo</td>\n",
       "      <td>São Gonçalo</td>\n",
       "      <td>UFRRJ</td>\n",
       "    </tr>\n",
       "    <tr>\n",
       "      <td>2</td>\n",
       "      <td>ABNER BATISTA SILVA</td>\n",
       "      <td>0034822</td>\n",
       "      <td>55.0</td>\n",
       "      <td>15.0</td>\n",
       "      <td>15.0</td>\n",
       "      <td>25.0</td>\n",
       "      <td>Administração</td>\n",
       "      <td>Resende</td>\n",
       "      <td>UFRRJ</td>\n",
       "    </tr>\n",
       "  </tbody>\n",
       "</table>\n",
       "</div>"
      ],
      "text/plain": [
       "                           NOME INSCRICAO  NOTA_REDACAO  ASPECTOS_FORMAIS  \\\n",
       "0  AARADELFA EDELSZTEIN E WREDE   0012749          50.0              20.0   \n",
       "1        ABEL NASCIMENTO JUNIOR   0050580          55.0              20.0   \n",
       "2           ABNER BATISTA SILVA   0034822          55.0              15.0   \n",
       "\n",
       "   ASPECTOS_TEXTUAIS  ASPECTOS_DISCURSIVOS          CURSO           POLO  \\\n",
       "0               15.0                  15.0      Pedagogia  Nova Friburgo   \n",
       "1               20.0                  15.0        Turismo    São Gonçalo   \n",
       "2               15.0                  25.0  Administração        Resende   \n",
       "\n",
       "  INSTITUICAO  \n",
       "0        UERJ  \n",
       "1       UFRRJ  \n",
       "2       UFRRJ  "
      ]
     },
     "execution_count": 455,
     "metadata": {},
     "output_type": "execute_result"
    }
   ],
   "source": [
    "df_redacao.head(3)"
   ]
  },
  {
   "cell_type": "code",
   "execution_count": 446,
   "metadata": {},
   "outputs": [
    {
     "data": {
      "text/plain": [
       "NOME                     object\n",
       "INSCRICAO                object\n",
       "NOTA_REDACAO            float64\n",
       "ASPECTOS_FORMAIS        float64\n",
       "ASPECTOS_TEXTUAIS       float64\n",
       "ASPECTOS_DISCURSIVOS    float64\n",
       "CURSO                    object\n",
       "POLO                     object\n",
       "INSTITUICAO              object\n",
       "dtype: object"
      ]
     },
     "execution_count": 446,
     "metadata": {},
     "output_type": "execute_result"
    }
   ],
   "source": [
    "df_redacao.dtypes"
   ]
  },
  {
   "cell_type": "markdown",
   "metadata": {},
   "source": [
    "### Exportando o dataframe gerado"
   ]
  },
  {
   "cell_type": "code",
   "execution_count": 447,
   "metadata": {},
   "outputs": [],
   "source": [
    "df_redacao.to_csv(\"data/redacao_1.csv\")"
   ]
  },
  {
   "cell_type": "markdown",
   "metadata": {},
   "source": [
    "### Removendo as linhas com o valor igual a 'NOME'"
   ]
  },
  {
   "cell_type": "code",
   "execution_count": 448,
   "metadata": {},
   "outputs": [
    {
     "data": {
      "text/html": [
       "<div>\n",
       "<style scoped>\n",
       "    .dataframe tbody tr th:only-of-type {\n",
       "        vertical-align: middle;\n",
       "    }\n",
       "\n",
       "    .dataframe tbody tr th {\n",
       "        vertical-align: top;\n",
       "    }\n",
       "\n",
       "    .dataframe thead th {\n",
       "        text-align: right;\n",
       "    }\n",
       "</style>\n",
       "<table border=\"1\" class=\"dataframe\">\n",
       "  <thead>\n",
       "    <tr style=\"text-align: right;\">\n",
       "      <th></th>\n",
       "      <th>NOME</th>\n",
       "      <th>INSCRICAO</th>\n",
       "      <th>NOTA_REDACAO</th>\n",
       "      <th>ASPECTOS_FORMAIS</th>\n",
       "      <th>ASPECTOS_TEXTUAIS</th>\n",
       "      <th>ASPECTOS_DISCURSIVOS</th>\n",
       "      <th>CURSO</th>\n",
       "      <th>POLO</th>\n",
       "      <th>INSTITUICAO</th>\n",
       "    </tr>\n",
       "  </thead>\n",
       "  <tbody>\n",
       "    <tr>\n",
       "      <td>42</td>\n",
       "      <td>Nome</td>\n",
       "      <td>Curso/Polo/Instituição</td>\n",
       "      <td>NaN</td>\n",
       "      <td>NaN</td>\n",
       "      <td>NaN</td>\n",
       "      <td>NaN</td>\n",
       "      <td>nan</td>\n",
       "      <td>NaN</td>\n",
       "      <td>NaN</td>\n",
       "    </tr>\n",
       "    <tr>\n",
       "      <td>85</td>\n",
       "      <td>Nome</td>\n",
       "      <td>Curso/Polo/Instituição</td>\n",
       "      <td>NaN</td>\n",
       "      <td>NaN</td>\n",
       "      <td>NaN</td>\n",
       "      <td>NaN</td>\n",
       "      <td>nan</td>\n",
       "      <td>NaN</td>\n",
       "      <td>NaN</td>\n",
       "    </tr>\n",
       "    <tr>\n",
       "      <td>128</td>\n",
       "      <td>Nome</td>\n",
       "      <td>Curso/Polo/Instituição</td>\n",
       "      <td>NaN</td>\n",
       "      <td>NaN</td>\n",
       "      <td>NaN</td>\n",
       "      <td>NaN</td>\n",
       "      <td>nan</td>\n",
       "      <td>NaN</td>\n",
       "      <td>NaN</td>\n",
       "    </tr>\n",
       "  </tbody>\n",
       "</table>\n",
       "</div>"
      ],
      "text/plain": [
       "     NOME               INSCRICAO  NOTA_REDACAO  ASPECTOS_FORMAIS  \\\n",
       "42   Nome  Curso/Polo/Instituição           NaN               NaN   \n",
       "85   Nome  Curso/Polo/Instituição           NaN               NaN   \n",
       "128  Nome  Curso/Polo/Instituição           NaN               NaN   \n",
       "\n",
       "     ASPECTOS_TEXTUAIS  ASPECTOS_DISCURSIVOS CURSO POLO INSTITUICAO  \n",
       "42                 NaN                   NaN   nan  NaN         NaN  \n",
       "85                 NaN                   NaN   nan  NaN         NaN  \n",
       "128                NaN                   NaN   nan  NaN         NaN  "
      ]
     },
     "execution_count": 448,
     "metadata": {},
     "output_type": "execute_result"
    }
   ],
   "source": [
    "df_redacao.loc[df_redacao['NOME'] == 'Nome'].head(3)"
   ]
  },
  {
   "cell_type": "code",
   "execution_count": 449,
   "metadata": {},
   "outputs": [],
   "source": [
    "df_redacao = df_redacao.loc[df_redacao['NOME'] != 'Nome']"
   ]
  },
  {
   "cell_type": "code",
   "execution_count": 451,
   "metadata": {},
   "outputs": [
    {
     "data": {
      "text/html": [
       "<div>\n",
       "<style scoped>\n",
       "    .dataframe tbody tr th:only-of-type {\n",
       "        vertical-align: middle;\n",
       "    }\n",
       "\n",
       "    .dataframe tbody tr th {\n",
       "        vertical-align: top;\n",
       "    }\n",
       "\n",
       "    .dataframe thead th {\n",
       "        text-align: right;\n",
       "    }\n",
       "</style>\n",
       "<table border=\"1\" class=\"dataframe\">\n",
       "  <thead>\n",
       "    <tr style=\"text-align: right;\">\n",
       "      <th></th>\n",
       "      <th>NOME</th>\n",
       "      <th>INSCRICAO</th>\n",
       "      <th>NOTA_REDACAO</th>\n",
       "      <th>ASPECTOS_FORMAIS</th>\n",
       "      <th>ASPECTOS_TEXTUAIS</th>\n",
       "      <th>ASPECTOS_DISCURSIVOS</th>\n",
       "      <th>CURSO</th>\n",
       "      <th>POLO</th>\n",
       "      <th>INSTITUICAO</th>\n",
       "    </tr>\n",
       "  </thead>\n",
       "  <tbody>\n",
       "    <tr>\n",
       "      <td>0</td>\n",
       "      <td>AARADELFA EDELSZTEIN E WREDE</td>\n",
       "      <td>0012749</td>\n",
       "      <td>50.0</td>\n",
       "      <td>20.0</td>\n",
       "      <td>15.0</td>\n",
       "      <td>15.0</td>\n",
       "      <td>Pedagogia</td>\n",
       "      <td>Nova Friburgo</td>\n",
       "      <td>UERJ</td>\n",
       "    </tr>\n",
       "    <tr>\n",
       "      <td>1</td>\n",
       "      <td>ABEL NASCIMENTO JUNIOR</td>\n",
       "      <td>0050580</td>\n",
       "      <td>55.0</td>\n",
       "      <td>20.0</td>\n",
       "      <td>20.0</td>\n",
       "      <td>15.0</td>\n",
       "      <td>Turismo</td>\n",
       "      <td>São Gonçalo</td>\n",
       "      <td>UFRRJ</td>\n",
       "    </tr>\n",
       "    <tr>\n",
       "      <td>2</td>\n",
       "      <td>ABNER BATISTA SILVA</td>\n",
       "      <td>0034822</td>\n",
       "      <td>55.0</td>\n",
       "      <td>15.0</td>\n",
       "      <td>15.0</td>\n",
       "      <td>25.0</td>\n",
       "      <td>Administração</td>\n",
       "      <td>Resende</td>\n",
       "      <td>UFRRJ</td>\n",
       "    </tr>\n",
       "  </tbody>\n",
       "</table>\n",
       "</div>"
      ],
      "text/plain": [
       "                           NOME INSCRICAO  NOTA_REDACAO  ASPECTOS_FORMAIS  \\\n",
       "0  AARADELFA EDELSZTEIN E WREDE   0012749          50.0              20.0   \n",
       "1        ABEL NASCIMENTO JUNIOR   0050580          55.0              20.0   \n",
       "2           ABNER BATISTA SILVA   0034822          55.0              15.0   \n",
       "\n",
       "   ASPECTOS_TEXTUAIS  ASPECTOS_DISCURSIVOS          CURSO           POLO  \\\n",
       "0               15.0                  15.0      Pedagogia  Nova Friburgo   \n",
       "1               20.0                  15.0        Turismo    São Gonçalo   \n",
       "2               15.0                  25.0  Administração        Resende   \n",
       "\n",
       "  INSTITUICAO  \n",
       "0        UERJ  \n",
       "1       UFRRJ  \n",
       "2       UFRRJ  "
      ]
     },
     "execution_count": 451,
     "metadata": {},
     "output_type": "execute_result"
    }
   ],
   "source": [
    "df_redacao.head(3)"
   ]
  },
  {
   "cell_type": "markdown",
   "metadata": {},
   "source": [
    "### Exportando o dataframe gerado"
   ]
  },
  {
   "cell_type": "code",
   "execution_count": 456,
   "metadata": {},
   "outputs": [],
   "source": [
    "df_redacao.to_csv(\"data/redacao_1.csv\")"
   ]
  }
 ],
 "metadata": {
  "kernelspec": {
   "display_name": "Python 3",
   "language": "python",
   "name": "python3"
  },
  "language_info": {
   "codemirror_mode": {
    "name": "ipython",
    "version": 3
   },
   "file_extension": ".py",
   "mimetype": "text/x-python",
   "name": "python",
   "nbconvert_exporter": "python",
   "pygments_lexer": "ipython3",
   "version": "3.7.4"
  }
 },
 "nbformat": 4,
 "nbformat_minor": 2
}
