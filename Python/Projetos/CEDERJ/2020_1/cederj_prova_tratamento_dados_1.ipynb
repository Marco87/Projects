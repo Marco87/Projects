{
 "cells": [
  {
   "cell_type": "markdown",
   "metadata": {},
   "source": [
    "## cederj_prova.csv\n",
    "\n",
    "### Converter arquivos PDF para CSV\n",
    "### Inserir coluna com id\n",
    "### Remover linhas duplicadas com: nome, curso, inscrição, nota e situação\n",
    "### Dividir a coluna curso, polo e instituição em três colunas, com cada informação respectivamente"
   ]
  },
  {
   "cell_type": "markdown",
   "metadata": {},
   "source": [
    "#### Converter arquivos PDF para CSV\n",
    "\n",
    "Referências:\n",
    "\n",
    "Tabula:\n",
    "\n",
    "https://github.com/chezou/tabula-py\n",
    "\n",
    "https://blog.chezo.uno/tabula-py-extract-table-from-pdf-into-python-dataframe-6c7acfa5f302\n",
    "\n",
    "\n",
    "CSV:\n",
    "\n",
    "https://towardsdatascience.com/an-overview-of-pythons-datatable-package-5d3a97394ee9\n",
    "\n"
   ]
  },
  {
   "cell_type": "code",
   "execution_count": 2,
   "metadata": {},
   "outputs": [
    {
     "data": {
      "text/html": [
       "<style type='text/css'>\n",
       ".datatable table.frame { margin-bottom: 0; }\n",
       ".datatable table.frame thead { border-bottom: none; }\n",
       ".datatable table.frame tr.coltypes td {  color: #FFFFFF;  line-height: 6px;  padding: 0 0.5em;}\n",
       ".datatable .boolean { background: #DDDD99; }\n",
       ".datatable .object  { background: #565656; }\n",
       ".datatable .integer { background: #5D9E5D; }\n",
       ".datatable .float   { background: #4040CC; }\n",
       ".datatable .string  { background: #CC4040; }\n",
       ".datatable .row_index {  background: var(--jp-border-color3);  border-right: 1px solid var(--jp-border-color0);  color: var(--jp-ui-font-color3);  font-size: 9px;}\n",
       ".datatable .frame tr.coltypes .row_index {  background: var(--jp-border-color0);}\n",
       ".datatable th:nth-child(2) { padding-left: 12px; }\n",
       ".datatable .hellipsis {  color: var(--jp-cell-editor-border-color);}\n",
       ".datatable .vellipsis {  background: var(--jp-layout-color0);  color: var(--jp-cell-editor-border-color);}\n",
       ".datatable .na {  color: var(--jp-cell-editor-border-color);  font-size: 80%;}\n",
       ".datatable .footer { font-size: 9px; }\n",
       ".datatable .frame_dimensions {  background: var(--jp-border-color3);  border-top: 1px solid var(--jp-border-color0);  color: var(--jp-ui-font-color3);  display: inline-block;  opacity: 0.6;  padding: 1px 10px 1px 5px;}\n",
       "</style>\n"
      ],
      "text/plain": [
       "<IPython.core.display.HTML object>"
      ]
     },
     "metadata": {},
     "output_type": "display_data"
    }
   ],
   "source": [
    "import tabula\n",
    "import numpy as np\n",
    "import pandas as pd\n",
    "import datatable as dt"
   ]
  },
  {
   "cell_type": "markdown",
   "metadata": {},
   "source": [
    "### Tratando a tabela de provas (cederj_prova)"
   ]
  },
  {
   "cell_type": "code",
   "execution_count": 3,
   "metadata": {},
   "outputs": [
    {
     "ename": "KeyboardInterrupt",
     "evalue": "",
     "output_type": "error",
     "traceback": [
      "\u001b[0;31m---------------------------------------------------------------------------\u001b[0m",
      "\u001b[0;31mKeyboardInterrupt\u001b[0m                         Traceback (most recent call last)",
      "\u001b[0;32m<ipython-input-3-1ce796a70a5a>\u001b[0m in \u001b[0;36m<module>\u001b[0;34m\u001b[0m\n\u001b[0;32m----> 1\u001b[0;31m \u001b[0mdf\u001b[0m \u001b[0;34m=\u001b[0m \u001b[0mtabula\u001b[0m\u001b[0;34m.\u001b[0m\u001b[0mread_pdf\u001b[0m\u001b[0;34m(\u001b[0m\u001b[0;34m\"data/cederj_prova.pdf\"\u001b[0m\u001b[0;34m,\u001b[0m \u001b[0mpages\u001b[0m\u001b[0;34m=\u001b[0m\u001b[0;34m\"all\"\u001b[0m\u001b[0;34m)\u001b[0m\u001b[0;34m\u001b[0m\u001b[0;34m\u001b[0m\u001b[0m\n\u001b[0m",
      "\u001b[0;32m~/anaconda3/lib/python3.7/site-packages/tabula/wrapper.py\u001b[0m in \u001b[0;36mread_pdf\u001b[0;34m(input_path, output_format, encoding, java_options, pandas_options, multiple_tables, user_agent, **kwargs)\u001b[0m\n\u001b[1;32m    290\u001b[0m \u001b[0;34m\u001b[0m\u001b[0m\n\u001b[1;32m    291\u001b[0m     \u001b[0;32mtry\u001b[0m\u001b[0;34m:\u001b[0m\u001b[0;34m\u001b[0m\u001b[0;34m\u001b[0m\u001b[0m\n\u001b[0;32m--> 292\u001b[0;31m         \u001b[0moutput\u001b[0m \u001b[0;34m=\u001b[0m \u001b[0m_run\u001b[0m\u001b[0;34m(\u001b[0m\u001b[0mjava_options\u001b[0m\u001b[0;34m,\u001b[0m \u001b[0mkwargs\u001b[0m\u001b[0;34m,\u001b[0m \u001b[0mpath\u001b[0m\u001b[0;34m,\u001b[0m \u001b[0mencoding\u001b[0m\u001b[0;34m)\u001b[0m\u001b[0;34m\u001b[0m\u001b[0;34m\u001b[0m\u001b[0m\n\u001b[0m\u001b[1;32m    293\u001b[0m     \u001b[0;32mfinally\u001b[0m\u001b[0;34m:\u001b[0m\u001b[0;34m\u001b[0m\u001b[0;34m\u001b[0m\u001b[0m\n\u001b[1;32m    294\u001b[0m         \u001b[0;32mif\u001b[0m \u001b[0mtemporary\u001b[0m\u001b[0;34m:\u001b[0m\u001b[0;34m\u001b[0m\u001b[0;34m\u001b[0m\u001b[0m\n",
      "\u001b[0;32m~/anaconda3/lib/python3.7/site-packages/tabula/wrapper.py\u001b[0m in \u001b[0;36m_run\u001b[0;34m(java_options, options, path, encoding)\u001b[0m\n\u001b[1;32m     83\u001b[0m             \u001b[0mstderr\u001b[0m\u001b[0;34m=\u001b[0m\u001b[0msubprocess\u001b[0m\u001b[0;34m.\u001b[0m\u001b[0mPIPE\u001b[0m\u001b[0;34m,\u001b[0m\u001b[0;34m\u001b[0m\u001b[0;34m\u001b[0m\u001b[0m\n\u001b[1;32m     84\u001b[0m             \u001b[0mstdin\u001b[0m\u001b[0;34m=\u001b[0m\u001b[0msubprocess\u001b[0m\u001b[0;34m.\u001b[0m\u001b[0mDEVNULL\u001b[0m\u001b[0;34m,\u001b[0m\u001b[0;34m\u001b[0m\u001b[0;34m\u001b[0m\u001b[0m\n\u001b[0;32m---> 85\u001b[0;31m             \u001b[0mcheck\u001b[0m\u001b[0;34m=\u001b[0m\u001b[0;32mTrue\u001b[0m\u001b[0;34m,\u001b[0m\u001b[0;34m\u001b[0m\u001b[0;34m\u001b[0m\u001b[0m\n\u001b[0m\u001b[1;32m     86\u001b[0m         )\n\u001b[1;32m     87\u001b[0m         \u001b[0;32mif\u001b[0m \u001b[0mresult\u001b[0m\u001b[0;34m.\u001b[0m\u001b[0mstderr\u001b[0m\u001b[0;34m:\u001b[0m\u001b[0;34m\u001b[0m\u001b[0;34m\u001b[0m\u001b[0m\n",
      "\u001b[0;32m~/anaconda3/lib/python3.7/subprocess.py\u001b[0m in \u001b[0;36mrun\u001b[0;34m(input, capture_output, timeout, check, *popenargs, **kwargs)\u001b[0m\n\u001b[1;32m    472\u001b[0m     \u001b[0;32mwith\u001b[0m \u001b[0mPopen\u001b[0m\u001b[0;34m(\u001b[0m\u001b[0;34m*\u001b[0m\u001b[0mpopenargs\u001b[0m\u001b[0;34m,\u001b[0m \u001b[0;34m**\u001b[0m\u001b[0mkwargs\u001b[0m\u001b[0;34m)\u001b[0m \u001b[0;32mas\u001b[0m \u001b[0mprocess\u001b[0m\u001b[0;34m:\u001b[0m\u001b[0;34m\u001b[0m\u001b[0;34m\u001b[0m\u001b[0m\n\u001b[1;32m    473\u001b[0m         \u001b[0;32mtry\u001b[0m\u001b[0;34m:\u001b[0m\u001b[0;34m\u001b[0m\u001b[0;34m\u001b[0m\u001b[0m\n\u001b[0;32m--> 474\u001b[0;31m             \u001b[0mstdout\u001b[0m\u001b[0;34m,\u001b[0m \u001b[0mstderr\u001b[0m \u001b[0;34m=\u001b[0m \u001b[0mprocess\u001b[0m\u001b[0;34m.\u001b[0m\u001b[0mcommunicate\u001b[0m\u001b[0;34m(\u001b[0m\u001b[0minput\u001b[0m\u001b[0;34m,\u001b[0m \u001b[0mtimeout\u001b[0m\u001b[0;34m=\u001b[0m\u001b[0mtimeout\u001b[0m\u001b[0;34m)\u001b[0m\u001b[0;34m\u001b[0m\u001b[0;34m\u001b[0m\u001b[0m\n\u001b[0m\u001b[1;32m    475\u001b[0m         \u001b[0;32mexcept\u001b[0m \u001b[0mTimeoutExpired\u001b[0m\u001b[0;34m:\u001b[0m\u001b[0;34m\u001b[0m\u001b[0;34m\u001b[0m\u001b[0m\n\u001b[1;32m    476\u001b[0m             \u001b[0mprocess\u001b[0m\u001b[0;34m.\u001b[0m\u001b[0mkill\u001b[0m\u001b[0;34m(\u001b[0m\u001b[0;34m)\u001b[0m\u001b[0;34m\u001b[0m\u001b[0;34m\u001b[0m\u001b[0m\n",
      "\u001b[0;32m~/anaconda3/lib/python3.7/subprocess.py\u001b[0m in \u001b[0;36mcommunicate\u001b[0;34m(self, input, timeout)\u001b[0m\n\u001b[1;32m    937\u001b[0m \u001b[0;34m\u001b[0m\u001b[0m\n\u001b[1;32m    938\u001b[0m             \u001b[0;32mtry\u001b[0m\u001b[0;34m:\u001b[0m\u001b[0;34m\u001b[0m\u001b[0;34m\u001b[0m\u001b[0m\n\u001b[0;32m--> 939\u001b[0;31m                 \u001b[0mstdout\u001b[0m\u001b[0;34m,\u001b[0m \u001b[0mstderr\u001b[0m \u001b[0;34m=\u001b[0m \u001b[0mself\u001b[0m\u001b[0;34m.\u001b[0m\u001b[0m_communicate\u001b[0m\u001b[0;34m(\u001b[0m\u001b[0minput\u001b[0m\u001b[0;34m,\u001b[0m \u001b[0mendtime\u001b[0m\u001b[0;34m,\u001b[0m \u001b[0mtimeout\u001b[0m\u001b[0;34m)\u001b[0m\u001b[0;34m\u001b[0m\u001b[0;34m\u001b[0m\u001b[0m\n\u001b[0m\u001b[1;32m    940\u001b[0m             \u001b[0;32mexcept\u001b[0m \u001b[0mKeyboardInterrupt\u001b[0m\u001b[0;34m:\u001b[0m\u001b[0;34m\u001b[0m\u001b[0;34m\u001b[0m\u001b[0m\n\u001b[1;32m    941\u001b[0m                 \u001b[0;31m# https://bugs.python.org/issue25942\u001b[0m\u001b[0;34m\u001b[0m\u001b[0;34m\u001b[0m\u001b[0;34m\u001b[0m\u001b[0m\n",
      "\u001b[0;32m~/anaconda3/lib/python3.7/subprocess.py\u001b[0m in \u001b[0;36m_communicate\u001b[0;34m(self, input, endtime, orig_timeout)\u001b[0m\n\u001b[1;32m   1679\u001b[0m                         \u001b[0;32mraise\u001b[0m \u001b[0mTimeoutExpired\u001b[0m\u001b[0;34m(\u001b[0m\u001b[0mself\u001b[0m\u001b[0;34m.\u001b[0m\u001b[0margs\u001b[0m\u001b[0;34m,\u001b[0m \u001b[0morig_timeout\u001b[0m\u001b[0;34m)\u001b[0m\u001b[0;34m\u001b[0m\u001b[0;34m\u001b[0m\u001b[0m\n\u001b[1;32m   1680\u001b[0m \u001b[0;34m\u001b[0m\u001b[0m\n\u001b[0;32m-> 1681\u001b[0;31m                     \u001b[0mready\u001b[0m \u001b[0;34m=\u001b[0m \u001b[0mselector\u001b[0m\u001b[0;34m.\u001b[0m\u001b[0mselect\u001b[0m\u001b[0;34m(\u001b[0m\u001b[0mtimeout\u001b[0m\u001b[0;34m)\u001b[0m\u001b[0;34m\u001b[0m\u001b[0;34m\u001b[0m\u001b[0m\n\u001b[0m\u001b[1;32m   1682\u001b[0m                     \u001b[0mself\u001b[0m\u001b[0;34m.\u001b[0m\u001b[0m_check_timeout\u001b[0m\u001b[0;34m(\u001b[0m\u001b[0mendtime\u001b[0m\u001b[0;34m,\u001b[0m \u001b[0morig_timeout\u001b[0m\u001b[0;34m)\u001b[0m\u001b[0;34m\u001b[0m\u001b[0;34m\u001b[0m\u001b[0m\n\u001b[1;32m   1683\u001b[0m \u001b[0;34m\u001b[0m\u001b[0m\n",
      "\u001b[0;32m~/anaconda3/lib/python3.7/selectors.py\u001b[0m in \u001b[0;36mselect\u001b[0;34m(self, timeout)\u001b[0m\n\u001b[1;32m    413\u001b[0m         \u001b[0mready\u001b[0m \u001b[0;34m=\u001b[0m \u001b[0;34m[\u001b[0m\u001b[0;34m]\u001b[0m\u001b[0;34m\u001b[0m\u001b[0;34m\u001b[0m\u001b[0m\n\u001b[1;32m    414\u001b[0m         \u001b[0;32mtry\u001b[0m\u001b[0;34m:\u001b[0m\u001b[0;34m\u001b[0m\u001b[0;34m\u001b[0m\u001b[0m\n\u001b[0;32m--> 415\u001b[0;31m             \u001b[0mfd_event_list\u001b[0m \u001b[0;34m=\u001b[0m \u001b[0mself\u001b[0m\u001b[0;34m.\u001b[0m\u001b[0m_selector\u001b[0m\u001b[0;34m.\u001b[0m\u001b[0mpoll\u001b[0m\u001b[0;34m(\u001b[0m\u001b[0mtimeout\u001b[0m\u001b[0;34m)\u001b[0m\u001b[0;34m\u001b[0m\u001b[0;34m\u001b[0m\u001b[0m\n\u001b[0m\u001b[1;32m    416\u001b[0m         \u001b[0;32mexcept\u001b[0m \u001b[0mInterruptedError\u001b[0m\u001b[0;34m:\u001b[0m\u001b[0;34m\u001b[0m\u001b[0;34m\u001b[0m\u001b[0m\n\u001b[1;32m    417\u001b[0m             \u001b[0;32mreturn\u001b[0m \u001b[0mready\u001b[0m\u001b[0;34m\u001b[0m\u001b[0;34m\u001b[0m\u001b[0m\n",
      "\u001b[0;31mKeyboardInterrupt\u001b[0m: "
     ]
    }
   ],
   "source": [
    "df = tabula.read_pdf(\"data/cederj_prova.pdf\", pages=\"all\")"
   ]
  },
  {
   "cell_type": "markdown",
   "metadata": {},
   "source": [
    "### Convertendo pdf para csv"
   ]
  },
  {
   "cell_type": "code",
   "execution_count": null,
   "metadata": {},
   "outputs": [],
   "source": [
    "tabula.convert_into(\"data/cederj_prova.pdf\", \"data/prova.csv\", output_format=\"csv\", pages=\"all\")"
   ]
  },
  {
   "cell_type": "code",
   "execution_count": null,
   "metadata": {},
   "outputs": [],
   "source": [
    "dt_prova = pd.read_csv(\"data/prova.csv\")"
   ]
  },
  {
   "cell_type": "code",
   "execution_count": null,
   "metadata": {},
   "outputs": [],
   "source": [
    "curso_polo_inst = dt_prova['CURSO, POLO E INSTITUIÇÃO']"
   ]
  },
  {
   "cell_type": "code",
   "execution_count": null,
   "metadata": {},
   "outputs": [],
   "source": [
    "curso = curso_polo_inst"
   ]
  },
  {
   "cell_type": "markdown",
   "metadata": {},
   "source": [
    "### Separando a coluna curso"
   ]
  },
  {
   "cell_type": "code",
   "execution_count": null,
   "metadata": {},
   "outputs": [],
   "source": [
    "curso = curso.str.split(\" - \", n=1, expand=True)"
   ]
  },
  {
   "cell_type": "code",
   "execution_count": null,
   "metadata": {},
   "outputs": [],
   "source": [
    "curso.rename(columns={0:\"CURSO\", 1:\"POLO E INSTITUIÇÃO\"}, inplace=True)"
   ]
  },
  {
   "cell_type": "code",
   "execution_count": null,
   "metadata": {},
   "outputs": [],
   "source": [
    "curso_1 = curso[\"CURSO\"]"
   ]
  },
  {
   "cell_type": "code",
   "execution_count": null,
   "metadata": {},
   "outputs": [],
   "source": [
    "curso_1 = curso_1.to_frame()"
   ]
  },
  {
   "cell_type": "code",
   "execution_count": null,
   "metadata": {},
   "outputs": [],
   "source": [
    "curso_1.rename(columns={0:\"CURSO\"}, inplace=True)"
   ]
  },
  {
   "cell_type": "code",
   "execution_count": null,
   "metadata": {},
   "outputs": [],
   "source": [
    "curso_1"
   ]
  },
  {
   "cell_type": "markdown",
   "metadata": {},
   "source": [
    "### Separando a coluna polo"
   ]
  },
  {
   "cell_type": "code",
   "execution_count": null,
   "metadata": {},
   "outputs": [],
   "source": [
    "polo = curso[\"POLO E INSTITUIÇÃO\"]"
   ]
  },
  {
   "cell_type": "code",
   "execution_count": null,
   "metadata": {},
   "outputs": [],
   "source": [
    "polo = polo.str.split(\"(\", n=1, expand=True)"
   ]
  },
  {
   "cell_type": "code",
   "execution_count": null,
   "metadata": {},
   "outputs": [],
   "source": [
    "polo"
   ]
  },
  {
   "cell_type": "code",
   "execution_count": null,
   "metadata": {},
   "outputs": [],
   "source": [
    "polo.rename(columns={0:\"POLO\", 1:\"INSTITUIÇÃO\"}, inplace=True)"
   ]
  },
  {
   "cell_type": "code",
   "execution_count": null,
   "metadata": {},
   "outputs": [],
   "source": [
    "polo_1 = polo[\"POLO\"]"
   ]
  },
  {
   "cell_type": "code",
   "execution_count": null,
   "metadata": {},
   "outputs": [],
   "source": [
    "polo_1 = polo_1.to_frame()"
   ]
  },
  {
   "cell_type": "code",
   "execution_count": null,
   "metadata": {},
   "outputs": [],
   "source": [
    "polo_1.rename(columns={0:\"POLO\"}, inplace=True)"
   ]
  },
  {
   "cell_type": "code",
   "execution_count": null,
   "metadata": {},
   "outputs": [],
   "source": [
    "polo_1"
   ]
  },
  {
   "cell_type": "markdown",
   "metadata": {},
   "source": [
    "### Separando a coluna instituição"
   ]
  },
  {
   "cell_type": "code",
   "execution_count": null,
   "metadata": {},
   "outputs": [],
   "source": [
    "inst = polo[\"INSTITUIÇÃO\"]"
   ]
  },
  {
   "cell_type": "code",
   "execution_count": null,
   "metadata": {},
   "outputs": [],
   "source": [
    "inst = inst.str.replace(\")\", \"\")"
   ]
  },
  {
   "cell_type": "code",
   "execution_count": null,
   "metadata": {},
   "outputs": [],
   "source": [
    "inst = inst.to_frame()"
   ]
  },
  {
   "cell_type": "code",
   "execution_count": null,
   "metadata": {},
   "outputs": [],
   "source": [
    "inst.rename(columns={0:\"INSTITUIÇÃO\"}, inplace=True)"
   ]
  },
  {
   "cell_type": "code",
   "execution_count": null,
   "metadata": {},
   "outputs": [],
   "source": [
    "inst"
   ]
  },
  {
   "cell_type": "markdown",
   "metadata": {},
   "source": [
    "### Unindo os três dataframes (curso, polo e instituição)"
   ]
  },
  {
   "cell_type": "code",
   "execution_count": null,
   "metadata": {},
   "outputs": [],
   "source": [
    "df_cederj = pd.concat([dt_prova, curso_1, polo_1, inst], axis=1)"
   ]
  },
  {
   "cell_type": "code",
   "execution_count": null,
   "metadata": {},
   "outputs": [],
   "source": [
    "df_cederj"
   ]
  },
  {
   "cell_type": "markdown",
   "metadata": {},
   "source": [
    "### Exportando o dataframe gerado"
   ]
  },
  {
   "cell_type": "code",
   "execution_count": null,
   "metadata": {},
   "outputs": [],
   "source": [
    "df_cederj.to_csv(\"data/prova_1.csv\")"
   ]
  },
  {
   "cell_type": "markdown",
   "metadata": {},
   "source": [
    "### Importando o 'csv' criado"
   ]
  },
  {
   "cell_type": "code",
   "execution_count": 8,
   "metadata": {},
   "outputs": [],
   "source": [
    "dt_cederj = pd.read_csv(\"data/prova_1.csv\")"
   ]
  },
  {
   "cell_type": "code",
   "execution_count": 17,
   "metadata": {},
   "outputs": [
    {
     "data": {
      "text/html": [
       "<div>\n",
       "<style scoped>\n",
       "    .dataframe tbody tr th:only-of-type {\n",
       "        vertical-align: middle;\n",
       "    }\n",
       "\n",
       "    .dataframe tbody tr th {\n",
       "        vertical-align: top;\n",
       "    }\n",
       "\n",
       "    .dataframe thead th {\n",
       "        text-align: right;\n",
       "    }\n",
       "</style>\n",
       "<table border=\"1\" class=\"dataframe\">\n",
       "  <thead>\n",
       "    <tr style=\"text-align: right;\">\n",
       "      <th></th>\n",
       "      <th>Unnamed: 0</th>\n",
       "      <th>NOME</th>\n",
       "      <th>INSCRIÇÃO</th>\n",
       "      <th>NOTA</th>\n",
       "      <th>SITUAÇÃO</th>\n",
       "      <th>CURSO</th>\n",
       "      <th>POLO</th>\n",
       "      <th>INSTITUIÇÃO</th>\n",
       "    </tr>\n",
       "  </thead>\n",
       "  <tbody>\n",
       "    <tr>\n",
       "      <td>0</td>\n",
       "      <td>0</td>\n",
       "      <td>AARADELFA EDELSZTEIN E WREDE</td>\n",
       "      <td>0012749</td>\n",
       "      <td>80,0</td>\n",
       "      <td>HABILITADO CORREÇÃO REDAÇÃO</td>\n",
       "      <td>Pedagogia</td>\n",
       "      <td>Nova Friburgo</td>\n",
       "      <td>UERJ</td>\n",
       "    </tr>\n",
       "  </tbody>\n",
       "</table>\n",
       "</div>"
      ],
      "text/plain": [
       "   Unnamed: 0                          NOME INSCRIÇÃO  NOTA  \\\n",
       "0           0  AARADELFA EDELSZTEIN E WREDE   0012749  80,0   \n",
       "\n",
       "                      SITUAÇÃO      CURSO            POLO INSTITUIÇÃO  \n",
       "0  HABILITADO CORREÇÃO REDAÇÃO  Pedagogia  Nova Friburgo         UERJ  "
      ]
     },
     "execution_count": 17,
     "metadata": {},
     "output_type": "execute_result"
    }
   ],
   "source": [
    "dt_cederj.head(1)"
   ]
  },
  {
   "cell_type": "code",
   "execution_count": 11,
   "metadata": {},
   "outputs": [
    {
     "data": {
      "text/html": [
       "<div>\n",
       "<style scoped>\n",
       "    .dataframe tbody tr th:only-of-type {\n",
       "        vertical-align: middle;\n",
       "    }\n",
       "\n",
       "    .dataframe tbody tr th {\n",
       "        vertical-align: top;\n",
       "    }\n",
       "\n",
       "    .dataframe thead th {\n",
       "        text-align: right;\n",
       "    }\n",
       "</style>\n",
       "<table border=\"1\" class=\"dataframe\">\n",
       "  <thead>\n",
       "    <tr style=\"text-align: right;\">\n",
       "      <th></th>\n",
       "      <th>Unnamed: 0</th>\n",
       "      <th>NOME</th>\n",
       "      <th>CURSO, POLO E INSTITUIÇÃO</th>\n",
       "      <th>INSCRIÇÃO</th>\n",
       "      <th>NOTA</th>\n",
       "      <th>SITUAÇÃO</th>\n",
       "      <th>CURSO</th>\n",
       "      <th>POLO</th>\n",
       "      <th>INSTITUIÇÃO</th>\n",
       "    </tr>\n",
       "  </thead>\n",
       "  <tbody>\n",
       "    <tr>\n",
       "      <td>55</td>\n",
       "      <td>55</td>\n",
       "      <td>NOME</td>\n",
       "      <td>CURSO, POLO E INSTITUIÇÃO</td>\n",
       "      <td>INSCRIÇÃO</td>\n",
       "      <td>NOTA</td>\n",
       "      <td>SITUAÇÃO</td>\n",
       "      <td>CURSO, POLO E INSTITUIÇÃO</td>\n",
       "      <td>NaN</td>\n",
       "      <td>NaN</td>\n",
       "    </tr>\n",
       "    <tr>\n",
       "      <td>111</td>\n",
       "      <td>111</td>\n",
       "      <td>NOME</td>\n",
       "      <td>CURSO, POLO E INSTITUIÇÃO</td>\n",
       "      <td>INSCRIÇÃO</td>\n",
       "      <td>NOTA</td>\n",
       "      <td>SITUAÇÃO</td>\n",
       "      <td>CURSO, POLO E INSTITUIÇÃO</td>\n",
       "      <td>NaN</td>\n",
       "      <td>NaN</td>\n",
       "    </tr>\n",
       "    <tr>\n",
       "      <td>167</td>\n",
       "      <td>167</td>\n",
       "      <td>NOME</td>\n",
       "      <td>CURSO, POLO E INSTITUIÇÃO</td>\n",
       "      <td>INSCRIÇÃO</td>\n",
       "      <td>NOTA</td>\n",
       "      <td>SITUAÇÃO</td>\n",
       "      <td>CURSO, POLO E INSTITUIÇÃO</td>\n",
       "      <td>NaN</td>\n",
       "      <td>NaN</td>\n",
       "    </tr>\n",
       "    <tr>\n",
       "      <td>223</td>\n",
       "      <td>223</td>\n",
       "      <td>NOME</td>\n",
       "      <td>CURSO, POLO E INSTITUIÇÃO</td>\n",
       "      <td>INSCRIÇÃO</td>\n",
       "      <td>NOTA</td>\n",
       "      <td>SITUAÇÃO</td>\n",
       "      <td>CURSO, POLO E INSTITUIÇÃO</td>\n",
       "      <td>NaN</td>\n",
       "      <td>NaN</td>\n",
       "    </tr>\n",
       "    <tr>\n",
       "      <td>279</td>\n",
       "      <td>279</td>\n",
       "      <td>NOME</td>\n",
       "      <td>CURSO, POLO E INSTITUIÇÃO</td>\n",
       "      <td>INSCRIÇÃO</td>\n",
       "      <td>NOTA</td>\n",
       "      <td>SITUAÇÃO</td>\n",
       "      <td>CURSO, POLO E INSTITUIÇÃO</td>\n",
       "      <td>NaN</td>\n",
       "      <td>NaN</td>\n",
       "    </tr>\n",
       "    <tr>\n",
       "      <td>...</td>\n",
       "      <td>...</td>\n",
       "      <td>...</td>\n",
       "      <td>...</td>\n",
       "      <td>...</td>\n",
       "      <td>...</td>\n",
       "      <td>...</td>\n",
       "      <td>...</td>\n",
       "      <td>...</td>\n",
       "      <td>...</td>\n",
       "    </tr>\n",
       "    <tr>\n",
       "      <td>21951</td>\n",
       "      <td>21951</td>\n",
       "      <td>NOME</td>\n",
       "      <td>CURSO, POLO E INSTITUIÇÃO</td>\n",
       "      <td>INSCRIÇÃO</td>\n",
       "      <td>NOTA</td>\n",
       "      <td>SITUAÇÃO</td>\n",
       "      <td>CURSO, POLO E INSTITUIÇÃO</td>\n",
       "      <td>NaN</td>\n",
       "      <td>NaN</td>\n",
       "    </tr>\n",
       "    <tr>\n",
       "      <td>22007</td>\n",
       "      <td>22007</td>\n",
       "      <td>NOME</td>\n",
       "      <td>CURSO, POLO E INSTITUIÇÃO</td>\n",
       "      <td>INSCRIÇÃO</td>\n",
       "      <td>NOTA</td>\n",
       "      <td>SITUAÇÃO</td>\n",
       "      <td>CURSO, POLO E INSTITUIÇÃO</td>\n",
       "      <td>NaN</td>\n",
       "      <td>NaN</td>\n",
       "    </tr>\n",
       "    <tr>\n",
       "      <td>22063</td>\n",
       "      <td>22063</td>\n",
       "      <td>NOME</td>\n",
       "      <td>CURSO, POLO E INSTITUIÇÃO</td>\n",
       "      <td>INSCRIÇÃO</td>\n",
       "      <td>NOTA</td>\n",
       "      <td>SITUAÇÃO</td>\n",
       "      <td>CURSO, POLO E INSTITUIÇÃO</td>\n",
       "      <td>NaN</td>\n",
       "      <td>NaN</td>\n",
       "    </tr>\n",
       "    <tr>\n",
       "      <td>22119</td>\n",
       "      <td>22119</td>\n",
       "      <td>NOME</td>\n",
       "      <td>CURSO, POLO E INSTITUIÇÃO</td>\n",
       "      <td>INSCRIÇÃO</td>\n",
       "      <td>NOTA</td>\n",
       "      <td>SITUAÇÃO</td>\n",
       "      <td>CURSO, POLO E INSTITUIÇÃO</td>\n",
       "      <td>NaN</td>\n",
       "      <td>NaN</td>\n",
       "    </tr>\n",
       "    <tr>\n",
       "      <td>22175</td>\n",
       "      <td>22175</td>\n",
       "      <td>NOME</td>\n",
       "      <td>CURSO, POLO E INSTITUIÇÃO</td>\n",
       "      <td>INSCRIÇÃO</td>\n",
       "      <td>NOTA</td>\n",
       "      <td>SITUAÇÃO</td>\n",
       "      <td>CURSO, POLO E INSTITUIÇÃO</td>\n",
       "      <td>NaN</td>\n",
       "      <td>NaN</td>\n",
       "    </tr>\n",
       "  </tbody>\n",
       "</table>\n",
       "<p>395 rows × 9 columns</p>\n",
       "</div>"
      ],
      "text/plain": [
       "       Unnamed: 0  NOME  CURSO, POLO E INSTITUIÇÃO  INSCRIÇÃO  NOTA  SITUAÇÃO  \\\n",
       "55             55  NOME  CURSO, POLO E INSTITUIÇÃO  INSCRIÇÃO  NOTA  SITUAÇÃO   \n",
       "111           111  NOME  CURSO, POLO E INSTITUIÇÃO  INSCRIÇÃO  NOTA  SITUAÇÃO   \n",
       "167           167  NOME  CURSO, POLO E INSTITUIÇÃO  INSCRIÇÃO  NOTA  SITUAÇÃO   \n",
       "223           223  NOME  CURSO, POLO E INSTITUIÇÃO  INSCRIÇÃO  NOTA  SITUAÇÃO   \n",
       "279           279  NOME  CURSO, POLO E INSTITUIÇÃO  INSCRIÇÃO  NOTA  SITUAÇÃO   \n",
       "...           ...   ...                        ...        ...   ...       ...   \n",
       "21951       21951  NOME  CURSO, POLO E INSTITUIÇÃO  INSCRIÇÃO  NOTA  SITUAÇÃO   \n",
       "22007       22007  NOME  CURSO, POLO E INSTITUIÇÃO  INSCRIÇÃO  NOTA  SITUAÇÃO   \n",
       "22063       22063  NOME  CURSO, POLO E INSTITUIÇÃO  INSCRIÇÃO  NOTA  SITUAÇÃO   \n",
       "22119       22119  NOME  CURSO, POLO E INSTITUIÇÃO  INSCRIÇÃO  NOTA  SITUAÇÃO   \n",
       "22175       22175  NOME  CURSO, POLO E INSTITUIÇÃO  INSCRIÇÃO  NOTA  SITUAÇÃO   \n",
       "\n",
       "                           CURSO POLO INSTITUIÇÃO  \n",
       "55     CURSO, POLO E INSTITUIÇÃO  NaN         NaN  \n",
       "111    CURSO, POLO E INSTITUIÇÃO  NaN         NaN  \n",
       "167    CURSO, POLO E INSTITUIÇÃO  NaN         NaN  \n",
       "223    CURSO, POLO E INSTITUIÇÃO  NaN         NaN  \n",
       "279    CURSO, POLO E INSTITUIÇÃO  NaN         NaN  \n",
       "...                          ...  ...         ...  \n",
       "21951  CURSO, POLO E INSTITUIÇÃO  NaN         NaN  \n",
       "22007  CURSO, POLO E INSTITUIÇÃO  NaN         NaN  \n",
       "22063  CURSO, POLO E INSTITUIÇÃO  NaN         NaN  \n",
       "22119  CURSO, POLO E INSTITUIÇÃO  NaN         NaN  \n",
       "22175  CURSO, POLO E INSTITUIÇÃO  NaN         NaN  \n",
       "\n",
       "[395 rows x 9 columns]"
      ]
     },
     "execution_count": 11,
     "metadata": {},
     "output_type": "execute_result"
    }
   ],
   "source": [
    "dt_cederj.loc[dt_cederj.NOME == 'NOME']"
   ]
  },
  {
   "cell_type": "markdown",
   "metadata": {},
   "source": [
    "### Removendo a coluna 'CURSO, POLO E INSTITUIÇÃO'"
   ]
  },
  {
   "cell_type": "code",
   "execution_count": 14,
   "metadata": {},
   "outputs": [],
   "source": [
    "dt_cederj = dt_cederj.drop(columns = [\"CURSO, POLO E INSTITUIÇÃO\"])"
   ]
  },
  {
   "cell_type": "code",
   "execution_count": 18,
   "metadata": {},
   "outputs": [
    {
     "data": {
      "text/html": [
       "<div>\n",
       "<style scoped>\n",
       "    .dataframe tbody tr th:only-of-type {\n",
       "        vertical-align: middle;\n",
       "    }\n",
       "\n",
       "    .dataframe tbody tr th {\n",
       "        vertical-align: top;\n",
       "    }\n",
       "\n",
       "    .dataframe thead th {\n",
       "        text-align: right;\n",
       "    }\n",
       "</style>\n",
       "<table border=\"1\" class=\"dataframe\">\n",
       "  <thead>\n",
       "    <tr style=\"text-align: right;\">\n",
       "      <th></th>\n",
       "      <th>Unnamed: 0</th>\n",
       "      <th>NOME</th>\n",
       "      <th>INSCRIÇÃO</th>\n",
       "      <th>NOTA</th>\n",
       "      <th>SITUAÇÃO</th>\n",
       "      <th>CURSO</th>\n",
       "      <th>POLO</th>\n",
       "      <th>INSTITUIÇÃO</th>\n",
       "    </tr>\n",
       "  </thead>\n",
       "  <tbody>\n",
       "    <tr>\n",
       "      <td>0</td>\n",
       "      <td>0</td>\n",
       "      <td>AARADELFA EDELSZTEIN E WREDE</td>\n",
       "      <td>0012749</td>\n",
       "      <td>80,0</td>\n",
       "      <td>HABILITADO CORREÇÃO REDAÇÃO</td>\n",
       "      <td>Pedagogia</td>\n",
       "      <td>Nova Friburgo</td>\n",
       "      <td>UERJ</td>\n",
       "    </tr>\n",
       "  </tbody>\n",
       "</table>\n",
       "</div>"
      ],
      "text/plain": [
       "   Unnamed: 0                          NOME INSCRIÇÃO  NOTA  \\\n",
       "0           0  AARADELFA EDELSZTEIN E WREDE   0012749  80,0   \n",
       "\n",
       "                      SITUAÇÃO      CURSO            POLO INSTITUIÇÃO  \n",
       "0  HABILITADO CORREÇÃO REDAÇÃO  Pedagogia  Nova Friburgo         UERJ  "
      ]
     },
     "execution_count": 18,
     "metadata": {},
     "output_type": "execute_result"
    }
   ],
   "source": [
    "dt_cederj.head(1)"
   ]
  },
  {
   "cell_type": "markdown",
   "metadata": {},
   "source": [
    "### Renomeando a coluna ID"
   ]
  },
  {
   "cell_type": "code",
   "execution_count": 31,
   "metadata": {},
   "outputs": [],
   "source": [
    "dt_cederj.rename(columns={'Unnamed: 0':'ID'}, inplace=True)"
   ]
  },
  {
   "cell_type": "code",
   "execution_count": 32,
   "metadata": {},
   "outputs": [
    {
     "data": {
      "text/html": [
       "<div>\n",
       "<style scoped>\n",
       "    .dataframe tbody tr th:only-of-type {\n",
       "        vertical-align: middle;\n",
       "    }\n",
       "\n",
       "    .dataframe tbody tr th {\n",
       "        vertical-align: top;\n",
       "    }\n",
       "\n",
       "    .dataframe thead th {\n",
       "        text-align: right;\n",
       "    }\n",
       "</style>\n",
       "<table border=\"1\" class=\"dataframe\">\n",
       "  <thead>\n",
       "    <tr style=\"text-align: right;\">\n",
       "      <th></th>\n",
       "      <th>ID</th>\n",
       "      <th>NOME</th>\n",
       "      <th>INSCRIÇÃO</th>\n",
       "      <th>NOTA</th>\n",
       "      <th>SITUAÇÃO</th>\n",
       "      <th>CURSO</th>\n",
       "      <th>POLO</th>\n",
       "      <th>INSTITUIÇÃO</th>\n",
       "    </tr>\n",
       "  </thead>\n",
       "  <tbody>\n",
       "    <tr>\n",
       "      <td>0</td>\n",
       "      <td>0</td>\n",
       "      <td>AARADELFA EDELSZTEIN E WREDE</td>\n",
       "      <td>0012749</td>\n",
       "      <td>80,0</td>\n",
       "      <td>HABILITADO CORREÇÃO REDAÇÃO</td>\n",
       "      <td>Pedagogia</td>\n",
       "      <td>Nova Friburgo</td>\n",
       "      <td>UERJ</td>\n",
       "    </tr>\n",
       "    <tr>\n",
       "      <td>1</td>\n",
       "      <td>1</td>\n",
       "      <td>ABEL DE OLIVEIRA ANDRADE</td>\n",
       "      <td>0047786</td>\n",
       "      <td>61,5</td>\n",
       "      <td>ELIMINADO - ITEM 6.2 DO EDITAL</td>\n",
       "      <td>Engenharia de Produção</td>\n",
       "      <td>São Gonçalo</td>\n",
       "      <td>UFF</td>\n",
       "    </tr>\n",
       "    <tr>\n",
       "      <td>2</td>\n",
       "      <td>2</td>\n",
       "      <td>ABEL NASCIMENTO JUNIOR</td>\n",
       "      <td>0050580</td>\n",
       "      <td>98,0</td>\n",
       "      <td>HABILITADO CORREÇÃO REDAÇÃO</td>\n",
       "      <td>Turismo</td>\n",
       "      <td>São Gonçalo</td>\n",
       "      <td>UFRRJ</td>\n",
       "    </tr>\n",
       "    <tr>\n",
       "      <td>3</td>\n",
       "      <td>3</td>\n",
       "      <td>ABNER BATISTA SILVA</td>\n",
       "      <td>0034822</td>\n",
       "      <td>49,0</td>\n",
       "      <td>HABILITADO CORREÇÃO REDAÇÃO</td>\n",
       "      <td>Administração</td>\n",
       "      <td>Resende</td>\n",
       "      <td>UFRRJ</td>\n",
       "    </tr>\n",
       "    <tr>\n",
       "      <td>4</td>\n",
       "      <td>4</td>\n",
       "      <td>ABNER LEANDRO DIAS DOS SANTOS</td>\n",
       "      <td>0025002</td>\n",
       "      <td>103,5</td>\n",
       "      <td>HABILITADO CORREÇÃO REDAÇÃO</td>\n",
       "      <td>Administração Pública</td>\n",
       "      <td>Nova Iguaçu</td>\n",
       "      <td>UFF</td>\n",
       "    </tr>\n",
       "    <tr>\n",
       "      <td>...</td>\n",
       "      <td>...</td>\n",
       "      <td>...</td>\n",
       "      <td>...</td>\n",
       "      <td>...</td>\n",
       "      <td>...</td>\n",
       "      <td>...</td>\n",
       "      <td>...</td>\n",
       "      <td>...</td>\n",
       "    </tr>\n",
       "    <tr>\n",
       "      <td>22197</td>\n",
       "      <td>22197</td>\n",
       "      <td>ZILMA RIBEIRO</td>\n",
       "      <td>0044497</td>\n",
       "      <td>63,0</td>\n",
       "      <td>ELIMINADO - ITEM 6.2 DO EDITAL</td>\n",
       "      <td>Pedagogia</td>\n",
       "      <td>Nova Iguaçu</td>\n",
       "      <td>UERJ</td>\n",
       "    </tr>\n",
       "    <tr>\n",
       "      <td>22198</td>\n",
       "      <td>22198</td>\n",
       "      <td>ZILO DUTRA DE MORAIS</td>\n",
       "      <td>0056744</td>\n",
       "      <td>NaN</td>\n",
       "      <td>ELIMINADO - FALTOSO</td>\n",
       "      <td>Matemática</td>\n",
       "      <td>Nova Iguaçu</td>\n",
       "      <td>UFF</td>\n",
       "    </tr>\n",
       "    <tr>\n",
       "      <td>22199</td>\n",
       "      <td>22199</td>\n",
       "      <td>ZÍNGARA DE LUZIDES MACHADO BOMFIM</td>\n",
       "      <td>0019253</td>\n",
       "      <td>102,5</td>\n",
       "      <td>HABILITADO CORREÇÃO REDAÇÃO</td>\n",
       "      <td>Ciências Biológicas</td>\n",
       "      <td>Nova Iguaçu</td>\n",
       "      <td>UFRJ</td>\n",
       "    </tr>\n",
       "    <tr>\n",
       "      <td>22200</td>\n",
       "      <td>22200</td>\n",
       "      <td>ZORIVALDO BASTOS BRANDÃO SOUZA</td>\n",
       "      <td>0043888</td>\n",
       "      <td>NaN</td>\n",
       "      <td>ELIMINADO - FALTOSO</td>\n",
       "      <td>Matemática</td>\n",
       "      <td>Campo Grande</td>\n",
       "      <td>UFF</td>\n",
       "    </tr>\n",
       "    <tr>\n",
       "      <td>22201</td>\n",
       "      <td>22201</td>\n",
       "      <td>ZULEICA PORTES MACHADO</td>\n",
       "      <td>0022963</td>\n",
       "      <td>60,0</td>\n",
       "      <td>HABILITADO CORREÇÃO REDAÇÃO</td>\n",
       "      <td>Pedagogia</td>\n",
       "      <td>Miguel Pereira</td>\n",
       "      <td>UNIRIO</td>\n",
       "    </tr>\n",
       "  </tbody>\n",
       "</table>\n",
       "<p>22202 rows × 8 columns</p>\n",
       "</div>"
      ],
      "text/plain": [
       "          ID                               NOME INSCRIÇÃO   NOTA  \\\n",
       "0          0       AARADELFA EDELSZTEIN E WREDE   0012749   80,0   \n",
       "1          1           ABEL DE OLIVEIRA ANDRADE   0047786   61,5   \n",
       "2          2             ABEL NASCIMENTO JUNIOR   0050580   98,0   \n",
       "3          3                ABNER BATISTA SILVA   0034822   49,0   \n",
       "4          4      ABNER LEANDRO DIAS DOS SANTOS   0025002  103,5   \n",
       "...      ...                                ...       ...    ...   \n",
       "22197  22197                      ZILMA RIBEIRO   0044497   63,0   \n",
       "22198  22198               ZILO DUTRA DE MORAIS   0056744    NaN   \n",
       "22199  22199  ZÍNGARA DE LUZIDES MACHADO BOMFIM   0019253  102,5   \n",
       "22200  22200     ZORIVALDO BASTOS BRANDÃO SOUZA   0043888    NaN   \n",
       "22201  22201             ZULEICA PORTES MACHADO   0022963   60,0   \n",
       "\n",
       "                             SITUAÇÃO                   CURSO  \\\n",
       "0         HABILITADO CORREÇÃO REDAÇÃO               Pedagogia   \n",
       "1      ELIMINADO - ITEM 6.2 DO EDITAL  Engenharia de Produção   \n",
       "2         HABILITADO CORREÇÃO REDAÇÃO                 Turismo   \n",
       "3         HABILITADO CORREÇÃO REDAÇÃO           Administração   \n",
       "4         HABILITADO CORREÇÃO REDAÇÃO   Administração Pública   \n",
       "...                               ...                     ...   \n",
       "22197  ELIMINADO - ITEM 6.2 DO EDITAL               Pedagogia   \n",
       "22198             ELIMINADO - FALTOSO              Matemática   \n",
       "22199     HABILITADO CORREÇÃO REDAÇÃO     Ciências Biológicas   \n",
       "22200             ELIMINADO - FALTOSO              Matemática   \n",
       "22201     HABILITADO CORREÇÃO REDAÇÃO               Pedagogia   \n",
       "\n",
       "                  POLO INSTITUIÇÃO  \n",
       "0       Nova Friburgo         UERJ  \n",
       "1         São Gonçalo          UFF  \n",
       "2         São Gonçalo        UFRRJ  \n",
       "3             Resende        UFRRJ  \n",
       "4         Nova Iguaçu          UFF  \n",
       "...                ...         ...  \n",
       "22197     Nova Iguaçu         UERJ  \n",
       "22198     Nova Iguaçu          UFF  \n",
       "22199     Nova Iguaçu         UFRJ  \n",
       "22200    Campo Grande          UFF  \n",
       "22201  Miguel Pereira       UNIRIO  \n",
       "\n",
       "[22202 rows x 8 columns]"
      ]
     },
     "execution_count": 32,
     "metadata": {},
     "output_type": "execute_result"
    }
   ],
   "source": [
    "dt_cederj"
   ]
  },
  {
   "cell_type": "markdown",
   "metadata": {},
   "source": [
    "### Exportando o dataframe gerado"
   ]
  },
  {
   "cell_type": "code",
   "execution_count": 33,
   "metadata": {},
   "outputs": [],
   "source": [
    "dt_cederj.to_csv(\"data/prova_1.csv\")"
   ]
  },
  {
   "cell_type": "markdown",
   "metadata": {},
   "source": [
    "### Removendo as linhas com o valor igual a 'NOME'"
   ]
  },
  {
   "cell_type": "code",
   "execution_count": 36,
   "metadata": {},
   "outputs": [],
   "source": [
    "dt_cederj = dt_cederj.loc[dt_cederj.NOME != 'NOME']"
   ]
  },
  {
   "cell_type": "markdown",
   "metadata": {},
   "source": [
    "### Exportando o dataframe gerado"
   ]
  },
  {
   "cell_type": "code",
   "execution_count": 38,
   "metadata": {},
   "outputs": [],
   "source": [
    "dt_cederj.to_csv(\"data/prova_1.csv\")"
   ]
  },
  {
   "cell_type": "code",
   "execution_count": 41,
   "metadata": {},
   "outputs": [
    {
     "data": {
      "text/plain": [
       "Index(['ID', 'NOME', 'INSCRIÇÃO', 'NOTA', 'SITUAÇÃO', 'CURSO', 'POLO',\n",
       "       'INSTITUIÇÃO'],\n",
       "      dtype='object')"
      ]
     },
     "execution_count": 41,
     "metadata": {},
     "output_type": "execute_result"
    }
   ],
   "source": [
    "dt_cederj.columns"
   ]
  },
  {
   "cell_type": "code",
   "execution_count": null,
   "metadata": {},
   "outputs": [],
   "source": []
  }
 ],
 "metadata": {
  "kernelspec": {
   "display_name": "Python 3",
   "language": "python",
   "name": "python3"
  },
  "language_info": {
   "codemirror_mode": {
    "name": "ipython",
    "version": 3
   },
   "file_extension": ".py",
   "mimetype": "text/x-python",
   "name": "python",
   "nbconvert_exporter": "python",
   "pygments_lexer": "ipython3",
   "version": "3.7.4"
  }
 },
 "nbformat": 4,
 "nbformat_minor": 2
}
